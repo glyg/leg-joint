{
 "metadata": {
  "name": "division"
 }, 
 "nbformat": 2, 
 "worksheets": [
  {
   "cells": [
    {
     "cell_type": "code", 
     "collapsed": false, 
     "input": [
      "from dynamics import Epithelium", 
      "eptm = Epithelium(paramfile='default/few_big_cells.xml')"
     ], 
     "language": "python", 
     "outputs": [], 
     "prompt_number": 7
    }, 
    {
     "cell_type": "code", 
     "collapsed": true, 
     "input": [
      "%run graph_representation.py"
     ], 
     "language": "python", 
     "outputs": [], 
     "prompt_number": 8
    }, 
    {
     "cell_type": "code", 
     "collapsed": false, 
     "input": [
      "mother_cell = eptm.graph.vertex(21)", 
      "eptm.set_local_mask(mother_cell)", 
      "fig, ax = plt.subplots(1,1)", 
      "plot_cells_sz(eptm, ax, vfilt=eptm.is_local_vert, efilt=None)", 
      "fig, ax = plt.subplots(1,1)", 
      "j= eptm.cell_division(mother_cell)", 
      "plot_cells_sz(eptm, ax, vfilt=eptm.is_local_vert, efilt=None)", 
      "#print j"
     ], 
     "language": "python", 
     "outputs": [], 
     "prompt_number": 9
    }, 
    {
     "cell_type": "code", 
     "collapsed": false, 
     "input": [
      "jv0, jv1, mother_cell, daughter_cell = j"
     ], 
     "language": "python", 
     "outputs": [], 
     "prompt_number": 10
    }, 
    {
     "cell_type": "code", 
     "collapsed": true, 
     "input": [], 
     "language": "python", 
     "outputs": [], 
     "prompt_number": 10
    }
   ]
  }
 ]
}