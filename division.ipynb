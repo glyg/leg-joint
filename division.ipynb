{
 "metadata": {
  "name": "division"
 }, 
 "nbformat": 2, 
 "worksheets": [
  {
   "cells": [
    {
     "cell_type": "code", 
     "collapsed": false, 
     "input": [
      "from dynamics import Epithelium", 
      "eptm = Epithelium(paramfile='default/few_big_cells.xml')"
     ], 
     "language": "python", 
     "outputs": [
      {
       "output_type": "stream", 
       "stream": "stdout", 
       "text": [
        "2 triangles were dropped", 
        "2 junction edges were dropped"
       ]
      }, 
      {
       "output_type": "stream", 
       "stream": "stdout", 
       "text": [
        "", 
        "Scaling all the distances by a factor 0.777"
       ]
      }, 
      {
       "output_type": "stream", 
       "stream": "stdout", 
       "text": [
        ""
       ]
      }
     ], 
     "prompt_number": 1
    }, 
    {
     "cell_type": "code", 
     "collapsed": true, 
     "input": [
      "%run graph_representation.py"
     ], 
     "language": "python", 
     "outputs": [], 
     "prompt_number": 2
    }, 
    {
     "cell_type": "code", 
     "collapsed": false, 
     "input": [
      "eptm.set_local_mask(None)", 
      "mother_cell = eptm.graph.vertex(8)", 
      "eptm.cells.prefered_area[mother_cell] /= 2.", 
      "eptm.cells.contractilities[mother_cell] /= 2.", 
      "", 
      "eptm.set_local_mask(mother_cell)", 
      "fig, axes = plt.subplots(2,1)", 
      "plot_cells_sz(eptm, axes[0], vfilt=eptm.is_local_vert,", 
      "              efilt=eptm.is_local_edge)", 
      "j= eptm.cell_division(mother_cell, verbose=True)", 
      "jv0, jv1, mother_cell, daughter_cell = j", 
      "plot_cells_sz(eptm, axes[1], vfilt=eptm.is_local_vert,", 
      "              efilt=eptm.is_local_edge)", 
      "#print j"
     ], 
     "language": "python", 
     "outputs": [
      {
       "output_type": "stream", 
       "stream": "stdout", 
       "text": [
        "Cell 252 is born"
       ]
      }, 
      {
       "output_type": "pyout", 
       "prompt_number": 3, 
       "text": [
        "<matplotlib.axes.AxesSubplot at 0xa8aa38c>"
       ]
      }
     ], 
     "prompt_number": 3
    }, 
    {
     "cell_type": "code", 
     "collapsed": false, 
     "input": [
      "eptm.update_gradient(vfilt=eptm.is_local_vert,", 
      "                     efilt=eptm.is_local_edge)", 
      "plot_gradients(eptm, axes[1])"
     ], 
     "language": "python", 
     "outputs": [
      {
       "output_type": "pyout", 
       "prompt_number": 4, 
       "text": [
        "<matplotlib.axes.AxesSubplot at 0xa8aa38c>"
       ]
      }
     ], 
     "prompt_number": 4
    }, 
    {
     "cell_type": "code", 
     "collapsed": false, 
     "input": [
      "pos0, pos1 = eptm.find_energy_min(tol=1e-8)"
     ], 
     "language": "python", 
     "outputs": [
      {
       "output_type": "stream", 
       "stream": "stdout", 
       "text": [
        "(8, 2)"
       ]
      }
     ], 
     "prompt_number": 5
    }, 
    {
     "cell_type": "code", 
     "collapsed": false, 
     "input": [
      "axes[1].cla()", 
      "plot_cells_sz(eptm, axes[1], vfilt=eptm.is_local_vert,", 
      "              efilt=eptm.is_local_edge)"
     ], 
     "language": "python", 
     "outputs": [
      {
       "output_type": "pyout", 
       "prompt_number": 6, 
       "text": [
        "<matplotlib.axes.AxesSubplot at 0xa8aa38c>"
       ]
      }
     ], 
     "prompt_number": 6
    }, 
    {
     "cell_type": "code", 
     "collapsed": true, 
     "input": [
      "eptm.graph.set_edge_filter(eptm.is_local_edge)", 
      "h = plot(eptm.dsigmas.fa, eptm.dzeds.fa, 'o')"
     ], 
     "language": "python", 
     "outputs": [], 
     "prompt_number": 15
    }, 
    {
     "cell_type": "code", 
     "collapsed": false, 
     "input": [
      "daughter_cell"
     ], 
     "language": "python", 
     "outputs": [
      {
       "output_type": "pyout", 
       "prompt_number": 11, 
       "text": [
        "<Vertex object with index '255' at 0xa468e2c>"
       ]
      }
     ], 
     "prompt_number": 11
    }, 
    {
     "cell_type": "code", 
     "collapsed": false, 
     "input": [
      "epithelium_draw(eptm)"
     ], 
     "language": "python", 
     "outputs": [
      {
       "output_type": "stream", 
       "stream": "stdout", 
       "text": [
        "237", 
        "237", 
        "237", 
        "492"
       ]
      }
     ], 
     "prompt_number": 7
    }, 
    {
     "cell_type": "code", 
     "collapsed": true, 
     "input": [], 
     "language": "python", 
     "outputs": []
    }
   ]
  }
 ]
}