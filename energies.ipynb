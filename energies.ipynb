{
 "metadata": {
  "name": "energies"
 }, 
 "nbformat": 2, 
 "worksheets": [
  {
   "cells": [
    {
     "cell_type": "code", 
     "collapsed": false, 
     "input": [
      "from dynamics import Epithelium", 
      "eptm = Epithelium(paramfile='default/few_big_cells.xml')", 
      "#eptm.graph.list_properties()"
     ], 
     "language": "python", 
     "outputs": [], 
     "prompt_number": 1
    }, 
    {
     "cell_type": "code", 
     "collapsed": false, 
     "input": [
      "%run graph_representation.py", 
      "#fig, ax = plt.subplots(1,1)", 
      "#plot_cells_sz(eptm, ax, efilt=None)"
     ], 
     "language": "python", 
     "outputs": [], 
     "prompt_number": 2
    }, 
    {
     "cell_type": "code", 
     "collapsed": false, 
     "input": [
      "cell = eptm.graph.vertex(15)", 
      "eptm.set_local_mask(cell)", 
      "eptm.update_apical_geom(vfilt=eptm.is_local_vert)", 
      "eptm.update_gradient(vfilt=eptm.is_local_vert)", 
      "ax = plot_cells_sz(eptm, ax=None,", 
      "                   vfilt=eptm.is_local_vert,", 
      "                   efilt=eptm.is_local_edge)", 
      "ax = plot_gradients(eptm, ax, scale=0.1)"
     ], 
     "language": "python", 
     "outputs": [], 
     "prompt_number": 3
    }, 
    {
     "cell_type": "code", 
     "collapsed": false, 
     "input": [
      "pos0, pos1 = eptm.find_energy_min(tol=1e-2)"
     ], 
     "language": "python", 
     "outputs": [], 
     "prompt_number": 4
    }, 
    {
     "cell_type": "code", 
     "collapsed": false, 
     "input": [
      "ax = plot_cells_sz(eptm, ax, ", 
      "                   vfilt=eptm.is_local_vert,", 
      "                   efilt=eptm.is_local_edge)", 
      "ax = plot_gradients(eptm, ax, scale=0.1)"
     ], 
     "language": "python", 
     "outputs": [], 
     "prompt_number": 6
    }, 
    {
     "cell_type": "code", 
     "collapsed": false, 
     "input": [
      "eptm.remove_local_mask(cell)", 
      "cell = eptm.graph.vertex(22)", 
      "eptm.set_local_mask(cell)", 
      "pos0, pos1 = eptm.find_energy_min(tol=1e-2)"
     ], 
     "language": "python", 
     "outputs": [], 
     "prompt_number": 9
    }, 
    {
     "cell_type": "code", 
     "collapsed": true, 
     "input": [], 
     "language": "python", 
     "outputs": []
    }
   ]
  }
 ]
}