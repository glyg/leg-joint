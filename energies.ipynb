{
 "metadata": {
  "name": "energies"
 }, 
 "nbformat": 2, 
 "worksheets": [
  {
   "cells": [
    {
     "cell_type": "code", 
     "collapsed": false, 
     "input": [
      "from dynamics import Epithelium", 
      "eptm = Epithelium(paramfile='default/few_big_cells.xml')", 
      "#eptm.graph.list_properties()"
     ], 
     "language": "python", 
     "outputs": [], 
     "prompt_number": 1
    }, 
    {
     "cell_type": "code", 
     "collapsed": false, 
     "input": [
      "%run graph_representation.py", 
      "#plot_cells_sz(eptm, vfilt=None)"
     ], 
     "language": "python", 
     "outputs": [], 
     "prompt_number": 4
    }, 
    {
     "cell_type": "code", 
     "collapsed": false, 
     "input": [
      "cell = eptm.graph.vertex(25)", 
      "eptm.set_local_mask(cell)", 
      "fig, ax = plt.subplots(1,1)", 
      "plot_cells_sz(eptm, ax, vfilt=eptm.is_local_vert)", 
      "grad = eptm.calc_gradient(eptm.is_local_vert)", 
      "plot_gradients(eptm, ax)"
     ], 
     "language": "python", 
     "outputs": [], 
     "prompt_number": 5
    }, 
    {
     "cell_type": "code", 
     "collapsed": true, 
     "input": [
      "#pos0, pos1 = eptm.find_energy_min()", 
      "#plot_cell_sz(eptm, ax)"
     ], 
     "language": "python", 
     "outputs": []
    }
   ]
  }
 ]
}