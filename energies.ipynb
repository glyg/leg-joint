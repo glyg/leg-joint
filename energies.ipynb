{
 "metadata": {
  "name": "energies"
 }, 
 "nbformat": 2, 
 "worksheets": [
  {
   "cells": [
    {
     "cell_type": "markdown", 
     "source": [
      "", 
      "", 
      "# Energetical aspects of the model", 
      "", 
      "", 
      "## Total energy of the epithelium", 
      "", 
      "According to the [Farhadifar et al. paper](http://dx.doi.org/10.1016/j.cub.2007.11.049),", 
      "in the case of a regular hexagonal latice, energy is given by:", 
      "$$", 
      "E = N_{\\alpha}\\frac{K}{2} (A - A_0)^2 + N\\frac{\\Gamma}{2} L^2 +  6N\\frac{\\Lambda}{2}\\ell", 
      "$$", 
      "", 
      "As they did, we define the adimentional contractility $\\bar\\Gamma = \\Gamma/KA_0$ and line tension", 
      "$\\bar\\Lambda = \\Lambda /KA_0^{3/2}$.  ", 
      "The normalized energy $\\bar E = 2E/NKA_0^2$ then reads:", 
      "", 
      "$$", 
      "\\bar E = ((A/A_0)^2 - 1)^2 + \\frac{\\bar\\Gamma}{2} L^2/A_0 + 6\\frac{\\bar\\Lambda\\ell}{\\sqrt{A_0}}", 
      "$$", 
      "", 
      "The perimeter $L$ of a cell is equal to $6\\ell$ and the area $A$", 
      "equals $(3\\sqrt{3}/2)\\ell^2$. We define a dilatation factor $\\delta$ such that $\\delta^2 = A/A_0$. Thus:", 
      "", 
      "$$", 
      "A/A_0 = \\delta^2 = \\frac{3\\sqrt{3}}{2} \\ell^2 A_0", 
      "$$", 
      "$$", 
      "\\Rightarrow  \\ell = \\sqrt{\\frac{2}{3\\sqrt{3}}}\\delta\\sqrt{A_0}$$", 
      "", 
      "We define the constant $\\mu = 6\\left(2/3\\sqrt{3}\\right)^{1/2}$, then $\\ell = \\frac{\\mu}{6}\\delta\\sqrt{A_0}$ and $L^2 = \\mu^2 \\delta^2 A_0$  ", 
      "", 
      "", 
      "$$", 
      "\\bar E = (\\delta^2 -1)^2 + \\bar\\Gamma\\mu^2\\delta^2 + \\bar\\Lambda\\mu\\delta =  \\delta^4 + (\\bar\\Gamma\\mu^2 - 2)\\delta^2 + \\bar\\Lambda\\mu\\delta - 1", 
      "$$", 
      "", 
      "We can implement this function rightaway:"
     ]
    }, 
    {
     "cell_type": "code", 
     "collapsed": false, 
     "input": [
      "mu = 6 * np.sqrt(2. / (3 * np.sqrt(3)))", 
      "print \"mu = \"+str(mu)", 
      "def isotropic_energy(delta, gamma, lbda):", 
      "    elasticity = (delta**2 - 1**2)**2", 
      "    contractility = gamma**2 * mu**2 * delta**2", 
      "    tension = lbda * mu * delta", 
      "    return elasticity + contractility + tension"
     ], 
     "language": "python", 
     "outputs": [
      {
       "output_type": "stream", 
       "stream": "stdout", 
       "text": [
        "mu = 3.72241943641"
       ]
      }
     ], 
     "prompt_number": 7
    }, 
    {
     "cell_type": "markdown", 
     "source": [
      "## Epithelium ground state and phase diagramm", 
      "", 
      "### Gradient expression", 
      "", 
      "The ground state of the regular epithelium is attained when enregy is minimal with respect to $\\delta$:", 
      "", 
      "$$", 
      "\\frac{\\partial \\bar E}{\\partial \\delta} = 0", 
      "$$", 
      "", 
      "That is (dropping the top bar notation):", 
      "", 
      "$$", 
      "4\\delta^3 + (2\\Gamma \\mu^2 - 4)\\delta +\\Lambda\\mu = 0", 
      "$$", 
      "", 
      "Once again let's code this:"
     ]
    }, 
    {
     "cell_type": "code", 
     "collapsed": false, 
     "input": [
      "def isotropic_grad(delta, gamma, lbda):", 
      "    grad = 4 * delta**3 \\", 
      "        + (2 * gamma * mu**2 - 4) * delta \\", 
      "        + lbda * mu", 
      "    return grad", 
      "", 
      "## The (archetypal) case I simulations in the article are for", 
      "## the following values:", 
      "gamma_case1 = 0.04", 
      "lbda_case1 = 0.12", 
      "", 
      "# We can plot the above function for a range of values for delta", 
      "deltas = np.linspace(0., 1., 40)", 
      "grad = isotropic_grad(deltas, gamma_case1, lbda_case1)", 
      "fig, axes = plt.subplots(2, 1, sharex=True, figsize=(6.,12.))", 
      "line = axes[0].plot(deltas, grad, 'b-', lw=2, alpha=0.5)", 
      "zero_x = axes[0].plot(deltas, np.zeros_like(deltas), 'k-') ", 
      "zero_x = axes[1].plot(deltas, np.zeros_like(deltas), 'k-') ", 
      "ylbl = axes[0].set_ylabel(r'Isotropic gradient amplitude $\\partial E / \\partial \\delta$')", 
      "xlblb = axes[0].set_xlabel(r'Scaling factor $\\delta$')"
     ], 
     "language": "python", 
     "outputs": [], 
     "prompt_number": 8
    }, 
    {
     "cell_type": "markdown", 
     "source": [
      "We can see that the gradient is zero for two values of $\\delta$. Let's plot the energy on the lower graph."
     ]
    }, 
    {
     "cell_type": "code", 
     "collapsed": false, 
     "input": [
      "energy = isotropic_energy(deltas, gamma_case1, lbda_case1)", 
      "axes[1].plot(deltas, energy, 'g-', lw=2, alpha=0.5)", 
      "ylbl = axes[1].set_ylabel(r'Normalized energy $\\bar E$')", 
      "xlblb = axes[0].set_xlabel('')", 
      "xlblb = axes[1].set_xlabel(r'Scaling factor $\\delta$')", 
      "plt.draw()"
     ], 
     "language": "python", 
     "outputs": [], 
     "prompt_number": 9
    }, 
    {
     "cell_type": "markdown", 
     "source": [
      "We can now get the values of the optimal scaling $\\delta_o$ and of the ground state energy $E_0$", 
      "with a simple root finding on the `isotropic_grad` function:"
     ]
    }, 
    {
     "cell_type": "code", 
     "collapsed": false, 
     "input": [
      "from scipy import optimize", 
      "delta0 = 0.9 # That's a first -visual- guess  ", 
      "delta_o,  = optimize.fsolve(isotropic_grad, delta0, args=(gamma_case1, lbda_case1))", 
      "print \"delta_o = \"+str(delta_o)", 
      "ground_energy = isotropic_energy(delta_o, gamma_case1, lbda_case1)", 
      "print \"Ground energy = \"+str(ground_energy)", 
      "line = axes[0].plot([delta_o, delta_o], ", 
      "                    [grad.min(), grad.max()],  'k-')", 
      "line = axes[1].plot(delta_o, ground_energy, 'ro', ms=5, alpha=0.5)", 
      "line = axes[1].plot([delta_o, delta_o], ", 
      "                    [energy.min(), energy.max()], 'k-')", 
      "nrj_ax = axes[1]", 
      "nrj_ax.set_xlim(0, 1)", 
      "plt.draw()"
     ], 
     "language": "python", 
     "outputs": [
      {
       "output_type": "stream", 
       "stream": "stdout", 
       "text": [
        "delta_o = 0.758742918184", 
        "Ground energy = 0.531724619528"
       ]
      }
     ], 
     "prompt_number": 11
    }, 
    {
     "cell_type": "markdown", 
     "source": [
      "Note that the value found differs from the one seen on figure 2B of the paper. I suppose I'm doing something wrong", 
      "when I count the number of junction edges per cell (i.e. $6N/2$, as each junction shares two cells)... "
     ]
    }, 
    {
     "cell_type": "markdown", 
     "source": [
      "", 
      "### Boundary between the regular hexagonal packing and the soft network", 
      "", 
      "If $\\delta = 1$, which means that the cells area is equal to the prefered area, ", 
      "we must have $\\Gamma = -\\Lambda / 2\\mu$. This line in the $(\\Lambda, \\Gamma)$ plane separates", 
      "the hexagonal and soft network outlined in figure 1 in the original article.", 
      "", 
      "We can plot this line, which is exactly the same as in the article:"
     ]
    }, 
    {
     "cell_type": "code", 
     "collapsed": false, 
     "input": [
      "lbdas = np.linspace(-1.5, 0., 20)", 
      "gammas = - lbdas / (2 * mu)", 
      "fig, ax_gl = plt.subplots(1,1)", 
      "line = ax_gl.plot(lbdas, gammas, 'k-')", 
      "xlbl = ax_gl.set_xlabel(r'Normalized line tension $\\Lambda$')", 
      "ylblb = ax_gl.set_ylabel(r'Normalized contractility $\\Gamma$')", 
      "xl = ax_gl.set_xlim(-1.4, 0.6)", 
      "yl = ax_gl.set_ylim(0, 0.18)"
     ], 
     "language": "python", 
     "outputs": [], 
     "prompt_number": 17
    }, 
    {
     "cell_type": "markdown", 
     "source": [
      "", 
      "", 
      "### The $\\Lambda = 0$ case", 
      "", 
      "For a non vanishing network, we must have", 
      "$$", 
      "4\\delta^2 + (2\\Gamma \\mu^2 - 4) = 0 \\Rightarrow ", 
      "$$", 
      "", 
      "", 
      "", 
      "we want to constrain the model parameter", 
      "space to the region where the behaviour of the simulated epithelium is closer to the wing disk. After adimentionalization, two reduced parameters govern ", 
      "", 
      "", 
      "", 
      ""
     ]
    }, 
    {
     "cell_type": "code", 
     "collapsed": false, 
     "input": [
      "", 
      "from dynamics import Epithelium", 
      "eptm = Epithelium(paramfile='default/few_big_cells.xml')", 
      "#eptm.graph.list_properties()"
     ], 
     "language": "python", 
     "outputs": [
      {
       "output_type": "stream", 
       "stream": "stdout", 
       "text": [
        "2 triangles were dropped", 
        "2 junction edges were dropped"
       ]
      }, 
      {
       "output_type": "stream", 
       "stream": "stdout", 
       "text": [
        ""
       ]
      }
     ], 
     "prompt_number": 31
    }, 
    {
     "cell_type": "code", 
     "collapsed": false, 
     "input": [
      "eptm.graph.set_vertex_filter(eptm.is_cell_vert)", 
      "print eptm.cells.prefered_area.fa.mean()", 
      "print eptm.cells.areas.fa.mean()"
     ], 
     "language": "python", 
     "outputs": [
      {
       "output_type": "stream", 
       "stream": "stdout", 
       "text": [
        "50.0", 
        "52.1653905185"
       ]
      }
     ], 
     "prompt_number": 2
    }, 
    {
     "cell_type": "code", 
     "collapsed": false, 
     "input": [
      "out = eptm.find_global_min(xtol=1e-3, ftol=1e-7)"
     ], 
     "language": "python", 
     "outputs": [
      {
       "output_type": "stream", 
       "stream": "stdout", 
       "text": [
        "Warning: Maximum number of function evaluations has been exceeded."
       ]
      }
     ], 
     "prompt_number": 3
    }, 
    {
     "cell_type": "code", 
     "collapsed": false, 
     "input": [
      "%run graph_representation.py", 
      "fig, ax = plt.subplots(1,1)", 
      "plot_cells_sz(eptm, ax, efilt=None)"
     ], 
     "language": "python", 
     "outputs": [
      {
       "output_type": "pyout", 
       "prompt_number": 4, 
       "text": [
        "<matplotlib.axes.AxesSubplot at 0xb989b4c>"
       ]
      }
     ], 
     "prompt_number": 4
    }, 
    {
     "cell_type": "code", 
     "collapsed": true, 
     "input": [
      "cell = eptm.graph.vertex(17)", 
      "eptm.set_local_mask(cell)", 
      "eptm.update_apical_geom(vfilt=eptm.is_local_vert)", 
      "eptm.update_gradient(vfilt=eptm.is_local_vert)", 
      "ax = plot_cells_sz(eptm, ax=None,", 
      "                   vfilt=eptm.is_local_vert,", 
      "                   efilt=eptm.is_local_edge)", 
      "ax = plot_gradients(eptm, ax, scale=0.1)"
     ], 
     "language": "python", 
     "outputs": [], 
     "prompt_number": 10
    }, 
    {
     "cell_type": "code", 
     "collapsed": false, 
     "input": [
      "pos0, pos1 = eptm.find_energy_min(tol=1e-8)"
     ], 
     "language": "python", 
     "outputs": [
      {
       "output_type": "stream", 
       "stream": "stdout", 
       "text": [
        "(6, 2)", 
        "Optimization terminated successfully."
       ]
      }, 
      {
       "output_type": "stream", 
       "stream": "stdout", 
       "text": [
        "", 
        "         Current function value: 37264.564929", 
        "         Iterations: 4", 
        "         Function evaluations: 63", 
        "         Gradient evaluations: 12", 
        "         Hessian evaluations: 0"
       ]
      }
     ], 
     "prompt_number": 11
    }, 
    {
     "cell_type": "code", 
     "collapsed": true, 
     "input": [
      "ax = plot_cells_sz(eptm, ax, ", 
      "                   vfilt=eptm.is_local_vert,", 
      "                   efilt=eptm.is_local_edge)", 
      "ax = plot_gradients(eptm, ax, scale=0.1)"
     ], 
     "language": "python", 
     "outputs": [], 
     "prompt_number": 12
    }, 
    {
     "cell_type": "code", 
     "collapsed": true, 
     "input": [
      "eptm.remove_local_mask(cell)", 
      "cell = eptm.graph.vertex(22)", 
      "eptm.set_local_mask(cell)", 
      "pos0, pos1 = eptm.find_energy_min(tol=1e-2)"
     ], 
     "language": "python", 
     "outputs": [], 
     "prompt_number": 9
    }, 
    {
     "cell_type": "code", 
     "collapsed": true, 
     "input": [], 
     "language": "python", 
     "outputs": []
    }
   ]
  }
 ]
}