{
 "metadata": {
  "name": "energies"
 }, 
 "nbformat": 2, 
 "worksheets": [
  {
   "cells": [
    {
     "cell_type": "code", 
     "collapsed": false, 
     "input": [
      "from dynamics import Epithelium", 
      "eptm = Epithelium()"
     ], 
     "language": "python", 
     "outputs": [], 
     "prompt_number": 54
    }, 
    {
     "cell_type": "code", 
     "collapsed": false, 
     "input": [
      "cell = eptm.cells.graph.vertex(53)", 
      "eptm.set_local_mask(cell)"
     ], 
     "language": "python", 
     "outputs": [], 
     "prompt_number": 55
    }, 
    {
     "cell_type": "code", 
     "collapsed": false, 
     "input": [
      "eptm.junctions.graph.set_vertex_filter(eptm.junctions.is_local)", 
      "j_vertices = [j_vert for j_vert in eptm.junctions.graph.vertices()]", 
      "pos0 = np.array([eptm.junctions.sz_pos[j_vert]", 
      "                 for j_vert in eptm.junctions.graph.vertices()])", 
      "eptm.junctions.graph.set_vertex_filter(None)"
     ], 
     "language": "python", 
     "outputs": [], 
     "prompt_number": 56
    }, 
    {
     "cell_type": "code", 
     "collapsed": false, 
     "input": [
      "%run graph_representation.py"
     ], 
     "language": "python", 
     "outputs": [], 
     "prompt_number": 57
    }, 
    {
     "cell_type": "code", 
     "collapsed": false, 
     "input": [
      "#plot_gradients(eptm)", 
      "pos0, pos1 = eptm.find_energy_min()", 
      "#plot_gradients(eptm)", 
      "eptm.remove_local_mask(cell)"
     ], 
     "language": "python", 
     "outputs": [
      {
       "output_type": "stream", 
       "stream": "stdout", 
       "text": [
        "Optimization terminated successfully.", 
        "         Current function value: 0.187899", 
        "         Iterations: 1", 
        "         Function evaluations: 2", 
        "         Gradient evaluations: 7", 
        "         Hessian evaluations: 0"
       ]
      }
     ], 
     "prompt_number": 58
    }, 
    {
     "cell_type": "code", 
     "collapsed": false, 
     "input": [
      "cell1, cell3 = eptm.cells.graph.vertex(54), eptm.cells.graph.vertex(41)", 
      "eptm.set_local_mask(cell1)", 
      "eptm.set_local_mask(cell3)"
     ], 
     "language": "python", 
     "outputs": [], 
     "prompt_number": 59
    }, 
    {
     "cell_type": "code", 
     "collapsed": false, 
     "input": [
      "plot_gradients(eptm)"
     ], 
     "language": "python", 
     "outputs": [], 
     "prompt_number": 60
    }, 
    {
     "cell_type": "code", 
     "collapsed": false, 
     "input": [
      "modified_cells, modified_jverts = eptm.type1_transition((cell1, cell3))"
     ], 
     "language": "python", 
     "outputs": [
      {
       "output_type": "stream", 
       "stream": "stdout", 
       "text": [
        "redundant call for cells 54, 53 and vertices 99, 122 ", 
        "redundant call for cells 55, 41 and vertices 100, 101 "
       ]
      }
     ], 
     "prompt_number": 61
    }, 
    {
     "cell_type": "code", 
     "collapsed": true, 
     "input": [
      "plot_gradients(eptm)"
     ], 
     "language": "python", 
     "outputs": [], 
     "prompt_number": 62
    }, 
    {
     "cell_type": "code", 
     "collapsed": false, 
     "input": [
      "pos0, pos1 = eptm.find_energy_min()"
     ], 
     "language": "python", 
     "outputs": [
      {
       "output_type": "stream", 
       "stream": "stdout", 
       "text": [
        "Optimization terminated successfully.", 
        "         Current function value: 10.206242", 
        "         Iterations: 1", 
        "         Function evaluations: 2", 
        "         Gradient evaluations: 3", 
        "         Hessian evaluations: 0"
       ]
      }
     ], 
     "prompt_number": 63
    }, 
    {
     "cell_type": "code", 
     "collapsed": true, 
     "input": [
      "plot_gradients(eptm)"
     ], 
     "language": "python", 
     "outputs": [], 
     "prompt_number": 64
    }, 
    {
     "cell_type": "code", 
     "collapsed": true, 
     "input": [
      "jva, vjb, jvc, jvd, jve, jvf = modified_jverts", 
      "cell1, cell2, cell3, cell4 = modified_cells"
     ], 
     "language": "python", 
     "outputs": [], 
     "prompt_number": 65
    }, 
    {
     "cell_type": "code", 
     "collapsed": true, 
     "input": [], 
     "language": "python", 
     "outputs": []
    }
   ]
  }
 ]
}