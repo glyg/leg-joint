{
 "metadata": {
  "name": "energies"
 }, 
 "nbformat": 2, 
 "worksheets": [
  {
   "cells": [
    {
     "cell_type": "code", 
     "collapsed": false, 
     "input": [
      "from dynamics import Epithelium", 
      "eptm = Epithelium()", 
      "#eptm.graph.list_properties()"
     ], 
     "language": "python", 
     "outputs": [], 
     "prompt_number": 5
    }, 
    {
     "cell_type": "code", 
     "collapsed": true, 
     "input": [
      "%run graph_representation.py"
     ], 
     "language": "python", 
     "outputs": [], 
     "prompt_number": 6
    }, 
    {
     "cell_type": "code", 
     "collapsed": true, 
     "input": [
      "plot(eptm.sigmas.a, eptm.zeds.a, 'ko', alpha=0.05, ms=15)", 
      "eptm.graph.set_vertex_filter(eptm.is_cell_vert, inverted=False)", 
      "plot(eptm.sigmas.fa, eptm.zeds.fa, 'bo', alpha=0.5, ms=5)", 
      "eptm.graph.set_vertex_filter(eptm.is_cell_vert, inverted=True)", 
      "plot(eptm.sigmas.fa, eptm.zeds.fa, 'go', alpha=0.6, ms=3)", 
      "eptm.graph.set_vertex_filter(None)", 
      "eptm.graph.set_edge_filter(eptm.is_junction_edge)", 
      "for je in eptm.graph.edges():", 
      "    sz = np.array([[eptm.sigmas[je.source()], eptm.zeds[je.source()]],", 
      "                   [eptm.sigmas[je.target()], eptm.zeds[je.target()]]])", 
      "    plot(sz[:,0], sz[:,1], 'g-', lw=1, alpha=0.4)", 
      "eptm.graph.set_edge_filter(None)"
     ], 
     "language": "python", 
     "outputs": [], 
     "prompt_number": 7
    }, 
    {
     "cell_type": "code", 
     "collapsed": false, 
     "input": [
      "cell = eptm.graph.vertex(53)", 
      "for neigh in eptm.ordered_neighbours(cell):", 
      "    if eptm.is_cell_vert[neigh]:", 
      "        print 'cell %s @ (%.2f, %.2f)' % (neigh,", 
      "                                          eptm.sz_pos[neigh].a[0],", 
      "                                          eptm.sz_pos[neigh].a[1])    ", 
      "    else:", 
      "        print 'junction %s @ (%.2f, %.2f)' %(neigh,", 
      "                                             eptm.sz_pos[neigh].a[0],", 
      "                                             eptm.sz_pos[neigh].a[1])", 
      "", 
      "eptm.set_local_mask(cell)"
     ], 
     "language": "python", 
     "outputs": [], 
     "prompt_number": 8
    }, 
    {
     "cell_type": "code", 
     "collapsed": true, 
     "input": [
      "eptm.graph.set_vertex_filter(eptm.is_local_j_vert)", 
      "pos0 = np.array([eptm.sz_pos[jvert]", 
      "                 for jvert in eptm.graph.vertices()])", 
      "eptm.graph.set_vertex_filter(None)", 
      "lines = plot(pos0[:,0], pos0[:,1], 'ro')"
     ], 
     "language": "python", 
     "outputs": [], 
     "prompt_number": 5
    }, 
    {
     "cell_type": "code", 
     "collapsed": true, 
     "input": [
      "fig, ax = plt.subplots(1,1)", 
      "plot_gradients(eptm, ax)", 
      "pos0, pos1 = eptm.find_energy_min()", 
      "plot_gradients(eptm, ax)", 
      "eptm.remove_local_mask(cell)"
     ], 
     "language": "python", 
     "outputs": [], 
     "prompt_number": 7
    }, 
    {
     "cell_type": "code", 
     "collapsed": true, 
     "input": [
      "cell1, cell3 = eptm.graph.vertex(67), eptm.graph.vertex(80)", 
      "eptm.set_local_mask(cell1)", 
      "eptm.set_local_mask(cell3)"
     ], 
     "language": "python", 
     "outputs": [], 
     "prompt_number": 3
    }, 
    {
     "cell_type": "code", 
     "collapsed": true, 
     "input": [
      "fig, ax = plt.subplots(1,1)", 
      "plot_cells_sz(eptm, ax, local=True)"
     ], 
     "language": "python", 
     "outputs": [], 
     "prompt_number": 9
    }, 
    {
     "cell_type": "code", 
     "collapsed": true, 
     "input": [
      "modified_cells, modified_jverts = eptm.type1_transition((cell1, cell3))"
     ], 
     "language": "python", 
     "outputs": [], 
     "prompt_number": 5
    }, 
    {
     "cell_type": "code", 
     "collapsed": true, 
     "input": [
      "plot_gradients(eptm)"
     ], 
     "language": "python", 
     "outputs": [], 
     "prompt_number": 12
    }, 
    {
     "cell_type": "code", 
     "collapsed": true, 
     "input": [
      "pos0, pos1 = eptm.find_energy_min()"
     ], 
     "language": "python", 
     "outputs": [], 
     "prompt_number": 11
    }, 
    {
     "cell_type": "code", 
     "collapsed": true, 
     "input": [
      "plot_gradients(eptm)"
     ], 
     "language": "python", 
     "outputs": [], 
     "prompt_number": 5
    }, 
    {
     "cell_type": "code", 
     "collapsed": false, 
     "input": [
      "eptm.cell_division(cell)"
     ], 
     "language": "python", 
     "outputs": [], 
     "prompt_number": 4
    }, 
    {
     "cell_type": "code", 
     "collapsed": false, 
     "input": [
      "cell"
     ], 
     "language": "python", 
     "outputs": [], 
     "prompt_number": 8
    }, 
    {
     "cell_type": "code", 
     "collapsed": true, 
     "input": [], 
     "language": "python", 
     "outputs": []
    }
   ]
  }
 ]
}