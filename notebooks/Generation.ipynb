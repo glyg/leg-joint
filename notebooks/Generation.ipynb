{
 "cells": [
  {
   "cell_type": "markdown",
   "metadata": {},
   "source": [
    "### Cylindrical cells "
   ]
  },
  {
   "cell_type": "code",
   "execution_count": 1,
   "metadata": {
    "collapsed": true
   },
   "outputs": [],
   "source": [
    "import numpy as np\n",
    "\n",
    "import matplotlib.pyplot as plt\n",
    "\n",
    "%matplotlib qt\n"
   ]
  },
  {
   "cell_type": "code",
   "execution_count": 2,
   "metadata": {
    "collapsed": true
   },
   "outputs": [],
   "source": [
    "### Typical number of cells around the cylinder\n",
    "n_circum = 8\n",
    "### Typical number of cells along z\n",
    "n_length = 7\n",
    "### Distance between 2 cells\n",
    "l_0 = 1. \n",
    "### Cells heights\n",
    "h_0 = 1."
   ]
  },
  {
   "cell_type": "code",
   "execution_count": 27,
   "metadata": {
    "collapsed": false
   },
   "outputs": [],
   "source": [
    "rho_c = n_circum * l_0 / (2 * np.pi)\n",
    "rho_lumen = rho_c - h_0\n",
    "\n",
    "delta_theta = 2 * np.pi / n_circum\n",
    "delta_z = delta_theta * rho_c * np.sqrt(3)/2.\n",
    "\n",
    "zt_grid = np.mgrid[:n_length, :n_circum]\n",
    "thetas = zt_grid[1].astype('float')\n",
    "thetas[::2, ...] += 0.5\n",
    "thetas *= delta_theta\n",
    "thetas = thetas.flatten()\n",
    "zeds = zt_grid[0].astype('float')\n",
    "zeds *= delta_z\n",
    "zeds -= zeds.max() / 2\n",
    "zeds = zeds.flatten()\n",
    "\n",
    "pos = np.zeros((n_circum * n_length, 3))\n",
    "\n",
    "pos[:, 0] = np.cos(thetas) * rho_c\n",
    "pos[:, 1] = np.sin(thetas) * rho_c\n",
    "pos[:, 2] = zeds"
   ]
  },
  {
   "cell_type": "code",
   "execution_count": 28,
   "metadata": {
    "collapsed": false
   },
   "outputs": [],
   "source": [
    "fig, axes = plt.subplots(2, 2, sharex=True)\n",
    "\n",
    "\n",
    "axes[0, 0].plot(pos[:, 0], pos[:, 1], 'o')\n",
    "axes[0, 0].set_aspect('equal')\n",
    "\n",
    "\n",
    "axes[0, 1].plot(pos[:, 2], pos[:, 0], 'o')\n",
    "axes[0, 1].set_aspect('equal')\n",
    "\n",
    "axes[1, 0].plot(pos[:, 1], pos[:, 2], 'o')\n",
    "axes[1, 0].set_aspect('equal')\n",
    "\n",
    "axes[1, 1].plot(thetas * rho_c, pos[:, 2], 'o')\n",
    "axes[1, 1].set_aspect('equal')\n"
   ]
  },
  {
   "cell_type": "code",
   "execution_count": 13,
   "metadata": {
    "collapsed": true
   },
   "outputs": [],
   "source": [
    "import graph_tool.all as gt"
   ]
  },
  {
   "cell_type": "code",
   "execution_count": 22,
   "metadata": {
    "collapsed": false
   },
   "outputs": [
    {
     "data": {
      "text/plain": [
       "1.0"
      ]
     },
     "execution_count": 22,
     "metadata": {},
     "output_type": "execute_result"
    }
   ],
   "source": [
    "l_0"
   ]
  },
  {
   "cell_type": "code",
   "execution_count": 30,
   "metadata": {
    "collapsed": true
   },
   "outputs": [],
   "source": [
    "cells_graph, pos_vp = gt.geometric_graph(pos, l_0*1.1)"
   ]
  },
  {
   "cell_type": "code",
   "execution_count": 45,
   "metadata": {
    "collapsed": false
   },
   "outputs": [],
   "source": [
    "rhos = np.linalg.norm(pos[:, :2], axis=1)\n",
    "z_angle = np.pi/24\n",
    "d_theta = np.pi/12\n",
    "\n",
    "pseudo_x = pos[:, 2] * np.cos(z_angle) - rhos * np.sin(thetas + d_theta) * np.sin(z_angle)\n",
    "pseudo_y = rhos * np.cos(thetas + d_theta)\n",
    "\n",
    "pseudo_pos = gt.graph_draw(cells_graph, output='generated_cells.png')"
   ]
  },
  {
   "cell_type": "markdown",
   "metadata": {},
   "source": [
    "![the generated cells](generated_cells.png)"
   ]
  },
  {
   "cell_type": "code",
   "execution_count": 49,
   "metadata": {
    "collapsed": false
   },
   "outputs": [],
   "source": []
  },
  {
   "cell_type": "code",
   "execution_count": 52,
   "metadata": {
    "collapsed": false
   },
   "outputs": [],
   "source": [
    "import pandas as pd\n",
    "pos = pd.DataFrame(pos, columns=['x', 'y', 'z'])\n"
   ]
  },
  {
   "cell_type": "code",
   "execution_count": 54,
   "metadata": {
    "collapsed": false
   },
   "outputs": [
    {
     "data": {
      "text/html": [
       "<div style=\"max-height:1000px;max-width:1500px;overflow:auto;\">\n",
       "<table border=\"1\" class=\"dataframe\">\n",
       "  <thead>\n",
       "    <tr style=\"text-align: right;\">\n",
       "      <th></th>\n",
       "      <th>x</th>\n",
       "      <th>y</th>\n",
       "      <th>z</th>\n",
       "    </tr>\n",
       "    <tr>\n",
       "      <th>cell</th>\n",
       "      <th></th>\n",
       "      <th></th>\n",
       "      <th></th>\n",
       "    </tr>\n",
       "  </thead>\n",
       "  <tbody>\n",
       "    <tr>\n",
       "      <th>0</th>\n",
       "      <td> 1.176320</td>\n",
       "      <td> 0.487248</td>\n",
       "      <td>-2.598076</td>\n",
       "    </tr>\n",
       "    <tr>\n",
       "      <th>1</th>\n",
       "      <td> 0.487248</td>\n",
       "      <td> 1.176320</td>\n",
       "      <td>-2.598076</td>\n",
       "    </tr>\n",
       "    <tr>\n",
       "      <th>2</th>\n",
       "      <td>-0.487248</td>\n",
       "      <td> 1.176320</td>\n",
       "      <td>-2.598076</td>\n",
       "    </tr>\n",
       "    <tr>\n",
       "      <th>3</th>\n",
       "      <td>-1.176320</td>\n",
       "      <td> 0.487248</td>\n",
       "      <td>-2.598076</td>\n",
       "    </tr>\n",
       "    <tr>\n",
       "      <th>4</th>\n",
       "      <td>-1.176320</td>\n",
       "      <td>-0.487248</td>\n",
       "      <td>-2.598076</td>\n",
       "    </tr>\n",
       "  </tbody>\n",
       "</table>\n",
       "</div>"
      ],
      "text/plain": [
       "             x         y         z\n",
       "cell                              \n",
       "0     1.176320  0.487248 -2.598076\n",
       "1     0.487248  1.176320 -2.598076\n",
       "2    -0.487248  1.176320 -2.598076\n",
       "3    -1.176320  0.487248 -2.598076\n",
       "4    -1.176320 -0.487248 -2.598076"
      ]
     },
     "execution_count": 54,
     "metadata": {},
     "output_type": "execute_result"
    }
   ],
   "source": [
    "pos.index.name = 'cell'\n",
    "\n",
    "pos.head()\n"
   ]
  },
  {
   "cell_type": "code",
   "execution_count": 59,
   "metadata": {
    "collapsed": true
   },
   "outputs": [],
   "source": [
    "from scipy.spatial import Voronoi, voronoi_plot_2d"
   ]
  },
  {
   "cell_type": "code",
   "execution_count": 75,
   "metadata": {
    "collapsed": false
   },
   "outputs": [
    {
     "data": {
      "text/plain": [
       "[<matplotlib.lines.Line2D at 0x7fa36d72ccf8>]"
      ]
     },
     "execution_count": 75,
     "metadata": {},
     "output_type": "execute_result"
    }
   ],
   "source": [
    "plt.plot(pos.rhos, pos.sigmas, 'o')"
   ]
  },
  {
   "cell_type": "code",
   "execution_count": null,
   "metadata": {
    "collapsed": true
   },
   "outputs": [],
   "source": [
    "thetas = np.arctan2(pos['y'], pos['x'])\n",
    "rhos = np.hypot(pos['y'], pos['x'])\n",
    "pos['sigmas'] = thetas * rhos\n",
    "pos['rhos'] = rhos\n",
    "\n",
    "\n",
    "voronoi = Voronoi(pos[['z', 'sigmas']].values)\n",
    "#plt.plot(pos.z, pos.sigmas, 'bo')\n",
    "fig = voronoi_plot_2d(voronoi)\n",
    "ax = plt.gca()\n",
    "\n",
    "ax.set_aspect('equal')"
   ]
  },
  {
   "cell_type": "code",
   "execution_count": null,
   "metadata": {
    "collapsed": true
   },
   "outputs": [],
   "source": [
    "\n",
    "pos['sigmas'] = thetas * rhos\n",
    "pos['rhos'] = rhos\n",
    "\n",
    "\n",
    "voronoi = Voronoi(pos[['z', 'sigmas']].values)\n",
    "#plt.plot(pos.z, pos.sigmas, 'bo')\n",
    "fig = voronoi_plot_2d(voronoi)\n",
    "ax = plt.gca()\n",
    "\n",
    "ax.set_aspect('equal')\n"
   ]
  }
 ],
 "metadata": {
  "kernelspec": {
   "display_name": "Python 3",
   "language": "python",
   "name": "python3"
  },
  "language_info": {
   "codemirror_mode": {
    "name": "ipython",
    "version": 3
   },
   "file_extension": ".py",
   "mimetype": "text/x-python",
   "name": "python",
   "nbconvert_exporter": "python",
   "pygments_lexer": "ipython3",
   "version": "3.4.2"
  }
 },
 "nbformat": 4,
 "nbformat_minor": 0
}
