{
 "cells": [
  {
   "cell_type": "markdown",
   "metadata": {},
   "source": [
    "### Cylindrical cells "
   ]
  },
  {
   "cell_type": "code",
   "execution_count": 1,
   "metadata": {
    "collapsed": true
   },
   "outputs": [],
   "source": [
    "import numpy as np\n",
    "\n",
    "import matplotlib.pyplot as plt\n",
    "\n",
    "%matplotlib qt\n"
   ]
  },
  {
   "cell_type": "code",
   "execution_count": 2,
   "metadata": {
    "collapsed": true
   },
   "outputs": [],
   "source": [
    "### Typical number of cells around the cylinder\n",
    "n_circum = 8\n",
    "### Typical number of cells along z\n",
    "n_length = 7\n",
    "### Distance between 2 cells\n",
    "l_0 = 1. \n",
    "### Cells heights\n",
    "h_0 = 1."
   ]
  },
  {
   "cell_type": "code",
   "execution_count": 3,
   "metadata": {
    "collapsed": false
   },
   "outputs": [],
   "source": [
    "rho_c = n_circum * l_0 / (2 * np.pi)\n",
    "rho_lumen = rho_c - h_0\n",
    "\n",
    "delta_theta = 2 * np.pi / n_circum\n",
    "delta_z = delta_theta * rho_c * np.sqrt(3)/2.\n",
    "\n",
    "zt_grid = np.mgrid[:n_length, :n_circum]\n",
    "thetas = zt_grid[1].astype('float')\n",
    "thetas[::2, ...] += 0.5\n",
    "thetas *= delta_theta\n",
    "thetas = thetas.flatten()\n",
    "zeds = zt_grid[0].astype('float')\n",
    "zeds *= delta_z\n",
    "zeds -= zeds.max() / 2\n",
    "zeds = zeds.flatten()\n",
    "\n",
    "pos = np.zeros((n_circum * n_length, 3))\n",
    "\n",
    "pos[:, 0] = np.cos(thetas) * rho_c\n",
    "pos[:, 1] = np.sin(thetas) * rho_c\n",
    "pos[:, 2] = zeds"
   ]
  },
  {
   "cell_type": "code",
   "execution_count": 5,
   "metadata": {
    "collapsed": true
   },
   "outputs": [],
   "source": [
    "import graph_tool.all as gt"
   ]
  },
  {
   "cell_type": "code",
   "execution_count": 6,
   "metadata": {
    "collapsed": false
   },
   "outputs": [
    {
     "data": {
      "text/plain": [
       "1.0"
      ]
     },
     "execution_count": 6,
     "metadata": {},
     "output_type": "execute_result"
    }
   ],
   "source": [
    "l_0"
   ]
  },
  {
   "cell_type": "code",
   "execution_count": 7,
   "metadata": {
    "collapsed": true
   },
   "outputs": [],
   "source": [
    "cells_graph, pos_vp = gt.geometric_graph(pos, l_0*1.1)"
   ]
  },
  {
   "cell_type": "code",
   "execution_count": null,
   "metadata": {
    "collapsed": true
   },
   "outputs": [],
   "source": []
  },
  {
   "cell_type": "code",
   "execution_count": 8,
   "metadata": {
    "collapsed": false
   },
   "outputs": [],
   "source": [
    "rhos = np.linalg.norm(pos[:, :2], axis=1)\n",
    "z_angle = np.pi/24\n",
    "d_theta = np.pi/12\n",
    "\n",
    "pseudo_x = pos[:, 2] * np.cos(z_angle) - rhos * np.sin(thetas + d_theta) * np.sin(z_angle)\n",
    "pseudo_y = rhos * np.cos(thetas + d_theta)\n",
    "\n",
    "pseudo_pos = gt.graph_draw(cells_graph, output='generated_cells.png')"
   ]
  },
  {
   "cell_type": "markdown",
   "metadata": {},
   "source": [
    "![the generated cells](generated_cells.png)"
   ]
  },
  {
   "cell_type": "code",
   "execution_count": 9,
   "metadata": {
    "collapsed": false
   },
   "outputs": [],
   "source": [
    "import pandas as pd\n",
    "pos = pd.DataFrame(pos, columns=['x', 'y', 'z'])\n"
   ]
  },
  {
   "cell_type": "code",
   "execution_count": 10,
   "metadata": {
    "collapsed": false
   },
   "outputs": [
    {
     "data": {
      "text/html": [
       "<div style=\"max-height:1000px;max-width:1500px;overflow:auto;\">\n",
       "<table border=\"1\" class=\"dataframe\">\n",
       "  <thead>\n",
       "    <tr style=\"text-align: right;\">\n",
       "      <th></th>\n",
       "      <th>x</th>\n",
       "      <th>y</th>\n",
       "      <th>z</th>\n",
       "    </tr>\n",
       "    <tr>\n",
       "      <th>cell</th>\n",
       "      <th></th>\n",
       "      <th></th>\n",
       "      <th></th>\n",
       "    </tr>\n",
       "  </thead>\n",
       "  <tbody>\n",
       "    <tr>\n",
       "      <th>0</th>\n",
       "      <td> 1.176320</td>\n",
       "      <td> 0.487248</td>\n",
       "      <td>-2.598076</td>\n",
       "    </tr>\n",
       "    <tr>\n",
       "      <th>1</th>\n",
       "      <td> 0.487248</td>\n",
       "      <td> 1.176320</td>\n",
       "      <td>-2.598076</td>\n",
       "    </tr>\n",
       "    <tr>\n",
       "      <th>2</th>\n",
       "      <td>-0.487248</td>\n",
       "      <td> 1.176320</td>\n",
       "      <td>-2.598076</td>\n",
       "    </tr>\n",
       "    <tr>\n",
       "      <th>3</th>\n",
       "      <td>-1.176320</td>\n",
       "      <td> 0.487248</td>\n",
       "      <td>-2.598076</td>\n",
       "    </tr>\n",
       "    <tr>\n",
       "      <th>4</th>\n",
       "      <td>-1.176320</td>\n",
       "      <td>-0.487248</td>\n",
       "      <td>-2.598076</td>\n",
       "    </tr>\n",
       "  </tbody>\n",
       "</table>\n",
       "</div>"
      ],
      "text/plain": [
       "             x         y         z\n",
       "cell                              \n",
       "0     1.176320  0.487248 -2.598076\n",
       "1     0.487248  1.176320 -2.598076\n",
       "2    -0.487248  1.176320 -2.598076\n",
       "3    -1.176320  0.487248 -2.598076\n",
       "4    -1.176320 -0.487248 -2.598076"
      ]
     },
     "execution_count": 10,
     "metadata": {},
     "output_type": "execute_result"
    }
   ],
   "source": [
    "pos.index.name = 'cell'\n",
    "\n",
    "pos.head()\n"
   ]
  },
  {
   "cell_type": "code",
   "execution_count": 11,
   "metadata": {
    "collapsed": true
   },
   "outputs": [],
   "source": [
    "from scipy.spatial import Voronoi, voronoi_plot_2d"
   ]
  },
  {
   "cell_type": "code",
   "execution_count": 16,
   "metadata": {
    "collapsed": false
   },
   "outputs": [
    {
     "data": {
      "text/plain": [
       "(-2.748893571891069, 3.1415926535897931)"
      ]
     },
     "execution_count": 16,
     "metadata": {},
     "output_type": "execute_result"
    }
   ],
   "source": [
    "thetas.min(), thetas.max()"
   ]
  },
  {
   "cell_type": "code",
   "execution_count": 114,
   "metadata": {
    "collapsed": false
   },
   "outputs": [],
   "source": [
    "thetas = np.arctan2(pos['y'], pos['x'])\n",
    "rhos = np.hypot(pos['y'], pos['x'])\n",
    "pos['theta'] = thetas\n",
    "pos['sigma'] = thetas * rhos\n",
    "pos['rho'] = rhos\n",
    "pos['sigma_r'] = ((thetas) % (2*np.pi)) * rhos\n",
    "\n",
    "voronoi = Voronoi(pos[['z', 'sigma']].values)\n",
    "voronoi_r = Voronoi(pos[['z', 'sigma_r']].values)\n",
    "\n",
    "#plt.plot(pos.z, pos.sigmas, 'bo')\n",
    "fig, (ax, ax_r) = plt.subplots(1, 2)\n",
    "\n",
    "voronoi_plot_2d(voronoi, ax=ax)\n",
    "voronoi_plot_2d(voronoi_r, ax=ax_r)\n",
    "\n",
    "for c in pos.index:\n",
    "    ax.text(pos.loc[c, 'z'], pos.loc[c, 'sigma'], str(c))\n",
    "    ax_r.text(pos.loc[c, 'z'], pos.loc[c, 'sigma_r'], str(c))\n",
    "\n",
    "    \n",
    "ax.set_aspect('equal')\n",
    "ax_r.set_aspect('equal')\n"
   ]
  },
  {
   "cell_type": "code",
   "execution_count": 128,
   "metadata": {
    "collapsed": false
   },
   "outputs": [],
   "source": [
    "voronoi.vertices.shape, voronoi_r.vertices.shape\n",
    "\n",
    "unique_links = [k for k in voronoi.ridge_dict.keys()]\n",
    "\n",
    "for k in voronoi_r.ridge_dict.keys():\n",
    "    if (not k in unique_links) and (not (k[1], k[0]) in unique_links):\n",
    "        unique_links.append(k)\n",
    "\n"
   ]
  },
  {
   "cell_type": "code",
   "execution_count": 129,
   "metadata": {
    "collapsed": false
   },
   "outputs": [
    {
     "name": "stdout",
     "output_type": "stream",
     "text": [
      "162\n"
     ]
    }
   ],
   "source": [
    "print(len(unique_links))"
   ]
  },
  {
   "cell_type": "code",
   "execution_count": 117,
   "metadata": {
    "collapsed": false
   },
   "outputs": [
    {
     "data": {
      "text/plain": [
       "([17, 46], [0, 6])"
      ]
     },
     "execution_count": 117,
     "metadata": {},
     "output_type": "execute_result"
    }
   ],
   "source": [
    "voronoi.ridge_dict[(0, 9)], voronoi_r.ridge_dict[(9, 0)]\n"
   ]
  },
  {
   "cell_type": "code",
   "execution_count": 120,
   "metadata": {
    "collapsed": false
   },
   "outputs": [
    {
     "data": {
      "text/plain": [
       "array([-2.30940108,  1.        ])"
      ]
     },
     "execution_count": 120,
     "metadata": {},
     "output_type": "execute_result"
    }
   ],
   "source": [
    "voronoi.vertices[17]"
   ]
  },
  {
   "cell_type": "code",
   "execution_count": 121,
   "metadata": {
    "collapsed": true
   },
   "outputs": [],
   "source": [
    "graph = gt.Graph(directed=True)\n",
    "\n",
    "zeds = graph.new_vertex_property('double')\n",
    "thetas = graph.new_vertex_property('double')\n",
    "is_cell_vert = graph.new_vertex_property('double')\n",
    "is_junction_edge = graph.new_vertex_property('double')\n",
    "\n",
    "idx_dict = {}\n",
    "\n",
    "for n, point in enumerate(voronoi.points):\n",
    "    v = graph.add_vertex()\n",
    "    zeds[v] = point[0]\n",
    "    thetas[v] = point[1] / rho_c\n",
    "    is_cell_vert[v] = 1\n",
    "    idx_dict[n] = graph.vertex_index[v]\n",
    "    \n",
    "for n, point in enumerate(voronoi.vertices):\n",
    "    v = graph.add_vertex()\n",
    "    zeds[v] = point[0]\n",
    "    thetas[v] = point[1] / rho_c\n",
    "    is_cell_vert[v] = 0\n",
    "    idx_dict[n] = graph.vertex_index[v]\n",
    "    \n",
    "for (c0, c1), (j0, j1) in voronoi.ridge_dict:\n",
    "    cell0 = graph.vertex(c0)\n",
    "    cell1 = graph.vertex(c1)\n",
    "    \n",
    "    "
   ]
  },
  {
   "cell_type": "code",
   "execution_count": 124,
   "metadata": {
    "collapsed": false
   },
   "outputs": [
    {
     "data": {
      "text/plain": [
       "array([[ -2.30940108e+00,   2.00000000e+00],\n",
       "       [  2.30940108e+00,   2.00000000e+00],\n",
       "       [ -8.66025404e-01,   4.50000000e+00],\n",
       "       [ -5.77350269e-01,   2.00000000e+00],\n",
       "       [ -1.15470054e+00,   2.00000000e+00],\n",
       "       [  2.30940108e+00,  -1.00000000e+00],\n",
       "       [ -2.22044605e-16,  -4.00000000e+00],\n",
       "       [ -2.02072594e+00,  -1.50000000e+00],\n",
       "       [ -2.30940108e+00,  -1.00000000e+00],\n",
       "       [  8.66025404e-01,   4.50000000e+00],\n",
       "       [ -2.02072594e+00,   2.50000000e+00],\n",
       "       [ -2.30940108e+00,   3.00000000e+00],\n",
       "       [ -2.02072594e+00,   3.50000000e+00],\n",
       "       [ -1.44337567e+00,   2.50000000e+00],\n",
       "       [ -1.44337567e+00,   3.50000000e+00],\n",
       "       [ -1.15470054e+00,   3.00000000e+00],\n",
       "       [ -2.02072594e+00,   1.50000000e+00],\n",
       "       [ -2.30940108e+00,   1.00000000e+00],\n",
       "       [ -1.44337567e+00,   1.50000000e+00],\n",
       "       [ -1.15470054e+00,   1.00000000e+00],\n",
       "       [  1.44337567e+00,  -1.50000000e+00],\n",
       "       [  2.02072594e+00,  -1.50000000e+00],\n",
       "       [  1.15470054e+00,   2.00000000e+00],\n",
       "       [  5.77350269e-01,   2.00000000e+00],\n",
       "       [  2.30940108e+00,  -4.48691293e-16],\n",
       "       [  2.02072594e+00,  -5.00000000e-01],\n",
       "       [ -2.30940108e+00,  -2.00000000e+00],\n",
       "       [ -5.77350269e-01,  -3.00000000e+00],\n",
       "       [ -5.77350269e-01,  -4.48691293e-16],\n",
       "       [ -2.88675135e-01,  -5.00000000e-01],\n",
       "       [ -2.88675135e-01,   2.50000000e+00],\n",
       "       [ -2.88675135e-01,   3.50000000e+00],\n",
       "       [  2.88675135e-01,   2.50000000e+00],\n",
       "       [ -5.77350269e-01,   3.00000000e+00],\n",
       "       [  2.88675135e-01,   3.50000000e+00],\n",
       "       [  5.77350269e-01,   3.00000000e+00],\n",
       "       [  2.02072594e+00,   2.50000000e+00],\n",
       "       [  2.30940108e+00,   3.00000000e+00],\n",
       "       [  2.02072594e+00,   3.50000000e+00],\n",
       "       [  1.44337567e+00,   2.50000000e+00],\n",
       "       [  1.15470054e+00,   3.00000000e+00],\n",
       "       [  1.44337567e+00,   3.50000000e+00],\n",
       "       [ -1.44337567e+00,  -5.00000000e-01],\n",
       "       [ -2.30940108e+00,  -5.12790050e-16],\n",
       "       [ -2.02072594e+00,  -5.00000000e-01],\n",
       "       [ -1.15470054e+00,  -5.12790050e-16],\n",
       "       [ -2.02072594e+00,   5.00000000e-01],\n",
       "       [ -1.44337567e+00,   5.00000000e-01],\n",
       "       [  2.30940108e+00,  -2.00000000e+00],\n",
       "       [  5.77350269e-01,  -3.00000000e+00],\n",
       "       [  1.15470054e+00,  -2.00000000e+00],\n",
       "       [  2.30940108e+00,   1.00000000e+00],\n",
       "       [  1.44337567e+00,   1.50000000e+00],\n",
       "       [  2.02072594e+00,   1.50000000e+00],\n",
       "       [  1.15470054e+00,   1.00000000e+00],\n",
       "       [  2.02072594e+00,   5.00000000e-01],\n",
       "       [  1.44337567e+00,   5.00000000e-01],\n",
       "       [ -1.73205081e+00,  -4.00000000e+00],\n",
       "       [ -2.30940108e+00,  -3.00000000e+00],\n",
       "       [ -2.02072594e+00,  -2.50000000e+00],\n",
       "       [ -1.15470054e+00,  -3.00000000e+00],\n",
       "       [ -1.44337567e+00,  -2.50000000e+00],\n",
       "       [ -5.77350269e-01,  -1.00000000e+00],\n",
       "       [ -1.15470054e+00,  -1.00000000e+00],\n",
       "       [ -1.44337567e+00,  -1.50000000e+00],\n",
       "       [ -1.15470054e+00,  -2.00000000e+00],\n",
       "       [ -5.77350269e-01,   1.00000000e+00],\n",
       "       [  5.77350269e-01,   1.00000000e+00],\n",
       "       [ -2.88675135e-01,   1.50000000e+00],\n",
       "       [  2.88675135e-01,   1.50000000e+00],\n",
       "       [ -2.88675135e-01,   5.00000000e-01],\n",
       "       [  2.88675135e-01,   5.00000000e-01],\n",
       "       [  1.44337567e+00,  -5.00000000e-01],\n",
       "       [  5.77350269e-01,  -1.00000000e+00],\n",
       "       [  1.15470054e+00,  -1.00000000e+00],\n",
       "       [  1.15470054e+00,  -4.44089210e-16],\n",
       "       [  5.77350269e-01,  -4.44089210e-16],\n",
       "       [  2.88675135e-01,  -5.00000000e-01],\n",
       "       [  1.73205081e+00,  -4.00000000e+00],\n",
       "       [  2.02072594e+00,  -2.50000000e+00],\n",
       "       [  2.30940108e+00,  -3.00000000e+00],\n",
       "       [  1.15470054e+00,  -3.00000000e+00],\n",
       "       [  1.44337567e+00,  -2.50000000e+00],\n",
       "       [  2.88675135e-01,  -1.50000000e+00],\n",
       "       [ -2.88675135e-01,  -2.50000000e+00],\n",
       "       [  5.77350269e-01,  -2.00000000e+00],\n",
       "       [  2.88675135e-01,  -2.50000000e+00],\n",
       "       [ -2.88675135e-01,  -1.50000000e+00],\n",
       "       [ -5.77350269e-01,  -2.00000000e+00]])"
      ]
     },
     "execution_count": 124,
     "metadata": {},
     "output_type": "execute_result"
    }
   ],
   "source": [
    "voronoi.vertices"
   ]
  },
  {
   "cell_type": "code",
   "execution_count": 119,
   "metadata": {
    "collapsed": false
   },
   "outputs": [
    {
     "data": {
      "text/plain": [
       "True"
      ]
     },
     "execution_count": 119,
     "metadata": {},
     "output_type": "execute_result"
    }
   ],
   "source": [
    "[17, 46] in voronoi.ridge_vertices"
   ]
  },
  {
   "cell_type": "code",
   "execution_count": 113,
   "metadata": {
    "collapsed": false
   },
   "outputs": [
    {
     "data": {
      "text/plain": [
       "(array([-2.30940108,  1.        ]), array([-6.30940108,  1.        ]))"
      ]
     },
     "execution_count": 113,
     "metadata": {},
     "output_type": "execute_result"
    }
   ],
   "source": [
    "voronoi.vertices[17], voronoi_r.vertices[11]"
   ]
  },
  {
   "cell_type": "code",
   "execution_count": 96,
   "metadata": {
    "collapsed": false
   },
   "outputs": [],
   "source": [
    "from mpl_toolkits.mplot3d import Axes3D\n",
    "\n",
    "fig = plt.figure()\n",
    "ax = fig.gca(projection='3d')\n",
    "\n",
    "ax.scatter(voronoi_3d.vertices[:, 0], voronoi_3d.vertices[:, 1], voronoi_3d.vertices[:, 2], c='k')\n",
    "ax.scatter(voronoi_3d.points[:, 0], voronoi_3d.points[:, 1], voronoi_3d.points[:, 2], c='r')\n",
    "\n",
    "for simplex in voronoi_3d.ridge_vertices:\n",
    "    simplex = np.asarray(simplex)\n",
    "    if np.all(simplex >= 0):\n",
    "        ax.plot(voronoi_3d.vertices[simplex, 0], \n",
    "                voronoi_3d.vertices[simplex, 1],\n",
    "                voronoi_3d.vertices[simplex, 2], 'k-')\n"
   ]
  }
 ],
 "metadata": {
  "kernelspec": {
   "display_name": "Python 3",
   "language": "python",
   "name": "python3"
  },
  "language_info": {
   "codemirror_mode": {
    "name": "ipython",
    "version": 3
   },
   "file_extension": ".py",
   "mimetype": "text/x-python",
   "name": "python",
   "nbconvert_exporter": "python",
   "pygments_lexer": "ipython3",
   "version": "3.4.3"
  }
 },
 "nbformat": 4,
 "nbformat_minor": 0
}
