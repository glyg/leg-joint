{
 "metadata": {
  "name": "3 - Cell division and type 1 transition"
 },
 "nbformat": 3,
 "nbformat_minor": 0,
 "worksheets": [
  {
   "cells": [
    {
     "cell_type": "markdown",
     "metadata": {},
     "source": [
      "# On mod\u00e9lise en premier lieu la division, qui permet de 'faire pousser' le tissus"
     ]
    },
    {
     "cell_type": "code",
     "collapsed": false,
     "input": [
      "%run nb_init.py\n",
      "eptm = lj.Epithelium(graphXMLfile='../saved_graphs/xml/latest.xml',\n",
      "                     paramfile='../default/params.xml')\n",
      "# axes = lj.plot_ortho_proj(eptm)"
     ],
     "language": "python",
     "metadata": {},
     "outputs": [
      {
       "output_type": "stream",
       "stream": "stdout",
       "text": [
        "Initial cells\n",
        "Initial junctions\n",
        "Scaling all the distances by a factor 1.000"
       ]
      },
      {
       "output_type": "stream",
       "stream": "stdout",
       "text": [
        "\n"
       ]
      }
     ],
     "prompt_number": 13
    },
    {
     "cell_type": "markdown",
     "metadata": {},
     "source": [
      "## Cell division\n",
      "\n",
      "### Cell growth"
     ]
    },
    {
     "cell_type": "code",
     "collapsed": false,
     "input": [
      "\n",
      "eptm.set_local_mask(None)\n",
      "mother_cell = eptm.graph.vertex(12)\n",
      "eptm.set_local_mask(mother_cell)\n",
      "area0 = eptm.cells.areas[mother_cell]\n",
      "\n",
      "growth_rate = 2.\n",
      "eptm.cells.prefered_area[mother_cell] *= growth_rate\n",
      "eptm.cells.prefered_vol[mother_cell] *= growth_rate\n",
      "eptm.update_geometry()\n",
      "eptm.update_gradient()"
     ],
     "language": "python",
     "metadata": {},
     "outputs": [],
     "prompt_number": 14
    },
    {
     "cell_type": "code",
     "collapsed": false,
     "input": [
      "eptm.__verbose__ = False\n",
      "pos0, pos1 = local_optimum(eptm, tol=1e-8, method='fmin_l_bfgs_b')\n",
      "print 'Current relative area: %.3f' % (eptm.cells.areas[mother_cell] / area0)\n",
      "eptm.__verbose__ = False"
     ],
     "language": "python",
     "metadata": {},
     "outputs": [
      {
       "output_type": "stream",
       "stream": "stdout",
       "text": [
        "Current relative area: 1.402\n"
       ]
      }
     ],
     "prompt_number": 15
    },
    {
     "cell_type": "code",
     "collapsed": false,
     "input": [
      "fig, ax = plt.subplots(1, 1)\n",
      "eptm.update_gradient()\n",
      "\n",
      "lj.plot_cells_zs(eptm, ax)\n",
      "lj.sz_scatter(eptm, eptm.grad_radial, ax, s=100., vfilt=(eptm.is_cell_vert, True))\n"
     ],
     "language": "python",
     "metadata": {},
     "outputs": [],
     "prompt_number": 7
    },
    {
     "cell_type": "code",
     "collapsed": false,
     "input": [
      "eptm.__verbose__ = False\n",
      "@before_after\n",
      "def show_division(eptm, mother_cell):\n",
      "    j= lj.cell_division(eptm, mother_cell, verbose=True)#, phi_division=np.pi/2.)\n",
      "    # Updates\n",
      "    eptm.update_geometry()\n",
      "    eptm.update_gradient()\n",
      "    return j\n",
      "\n",
      "eptm.set_local_mask(None)\n",
      "eptm.set_local_mask(mother_cell)\n",
      "\n",
      "septum = show_division(eptm, mother_cell)\n",
      "jv0, jv1, mother_cell, daughter_cell = septum\n",
      "eptm.__verbose__ = False"
     ],
     "language": "python",
     "metadata": {},
     "outputs": [
      {
       "output_type": "stream",
       "stream": "stdout",
       "text": [
        "Cell 871 is born\n"
       ]
      }
     ],
     "prompt_number": 16
    },
    {
     "cell_type": "markdown",
     "metadata": {},
     "source": [
      "### Energy minimisation"
     ]
    },
    {
     "cell_type": "code",
     "collapsed": false,
     "input": [
      "pos0, pos1 = local_optimum(eptm, method='fmin_l_bfgs_b', tol=1e-4)"
     ],
     "language": "python",
     "metadata": {},
     "outputs": [],
     "prompt_number": 17
    },
    {
     "cell_type": "markdown",
     "metadata": {},
     "source": [
      "# Type one transition\n",
      "\n",
      "Please refer the original definition in  [Farhadifar et al. Curr Biol. 2007](http://dx.doi.org/10.1016/j.cub.2007.11.049),\n",
      "Suppplementary figure S1)\n",
      "\n",
      "In `ASCII art` (letters represent junctions and number represent cells):\n",
      "\n",
      "    e 2 d                  \n",
      "     \\ /         e  d        e  2  d  \n",
      "      b           \\/          \\   /\n",
      "    1 | 3  ---->  ab  ----> 1  a-b  3  \n",
      "      a           /\\          /   \\    \n",
      "     / \\         f  c        f  4  c \n",
      "    f 4 c                     \n",
      "\n",
      "### Paramters\n",
      "\n",
      "The arguments can be either:\n",
      "\n",
      "* two cell vertices (**1** and **3**),\n",
      "* two junction vertices (**a** and **b**)\n",
      "* or a single edge (between **a** and **b**)"
     ]
    },
    {
     "cell_type": "markdown",
     "metadata": {},
     "source": [
      "## On choisit deux cellules c\u00f4te \u00e0 c\u00f4te"
     ]
    },
    {
     "cell_type": "code",
     "collapsed": false,
     "input": [
      "eptm.set_local_mask(None)\n",
      "cell1, cell3 = eptm.graph.vertex(16), eptm.graph.vertex(12)\n",
      "eptm.set_local_mask(cell1)\n",
      "eptm.set_local_mask(cell3)"
     ],
     "language": "python",
     "metadata": {},
     "outputs": [],
     "prompt_number": 18
    },
    {
     "cell_type": "markdown",
     "metadata": {},
     "source": [
      "## Et on peut provoquer une transition de type 1"
     ]
    },
    {
     "cell_type": "code",
     "collapsed": false,
     "input": [
      "@before_after\n",
      "def show_type1(eptm, cells):\n",
      "    cell1, cell3 = cells\n",
      "    modified_cells, modified_jverts = lj.type1_transition(eptm, (cell1, cell3))\n",
      "    \n",
      "show_type1(eptm, (cell1, cell3))"
     ],
     "language": "python",
     "metadata": {},
     "outputs": [],
     "prompt_number": 9
    },
    {
     "cell_type": "code",
     "collapsed": false,
     "input": [
      "po0, pos1 = local_optimum(eptm, tol=1e-4)"
     ],
     "language": "python",
     "metadata": {},
     "outputs": [],
     "prompt_number": 11
    },
    {
     "cell_type": "code",
     "collapsed": false,
     "input": [],
     "language": "python",
     "metadata": {},
     "outputs": [],
     "prompt_number": 11
    }
   ],
   "metadata": {}
  }
 ]
}