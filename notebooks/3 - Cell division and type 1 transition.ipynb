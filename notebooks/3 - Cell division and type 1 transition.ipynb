{
 "metadata": {
  "name": "3 - Cell division and type 1 transition"
 },
 "nbformat": 3,
 "nbformat_minor": 0,
 "worksheets": [
  {
   "cells": [
    {
     "cell_type": "markdown",
     "metadata": {},
     "source": [
      "# On mod\u00e9lise en premier lieu la division, qui permet de 'faire pousser' le tissus"
     ]
    },
    {
     "cell_type": "code",
     "collapsed": false,
     "input": [
      "%run nb_init.py\n",
      "eptm = lj.Epithelium(#graphXMLfile='../saved_graphs/nb_division.xml.gz',\n",
      "                     paramfile='../default/params.xml')\n",
      "# ax = lj.plot_cells_sz(eptm)"
     ],
     "language": "python",
     "metadata": {},
     "outputs": [
      {
       "output_type": "stream",
       "stream": "stdout",
       "text": [
        "Initial cells\n",
        "Initial junctions"
       ]
      },
      {
       "output_type": "stream",
       "stream": "stdout",
       "text": [
        "\n",
        "2 triangles were dropped"
       ]
      },
      {
       "output_type": "stream",
       "stream": "stdout",
       "text": [
        "\n",
        "2 junction edges were dropped"
       ]
      },
      {
       "output_type": "stream",
       "stream": "stdout",
       "text": [
        "\n",
        "Scaling all the distances by a factor 0.759"
       ]
      },
      {
       "output_type": "stream",
       "stream": "stdout",
       "text": [
        "\n"
       ]
      },
      {
       "output_type": "stream",
       "stream": "stderr",
       "text": [
        "/usr/local/lib/python2.7/dist-packages/mpl_toolkits/__init__.py:2: UserWarning: Module dateutil was already imported from /usr/local/lib/python2.7/dist-packages/dateutil/__init__.pyc, but /usr/lib/python2.7/dist-packages is being added to sys.path\n",
        "  __import__('pkg_resources').declare_namespace(__name__)\n"
       ]
      }
     ],
     "prompt_number": 1
    },
    {
     "cell_type": "markdown",
     "metadata": {},
     "source": [
      "## Cell division\n",
      "\n",
      "### Cell growth"
     ]
    },
    {
     "cell_type": "code",
     "collapsed": false,
     "input": [
      "eptm.set_local_mask(None)\n",
      "mother_cell = eptm.graph.vertex(12)\n",
      "eptm.set_local_mask(mother_cell)\n",
      "area0 = eptm.cells.areas[mother_cell]\n",
      "\n",
      "growth_rate = 1.8\n",
      "eptm.cells.prefered_area[mother_cell] *= growth_rate\n",
      "eptm.update_apical_geom()\n",
      "eptm.update_gradient()\n",
      "\n",
      "pos0, pos1 = local_optimum(eptm, tol=1e-4, method='fmin_l_bfgs_b')\n",
      "print 'Current relative area: %.3f' % (eptm.cells.areas[mother_cell] / area0)\n"
     ],
     "language": "python",
     "metadata": {},
     "outputs": [
      {
       "output_type": "stream",
       "stream": "stdout",
       "text": [
        "Current relative area: 2.062\n"
       ]
      }
     ],
     "prompt_number": 2
    },
    {
     "cell_type": "code",
     "collapsed": false,
     "input": [
      "fig, ax = plt.subplots(1, 1)\n",
      "eptm.calc_radial_grad()\n",
      "print eptm.calc_radial_energy()\n",
      "print eptm.calc_energy()\n",
      "\n",
      "lj.plot_cells_sz(eptm, ax)\n",
      "lj.sz_scatter(eptm, eptm.grad_radial, ax, s=100., vfilt=(eptm.is_cell_vert, True))\n"
     ],
     "language": "python",
     "metadata": {},
     "outputs": [
      {
       "output_type": "stream",
       "stream": "stdout",
       "text": [
        "577.656292701\n",
        "0.456363194677\n"
       ]
      }
     ],
     "prompt_number": 2
    },
    {
     "cell_type": "code",
     "collapsed": false,
     "input": [
      "for k, v in  eptm.params.items():\n",
      "    print k, v"
     ],
     "language": "python",
     "metadata": {},
     "outputs": [
      {
       "output_type": "stream",
       "stream": "stdout",
       "text": [
        "pos_noise 0.01\n",
        "lambda_0 4.3\n",
        "n_sigmas 7\n",
        "rho0 13.0\n",
        "elasticity 1.0\n",
        "prefered_area 12.0\n",
        "theta_cutoff 0.01\n",
        "vol_elasticity 0.0833333333333\n",
        "line_tension 4.9883063258\n",
        "pos_cutoff 1e-35\n",
        "rho_lumen 4.0\n",
        "n_zeds 5\n",
        "radial_tension 4.15692193817\n",
        "contractility 0.48\n"
       ]
      }
     ],
     "prompt_number": 3
    },
    {
     "cell_type": "code",
     "collapsed": false,
     "input": [
      "figure();\n",
      "plt.plot(eptm.grad_radial.fa, 'o')\n"
     ],
     "language": "python",
     "metadata": {},
     "outputs": [
      {
       "output_type": "pyout",
       "prompt_number": 4,
       "text": [
        "[<matplotlib.lines.Line2D at 0xb62794c>]"
       ]
      }
     ],
     "prompt_number": 4
    },
    {
     "cell_type": "code",
     "collapsed": false,
     "input": [
      "lj.plot_cells_sz(eptm, c_text=True)"
     ],
     "language": "python",
     "metadata": {},
     "outputs": [
      {
       "output_type": "pyout",
       "prompt_number": 4,
       "text": [
        "<matplotlib.axes.AxesSubplot at 0xba4474c>"
       ]
      }
     ],
     "prompt_number": 4
    },
    {
     "cell_type": "code",
     "collapsed": false,
     "input": [
      "eptm.__verbose__ = False\n",
      "@before_after\n",
      "def show_division(eptm, mother_cell):\n",
      "    j= lj.cell_division(eptm, mother_cell, verbose=True)#, phi_division=np.pi/2.)\n",
      "    # Updates\n",
      "    eptm.update_apical_geom()\n",
      "    eptm.update_gradient()\n",
      "    return j\n",
      "\n",
      "eptm.set_local_mask(None)\n",
      "eptm.set_local_mask(mother_cell)\n",
      "\n",
      "septum = show_division(eptm, mother_cell)\n",
      "jv0, jv1, mother_cell, daughter_cell = septum\n",
      "eptm.__verbose__ = False"
     ],
     "language": "python",
     "metadata": {},
     "outputs": []
    },
    {
     "cell_type": "markdown",
     "metadata": {},
     "source": [
      "## Energy minimisation"
     ]
    },
    {
     "cell_type": "code",
     "collapsed": false,
     "input": [
      "pos0, pos1 = local_optimum(eptm, tol=1e-4, method='fmin_l_bfgs_b')"
     ],
     "language": "python",
     "metadata": {},
     "outputs": [],
     "prompt_number": 4
    },
    {
     "cell_type": "markdown",
     "metadata": {},
     "source": [
      "# Type one transition\n",
      "\n",
      "Please refer the original definition in  [Farhadifar et al. Curr Biol. 2007](http://dx.doi.org/10.1016/j.cub.2007.11.049),\n",
      "Suppplementary figure S1)\n",
      "\n",
      "In `ASCII art` (letters represent junctions and number represent cells):\n",
      "\n",
      "    e 2 d                  \n",
      "     \\ /         e  d        e  2  d  \n",
      "      b           \\/          \\   /\n",
      "    1 | 3  ---->  ab  ----> 1  a-b  3  \n",
      "      a           /\\          /   \\    \n",
      "     / \\         f  c        f  4  c \n",
      "    f 4 c                     \n",
      "\n",
      "### Paramters\n",
      "\n",
      "The arguments can be either:\n",
      "\n",
      "* two cell vertices (**1** and **3**),\n",
      "* two junction vertices (**a** and **b**)\n",
      "* or a single edge (between **a** and **b**)"
     ]
    },
    {
     "cell_type": "markdown",
     "metadata": {},
     "source": [
      "## On choisit deux cellules c\u00f4te \u00e0 c\u00f4te"
     ]
    },
    {
     "cell_type": "code",
     "collapsed": false,
     "input": [
      "eptm.set_local_mask(None)\n",
      "cell1, cell3 = eptm.graph.vertex(3), eptm.graph.vertex(33)\n",
      "eptm.set_local_mask(cell1)\n",
      "eptm.set_local_mask(cell3)"
     ],
     "language": "python",
     "metadata": {},
     "outputs": [],
     "prompt_number": 5
    },
    {
     "cell_type": "markdown",
     "metadata": {},
     "source": [
      "## Et on peut provoquer une transition de type 1"
     ]
    },
    {
     "cell_type": "code",
     "collapsed": false,
     "input": [
      "@before_after\n",
      "def show_type1(eptm, cells):\n",
      "    cell1, cell3 = cells\n",
      "    modified_cells, modified_jverts = lj.type1_transition(eptm, (cell1, cell3))\n",
      "    \n",
      "show_type1(eptm, (cell1, cell3))"
     ],
     "language": "python",
     "metadata": {},
     "outputs": [],
     "prompt_number": 6
    },
    {
     "cell_type": "code",
     "collapsed": false,
     "input": [
      "po0, pos1 = local_optimum(eptm, tol=1e-4)"
     ],
     "language": "python",
     "metadata": {},
     "outputs": [],
     "prompt_number": 7
    },
    {
     "cell_type": "code",
     "collapsed": false,
     "input": [
      "fig, ax = plt.subplots()\n",
      "eptm.calc_radial_grad()\n",
      "lj.sz_scatter(eptm, eptm.grad_radial, ax)"
     ],
     "language": "python",
     "metadata": {},
     "outputs": [],
     "prompt_number": 8
    },
    {
     "cell_type": "code",
     "collapsed": false,
     "input": [],
     "language": "python",
     "metadata": {},
     "outputs": []
    }
   ],
   "metadata": {}
  }
 ]
}