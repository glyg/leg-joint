{
 "metadata": {
  "name": "3 - Cell division and type 1 transition"
 },
 "nbformat": 3,
 "nbformat_minor": 0,
 "worksheets": [
  {
   "cells": [
    {
     "cell_type": "markdown",
     "metadata": {},
     "source": [
      "# On mod\u00e9lise en premier lieu la division, qui permet de 'faire pousser' le tissus"
     ]
    },
    {
     "cell_type": "code",
     "collapsed": false,
     "input": [
      "%load_ext autoreload\n",
      "%autoreload 2\n"
     ],
     "language": "python",
     "metadata": {},
     "outputs": [],
     "prompt_number": 2
    },
    {
     "cell_type": "code",
     "collapsed": false,
     "input": [
      "%run nb_init.py\n",
      "eptm = lj.Epithelium(graphXMLfile='../saved_graphs/xml/initial_graph.xml',\n",
      "                     paramfile='../default/params.xml')\n"
     ],
     "language": "python",
     "metadata": {},
     "outputs": [
      {
       "output_type": "stream",
       "stream": "stdout",
       "text": [
        "Created new graph\n",
        "2 triangles were dropped"
       ]
      },
      {
       "output_type": "stream",
       "stream": "stdout",
       "text": [
        "\n",
        "2 junction edges were dropped"
       ]
      },
      {
       "output_type": "stream",
       "stream": "stdout",
       "text": [
        "\n"
       ]
      }
     ],
     "prompt_number": 18
    },
    {
     "cell_type": "code",
     "collapsed": false,
     "input": [
      "eptm.graph.save('../saved_graphs/xml/initial_graph.xml')"
     ],
     "language": "python",
     "metadata": {},
     "outputs": [],
     "prompt_number": 19
    },
    {
     "cell_type": "code",
     "collapsed": false,
     "input": [
      "eptm.isotropic_relax()\n",
      "print(eptm.check_phase_space()[1])"
     ],
     "language": "python",
     "metadata": {},
     "outputs": [
      {
       "output_type": "stream",
       "stream": "stdout",
       "text": [
        "ok!\n"
       ]
      }
     ],
     "prompt_number": 12
    },
    {
     "cell_type": "code",
     "collapsed": false,
     "input": [
      "eptm.set_local_mask(None)\n",
      "cell = eptm.graph.vertex(60)\n",
      "eptm.set_local_mask(cell)\n",
      "eptm.update_gradient()\n",
      "axes = lj.plot_ortho_proj(eptm, text=True, local=True)\n",
      "axes = lj.plot_ortho_gradients(eptm, axes=axes, scale=10., approx=1)\n",
      "axes = lj.plot_ortho_gradients(eptm, axes=axes, scale=10., approx=0)"
     ],
     "language": "python",
     "metadata": {},
     "outputs": [],
     "prompt_number": 5
    },
    {
     "cell_type": "markdown",
     "metadata": {},
     "source": [
      "## Cell division\n",
      "\n",
      "### Cell growth"
     ]
    },
    {
     "cell_type": "code",
     "collapsed": false,
     "input": [
      "eptm.set_local_mask(None)\n",
      "mother_cell = eptm.graph.vertex(60)\n",
      "eptm.set_local_mask(mother_cell)\n",
      "#mother_cell = eptm.graph.vertex(32)\n",
      "#eptm.set_local_mask(mother_cell)\n",
      "area0 = eptm.cells.areas[mother_cell]\n",
      "\n",
      "growth_rate = 1.8\n",
      "\n",
      "eptm.cells.prefered_vol[mother_cell] *= growth_rate\n",
      "#eptm.update_geometry()\n",
      "eptm.update_gradient()"
     ],
     "language": "python",
     "metadata": {},
     "outputs": [],
     "prompt_number": 13
    },
    {
     "cell_type": "code",
     "collapsed": false,
     "input": [
      "axes = lj.plot_ortho_proj(eptm, text=True, vfilt=eptm.is_local_vert, efilt=eptm.is_local_edge)\n",
      "axes = lj.plot_ortho_gradients(eptm, axes=axes, scale=4., approx=0)\n",
      "axes = lj.plot_ortho_gradients(eptm, axes=axes, scale=4., approx=1)\n",
      "#lj.optimizers.check_local_grad(eptm)\n"
     ],
     "language": "python",
     "metadata": {},
     "outputs": [],
     "prompt_number": 14
    },
    {
     "cell_type": "code",
     "collapsed": false,
     "input": [
      "eptm.__verbose__ = False\n",
      "pos0, pos1 = local_optimum(eptm, tol=1e-3, method='fmin_l_bfgs_b', approx_grad=0)\n",
      "print 'Current relative area: %.3f' % (eptm.cells.areas[mother_cell] / area0)\n",
      "eptm.__verbose__ = False"
     ],
     "language": "python",
     "metadata": {},
     "outputs": [
      {
       "output_type": "stream",
       "stream": "stdout",
       "text": [
        "Current relative area: 1.638\n"
       ]
      }
     ],
     "prompt_number": 15
    },
    {
     "cell_type": "code",
     "collapsed": false,
     "input": [
      "eptm.__verbose__ = False\n",
      "@before_after\n",
      "def show_division(eptm, mother_cell):\n",
      "    septum = lj.cell_division(eptm, mother_cell, verbose=True)#, phi_division=np.pi/2.)\n",
      "    return septum\n",
      "\n",
      "eptm.set_local_mask(None)\n",
      "eptm.set_local_mask(mother_cell)\n",
      "\n",
      "septum = show_division(eptm, mother_cell)\n",
      "if septum is not None:\n",
      "    jv0, jv1, mother_cell, daughter_cell = septum\n",
      "eptm.__verbose__ = False"
     ],
     "language": "python",
     "metadata": {},
     "outputs": [
      {
       "output_type": "stream",
       "stream": "stdout",
       "text": [
        "Cell 1519 is born\n"
       ]
      }
     ],
     "prompt_number": 16
    },
    {
     "cell_type": "markdown",
     "metadata": {},
     "source": [
      "### Energy minimisation"
     ]
    },
    {
     "cell_type": "code",
     "collapsed": false,
     "input": [
      "pos0, pos1 = local_optimum(eptm)"
     ],
     "language": "python",
     "metadata": {},
     "outputs": [],
     "prompt_number": 17
    },
    {
     "cell_type": "markdown",
     "metadata": {},
     "source": [
      "# Type one transition\n",
      "\n",
      "Please refer the original definition in  [Farhadifar et al. Curr Biol. 2007](http://dx.doi.org/10.1016/j.cub.2007.11.049),\n",
      "Suppplementary figure S1)\n",
      "\n",
      "In `ASCII art` (letters represent junctions and number represent cells):\n",
      "\n",
      "    e 2 d                  \n",
      "     \\ /         e  d        e  2  d  \n",
      "      b           \\/          \\   /\n",
      "    1 | 3  ---->  ab  ----> 1  a-b  3  \n",
      "      a           /\\          /   \\    \n",
      "     / \\         f  c        f  4  c \n",
      "    f 4 c                     \n",
      "\n",
      "### Paramters\n",
      "\n",
      "The arguments can be either:\n",
      "\n",
      "* two cell vertices (**1** and **3**),\n",
      "* two junction vertices (**a** and **b**)\n",
      "* or a single edge (between **a** and **b**)"
     ]
    },
    {
     "cell_type": "markdown",
     "metadata": {},
     "source": [
      "## On choisit deux cellules c\u00f4te \u00e0 c\u00f4te"
     ]
    },
    {
     "cell_type": "code",
     "collapsed": false,
     "input": [
      "eptm.set_local_mask(None)\n",
      "cell1, cell3 = eptm.graph.vertex(420), eptm.graph.vertex(1519)\n",
      "eptm.set_local_mask(cell1)\n",
      "eptm.set_local_mask(cell3)"
     ],
     "language": "python",
     "metadata": {},
     "outputs": [],
     "prompt_number": 71
    },
    {
     "cell_type": "markdown",
     "metadata": {},
     "source": [
      "## Et on peut provoquer une transition de type 1"
     ]
    },
    {
     "cell_type": "code",
     "collapsed": false,
     "input": [
      "@before_after\n",
      "def show_type1(eptm, cells):\n",
      "    cell1, cell3 = cells\n",
      "    modified_cells, modified_jverts = lj.type1_transition(eptm, (cell1, cell3))\n",
      "    \n",
      "show_type1(eptm, (cell1, cell3))"
     ],
     "language": "python",
     "metadata": {},
     "outputs": [],
     "prompt_number": 72
    },
    {
     "cell_type": "code",
     "collapsed": false,
     "input": [
      "po0, pos1 = local_optimum(eptm, tol=1e-3, approx_grad=0)"
     ],
     "language": "python",
     "metadata": {},
     "outputs": [],
     "prompt_number": 73
    },
    {
     "cell_type": "code",
     "collapsed": false,
     "input": [],
     "language": "python",
     "metadata": {},
     "outputs": [],
     "prompt_number": 11
    }
   ],
   "metadata": {}
  }
 ]
}