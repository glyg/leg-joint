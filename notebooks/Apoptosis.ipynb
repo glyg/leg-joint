{
 "metadata": {
  "name": "Apoptosis"
 }, 
 "nbformat": 2, 
 "worksheets": [
  {
   "cells": [
    {
     "cell_type": "code", 
     "collapsed": false, 
     "input": [
      "from dynamics import Epithelium", 
      "eptm = Epithelium(paramfile='default/few_big_cells.xml')"
     ], 
     "language": "python", 
     "outputs": [
      {
       "output_type": "stream", 
       "stream": "stdout", 
       "text": [
        "2 triangles were dropped", 
        "2 junction edges were dropped"
       ]
      }, 
      {
       "output_type": "stream", 
       "stream": "stdout", 
       "text": [
        "", 
        "Scaling all the distances by a factor 0.777"
       ]
      }, 
      {
       "output_type": "stream", 
       "stream": "stdout", 
       "text": [
        ""
       ]
      }
     ], 
     "prompt_number": 1
    }, 
    {
     "cell_type": "code", 
     "collapsed": true, 
     "input": [
      "run graph_representation.py"
     ], 
     "language": "python", 
     "outputs": [], 
     "prompt_number": 2
    }, 
    {
     "cell_type": "code", 
     "collapsed": true, 
     "input": [
      "eptm.set_local_mask(None)", 
      "apoptotic_cell = eptm.graph.vertex(45)", 
      "eptm.set_local_mask(apoptotic_cell)", 
      "eptm.cells.prefered_area[apoptotic_cell] = 0.5", 
      "eptm.cells.contractilities[apoptotic_cell] *= 1.4"
     ], 
     "language": "python", 
     "outputs": [], 
     "prompt_number": 3
    }, 
    {
     "cell_type": "code", 
     "collapsed": false, 
     "input": [
      "fig, ax = plt.subplots(1)", 
      "plot_cells_sz(eptm, ax, vfilt=eptm.is_local_vert,", 
      "              efilt=eptm.is_local_edge)"
     ], 
     "language": "python", 
     "outputs": [
      {
       "output_type": "pyout", 
       "prompt_number": 15, 
       "text": [
        "<matplotlib.axes.AxesSubplot at 0xc4bf4ec>"
       ]
      }
     ], 
     "prompt_number": 15
    }, 
    {
     "cell_type": "code", 
     "collapsed": false, 
     "input": [
      "pos0, pos1 = eptm.find_energy_min(tol=1e-5)", 
      "plot_cells_sz(eptm, ax, vfilt=eptm.is_local_vert, efilt=eptm.is_local_edge)"
     ], 
     "language": "python", 
     "outputs": [
      {
       "output_type": "stream", 
       "stream": "stdout", 
       "text": [
        "(16, 2)"
       ]
      }, 
      {
       "output_type": "pyout", 
       "prompt_number": 14, 
       "text": [
        "<matplotlib.axes.AxesSubplot at 0xc2b656c>"
       ]
      }
     ], 
     "prompt_number": 14
    }, 
    {
     "cell_type": "code", 
     "collapsed": false, 
     "input": [
      "eptm.type1_transition((eptm.graph.vertex(45), eptm.graph.vertex(46)))"
     ], 
     "language": "python", 
     "outputs": [
      {
       "output_type": "stream", 
       "stream": "stdout", 
       "text": [
        "adjacent cells edge be : 55, 46", 
        "cell 1: 45", 
        "cell 2: 55", 
        "cell 3: 46", 
        "cell 4: 34", 
        "junction vertice a: 169", 
        "junction vertice b: 190", 
        "junction vertice c: 170", 
        "junction vertice d: 170", 
        "junction vertice e: 193", 
        "junction vertice f: 175"
       ]
      }, 
      {
       "output_type": "pyout", 
       "prompt_number": 13, 
       "text": [
        "([<Vertex object with index '45' at 0xbd4356c>,", 
        "  <Vertex object with index '55' at 0xc0356ec>,", 
        "  <Vertex object with index '46' at 0xc03556c>,", 
        "  <Vertex object with index '34' at 0xc03582c>],", 
        " [<Vertex object with index '169' at 0xc0354ac>,", 
        "  <Vertex object with index '190' at 0xc03526c>,", 
        "  <Vertex object with index '170' at 0xc0353ec>,", 
        "  <Vertex object with index '170' at 0xc03516c>,", 
        "  <Vertex object with index '193' at 0xc0355ec>,", 
        "  <Vertex object with index '175' at 0xc03552c>])"
       ]
      }
     ], 
     "prompt_number": 13
    }, 
    {
     "cell_type": "code", 
     "collapsed": false, 
     "input": [
      "figure()", 
      "eptm.update_gradient()", 
      "eptm.graph.set_vertex_filter(eptm.is_cell_vert, inverted=True)", 
      "plot(eptm.zeds.fa, eptm.radial_grad.fa, 'o')"
     ], 
     "language": "python", 
     "outputs": [
      {
       "output_type": "pyout", 
       "prompt_number": 11, 
       "text": [
        "[<matplotlib.lines.Line2D at 0xb00aa8c>]"
       ]
      }
     ], 
     "prompt_number": 11
    }, 
    {
     "cell_type": "code", 
     "collapsed": true, 
     "input": [
      "#eptm.update_gradient()", 
      "fig, ax = plt.subplots(1,1)", 
      "# eptm_ax = plot_cells_sz(eptm, ax, efilt=None)", 
      "from matplotlib.patches import Ellipse", 
      "eptm.graph.set_vertex_filter(eptm.is_cell_vert, inverted=True)", 
      "", 
      "max_rad = eptm.radial_grad.fa.max()", 
      "for s,z,rad in zip(eptm.sigmas.fa, eptm.zeds.fa, eptm.radial_grad.fa):", 
      "    size = (rad / max_rad)**2 ", 
      "    rect = Ellipse([s - size / 2, z - size / 2], ", 
      "                   size, size,", 
      "                   facecolor='b', edgecolor='None', alpha = 0.8)", 
      "    ax.add_patch(rect)", 
      "ax.autoscale_view()"
     ], 
     "language": "python", 
     "outputs": [], 
     "prompt_number": 12
    }, 
    {
     "cell_type": "code", 
     "collapsed": true, 
     "input": [
      "from scipy.interpolate import splrep, splev", 
      "eptm.graph.set_vertex_filter(eptm.is_cell_vert, inverted=True)", 
      "z_ixds = np.argsort(eptm.zeds.fa)", 
      "zeds = eptm.zeds.fa.take(z_ixds)", 
      "grads = eptm.radial_grad.fa.take(z_ixds)"
     ], 
     "language": "python", 
     "outputs": [], 
     "prompt_number": 19
    }, 
    {
     "cell_type": "code", 
     "collapsed": true, 
     "input": [
      "tck = splrep(zeds, grads, s=3, k=3)"
     ], 
     "language": "python", 
     "outputs": [], 
     "prompt_number": 26
    }, 
    {
     "cell_type": "code", 
     "collapsed": true, 
     "input": [
      "zeds_smth= linspace(-20,20,50)", 
      "figure()", 
      "plot(zeds, grads, 'o')", 
      "plot(zeds_smth, splev(zeds_smth, tck))"
     ], 
     "language": "python", 
     "outputs": [], 
     "prompt_number": 27
    }, 
    {
     "cell_type": "code", 
     "collapsed": true, 
     "input": [
      "tck"
     ], 
     "language": "python", 
     "outputs": [], 
     "prompt_number": 25
    }, 
    {
     "cell_type": "code", 
     "collapsed": false, 
     "input": [
      "epithelium_draw(eptm)"
     ], 
     "language": "python", 
     "outputs": [
      {
       "ename": "TypeError", 
       "evalue": "'float' object has no attribute '__getitem__'", 
       "output_type": "pyerr", 
       "traceback": [
        "\u001b[0;31m---------------------------------------------------------------------------\u001b[0m\n\u001b[0;31mTypeError\u001b[0m                                 Traceback (most recent call last)", 
        "\u001b[0;32m/home/guillaume/Python/Drosophila/leg_joint/<ipython-input-8-6a7d791c63c4>\u001b[0m in \u001b[0;36m<module>\u001b[0;34m()\u001b[0m\n\u001b[0;32m----> 1\u001b[0;31m \u001b[0mepithelium_draw\u001b[0m\u001b[0;34m(\u001b[0m\u001b[0meptm\u001b[0m\u001b[0;34m)\u001b[0m\u001b[0;34m\u001b[0m\u001b[0m\n\u001b[0m", 
        "\u001b[0;32m/home/guillaume/Python/Drosophila/leg_joint/graph_representation.py\u001b[0m in \u001b[0;36mepithelium_draw\u001b[0;34m(eptm, z_angle, d_theta, output, output2, **kwargs)\u001b[0m\n\u001b[1;32m    158\u001b[0m                             inverted=True)\n\u001b[1;32m    159\u001b[0m     \u001b[0;32mprint\u001b[0m \u001b[0meptm\u001b[0m\u001b[0;34m.\u001b[0m\u001b[0mgraph\u001b[0m\u001b[0;34m.\u001b[0m\u001b[0mnum_vertices\u001b[0m\u001b[0;34m(\u001b[0m\u001b[0;34m)\u001b[0m\u001b[0;34m\u001b[0m\u001b[0m\n\u001b[0;32m--> 160\u001b[0;31m     \u001b[0mvertex_red\u001b[0m\u001b[0;34m.\u001b[0m\u001b[0mfa\u001b[0m \u001b[0;34m=\u001b[0m \u001b[0;36m105\u001b[0m\u001b[0;34m/\u001b[0m\u001b[0;36m256.\u001b[0m\u001b[0;34m\u001b[0m\u001b[0m\n\u001b[0m\u001b[1;32m    161\u001b[0m     \u001b[0mvertex_green\u001b[0m\u001b[0;34m.\u001b[0m\u001b[0mfa\u001b[0m \u001b[0;34m=\u001b[0m \u001b[0;36m182\u001b[0m\u001b[0;34m/\u001b[0m\u001b[0;36m256.\u001b[0m\u001b[0;34m\u001b[0m\u001b[0m\n\u001b[1;32m    162\u001b[0m     \u001b[0mvertex_blue\u001b[0m\u001b[0;34m.\u001b[0m\u001b[0mfa\u001b[0m \u001b[0;34m=\u001b[0m \u001b[0;36m40\u001b[0m\u001b[0;34m/\u001b[0m\u001b[0;36m256.\u001b[0m\u001b[0;34m\u001b[0m\u001b[0m\n", 
        "\u001b[0;32m/usr/lib/python2.7/dist-packages/graph_tool/__init__.pyc\u001b[0m in \u001b[0;36m<lambda>\u001b[0;34m(self, v)\u001b[0m\n\u001b[1;32m    539\u001b[0m \u001b[0;34m\u001b[0m\u001b[0m\n\u001b[1;32m    540\u001b[0m     fa = property(__get_set_f_array,\n\u001b[0;32m--> 541\u001b[0;31m                   \u001b[0;32mlambda\u001b[0m \u001b[0mself\u001b[0m\u001b[0;34m,\u001b[0m \u001b[0mv\u001b[0m\u001b[0;34m:\u001b[0m \u001b[0mself\u001b[0m\u001b[0;34m.\u001b[0m\u001b[0m__get_set_f_array\u001b[0m\u001b[0;34m(\u001b[0m\u001b[0mv\u001b[0m\u001b[0;34m,\u001b[0m \u001b[0mFalse\u001b[0m\u001b[0;34m)\u001b[0m\u001b[0;34m,\u001b[0m\u001b[0;34m\u001b[0m\u001b[0m\n\u001b[0m\u001b[1;32m    542\u001b[0m                   doc=r\"\"\"The same as the :attr:`~PropertyMap.a` attribute, but\n\u001b[1;32m    543\u001b[0m                   \u001b[0minstead\u001b[0m \u001b[0man\u001b[0m \u001b[0;34m*\u001b[0m\u001b[0mindexed\u001b[0m\u001b[0;34m*\u001b[0m \u001b[0marray\u001b[0m \u001b[0;32mis\u001b[0m \u001b[0mreturned\u001b[0m\u001b[0;34m,\u001b[0m \u001b[0mwhich\u001b[0m \u001b[0mcontains\u001b[0m \u001b[0monly\u001b[0m\u001b[0;34m\u001b[0m\u001b[0m\n", 
        "\u001b[0;32m/usr/lib/python2.7/dist-packages/graph_tool/__init__.pyc\u001b[0m in \u001b[0;36m__get_set_f_array\u001b[0;34m(self, v, get)\u001b[0m\n\u001b[1;32m    536\u001b[0m                     \u001b[0ma\u001b[0m\u001b[0;34m[\u001b[0m\u001b[0mm\u001b[0m\u001b[0;34m]\u001b[0m \u001b[0;34m=\u001b[0m \u001b[0mv\u001b[0m\u001b[0;34m\u001b[0m\u001b[0m\n\u001b[1;32m    537\u001b[0m                 \u001b[0;32mexcept\u001b[0m \u001b[0mValueError\u001b[0m\u001b[0;34m:\u001b[0m\u001b[0;34m\u001b[0m\u001b[0m\n\u001b[0;32m--> 538\u001b[0;31m                     \u001b[0ma\u001b[0m\u001b[0;34m[\u001b[0m\u001b[0mm\u001b[0m\u001b[0;34m]\u001b[0m \u001b[0;34m=\u001b[0m \u001b[0mv\u001b[0m\u001b[0;34m[\u001b[0m\u001b[0;34m:\u001b[0m\u001b[0mlen\u001b[0m\u001b[0;34m(\u001b[0m\u001b[0mm\u001b[0m\u001b[0;34m)\u001b[0m\u001b[0;34m]\u001b[0m\u001b[0;34m[\u001b[0m\u001b[0mm\u001b[0m\u001b[0;34m]\u001b[0m\u001b[0;34m\u001b[0m\u001b[0m\n\u001b[0m\u001b[1;32m    539\u001b[0m \u001b[0;34m\u001b[0m\u001b[0m\n\u001b[1;32m    540\u001b[0m     fa = property(__get_set_f_array,\n", 
        "\u001b[0;31mTypeError\u001b[0m: 'float' object has no attribute '__getitem__'"
       ]
      }, 
      {
       "output_type": "stream", 
       "stream": "stdout", 
       "text": [
        "161"
       ]
      }
     ], 
     "prompt_number": 8
    }, 
    {
     "cell_type": "code", 
     "collapsed": false, 
     "input": [
      "eptm.graph.degree_property_map('out').a"
     ], 
     "language": "python", 
     "outputs": [
      {
       "output_type": "pyout", 
       "prompt_number": 19, 
       "text": [
        "PropertyArray([  7.,  11.,  11.,  11.,  11.,  11.,  11.,  11.,  11.,   6.,   6.,", 
        "         8.,  10.,   8.,  10.,   8.,  10.,   8.,  10.,   4.,   6.,   8.,", 
        "        10.,   8.,  10.,   8.,  10.,   8.,  10.,   4.,   6.,   8.,  10.,", 
        "         8.,  12.,   7.,   7.,   8.,  10.,   4.,   6.,   8.,  10.,   8.,", 
        "        10.,   4.,  12.,   8.,  10.,   4.,   6.,   8.,  10.,   8.,  10.,", 
        "        11.,  10.,   8.,  10.,   4.,   6.,   8.,  10.,   8.,  10.,   8.,", 
        "        10.,   8.,  10.,   4.,   6.,   8.,  10.,   8.,  10.,   8.,  10.,", 
        "         8.,  10.,   4.,   4.,   7.,   7.,   7.,   7.,   7.,   7.,   7.,", 
        "         7.,   3.,   2.,   2.,   1.,   2.,   2.,   2.,   1.,   2.,   2.,", 
        "         2.,   1.,   2.,   2.,   2.,   1.,   2.,   2.,   2.,   1.,   2.,", 
        "         2.,   2.,   1.,   2.,   2.,   2.,   1.,   2.,   2.,   2.,   1.,", 
        "         2.,   1.,   2.,   1.,   1.,   2.,   1.,   1.,   2.,   2.,   1.,", 
        "         1.,   2.,   2.,   1.,   1.,   2.,   2.,   1.,   1.,   1.,   2.,", 
        "         1.,   2.,   1.,   1.,   2.,   2.,   1.,   1.,   2.,   1.,   1.,", 
        "         1.,   2.,   2.,   1.,   1.,   1.,   2.,   1.,   2.,   1.,   1.,", 
        "         2.,   2.,   1.,   1.,   2.,   3.,   1.,   2.,   2.,   1.,   2.,", 
        "         1.,   1.,   2.,   1.,   2.,   1.,   1.,   2.,   2.,   1.,   1.,", 
        "         0.,   2.,   1.,   1.,   2.,   2.,   1.,   1.,   1.,   2.,   1.,", 
        "         2.,   1.,   1.,   2.,   2.,   1.,   1.,   2.,   2.,   1.,   1.,", 
        "         2.,   2.,   1.,   1.,   1.,   2.,   1.,   2.,   1.,   1.,   2.,", 
        "         2.,   1.,   1.,   2.,   2.,   1.,   1.,   2.,   2.,   1.,   1.,", 
        "         1.,   2.,   1.,   2.,   0.,   1.,   2.,   1.,   0.,   1.,   2.,", 
        "         1.,   0.,   1.,   2.,   1.,   0.,   1.,   1.,   1.,   0.])"
       ]
      }
     ], 
     "prompt_number": 19
    }, 
    {
     "cell_type": "code", 
     "collapsed": true, 
     "input": [], 
     "language": "python", 
     "outputs": []
    }
   ]
  }
 ]
}