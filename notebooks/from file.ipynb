{
 "metadata": {
  "name": "from file"
 }, 
 "nbformat": 2, 
 "worksheets": [
  {
   "cells": [
    {
     "cell_type": "markdown", 
     "source": [
      "# Re-creating a notebook from a previously saved experiment", 
      "", 
      "As all the properties of the model are also graph properties,", 
      "we use `graph_tool` I/O to write `graphXML` files.", 
      "", 
      "### Imports, etc"
     ]
    }, 
    {
     "cell_type": "code", 
     "collapsed": true, 
     "input": [
      "# We can use this to look directly at the XML file", 
      "from xml.etree.ElementTree import Element", 
      "from xml.etree.ElementTree import parse, tostring", 
      "# The graph", 
      "import graph_tool.all as gt", 
      "from dynamics import Epithelium"
     ], 
     "language": "python", 
     "outputs": [], 
     "prompt_number": 13
    }, 
    {
     "cell_type": "code", 
     "collapsed": false, 
     "input": [
      "print gt.__version__"
     ], 
     "language": "python", 
     "outputs": [
      {
       "output_type": "stream", 
       "stream": "stdout", 
       "text": [
        "2.2.17 (commit d058ad14, Tue Jun 19 22:27:35 2012 +0200)"
       ]
      }
     ], 
     "prompt_number": 16
    }, 
    {
     "cell_type": "code", 
     "collapsed": true, 
     "input": [
      "%run graph_representation"
     ], 
     "language": "python", 
     "outputs": [], 
     "prompt_number": 14
    }, 
    {
     "cell_type": "markdown", 
     "source": [
      "If you haven't already a saved graph or want to start afresh, run cell below:"
     ]
    }, 
    {
     "cell_type": "code", 
     "collapsed": false, 
     "input": [
      "eptm = Epithelium(paramfile='default/few_big_cells.xml')", 
      "eptm.graph.save(\"saved_graphs/few_big_cells.xml\")"
     ], 
     "language": "python", 
     "outputs": [
      {
       "output_type": "stream", 
       "stream": "stdout", 
       "text": [
        "2 triangles were dropped", 
        "2 junction edges were dropped"
       ]
      }, 
      {
       "output_type": "stream", 
       "stream": "stdout", 
       "text": [
        "", 
        "Scaling all the distances by a factor 0.759"
       ]
      }
     ], 
     "prompt_number": 3
    }, 
    {
     "cell_type": "code", 
     "collapsed": true, 
     "input": [
      "# plot_cells_sz(eptm)"
     ], 
     "language": "python", 
     "outputs": [], 
     "prompt_number": 4
    }, 
    {
     "cell_type": "markdown", 
     "source": [
      "### `Epithelium` Implementation from a graphXML file"
     ]
    }, 
    {
     "cell_type": "code", 
     "collapsed": true, 
     "input": [
      "del eptm.graph", 
      "del eptm"
     ], 
     "language": "python", 
     "outputs": [], 
     "prompt_number": 5
    }, 
    {
     "cell_type": "code", 
     "collapsed": true, 
     "input": [
      "eptm2 = Epithelium(graphXMLfile=\"saved_graphs/few_big_cells.xml\")", 
      "# print eptm2"
     ], 
     "language": "python", 
     "outputs": [], 
     "prompt_number": 3
    }, 
    {
     "cell_type": "code", 
     "collapsed": false, 
     "input": [
      "plot_cells_sz(eptm2)"
     ], 
     "language": "python", 
     "outputs": [
      {
       "output_type": "pyout", 
       "prompt_number": 4, 
       "text": [
        "<matplotlib.axes.AxesSubplot at 0xa71d76c>"
       ]
      }
     ], 
     "prompt_number": 4
    }, 
    {
     "cell_type": "markdown", 
     "source": [
      "### Introspection of the graphXML file"
     ]
    }, 
    {
     "cell_type": "code", 
     "collapsed": true, 
     "input": [
      "graph_xml = parse('saved_graphs/test1.xml')", 
      "graph_root = graph_xml.getroot()", 
      "graph_element = graph_root.getchildren()[-1]", 
      "graph_nodes = [node for node in graph_element.getchildren() if node.tag.endswith('node')]", 
      "n0 = graph_nodes[0]", 
      "all_data = n0.getchildren()"
     ], 
     "language": "python", 
     "outputs": [], 
     "prompt_number": 9
    }, 
    {
     "cell_type": "code", 
     "collapsed": false, 
     "input": [
      "graph_root = graph_xml.getroot()", 
      "graph_element = graph_root.getchildren()[-1]", 
      "graph_nodes = [node for node in graph_element.getchildren() if node.tag.endswith('node')]", 
      "n0 = graph_nodes[0]", 
      "all_data = n0.getchildren()", 
      "data0 = all_data[0]", 
      "print data0.attrib,  data0.text"
     ], 
     "language": "python", 
     "outputs": [
      {
       "output_type": "stream", 
       "stream": "stdout", 
       "text": [
        "{'key': 'key0'} 0x1.9p+5"
       ]
      }
     ], 
     "prompt_number": 10
    }, 
    {
     "cell_type": "code", 
     "collapsed": true, 
     "input": [
      "graph_keysdscr = [key for key in graph_root.getchildren() if key.tag.endswith('key')]"
     ], 
     "language": "python", 
     "outputs": [], 
     "prompt_number": 11
    }, 
    {
     "cell_type": "code", 
     "collapsed": false, 
     "input": [
      "for keydscr in graph_keysdscr:", 
      "    print keydscr.attrib"
     ], 
     "language": "python", 
     "outputs": [
      {
       "output_type": "stream", 
       "stream": "stdout", 
       "text": [
        "{'attr.type': 'float', 'id': 'key0', 'for': 'node', 'attr.name': 'areas'}", 
        "{'attr.type': 'boolean', 'id': 'key1', 'for': 'edge', 'attr.name': 'at_boundary'}", 
        "{'attr.type': 'float', 'id': 'key2', 'for': 'node', 'attr.name': 'contractile_grad'}", 
        "{'attr.type': 'float', 'id': 'key3', 'for': 'node', 'attr.name': 'contractilities'}", 
        "{'attr.type': 'float', 'id': 'key4', 'for': 'edge', 'attr.name': 'drhos'}", 
        "{'attr.type': 'float', 'id': 'key5', 'for': 'edge', 'attr.name': 'dsigmas'}", 
        "{'attr.type': 'float', 'id': 'key6', 'for': 'edge', 'attr.name': 'dthetas'}", 
        "{'attr.type': 'float', 'id': 'key7', 'for': 'edge', 'attr.name': 'dzeds'}", 
        "{'attr.type': 'float', 'id': 'key8', 'for': 'edge', 'attr.name': 'edge_lengths'}", 
        "{'attr.type': 'float', 'id': 'key9', 'for': 'node', 'attr.name': 'elastic_grad'}", 
        "{'attr.type': 'float', 'id': 'key10', 'for': 'node', 'attr.name': 'elasticities'}", 
        "{'attr.type': 'float', 'id': 'key11', 'for': 'node', 'attr.name': 'energy_grad'}", 
        "{'attr.type': 'float', 'id': 'key12', 'for': 'node', 'attr.name': 'grad_sigma'}", 
        "{'attr.type': 'float', 'id': 'key13', 'for': 'node', 'attr.name': 'grad_zed'}", 
        "{'attr.type': 'boolean', 'id': 'key14', 'for': 'node', 'attr.name': 'is_alive'}", 
        "{'attr.type': 'boolean', 'id': 'key15', 'for': 'node', 'attr.name': 'is_cell_vert'}", 
        "{'attr.type': 'boolean', 'id': 'key16', 'for': 'edge', 'attr.name': 'is_ctoj_edge'}", 
        "{'attr.type': 'boolean', 'id': 'key17', 'for': 'edge', 'attr.name': 'is_junction_edge'}", 
        "{'attr.type': 'boolean', 'id': 'key18', 'for': 'edge', 'attr.name': 'is_local_edge'}", 
        "{'attr.type': 'boolean', 'id': 'key19', 'for': 'node', 'attr.name': 'is_local_vert'}", 
        "{'attr.type': 'boolean', 'id': 'key20', 'for': 'edge', 'attr.name': 'is_new_edge'}", 
        "{'attr.type': 'float', 'id': 'key21', 'for': 'edge', 'attr.name': 'line_tensions'}", 
        "{'attr.type': 'float', 'id': 'key22', 'for': 'node', 'attr.name': 'perimeters'}", 
        "{'attr.type': 'float', 'id': 'key23', 'for': 'node', 'attr.name': 'prefered_area'}", 
        "{'attr.type': 'float', 'id': 'key24', 'for': 'node', 'attr.name': 'radial_grad'}", 
        "{'attr.type': 'float', 'id': 'key25', 'for': 'node', 'attr.name': 'rhos'}", 
        "{'attr.type': 'float', 'id': 'key26', 'for': 'node', 'attr.name': 'sigmas'}", 
        "{'attr.type': 'float', 'id': 'key27', 'for': 'node', 'attr.name': 'thetas'}", 
        "{'attr.type': 'float', 'id': 'key28', 'for': 'edge', 'attr.name': 'u_drhos'}", 
        "{'attr.type': 'float', 'id': 'key29', 'for': 'edge', 'attr.name': 'u_dsigmas'}", 
        "{'attr.type': 'float', 'id': 'key30', 'for': 'edge', 'attr.name': 'u_dzeds'}", 
        "{'attr.type': 'float', 'id': 'key31', 'for': 'node', 'attr.name': 'zeds'}"
       ]
      }
     ], 
     "prompt_number": 12
    }, 
    {
     "cell_type": "code", 
     "collapsed": true, 
     "input": [], 
     "language": "python", 
     "outputs": []
    }
   ]
  }
 ]
}