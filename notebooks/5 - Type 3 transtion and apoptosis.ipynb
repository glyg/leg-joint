{
 "metadata": {
  "name": "5 - Type 3 transtion and apoptosis"
 },
 "nbformat": 3,
 "nbformat_minor": 0,
 "worksheets": [
  {
   "cells": [
    {
     "cell_type": "code",
     "collapsed": false,
     "input": [
      "%run nb_init # This imports leg_joint as lj\n",
      "eptm = lj.Epithelium(graphXMLfile='../saved_graphs/xml/latest.xml',\n",
      "                     paramfile='../default/params.xml')\n"
     ],
     "language": "python",
     "metadata": {},
     "outputs": [
      {
       "output_type": "stream",
       "stream": "stdout",
       "text": [
        "Initial cells\n",
        "Initial junctions\n",
        "Scaling all the distances by a factor 1.000"
       ]
      },
      {
       "output_type": "stream",
       "stream": "stdout",
       "text": [
        "\n"
       ]
      },
      {
       "output_type": "stream",
       "stream": "stderr",
       "text": [
        "/usr/local/lib/python2.7/dist-packages/mpl_toolkits/__init__.py:2: UserWarning: Module dateutil was already imported from /usr/local/lib/python2.7/dist-packages/dateutil/__init__.pyc, but /usr/lib/python2.7/dist-packages is being added to sys.path\n",
        "  __import__('pkg_resources').declare_namespace(__name__)\n"
       ]
      }
     ],
     "prompt_number": 12
    },
    {
     "cell_type": "code",
     "collapsed": false,
     "input": [
      "axes = lj.plot_ortho_proj(eptm, text=False)"
     ],
     "language": "python",
     "metadata": {},
     "outputs": [],
     "prompt_number": 13
    },
    {
     "cell_type": "code",
     "collapsed": false,
     "input": [
      "lj.draw(eptm)"
     ],
     "language": "python",
     "metadata": {},
     "outputs": [],
     "prompt_number": 14
    },
    {
     "cell_type": "code",
     "collapsed": false,
     "input": [
      "def p_apopto(zed, width_apopto=4., p0=0.6):\n",
      "    p = p0 * np.exp(- zed**2 / width_apopto**2)\n",
      "    return p\n",
      "np.random.seed(0)\n",
      "is_apoptotic = eptm.is_alive.copy()\n",
      "is_apoptotic.a[:] = 0\n",
      "for cell in eptm.cells:\n",
      "    dice = np.random.random()\n",
      "    if dice < p_apopto(eptm.zeds[cell]):\n",
      "        is_apoptotic[cell] = 1\n",
      "print is_apoptotic.a.sum()"
     ],
     "language": "python",
     "metadata": {},
     "outputs": [
      {
       "output_type": "stream",
       "stream": "stdout",
       "text": [
        "40\n"
       ]
      }
     ],
     "prompt_number": 15
    },
    {
     "cell_type": "code",
     "collapsed": false,
     "input": [
      "figure(1)\n",
      "for cell in eptm.cells:\n",
      "    if is_apoptotic[cell]:\n",
      "        axes[0].plot(eptm.zeds[cell], eptm.sigmas[cell], 'ko')"
     ],
     "language": "python",
     "metadata": {},
     "outputs": [],
     "prompt_number": 16
    },
    {
     "cell_type": "code",
     "collapsed": false,
     "input": [
      "i = 0\n",
      "for cell in eptm.cells:\n",
      "    if is_apoptotic[cell]:\n",
      "        i += 1\n",
      "        eptm.set_local_mask(None)\n",
      "        apoptotic_cell = cell\n",
      "        eptm.set_local_mask(apoptotic_cell)\n",
      "        eptm.cells.prefered_area[apoptotic_cell] *= 0.05\n",
      "        eptm.cells.prefered_vol[apoptotic_cell] *= 0.05\n",
      "        eptm.find_energy_min()\n",
      "        eptm.isotropic_relax()\n",
      "        print( 'done %i / %i' % (i, is_apoptotic.a.sum()))\n",
      "        # lj.resolve_small_edges(eptm, 0.3)"
     ],
     "language": "python",
     "metadata": {},
     "outputs": [
      {
       "output_type": "stream",
       "stream": "stdout",
       "text": [
        "Scaling all the distances by a factor 0.903\n",
        "done 1 / 40"
       ]
      },
      {
       "output_type": "stream",
       "stream": "stdout",
       "text": [
        "\n",
        "Scaling all the distances by a factor 0.999"
       ]
      },
      {
       "output_type": "stream",
       "stream": "stdout",
       "text": [
        "\n",
        "done 2 / 40"
       ]
      },
      {
       "output_type": "stream",
       "stream": "stdout",
       "text": [
        "\n",
        "Scaling all the distances by a factor 0.999"
       ]
      },
      {
       "output_type": "stream",
       "stream": "stdout",
       "text": [
        "\n",
        "done 3 / 40"
       ]
      },
      {
       "output_type": "stream",
       "stream": "stdout",
       "text": [
        "\n",
        "Scaling all the distances by a factor 1.000"
       ]
      },
      {
       "output_type": "stream",
       "stream": "stdout",
       "text": [
        "\n",
        "done 4 / 40"
       ]
      },
      {
       "output_type": "stream",
       "stream": "stdout",
       "text": [
        "\n",
        "Scaling all the distances by a factor 1.000"
       ]
      },
      {
       "output_type": "stream",
       "stream": "stdout",
       "text": [
        "\n",
        "done 5 / 40"
       ]
      },
      {
       "output_type": "stream",
       "stream": "stdout",
       "text": [
        "\n",
        "Scaling all the distances by a factor 0.998"
       ]
      },
      {
       "output_type": "stream",
       "stream": "stdout",
       "text": [
        "\n",
        "done 6 / 40"
       ]
      },
      {
       "output_type": "stream",
       "stream": "stdout",
       "text": [
        "\n",
        "Scaling all the distances by a factor 1.000"
       ]
      },
      {
       "output_type": "stream",
       "stream": "stdout",
       "text": [
        "\n",
        "done 7 / 40"
       ]
      },
      {
       "output_type": "stream",
       "stream": "stdout",
       "text": [
        "\n",
        "Scaling all the distances by a factor 1.000"
       ]
      },
      {
       "output_type": "stream",
       "stream": "stdout",
       "text": [
        "\n",
        "done 8 / 40"
       ]
      },
      {
       "output_type": "stream",
       "stream": "stdout",
       "text": [
        "\n",
        "Scaling all the distances by a factor 0.999"
       ]
      },
      {
       "output_type": "stream",
       "stream": "stdout",
       "text": [
        "\n",
        "done 9 / 40"
       ]
      },
      {
       "output_type": "stream",
       "stream": "stdout",
       "text": [
        "\n",
        "Scaling all the distances by a factor 1.000"
       ]
      },
      {
       "output_type": "stream",
       "stream": "stdout",
       "text": [
        "\n",
        "done 10 / 40"
       ]
      },
      {
       "output_type": "stream",
       "stream": "stdout",
       "text": [
        "\n",
        "Scaling all the distances by a factor 1.000"
       ]
      },
      {
       "output_type": "stream",
       "stream": "stdout",
       "text": [
        "\n",
        "done 11 / 40"
       ]
      },
      {
       "output_type": "stream",
       "stream": "stdout",
       "text": [
        "\n",
        "Scaling all the distances by a factor 1.001"
       ]
      },
      {
       "output_type": "stream",
       "stream": "stdout",
       "text": [
        "\n",
        "done 12 / 40"
       ]
      },
      {
       "output_type": "stream",
       "stream": "stdout",
       "text": [
        "\n",
        "Scaling all the distances by a factor 1.001"
       ]
      },
      {
       "output_type": "stream",
       "stream": "stdout",
       "text": [
        "\n",
        "done 13 / 40"
       ]
      },
      {
       "output_type": "stream",
       "stream": "stdout",
       "text": [
        "\n",
        "Scaling all the distances by a factor 0.999"
       ]
      },
      {
       "output_type": "stream",
       "stream": "stdout",
       "text": [
        "\n",
        "done 14 / 40"
       ]
      },
      {
       "output_type": "stream",
       "stream": "stdout",
       "text": [
        "\n",
        "Scaling all the distances by a factor 1.000"
       ]
      },
      {
       "output_type": "stream",
       "stream": "stdout",
       "text": [
        "\n",
        "done 15 / 40"
       ]
      },
      {
       "output_type": "stream",
       "stream": "stdout",
       "text": [
        "\n",
        "Scaling all the distances by a factor 1.000"
       ]
      },
      {
       "output_type": "stream",
       "stream": "stdout",
       "text": [
        "\n",
        "done 16 / 40"
       ]
      },
      {
       "output_type": "stream",
       "stream": "stdout",
       "text": [
        "\n",
        "Scaling all the distances by a factor 1.000"
       ]
      },
      {
       "output_type": "stream",
       "stream": "stdout",
       "text": [
        "\n",
        "done 17 / 40"
       ]
      },
      {
       "output_type": "stream",
       "stream": "stdout",
       "text": [
        "\n",
        "Scaling all the distances by a factor 1.000"
       ]
      },
      {
       "output_type": "stream",
       "stream": "stdout",
       "text": [
        "\n",
        "done 18 / 40"
       ]
      },
      {
       "output_type": "stream",
       "stream": "stdout",
       "text": [
        "\n",
        "Scaling all the distances by a factor 1.000"
       ]
      },
      {
       "output_type": "stream",
       "stream": "stdout",
       "text": [
        "\n",
        "done 19 / 40"
       ]
      },
      {
       "output_type": "stream",
       "stream": "stdout",
       "text": [
        "\n",
        "Scaling all the distances by a factor 1.000"
       ]
      },
      {
       "output_type": "stream",
       "stream": "stdout",
       "text": [
        "\n",
        "done 20 / 40"
       ]
      },
      {
       "output_type": "stream",
       "stream": "stdout",
       "text": [
        "\n",
        "Scaling all the distances by a factor 1.000"
       ]
      },
      {
       "output_type": "stream",
       "stream": "stdout",
       "text": [
        "\n",
        "done 21 / 40"
       ]
      },
      {
       "output_type": "stream",
       "stream": "stdout",
       "text": [
        "\n",
        "Scaling all the distances by a factor 1.000"
       ]
      },
      {
       "output_type": "stream",
       "stream": "stdout",
       "text": [
        "\n",
        "done 22 / 40"
       ]
      },
      {
       "output_type": "stream",
       "stream": "stdout",
       "text": [
        "\n",
        "Scaling all the distances by a factor 0.999"
       ]
      },
      {
       "output_type": "stream",
       "stream": "stdout",
       "text": [
        "\n",
        "done 23 / 40"
       ]
      },
      {
       "output_type": "stream",
       "stream": "stdout",
       "text": [
        "\n",
        "Scaling all the distances by a factor 1.000"
       ]
      },
      {
       "output_type": "stream",
       "stream": "stdout",
       "text": [
        "\n",
        "done 24 / 40"
       ]
      },
      {
       "output_type": "stream",
       "stream": "stdout",
       "text": [
        "\n",
        "Scaling all the distances by a factor 1.000"
       ]
      },
      {
       "output_type": "stream",
       "stream": "stdout",
       "text": [
        "\n",
        "done 25 / 40"
       ]
      },
      {
       "output_type": "stream",
       "stream": "stdout",
       "text": [
        "\n",
        "Scaling all the distances by a factor 1.001"
       ]
      },
      {
       "output_type": "stream",
       "stream": "stdout",
       "text": [
        "\n",
        "done 26 / 40"
       ]
      },
      {
       "output_type": "stream",
       "stream": "stdout",
       "text": [
        "\n",
        "Scaling all the distances by a factor 1.000"
       ]
      },
      {
       "output_type": "stream",
       "stream": "stdout",
       "text": [
        "\n",
        "done 27 / 40"
       ]
      },
      {
       "output_type": "stream",
       "stream": "stdout",
       "text": [
        "\n",
        "Scaling all the distances by a factor 1.000"
       ]
      },
      {
       "output_type": "stream",
       "stream": "stdout",
       "text": [
        "\n",
        "done 28 / 40"
       ]
      },
      {
       "output_type": "stream",
       "stream": "stdout",
       "text": [
        "\n",
        "Scaling all the distances by a factor 0.999"
       ]
      },
      {
       "output_type": "stream",
       "stream": "stdout",
       "text": [
        "\n",
        "done 29 / 40"
       ]
      },
      {
       "output_type": "stream",
       "stream": "stdout",
       "text": [
        "\n",
        "Scaling all the distances by a factor 1.001"
       ]
      },
      {
       "output_type": "stream",
       "stream": "stdout",
       "text": [
        "\n",
        "done 30 / 40"
       ]
      },
      {
       "output_type": "stream",
       "stream": "stdout",
       "text": [
        "\n",
        "Scaling all the distances by a factor 1.004"
       ]
      },
      {
       "output_type": "stream",
       "stream": "stdout",
       "text": [
        "\n",
        "done 31 / 40"
       ]
      },
      {
       "output_type": "stream",
       "stream": "stdout",
       "text": [
        "\n",
        "Scaling all the distances by a factor 1.000"
       ]
      },
      {
       "output_type": "stream",
       "stream": "stdout",
       "text": [
        "\n",
        "done 32 / 40"
       ]
      },
      {
       "output_type": "stream",
       "stream": "stdout",
       "text": [
        "\n",
        "Scaling all the distances by a factor 1.000"
       ]
      },
      {
       "output_type": "stream",
       "stream": "stdout",
       "text": [
        "\n",
        "done 33 / 40"
       ]
      },
      {
       "output_type": "stream",
       "stream": "stdout",
       "text": [
        "\n",
        "Scaling all the distances by a factor 1.001"
       ]
      },
      {
       "output_type": "stream",
       "stream": "stdout",
       "text": [
        "\n",
        "done 34 / 40"
       ]
      },
      {
       "output_type": "stream",
       "stream": "stdout",
       "text": [
        "\n",
        "Scaling all the distances by a factor 1.000"
       ]
      },
      {
       "output_type": "stream",
       "stream": "stdout",
       "text": [
        "\n",
        "done 35 / 40"
       ]
      },
      {
       "output_type": "stream",
       "stream": "stdout",
       "text": [
        "\n",
        "Scaling all the distances by a factor 0.998"
       ]
      },
      {
       "output_type": "stream",
       "stream": "stdout",
       "text": [
        "\n",
        "done 36 / 40"
       ]
      },
      {
       "output_type": "stream",
       "stream": "stdout",
       "text": [
        "\n",
        "Scaling all the distances by a factor 1.000"
       ]
      },
      {
       "output_type": "stream",
       "stream": "stdout",
       "text": [
        "\n",
        "done 37 / 40"
       ]
      },
      {
       "output_type": "stream",
       "stream": "stdout",
       "text": [
        "\n",
        "Scaling all the distances by a factor 1.001"
       ]
      },
      {
       "output_type": "stream",
       "stream": "stdout",
       "text": [
        "\n",
        "done 38 / 40"
       ]
      },
      {
       "output_type": "stream",
       "stream": "stdout",
       "text": [
        "\n",
        "Scaling all the distances by a factor 0.999"
       ]
      },
      {
       "output_type": "stream",
       "stream": "stdout",
       "text": [
        "\n",
        "done 39 / 40"
       ]
      },
      {
       "output_type": "stream",
       "stream": "stdout",
       "text": [
        "\n",
        "Scaling all the distances by a factor 1.000"
       ]
      },
      {
       "output_type": "stream",
       "stream": "stdout",
       "text": [
        "\n",
        "done 40 / 40"
       ]
      },
      {
       "output_type": "stream",
       "stream": "stdout",
       "text": [
        "\n"
       ]
      }
     ],
     "prompt_number": 17
    },
    {
     "cell_type": "code",
     "collapsed": false,
     "input": [
      "#eptm = lj.Epithelium(graphXMLfile='after_apoptosis.xml',\n",
      "#                     paramfile='../default/params.xml')\n",
      "ax = lj.plot_ortho_proj(eptm, text=False)"
     ],
     "language": "python",
     "metadata": {},
     "outputs": [],
     "prompt_number": 18
    },
    {
     "cell_type": "code",
     "collapsed": false,
     "input": [
      "lj.draw(eptm, z_angle=np.pi/2.)\n"
     ],
     "language": "python",
     "metadata": {},
     "outputs": [],
     "prompt_number": 20
    },
    {
     "cell_type": "code",
     "collapsed": false,
     "input": [
      "eptm_before = lj.Epithelium(graphXMLfile='before_apoptosis.xml')\n",
      "eptm_before.update_apical_geom()\n",
      "eptm_before.update_gradient()\n"
     ],
     "language": "python",
     "metadata": {},
     "outputs": [
      {
       "output_type": "stream",
       "stream": "stdout",
       "text": [
        "Initial cells\n",
        "Initial junctions\n",
        "Scaling all the distances by a factor 1.001\n"
       ]
      }
     ],
     "prompt_number": 6
    },
    {
     "cell_type": "code",
     "collapsed": false,
     "input": [
      "def do_update():\n",
      "    eptm.update_apical_geom()\n",
      "    eptm.update_gradient()\n",
      "import cProfile\n",
      "cProfile.run('do_update()')\n"
     ],
     "language": "python",
     "metadata": {},
     "outputs": [
      {
       "output_type": "stream",
       "stream": "stdout",
       "text": [
        "         65272 function calls in 0.419 seconds\n",
        "\n",
        "   Ordered by: standard name\n",
        "\n",
        "   ncalls  tottime  percall  cumtime  percall filename:lineno(function)\n",
        "        1    0.000    0.000    0.419    0.419 <ipython-input-4-0ad3da4257f0>:1(do_update)\n",
        "        1    0.000    0.000    0.419    0.419 <string>:1(<module>)\n",
        "        1    0.000    0.000    0.000    0.000 __init__.py:1016(vertices)\n",
        "      924    0.009    0.000    0.103    0.000 __init__.py:1038(vertex)\n",
        "      462    0.023    0.000    0.127    0.000 __init__.py:1051(edge)\n",
        "        2    0.000    0.000    0.000    0.000 __init__.py:1071(edges)\n",
        "     4475    0.056    0.000    0.063    0.000 __init__.py:1203(__get_specific_properties)\n",
        "     2599    0.009    0.000    0.057    0.000 __init__.py:1209(__get_vertex_properties)\n",
        "     2599    0.002    0.000    0.002    0.000 __init__.py:1211(<lambda>)\n",
        "     1876    0.006    0.000    0.037    0.000 __init__.py:1218(__get_edge_properties)\n",
        "     1876    0.002    0.000    0.002    0.000 __init__.py:1220(<lambda>)\n",
        "     2738    0.007    0.000    0.007    0.000 __init__.py:127(_prop)\n",
        "        1    0.000    0.000    0.000    0.000 __init__.py:1351(new_vertex_property)\n",
        "        4    0.000    0.000    0.000    0.000 __init__.py:1358(new_edge_property)\n",
        "     1144    0.001    0.000    0.001    0.000 __init__.py:1483(is_directed)\n",
        "     1144    0.001    0.000    0.001    0.000 __init__.py:1495(is_reversed)\n",
        "     2290    0.086    0.000    0.092    0.000 __init__.py:1503(set_vertex_filter)\n",
        "       19    0.000    0.000    0.000    0.000 __init__.py:1514(get_vertex_filter)\n",
        "      440    0.017    0.000    0.018    0.000 __init__.py:1519(set_edge_filter)\n",
        "       20    0.000    0.000    0.000    0.000 __init__.py:1528(get_edge_filter)\n",
        "     1144    0.005    0.000    0.074    0.000 __init__.py:1551(stash_filter)\n",
        "     1144    0.004    0.000    0.058    0.000 __init__.py:1569(pop_filter)\n",
        "     1144    0.004    0.000    0.012    0.000 __init__.py:1588(get_filter_state)\n",
        "      132    0.001    0.000    0.001    0.000 __init__.py:1607(num_vertices)\n",
        "        5    0.000    0.000    0.000    0.000 __init__.py:164(_type_alias)\n",
        "        5    0.000    0.000    0.000    0.000 __init__.py:1675(value_types)\n",
        "      406    0.020    0.000    0.020    0.000 __init__.py:1692(_out_neighbours)\n",
        "      353    0.000    0.000    0.000    0.000 __init__.py:251(_get_pmap)\n",
        "      173    0.000    0.000    0.000    0.000 __init__.py:254(_set_pmap)\n",
        "       56    0.001    0.000    0.012    0.000 __init__.py:260(__new__)\n",
        "      286    0.000    0.000    0.000    0.000 __init__.py:273(_get_base)\n",
        "      286    0.001    0.000    0.002    0.000 __init__.py:279(_get_base_data)\n",
        "      231    0.001    0.000    0.022    0.000 __init__.py:282(_check_data)\n",
        "      117    0.001    0.000    0.015    0.000 __init__.py:295(__array_finalize__)\n",
        "       38    0.000    0.000    0.011    0.000 __init__.py:308(__array_prepare__)\n",
        "       38    0.000    0.000    0.000    0.000 __init__.py:312(__array_wrap__)\n",
        "       15    0.000    0.000    0.006    0.000 __init__.py:322(checked_method)\n",
        "        5    0.000    0.000    0.000    0.000 __init__.py:373(__init__)\n",
        "       10    0.000    0.000    0.000    0.000 __init__.py:376(<lambda>)\n",
        "     5964    0.003    0.000    0.003    0.000 __init__.py:385(<lambda>)\n",
        "        5    0.000    0.000    0.000    0.000 __init__.py:388(__register_map)\n",
        "        5    0.000    0.000    0.000    0.000 __init__.py:394(__unregister_map)\n",
        "        5    0.000    0.000    0.000    0.000 __init__.py:401(__del__)\n",
        "     4375    0.052    0.000    0.054    0.000 __init__.py:404(__getitem__)\n",
        "     1589    0.015    0.000    0.016    0.000 __init__.py:407(__setitem__)\n",
        "      257    0.000    0.000    0.000    0.000 __init__.py:435(get_graph)\n",
        "      109    0.000    0.000    0.000    0.000 __init__.py:442(key_type)\n",
        "        8    0.000    0.000    0.000    0.000 __init__.py:446(value_type)\n",
        "       56    0.000    0.000    0.023    0.000 __init__.py:454(get_array)\n",
        "      220    0.002    0.000    0.040    0.000 __init__.py:476(_get_data)\n",
        "        2    0.000    0.000    0.002    0.001 __init__.py:491(__set_array)\n",
        "       37    0.000    0.000    0.033    0.001 __init__.py:508(__get_set_f_array)\n",
        "       14    0.000    0.000    0.013    0.001 __init__.py:540(<lambda>)\n",
        "        4    0.001    0.000    0.001    0.000 __init__.py:802(edge_difference)\n",
        "     4475    0.015    0.000    0.015    0.000 __init__.py:852(__init__)\n",
        "     4475    0.010    0.000    0.013    0.000 __init__.py:860(__getitem__)\n",
        "     1144    0.002    0.000    0.002    0.000 copy.py:113(_copy_with_constructor)\n",
        "     1144    0.003    0.000    0.005    0.000 copy.py:66(copy)\n",
        "        1    0.000    0.000    0.243    0.243 dynamics.py:190(update_apical_geom)\n",
        "       35    0.010    0.000    0.180    0.005 dynamics.py:205(_one_cell_geom)\n",
        "      154    0.003    0.000    0.075    0.000 dynamics.py:254(outward_uvect)\n",
        "        1    0.000    0.000    0.176    0.176 energies.py:138(update_gradient)\n",
        "        1    0.006    0.006    0.153    0.153 energies.py:142(update_junctions_grad)\n",
        "        1    0.000    0.000    0.018    0.018 energies.py:178(update_cells_grad)\n",
        "      463    0.002    0.000    0.013    0.000 energies.py:33(grad_sigma)\n",
        "      463    0.002    0.000    0.013    0.000 energies.py:36(grad_zed)\n",
        "      155    0.001    0.000    0.004    0.000 energies.py:39(elastic_grad)\n",
        "      155    0.001    0.000    0.004    0.000 energies.py:42(contractile_grad)\n",
        "        1    0.000    0.000    0.000    0.000 energies.py:48(volume_grad)\n",
        "      245    0.001    0.000    0.006    0.000 filters.py:139(is_junction_edge)\n",
        "       15    0.000    0.000    0.000    0.000 filters.py:165(is_alive)\n",
        "       92    0.000    0.000    0.003    0.000 filters.py:177(is_cell_vert)\n",
        "        1    0.000    0.000    0.005    0.005 filters.py:211(set_vertex_state)\n",
        "        1    0.000    0.000    0.023    0.023 filters.py:50(new_function)\n",
        "       94    0.000    0.000    0.000    0.000 numeric.py:167(asarray)\n",
        "      730    0.003    0.000    0.021    0.000 objects.py:108(rhos)\n",
        "        1    0.000    0.000    0.000    0.000 objects.py:111(thetas)\n",
        "      204    0.001    0.000    0.006    0.000 objects.py:114(zeds)\n",
        "      239    0.001    0.000    0.007    0.000 objects.py:117(sigmas)\n",
        "        1    0.000    0.000    0.000    0.000 objects.py:145(dthetas)\n",
        "      311    0.001    0.000    0.008    0.000 objects.py:148(dzeds)\n",
        "        3    0.000    0.000    0.000    0.000 objects.py:151(drhos)\n",
        "      311    0.001    0.000    0.008    0.000 objects.py:154(dsigmas)\n",
        "        1    0.000    0.000    0.000    0.000 objects.py:157(u_drhos)\n",
        "      386    0.001    0.000    0.010    0.000 objects.py:160(u_dsigmas)\n",
        "      386    0.001    0.000    0.010    0.000 objects.py:163(u_dzeds)\n",
        "      155    0.001    0.000    0.004    0.000 objects.py:166(edge_lengths)\n",
        "        1    0.007    0.007    0.048    0.048 objects.py:246(update_deltas)\n",
        "        1    0.000    0.000    0.009    0.009 objects.py:273(update_edge_lengths)\n",
        "       36    0.001    0.000    0.003    0.000 objects.py:405(__iter__)\n",
        "        2    0.000    0.000    0.000    0.000 objects.py:432(vols)\n",
        "       37    0.000    0.000    0.001    0.000 objects.py:435(areas)\n",
        "       36    0.000    0.000    0.001    0.000 objects.py:438(perimeters)\n",
        "        1    0.000    0.000    0.000    0.000 objects.py:477(contractilities)\n",
        "        1    0.000    0.000    0.000    0.000 objects.py:480(elasticities)\n",
        "        1    0.000    0.000    0.000    0.000 objects.py:483(vol_elasticities)\n",
        "        2    0.000    0.000    0.000    0.000 objects.py:486(prefered_area)\n",
        "        1    0.000    0.000    0.000    0.000 objects.py:489(prefered_height)\n",
        "       78    0.002    0.000    0.013    0.000 objects.py:561(__iter__)\n",
        "       77    0.000    0.000    0.002    0.000 objects.py:583(line_tensions)\n",
        "       14    0.000    0.000    0.000    0.000 {getattr}\n",
        "        5    0.000    0.000    0.000    0.000 {isinstance}\n",
        "       36    0.000    0.000    0.000    0.000 {len}\n",
        "     1149    0.001    0.000    0.001    0.000 {method 'append' of 'list' objects}\n",
        "        1    0.000    0.000    0.000    0.000 {method 'clip' of 'numpy.ndarray' objects}\n",
        "        1    0.000    0.000    0.000    0.000 {method 'disable' of '_lsprof.Profiler' objects}\n",
        "     1144    0.001    0.000    0.001    0.000 {method 'get' of 'dict' objects}\n",
        "        5    0.000    0.000    0.000    0.000 {method 'index' of 'list' objects}\n",
        "     4475    0.007    0.000    0.007    0.000 {method 'items' of 'dict' objects}\n",
        "        1    0.000    0.000    0.000    0.000 {method 'max' of 'numpy.ndarray' objects}\n",
        "      105    0.001    0.000    0.001    0.000 {method 'mean' of 'numpy.ndarray' objects}\n",
        "     1144    0.001    0.000    0.001    0.000 {method 'pop' of 'list' objects}\n",
        "       56    0.000    0.000    0.001    0.000 {method 'view' of 'numpy.ndarray' objects}\n",
        "      164    0.002    0.000    0.002    0.000 {numpy.core.multiarray.array}\n",
        "\n",
        "\n"
       ]
      }
     ],
     "prompt_number": 4
    },
    {
     "cell_type": "code",
     "collapsed": false,
     "input": [],
     "language": "python",
     "metadata": {},
     "outputs": []
    }
   ],
   "metadata": {}
  }
 ]
}