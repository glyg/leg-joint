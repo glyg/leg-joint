{
 "metadata": {
  "name": "5 - Type 3 transtion and apoptosis"
 },
 "nbformat": 3,
 "nbformat_minor": 0,
 "worksheets": [
  {
   "cells": [
    {
     "cell_type": "code",
     "collapsed": false,
     "input": [
      "%run nb_init # This imports leg_joint as lj\n",
      "eptm = lj.Epithelium(graphXMLfile='../saved_graphs/xml/before_apoptosis.xml',\n",
      "                     paramfile='../default/params.xml')\n"
     ],
     "language": "python",
     "metadata": {},
     "outputs": [
      {
       "output_type": "stream",
       "stream": "stderr",
       "text": [
        "/usr/local/lib/python2.7/dist-packages/matplotlib-1.4.x-py2.7-linux-i686.egg/mpl_toolkits/__init__.py:2: UserWarning: Module dateutil was already imported from /usr/local/lib/python2.7/dist-packages/matplotlib-1.4.x-py2.7-linux-i686.egg/dateutil/__init__.pyc, but /usr/lib/python2.7/dist-packages is being added to sys.path\n",
        "  __import__('pkg_resources').declare_namespace(__name__)\n"
       ]
      }
     ],
     "prompt_number": 1
    },
    {
     "cell_type": "code",
     "collapsed": false,
     "input": [
      "def p_apopto(zed, theta, z0=0., width_apopto=1.5, p0=0.95):\n",
      "    p = p0 * np.exp(- (zed - z0)**2 / width_apopto**2\n",
      "                    ) * (0.3 + 0.7 * np.abs(np.cos(theta/2.)))\n",
      "    return p\n",
      "\n",
      "is_apoptotic = eptm.is_alive.copy()\n",
      "is_apoptotic.a[:] = 0\n",
      "np.random.seed(3)\n",
      "for cell in eptm.cells:\n",
      "    dice = np.random.random()\n",
      "    if dice < p_apopto(eptm.zeds[cell], eptm.thetas[cell]):\n",
      "        is_apoptotic[cell] = 1\n",
      "print \"Number of apoptotic cells: %i\" % is_apoptotic.a.sum()\n",
      "\n",
      "apopto_cells = np.array([cell for cell in eptm.cells if is_apoptotic[cell]])\n",
      "thetas = np.array([eptm.thetas[cell] for cell in apopto_cells])\n",
      "theta_idx = np.argsort(np.cos(thetas/2))[::-1]\n",
      "apopto_cells = apopto_cells.take(theta_idx)\n",
      "thetas_sorted = np.array([eptm.thetas[cell] for cell in apopto_cells])\n"
     ],
     "language": "python",
     "metadata": {},
     "outputs": [
      {
       "output_type": "stream",
       "stream": "stdout",
       "text": [
        "Number of apoptotic cells: 31\n"
       ]
      }
     ],
     "prompt_number": 7
    },
    {
     "cell_type": "code",
     "collapsed": false,
     "input": [
      "lj.local_slice(eptm, zed_amp=2., theta_amp=None)\n",
      "axes = lj.plot_edges_generic(eptm, eptm.zeds, eptm.wys, ctoj=False)#,\n",
      "                             #efilt=eptm.is_local_edge)\n",
      "\n",
      "x_min = eptm.ixs.a.min()\n",
      "x_max = eptm.ixs.a.max()\n",
      "\n",
      "for cell in eptm.cells:\n",
      "    if is_apoptotic[cell]:\n",
      "        alpha = 0.3 + 0.7 * (eptm.ixs[cell] - x_min)/(x_max - x_min)\n",
      "        axes.plot(eptm.zeds[cell], eptm.wys[cell], 'ro', alpha=alpha)"
     ],
     "language": "python",
     "metadata": {},
     "outputs": [],
     "prompt_number": 8
    },
    {
     "cell_type": "code",
     "collapsed": false,
     "input": [
      "@before_after\n",
      "def show_apopto(*args, **kwargs):\n",
      "    lj.apoptosis(*args, **kwargs)"
     ],
     "language": "python",
     "metadata": {},
     "outputs": [],
     "prompt_number": 9
    },
    {
     "cell_type": "code",
     "collapsed": false,
     "input": [
      "a_cell = apopto_cells[0]\n",
      "eptm.set_local_mask(None)\n",
      "eptm.set_local_mask(a_cell)\n",
      "for jv in a_cell.out_neighbours():\n",
      "    for c in jv.all_neighbours():\n",
      "        if eptm.is_cell_vert[c] and c != a_cell:\n",
      "            eptm.set_local_mask(c)\n",
      "for n in range(10):\n",
      "    show_apopto(eptm, a_cell, idx=1,\n",
      "                vol_reduction=0.9,\n",
      "                contractility=1.,\n",
      "                radial_tension=0.)\n"
     ],
     "language": "python",
     "metadata": {},
     "outputs": [],
     "prompt_number": 13
    },
    {
     "cell_type": "code",
     "collapsed": false,
     "input": [
      "eptm.cells.areas[a_cell]"
     ],
     "language": "python",
     "metadata": {},
     "outputs": [
      {
       "output_type": "pyout",
       "prompt_number": 14,
       "text": [
        "0.35522885937691645"
       ]
      }
     ],
     "prompt_number": 14
    },
    {
     "cell_type": "code",
     "collapsed": false,
     "input": [],
     "language": "python",
     "metadata": {},
     "outputs": []
    },
    {
     "cell_type": "code",
     "collapsed": false,
     "input": [
      "def get_sequence(apopto_cells, num_steps):\n",
      "    apopto_sequence = []\n",
      "    num_cells = apopto_cells.size\n",
      "    for k in np.arange(-num_steps, num_cells+num_steps):\n",
      "        start = max(k, 0)\n",
      "        stop = min(k + num_steps, num_cells)\n",
      "        apopto_sequence.extend(apopto_cells[start:stop])\n",
      "    return apopto_sequence\n"
     ],
     "language": "python",
     "metadata": {},
     "outputs": [],
     "prompt_number": 18
    },
    {
     "cell_type": "code",
     "collapsed": false,
     "input": [
      "a_seq = get_sequence(np.arange(8), 4)\n",
      "print a_seq"
     ],
     "language": "python",
     "metadata": {},
     "outputs": [
      {
       "output_type": "stream",
       "stream": "stdout",
       "text": [
        "[0, 0, 1, 0, 1, 2, 0, 1, 2, 3, 1, 2, 3, 4, 2, 3, 4, 5, 3, 4, 5, 6, 4, 5, 6, 7, 5, 6, 7, 6, 7, 7]\n"
       ]
      }
     ],
     "prompt_number": 19
    },
    {
     "cell_type": "code",
     "collapsed": false,
     "input": [
      "\n"
     ],
     "language": "python",
     "metadata": {},
     "outputs": [
      {
       "output_type": "stream",
       "stream": "stdout",
       "text": [
        "[5, 6, 7]\n"
       ]
      }
     ],
     "prompt_number": 13
    },
    {
     "cell_type": "code",
     "collapsed": false,
     "input": [
      "import glob\n",
      "for fname in glob.glob('test*'):\n",
      "    os.remove(fname)"
     ],
     "language": "python",
     "metadata": {},
     "outputs": [],
     "prompt_number": 20
    },
    {
     "cell_type": "code",
     "collapsed": false,
     "input": [
      "i = 0\n",
      "for a_cell in apopto_cells[1:]:\n",
      "    i += 1\n",
      "    lj.apoptosis(eptm, a_cell, idx=i,\n",
      "                 vol_reduction=0.4,\n",
      "                 contractility=1.,\n",
      "                 radial_tension=0.)\n",
      "    eptm.update_geometry()\n",
      "    print( 'done %i / %i' % (i, is_apoptotic.a.sum()))"
     ],
     "language": "python",
     "metadata": {},
     "outputs": []
    },
    {
     "cell_type": "code",
     "collapsed": false,
     "input": [
      "eptm.graph.save('../saved_graphs/xml/after_apopto_tension0.xml')"
     ],
     "language": "python",
     "metadata": {},
     "outputs": [],
     "prompt_number": 37
    },
    {
     "cell_type": "code",
     "collapsed": false,
     "input": [
      "%run nb_init\n",
      "eptm_t0 = lj.Epithelium(graphXMLfile='../saved_graphs/xml/after_apopto_tension0.xml',\n",
      "                        paramfile='../default/params.xml')\n"
     ],
     "language": "python",
     "metadata": {},
     "outputs": [],
     "prompt_number": 7
    },
    {
     "cell_type": "code",
     "collapsed": false,
     "input": [
      "eptm_before = lj.Epithelium(graphXMLfile='../saved_graphs/xml/before_apoptosis.xml',\n",
      "                            paramfile='../default/params.xml')\n"
     ],
     "language": "python",
     "metadata": {},
     "outputs": [],
     "prompt_number": 8
    },
    {
     "cell_type": "code",
     "collapsed": false,
     "input": [
      "eptm_t1 = lj.Epithelium(graphXMLfile='../saved_graphs/xml/after_apopto_tension1.xml',\n",
      "                     paramfile='../default/params.xml')\n"
     ],
     "language": "python",
     "metadata": {},
     "outputs": [],
     "prompt_number": 9
    },
    {
     "cell_type": "code",
     "collapsed": false,
     "input": [
      "fig, axes = plt.subplots(2, 2, sharex=True, sharey=False)\n",
      "lj.local_slice(eptm_before, zed_amp=10, theta_amp=np.pi/24, theta_c=0)\n",
      "lj.local_slice(eptm_t0, zed_amp=10, theta_amp=np.pi/24, theta_c=0)\n",
      "\n",
      "\n",
      "ax_before_zx = axes[0, 0]\n",
      "ax_before_zx = lj.plot_cells_generic(eptm_before, \n",
      "                                     eptm_before.zeds,\n",
      "                                     eptm_before.ixs, ax=ax_before_zx,\n",
      "                                     vfilt=eptm_t1.is_local_vert,\n",
      "                                     efilt=eptm_before.is_local_edge)\n",
      "ax_before_zx.set_ylim(0, 28)\n",
      "\n",
      "ax_before_zy = axes[1, 0]\n",
      "ax_before_zy = lj.plot_cells_generic(eptm_before,\n",
      "                                     eptm_before.zeds,\n",
      "                                     eptm_before.wys, ax=ax_before_zy,\n",
      "                                     vfilt=eptm_before.is_local_vert,\n",
      "                                     efilt=eptm_before.is_local_edge)\n",
      "\n",
      "ax_after_zx = axes[0, 1]\n",
      "ax_after_zx = lj.plot_cells_generic(eptm_t0, eptm_t0.zeds,\n",
      "                                    eptm_t0.ixs, ax=ax_after_zx,\n",
      "                                    vfilt=eptm_t0.is_local_vert,\n",
      "                                    efilt=eptm_t0.is_local_edge)\n",
      "ax_after_zx.set_ylim(0, 28)\n",
      "\n",
      "ax_after_zy = axes[1, 1]\n",
      "ax_after_zy = lj.plot_cells_generic(eptm_t0, eptm_t0.zeds,\n",
      "                                    eptm_t0.wys, ax=ax_after_zy,\n",
      "                                    vfilt=eptm_t0.is_local_vert,\n",
      "                                    efilt=eptm_t0.is_local_edge)\n",
      "\n",
      "\n"
     ],
     "language": "python",
     "metadata": {},
     "outputs": [],
     "prompt_number": 13
    },
    {
     "cell_type": "code",
     "collapsed": false,
     "input": [
      "fig, axes = plt.subplots(2, 2, sharex=True, sharey=False)\n",
      "local_slice(eptm_t1, zed_amp=10, theta_amp=np.pi/24, theta_c=0)\n",
      "\n",
      "ax_no_zx = axes[0, 0]\n",
      "ax_no_zx = lj.plot_cells_generic(eptm_t0, eptm_t0.zeds, eptm_t0.ixs, ax=ax_no_zx,\n",
      "                                 vfilt=eptm_t0.is_local_vert, efilt=eptm_t0.is_local_edge)\n",
      "ax_no_zx.set_ylim(0, 28)\n",
      "\n",
      "ax_no_zy = axes[1, 0]\n",
      "ax_no_zy = lj.plot_cells_generic(eptm_t0, eptm_t0.zeds, eptm_t0.wys, ax=ax_no_zy,\n",
      "                                 vfilt=eptm_t0.is_local_vert, efilt=eptm_t0.is_local_edge)\n",
      "\n",
      "ax_with_zx = axes[0, 1]\n",
      "ax_with_zx = lj.plot_cells_generic(eptm_t1, eptm_t1.zeds, eptm_t1.ixs, ax=ax_with_zx,\n",
      "                                   vfilt=eptm_t1.is_local_vert, efilt=eptm_t1.is_local_edge)\n",
      "ax_with_zx.set_ylim(0, 28)\n",
      "\n",
      "ax_with_zy = axes[1, 1]\n",
      "ax_with_zy = lj.plot_cells_generic(eptm_t1, eptm_t1.zeds, eptm_t1.wys, ax=ax_with_zy,\n",
      "                                   vfilt=eptm_t1.is_local_vert, efilt=eptm_t1.is_local_edge)\n",
      "\n"
     ],
     "language": "python",
     "metadata": {},
     "outputs": [],
     "prompt_number": 39
    },
    {
     "cell_type": "code",
     "collapsed": false,
     "input": [
      "eptm.params['rho_lumen']"
     ],
     "language": "python",
     "metadata": {},
     "outputs": [
      {
       "output_type": "pyout",
       "prompt_number": 15,
       "text": [
        "4.0"
       ]
      }
     ],
     "prompt_number": 15
    },
    {
     "cell_type": "code",
     "collapsed": false,
     "input": [
      "is_cell_bck = eptm_before.is_cell_vert.copy()\n",
      "\n",
      "eptm_before.is_cell_vert.a[:] = 0"
     ],
     "language": "python",
     "metadata": {},
     "outputs": [],
     "prompt_number": 16
    },
    {
     "cell_type": "code",
     "collapsed": false,
     "input": [
      "lj.draw(eptm_before, d_theta=np.pi/2, output3d='../doc/imgs/before_apoptosis.png') "
     ],
     "language": "python",
     "metadata": {},
     "outputs": [],
     "prompt_number": 17
    },
    {
     "cell_type": "code",
     "collapsed": false,
     "input": [
      "lj.draw(eptm_t0, d_theta=np.pi/2, output3d='../doc/imgs/apoptosis_no_tension.png')\n",
      "lj.draw(eptm_t1, d_theta=np.pi/2, output3d='../doc/imgs/apoptosis_with_tension.png')\n",
      "lj.draw(eptm_before, d_theta=np.pi/2, output3d='../doc/imgs/before_apoptosis.png') "
     ],
     "language": "python",
     "metadata": {},
     "outputs": [],
     "prompt_number": 50
    },
    {
     "cell_type": "code",
     "collapsed": false,
     "input": [
      "local_slice(eptm_t0, zed_amp=10, theta_amp=np.pi/24, theta_c=0)\n",
      "ax = lj.plot_cells_generic(eptm_t0, eptm_t0.zeds, eptm_t0.ixs, vfilt=eptm_t0.is_local_vert, efilt=eptm_t0.is_local_edge)\n",
      "ax.set_xlabel(u'Proximal - distal axis (\u00b5m)')\n",
      "ax.set_ylabel(u'Basal - apical axis (\u00b5m)')"
     ],
     "language": "python",
     "metadata": {},
     "outputs": [
      {
       "output_type": "pyout",
       "prompt_number": 33,
       "text": [
        "<matplotlib.text.Text at 0x2595748c>"
       ]
      }
     ],
     "prompt_number": 33
    },
    {
     "cell_type": "code",
     "collapsed": false,
     "input": [
      "local_slice(eptm_t0, zed_amp=10, theta_amp=np.pi/24, theta_c=np.pi/6)\n",
      "ax = lj.plot_cells_generic(eptm_t0, eptm_t0.zeds, eptm_t0.ixs, vfilt=eptm_t0.is_local_vert, efilt=eptm_t0.is_local_edge)\n",
      "ax.set_xlabel(u'Proximal - distal axis (\u00b5m)')\n",
      "ax.set_ylabel(u'Basal - apical axis (\u00b5m)')\n",
      "\n"
     ],
     "language": "python",
     "metadata": {},
     "outputs": [
      {
       "output_type": "pyout",
       "prompt_number": 26,
       "text": [
        "<matplotlib.text.Text at 0x1417788c>"
       ]
      }
     ],
     "prompt_number": 26
    },
    {
     "cell_type": "code",
     "collapsed": false,
     "input": [
      "def plot_slice(eptm, theta_c=0, theta_amp=np.pi/24, \n",
      "               zed_c=0, zed_amp=None, \n",
      "               rho_color='ro', rho_ax=None):\n",
      "    theta_min = theta_c - theta_amp\n",
      "    theta_max = theta_c + theta_amp\n",
      "    if zed_amp is None:\n",
      "        zed_min = eptm.zeds.a.min()\n",
      "        zed_max = eptm.zeds.a.max()\n",
      "    else:\n",
      "        zed_min = zed_c - zed_amp\n",
      "        zed_max = zed_c + zed_amp\n",
      "        \n",
      "    \n",
      "    eptm.set_local_mask(None)\n",
      "    slice_cells = [cell for cell in eptm.cells\n",
      "                   if (theta_min < eptm.thetas[cell] < theta_max)\n",
      "                   and (zed_min < eptm.zeds[cell] < zed_max)]\n",
      "    for cell in slice_cells:\n",
      "        eptm.set_local_mask(cell)\n",
      "    axes = lj.plot_ortho_proj(eptm, text=False, \n",
      "                              vfilt=eptm.is_local_vert, \n",
      "                              efilt=eptm.is_local_edge)\n",
      "    \n",
      "    eptm.set_vertex_state([(eptm.is_cell_vert, True),\n",
      "                           (eptm.is_local_vert, False)])\n",
      "    \n",
      "    if rho_ax is None:\n",
      "        fig, rho_ax = plt.subplots()\n",
      "    \n",
      "    zeds = eptm.zeds.fa\n",
      "    rhos = eptm.rhos.fa\n",
      "    rho_ax.plot(zeds, rhos, rho_color, alpha=0.6)\n",
      "\n",
      "    eptm.graph.set_vertex_filter(None)\n",
      "    return axes, rho_ax"
     ],
     "language": "python",
     "metadata": {},
     "outputs": [],
     "prompt_number": 38
    },
    {
     "cell_type": "code",
     "collapsed": false,
     "input": [
      "axes0, rho_ax = plot_slice(eptm_t0, zed_amp=20, theta_amp=np.pi/36, rho_color='ro', rho_ax=None)\n",
      "axes1, rho_ax = plot_slice(eptm_t1, zed_amp=20, theta_amp=np.pi/36, rho_color='bo', rho_ax=rho_ax)"
     ],
     "language": "python",
     "metadata": {},
     "outputs": [],
     "prompt_number": 43
    },
    {
     "cell_type": "code",
     "collapsed": false,
     "input": [
      "figure(5)\n",
      "rho_ax.set_ylim(0,24)\n",
      "draw()"
     ],
     "language": "python",
     "metadata": {},
     "outputs": [],
     "prompt_number": 42
    },
    {
     "cell_type": "code",
     "collapsed": false,
     "input": [
      "joint_cells = [cell for cell in eptm.cells\n",
      "               if np.abs(eptm.zeds[cell]) < 6.]\n",
      "np.random.shuffle(joint_cells)\n",
      "for cell in joint_cells:\n",
      "    eptm.set_local_mask(None)\n",
      "    eptm.set_local_mask(cell)\n",
      "    lj.find_energy_min(eptm, tol=1e-3)    "
     ],
     "language": "python",
     "metadata": {},
     "outputs": [],
     "prompt_number": 39
    },
    {
     "cell_type": "code",
     "collapsed": false,
     "input": [],
     "language": "python",
     "metadata": {},
     "outputs": []
    },
    {
     "cell_type": "code",
     "collapsed": false,
     "input": [
      "lj.draw(eptm, d_theta=-.5)"
     ],
     "language": "python",
     "metadata": {},
     "outputs": [],
     "prompt_number": 44
    },
    {
     "cell_type": "code",
     "collapsed": false,
     "input": [
      "out2d = '../saved_graphs/png/apopto_2d_'+tag+'.png'\n",
      "out3d = '../saved_graphs/png/apopto_3d_'+tag+'.png'\n",
      "out_xml = '../saved_graphs/xml/apopto_'+tag+'.xml'\n",
      "eptm.graph.save(out_xml)\n",
      "lj.draw(eptm, output2d=out2d, output3d=out3d)\n"
     ],
     "language": "python",
     "metadata": {},
     "outputs": []
    },
    {
     "cell_type": "code",
     "collapsed": false,
     "input": [
      "rand_a = np.random.normal(0, np.pi/12., 1000)\n",
      "figure()\n",
      "h = hist(rand_a / (2 * np.pi), bins=50)"
     ],
     "language": "python",
     "metadata": {},
     "outputs": [],
     "prompt_number": 27
    },
    {
     "cell_type": "code",
     "collapsed": false,
     "input": [],
     "language": "python",
     "metadata": {},
     "outputs": []
    },
    {
     "cell_type": "code",
     "collapsed": false,
     "input": [
      "\n",
      "a_cell = apopto_cells[8]\n",
      "eptm.set_local_mask(None)\n",
      "eptm.set_local_mask(a_cell)"
     ],
     "language": "python",
     "metadata": {},
     "outputs": [],
     "prompt_number": 29
    },
    {
     "cell_type": "code",
     "collapsed": false,
     "input": [
      "\n",
      "eptm.set_local_mask(331)"
     ],
     "language": "python",
     "metadata": {},
     "outputs": [],
     "prompt_number": 32
    },
    {
     "cell_type": "code",
     "collapsed": false,
     "input": [],
     "language": "python",
     "metadata": {},
     "outputs": []
    },
    {
     "cell_type": "code",
     "collapsed": false,
     "input": [
      "axes = lj.plot_ortho_proj(eptm, text=True, vfilt=eptm.is_local_vert, efilt=eptm.is_local_edge)\n",
      "#lj.plot_ortho_gradients(eptm, axes=axes, approx=0, scale=10)\n",
      "#lj.plot_ortho_gradients(eptm, axes=axes, approx=1, scale=10)"
     ],
     "language": "python",
     "metadata": {},
     "outputs": [],
     "prompt_number": 33
    },
    {
     "cell_type": "code",
     "collapsed": false,
     "input": [
      "thetas = np.linspace(0, 2*np.pi, 60)\n",
      "for theta in thetas:\n",
      "    tag = '%2.3f' % theta\n",
      "    \n",
      "    out2d = '../saved_graphs/png/apopto_2d.png'\n",
      "    out3d = '../saved_graphs/png/apopto_3d_'+tag+'.png'\n",
      "    lj.draw(eptm, d_theta=theta, output2d=out2d, output3d=out3d)\n"
     ],
     "language": "python",
     "metadata": {},
     "outputs": [],
     "prompt_number": 21
    },
    {
     "cell_type": "code",
     "collapsed": false,
     "input": [
      "eptm.junctions.radial_tensions.a = 0\n",
      "eptm.update_gradient()"
     ],
     "language": "python",
     "metadata": {},
     "outputs": [],
     "prompt_number": 28
    },
    {
     "cell_type": "code",
     "collapsed": false,
     "input": [
      "lj.plot_ortho_gradients(eptm, axes=axes, approx=0)"
     ],
     "language": "python",
     "metadata": {},
     "outputs": [],
     "prompt_number": 21
    },
    {
     "cell_type": "code",
     "collapsed": false,
     "input": [
      "re.max()"
     ],
     "language": "python",
     "metadata": {},
     "outputs": [
      {
       "output_type": "pyout",
       "prompt_number": 22,
       "text": [
        "1706.4272940409473"
       ]
      }
     ],
     "prompt_number": 22
    },
    {
     "cell_type": "code",
     "collapsed": false,
     "input": [
      "#eptm = lj.Epithelium(graphXMLfile='after_apoptosis.xml',\n",
      "#                     paramfile='../default/params.xml')\n",
      "ax = lj.plot_ortho_proj(eptm, text=False)"
     ],
     "language": "python",
     "metadata": {},
     "outputs": [],
     "prompt_number": 9
    },
    {
     "cell_type": "code",
     "collapsed": false,
     "input": [
      "eptm.set_local_mask(None)\n",
      "eptm.set_local_mask(apopto_cells[3])"
     ],
     "language": "python",
     "metadata": {},
     "outputs": [],
     "prompt_number": 18
    },
    {
     "cell_type": "code",
     "collapsed": false,
     "input": [
      "ax = lj.plot_ortho_proj(eptm, text=False,\n",
      "                        vfilt=eptm.is_local_vert,\n",
      "                        efilt=eptm.is_local_edge)"
     ],
     "language": "python",
     "metadata": {},
     "outputs": [],
     "prompt_number": 19
    },
    {
     "cell_type": "code",
     "collapsed": false,
     "input": [
      "lj.draw(eptm, z_angle=np.pi/2.)\n"
     ],
     "language": "python",
     "metadata": {},
     "outputs": [],
     "prompt_number": 9
    },
    {
     "cell_type": "code",
     "collapsed": false,
     "input": [
      "eptm_before = lj.Epithelium(graphXMLfile='before_apoptosis.xml')\n",
      "eptm_before.update_apical_geom()\n",
      "eptm_before.update_gradient()\n"
     ],
     "language": "python",
     "metadata": {},
     "outputs": [
      {
       "output_type": "stream",
       "stream": "stdout",
       "text": [
        "Initial cells\n",
        "Initial junctions\n",
        "Scaling all the distances by a factor 1.001\n"
       ]
      }
     ],
     "prompt_number": 6
    },
    {
     "cell_type": "code",
     "collapsed": false,
     "input": [
      "def do_update():\n",
      "    eptm.update_apical_geom()\n",
      "    eptm.update_gradient()\n",
      "import cProfile\n",
      "cProfile.run('do_update()')\n"
     ],
     "language": "python",
     "metadata": {},
     "outputs": [
      {
       "output_type": "stream",
       "stream": "stdout",
       "text": [
        "         65272 function calls in 0.419 seconds\n",
        "\n",
        "   Ordered by: standard name\n",
        "\n",
        "   ncalls  tottime  percall  cumtime  percall filename:lineno(function)\n",
        "        1    0.000    0.000    0.419    0.419 <ipython-input-4-0ad3da4257f0>:1(do_update)\n",
        "        1    0.000    0.000    0.419    0.419 <string>:1(<module>)\n",
        "        1    0.000    0.000    0.000    0.000 __init__.py:1016(vertices)\n",
        "      924    0.009    0.000    0.103    0.000 __init__.py:1038(vertex)\n",
        "      462    0.023    0.000    0.127    0.000 __init__.py:1051(edge)\n",
        "        2    0.000    0.000    0.000    0.000 __init__.py:1071(edges)\n",
        "     4475    0.056    0.000    0.063    0.000 __init__.py:1203(__get_specific_properties)\n",
        "     2599    0.009    0.000    0.057    0.000 __init__.py:1209(__get_vertex_properties)\n",
        "     2599    0.002    0.000    0.002    0.000 __init__.py:1211(<lambda>)\n",
        "     1876    0.006    0.000    0.037    0.000 __init__.py:1218(__get_edge_properties)\n",
        "     1876    0.002    0.000    0.002    0.000 __init__.py:1220(<lambda>)\n",
        "     2738    0.007    0.000    0.007    0.000 __init__.py:127(_prop)\n",
        "        1    0.000    0.000    0.000    0.000 __init__.py:1351(new_vertex_property)\n",
        "        4    0.000    0.000    0.000    0.000 __init__.py:1358(new_edge_property)\n",
        "     1144    0.001    0.000    0.001    0.000 __init__.py:1483(is_directed)\n",
        "     1144    0.001    0.000    0.001    0.000 __init__.py:1495(is_reversed)\n",
        "     2290    0.086    0.000    0.092    0.000 __init__.py:1503(set_vertex_filter)\n",
        "       19    0.000    0.000    0.000    0.000 __init__.py:1514(get_vertex_filter)\n",
        "      440    0.017    0.000    0.018    0.000 __init__.py:1519(set_edge_filter)\n",
        "       20    0.000    0.000    0.000    0.000 __init__.py:1528(get_edge_filter)\n",
        "     1144    0.005    0.000    0.074    0.000 __init__.py:1551(stash_filter)\n",
        "     1144    0.004    0.000    0.058    0.000 __init__.py:1569(pop_filter)\n",
        "     1144    0.004    0.000    0.012    0.000 __init__.py:1588(get_filter_state)\n",
        "      132    0.001    0.000    0.001    0.000 __init__.py:1607(num_vertices)\n",
        "        5    0.000    0.000    0.000    0.000 __init__.py:164(_type_alias)\n",
        "        5    0.000    0.000    0.000    0.000 __init__.py:1675(value_types)\n",
        "      406    0.020    0.000    0.020    0.000 __init__.py:1692(_out_neighbours)\n",
        "      353    0.000    0.000    0.000    0.000 __init__.py:251(_get_pmap)\n",
        "      173    0.000    0.000    0.000    0.000 __init__.py:254(_set_pmap)\n",
        "       56    0.001    0.000    0.012    0.000 __init__.py:260(__new__)\n",
        "      286    0.000    0.000    0.000    0.000 __init__.py:273(_get_base)\n",
        "      286    0.001    0.000    0.002    0.000 __init__.py:279(_get_base_data)\n",
        "      231    0.001    0.000    0.022    0.000 __init__.py:282(_check_data)\n",
        "      117    0.001    0.000    0.015    0.000 __init__.py:295(__array_finalize__)\n",
        "       38    0.000    0.000    0.011    0.000 __init__.py:308(__array_prepare__)\n",
        "       38    0.000    0.000    0.000    0.000 __init__.py:312(__array_wrap__)\n",
        "       15    0.000    0.000    0.006    0.000 __init__.py:322(checked_method)\n",
        "        5    0.000    0.000    0.000    0.000 __init__.py:373(__init__)\n",
        "       10    0.000    0.000    0.000    0.000 __init__.py:376(<lambda>)\n",
        "     5964    0.003    0.000    0.003    0.000 __init__.py:385(<lambda>)\n",
        "        5    0.000    0.000    0.000    0.000 __init__.py:388(__register_map)\n",
        "        5    0.000    0.000    0.000    0.000 __init__.py:394(__unregister_map)\n",
        "        5    0.000    0.000    0.000    0.000 __init__.py:401(__del__)\n",
        "     4375    0.052    0.000    0.054    0.000 __init__.py:404(__getitem__)\n",
        "     1589    0.015    0.000    0.016    0.000 __init__.py:407(__setitem__)\n",
        "      257    0.000    0.000    0.000    0.000 __init__.py:435(get_graph)\n",
        "      109    0.000    0.000    0.000    0.000 __init__.py:442(key_type)\n",
        "        8    0.000    0.000    0.000    0.000 __init__.py:446(value_type)\n",
        "       56    0.000    0.000    0.023    0.000 __init__.py:454(get_array)\n",
        "      220    0.002    0.000    0.040    0.000 __init__.py:476(_get_data)\n",
        "        2    0.000    0.000    0.002    0.001 __init__.py:491(__set_array)\n",
        "       37    0.000    0.000    0.033    0.001 __init__.py:508(__get_set_f_array)\n",
        "       14    0.000    0.000    0.013    0.001 __init__.py:540(<lambda>)\n",
        "        4    0.001    0.000    0.001    0.000 __init__.py:802(edge_difference)\n",
        "     4475    0.015    0.000    0.015    0.000 __init__.py:852(__init__)\n",
        "     4475    0.010    0.000    0.013    0.000 __init__.py:860(__getitem__)\n",
        "     1144    0.002    0.000    0.002    0.000 copy.py:113(_copy_with_constructor)\n",
        "     1144    0.003    0.000    0.005    0.000 copy.py:66(copy)\n",
        "        1    0.000    0.000    0.243    0.243 dynamics.py:190(update_apical_geom)\n",
        "       35    0.010    0.000    0.180    0.005 dynamics.py:205(_one_cell_geom)\n",
        "      154    0.003    0.000    0.075    0.000 dynamics.py:254(outward_uvect)\n",
        "        1    0.000    0.000    0.176    0.176 energies.py:138(update_gradient)\n",
        "        1    0.006    0.006    0.153    0.153 energies.py:142(update_junctions_grad)\n",
        "        1    0.000    0.000    0.018    0.018 energies.py:178(update_cells_grad)\n",
        "      463    0.002    0.000    0.013    0.000 energies.py:33(grad_sigma)\n",
        "      463    0.002    0.000    0.013    0.000 energies.py:36(grad_zed)\n",
        "      155    0.001    0.000    0.004    0.000 energies.py:39(elastic_grad)\n",
        "      155    0.001    0.000    0.004    0.000 energies.py:42(contractile_grad)\n",
        "        1    0.000    0.000    0.000    0.000 energies.py:48(volume_grad)\n",
        "      245    0.001    0.000    0.006    0.000 filters.py:139(is_junction_edge)\n",
        "       15    0.000    0.000    0.000    0.000 filters.py:165(is_alive)\n",
        "       92    0.000    0.000    0.003    0.000 filters.py:177(is_cell_vert)\n",
        "        1    0.000    0.000    0.005    0.005 filters.py:211(set_vertex_state)\n",
        "        1    0.000    0.000    0.023    0.023 filters.py:50(new_function)\n",
        "       94    0.000    0.000    0.000    0.000 numeric.py:167(asarray)\n",
        "      730    0.003    0.000    0.021    0.000 objects.py:108(rhos)\n",
        "        1    0.000    0.000    0.000    0.000 objects.py:111(thetas)\n",
        "      204    0.001    0.000    0.006    0.000 objects.py:114(zeds)\n",
        "      239    0.001    0.000    0.007    0.000 objects.py:117(sigmas)\n",
        "        1    0.000    0.000    0.000    0.000 objects.py:145(dthetas)\n",
        "      311    0.001    0.000    0.008    0.000 objects.py:148(dzeds)\n",
        "        3    0.000    0.000    0.000    0.000 objects.py:151(drhos)\n",
        "      311    0.001    0.000    0.008    0.000 objects.py:154(dsigmas)\n",
        "        1    0.000    0.000    0.000    0.000 objects.py:157(u_drhos)\n",
        "      386    0.001    0.000    0.010    0.000 objects.py:160(u_dsigmas)\n",
        "      386    0.001    0.000    0.010    0.000 objects.py:163(u_dzeds)\n",
        "      155    0.001    0.000    0.004    0.000 objects.py:166(edge_lengths)\n",
        "        1    0.007    0.007    0.048    0.048 objects.py:246(update_deltas)\n",
        "        1    0.000    0.000    0.009    0.009 objects.py:273(update_edge_lengths)\n",
        "       36    0.001    0.000    0.003    0.000 objects.py:405(__iter__)\n",
        "        2    0.000    0.000    0.000    0.000 objects.py:432(vols)\n",
        "       37    0.000    0.000    0.001    0.000 objects.py:435(areas)\n",
        "       36    0.000    0.000    0.001    0.000 objects.py:438(perimeters)\n",
        "        1    0.000    0.000    0.000    0.000 objects.py:477(contractilities)\n",
        "        1    0.000    0.000    0.000    0.000 objects.py:480(elasticities)\n",
        "        1    0.000    0.000    0.000    0.000 objects.py:483(vol_elasticities)\n",
        "        2    0.000    0.000    0.000    0.000 objects.py:486(prefered_area)\n",
        "        1    0.000    0.000    0.000    0.000 objects.py:489(prefered_height)\n",
        "       78    0.002    0.000    0.013    0.000 objects.py:561(__iter__)\n",
        "       77    0.000    0.000    0.002    0.000 objects.py:583(line_tensions)\n",
        "       14    0.000    0.000    0.000    0.000 {getattr}\n",
        "        5    0.000    0.000    0.000    0.000 {isinstance}\n",
        "       36    0.000    0.000    0.000    0.000 {len}\n",
        "     1149    0.001    0.000    0.001    0.000 {method 'append' of 'list' objects}\n",
        "        1    0.000    0.000    0.000    0.000 {method 'clip' of 'numpy.ndarray' objects}\n",
        "        1    0.000    0.000    0.000    0.000 {method 'disable' of '_lsprof.Profiler' objects}\n",
        "     1144    0.001    0.000    0.001    0.000 {method 'get' of 'dict' objects}\n",
        "        5    0.000    0.000    0.000    0.000 {method 'index' of 'list' objects}\n",
        "     4475    0.007    0.000    0.007    0.000 {method 'items' of 'dict' objects}\n",
        "        1    0.000    0.000    0.000    0.000 {method 'max' of 'numpy.ndarray' objects}\n",
        "      105    0.001    0.000    0.001    0.000 {method 'mean' of 'numpy.ndarray' objects}\n",
        "     1144    0.001    0.000    0.001    0.000 {method 'pop' of 'list' objects}\n",
        "       56    0.000    0.000    0.001    0.000 {method 'view' of 'numpy.ndarray' objects}\n",
        "      164    0.002    0.000    0.002    0.000 {numpy.core.multiarray.array}\n",
        "\n",
        "\n"
       ]
      }
     ],
     "prompt_number": 4
    },
    {
     "cell_type": "code",
     "collapsed": false,
     "input": [],
     "language": "python",
     "metadata": {},
     "outputs": []
    }
   ],
   "metadata": {}
  }
 ]
}