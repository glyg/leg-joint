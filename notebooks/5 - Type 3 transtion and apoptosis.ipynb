{
 "metadata": {
  "name": "5 - Type 3 transtion and apoptosis"
 },
 "nbformat": 3,
 "nbformat_minor": 0,
 "worksheets": [
  {
   "cells": [
    {
     "cell_type": "code",
     "collapsed": false,
     "input": [
      "%run nb_init # This imports leg_joint as lj\n",
      "eptm = lj.Epithelium(graphXMLfile='before_apoptosis.xml',\n",
      "                     paramfile='../default/params.xml')\n",
      "ax = lj.plot_cells_sz(eptm, text=False)"
     ],
     "language": "python",
     "metadata": {},
     "outputs": [
      {
       "output_type": "stream",
       "stream": "stdout",
       "text": [
        "Initial cells\n",
        "Initial junctions\n",
        "Scaling all the distances by a factor 1.001\n"
       ]
      },
      {
       "output_type": "stream",
       "stream": "stderr",
       "text": [
        "/usr/local/lib/python2.7/dist-packages/mpl_toolkits/__init__.py:2: UserWarning: Module dateutil was already imported from /usr/local/lib/python2.7/dist-packages/dateutil/__init__.pyc, but /usr/lib/python2.7/dist-packages is being added to sys.path\n",
        "  __import__('pkg_resources').declare_namespace(__name__)\n"
       ]
      }
     ],
     "prompt_number": 2
    },
    {
     "cell_type": "code",
     "collapsed": false,
     "input": [
      "def p_apopto(zed, width_apopto=4., p0=0.5):\n",
      "    p = p0 * np.exp(- zed**2 / width_apopto**2)\n",
      "    return p\n",
      "np.random.seed(0)\n",
      "is_apoptotic = eptm.is_alive.copy()\n",
      "is_apoptotic.a[:] = 0\n",
      "for cell in eptm.cells:\n",
      "    dice = np.random.random()\n",
      "    if dice < p_apopto(eptm.zeds[cell]):\n",
      "        is_apoptotic[cell] = 1\n",
      "print is_apoptotic.a.sum()"
     ],
     "language": "python",
     "metadata": {},
     "outputs": [
      {
       "output_type": "stream",
       "stream": "stdout",
       "text": [
        "40\n"
       ]
      }
     ],
     "prompt_number": 42
    },
    {
     "cell_type": "code",
     "collapsed": false,
     "input": [
      "figure(2)\n",
      "for cell in eptm.cells:\n",
      "    if is_apoptotic[cell]:\n",
      "        plot(eptm.zeds[cell], eptm.sigmas[cell], 'ko')"
     ],
     "language": "python",
     "metadata": {},
     "outputs": [],
     "prompt_number": 43
    },
    {
     "cell_type": "code",
     "collapsed": false,
     "input": [
      "i = 0\n",
      "for cell in eptm.cells:\n",
      "    if is_apoptotic[cell]:\n",
      "        i += 1\n",
      "        eptm.set_local_mask(None)\n",
      "        apoptotic_cell = cell\n",
      "        eptm.set_local_mask(apoptotic_cell)\n",
      "        eptm.cells.prefered_area[apoptotic_cell] = 0.05\n",
      "        eptm.find_energy_min()\n",
      "        eptm.isotropic_relax()\n",
      "        print( 'done %i / %i' % (i, is_apoptotic.a.sum()))\n",
      "        # lj.resolve_small_edges(eptm, 0.3)"
     ],
     "language": "python",
     "metadata": {},
     "outputs": [
      {
       "output_type": "stream",
       "stream": "stdout",
       "text": [
        "Scaling all the distances by a factor 1.000\n",
        "done 1 / 40\n",
        "Scaling all the distances by a factor 1.000"
       ]
      },
      {
       "output_type": "stream",
       "stream": "stdout",
       "text": [
        "\n",
        "done 2 / 40\n",
        "Scaling all the distances by a factor 1.000"
       ]
      },
      {
       "output_type": "stream",
       "stream": "stdout",
       "text": [
        "\n",
        "done 3 / 40\n",
        "Scaling all the distances by a factor 1.000"
       ]
      },
      {
       "output_type": "stream",
       "stream": "stdout",
       "text": [
        "\n",
        "done 4 / 40\n",
        "Scaling all the distances by a factor 1.000"
       ]
      },
      {
       "output_type": "stream",
       "stream": "stdout",
       "text": [
        "\n",
        "done 5 / 40\n",
        "Scaling all the distances by a factor 1.000"
       ]
      },
      {
       "output_type": "stream",
       "stream": "stdout",
       "text": [
        "\n",
        "done 6 / 40\n",
        "Scaling all the distances by a factor 1.000"
       ]
      },
      {
       "output_type": "stream",
       "stream": "stdout",
       "text": [
        "\n",
        "done 7 / 40\n",
        "Scaling all the distances by a factor 1.000"
       ]
      },
      {
       "output_type": "stream",
       "stream": "stdout",
       "text": [
        "\n",
        "done 8 / 40\n",
        "Scaling all the distances by a factor 1.000"
       ]
      },
      {
       "output_type": "stream",
       "stream": "stdout",
       "text": [
        "\n",
        "done 9 / 40\n",
        "Scaling all the distances by a factor 1.000"
       ]
      },
      {
       "output_type": "stream",
       "stream": "stdout",
       "text": [
        "\n",
        "done 10 / 40\n",
        "Scaling all the distances by a factor 1.000"
       ]
      },
      {
       "output_type": "stream",
       "stream": "stdout",
       "text": [
        "\n",
        "done 11 / 40\n",
        "Scaling all the distances by a factor 1.000"
       ]
      },
      {
       "output_type": "stream",
       "stream": "stdout",
       "text": [
        "\n",
        "done 12 / 40\n",
        "Scaling all the distances by a factor 1.000"
       ]
      },
      {
       "output_type": "stream",
       "stream": "stdout",
       "text": [
        "\n",
        "done 13 / 40\n",
        "Scaling all the distances by a factor 1.000"
       ]
      },
      {
       "output_type": "stream",
       "stream": "stdout",
       "text": [
        "\n",
        "done 14 / 40\n",
        "Scaling all the distances by a factor 1.000"
       ]
      },
      {
       "output_type": "stream",
       "stream": "stdout",
       "text": [
        "\n",
        "done 15 / 40\n",
        "Scaling all the distances by a factor 1.000"
       ]
      },
      {
       "output_type": "stream",
       "stream": "stdout",
       "text": [
        "\n",
        "done 16 / 40\n",
        "Scaling all the distances by a factor 1.000"
       ]
      },
      {
       "output_type": "stream",
       "stream": "stdout",
       "text": [
        "\n",
        "done 17 / 40\n",
        "Scaling all the distances by a factor 1.000"
       ]
      },
      {
       "output_type": "stream",
       "stream": "stdout",
       "text": [
        "\n",
        "done 18 / 40\n",
        "Scaling all the distances by a factor 1.000"
       ]
      },
      {
       "output_type": "stream",
       "stream": "stdout",
       "text": [
        "\n",
        "done 19 / 40\n",
        "Scaling all the distances by a factor 1.000"
       ]
      },
      {
       "output_type": "stream",
       "stream": "stdout",
       "text": [
        "\n",
        "done 20 / 40\n",
        "Scaling all the distances by a factor 1.000"
       ]
      },
      {
       "output_type": "stream",
       "stream": "stdout",
       "text": [
        "\n",
        "done 21 / 40\n",
        "Scaling all the distances by a factor 1.000"
       ]
      },
      {
       "output_type": "stream",
       "stream": "stdout",
       "text": [
        "\n",
        "done 22 / 40\n",
        "Scaling all the distances by a factor 1.000"
       ]
      },
      {
       "output_type": "stream",
       "stream": "stdout",
       "text": [
        "\n",
        "done 23 / 40\n",
        "Scaling all the distances by a factor 1.000"
       ]
      },
      {
       "output_type": "stream",
       "stream": "stdout",
       "text": [
        "\n",
        "done 24 / 40\n",
        "Scaling all the distances by a factor 1.000"
       ]
      },
      {
       "output_type": "stream",
       "stream": "stdout",
       "text": [
        "\n",
        "done 25 / 40\n",
        "Scaling all the distances by a factor 1.000"
       ]
      },
      {
       "output_type": "stream",
       "stream": "stdout",
       "text": [
        "\n",
        "done 26 / 40\n",
        "Scaling all the distances by a factor 1.000"
       ]
      },
      {
       "output_type": "stream",
       "stream": "stdout",
       "text": [
        "\n",
        "done 27 / 40\n",
        "Scaling all the distances by a factor 1.000"
       ]
      },
      {
       "output_type": "stream",
       "stream": "stdout",
       "text": [
        "\n",
        "done 28 / 40\n",
        "Scaling all the distances by a factor 1.000"
       ]
      },
      {
       "output_type": "stream",
       "stream": "stdout",
       "text": [
        "\n",
        "done 29 / 40\n",
        "Scaling all the distances by a factor 1.000"
       ]
      },
      {
       "output_type": "stream",
       "stream": "stdout",
       "text": [
        "\n",
        "done 30 / 40\n",
        "Scaling all the distances by a factor 1.000"
       ]
      },
      {
       "output_type": "stream",
       "stream": "stdout",
       "text": [
        "\n",
        "done 31 / 40\n",
        "Scaling all the distances by a factor 1.000"
       ]
      },
      {
       "output_type": "stream",
       "stream": "stdout",
       "text": [
        "\n",
        "done 32 / 40\n",
        "Scaling all the distances by a factor 1.000"
       ]
      },
      {
       "output_type": "stream",
       "stream": "stdout",
       "text": [
        "\n",
        "done 33 / 40\n",
        "Scaling all the distances by a factor 1.000"
       ]
      },
      {
       "output_type": "stream",
       "stream": "stdout",
       "text": [
        "\n",
        "done 34 / 40\n",
        "Scaling all the distances by a factor 1.000"
       ]
      },
      {
       "output_type": "stream",
       "stream": "stdout",
       "text": [
        "\n",
        "done 35 / 40\n",
        "Scaling all the distances by a factor 1.000"
       ]
      },
      {
       "output_type": "stream",
       "stream": "stdout",
       "text": [
        "\n",
        "done 36 / 40\n",
        "Scaling all the distances by a factor 1.000"
       ]
      },
      {
       "output_type": "stream",
       "stream": "stdout",
       "text": [
        "\n",
        "done 37 / 40\n",
        "Scaling all the distances by a factor 1.000"
       ]
      },
      {
       "output_type": "stream",
       "stream": "stdout",
       "text": [
        "\n",
        "done 38 / 40\n",
        "Scaling all the distances by a factor 1.000"
       ]
      },
      {
       "output_type": "stream",
       "stream": "stdout",
       "text": [
        "\n",
        "done 39 / 40\n",
        "Scaling all the distances by a factor 1.000"
       ]
      },
      {
       "output_type": "stream",
       "stream": "stdout",
       "text": [
        "\n",
        "done 40 / 40\n"
       ]
      }
     ],
     "prompt_number": 44
    },
    {
     "cell_type": "code",
     "collapsed": false,
     "input": [
      "eptm.graph.save('after_apoptosis.xml')"
     ],
     "language": "python",
     "metadata": {},
     "outputs": [],
     "prompt_number": 45
    },
    {
     "cell_type": "code",
     "collapsed": false,
     "input": [
      "eptm = lj.Epithelium(graphXMLfile='before_apoptosis.xml',\n",
      "                     paramfile='../default/params.xml')\n",
      "ax = lj.plot_cells_sz(eptm, text=False)"
     ],
     "language": "python",
     "metadata": {},
     "outputs": [],
     "prompt_number": 47
    },
    {
     "cell_type": "code",
     "collapsed": false,
     "input": [
      "ax = lj.plot_cells_sz(eptm, text=True)"
     ],
     "language": "python",
     "metadata": {},
     "outputs": [],
     "prompt_number": 48
    },
    {
     "cell_type": "code",
     "collapsed": false,
     "input": [
      "eptm.set_local_mask(None)\n",
      "cell = eptm.graph.vertex(883)\n",
      "eptm.set_local_mask(cell)\n",
      "ax = lj.plot_cells_sz(eptm, vfilt=eptm.is_local_vert, efilt=eptm.is_local_edge)"
     ],
     "language": "python",
     "metadata": {},
     "outputs": [],
     "prompt_number": 51
    },
    {
     "cell_type": "code",
     "collapsed": false,
     "input": [
      "eptm.graph.set_edge_filter(eptm.is_active_edge)\n",
      "eptm.graph.set_vertex_filter(eptm.is_active_vert)\n",
      "fg, ax = plt.subplots()\n",
      "\n",
      "rho_lumen = 4.\n",
      "\n",
      "for v in eptm.graph.vertices():\n",
      "    if not eptm.is_cell_vert[v]:\n",
      "        xa = np.cos(eptm.thetas[v]) * eptm.rhos[v]\n",
      "        ya = np.sin(eptm.thetas[v]) * eptm.rhos[v]\n",
      "        xb = xa * rho_lumen / eptm.rhos[v]\n",
      "        yb = ya * rho_lumen / eptm.rhos[v]\n",
      "        ax.plot([xa, xb], [ya, yb], 'k-')\n",
      "for e in eptm.graph.edges():\n",
      "    if eptm.is_junction_edge[e]:\n",
      "        v_src = eptm.graph.vertex(e.source())\n",
      "        xs = np.cos(eptm.thetas[v_src]) * eptm.rhos[v_src]\n",
      "        ys = np.sin(eptm.thetas[v_src]) * eptm.rhos[v_src]\n",
      "        v_trgt = eptm.graph.vertex(e.target())\n",
      "        xt = np.cos(eptm.thetas[v_trgt]) * eptm.rhos[v_trgt]\n",
      "        yt = np.sin(eptm.thetas[v_trgt]) * eptm.rhos[v_trgt]\n",
      "        ax.plot([xs, xt], [ys, yt], 'go-', lw=2, alpha=0.5)\n",
      "ax.set_aspect('equal')\n",
      "ax.axis((0,13,0,13))"
     ],
     "language": "python",
     "metadata": {},
     "outputs": [
      {
       "output_type": "pyout",
       "prompt_number": 62,
       "text": [
        "(0, 13, 0, 13)"
       ]
      }
     ],
     "prompt_number": 62
    },
    {
     "cell_type": "code",
     "collapsed": false,
     "input": [
      "eptm.graph.set_vertex_filter(None)\n",
      "eptm.graph.set_edge_filter(None)\n",
      "\n",
      "u_rhosigma = eptm.dsigmas.copy()\n",
      "u_rhosigma.a = (eptm.edge_src_rhos.a - eptm.edge_trgt_rhos.a * np.cos(eptm.dthetas.a)) / np.abs(eptm.dsigmas.a)\n",
      "edge_zeds = u_rhosigma.copy()\n",
      "for e in eptm.graph.edges():\n",
      "    edge_zeds[e] = eptm.zeds[e.source()]"
     ],
     "language": "python",
     "metadata": {},
     "outputs": [],
     "prompt_number": 74
    },
    {
     "cell_type": "code",
     "collapsed": false,
     "input": [
      "eptm_before = lj.Epithelium(graphXMLfile='after_apoptosis.xml')\n",
      "eptm_before.update_apical_geom()\n",
      "eptm_before.update_gradient()\n"
     ],
     "language": "python",
     "metadata": {},
     "outputs": [
      {
       "output_type": "stream",
       "stream": "stdout",
       "text": [
        "Initial cells\n",
        "Initial junctions\n",
        "Scaling all the distances by a factor 1.000\n"
       ]
      }
     ],
     "prompt_number": 12
    },
    {
     "cell_type": "code",
     "collapsed": false,
     "input": [
      "pressure0 = 1.\n",
      "def calc_pressure_grad(eptm, rho_lumen=4.,\n",
      "                       radial_tension0=120., \n",
      "                       pressure0=1., rho0=12.):\n",
      "    drhos = gt.edge_difference(eptm.graph, eptm.rhos)\n",
      "    cell_vols = eptm.cells.areas.copy()\n",
      "    \n",
      "    cell_vols.a *= eptm.rhos.a - rho_lumen\n",
      "    u_outer = eptm.dzeds.copy()\n",
      "    u_outer.a[:] = 0\n",
      "    u_outer.a = np.cos(np.arctan2(drhos.a, eptm.edge_lengths.a))\n",
      "    \n",
      "    radial_tensions = eptm.zeds.copy()\n",
      "    radial_tensions.a[:] = radial_tension0\n",
      "    eptm.grad_radial.a = radial_tensions.a\n",
      "    \n",
      "    radial_tension_energy = radial_tensions.copy()\n",
      "    radial_tension_energy.a *= eptm.rhos.a\n",
      "    \n",
      "    prefered_vol = eptm.cells.prefered_area.a * (rho0 - rho_lumen)\n",
      "    pressure_grad = cell_vols.copy()\n",
      "    pressure_grad.a = pressure0 * (cell_vols.a - prefered_vol)\n",
      "    pressure_energy = cell_vols.copy()\n",
      "    pressure_energy.a = pressure0 * (cell_vols.a - prefered_vol)**2\n",
      "    \n",
      "    eptm.graph.set_edge_filter(eptm.is_ctoj_edge)\n",
      "    for e in eptm.graph.edges():\n",
      "        if not eptm.is_alive[e.source()]: continue\n",
      "        eptm.grad_radial[e.target()] += u_outer[e] * pressure_grad[e.source()]\n",
      "    \n",
      "    eptm.graph.set_edge_filter(None)\n",
      "    return pressure_grad, radial_tension_energy, pressure_energy\n",
      "\n"
     ],
     "language": "python",
     "metadata": {},
     "outputs": [],
     "prompt_number": 5
    },
    {
     "cell_type": "code",
     "collapsed": false,
     "input": [
      "import graph_tool.all as gt\n",
      "eptm.graph.set_vertex_filter(None)\n",
      "eptm.graph.set_edge_filter(None)\n",
      "eptm_before.graph.set_vertex_filter(None)\n",
      "eptm_before.graph.set_edge_filter(None)\n",
      "\n",
      "grad, tension, pressure = calc_pressure_grad(eptm, \n",
      "                                             rho_lumen=4.,\n",
      "                                             radial_tension0=1.,\n",
      "                                             pressure0=0.01,\n",
      "                                             rho0 = 12.)\n",
      "\n",
      "grad_b, tension_b, pressure_b = calc_pressure_grad(eptm_before,\n",
      "                                                   rho_lumen=4.,\n",
      "                                                   radial_tension0=1.,\n",
      "                                                   pressure0=0.01,\n",
      "                                                   rho0 = 12.)\n",
      "\n",
      "eptm_before.graph.set_vertex_filter(eptm_before.is_cell_vert, True)\n",
      "\n",
      "print eptm_before.grad_radial.fa.mean(), eptm_before.grad_radial.fa.std()\n",
      "eptm_before.graph.set_vertex_filter(None)\n"
     ],
     "language": "python",
     "metadata": {},
     "outputs": [
      {
       "output_type": "stream",
       "stream": "stdout",
       "text": [
        "0.378857211279 0.590943589161\n"
       ]
      }
     ],
     "prompt_number": 13
    },
    {
     "cell_type": "code",
     "collapsed": false,
     "input": [
      "fig, axes = plt.subplots(2, 2, sharex=True, sharey=True)\n",
      "# plot(eptm.zeds.fa, rho_grad.fa, 'o')\n",
      "\n",
      "def sz_scatter(eptm, pmap, ax, log=False, vfilt=(None, False)):\n",
      "    eptm.graph.set_vertex_filter(vfilt[0], vfilt[1])   \n",
      "    n_data = pmap.fa - pmap.fa.min()\n",
      "    n_data /= n_data.max()\n",
      "    \n",
      "    if log : n_data = np.log(1 + n_data)\n",
      "    ax.scatter(eptm.zeds.fa, eptm.sigmas.fa, c=n_data, cmap=plt.cm.jet, )\n",
      "    eptm.graph.set_vertex_filter(None)\n",
      "\n",
      "vfilt = eptm.is_cell_vert, True\n",
      "sz_scatter(eptm, eptm.grad_radial, axes[0,0], vfilt=vfilt)\n",
      "\n",
      "vfilt = eptm.is_cell_vert, False\n",
      "sz_scatter(eptm, pressure, axes[0,1], \n",
      "           log=True, vfilt=vfilt)    \n",
      "\n",
      "vfilt = eptm_before.is_cell_vert, True\n",
      "sz_scatter(eptm_before, eptm_before.grad_radial, \n",
      "           ax=axes[1,0], vfilt=vfilt)\n",
      "\n",
      "vfilt=eptm_before.is_cell_vert, False\n",
      "sz_scatter(eptm_before, pressure_b,\n",
      "           ax=axes[1,1], log=True, vfilt=vfilt)    \n",
      "\n",
      "\n",
      "eptm.graph.set_vertex_filter(None)\n",
      "eptm.graph.set_edge_filter(None)\n",
      "eptm_before.graph.set_vertex_filter(None)\n",
      "eptm_before.graph.set_edge_filter(None)\n"
     ],
     "language": "python",
     "metadata": {},
     "outputs": [],
     "prompt_number": 14
    },
    {
     "cell_type": "code",
     "collapsed": false,
     "input": [
      "eptm_before.graph.set_vertex_filter(eptm_before.is_cell_vert, True)\n",
      "figure(2)\n",
      "plt.plot(eptm_before.zeds.fa, eptm_before.grad_radial.fa, 'o')\n",
      "eptm_before.graph.set_vertex_filter(None)"
     ],
     "language": "python",
     "metadata": {},
     "outputs": [],
     "prompt_number": 15
    },
    {
     "cell_type": "code",
     "collapsed": false,
     "input": [
      "\n",
      "step = 1.\n",
      "eptm_before.graph.set_vertex_filter(eptm_before.is_cell_vert, True)\n",
      "previous_grad = eptm_before.grad_radial.fa\n",
      "eptm_before.rhos.fa -= step * eptm_before.grad_radial.fa\n",
      " \n",
      "eptm_before.graph.set_vertex_filter(None)\n",
      "\n",
      "eptm_before.sigmas.a = eptm_before.rhos.a * eptm_before.thetas.a\n",
      "eptm_before.periodic_boundary_condition()\n",
      "eptm_before.update_apical_geom()\n",
      "eptm_before.update_gradient()\n",
      "grad_b, tension_b, pressure_b = calc_pressure_grad(eptm_before,\n",
      "                                                   rho_lumen=4.,\n",
      "                                                   radial_tension0=1.,\n",
      "                                                   pressure0=0.01,\n",
      "                                                   rho0 = 12.)\n",
      "\n",
      "eptm_before.graph.set_vertex_filter(eptm_before.is_cell_vert, True)\n",
      "figure(3)\n",
      "plt.plot(np.abs(previous_grad) - np.abs(eptm_before.grad_radial.fa), 'o')\n",
      "eptm_before.graph.set_vertex_filter(None)\n"
     ],
     "language": "python",
     "metadata": {},
     "outputs": [],
     "prompt_number": 16
    },
    {
     "cell_type": "code",
     "collapsed": false,
     "input": [
      "dthetas = np.linspace(0, np.pi, 60)\n",
      "z_angles = np.linspace(0, np.pi / 4., 60)\n",
      "i = 0\n",
      "for dtheta, z_angle in zip(dthetas, z_angles):\n",
      "    fname = 'movie_%02d.png' % i\n",
      "    lj.draw(eptm_before, z_angle=z_angle, \n",
      "            d_theta=dtheta, output3d=fname)\n",
      "    i += 1\n",
      "    print fname"
     ],
     "language": "python",
     "metadata": {},
     "outputs": [
      {
       "output_type": "stream",
       "stream": "stdout",
       "text": [
        "movie_00.png\n",
        "movie_01.png"
       ]
      },
      {
       "output_type": "stream",
       "stream": "stdout",
       "text": [
        "\n",
        "movie_02.png"
       ]
      },
      {
       "output_type": "stream",
       "stream": "stdout",
       "text": [
        "\n",
        "movie_03.png"
       ]
      },
      {
       "output_type": "stream",
       "stream": "stdout",
       "text": [
        "\n",
        "movie_04.png"
       ]
      },
      {
       "output_type": "stream",
       "stream": "stdout",
       "text": [
        "\n",
        "movie_05.png"
       ]
      },
      {
       "output_type": "stream",
       "stream": "stdout",
       "text": [
        "\n",
        "movie_06.png"
       ]
      },
      {
       "output_type": "stream",
       "stream": "stdout",
       "text": [
        "\n",
        "movie_07.png"
       ]
      },
      {
       "output_type": "stream",
       "stream": "stdout",
       "text": [
        "\n",
        "movie_08.png"
       ]
      },
      {
       "output_type": "stream",
       "stream": "stdout",
       "text": [
        "\n",
        "movie_09.png"
       ]
      },
      {
       "output_type": "stream",
       "stream": "stdout",
       "text": [
        "\n",
        "movie_10.png"
       ]
      },
      {
       "output_type": "stream",
       "stream": "stdout",
       "text": [
        "\n",
        "movie_11.png"
       ]
      },
      {
       "output_type": "stream",
       "stream": "stdout",
       "text": [
        "\n",
        "movie_12.png"
       ]
      },
      {
       "output_type": "stream",
       "stream": "stdout",
       "text": [
        "\n",
        "movie_13.png"
       ]
      },
      {
       "output_type": "stream",
       "stream": "stdout",
       "text": [
        "\n",
        "movie_14.png"
       ]
      },
      {
       "output_type": "stream",
       "stream": "stdout",
       "text": [
        "\n",
        "movie_15.png"
       ]
      },
      {
       "output_type": "stream",
       "stream": "stdout",
       "text": [
        "\n",
        "movie_16.png"
       ]
      },
      {
       "output_type": "stream",
       "stream": "stdout",
       "text": [
        "\n",
        "movie_17.png"
       ]
      },
      {
       "output_type": "stream",
       "stream": "stdout",
       "text": [
        "\n",
        "movie_18.png"
       ]
      },
      {
       "output_type": "stream",
       "stream": "stdout",
       "text": [
        "\n",
        "movie_19.png"
       ]
      },
      {
       "output_type": "stream",
       "stream": "stdout",
       "text": [
        "\n",
        "movie_20.png"
       ]
      },
      {
       "output_type": "stream",
       "stream": "stdout",
       "text": [
        "\n",
        "movie_21.png"
       ]
      },
      {
       "output_type": "stream",
       "stream": "stdout",
       "text": [
        "\n",
        "movie_22.png"
       ]
      },
      {
       "output_type": "stream",
       "stream": "stdout",
       "text": [
        "\n",
        "movie_23.png"
       ]
      },
      {
       "output_type": "stream",
       "stream": "stdout",
       "text": [
        "\n",
        "movie_24.png"
       ]
      },
      {
       "output_type": "stream",
       "stream": "stdout",
       "text": [
        "\n",
        "movie_25.png"
       ]
      },
      {
       "output_type": "stream",
       "stream": "stdout",
       "text": [
        "\n",
        "movie_26.png"
       ]
      },
      {
       "output_type": "stream",
       "stream": "stdout",
       "text": [
        "\n",
        "movie_27.png"
       ]
      },
      {
       "output_type": "stream",
       "stream": "stdout",
       "text": [
        "\n",
        "movie_28.png"
       ]
      },
      {
       "output_type": "stream",
       "stream": "stdout",
       "text": [
        "\n",
        "movie_29.png"
       ]
      },
      {
       "output_type": "stream",
       "stream": "stdout",
       "text": [
        "\n",
        "movie_30.png"
       ]
      },
      {
       "output_type": "stream",
       "stream": "stdout",
       "text": [
        "\n",
        "movie_31.png"
       ]
      },
      {
       "output_type": "stream",
       "stream": "stdout",
       "text": [
        "\n",
        "movie_32.png"
       ]
      },
      {
       "output_type": "stream",
       "stream": "stdout",
       "text": [
        "\n",
        "movie_33.png"
       ]
      },
      {
       "output_type": "stream",
       "stream": "stdout",
       "text": [
        "\n",
        "movie_34.png"
       ]
      },
      {
       "output_type": "stream",
       "stream": "stdout",
       "text": [
        "\n",
        "movie_35.png"
       ]
      },
      {
       "output_type": "stream",
       "stream": "stdout",
       "text": [
        "\n",
        "movie_36.png"
       ]
      },
      {
       "output_type": "stream",
       "stream": "stdout",
       "text": [
        "\n",
        "movie_37.png"
       ]
      },
      {
       "output_type": "stream",
       "stream": "stdout",
       "text": [
        "\n",
        "movie_38.png"
       ]
      },
      {
       "output_type": "stream",
       "stream": "stdout",
       "text": [
        "\n",
        "movie_39.png"
       ]
      },
      {
       "output_type": "stream",
       "stream": "stdout",
       "text": [
        "\n",
        "movie_40.png"
       ]
      },
      {
       "output_type": "stream",
       "stream": "stdout",
       "text": [
        "\n",
        "movie_41.png"
       ]
      },
      {
       "output_type": "stream",
       "stream": "stdout",
       "text": [
        "\n",
        "movie_42.png"
       ]
      },
      {
       "output_type": "stream",
       "stream": "stdout",
       "text": [
        "\n",
        "movie_43.png"
       ]
      },
      {
       "output_type": "stream",
       "stream": "stdout",
       "text": [
        "\n",
        "movie_44.png"
       ]
      },
      {
       "output_type": "stream",
       "stream": "stdout",
       "text": [
        "\n",
        "movie_45.png"
       ]
      },
      {
       "output_type": "stream",
       "stream": "stdout",
       "text": [
        "\n",
        "movie_46.png"
       ]
      },
      {
       "output_type": "stream",
       "stream": "stdout",
       "text": [
        "\n",
        "movie_47.png"
       ]
      },
      {
       "output_type": "stream",
       "stream": "stdout",
       "text": [
        "\n",
        "movie_48.png"
       ]
      },
      {
       "output_type": "stream",
       "stream": "stdout",
       "text": [
        "\n",
        "movie_49.png"
       ]
      },
      {
       "output_type": "stream",
       "stream": "stdout",
       "text": [
        "\n",
        "movie_50.png"
       ]
      },
      {
       "output_type": "stream",
       "stream": "stdout",
       "text": [
        "\n",
        "movie_51.png"
       ]
      },
      {
       "output_type": "stream",
       "stream": "stdout",
       "text": [
        "\n",
        "movie_52.png"
       ]
      },
      {
       "output_type": "stream",
       "stream": "stdout",
       "text": [
        "\n",
        "movie_53.png"
       ]
      },
      {
       "output_type": "stream",
       "stream": "stdout",
       "text": [
        "\n",
        "movie_54.png"
       ]
      },
      {
       "output_type": "stream",
       "stream": "stdout",
       "text": [
        "\n",
        "movie_55.png"
       ]
      },
      {
       "output_type": "stream",
       "stream": "stdout",
       "text": [
        "\n",
        "movie_56.png"
       ]
      },
      {
       "output_type": "stream",
       "stream": "stdout",
       "text": [
        "\n",
        "movie_57.png"
       ]
      },
      {
       "output_type": "stream",
       "stream": "stdout",
       "text": [
        "\n",
        "movie_58.png"
       ]
      },
      {
       "output_type": "stream",
       "stream": "stdout",
       "text": [
        "\n",
        "movie_59.png"
       ]
      },
      {
       "output_type": "stream",
       "stream": "stdout",
       "text": [
        "\n"
       ]
      }
     ],
     "prompt_number": 17
    },
    {
     "cell_type": "code",
     "collapsed": false,
     "input": [
      "\n",
      "lj.plot_cells_sz(eptm_before, text=False)"
     ],
     "language": "python",
     "metadata": {},
     "outputs": [
      {
       "output_type": "pyout",
       "prompt_number": 348,
       "text": [
        "<matplotlib.axes.AxesSubplot at 0x116d468c>"
       ]
      }
     ],
     "prompt_number": 348
    },
    {
     "cell_type": "code",
     "collapsed": false,
     "input": [
      "figure(3)\n",
      "plot(np.linspace(-1.5, 1.5, 10), np.linspace(-1.5, 1.5, 10))"
     ],
     "language": "python",
     "metadata": {},
     "outputs": [
      {
       "output_type": "pyout",
       "prompt_number": 339,
       "text": [
        "[<matplotlib.lines.Line2D at 0x1baf4f2c>]"
       ]
      }
     ],
     "prompt_number": 339
    },
    {
     "cell_type": "code",
     "collapsed": false,
     "input": [],
     "language": "python",
     "metadata": {},
     "outputs": []
    }
   ],
   "metadata": {}
  }
 ]
}