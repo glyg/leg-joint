{
 "metadata": {
  "name": "5 - Type 3 transtion and apoptosis"
 },
 "nbformat": 3,
 "nbformat_minor": 0,
 "worksheets": [
  {
   "cells": [
    {
     "cell_type": "code",
     "collapsed": false,
     "input": [
      "%run nb_init # This imports leg_joint as lj\n",
      "eptm = lj.Epithelium(#graphXMLfile='before_apoptosis.xml',\n",
      "                     paramfile='../default/params.xml')\n",
      "ax = lj.plot_cells_sz(eptm, text=False)"
     ],
     "language": "python",
     "metadata": {},
     "outputs": [
      {
       "output_type": "stream",
       "stream": "stdout",
       "text": [
        "Initial cells\n",
        "Initial junctions"
       ]
      },
      {
       "output_type": "stream",
       "stream": "stdout",
       "text": [
        "\n",
        "2 triangles were dropped"
       ]
      },
      {
       "output_type": "stream",
       "stream": "stdout",
       "text": [
        "\n",
        "2 junction edges were dropped"
       ]
      },
      {
       "output_type": "stream",
       "stream": "stdout",
       "text": [
        "\n",
        "Scaling all the distances by a factor 0.759"
       ]
      },
      {
       "output_type": "stream",
       "stream": "stdout",
       "text": [
        "\n"
       ]
      }
     ],
     "prompt_number": 3
    },
    {
     "cell_type": "code",
     "collapsed": false,
     "input": [
      "def p_apopto(zed, width_apopto=4., p0=0.5):\n",
      "    p = p0 * np.exp(- zed**2 / width_apopto**2)\n",
      "    return p\n",
      "np.random.seed(0)\n",
      "is_apoptotic = eptm.is_alive.copy()\n",
      "is_apoptotic.a[:] = 0\n",
      "for cell in eptm.cells:\n",
      "    dice = np.random.random()\n",
      "    if dice < p_apopto(eptm.zeds[cell]):\n",
      "        is_apoptotic[cell] = 1\n",
      "print is_apoptotic.a.sum()"
     ],
     "language": "python",
     "metadata": {},
     "outputs": [
      {
       "output_type": "stream",
       "stream": "stdout",
       "text": [
        "7\n"
       ]
      }
     ],
     "prompt_number": 4
    },
    {
     "cell_type": "code",
     "collapsed": false,
     "input": [
      "figure(1)\n",
      "for cell in eptm.cells:\n",
      "    if is_apoptotic[cell]:\n",
      "        plot(eptm.zeds[cell], eptm.sigmas[cell], 'ko')"
     ],
     "language": "python",
     "metadata": {},
     "outputs": [],
     "prompt_number": 3
    },
    {
     "cell_type": "code",
     "collapsed": false,
     "input": [
      "i = 0\n",
      "for cell in eptm.cells:\n",
      "    if is_apoptotic[cell]:\n",
      "        i += 1\n",
      "        eptm.set_local_mask(None)\n",
      "        apoptotic_cell = cell\n",
      "        eptm.set_local_mask(apoptotic_cell)\n",
      "        eptm.cells.prefered_area[apoptotic_cell] = 0.05\n",
      "        eptm.find_energy_min()\n",
      "        eptm.isotropic_relax()\n",
      "        print( 'done %i / %i' % (i, is_apoptotic.a.sum()))\n",
      "        # lj.resolve_small_edges(eptm, 0.3)"
     ],
     "language": "python",
     "metadata": {},
     "outputs": [
      {
       "output_type": "stream",
       "stream": "stdout",
       "text": [
        "Scaling all the distances by a factor 1.000\n",
        "done 1 / 40\n",
        "Scaling all the distances by a factor 1.000"
       ]
      },
      {
       "output_type": "stream",
       "stream": "stdout",
       "text": [
        "\n",
        "done 2 / 40\n",
        "Scaling all the distances by a factor 1.000"
       ]
      },
      {
       "output_type": "stream",
       "stream": "stdout",
       "text": [
        "\n",
        "done 3 / 40\n",
        "Scaling all the distances by a factor 1.000"
       ]
      },
      {
       "output_type": "stream",
       "stream": "stdout",
       "text": [
        "\n",
        "done 4 / 40\n",
        "Scaling all the distances by a factor 1.000"
       ]
      },
      {
       "output_type": "stream",
       "stream": "stdout",
       "text": [
        "\n",
        "done 5 / 40\n",
        "Scaling all the distances by a factor 1.000"
       ]
      },
      {
       "output_type": "stream",
       "stream": "stdout",
       "text": [
        "\n",
        "done 6 / 40\n",
        "Scaling all the distances by a factor 1.000"
       ]
      },
      {
       "output_type": "stream",
       "stream": "stdout",
       "text": [
        "\n",
        "done 7 / 40\n",
        "Scaling all the distances by a factor 1.000"
       ]
      },
      {
       "output_type": "stream",
       "stream": "stdout",
       "text": [
        "\n",
        "done 8 / 40\n",
        "Scaling all the distances by a factor 1.000"
       ]
      },
      {
       "output_type": "stream",
       "stream": "stdout",
       "text": [
        "\n",
        "done 9 / 40\n",
        "Scaling all the distances by a factor 1.000"
       ]
      },
      {
       "output_type": "stream",
       "stream": "stdout",
       "text": [
        "\n",
        "done 10 / 40\n",
        "Scaling all the distances by a factor 1.000"
       ]
      },
      {
       "output_type": "stream",
       "stream": "stdout",
       "text": [
        "\n",
        "done 11 / 40\n",
        "Scaling all the distances by a factor 1.000"
       ]
      },
      {
       "output_type": "stream",
       "stream": "stdout",
       "text": [
        "\n",
        "done 12 / 40\n",
        "Scaling all the distances by a factor 1.000"
       ]
      },
      {
       "output_type": "stream",
       "stream": "stdout",
       "text": [
        "\n",
        "done 13 / 40\n",
        "Scaling all the distances by a factor 1.000"
       ]
      },
      {
       "output_type": "stream",
       "stream": "stdout",
       "text": [
        "\n",
        "done 14 / 40\n",
        "Scaling all the distances by a factor 1.000"
       ]
      },
      {
       "output_type": "stream",
       "stream": "stdout",
       "text": [
        "\n",
        "done 15 / 40\n",
        "Scaling all the distances by a factor 1.000"
       ]
      },
      {
       "output_type": "stream",
       "stream": "stdout",
       "text": [
        "\n",
        "done 16 / 40\n",
        "Scaling all the distances by a factor 1.000"
       ]
      },
      {
       "output_type": "stream",
       "stream": "stdout",
       "text": [
        "\n",
        "done 17 / 40\n",
        "Scaling all the distances by a factor 1.000"
       ]
      },
      {
       "output_type": "stream",
       "stream": "stdout",
       "text": [
        "\n",
        "done 18 / 40\n",
        "Scaling all the distances by a factor 1.000"
       ]
      },
      {
       "output_type": "stream",
       "stream": "stdout",
       "text": [
        "\n",
        "done 19 / 40\n",
        "Scaling all the distances by a factor 1.000"
       ]
      },
      {
       "output_type": "stream",
       "stream": "stdout",
       "text": [
        "\n",
        "done 20 / 40\n",
        "Scaling all the distances by a factor 1.000"
       ]
      },
      {
       "output_type": "stream",
       "stream": "stdout",
       "text": [
        "\n",
        "done 21 / 40\n",
        "Scaling all the distances by a factor 1.000"
       ]
      },
      {
       "output_type": "stream",
       "stream": "stdout",
       "text": [
        "\n",
        "done 22 / 40\n",
        "Scaling all the distances by a factor 1.000"
       ]
      },
      {
       "output_type": "stream",
       "stream": "stdout",
       "text": [
        "\n",
        "done 23 / 40\n",
        "Scaling all the distances by a factor 1.000"
       ]
      },
      {
       "output_type": "stream",
       "stream": "stdout",
       "text": [
        "\n",
        "done 24 / 40\n",
        "Scaling all the distances by a factor 1.000"
       ]
      },
      {
       "output_type": "stream",
       "stream": "stdout",
       "text": [
        "\n",
        "done 25 / 40\n",
        "Scaling all the distances by a factor 1.000"
       ]
      },
      {
       "output_type": "stream",
       "stream": "stdout",
       "text": [
        "\n",
        "done 26 / 40\n",
        "Scaling all the distances by a factor 1.000"
       ]
      },
      {
       "output_type": "stream",
       "stream": "stdout",
       "text": [
        "\n",
        "done 27 / 40\n",
        "Scaling all the distances by a factor 1.000"
       ]
      },
      {
       "output_type": "stream",
       "stream": "stdout",
       "text": [
        "\n",
        "done 28 / 40\n",
        "Scaling all the distances by a factor 1.000"
       ]
      },
      {
       "output_type": "stream",
       "stream": "stdout",
       "text": [
        "\n",
        "done 29 / 40\n",
        "Scaling all the distances by a factor 1.000"
       ]
      },
      {
       "output_type": "stream",
       "stream": "stdout",
       "text": [
        "\n",
        "done 30 / 40\n",
        "Scaling all the distances by a factor 1.000"
       ]
      },
      {
       "output_type": "stream",
       "stream": "stdout",
       "text": [
        "\n",
        "done 31 / 40\n",
        "Scaling all the distances by a factor 1.000"
       ]
      },
      {
       "output_type": "stream",
       "stream": "stdout",
       "text": [
        "\n",
        "done 32 / 40\n",
        "Scaling all the distances by a factor 1.000"
       ]
      },
      {
       "output_type": "stream",
       "stream": "stdout",
       "text": [
        "\n",
        "done 33 / 40\n",
        "Scaling all the distances by a factor 1.000"
       ]
      },
      {
       "output_type": "stream",
       "stream": "stdout",
       "text": [
        "\n",
        "done 34 / 40\n",
        "Scaling all the distances by a factor 1.000"
       ]
      },
      {
       "output_type": "stream",
       "stream": "stdout",
       "text": [
        "\n",
        "done 35 / 40\n",
        "Scaling all the distances by a factor 1.000"
       ]
      },
      {
       "output_type": "stream",
       "stream": "stdout",
       "text": [
        "\n",
        "done 36 / 40\n",
        "Scaling all the distances by a factor 1.000"
       ]
      },
      {
       "output_type": "stream",
       "stream": "stdout",
       "text": [
        "\n",
        "done 37 / 40\n",
        "Scaling all the distances by a factor 1.000"
       ]
      },
      {
       "output_type": "stream",
       "stream": "stdout",
       "text": [
        "\n",
        "done 38 / 40\n",
        "Scaling all the distances by a factor 1.000"
       ]
      },
      {
       "output_type": "stream",
       "stream": "stdout",
       "text": [
        "\n",
        "done 39 / 40\n",
        "Scaling all the distances by a factor 1.000"
       ]
      },
      {
       "output_type": "stream",
       "stream": "stdout",
       "text": [
        "\n",
        "done 40 / 40\n"
       ]
      }
     ],
     "prompt_number": 44
    },
    {
     "cell_type": "code",
     "collapsed": false,
     "input": [
      "#eptm.graph.save('after_apoptosis.xml')"
     ],
     "language": "python",
     "metadata": {},
     "outputs": [],
     "prompt_number": 5
    },
    {
     "cell_type": "code",
     "collapsed": false,
     "input": [
      "eptm = lj.Epithelium(graphXMLfile='after_apoptosis.xml',\n",
      "                     paramfile='../default/params.xml')\n",
      "ax = lj.plot_cells_sz(eptm, text=False)"
     ],
     "language": "python",
     "metadata": {},
     "outputs": [
      {
       "output_type": "stream",
       "stream": "stdout",
       "text": [
        "Initial cells\n",
        "Initial junctions\n",
        "Scaling all the distances by a factor 1.000\n"
       ]
      }
     ],
     "prompt_number": 4
    },
    {
     "cell_type": "code",
     "collapsed": false,
     "input": [
      "eptm_before = lj.Epithelium(graphXMLfile='before_apoptosis.xml')\n",
      "eptm_before.update_apical_geom()\n",
      "eptm_before.update_gradient()\n"
     ],
     "language": "python",
     "metadata": {},
     "outputs": [
      {
       "output_type": "stream",
       "stream": "stdout",
       "text": [
        "Initial cells\n",
        "Initial junctions\n",
        "Scaling all the distances by a factor 1.001\n"
       ]
      }
     ],
     "prompt_number": 6
    },
    {
     "cell_type": "code",
     "collapsed": false,
     "input": [
      "pressure0 = 1.\n",
      "def calc_pressure_grad(eptm, rho_lumen=4.,\n",
      "                       radial_tension0=1., \n",
      "                       pressure0=0.01, rho0=12.):\n",
      "    drhos = gt.edge_difference(eptm.graph, eptm.rhos)\n",
      "    cell_vols = eptm.cells.areas.copy()\n",
      "    \n",
      "    cell_vols.a *= eptm.rhos.a - rho_lumen\n",
      "    u_outer = eptm.dzeds.copy()\n",
      "    u_outer.a[:] = 0\n",
      "    u_outer.a = np.cos(np.arctan2(drhos.a, eptm.edge_lengths.a))\n",
      "    \n",
      "    radial_tensions = eptm.zeds.copy()\n",
      "    radial_tensions.a[:] = radial_tension0\n",
      "    eptm.grad_radial.a = radial_tensions.a\n",
      "    \n",
      "    radial_tension_energy = radial_tensions.copy()\n",
      "    radial_tension_energy.a *= eptm.rhos.a\n",
      "    \n",
      "    prefered_vol = eptm.cells.prefered_area.a * (rho0 - rho_lumen)\n",
      "    pressure_grad = cell_vols.copy()\n",
      "    pressure_grad.a = pressure0 * (cell_vols.a - prefered_vol)\n",
      "    pressure_energy = cell_vols.copy()\n",
      "    pressure_energy.a = pressure0 * (cell_vols.a - prefered_vol)**2\n",
      "    \n",
      "    eptm.graph.set_edge_filter(eptm.is_ctoj_edge)\n",
      "    for e in eptm.graph.edges():\n",
      "        if not eptm.is_alive[e.source()]: continue\n",
      "        eptm.grad_radial[e.target()] += u_outer[e] * pressure_grad[e.source()]\n",
      "    \n",
      "    eptm.graph.set_edge_filter(None)\n",
      "    return pressure_grad, radial_tension_energy, pressure_energy"
     ],
     "language": "python",
     "metadata": {},
     "outputs": [],
     "prompt_number": 8
    },
    {
     "cell_type": "code",
     "collapsed": false,
     "input": [
      "import graph_tool.all as gt\n",
      "eptm.graph.set_vertex_filter(None)\n",
      "eptm.graph.set_edge_filter(None)\n",
      "eptm_before.graph.set_vertex_filter(None)\n",
      "eptm_before.graph.set_edge_filter(None)\n",
      "\n",
      "grad, tension, pressure = calc_pressure_grad(eptm, \n",
      "                                             rho_lumen=4.,\n",
      "                                             radial_tension0=1.,\n",
      "                                             pressure0=0.01,\n",
      "                                             rho0 = 12.)\n",
      "\n",
      "grad_b, tension_b, pressure_b = calc_pressure_grad(eptm_before,\n",
      "                                                   rho_lumen=4.,\n",
      "                                                   radial_tension0=1.,\n",
      "                                                   pressure0=0.01,\n",
      "                                                   rho0 = 12.)\n",
      "\n",
      "eptm_before.graph.set_vertex_filter(eptm_before.is_cell_vert, True)\n",
      "\n",
      "print eptm_before.grad_radial.fa.mean(), eptm_before.grad_radial.fa.std()\n",
      "eptm_before.graph.set_vertex_filter(None)\n"
     ],
     "language": "python",
     "metadata": {},
     "outputs": [
      {
       "output_type": "stream",
       "stream": "stdout",
       "text": [
        "0.0507277332008 0.361003395495\n"
       ]
      }
     ],
     "prompt_number": 11
    },
    {
     "cell_type": "code",
     "collapsed": false,
     "input": [
      "fig, axes = plt.subplots(2, 2, sharex=True, sharey=True)\n",
      "# plot(eptm.zeds.fa, rho_grad.fa, 'o')\n",
      "\n",
      "def sz_scatter(eptm, pmap, ax, log=False, vfilt=(None, False), clip=0):\n",
      "    \n",
      "    eptm.graph.set_vertex_filter(vfilt[0], vfilt[1])   \n",
      "    n_data = pmap.fa - pmap.fa.min()\n",
      "    if clip > 0. :\n",
      "        h, bins = np.histogram(n_data, bins=100, normed=True)\n",
      "        cumhist = np.cumsum(h)\n",
      "        norm = 100. / cumhist[-1]\n",
      "        cumhist *= norm\n",
      "        bin_inf = bins[cumhist > clip][0]     \n",
      "        bin_sup = bins[cumhist < 100 - clip][-1]\n",
      "        n_data = n_data.clip(bin_inf, bin_sup)\n",
      "    n_data /= n_data.max()\n",
      "    if log: \n",
      "        n_data = np.log(1 + n_data)\n",
      "        \n",
      "    proj_sigma = eptm.sigmas.copy()\n",
      "    mean_rho = eptm.rhos.fa.mean()\n",
      "    proj_sigma.fa = eptm.thetas.fa * mean_rho\n",
      "    ax.scatter(eptm.zeds.fa, eptm.sigmas.fa, c=n_data, cmap=plt.cm.jet, )\n",
      "    eptm.graph.set_vertex_filter(None)\n",
      "\n",
      "vfilt = eptm.is_cell_vert, True\n",
      "sz_scatter(eptm, eptm.grad_radial, axes[0,0], vfilt=vfilt)\n",
      "\n",
      "vfilt = eptm.is_cell_vert, False\n",
      "sz_scatter(eptm, pressure, axes[0,1], \n",
      "           log=True, vfilt=vfilt, clip=5.)    \n",
      "\n",
      "vfilt = eptm_before.is_cell_vert, True\n",
      "sz_scatter(eptm_before, eptm_before.grad_radial, \n",
      "           ax=axes[1,0], vfilt=vfilt)\n",
      "\n",
      "vfilt=eptm_before.is_cell_vert, False\n",
      "sz_scatter(eptm_before, pressure_b,\n",
      "           ax=axes[1,1], log=True, vfilt=vfilt, clip=5.)    \n",
      "\n",
      "\n",
      "eptm.graph.set_vertex_filter(None)\n",
      "eptm.graph.set_edge_filter(None)\n",
      "eptm_before.graph.set_vertex_filter(None)\n",
      "eptm_before.graph.set_edge_filter(None)\n"
     ],
     "language": "python",
     "metadata": {},
     "outputs": [],
     "prompt_number": 53
    },
    {
     "cell_type": "code",
     "collapsed": false,
     "input": [
      "eptm_before.graph.set_vertex_filter(eptm_before.is_cell_vert, True)\n",
      "figure(2)\n",
      "plt.plot(eptm_before.zeds.fa, eptm_before.grad_radial.fa, 'o')\n",
      "eptm_before.graph.set_vertex_filter(None)"
     ],
     "language": "python",
     "metadata": {},
     "outputs": [],
     "prompt_number": 15
    },
    {
     "cell_type": "code",
     "collapsed": false,
     "input": [
      "\n",
      "step = 1.\n",
      "eptm_before.graph.set_vertex_filter(eptm_before.is_cell_vert, True)\n",
      "previous_grad = eptm_before.grad_radial.fa\n",
      "eptm_before.rhos.fa -= step * eptm_before.grad_radial.fa\n",
      " \n",
      "eptm_before.graph.set_vertex_filter(None)\n",
      "\n",
      "eptm_before.sigmas.a = eptm_before.rhos.a * eptm_before.thetas.a\n",
      "eptm_before.periodic_boundary_condition()\n",
      "eptm_before.update_apical_geom()\n",
      "eptm_before.update_gradient()\n",
      "grad_b, tension_b, pressure_b = calc_pressure_grad(eptm_before,\n",
      "                                                   rho_lumen=4.,\n",
      "                                                   radial_tension0=1.,\n",
      "                                                   pressure0=0.01,\n",
      "                                                   rho0 = 12.)\n",
      "\n",
      "eptm_before.graph.set_vertex_filter(eptm_before.is_cell_vert, True)\n",
      "figure(300)\n",
      "plt.plot(np.abs(previous_grad) - np.abs(eptm_before.grad_radial.fa), 'o')\n",
      "eptm_before.graph.set_vertex_filter(None)\n"
     ],
     "language": "python",
     "metadata": {},
     "outputs": [],
     "prompt_number": 52
    },
    {
     "cell_type": "code",
     "collapsed": false,
     "input": [
      "dthetas = np.linspace(0, np.pi, 60)\n",
      "z_angles = np.linspace(0, np.pi / 4., 60)\n",
      "i = 0\n",
      "for dtheta, z_angle in zip(dthetas, z_angles):\n",
      "    fname = 'movie_%02d.png' % i\n",
      "    lj.draw(eptm_before, z_angle=z_angle, \n",
      "            d_theta=dtheta, output3d=fname)\n",
      "    i += 1\n",
      "    print fname"
     ],
     "language": "python",
     "metadata": {},
     "outputs": [
      {
       "output_type": "stream",
       "stream": "stdout",
       "text": [
        "movie_00.png\n",
        "movie_01.png"
       ]
      },
      {
       "output_type": "stream",
       "stream": "stdout",
       "text": [
        "\n",
        "movie_02.png"
       ]
      },
      {
       "output_type": "stream",
       "stream": "stdout",
       "text": [
        "\n",
        "movie_03.png"
       ]
      },
      {
       "output_type": "stream",
       "stream": "stdout",
       "text": [
        "\n",
        "movie_04.png"
       ]
      },
      {
       "output_type": "stream",
       "stream": "stdout",
       "text": [
        "\n",
        "movie_05.png"
       ]
      },
      {
       "output_type": "stream",
       "stream": "stdout",
       "text": [
        "\n",
        "movie_06.png"
       ]
      },
      {
       "output_type": "stream",
       "stream": "stdout",
       "text": [
        "\n",
        "movie_07.png"
       ]
      },
      {
       "output_type": "stream",
       "stream": "stdout",
       "text": [
        "\n",
        "movie_08.png"
       ]
      },
      {
       "output_type": "stream",
       "stream": "stdout",
       "text": [
        "\n",
        "movie_09.png"
       ]
      },
      {
       "output_type": "stream",
       "stream": "stdout",
       "text": [
        "\n",
        "movie_10.png"
       ]
      },
      {
       "output_type": "stream",
       "stream": "stdout",
       "text": [
        "\n",
        "movie_11.png"
       ]
      },
      {
       "output_type": "stream",
       "stream": "stdout",
       "text": [
        "\n",
        "movie_12.png"
       ]
      },
      {
       "output_type": "stream",
       "stream": "stdout",
       "text": [
        "\n",
        "movie_13.png"
       ]
      },
      {
       "output_type": "stream",
       "stream": "stdout",
       "text": [
        "\n",
        "movie_14.png"
       ]
      },
      {
       "output_type": "stream",
       "stream": "stdout",
       "text": [
        "\n",
        "movie_15.png"
       ]
      },
      {
       "output_type": "stream",
       "stream": "stdout",
       "text": [
        "\n",
        "movie_16.png"
       ]
      },
      {
       "output_type": "stream",
       "stream": "stdout",
       "text": [
        "\n",
        "movie_17.png"
       ]
      },
      {
       "output_type": "stream",
       "stream": "stdout",
       "text": [
        "\n",
        "movie_18.png"
       ]
      },
      {
       "output_type": "stream",
       "stream": "stdout",
       "text": [
        "\n",
        "movie_19.png"
       ]
      },
      {
       "output_type": "stream",
       "stream": "stdout",
       "text": [
        "\n",
        "movie_20.png"
       ]
      },
      {
       "output_type": "stream",
       "stream": "stdout",
       "text": [
        "\n",
        "movie_21.png"
       ]
      },
      {
       "output_type": "stream",
       "stream": "stdout",
       "text": [
        "\n",
        "movie_22.png"
       ]
      },
      {
       "output_type": "stream",
       "stream": "stdout",
       "text": [
        "\n",
        "movie_23.png"
       ]
      },
      {
       "output_type": "stream",
       "stream": "stdout",
       "text": [
        "\n",
        "movie_24.png"
       ]
      },
      {
       "output_type": "stream",
       "stream": "stdout",
       "text": [
        "\n",
        "movie_25.png"
       ]
      },
      {
       "output_type": "stream",
       "stream": "stdout",
       "text": [
        "\n",
        "movie_26.png"
       ]
      },
      {
       "output_type": "stream",
       "stream": "stdout",
       "text": [
        "\n",
        "movie_27.png"
       ]
      },
      {
       "output_type": "stream",
       "stream": "stdout",
       "text": [
        "\n",
        "movie_28.png"
       ]
      },
      {
       "output_type": "stream",
       "stream": "stdout",
       "text": [
        "\n",
        "movie_29.png"
       ]
      },
      {
       "output_type": "stream",
       "stream": "stdout",
       "text": [
        "\n",
        "movie_30.png"
       ]
      },
      {
       "output_type": "stream",
       "stream": "stdout",
       "text": [
        "\n",
        "movie_31.png"
       ]
      },
      {
       "output_type": "stream",
       "stream": "stdout",
       "text": [
        "\n",
        "movie_32.png"
       ]
      },
      {
       "output_type": "stream",
       "stream": "stdout",
       "text": [
        "\n",
        "movie_33.png"
       ]
      },
      {
       "output_type": "stream",
       "stream": "stdout",
       "text": [
        "\n",
        "movie_34.png"
       ]
      },
      {
       "output_type": "stream",
       "stream": "stdout",
       "text": [
        "\n",
        "movie_35.png"
       ]
      },
      {
       "output_type": "stream",
       "stream": "stdout",
       "text": [
        "\n",
        "movie_36.png"
       ]
      },
      {
       "output_type": "stream",
       "stream": "stdout",
       "text": [
        "\n",
        "movie_37.png"
       ]
      },
      {
       "output_type": "stream",
       "stream": "stdout",
       "text": [
        "\n",
        "movie_38.png"
       ]
      },
      {
       "output_type": "stream",
       "stream": "stdout",
       "text": [
        "\n",
        "movie_39.png"
       ]
      },
      {
       "output_type": "stream",
       "stream": "stdout",
       "text": [
        "\n",
        "movie_40.png"
       ]
      },
      {
       "output_type": "stream",
       "stream": "stdout",
       "text": [
        "\n",
        "movie_41.png"
       ]
      },
      {
       "output_type": "stream",
       "stream": "stdout",
       "text": [
        "\n",
        "movie_42.png"
       ]
      },
      {
       "output_type": "stream",
       "stream": "stdout",
       "text": [
        "\n",
        "movie_43.png"
       ]
      },
      {
       "output_type": "stream",
       "stream": "stdout",
       "text": [
        "\n",
        "movie_44.png"
       ]
      },
      {
       "output_type": "stream",
       "stream": "stdout",
       "text": [
        "\n",
        "movie_45.png"
       ]
      },
      {
       "output_type": "stream",
       "stream": "stdout",
       "text": [
        "\n",
        "movie_46.png"
       ]
      },
      {
       "output_type": "stream",
       "stream": "stdout",
       "text": [
        "\n",
        "movie_47.png"
       ]
      },
      {
       "output_type": "stream",
       "stream": "stdout",
       "text": [
        "\n",
        "movie_48.png"
       ]
      },
      {
       "output_type": "stream",
       "stream": "stdout",
       "text": [
        "\n",
        "movie_49.png"
       ]
      },
      {
       "output_type": "stream",
       "stream": "stdout",
       "text": [
        "\n",
        "movie_50.png"
       ]
      },
      {
       "output_type": "stream",
       "stream": "stdout",
       "text": [
        "\n",
        "movie_51.png"
       ]
      },
      {
       "output_type": "stream",
       "stream": "stdout",
       "text": [
        "\n",
        "movie_52.png"
       ]
      },
      {
       "output_type": "stream",
       "stream": "stdout",
       "text": [
        "\n",
        "movie_53.png"
       ]
      },
      {
       "output_type": "stream",
       "stream": "stdout",
       "text": [
        "\n",
        "movie_54.png"
       ]
      },
      {
       "output_type": "stream",
       "stream": "stdout",
       "text": [
        "\n",
        "movie_55.png"
       ]
      },
      {
       "output_type": "stream",
       "stream": "stdout",
       "text": [
        "\n",
        "movie_56.png"
       ]
      },
      {
       "output_type": "stream",
       "stream": "stdout",
       "text": [
        "\n",
        "movie_57.png"
       ]
      },
      {
       "output_type": "stream",
       "stream": "stdout",
       "text": [
        "\n",
        "movie_58.png"
       ]
      },
      {
       "output_type": "stream",
       "stream": "stdout",
       "text": [
        "\n",
        "movie_59.png"
       ]
      },
      {
       "output_type": "stream",
       "stream": "stdout",
       "text": [
        "\n"
       ]
      }
     ],
     "prompt_number": 17
    },
    {
     "cell_type": "code",
     "collapsed": false,
     "input": [
      "lj.plot_cells_sz(eptm_before, text=False)"
     ],
     "language": "python",
     "metadata": {},
     "outputs": [
      {
       "output_type": "pyout",
       "prompt_number": 348,
       "text": [
        "<matplotlib.axes.AxesSubplot at 0x116d468c>"
       ]
      }
     ],
     "prompt_number": 348
    },
    {
     "cell_type": "code",
     "collapsed": false,
     "input": [
      "eptm.graph.set_vertex_filter(None)\n",
      "eptm.graph.set_edge_filter(None)\n"
     ],
     "language": "python",
     "metadata": {},
     "outputs": [],
     "prompt_number": 3
    },
    {
     "cell_type": "code",
     "collapsed": false,
     "input": [
      "def do_update():\n",
      "    eptm.update_apical_geom()\n",
      "    eptm.update_gradient()\n",
      "import cProfile\n",
      "cProfile.run('do_update()')\n"
     ],
     "language": "python",
     "metadata": {},
     "outputs": [
      {
       "output_type": "stream",
       "stream": "stdout",
       "text": [
        "         65272 function calls in 0.419 seconds\n",
        "\n",
        "   Ordered by: standard name\n",
        "\n",
        "   ncalls  tottime  percall  cumtime  percall filename:lineno(function)\n",
        "        1    0.000    0.000    0.419    0.419 <ipython-input-4-0ad3da4257f0>:1(do_update)\n",
        "        1    0.000    0.000    0.419    0.419 <string>:1(<module>)\n",
        "        1    0.000    0.000    0.000    0.000 __init__.py:1016(vertices)\n",
        "      924    0.009    0.000    0.103    0.000 __init__.py:1038(vertex)\n",
        "      462    0.023    0.000    0.127    0.000 __init__.py:1051(edge)\n",
        "        2    0.000    0.000    0.000    0.000 __init__.py:1071(edges)\n",
        "     4475    0.056    0.000    0.063    0.000 __init__.py:1203(__get_specific_properties)\n",
        "     2599    0.009    0.000    0.057    0.000 __init__.py:1209(__get_vertex_properties)\n",
        "     2599    0.002    0.000    0.002    0.000 __init__.py:1211(<lambda>)\n",
        "     1876    0.006    0.000    0.037    0.000 __init__.py:1218(__get_edge_properties)\n",
        "     1876    0.002    0.000    0.002    0.000 __init__.py:1220(<lambda>)\n",
        "     2738    0.007    0.000    0.007    0.000 __init__.py:127(_prop)\n",
        "        1    0.000    0.000    0.000    0.000 __init__.py:1351(new_vertex_property)\n",
        "        4    0.000    0.000    0.000    0.000 __init__.py:1358(new_edge_property)\n",
        "     1144    0.001    0.000    0.001    0.000 __init__.py:1483(is_directed)\n",
        "     1144    0.001    0.000    0.001    0.000 __init__.py:1495(is_reversed)\n",
        "     2290    0.086    0.000    0.092    0.000 __init__.py:1503(set_vertex_filter)\n",
        "       19    0.000    0.000    0.000    0.000 __init__.py:1514(get_vertex_filter)\n",
        "      440    0.017    0.000    0.018    0.000 __init__.py:1519(set_edge_filter)\n",
        "       20    0.000    0.000    0.000    0.000 __init__.py:1528(get_edge_filter)\n",
        "     1144    0.005    0.000    0.074    0.000 __init__.py:1551(stash_filter)\n",
        "     1144    0.004    0.000    0.058    0.000 __init__.py:1569(pop_filter)\n",
        "     1144    0.004    0.000    0.012    0.000 __init__.py:1588(get_filter_state)\n",
        "      132    0.001    0.000    0.001    0.000 __init__.py:1607(num_vertices)\n",
        "        5    0.000    0.000    0.000    0.000 __init__.py:164(_type_alias)\n",
        "        5    0.000    0.000    0.000    0.000 __init__.py:1675(value_types)\n",
        "      406    0.020    0.000    0.020    0.000 __init__.py:1692(_out_neighbours)\n",
        "      353    0.000    0.000    0.000    0.000 __init__.py:251(_get_pmap)\n",
        "      173    0.000    0.000    0.000    0.000 __init__.py:254(_set_pmap)\n",
        "       56    0.001    0.000    0.012    0.000 __init__.py:260(__new__)\n",
        "      286    0.000    0.000    0.000    0.000 __init__.py:273(_get_base)\n",
        "      286    0.001    0.000    0.002    0.000 __init__.py:279(_get_base_data)\n",
        "      231    0.001    0.000    0.022    0.000 __init__.py:282(_check_data)\n",
        "      117    0.001    0.000    0.015    0.000 __init__.py:295(__array_finalize__)\n",
        "       38    0.000    0.000    0.011    0.000 __init__.py:308(__array_prepare__)\n",
        "       38    0.000    0.000    0.000    0.000 __init__.py:312(__array_wrap__)\n",
        "       15    0.000    0.000    0.006    0.000 __init__.py:322(checked_method)\n",
        "        5    0.000    0.000    0.000    0.000 __init__.py:373(__init__)\n",
        "       10    0.000    0.000    0.000    0.000 __init__.py:376(<lambda>)\n",
        "     5964    0.003    0.000    0.003    0.000 __init__.py:385(<lambda>)\n",
        "        5    0.000    0.000    0.000    0.000 __init__.py:388(__register_map)\n",
        "        5    0.000    0.000    0.000    0.000 __init__.py:394(__unregister_map)\n",
        "        5    0.000    0.000    0.000    0.000 __init__.py:401(__del__)\n",
        "     4375    0.052    0.000    0.054    0.000 __init__.py:404(__getitem__)\n",
        "     1589    0.015    0.000    0.016    0.000 __init__.py:407(__setitem__)\n",
        "      257    0.000    0.000    0.000    0.000 __init__.py:435(get_graph)\n",
        "      109    0.000    0.000    0.000    0.000 __init__.py:442(key_type)\n",
        "        8    0.000    0.000    0.000    0.000 __init__.py:446(value_type)\n",
        "       56    0.000    0.000    0.023    0.000 __init__.py:454(get_array)\n",
        "      220    0.002    0.000    0.040    0.000 __init__.py:476(_get_data)\n",
        "        2    0.000    0.000    0.002    0.001 __init__.py:491(__set_array)\n",
        "       37    0.000    0.000    0.033    0.001 __init__.py:508(__get_set_f_array)\n",
        "       14    0.000    0.000    0.013    0.001 __init__.py:540(<lambda>)\n",
        "        4    0.001    0.000    0.001    0.000 __init__.py:802(edge_difference)\n",
        "     4475    0.015    0.000    0.015    0.000 __init__.py:852(__init__)\n",
        "     4475    0.010    0.000    0.013    0.000 __init__.py:860(__getitem__)\n",
        "     1144    0.002    0.000    0.002    0.000 copy.py:113(_copy_with_constructor)\n",
        "     1144    0.003    0.000    0.005    0.000 copy.py:66(copy)\n",
        "        1    0.000    0.000    0.243    0.243 dynamics.py:190(update_apical_geom)\n",
        "       35    0.010    0.000    0.180    0.005 dynamics.py:205(_one_cell_geom)\n",
        "      154    0.003    0.000    0.075    0.000 dynamics.py:254(outward_uvect)\n",
        "        1    0.000    0.000    0.176    0.176 energies.py:138(update_gradient)\n",
        "        1    0.006    0.006    0.153    0.153 energies.py:142(update_junctions_grad)\n",
        "        1    0.000    0.000    0.018    0.018 energies.py:178(update_cells_grad)\n",
        "      463    0.002    0.000    0.013    0.000 energies.py:33(grad_sigma)\n",
        "      463    0.002    0.000    0.013    0.000 energies.py:36(grad_zed)\n",
        "      155    0.001    0.000    0.004    0.000 energies.py:39(elastic_grad)\n",
        "      155    0.001    0.000    0.004    0.000 energies.py:42(contractile_grad)\n",
        "        1    0.000    0.000    0.000    0.000 energies.py:48(volume_grad)\n",
        "      245    0.001    0.000    0.006    0.000 filters.py:139(is_junction_edge)\n",
        "       15    0.000    0.000    0.000    0.000 filters.py:165(is_alive)\n",
        "       92    0.000    0.000    0.003    0.000 filters.py:177(is_cell_vert)\n",
        "        1    0.000    0.000    0.005    0.005 filters.py:211(set_vertex_state)\n",
        "        1    0.000    0.000    0.023    0.023 filters.py:50(new_function)\n",
        "       94    0.000    0.000    0.000    0.000 numeric.py:167(asarray)\n",
        "      730    0.003    0.000    0.021    0.000 objects.py:108(rhos)\n",
        "        1    0.000    0.000    0.000    0.000 objects.py:111(thetas)\n",
        "      204    0.001    0.000    0.006    0.000 objects.py:114(zeds)\n",
        "      239    0.001    0.000    0.007    0.000 objects.py:117(sigmas)\n",
        "        1    0.000    0.000    0.000    0.000 objects.py:145(dthetas)\n",
        "      311    0.001    0.000    0.008    0.000 objects.py:148(dzeds)\n",
        "        3    0.000    0.000    0.000    0.000 objects.py:151(drhos)\n",
        "      311    0.001    0.000    0.008    0.000 objects.py:154(dsigmas)\n",
        "        1    0.000    0.000    0.000    0.000 objects.py:157(u_drhos)\n",
        "      386    0.001    0.000    0.010    0.000 objects.py:160(u_dsigmas)\n",
        "      386    0.001    0.000    0.010    0.000 objects.py:163(u_dzeds)\n",
        "      155    0.001    0.000    0.004    0.000 objects.py:166(edge_lengths)\n",
        "        1    0.007    0.007    0.048    0.048 objects.py:246(update_deltas)\n",
        "        1    0.000    0.000    0.009    0.009 objects.py:273(update_edge_lengths)\n",
        "       36    0.001    0.000    0.003    0.000 objects.py:405(__iter__)\n",
        "        2    0.000    0.000    0.000    0.000 objects.py:432(vols)\n",
        "       37    0.000    0.000    0.001    0.000 objects.py:435(areas)\n",
        "       36    0.000    0.000    0.001    0.000 objects.py:438(perimeters)\n",
        "        1    0.000    0.000    0.000    0.000 objects.py:477(contractilities)\n",
        "        1    0.000    0.000    0.000    0.000 objects.py:480(elasticities)\n",
        "        1    0.000    0.000    0.000    0.000 objects.py:483(vol_elasticities)\n",
        "        2    0.000    0.000    0.000    0.000 objects.py:486(prefered_area)\n",
        "        1    0.000    0.000    0.000    0.000 objects.py:489(prefered_height)\n",
        "       78    0.002    0.000    0.013    0.000 objects.py:561(__iter__)\n",
        "       77    0.000    0.000    0.002    0.000 objects.py:583(line_tensions)\n",
        "       14    0.000    0.000    0.000    0.000 {getattr}\n",
        "        5    0.000    0.000    0.000    0.000 {isinstance}\n",
        "       36    0.000    0.000    0.000    0.000 {len}\n",
        "     1149    0.001    0.000    0.001    0.000 {method 'append' of 'list' objects}\n",
        "        1    0.000    0.000    0.000    0.000 {method 'clip' of 'numpy.ndarray' objects}\n",
        "        1    0.000    0.000    0.000    0.000 {method 'disable' of '_lsprof.Profiler' objects}\n",
        "     1144    0.001    0.000    0.001    0.000 {method 'get' of 'dict' objects}\n",
        "        5    0.000    0.000    0.000    0.000 {method 'index' of 'list' objects}\n",
        "     4475    0.007    0.000    0.007    0.000 {method 'items' of 'dict' objects}\n",
        "        1    0.000    0.000    0.000    0.000 {method 'max' of 'numpy.ndarray' objects}\n",
        "      105    0.001    0.000    0.001    0.000 {method 'mean' of 'numpy.ndarray' objects}\n",
        "     1144    0.001    0.000    0.001    0.000 {method 'pop' of 'list' objects}\n",
        "       56    0.000    0.000    0.001    0.000 {method 'view' of 'numpy.ndarray' objects}\n",
        "      164    0.002    0.000    0.002    0.000 {numpy.core.multiarray.array}\n",
        "\n",
        "\n"
       ]
      }
     ],
     "prompt_number": 4
    },
    {
     "cell_type": "code",
     "collapsed": false,
     "input": [],
     "language": "python",
     "metadata": {},
     "outputs": []
    }
   ],
   "metadata": {}
  }
 ]
}