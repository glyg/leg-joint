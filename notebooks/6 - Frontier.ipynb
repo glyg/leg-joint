{
 "metadata": {
  "name": "6 - Frontier"
 },
 "nbformat": 3,
 "nbformat_minor": 0,
 "worksheets": [
  {
   "cells": [
    {
     "cell_type": "code",
     "collapsed": false,
     "input": [
      "%run nb_init.py\n",
      "eptm = lj.Epithelium(graphXMLfile=\"../saved_graphs/xml/many_cells.xml\",\n",
      "                  paramfile='../default/few_big_cells.xml')"
     ],
     "language": "python",
     "metadata": {},
     "outputs": [
      {
       "output_type": "stream",
       "stream": "stdout",
       "text": [
        "/home/guillaume/Python\n",
        "Initial cells"
       ]
      },
      {
       "output_type": "stream",
       "stream": "stdout",
       "text": [
        "\n",
        "Initial junctions\n",
        "Scaling all the distances by a factor 1.786\n"
       ]
      }
     ],
     "prompt_number": 1
    },
    {
     "cell_type": "code",
     "collapsed": false,
     "input": [
      "lj.draw.plot_cells_sz(eptm, text=True)"
     ],
     "language": "python",
     "metadata": {},
     "outputs": [
      {
       "output_type": "pyout",
       "prompt_number": 39,
       "text": [
        "<matplotlib.axes.AxesSubplot at 0x2dd5becc>"
       ]
      }
     ],
     "prompt_number": 39
    },
    {
     "cell_type": "code",
     "collapsed": false,
     "input": [
      "cell0 = eptm.graph.vertex(42)\n",
      "eptm.set_local_mask(cell0)\n",
      "lj.draw.plot_cells_sz(eptm, vfilt=eptm.is_local_vert,\n",
      "                      efilt=eptm.is_local_edge, j_text=True)\n",
      "eptm.set_local_mask(None)\n"
     ],
     "language": "python",
     "metadata": {},
     "outputs": [],
     "prompt_number": 40
    },
    {
     "cell_type": "code",
     "collapsed": false,
     "input": [
      "on_frontier_vert = eptm.graph.new_vertex_property(\"bool\")\n",
      "on_frontier = eptm.graph.new_edge_property(\"bool\")\n",
      "on_frontier.a[:] = 0\n",
      "edge0 = eptm.any_edge(695, 699)\n",
      "\n",
      "print edge0\n",
      "eptm.graph.set_edge_filter(eptm.is_junction_edge)\n",
      "\n",
      "front_verts = [edge0.source(), edge0.target()]\n",
      "ref_jv = edge0.source()\n",
      "front_edges = [edge0]\n",
      "cum_theta = eptm.dthetas[edge0]\n",
      "\n",
      "while cum_theta < 2 * np.pi:\n",
      "    \n",
      "    v0 = front_verts[-2]\n",
      "    v1 = front_verts[-1]\n",
      "    neighbs = [jv for jv in v1.all_neighbours() if jv != v0]\n",
      "    sigmas = np.array([eptm.sigmas[jv] for jv in neighbs])\n",
      "    zeds = np.array([eptm.zeds[jv] for jv in neighbs])\n",
      "    tangent = np.abs((sigmas - eptm.sigmas[v0])\n",
      "                     / (zeds - eptm.zeds[v0]))\n",
      "    new_v = neighbs[argmax(tangent)]\n",
      "    front_verts.append(new_v)\n",
      "    new_e = eptm.any_edge(v1, new_v)\n",
      "    front_edges.append(new_e)\n",
      "    cum_theta += np.abs(eptm.dthetas[new_e]) \n",
      "    on_frontier[new_e] = 1\n",
      "    \n",
      "last_edge = eptm.any_edge(front_verts[0], front_verts[-1])\n",
      "if last_edge is not None:\n",
      "    front_edges.append(last_edge)\n",
      "    on_frontier[last_edge] = 1\n",
      "    \n",
      "eptm.graph.set_edge_filter(None)"
     ],
     "language": "python",
     "metadata": {},
     "outputs": [
      {
       "output_type": "stream",
       "stream": "stdout",
       "text": [
        "(695, 699)\n"
       ]
      }
     ],
     "prompt_number": 41
    },
    {
     "cell_type": "code",
     "collapsed": true,
     "input": [
      "for edge in eptm.graph.edges():\n",
      "    if on_frontier[edge]:\n",
      "        for cell in eptm.adjacent_cells(edge):\n",
      "            on_frontier_vert[cell] = 1\n",
      "        on_frontier_vert[edge.source()] = 1\n",
      "        on_frontier_vert[edge.target()] = 1"
     ],
     "language": "python",
     "metadata": {},
     "outputs": [],
     "prompt_number": 42
    },
    {
     "cell_type": "code",
     "collapsed": true,
     "input": [
      "ax = lj.draw.plot_cells_sz(eptm, ax=None, vfilt=on_frontier_vert, \n",
      "                           efilt=on_frontier, text=False)"
     ],
     "language": "python",
     "metadata": {},
     "outputs": [],
     "prompt_number": 43
    },
    {
     "cell_type": "code",
     "collapsed": true,
     "input": [
      "eptm.graph.set_edge_filter(on_frontier)\n",
      "eptm.junctions.line_tensions.fa *= 4.\n",
      "eptm.graph.set_edge_filter(None)"
     ],
     "language": "python",
     "metadata": {},
     "outputs": [],
     "prompt_number": 44
    },
    {
     "cell_type": "code",
     "collapsed": true,
     "input": [
      "eptm.graph.set_vertex_filter(None)\n",
      "for v in eptm.graph.vertices():\n",
      "    eptm.set_local_mask(None)\n",
      "    if not (on_frontier_vert[v]\n",
      "            and eptm.is_cell_vert[v]): continue\n",
      "    eptm.set_local_mask(v)\n",
      "    eptm.find_energy_min(tol=1e-4)"
     ],
     "language": "python",
     "metadata": {},
     "outputs": [
      {
       "output_type": "stream",
       "stream": "stdout",
       "text": [
        "rotated\n",
        "rotated"
       ]
      },
      {
       "output_type": "stream",
       "stream": "stdout",
       "text": [
        "\n"
       ]
      }
     ],
     "prompt_number": 45
    },
    {
     "cell_type": "code",
     "collapsed": false,
     "input": [
      "ax = lj.draw.plot_cells_sz(eptm, ax=None,\n",
      "                           vfilt=on_frontier_vert,\n",
      "                           efilt=on_frontier)\n",
      "eptm.update_gradient()\n",
      "lj.draw.plot_gradients(eptm, ax)"
     ],
     "language": "python",
     "metadata": {},
     "outputs": [
      {
       "output_type": "pyout",
       "prompt_number": 30,
       "text": [
        "<matplotlib.axes.AxesSubplot at 0xbc7fb6c>"
       ]
      }
     ],
     "prompt_number": 30
    },
    {
     "cell_type": "code",
     "collapsed": false,
     "input": [
      "lj.draw.plot_cells_sz(eptm, ax=None, text=False)"
     ],
     "language": "python",
     "metadata": {},
     "outputs": [
      {
       "output_type": "pyout",
       "prompt_number": 19,
       "text": [
        "<matplotlib.axes.AxesSubplot at 0x1576e0ec>"
       ]
      }
     ],
     "prompt_number": 19
    },
    {
     "cell_type": "code",
     "collapsed": false,
     "input": [
      "apopt_list = [392, 39, 54, 221, 335, 52, 8, 38, 344, 22]\n",
      "apopototic_cells = [eptm.graph.vertex(idx) for idx in apopt_list]\n",
      "for apoptotic_cell in apopototic_cells:\n",
      "    eptm.set_local_mask(None)\n",
      "    eptm.set_local_mask(apoptotic_cell)\n",
      "    eptm.cells.prefered_area[apoptotic_cell] = 0.05\n",
      "    eptm.cells.contractilities[apoptotic_cell] *= 2.\n",
      "    eptm.find_energy_min()\n",
      "    "
     ],
     "language": "python",
     "metadata": {},
     "outputs": [
      {
       "output_type": "stream",
       "stream": "stdout",
       "text": [
        "rotated\n",
        "rotated"
       ]
      },
      {
       "output_type": "stream",
       "stream": "stdout",
       "text": [
        "\n"
       ]
      }
     ],
     "prompt_number": 43
    },
    {
     "cell_type": "code",
     "collapsed": false,
     "input": [
      "eptm.graph.save('../saved_graphs/xml/joint_formation2.xml')"
     ],
     "language": "python",
     "metadata": {},
     "outputs": [],
     "prompt_number": 47
    },
    {
     "cell_type": "code",
     "collapsed": false,
     "input": [
      "%run ../src/graph_representation.py"
     ],
     "language": "python",
     "metadata": {},
     "outputs": [],
     "prompt_number": 37
    },
    {
     "cell_type": "code",
     "collapsed": false,
     "input": [
      "plot_cells_sz(eptm, ax=None, text=False)"
     ],
     "language": "python",
     "metadata": {},
     "outputs": [
      {
       "output_type": "pyout",
       "prompt_number": 46,
       "text": [
        "<matplotlib.axes.AxesSubplot at 0x33284a4c>"
       ]
      }
     ],
     "prompt_number": 46
    },
    {
     "cell_type": "code",
     "collapsed": false,
     "input": [
      "epithelium_draw(eptm)\n"
     ],
     "language": "python",
     "metadata": {},
     "outputs": [],
     "prompt_number": 48
    },
    {
     "cell_type": "code",
     "collapsed": false,
     "input": [
      "central_cells = []\n",
      "for cell in eptm.cells:\n",
      "    if 10. < eptm.zeds[cell] < 12.:\n",
      "        central_cells.append(cell)\n",
      "print len(central_cells)"
     ],
     "language": "python",
     "metadata": {},
     "outputs": [
      {
       "output_type": "stream",
       "stream": "stdout",
       "text": [
        "19\n"
       ]
      }
     ],
     "prompt_number": 54
    },
    {
     "cell_type": "code",
     "collapsed": false,
     "input": [
      "figure(2)\n",
      "for cell in central_cells:\n",
      "    plot(eptm.zeds[cell], eptm.sigmas[cell], 'ko')"
     ],
     "language": "python",
     "metadata": {},
     "outputs": [],
     "prompt_number": 55
    },
    {
     "cell_type": "code",
     "collapsed": false,
     "input": [],
     "language": "python",
     "metadata": {},
     "outputs": []
    }
   ],
   "metadata": {}
  }
 ]
}