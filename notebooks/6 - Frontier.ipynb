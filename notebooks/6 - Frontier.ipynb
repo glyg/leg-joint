{
 "metadata": {
  "name": "6 - Frontier"
 },
 "nbformat": 3,
 "nbformat_minor": 0,
 "worksheets": [
  {
   "cells": [
    {
     "cell_type": "code",
     "collapsed": false,
     "input": [
      "%load_ext autoreload\n",
      "%autoreload 2\n"
     ],
     "language": "python",
     "metadata": {},
     "outputs": [
      {
       "output_type": "stream",
       "stream": "stdout",
       "text": [
        "The autoreload extension is already loaded. To reload it, use:\n",
        "  %reload_ext autoreload\n"
       ]
      }
     ],
     "prompt_number": 4
    },
    {
     "cell_type": "code",
     "collapsed": false,
     "input": [
      "%run nb_init.py\n"
     ],
     "language": "python",
     "metadata": {},
     "outputs": [],
     "prompt_number": 5
    },
    {
     "cell_type": "code",
     "collapsed": false,
     "input": [
      "eptm = lj.Epithelium(graphXMLfile=\"../saved_graphs/xml/before_apoptosis.xml\",\n",
      "                     paramfile='../default/params.xml')"
     ],
     "language": "python",
     "metadata": {},
     "outputs": [],
     "prompt_number": 6
    },
    {
     "cell_type": "code",
     "collapsed": false,
     "input": [
      "lj.isotropic_optimum(eptm, 1e-6)\n"
     ],
     "language": "python",
     "metadata": {},
     "outputs": [],
     "prompt_number": 4
    },
    {
     "cell_type": "code",
     "collapsed": false,
     "input": [
      "eptm.graph.save(\"../saved_graphs/xml/squeezed2.5.xml\")"
     ],
     "language": "python",
     "metadata": {},
     "outputs": [],
     "prompt_number": 6
    },
    {
     "cell_type": "code",
     "collapsed": false,
     "input": [
      "eptm = lj.Epithelium(graphXMLfile=\"../saved_graphs/xml/squeezed2.5.xml\",\n",
      "                     paramfile='../default/params.xml')"
     ],
     "language": "python",
     "metadata": {},
     "outputs": [],
     "prompt_number": 3
    },
    {
     "cell_type": "code",
     "collapsed": false,
     "input": [
      "lj.local_slice(eptm, theta_amp=np.pi/4)"
     ],
     "language": "python",
     "metadata": {},
     "outputs": [],
     "prompt_number": 4
    },
    {
     "cell_type": "code",
     "collapsed": false,
     "input": [
      "eptm.graph.set_vertex_filter(eptm.is_local_vert)\n",
      "eptm.graph.set_edge_filter(eptm.is_local_edge)"
     ],
     "language": "python",
     "metadata": {},
     "outputs": [],
     "prompt_number": 5
    },
    {
     "cell_type": "code",
     "collapsed": false,
     "input": [
      "lj.draw(eptm)"
     ],
     "language": "python",
     "metadata": {},
     "outputs": [],
     "prompt_number": 6
    },
    {
     "cell_type": "code",
     "collapsed": false,
     "input": [
      "phi = eptm.dsigmas.copy()\n",
      "\n",
      "eptm.update_tensions(phi, np.pi/6, 1.5)"
     ],
     "language": "python",
     "metadata": {},
     "outputs": [],
     "prompt_number": 8
    },
    {
     "cell_type": "code",
     "collapsed": false,
     "input": [
      "def shrink(eptm, factor):\n",
      "    eptm.zeds.a /= factor\n",
      "    eptm.update_geometry()\n",
      "\n",
      "    "
     ],
     "language": "python",
     "metadata": {},
     "outputs": [],
     "prompt_number": 7
    },
    {
     "cell_type": "code",
     "collapsed": false,
     "input": [
      "anisotropies, alignment = eptm.cells.get_anisotropies()\n",
      "eptm.graph.set_vertex_filter(eptm.is_cell_vert)\n",
      "fig, ax = plt.subplots()\n",
      "ax.plot(eptm.zeds.fa, anisotropies.fa, 'ro', alpha=0.5)\n",
      "eptm.graph.set_vertex_filter(None)"
     ],
     "language": "python",
     "metadata": {},
     "outputs": [],
     "prompt_number": 6
    },
    {
     "cell_type": "code",
     "collapsed": false,
     "input": [
      "lj.draw(eptm)\n"
     ],
     "language": "python",
     "metadata": {},
     "outputs": [],
     "prompt_number": 21
    },
    {
     "cell_type": "code",
     "collapsed": false,
     "input": [
      "cells = [cell for cell in eptm.cells if eptm.is_alive[cell]]\n",
      "np.random.shuffle(cells)"
     ],
     "language": "python",
     "metadata": {},
     "outputs": [],
     "prompt_number": 19
    },
    {
     "cell_type": "code",
     "collapsed": false,
     "input": [
      "np.arctan2?"
     ],
     "language": "python",
     "metadata": {},
     "outputs": [],
     "prompt_number": 17
    },
    {
     "cell_type": "code",
     "collapsed": false,
     "input": [
      "eptm.update_tensions(phi, np.pi / 6, 2.5)"
     ],
     "language": "python",
     "metadata": {},
     "outputs": [],
     "prompt_number": 18
    },
    {
     "cell_type": "code",
     "collapsed": false,
     "input": [
      "for cell in cells:\n",
      "    eptm.set_local_mask(None)\n",
      "    eptm.set_local_mask(cell)\n",
      "    \n",
      "    lj.find_energy_min(eptm)\n",
      "    eptm.update_tensions(phi, np.pi / 6, 2.5)"
     ],
     "language": "python",
     "metadata": {},
     "outputs": [],
     "prompt_number": 20
    },
    {
     "cell_type": "code",
     "collapsed": false,
     "input": [
      "small_cells = [cell for cell in eptm.cells if eptm.cells.areas[cell] < 1.]\n",
      "print len(small_cells)"
     ],
     "language": "python",
     "metadata": {},
     "outputs": [
      {
       "output_type": "stream",
       "stream": "stdout",
       "text": [
        "8\n"
       ]
      }
     ],
     "prompt_number": 11
    },
    {
     "cell_type": "code",
     "collapsed": false,
     "input": [
      "for cell in small_cells:\n",
      "    lj.remove_cell(eptm, cell)"
     ],
     "language": "python",
     "metadata": {},
     "outputs": [
      {
       "output_type": "stream",
       "stream": "stdout",
       "text": [
        "new vertex 7217\n",
        "new vertex 7218"
       ]
      },
      {
       "output_type": "stream",
       "stream": "stdout",
       "text": [
        "\n",
        "new vertex 7219"
       ]
      },
      {
       "output_type": "stream",
       "stream": "stdout",
       "text": [
        "\n",
        "new vertex 7220"
       ]
      },
      {
       "output_type": "stream",
       "stream": "stdout",
       "text": [
        "\n",
        "new vertex 7221"
       ]
      },
      {
       "output_type": "stream",
       "stream": "stdout",
       "text": [
        "\n",
        "new vertex 7222"
       ]
      },
      {
       "output_type": "stream",
       "stream": "stdout",
       "text": [
        "\n",
        "new vertex 7223"
       ]
      },
      {
       "output_type": "stream",
       "stream": "stdout",
       "text": [
        "\n",
        "new vertex 7224"
       ]
      },
      {
       "output_type": "stream",
       "stream": "stdout",
       "text": [
        "\n",
        "new vertex 7225"
       ]
      },
      {
       "output_type": "stream",
       "stream": "stdout",
       "text": [
        "\n",
        "new vertex 7226"
       ]
      },
      {
       "output_type": "stream",
       "stream": "stdout",
       "text": [
        "\n",
        "new vertex 7227"
       ]
      },
      {
       "output_type": "stream",
       "stream": "stdout",
       "text": [
        "\n",
        "new vertex 7228"
       ]
      },
      {
       "output_type": "stream",
       "stream": "stdout",
       "text": [
        "\n",
        "new vertex 7229"
       ]
      },
      {
       "output_type": "stream",
       "stream": "stdout",
       "text": [
        "\n",
        "new vertex 7230"
       ]
      },
      {
       "output_type": "stream",
       "stream": "stdout",
       "text": [
        "\n",
        "new vertex 7231"
       ]
      },
      {
       "output_type": "stream",
       "stream": "stdout",
       "text": [
        "\n",
        "new vertex 7232"
       ]
      },
      {
       "output_type": "stream",
       "stream": "stdout",
       "text": [
        "\n",
        "new vertex 7233"
       ]
      },
      {
       "output_type": "stream",
       "stream": "stdout",
       "text": [
        "\n",
        "new vertex 7234"
       ]
      },
      {
       "output_type": "stream",
       "stream": "stdout",
       "text": [
        "\n",
        "new vertex 7235"
       ]
      },
      {
       "output_type": "stream",
       "stream": "stdout",
       "text": [
        "\n",
        "new vertex 7236"
       ]
      },
      {
       "output_type": "stream",
       "stream": "stdout",
       "text": [
        "\n",
        "new vertex 7237"
       ]
      },
      {
       "output_type": "stream",
       "stream": "stdout",
       "text": [
        "\n",
        "new vertex 7238"
       ]
      },
      {
       "output_type": "stream",
       "stream": "stdout",
       "text": [
        "\n",
        "new vertex 7239"
       ]
      },
      {
       "output_type": "stream",
       "stream": "stdout",
       "text": [
        "\n",
        "new vertex 7240"
       ]
      },
      {
       "output_type": "stream",
       "stream": "stdout",
       "text": [
        "\n",
        "new vertex 7241"
       ]
      },
      {
       "output_type": "stream",
       "stream": "stdout",
       "text": [
        "\n",
        "new vertex 7242"
       ]
      },
      {
       "output_type": "stream",
       "stream": "stdout",
       "text": [
        "\n",
        "new vertex 7243"
       ]
      },
      {
       "output_type": "stream",
       "stream": "stdout",
       "text": [
        "\n",
        "new vertex 7244"
       ]
      },
      {
       "output_type": "stream",
       "stream": "stdout",
       "text": [
        "\n",
        "new vertex 7245"
       ]
      },
      {
       "output_type": "stream",
       "stream": "stdout",
       "text": [
        "\n",
        "new vertex 7246"
       ]
      },
      {
       "output_type": "stream",
       "stream": "stdout",
       "text": [
        "\n",
        "new vertex 7247"
       ]
      },
      {
       "output_type": "stream",
       "stream": "stdout",
       "text": [
        "\n",
        "new vertex 7248"
       ]
      },
      {
       "output_type": "stream",
       "stream": "stdout",
       "text": [
        "\n",
        "new vertex 7249"
       ]
      },
      {
       "output_type": "stream",
       "stream": "stdout",
       "text": [
        "\n",
        "new vertex 7250"
       ]
      },
      {
       "output_type": "stream",
       "stream": "stdout",
       "text": [
        "\n",
        "new vertex 7251"
       ]
      },
      {
       "output_type": "stream",
       "stream": "stdout",
       "text": [
        "\n",
        "new vertex 7252"
       ]
      },
      {
       "output_type": "stream",
       "stream": "stdout",
       "text": [
        "\n",
        "new vertex 7253"
       ]
      },
      {
       "output_type": "stream",
       "stream": "stdout",
       "text": [
        "\n",
        "new vertex 7254"
       ]
      },
      {
       "output_type": "stream",
       "stream": "stdout",
       "text": [
        "\n",
        "new vertex 7255"
       ]
      },
      {
       "output_type": "stream",
       "stream": "stdout",
       "text": [
        "\n",
        "new vertex 7256"
       ]
      },
      {
       "output_type": "stream",
       "stream": "stdout",
       "text": [
        "\n"
       ]
      },
      {
       "output_type": "stream",
       "stream": "stderr",
       "text": [
        "/home/guillaume/Python/leg_joint/leg_joint/objects.py:338: RuntimeWarning: invalid value encountered in divide\n",
        "  self.u_dixs.a = self.dixs.a / edge_lengths\n",
        "/home/guillaume/Python/leg_joint/leg_joint/objects.py:339: RuntimeWarning: invalid value encountered in divide\n",
        "  self.u_dwys.a = self.dwys.a / edge_lengths\n",
        "/home/guillaume/Python/leg_joint/leg_joint/objects.py:340: RuntimeWarning: invalid value encountered in divide\n",
        "  self.u_dzeds.a = self.dzeds.a / edge_lengths\n"
       ]
      }
     ],
     "prompt_number": 10
    },
    {
     "cell_type": "code",
     "collapsed": false,
     "input": [
      "lj.draw(eptm)"
     ],
     "language": "python",
     "metadata": {},
     "outputs": [],
     "prompt_number": 12
    },
    {
     "cell_type": "code",
     "collapsed": false,
     "input": [
      "eptm.graph.save('../saved_graphs/xml/squeezed2.5.xml')\n"
     ],
     "language": "python",
     "metadata": {},
     "outputs": [],
     "prompt_number": 26
    },
    {
     "cell_type": "code",
     "collapsed": false,
     "input": [
      "\n",
      "b_edges = np.array([e for e in gt.find_edge(eptm.graph, eptm.at_boundary, True)])\n",
      "be_idxs = np.array([eptm.zeds[e.source()] for e in b_edges]).argsort()\n",
      "\n",
      "b_edges = b_edges.take(be_idxs)\n",
      "    \n",
      "weight = eptm.dsigmas.copy()\n",
      "weight.a = eptm.dsigmas.a**2\n",
      "\n",
      "\n",
      "for bedge in b_edges:\n",
      "    lj.local_slice(eptm, theta_c=0, theta_amp=None, \n",
      "                   zed_c=eptm.zeds[edge.source()],\n",
      "                   zed_amp=15.)\n",
      "    efilt = eptm.is_local_edge.copy()\n",
      "    efilt.a -= on_frontier.a\n",
      "    #efilt.a *= eptm.is_junction_edge.a\n",
      "    eptm.graph.set_edge_filter(efilt)\n",
      "    v1, v0 = bedge\n",
      "    if eptm.sigmas[v0] > eptm.sigmas[v1]:\n",
      "        v1, v0 = v0, v1\n",
      "    jvs, jes = gt.shortest_path(eptm.graph, v0, v1, weights=None) \n",
      "    #closed, jes = lj.find_circumference(eptm, bedge)\n",
      "    front_edges.append(jes)\n",
      "    eptm.graph.set_edge_filter(None)\n",
      "    for edge in jes:\n",
      "        on_frontier[edge] = 1\n",
      "        adj_cells = eptm.junctions.adjacent_cells[edge]\n",
      "        if adj_cells is None:\n",
      "            continue\n",
      "        for cell in eptm.junctions.adjacent_cells[edge]:\n",
      "            on_frontier_vert[cell] = 1\n",
      "        on_frontier_vert[edge.source()] = 1\n",
      "        on_frontier_vert[edge.target()] = 1\n",
      "        excluded[edge] = 1\n",
      "\n",
      "eptm.graph.set_vertex_filter(None)\n",
      "eptm.graph.set_edge_filter(None)\n",
      "\n",
      "print len(front_edges)\n",
      "eptm.graph.set_directed(True)"
     ],
     "language": "python",
     "metadata": {},
     "outputs": [
      {
       "output_type": "stream",
       "stream": "stdout",
       "text": [
        "4\n"
       ]
      }
     ],
     "prompt_number": 84
    },
    {
     "cell_type": "code",
     "collapsed": false,
     "input": [
      "ax = lj.plot_ortho_proj(eptm)"
     ],
     "language": "python",
     "metadata": {},
     "outputs": [],
     "prompt_number": 4
    },
    {
     "cell_type": "code",
     "collapsed": true,
     "input": [
      "ax = lj.plot_cells_zs(eptm, ax=None, vfilt=eptm.is_local_vert,\n",
      "                      efilt=eptm.is_local_edge, text=True)"
     ],
     "language": "python",
     "metadata": {},
     "outputs": [],
     "prompt_number": 66
    },
    {
     "cell_type": "code",
     "collapsed": false,
     "input": [
      "\n",
      "eptm.graph.set_directed(False)\n",
      "eptm.graph.set_vertex_filter(eptm.is_cell_vert, True)\n",
      "front_edges = []\n",
      "excluded = eptm.is_junction_edge.copy()\n",
      "excluded.a[:] = 0\n",
      "\n",
      "on_frontier_vert = eptm.graph.new_vertex_property(\"bool\")\n",
      "on_frontier = eptm.graph.new_edge_property(\"bool\")\n",
      "on_frontier.a[:] = 0"
     ],
     "language": "python",
     "metadata": {},
     "outputs": [],
     "prompt_number": 83
    },
    {
     "cell_type": "code",
     "collapsed": false,
     "input": [
      "#if eptm.dsigmas[je]**2 < eptm.dzeds[je]**2:\n",
      "#        continue\n",
      "    \n",
      "cell0, cell1 = eptm.junctions.adjacent_cells[je]\n",
      "eptm.set_local_mask(None)\n",
      "eptm.set_local_mask(cell0)\n",
      "eptm.set_local_mask(cell1)\n",
      "eptm.junctions.line_tensions[je] = 2 * lt0\n",
      "\n",
      "#eptm.is_active_edge.a = 0\n",
      "#eptm.is_active_edge[je] = 1\n",
      "#eptm.is_active_vert.a = 0\n",
      "#jv0, jv1= je\n",
      "#eptm.is_active_vert[jv0] = 1\n",
      "#eptm.is_active_vert[jv1] = 1"
     ],
     "language": "python",
     "metadata": {},
     "outputs": [],
     "prompt_number": 79
    },
    {
     "cell_type": "code",
     "collapsed": false,
     "input": [
      "print cell0, cell1"
     ],
     "language": "python",
     "metadata": {},
     "outputs": [
      {
       "output_type": "stream",
       "stream": "stdout",
       "text": [
        "338 1706\n"
       ]
      }
     ],
     "prompt_number": 58
    },
    {
     "cell_type": "code",
     "collapsed": false,
     "input": [
      "eptm.graph.save('../saved_graphs/xml/squeezed.xml')"
     ],
     "language": "python",
     "metadata": {},
     "outputs": [],
     "prompt_number": 21
    },
    {
     "cell_type": "code",
     "collapsed": false,
     "input": [
      "def compute_anisotropy(cell):\n",
      "    sigmas = np.array([eptm.sigmas[jv] for jv in cell.out_neighbours()])\n",
      "    zeds = np.array([eptm.zeds[jv] for jv in cell.out_neighbours()])\n",
      "    return np.ptp(sigmas)/np.ptp(zeds)\n",
      "    \n",
      "anisotropies = eptm.cells.areas.copy()\n",
      "\n",
      "for cell in eptm.cells:\n",
      "    if not eptm.is_alive[cell]: continue\n",
      "    anisotropies[cell] = compute_anisotropy(cell)\n",
      "    \n",
      "    "
     ],
     "language": "python",
     "metadata": {},
     "outputs": [],
     "prompt_number": 19
    },
    {
     "cell_type": "code",
     "collapsed": false,
     "input": [
      "eptm.graph.set_vertex_filter(eptm.is_cell_vert)\n",
      "fig, ax = plt.subplots()\n",
      "\n",
      "ax.plot(eptm.zeds.fa, anisotropies.fa, 'o', alpha=0.5)"
     ],
     "language": "python",
     "metadata": {},
     "outputs": [
      {
       "metadata": {},
       "output_type": "pyout",
       "prompt_number": 20,
       "text": [
        "[<matplotlib.lines.Line2D at 0x2fe3290c>]"
       ]
      }
     ],
     "prompt_number": 20
    },
    {
     "cell_type": "code",
     "collapsed": false,
     "input": [
      "lj.draw(eptm)\n"
     ],
     "language": "python",
     "metadata": {},
     "outputs": [],
     "prompt_number": 29
    },
    {
     "cell_type": "code",
     "collapsed": false,
     "input": [
      "for je in eptm.junctions:\n",
      "\n",
      "    if eptm.dsigmas[je]**2 < eptm.dzeds[je]**2:\n",
      "        continue\n",
      "    cell0, cell1 = eptm.junctions.adjacent_cells[je]\n",
      "    eptm.set_local_mask(None)\n",
      "    eptm.set_local_mask(cell0)\n",
      "    eptm.set_local_mask(cell1)\n",
      "    eptm.is_active_edge.a = 0\n",
      "    eptm.is_active_edge[je] = 1\n",
      "    eptm.is_active_vert.a = 0\n",
      "    jv0, jv1= je\n",
      "    eptm.is_active_vert[jv0] = 1\n",
      "    eptm.is_active_vert[jv1] = 1\n",
      "    \n",
      "    "
     ],
     "language": "python",
     "metadata": {},
     "outputs": []
    },
    {
     "cell_type": "code",
     "collapsed": false,
     "input": [
      "lj.local_slice(eptm, theta_c=0, theta_amp=None, \n",
      "               zed_c=eptm.zeds.a.min() + 1.,\n",
      "               zed_amp=2)"
     ],
     "language": "python",
     "metadata": {},
     "outputs": [],
     "prompt_number": 29
    },
    {
     "cell_type": "code",
     "collapsed": false,
     "input": [
      "out = lj.find_energy_min(eptm)"
     ],
     "language": "python",
     "metadata": {},
     "outputs": [],
     "prompt_number": 81
    },
    {
     "cell_type": "code",
     "collapsed": false,
     "input": [
      "ax = lj.plot_cells_zs(eptm, ax=None, text=False)"
     ],
     "language": "python",
     "metadata": {},
     "outputs": [],
     "prompt_number": 89
    },
    {
     "cell_type": "code",
     "collapsed": false,
     "input": [
      "ax = lj.plot_cells_zs(eptm, ax=None, vfilt=eptm.is_active_vert,\n",
      "                      efilt=eptm.is_active_edge, text=False)"
     ],
     "language": "python",
     "metadata": {},
     "outputs": [],
     "prompt_number": 82
    },
    {
     "cell_type": "code",
     "collapsed": false,
     "input": [
      "n = 0\n",
      "for cell in eptm.cells:\n",
      "    n += 1\n",
      "    eptm.set_local_mask(None)\n",
      "    eptm.set_local_mask(cell)\n",
      "    out = lj.find_energy_min(eptm)\n",
      "    if n % 10 == 0:\n",
      "        lj.optimizers.isotropic_optimum(eptm, tol=1e-2)"
     ],
     "language": "python",
     "metadata": {},
     "outputs": [
      {
       "ename": "error",
       "evalue": "failed in converting 4th argument `u' of _lbfgsb.setulb to C/Fortran array",
       "output_type": "pyerr",
       "traceback": [
        "\u001b[1;31m---------------------------------------------------------------------------\u001b[0m\n\u001b[1;31merror\u001b[0m                                     Traceback (most recent call last)",
        "\u001b[1;32m<ipython-input-88-a0e7a363b635>\u001b[0m in \u001b[0;36m<module>\u001b[1;34m()\u001b[0m\n\u001b[0;32m      4\u001b[0m     \u001b[0meptm\u001b[0m\u001b[1;33m.\u001b[0m\u001b[0mset_local_mask\u001b[0m\u001b[1;33m(\u001b[0m\u001b[0mNone\u001b[0m\u001b[1;33m)\u001b[0m\u001b[1;33m\u001b[0m\u001b[0m\n\u001b[0;32m      5\u001b[0m     \u001b[0meptm\u001b[0m\u001b[1;33m.\u001b[0m\u001b[0mset_local_mask\u001b[0m\u001b[1;33m(\u001b[0m\u001b[0mcell\u001b[0m\u001b[1;33m)\u001b[0m\u001b[1;33m\u001b[0m\u001b[0m\n\u001b[1;32m----> 6\u001b[1;33m     \u001b[0mout\u001b[0m \u001b[1;33m=\u001b[0m \u001b[0mlj\u001b[0m\u001b[1;33m.\u001b[0m\u001b[0mfind_energy_min\u001b[0m\u001b[1;33m(\u001b[0m\u001b[0meptm\u001b[0m\u001b[1;33m)\u001b[0m\u001b[1;33m\u001b[0m\u001b[0m\n\u001b[0m\u001b[0;32m      7\u001b[0m     \u001b[1;32mif\u001b[0m \u001b[0mn\u001b[0m \u001b[1;33m%\u001b[0m \u001b[1;36m10\u001b[0m \u001b[1;33m==\u001b[0m \u001b[1;36m0\u001b[0m\u001b[1;33m:\u001b[0m\u001b[1;33m\u001b[0m\u001b[0m\n\u001b[0;32m      8\u001b[0m         \u001b[0mlj\u001b[0m\u001b[1;33m.\u001b[0m\u001b[0moptimizers\u001b[0m\u001b[1;33m.\u001b[0m\u001b[0misotropic_optimum\u001b[0m\u001b[1;33m(\u001b[0m\u001b[0meptm\u001b[0m\u001b[1;33m,\u001b[0m \u001b[0mtol\u001b[0m\u001b[1;33m=\u001b[0m\u001b[1;36m1e-2\u001b[0m\u001b[1;33m)\u001b[0m\u001b[1;33m\u001b[0m\u001b[0m\n",
        "\u001b[1;32m/home/guillaume/Python/leg_joint/leg_joint/utils.pyc\u001b[0m in \u001b[0;36mnew_function\u001b[1;34m(eptm, *args, **kwargs)\u001b[0m\n\u001b[0;32m    102\u001b[0m         \u001b[1;31m#     print('rotated')\u001b[0m\u001b[1;33m\u001b[0m\u001b[1;33m\u001b[0m\u001b[0m\n\u001b[0;32m    103\u001b[0m \u001b[1;33m\u001b[0m\u001b[0m\n\u001b[1;32m--> 104\u001b[1;33m         \u001b[0mout\u001b[0m \u001b[1;33m=\u001b[0m \u001b[0mmeth\u001b[0m\u001b[1;33m(\u001b[0m\u001b[0meptm\u001b[0m\u001b[1;33m,\u001b[0m \u001b[1;33m*\u001b[0m\u001b[0margs\u001b[0m\u001b[1;33m,\u001b[0m \u001b[1;33m**\u001b[0m\u001b[0mkwargs\u001b[0m\u001b[1;33m)\u001b[0m\u001b[1;33m\u001b[0m\u001b[0m\n\u001b[0m\u001b[0;32m    105\u001b[0m         \u001b[1;31m# if not -1e-8 < eptm.current_angle < 1e-8:\u001b[0m\u001b[1;33m\u001b[0m\u001b[1;33m\u001b[0m\u001b[0m\n\u001b[0;32m    106\u001b[0m         \u001b[1;31m#     eptm.rotate(-eptm.current_angle)\u001b[0m\u001b[1;33m\u001b[0m\u001b[1;33m\u001b[0m\u001b[0m\n",
        "\u001b[1;32m/home/guillaume/Python/leg_joint/leg_joint/optimizers.pyc\u001b[0m in \u001b[0;36mfind_energy_min\u001b[1;34m(eptm, method, tol, approx_grad)\u001b[0m\n\u001b[0;32m     62\u001b[0m                                         \u001b[0miprint\u001b[0m\u001b[1;33m=\u001b[0m\u001b[1;36m1\u001b[0m\u001b[1;33m,\u001b[0m\u001b[1;33m\u001b[0m\u001b[0m\n\u001b[0;32m     63\u001b[0m                                         \u001b[0mmaxfun\u001b[0m\u001b[1;33m=\u001b[0m\u001b[1;36m150\u001b[0m\u001b[1;33m,\u001b[0m\u001b[1;33m\u001b[0m\u001b[0m\n\u001b[1;32m---> 64\u001b[1;33m                                         disp=None)\n\u001b[0m\u001b[0;32m     65\u001b[0m \u001b[1;33m\u001b[0m\u001b[0m\n\u001b[0;32m     66\u001b[0m     \u001b[1;32melif\u001b[0m \u001b[0mmethod\u001b[0m\u001b[1;33m==\u001b[0m\u001b[1;34m'fmin'\u001b[0m\u001b[1;33m:\u001b[0m\u001b[1;33m\u001b[0m\u001b[0m\n",
        "\u001b[1;32m/usr/lib/python2.7/dist-packages/scipy/optimize/lbfgsb.pyc\u001b[0m in \u001b[0;36mfmin_l_bfgs_b\u001b[1;34m(func, x0, fprime, args, approx_grad, bounds, m, factr, pgtol, epsilon, iprint, maxfun, disp)\u001b[0m\n\u001b[0;32m    172\u001b[0m \u001b[1;33m\u001b[0m\u001b[0m\n\u001b[0;32m    173\u001b[0m     res = _minimize_lbfgsb(fun, x0, args=args, jac=jac, bounds=bounds,\n\u001b[1;32m--> 174\u001b[1;33m                            **opts)\n\u001b[0m\u001b[0;32m    175\u001b[0m     d = {'grad': res['jac'],\n\u001b[0;32m    176\u001b[0m          \u001b[1;34m'task'\u001b[0m\u001b[1;33m:\u001b[0m \u001b[0mres\u001b[0m\u001b[1;33m[\u001b[0m\u001b[1;34m'message'\u001b[0m\u001b[1;33m]\u001b[0m\u001b[1;33m,\u001b[0m\u001b[1;33m\u001b[0m\u001b[0m\n",
        "\u001b[1;32m/usr/lib/python2.7/dist-packages/scipy/optimize/lbfgsb.pyc\u001b[0m in \u001b[0;36m_minimize_lbfgsb\u001b[1;34m(fun, x0, args, jac, bounds, disp, maxcor, ftol, gtol, eps, maxiter, iprint, **unknown_options)\u001b[0m\n\u001b[0;32m    286\u001b[0m         _lbfgsb.setulb(m, x, low_bnd, upper_bnd, nbd, f, g, factr,\n\u001b[0;32m    287\u001b[0m                        \u001b[0mpgtol\u001b[0m\u001b[1;33m,\u001b[0m \u001b[0mwa\u001b[0m\u001b[1;33m,\u001b[0m \u001b[0miwa\u001b[0m\u001b[1;33m,\u001b[0m \u001b[0mtask\u001b[0m\u001b[1;33m,\u001b[0m \u001b[0miprint\u001b[0m\u001b[1;33m,\u001b[0m \u001b[0mcsave\u001b[0m\u001b[1;33m,\u001b[0m \u001b[0mlsave\u001b[0m\u001b[1;33m,\u001b[0m\u001b[1;33m\u001b[0m\u001b[0m\n\u001b[1;32m--> 288\u001b[1;33m                        isave, dsave)\n\u001b[0m\u001b[0;32m    289\u001b[0m         \u001b[0mtask_str\u001b[0m \u001b[1;33m=\u001b[0m \u001b[0mtask\u001b[0m\u001b[1;33m.\u001b[0m\u001b[0mtostring\u001b[0m\u001b[1;33m(\u001b[0m\u001b[1;33m)\u001b[0m\u001b[1;33m\u001b[0m\u001b[0m\n\u001b[0;32m    290\u001b[0m         \u001b[1;32mif\u001b[0m \u001b[0mtask_str\u001b[0m\u001b[1;33m.\u001b[0m\u001b[0mstartswith\u001b[0m\u001b[1;33m(\u001b[0m\u001b[0masbytes\u001b[0m\u001b[1;33m(\u001b[0m\u001b[1;34m'FG'\u001b[0m\u001b[1;33m)\u001b[0m\u001b[1;33m)\u001b[0m\u001b[1;33m:\u001b[0m\u001b[1;33m\u001b[0m\u001b[0m\n",
        "\u001b[1;31merror\u001b[0m: failed in converting 4th argument `u' of _lbfgsb.setulb to C/Fortran array"
       ]
      }
     ],
     "prompt_number": 88
    },
    {
     "cell_type": "code",
     "collapsed": false,
     "input": [
      "eptm.is_active_vert.a[:] = 0\n",
      "eptm.is_active_edge.a[:] = 0\n",
      "\n",
      "eptm.graph.set_vertex_filter(None)\n",
      "for je in eptm.junctions:\n",
      "    if not eptm.is_local_edge[je]:\n",
      "        continue\n",
      "    jv0, jv1 = je\n",
      "    are_local = [eptm.is_local_vert[v] for v in jv0.all_neighbours()]\n",
      "    are_local.extend([eptm.is_local_vert[v] for v in jv1.all_neighbours()])\n",
      "    if np.all(are_local):\n",
      "        eptm.is_active_vert[jv0] = 1\n",
      "        eptm.is_active_vert[jv1] = 1\n",
      "        eptm.is_active_edge[je] = 1"
     ],
     "language": "python",
     "metadata": {},
     "outputs": [],
     "prompt_number": 20
    },
    {
     "cell_type": "code",
     "collapsed": false,
     "input": [
      "eptm.graph.set_edge_filter(eptm.is_local_edge)\n",
      "for edge in eptm.graph.edges():\n",
      "    if eptm.is_junction_edge[edge]:\n",
      "        cell0, cell1 = eptm.junctions.adjacent_cells[edge]\n",
      "        jv0, jv1 = edge\n",
      "        \n",
      "        ctoj00 = eptm.graph.edge(cell0, jv0)\n",
      "        ctoj01 = eptm.graph.edge(cell0, jv1)\n",
      "        ctoj10 = eptm.graph.edge(cell1, jv0)\n",
      "        ctoj11 = eptm.graph.edge(cell1, jv1)\n",
      "        edges = [edge, ctoj00, ctoj01, ctoj10, ctoj11]\n",
      "        vertices = [jv0, jv1, cell0, cell1]\n",
      "        \n",
      "        if (eptm.is_local_vert[cell0] and eptm.is_local_vert[cell1]\n",
      "            and eptm.is_alive[cell0] and eptm.is_alive[cell1]) :\n",
      "            for v in vertices:\n",
      "                eptm.is_active_vert[v] = 1\n",
      "            for e in edges:\n",
      "                if e is not None:\n",
      "                    eptm.is_active_edge[e] = 1\n",
      "        else:\n",
      "            for v in vertices:\n",
      "                eptm.is_active_vert[v] = 0\n",
      "            for e in edges:\n",
      "                if e is not None:\n",
      "                    eptm.is_active_edge[e] = 0\n",
      "eptm.graph.set_vertex_filter(None)"
     ],
     "language": "python",
     "metadata": {},
     "outputs": [],
     "prompt_number": 13
    },
    {
     "cell_type": "code",
     "collapsed": false,
     "input": [
      "figure(1)\n",
      "for j0, j1 in eptm.junctions:\n",
      "    if eptm.at_boundary[eptm.graph.edge(j0, j1)]:\n",
      "        plot(eptm.zeds[j0], eptm.sigmas[j0], 'ko')\n",
      "        plot(eptm.zeds[j1], eptm.sigmas[j1], 'ko')"
     ],
     "language": "python",
     "metadata": {},
     "outputs": [],
     "prompt_number": 97
    },
    {
     "cell_type": "code",
     "collapsed": false,
     "input": [
      "eptm.update_dsigmas()\n",
      "zeta = eptm.dsigmas.copy()\n",
      "zeta.a = np.arctan2(eptm.dsigmas.a, eptm.dzeds.a)\n",
      "eptm.junctions.line_tensions.a[np.abs(np.sin(zeta.a)) > np.sqrt(3)/2.] *= 2\n",
      "eptm.junctions.line_tensions.a[np.abs(np.sin(zeta.a)) < np.sqrt(3)/2.] *= 1\n",
      "\n",
      "eptm.junctions.line_tensions.a *= eptm.is_junction_edge.a"
     ],
     "language": "python",
     "metadata": {},
     "outputs": [],
     "prompt_number": 7
    },
    {
     "cell_type": "code",
     "collapsed": false,
     "input": [
      "ax = lj.plot_cells_zs(eptm,  text=False)"
     ],
     "language": "python",
     "metadata": {},
     "outputs": [],
     "prompt_number": 8
    },
    {
     "cell_type": "code",
     "collapsed": false,
     "input": [
      "random_cells = [cell for cell in eptm.cells if eptm.is_alive[cell]]\n",
      "np.random.shuffle(random_cells)"
     ],
     "language": "python",
     "metadata": {},
     "outputs": [],
     "prompt_number": 44
    },
    {
     "cell_type": "code",
     "collapsed": false,
     "input": [
      "for cell in eptm.cells:\n",
      "    lj.find_energy_min(eptm, tol=1e-3, approx_grad=0)"
     ],
     "language": "python",
     "metadata": {},
     "outputs": [],
     "prompt_number": 7
    },
    {
     "cell_type": "code",
     "collapsed": false,
     "input": [
      "visited_edge = eptm.is_local_edge.copy()\n",
      "visited_edge.a = 0\n",
      "eptm.graph.set_edge_filter(eptm.is_junction_edge)\n",
      "lt0 = eptm.junctions.line_tensions.fa.mean()\n",
      "eptm.graph.set_edge_filter(None)\n",
      "\n",
      "for cell in cells:\n",
      "    #if visited_cells[cell] > 0 : continue\n",
      "    eptm.set_local_mask(None)\n",
      "    eptm.set_local_mask(cell)\n",
      "    #visited_cells.a += eptm.is_local_vert.a\n",
      "    jes = [edge for edge in eptm.cells.junctions[cell]\n",
      "           if not visited_edge[edge]]\n",
      "    zetas = [zeta[edge] for edge in jes]\n",
      "    maxje = jes[np.argmax(np.abs(zetas))]\n",
      "    eptm.junctions.line_tensions[maxje] *= 2\n",
      "    visited_edge[maxje] = 1\n",
      "    lj.find_energy_min(eptm, tol=1e-3, approx_grad=0)\n",
      "    \n",
      "    \n",
      "    "
     ],
     "language": "python",
     "metadata": {},
     "outputs": [],
     "prompt_number": 41
    },
    {
     "cell_type": "code",
     "collapsed": false,
     "input": [
      "eptm.graph.set_edge_filter(eptm.is_junction_edge)\n",
      "mean_length = eptm.edge_lengths.fa.mean()\n",
      "eptm.graph.set_edge_filter(None)\n",
      "dorsal_zeds = np.arange(eptm.zeds.a.min() * 0.9,\n",
      "                        eptm.zeds.a.max() * 0.9, \n",
      "                        2.* mean_length)\n",
      "dorsal_sigmas = np.ones_like(dorsal_zeds)"
     ],
     "language": "python",
     "metadata": {},
     "outputs": [],
     "prompt_number": 7
    },
    {
     "cell_type": "code",
     "collapsed": false,
     "input": [
      "eptm.graph.set_vertex_filter(eptm.is_cell_vert)\n",
      "dorsal_cells = []\n",
      "for sigma, zed in zip(dorsal_sigmas, dorsal_zeds):\n",
      "    dorsal_cells.append(eptm.closest_vert(sigma, zed))\n",
      "    #dorsal_cells.append(eptm.closest_vert(25 * sigma, zed))\n",
      "    #dorsal_cells.append(eptm.closest_vert(-25 * sigma, zed))\n",
      "    \n",
      "eptm.graph.set_vertex_filter(None)"
     ],
     "language": "python",
     "metadata": {},
     "outputs": [],
     "prompt_number": 8
    },
    {
     "cell_type": "code",
     "collapsed": false,
     "input": [
      "figure(1)\n",
      "for dc in dorsal_cells:\n",
      "    plot(eptm.zeds[dc], eptm.sigmas[dc], 'bo')"
     ],
     "language": "python",
     "metadata": {},
     "outputs": [],
     "prompt_number": 9
    },
    {
     "cell_type": "code",
     "collapsed": false,
     "input": [
      "front_edges = []\n",
      "for cell in dorsal_cells:\n",
      "    if not eptm.is_alive[cell]: continue\n",
      "    edge0 = eptm.cells.junctions[cell][0]\n",
      "    closed, edges = lj.find_circumference(eptm, edge0)\n",
      "    front_edges.extend(edges)"
     ],
     "language": "python",
     "metadata": {},
     "outputs": [
      {
       "ename": "KeyboardInterrupt",
       "evalue": "",
       "output_type": "pyerr",
       "traceback": [
        "\u001b[1;31m---------------------------------------------------------------------------\u001b[0m\n\u001b[1;31mKeyboardInterrupt\u001b[0m                         Traceback (most recent call last)",
        "\u001b[1;32m<ipython-input-10-066d323a9a18>\u001b[0m in \u001b[0;36m<module>\u001b[1;34m()\u001b[0m\n\u001b[0;32m      3\u001b[0m     \u001b[1;32mif\u001b[0m \u001b[1;32mnot\u001b[0m \u001b[0meptm\u001b[0m\u001b[1;33m.\u001b[0m\u001b[0mis_alive\u001b[0m\u001b[1;33m[\u001b[0m\u001b[0mcell\u001b[0m\u001b[1;33m]\u001b[0m\u001b[1;33m:\u001b[0m \u001b[1;32mcontinue\u001b[0m\u001b[1;33m\u001b[0m\u001b[0m\n\u001b[0;32m      4\u001b[0m     \u001b[0medge0\u001b[0m \u001b[1;33m=\u001b[0m \u001b[0meptm\u001b[0m\u001b[1;33m.\u001b[0m\u001b[0mcells\u001b[0m\u001b[1;33m.\u001b[0m\u001b[0mjunctions\u001b[0m\u001b[1;33m[\u001b[0m\u001b[0mcell\u001b[0m\u001b[1;33m]\u001b[0m\u001b[1;33m[\u001b[0m\u001b[1;36m0\u001b[0m\u001b[1;33m]\u001b[0m\u001b[1;33m\u001b[0m\u001b[0m\n\u001b[1;32m----> 5\u001b[1;33m     \u001b[0mclosed\u001b[0m\u001b[1;33m,\u001b[0m \u001b[0medges\u001b[0m \u001b[1;33m=\u001b[0m \u001b[0mlj\u001b[0m\u001b[1;33m.\u001b[0m\u001b[0mfind_circumference\u001b[0m\u001b[1;33m(\u001b[0m\u001b[0meptm\u001b[0m\u001b[1;33m,\u001b[0m \u001b[0medge0\u001b[0m\u001b[1;33m)\u001b[0m\u001b[1;33m\u001b[0m\u001b[0m\n\u001b[0m\u001b[0;32m      6\u001b[0m     \u001b[0mfront_edges\u001b[0m\u001b[1;33m.\u001b[0m\u001b[0mextend\u001b[0m\u001b[1;33m(\u001b[0m\u001b[0medges\u001b[0m\u001b[1;33m)\u001b[0m\u001b[1;33m\u001b[0m\u001b[0m\n",
        "\u001b[1;32m/home/guillaume/Python/leg_joint/leg_joint/frontier.pyc\u001b[0m in \u001b[0;36mfind_circumference\u001b[1;34m(eptm, edge0)\u001b[0m\n\u001b[0;32m     20\u001b[0m         \u001b[0mnew_v\u001b[0m \u001b[1;33m=\u001b[0m \u001b[0mneighbs\u001b[0m\u001b[1;33m[\u001b[0m\u001b[0mnp\u001b[0m\u001b[1;33m.\u001b[0m\u001b[0margmax\u001b[0m\u001b[1;33m(\u001b[0m\u001b[0mtangent\u001b[0m\u001b[1;33m)\u001b[0m\u001b[1;33m]\u001b[0m\u001b[1;33m\u001b[0m\u001b[0m\n\u001b[0;32m     21\u001b[0m         \u001b[0mfront_verts\u001b[0m\u001b[1;33m.\u001b[0m\u001b[0mappend\u001b[0m\u001b[1;33m(\u001b[0m\u001b[0mnew_v\u001b[0m\u001b[1;33m)\u001b[0m\u001b[1;33m\u001b[0m\u001b[0m\n\u001b[1;32m---> 22\u001b[1;33m         \u001b[0mnew_e\u001b[0m \u001b[1;33m=\u001b[0m \u001b[0meptm\u001b[0m\u001b[1;33m.\u001b[0m\u001b[0many_edge\u001b[0m\u001b[1;33m(\u001b[0m\u001b[0mv1\u001b[0m\u001b[1;33m,\u001b[0m \u001b[0mnew_v\u001b[0m\u001b[1;33m)\u001b[0m\u001b[1;33m\u001b[0m\u001b[0m\n\u001b[0m\u001b[0;32m     23\u001b[0m         \u001b[0mfront_edges\u001b[0m\u001b[1;33m.\u001b[0m\u001b[0mappend\u001b[0m\u001b[1;33m(\u001b[0m\u001b[0mnew_e\u001b[0m\u001b[1;33m)\u001b[0m\u001b[1;33m\u001b[0m\u001b[0m\n\u001b[0;32m     24\u001b[0m         \u001b[0mcum_theta\u001b[0m \u001b[1;33m+=\u001b[0m \u001b[0mnp\u001b[0m\u001b[1;33m.\u001b[0m\u001b[0mabs\u001b[0m\u001b[1;33m(\u001b[0m\u001b[0meptm\u001b[0m\u001b[1;33m.\u001b[0m\u001b[0mdthetas\u001b[0m\u001b[1;33m[\u001b[0m\u001b[0mnew_e\u001b[0m\u001b[1;33m]\u001b[0m\u001b[1;33m)\u001b[0m\u001b[1;33m\u001b[0m\u001b[0m\n",
        "\u001b[1;32m/home/guillaume/Python/leg_joint/leg_joint/objects.pyc\u001b[0m in \u001b[0;36many_edge\u001b[1;34m(self, v0, v1)\u001b[0m\n\u001b[0;32m    222\u001b[0m         \u001b[0mwhether\u001b[0m \u001b[0mit\u001b[0m \u001b[0mgoes\u001b[0m \u001b[1;32mfrom\u001b[0m \u001b[0mv0\u001b[0m \u001b[0mto\u001b[0m \u001b[0mv1\u001b[0m \u001b[1;32mor\u001b[0m \u001b[1;32mfrom\u001b[0m \u001b[0mv1\u001b[0m \u001b[0mto\u001b[0m \u001b[0mv0\u001b[0m \u001b[1;32mand\u001b[0m \u001b[0mNone\u001b[0m \u001b[0motherwize\u001b[0m\u001b[1;33m\u001b[0m\u001b[0m\n\u001b[0;32m    223\u001b[0m         '''\n\u001b[1;32m--> 224\u001b[1;33m         \u001b[0me\u001b[0m \u001b[1;33m=\u001b[0m \u001b[0mself\u001b[0m\u001b[1;33m.\u001b[0m\u001b[0mgraph\u001b[0m\u001b[1;33m.\u001b[0m\u001b[0medge\u001b[0m\u001b[1;33m(\u001b[0m\u001b[0mv0\u001b[0m\u001b[1;33m,\u001b[0m \u001b[0mv1\u001b[0m\u001b[1;33m)\u001b[0m\u001b[1;33m\u001b[0m\u001b[0m\n\u001b[0m\u001b[0;32m    225\u001b[0m         \u001b[1;32mif\u001b[0m \u001b[0me\u001b[0m \u001b[1;32mis\u001b[0m \u001b[0mNone\u001b[0m\u001b[1;33m:\u001b[0m\u001b[1;33m\u001b[0m\u001b[0m\n\u001b[0;32m    226\u001b[0m             \u001b[0me\u001b[0m \u001b[1;33m=\u001b[0m \u001b[0mself\u001b[0m\u001b[1;33m.\u001b[0m\u001b[0mgraph\u001b[0m\u001b[1;33m.\u001b[0m\u001b[0medge\u001b[0m\u001b[1;33m(\u001b[0m\u001b[0mv1\u001b[0m\u001b[1;33m,\u001b[0m \u001b[0mv0\u001b[0m\u001b[1;33m)\u001b[0m\u001b[1;33m\u001b[0m\u001b[0m\n",
        "\u001b[1;32m/usr/lib/python2.7/dist-packages/graph_tool/__init__.pyc\u001b[0m in \u001b[0;36medge\u001b[1;34m(self, s, t, all_edges)\u001b[0m\n\u001b[0;32m   1114\u001b[0m         \"\"\"\n\u001b[0;32m   1115\u001b[0m         \u001b[0ms\u001b[0m \u001b[1;33m=\u001b[0m \u001b[0mself\u001b[0m\u001b[1;33m.\u001b[0m\u001b[0mvertex\u001b[0m\u001b[1;33m(\u001b[0m\u001b[0mint\u001b[0m\u001b[1;33m(\u001b[0m\u001b[0ms\u001b[0m\u001b[1;33m)\u001b[0m\u001b[1;33m)\u001b[0m\u001b[1;33m\u001b[0m\u001b[0m\n\u001b[1;32m-> 1116\u001b[1;33m         \u001b[0mt\u001b[0m \u001b[1;33m=\u001b[0m \u001b[0mself\u001b[0m\u001b[1;33m.\u001b[0m\u001b[0mvertex\u001b[0m\u001b[1;33m(\u001b[0m\u001b[0mint\u001b[0m\u001b[1;33m(\u001b[0m\u001b[0mt\u001b[0m\u001b[1;33m)\u001b[0m\u001b[1;33m)\u001b[0m\u001b[1;33m\u001b[0m\u001b[0m\n\u001b[0m\u001b[0;32m   1117\u001b[0m         \u001b[0medges\u001b[0m \u001b[1;33m=\u001b[0m \u001b[1;33m[\u001b[0m\u001b[1;33m]\u001b[0m\u001b[1;33m\u001b[0m\u001b[0m\n\u001b[0;32m   1118\u001b[0m         \u001b[1;32mfor\u001b[0m \u001b[0me\u001b[0m \u001b[1;32min\u001b[0m \u001b[0ms\u001b[0m\u001b[1;33m.\u001b[0m\u001b[0mout_edges\u001b[0m\u001b[1;33m(\u001b[0m\u001b[1;33m)\u001b[0m\u001b[1;33m:\u001b[0m\u001b[1;33m\u001b[0m\u001b[0m\n",
        "\u001b[1;31mKeyboardInterrupt\u001b[0m: "
       ]
      }
     ],
     "prompt_number": 10
    },
    {
     "cell_type": "code",
     "collapsed": false,
     "input": [
      "on_frontier_vert.a[:] = 0\n",
      "on_frontier[:] = 0\n",
      "for edge in front_edges:\n",
      "    on_frontier[edge] = 1\n",
      "    for cell in eptm.junctions.adjacent_cells[edge]:\n",
      "        on_frontier_vert[cell] = 1\n",
      "    on_frontier_vert[edge.source()] = 1\n",
      "    on_frontier_vert[edge.target()] = 1\n",
      "    excluded[edge] = 1"
     ],
     "language": "python",
     "metadata": {},
     "outputs": []
    },
    {
     "cell_type": "code",
     "collapsed": true,
     "input": [
      "eptm.graph.set_edge_filter(on_frontier)\n",
      "eptm.junctions.line_tensions.fa *= 3.\n",
      "eptm.graph.set_edge_filter(None)"
     ],
     "language": "python",
     "metadata": {},
     "outputs": [],
     "prompt_number": 60
    },
    {
     "cell_type": "code",
     "collapsed": true,
     "input": [
      "eptm.graph.set_vertex_filter(None)\n",
      "for v in eptm.graph.vertices():\n",
      "    if not (on_frontier_vert[v]\n",
      "            and eptm.is_cell_vert[v]): continue\n",
      "    eptm.set_local_mask(None)\n",
      "    eptm.set_local_mask(v)\n",
      "    lj.find_energy_min(eptm, tol=1e-3, approx_grad=0)"
     ],
     "language": "python",
     "metadata": {},
     "outputs": [],
     "prompt_number": 61
    },
    {
     "cell_type": "code",
     "collapsed": false,
     "input": [
      "eptm.graph.save('../saved_graphs/xml/polarised.xml')"
     ],
     "language": "python",
     "metadata": {},
     "outputs": [],
     "prompt_number": 63
    },
    {
     "cell_type": "code",
     "collapsed": false,
     "input": [
      "x\u00b2ax = lj.draw.plot_cells_sz(eptm, ax=None,text=False,\n",
      "                           vfilt=on_frontier_vert,\n",
      "                           efilt=on_frontier)\n",
      "eptm.update_gradient()\n",
      "lj.draw.plot_gradients(eptm, ax)"
     ],
     "language": "python",
     "metadata": {},
     "outputs": [
      {
       "output_type": "pyout",
       "prompt_number": 15,
       "text": [
        "<matplotlib.axes.AxesSubplot at 0x10d32a6c>"
       ]
      }
     ],
     "prompt_number": 15
    },
    {
     "cell_type": "code",
     "collapsed": false,
     "input": [
      "%run ../src/sandbox.py\n",
      "test = closest_vert(eptm, 5., 8., vfilt=eptm.is_cell_vert)"
     ],
     "language": "python",
     "metadata": {},
     "outputs": [],
     "prompt_number": 21
    },
    {
     "cell_type": "code",
     "collapsed": false,
     "input": [
      "print test"
     ],
     "language": "python",
     "metadata": {},
     "outputs": [
      {
       "output_type": "stream",
       "stream": "stdout",
       "text": [
        "[<Vertex object with index '38' at 0x110fd6ac>]\n"
       ]
      }
     ],
     "prompt_number": 22
    },
    {
     "cell_type": "code",
     "collapsed": false,
     "input": [
      "lj.draw.plot_cells_sz(eptm, ax=None, text=True)"
     ],
     "language": "python",
     "metadata": {},
     "outputs": [
      {
       "output_type": "pyout",
       "prompt_number": 23,
       "text": [
        "<matplotlib.axes.AxesSubplot at 0x11194b2c>"
       ]
      }
     ],
     "prompt_number": 23
    },
    {
     "cell_type": "code",
     "collapsed": false,
     "input": [
      "apopt_list = [392, 39, 54, 221, 335, 52, 8, 38, 344, 22]\n",
      "apopototic_cells = [eptm.graph.vertex(idx) for idx in apopt_list]\n",
      "for apoptotic_cell in apopototic_cells:\n",
      "    eptm.set_local_mask(None)\n",
      "    eptm.set_local_mask(apoptotic_cell)\n",
      "    eptm.cells.prefered_area[apoptotic_cell] = 0.05\n",
      "    eptm.cells.contractilities[apoptotic_cell] *= 2.\n",
      "    eptm.find_energy_min()\n",
      "    "
     ],
     "language": "python",
     "metadata": {},
     "outputs": []
    },
    {
     "cell_type": "code",
     "collapsed": false,
     "input": [
      "eptm.graph.save('../saved_graphs/xml/joint_formation2.xml')"
     ],
     "language": "python",
     "metadata": {},
     "outputs": [],
     "prompt_number": 47
    },
    {
     "cell_type": "code",
     "collapsed": false,
     "input": [
      "%run ../src/graph_representation.py"
     ],
     "language": "python",
     "metadata": {},
     "outputs": [],
     "prompt_number": 37
    },
    {
     "cell_type": "code",
     "collapsed": false,
     "input": [
      "plot_cells_sz(eptm, ax=None, text=False)"
     ],
     "language": "python",
     "metadata": {},
     "outputs": [
      {
       "output_type": "pyout",
       "prompt_number": 46,
       "text": [
        "<matplotlib.axes.AxesSubplot at 0x33284a4c>"
       ]
      }
     ],
     "prompt_number": 46
    },
    {
     "cell_type": "code",
     "collapsed": false,
     "input": [
      "# This is now implemented\n",
      "\n",
      "on_frontier_vert = eptm.graph.new_vertex_property(\"bool\")\n",
      "on_frontier = eptm.graph.new_edge_property(\"bool\")\n",
      "on_frontier.a[:] = 0\n",
      "edge0 = eptm.any_edge(695, 699)\n",
      "\n",
      "print edge0\n",
      "eptm.graph.set_edge_filter(eptm.is_junction_edge)\n",
      "\n",
      "front_verts = [edge0.source(), edge0.target()]\n",
      "ref_jv = edge0.source()\n",
      "front_edges = [edge0]\n",
      "cum_theta = eptm.dthetas[edge0]\n",
      "\n",
      "while cum_theta < 2 * np.pi:\n",
      "    \n",
      "    v0 = front_verts[-2]\n",
      "    v1 = front_verts[-1]\n",
      "    neighbs = [jv for jv in v1.all_neighbours() if jv != v0]\n",
      "    sigmas = np.array([eptm.sigmas[jv] for jv in neighbs])\n",
      "    zeds = np.array([eptm.zeds[jv] for jv in neighbs])\n",
      "    tangent = np.abs((sigmas - eptm.sigmas[v0])\n",
      "                    / (zeds - eptm.zeds[v0]))\n",
      "    new_v = neighbs[argmax(tangent)]\n",
      "    front_verts.append(new_v)\n",
      "    new_e = eptm.any_edge(v1, new_v)\n",
      "    front_edges.append(new_e)\n",
      "    cum_theta += np.abs(eptm.dthetas[new_e]) \n",
      "    on_frontier[new_e] = 1\n",
      "    \n",
      "last_edge = eptm.any_edge(front_verts[0], front_verts[-1])\n",
      "if last_edge is not None:\n",
      "    front_edges.append(last_edge)\n",
      "    on_frontier[last_edge] = 1\n",
      "    \n",
      "eptm.graph.set_edge_filter(None)\n"
     ],
     "language": "python",
     "metadata": {},
     "outputs": []
    }
   ],
   "metadata": {}
  }
 ]
}