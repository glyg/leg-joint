{
 "metadata": {
  "name": "6 - Frontier"
 },
 "nbformat": 3,
 "nbformat_minor": 0,
 "worksheets": [
  {
   "cells": [
    {
     "cell_type": "code",
     "collapsed": false,
     "input": [
      "%run nb_init.py\n",
      "eptm = lj.Epithelium(graphXMLfile=\"../saved_graphs/xml/latest.xml\",\n",
      "                     paramfile='../default/params.xml')"
     ],
     "language": "python",
     "metadata": {},
     "outputs": [],
     "prompt_number": 74
    },
    {
     "cell_type": "code",
     "collapsed": false,
     "input": [
      "eptm.update_dsigmas()\n",
      "eptm.at_boundary.a.sum()"
     ],
     "language": "python",
     "metadata": {},
     "outputs": [
      {
       "output_type": "pyout",
       "prompt_number": 75,
       "text": [
        "array(62)"
       ]
      }
     ],
     "prompt_number": 75
    },
    {
     "cell_type": "code",
     "collapsed": false,
     "input": [
      "eptm.graph.set_directed(False)\n",
      "eptm.graph.set_vertex_filter(eptm.is_cell_vert, True)\n",
      "front_edges = []\n",
      "excluded = eptm.is_junction_edge.copy()\n",
      "excluded.a[:] = 0\n",
      "\n",
      "on_frontier_vert = eptm.graph.new_vertex_property(\"bool\")\n",
      "on_frontier = eptm.graph.new_edge_property(\"bool\")\n",
      "on_frontier.a[:] = 0"
     ],
     "language": "python",
     "metadata": {},
     "outputs": [],
     "prompt_number": 83
    },
    {
     "cell_type": "code",
     "collapsed": false,
     "input": [
      "\n",
      "b_edges = np.array([e for e in gt.find_edge(eptm.graph, eptm.at_boundary, True)])\n",
      "be_idxs = np.array([eptm.zeds[e.source()] for e in b_edges]).argsort()\n",
      "\n",
      "b_edges = b_edges.take(be_idxs)\n",
      "    \n",
      "weight = eptm.dsigmas.copy()\n",
      "weight.a = eptm.dsigmas.a**2\n",
      "\n",
      "\n",
      "for bedge in b_edges:\n",
      "    lj.local_slice(eptm, theta_c=0, theta_amp=None, \n",
      "                   zed_c=eptm.zeds[edge.source()],\n",
      "                   zed_amp=15.)\n",
      "    efilt = eptm.is_local_edge.copy()\n",
      "    efilt.a -= on_frontier.a\n",
      "    #efilt.a *= eptm.is_junction_edge.a\n",
      "    eptm.graph.set_edge_filter(efilt)\n",
      "    v1, v0 = bedge\n",
      "    if eptm.sigmas[v0] > eptm.sigmas[v1]:\n",
      "        v1, v0 = v0, v1\n",
      "    jvs, jes = gt.shortest_path(eptm.graph, v0, v1, weights=None) \n",
      "    #closed, jes = lj.find_circumference(eptm, bedge)\n",
      "    front_edges.append(jes)\n",
      "    eptm.graph.set_edge_filter(None)\n",
      "    for edge in jes:\n",
      "        on_frontier[edge] = 1\n",
      "        adj_cells = eptm.junctions.adjacent_cells[edge]\n",
      "        if adj_cells is None:\n",
      "            continue\n",
      "        for cell in eptm.junctions.adjacent_cells[edge]:\n",
      "            on_frontier_vert[cell] = 1\n",
      "        on_frontier_vert[edge.source()] = 1\n",
      "        on_frontier_vert[edge.target()] = 1\n",
      "        excluded[edge] = 1\n",
      "\n",
      "eptm.graph.set_vertex_filter(None)\n",
      "eptm.graph.set_edge_filter(None)\n",
      "\n",
      "print len(front_edges)\n",
      "eptm.graph.set_directed(True)"
     ],
     "language": "python",
     "metadata": {},
     "outputs": [
      {
       "output_type": "stream",
       "stream": "stdout",
       "text": [
        "4\n"
       ]
      }
     ],
     "prompt_number": 84
    },
    {
     "cell_type": "code",
     "collapsed": false,
     "input": [
      "lj.local_slice(eptm, theta_c=0, theta_amp=None, \n",
      "               zed_c=eptm.zeds[edge.source()],\n",
      "               zed_amp=2.)"
     ],
     "language": "python",
     "metadata": {},
     "outputs": [],
     "prompt_number": 79
    },
    {
     "cell_type": "code",
     "collapsed": true,
     "input": [
      "ax = lj.plot_cells_zs(eptm, ax=None, vfilt=on_frontier_vert,\n",
      "                      efilt=on_frontier, text=False)"
     ],
     "language": "python",
     "metadata": {},
     "outputs": [],
     "prompt_number": 86
    },
    {
     "cell_type": "code",
     "collapsed": false,
     "input": [
      "lj.plot_cells_zs(eptm, text=False)"
     ],
     "language": "python",
     "metadata": {},
     "outputs": [
      {
       "output_type": "pyout",
       "prompt_number": 15,
       "text": [
        "<matplotlib.axes.AxesSubplot at 0x1540d4ec>"
       ]
      }
     ],
     "prompt_number": 15
    },
    {
     "cell_type": "code",
     "collapsed": false,
     "input": [
      "figure(1)\n",
      "for j0, j1 in eptm.junctions:\n",
      "    if eptm.at_boundary[eptm.graph.edge(j0, j1)]:\n",
      "        plot(eptm.zeds[j0], eptm.sigmas[j0], 'ko')\n",
      "        plot(eptm.zeds[j1], eptm.sigmas[j1], 'ko')"
     ],
     "language": "python",
     "metadata": {},
     "outputs": [],
     "prompt_number": 97
    },
    {
     "cell_type": "code",
     "collapsed": false,
     "input": [
      "eptm.update_dsigmas()\n",
      "zeta = eptm.dsigmas.copy()\n",
      "zeta.a = np.arctan2(eptm.dsigmas.a, eptm.dzeds.a)\n",
      "eptm.junctions.line_tensions.a[np.abs(np.sin(zeta.a)) > np.sqrt(3)/2.] *= 2\n",
      "eptm.junctions.line_tensions.a[np.abs(np.sin(zeta.a)) < np.sqrt(3)/2.] *= 1\n",
      "\n",
      "eptm.junctions.line_tensions.a *= eptm.is_junction_edge.a"
     ],
     "language": "python",
     "metadata": {},
     "outputs": [],
     "prompt_number": 7
    },
    {
     "cell_type": "code",
     "collapsed": false,
     "input": [
      "ax = lj.plot_cells_zs(eptm,  text=False)"
     ],
     "language": "python",
     "metadata": {},
     "outputs": [],
     "prompt_number": 8
    },
    {
     "cell_type": "code",
     "collapsed": false,
     "input": [
      "random_cells = [cell for cell in eptm.cells if eptm.is_alive[cell]]\n",
      "np.random.shuffle(random_cells)"
     ],
     "language": "python",
     "metadata": {},
     "outputs": [],
     "prompt_number": 44
    },
    {
     "cell_type": "code",
     "collapsed": false,
     "input": [
      "for cell in eptm.cells:\n",
      "    lj.find_energy_min(eptm, tol=1e-3, approx_grad=0)"
     ],
     "language": "python",
     "metadata": {},
     "outputs": [],
     "prompt_number": 7
    },
    {
     "cell_type": "code",
     "collapsed": false,
     "input": [
      "visited_edge = eptm.is_local_edge.copy()\n",
      "visited_edge.a = 0\n",
      "eptm.graph.set_edge_filter(eptm.is_junction_edge)\n",
      "lt0 = eptm.junctions.line_tensions.fa.mean()\n",
      "eptm.graph.set_edge_filter(None)\n",
      "\n",
      "for cell in cells:\n",
      "    #if visited_cells[cell] > 0 : continue\n",
      "    eptm.set_local_mask(None)\n",
      "    eptm.set_local_mask(cell)\n",
      "    #visited_cells.a += eptm.is_local_vert.a\n",
      "    jes = [edge for edge in eptm.cells.junctions[cell]\n",
      "           if not visited_edge[edge]]\n",
      "    zetas = [zeta[edge] for edge in jes]\n",
      "    maxje = jes[np.argmax(np.abs(zetas))]\n",
      "    eptm.junctions.line_tensions[maxje] *= 2\n",
      "    visited_edge[maxje] = 1\n",
      "    lj.find_energy_min(eptm, tol=1e-3, approx_grad=0)\n",
      "    \n",
      "    \n",
      "    "
     ],
     "language": "python",
     "metadata": {},
     "outputs": [],
     "prompt_number": 41
    },
    {
     "cell_type": "code",
     "collapsed": false,
     "input": [
      "eptm.graph.set_edge_filter(eptm.is_junction_edge)\n",
      "mean_length = eptm.edge_lengths.fa.mean()\n",
      "eptm.graph.set_edge_filter(None)\n",
      "dorsal_zeds = np.arange(eptm.zeds.a.min() * 0.9,\n",
      "                        eptm.zeds.a.max() * 0.9, \n",
      "                        2.* mean_length)\n",
      "dorsal_sigmas = np.ones_like(dorsal_zeds)"
     ],
     "language": "python",
     "metadata": {},
     "outputs": [],
     "prompt_number": 7
    },
    {
     "cell_type": "code",
     "collapsed": false,
     "input": [
      "eptm.graph.set_vertex_filter(eptm.is_cell_vert)\n",
      "dorsal_cells = []\n",
      "for sigma, zed in zip(dorsal_sigmas, dorsal_zeds):\n",
      "    dorsal_cells.append(eptm.closest_vert(sigma, zed))\n",
      "    #dorsal_cells.append(eptm.closest_vert(25 * sigma, zed))\n",
      "    #dorsal_cells.append(eptm.closest_vert(-25 * sigma, zed))\n",
      "    \n",
      "eptm.graph.set_vertex_filter(None)"
     ],
     "language": "python",
     "metadata": {},
     "outputs": [],
     "prompt_number": 8
    },
    {
     "cell_type": "code",
     "collapsed": false,
     "input": [
      "figure(1)\n",
      "for dc in dorsal_cells:\n",
      "    plot(eptm.zeds[dc], eptm.sigmas[dc], 'bo')"
     ],
     "language": "python",
     "metadata": {},
     "outputs": [],
     "prompt_number": 9
    },
    {
     "cell_type": "code",
     "collapsed": false,
     "input": [
      "front_edges = []\n",
      "for cell in dorsal_cells:\n",
      "    if not eptm.is_alive[cell]: continue\n",
      "    edge0 = eptm.cells.junctions[cell][0]\n",
      "    closed, edges = lj.find_circumference(eptm, edge0)\n",
      "    front_edges.extend(edges)"
     ],
     "language": "python",
     "metadata": {},
     "outputs": [
      {
       "ename": "KeyboardInterrupt",
       "evalue": "",
       "output_type": "pyerr",
       "traceback": [
        "\u001b[1;31m---------------------------------------------------------------------------\u001b[0m\n\u001b[1;31mKeyboardInterrupt\u001b[0m                         Traceback (most recent call last)",
        "\u001b[1;32m<ipython-input-10-066d323a9a18>\u001b[0m in \u001b[0;36m<module>\u001b[1;34m()\u001b[0m\n\u001b[0;32m      3\u001b[0m     \u001b[1;32mif\u001b[0m \u001b[1;32mnot\u001b[0m \u001b[0meptm\u001b[0m\u001b[1;33m.\u001b[0m\u001b[0mis_alive\u001b[0m\u001b[1;33m[\u001b[0m\u001b[0mcell\u001b[0m\u001b[1;33m]\u001b[0m\u001b[1;33m:\u001b[0m \u001b[1;32mcontinue\u001b[0m\u001b[1;33m\u001b[0m\u001b[0m\n\u001b[0;32m      4\u001b[0m     \u001b[0medge0\u001b[0m \u001b[1;33m=\u001b[0m \u001b[0meptm\u001b[0m\u001b[1;33m.\u001b[0m\u001b[0mcells\u001b[0m\u001b[1;33m.\u001b[0m\u001b[0mjunctions\u001b[0m\u001b[1;33m[\u001b[0m\u001b[0mcell\u001b[0m\u001b[1;33m]\u001b[0m\u001b[1;33m[\u001b[0m\u001b[1;36m0\u001b[0m\u001b[1;33m]\u001b[0m\u001b[1;33m\u001b[0m\u001b[0m\n\u001b[1;32m----> 5\u001b[1;33m     \u001b[0mclosed\u001b[0m\u001b[1;33m,\u001b[0m \u001b[0medges\u001b[0m \u001b[1;33m=\u001b[0m \u001b[0mlj\u001b[0m\u001b[1;33m.\u001b[0m\u001b[0mfind_circumference\u001b[0m\u001b[1;33m(\u001b[0m\u001b[0meptm\u001b[0m\u001b[1;33m,\u001b[0m \u001b[0medge0\u001b[0m\u001b[1;33m)\u001b[0m\u001b[1;33m\u001b[0m\u001b[0m\n\u001b[0m\u001b[0;32m      6\u001b[0m     \u001b[0mfront_edges\u001b[0m\u001b[1;33m.\u001b[0m\u001b[0mextend\u001b[0m\u001b[1;33m(\u001b[0m\u001b[0medges\u001b[0m\u001b[1;33m)\u001b[0m\u001b[1;33m\u001b[0m\u001b[0m\n",
        "\u001b[1;32m/home/guillaume/Python/leg_joint/leg_joint/frontier.pyc\u001b[0m in \u001b[0;36mfind_circumference\u001b[1;34m(eptm, edge0)\u001b[0m\n\u001b[0;32m     20\u001b[0m         \u001b[0mnew_v\u001b[0m \u001b[1;33m=\u001b[0m \u001b[0mneighbs\u001b[0m\u001b[1;33m[\u001b[0m\u001b[0mnp\u001b[0m\u001b[1;33m.\u001b[0m\u001b[0margmax\u001b[0m\u001b[1;33m(\u001b[0m\u001b[0mtangent\u001b[0m\u001b[1;33m)\u001b[0m\u001b[1;33m]\u001b[0m\u001b[1;33m\u001b[0m\u001b[0m\n\u001b[0;32m     21\u001b[0m         \u001b[0mfront_verts\u001b[0m\u001b[1;33m.\u001b[0m\u001b[0mappend\u001b[0m\u001b[1;33m(\u001b[0m\u001b[0mnew_v\u001b[0m\u001b[1;33m)\u001b[0m\u001b[1;33m\u001b[0m\u001b[0m\n\u001b[1;32m---> 22\u001b[1;33m         \u001b[0mnew_e\u001b[0m \u001b[1;33m=\u001b[0m \u001b[0meptm\u001b[0m\u001b[1;33m.\u001b[0m\u001b[0many_edge\u001b[0m\u001b[1;33m(\u001b[0m\u001b[0mv1\u001b[0m\u001b[1;33m,\u001b[0m \u001b[0mnew_v\u001b[0m\u001b[1;33m)\u001b[0m\u001b[1;33m\u001b[0m\u001b[0m\n\u001b[0m\u001b[0;32m     23\u001b[0m         \u001b[0mfront_edges\u001b[0m\u001b[1;33m.\u001b[0m\u001b[0mappend\u001b[0m\u001b[1;33m(\u001b[0m\u001b[0mnew_e\u001b[0m\u001b[1;33m)\u001b[0m\u001b[1;33m\u001b[0m\u001b[0m\n\u001b[0;32m     24\u001b[0m         \u001b[0mcum_theta\u001b[0m \u001b[1;33m+=\u001b[0m \u001b[0mnp\u001b[0m\u001b[1;33m.\u001b[0m\u001b[0mabs\u001b[0m\u001b[1;33m(\u001b[0m\u001b[0meptm\u001b[0m\u001b[1;33m.\u001b[0m\u001b[0mdthetas\u001b[0m\u001b[1;33m[\u001b[0m\u001b[0mnew_e\u001b[0m\u001b[1;33m]\u001b[0m\u001b[1;33m)\u001b[0m\u001b[1;33m\u001b[0m\u001b[0m\n",
        "\u001b[1;32m/home/guillaume/Python/leg_joint/leg_joint/objects.pyc\u001b[0m in \u001b[0;36many_edge\u001b[1;34m(self, v0, v1)\u001b[0m\n\u001b[0;32m    222\u001b[0m         \u001b[0mwhether\u001b[0m \u001b[0mit\u001b[0m \u001b[0mgoes\u001b[0m \u001b[1;32mfrom\u001b[0m \u001b[0mv0\u001b[0m \u001b[0mto\u001b[0m \u001b[0mv1\u001b[0m \u001b[1;32mor\u001b[0m \u001b[1;32mfrom\u001b[0m \u001b[0mv1\u001b[0m \u001b[0mto\u001b[0m \u001b[0mv0\u001b[0m \u001b[1;32mand\u001b[0m \u001b[0mNone\u001b[0m \u001b[0motherwize\u001b[0m\u001b[1;33m\u001b[0m\u001b[0m\n\u001b[0;32m    223\u001b[0m         '''\n\u001b[1;32m--> 224\u001b[1;33m         \u001b[0me\u001b[0m \u001b[1;33m=\u001b[0m \u001b[0mself\u001b[0m\u001b[1;33m.\u001b[0m\u001b[0mgraph\u001b[0m\u001b[1;33m.\u001b[0m\u001b[0medge\u001b[0m\u001b[1;33m(\u001b[0m\u001b[0mv0\u001b[0m\u001b[1;33m,\u001b[0m \u001b[0mv1\u001b[0m\u001b[1;33m)\u001b[0m\u001b[1;33m\u001b[0m\u001b[0m\n\u001b[0m\u001b[0;32m    225\u001b[0m         \u001b[1;32mif\u001b[0m \u001b[0me\u001b[0m \u001b[1;32mis\u001b[0m \u001b[0mNone\u001b[0m\u001b[1;33m:\u001b[0m\u001b[1;33m\u001b[0m\u001b[0m\n\u001b[0;32m    226\u001b[0m             \u001b[0me\u001b[0m \u001b[1;33m=\u001b[0m \u001b[0mself\u001b[0m\u001b[1;33m.\u001b[0m\u001b[0mgraph\u001b[0m\u001b[1;33m.\u001b[0m\u001b[0medge\u001b[0m\u001b[1;33m(\u001b[0m\u001b[0mv1\u001b[0m\u001b[1;33m,\u001b[0m \u001b[0mv0\u001b[0m\u001b[1;33m)\u001b[0m\u001b[1;33m\u001b[0m\u001b[0m\n",
        "\u001b[1;32m/usr/lib/python2.7/dist-packages/graph_tool/__init__.pyc\u001b[0m in \u001b[0;36medge\u001b[1;34m(self, s, t, all_edges)\u001b[0m\n\u001b[0;32m   1114\u001b[0m         \"\"\"\n\u001b[0;32m   1115\u001b[0m         \u001b[0ms\u001b[0m \u001b[1;33m=\u001b[0m \u001b[0mself\u001b[0m\u001b[1;33m.\u001b[0m\u001b[0mvertex\u001b[0m\u001b[1;33m(\u001b[0m\u001b[0mint\u001b[0m\u001b[1;33m(\u001b[0m\u001b[0ms\u001b[0m\u001b[1;33m)\u001b[0m\u001b[1;33m)\u001b[0m\u001b[1;33m\u001b[0m\u001b[0m\n\u001b[1;32m-> 1116\u001b[1;33m         \u001b[0mt\u001b[0m \u001b[1;33m=\u001b[0m \u001b[0mself\u001b[0m\u001b[1;33m.\u001b[0m\u001b[0mvertex\u001b[0m\u001b[1;33m(\u001b[0m\u001b[0mint\u001b[0m\u001b[1;33m(\u001b[0m\u001b[0mt\u001b[0m\u001b[1;33m)\u001b[0m\u001b[1;33m)\u001b[0m\u001b[1;33m\u001b[0m\u001b[0m\n\u001b[0m\u001b[0;32m   1117\u001b[0m         \u001b[0medges\u001b[0m \u001b[1;33m=\u001b[0m \u001b[1;33m[\u001b[0m\u001b[1;33m]\u001b[0m\u001b[1;33m\u001b[0m\u001b[0m\n\u001b[0;32m   1118\u001b[0m         \u001b[1;32mfor\u001b[0m \u001b[0me\u001b[0m \u001b[1;32min\u001b[0m \u001b[0ms\u001b[0m\u001b[1;33m.\u001b[0m\u001b[0mout_edges\u001b[0m\u001b[1;33m(\u001b[0m\u001b[1;33m)\u001b[0m\u001b[1;33m:\u001b[0m\u001b[1;33m\u001b[0m\u001b[0m\n",
        "\u001b[1;31mKeyboardInterrupt\u001b[0m: "
       ]
      }
     ],
     "prompt_number": 10
    },
    {
     "cell_type": "code",
     "collapsed": false,
     "input": [
      "on_frontier_vert.a[:] = 0\n",
      "on_frontier[:] = 0\n",
      "for edge in front_edges:\n",
      "    on_frontier[edge] = 1\n",
      "    for cell in eptm.junctions.adjacent_cells[edge]:\n",
      "        on_frontier_vert[cell] = 1\n",
      "    on_frontier_vert[edge.source()] = 1\n",
      "    on_frontier_vert[edge.target()] = 1\n",
      "    excluded[edge] = 1"
     ],
     "language": "python",
     "metadata": {},
     "outputs": []
    },
    {
     "cell_type": "code",
     "collapsed": true,
     "input": [
      "eptm.graph.set_edge_filter(on_frontier)\n",
      "eptm.junctions.line_tensions.fa *= 3.\n",
      "eptm.graph.set_edge_filter(None)"
     ],
     "language": "python",
     "metadata": {},
     "outputs": [],
     "prompt_number": 60
    },
    {
     "cell_type": "code",
     "collapsed": true,
     "input": [
      "eptm.graph.set_vertex_filter(None)\n",
      "for v in eptm.graph.vertices():\n",
      "    if not (on_frontier_vert[v]\n",
      "            and eptm.is_cell_vert[v]): continue\n",
      "    eptm.set_local_mask(None)\n",
      "    eptm.set_local_mask(v)\n",
      "    lj.find_energy_min(eptm, tol=1e-3, approx_grad=0)"
     ],
     "language": "python",
     "metadata": {},
     "outputs": [],
     "prompt_number": 61
    },
    {
     "cell_type": "code",
     "collapsed": false,
     "input": [
      "eptm.graph.save('../saved_graphs/xml/polarised.xml')"
     ],
     "language": "python",
     "metadata": {},
     "outputs": [],
     "prompt_number": 63
    },
    {
     "cell_type": "code",
     "collapsed": false,
     "input": [
      "x\u00b2ax = lj.draw.plot_cells_sz(eptm, ax=None,text=False,\n",
      "                           vfilt=on_frontier_vert,\n",
      "                           efilt=on_frontier)\n",
      "eptm.update_gradient()\n",
      "lj.draw.plot_gradients(eptm, ax)"
     ],
     "language": "python",
     "metadata": {},
     "outputs": [
      {
       "output_type": "pyout",
       "prompt_number": 15,
       "text": [
        "<matplotlib.axes.AxesSubplot at 0x10d32a6c>"
       ]
      }
     ],
     "prompt_number": 15
    },
    {
     "cell_type": "code",
     "collapsed": false,
     "input": [
      "%run ../src/sandbox.py\n",
      "test = closest_vert(eptm, 5., 8., vfilt=eptm.is_cell_vert)"
     ],
     "language": "python",
     "metadata": {},
     "outputs": [],
     "prompt_number": 21
    },
    {
     "cell_type": "code",
     "collapsed": false,
     "input": [
      "print test"
     ],
     "language": "python",
     "metadata": {},
     "outputs": [
      {
       "output_type": "stream",
       "stream": "stdout",
       "text": [
        "[<Vertex object with index '38' at 0x110fd6ac>]\n"
       ]
      }
     ],
     "prompt_number": 22
    },
    {
     "cell_type": "code",
     "collapsed": false,
     "input": [
      "lj.draw.plot_cells_sz(eptm, ax=None, text=True)"
     ],
     "language": "python",
     "metadata": {},
     "outputs": [
      {
       "output_type": "pyout",
       "prompt_number": 23,
       "text": [
        "<matplotlib.axes.AxesSubplot at 0x11194b2c>"
       ]
      }
     ],
     "prompt_number": 23
    },
    {
     "cell_type": "code",
     "collapsed": false,
     "input": [
      "apopt_list = [392, 39, 54, 221, 335, 52, 8, 38, 344, 22]\n",
      "apopototic_cells = [eptm.graph.vertex(idx) for idx in apopt_list]\n",
      "for apoptotic_cell in apopototic_cells:\n",
      "    eptm.set_local_mask(None)\n",
      "    eptm.set_local_mask(apoptotic_cell)\n",
      "    eptm.cells.prefered_area[apoptotic_cell] = 0.05\n",
      "    eptm.cells.contractilities[apoptotic_cell] *= 2.\n",
      "    eptm.find_energy_min()\n",
      "    "
     ],
     "language": "python",
     "metadata": {},
     "outputs": []
    },
    {
     "cell_type": "code",
     "collapsed": false,
     "input": [
      "eptm.graph.save('../saved_graphs/xml/joint_formation2.xml')"
     ],
     "language": "python",
     "metadata": {},
     "outputs": [],
     "prompt_number": 47
    },
    {
     "cell_type": "code",
     "collapsed": false,
     "input": [
      "%run ../src/graph_representation.py"
     ],
     "language": "python",
     "metadata": {},
     "outputs": [],
     "prompt_number": 37
    },
    {
     "cell_type": "code",
     "collapsed": false,
     "input": [
      "plot_cells_sz(eptm, ax=None, text=False)"
     ],
     "language": "python",
     "metadata": {},
     "outputs": [
      {
       "output_type": "pyout",
       "prompt_number": 46,
       "text": [
        "<matplotlib.axes.AxesSubplot at 0x33284a4c>"
       ]
      }
     ],
     "prompt_number": 46
    },
    {
     "cell_type": "code",
     "collapsed": false,
     "input": [
      "# This is now implemented\n",
      "\n",
      "on_frontier_vert = eptm.graph.new_vertex_property(\"bool\")\n",
      "on_frontier = eptm.graph.new_edge_property(\"bool\")\n",
      "on_frontier.a[:] = 0\n",
      "edge0 = eptm.any_edge(695, 699)\n",
      "\n",
      "print edge0\n",
      "eptm.graph.set_edge_filter(eptm.is_junction_edge)\n",
      "\n",
      "front_verts = [edge0.source(), edge0.target()]\n",
      "ref_jv = edge0.source()\n",
      "front_edges = [edge0]\n",
      "cum_theta = eptm.dthetas[edge0]\n",
      "\n",
      "while cum_theta < 2 * np.pi:\n",
      "    \n",
      "    v0 = front_verts[-2]\n",
      "    v1 = front_verts[-1]\n",
      "    neighbs = [jv for jv in v1.all_neighbours() if jv != v0]\n",
      "    sigmas = np.array([eptm.sigmas[jv] for jv in neighbs])\n",
      "    zeds = np.array([eptm.zeds[jv] for jv in neighbs])\n",
      "    tangent = np.abs((sigmas - eptm.sigmas[v0])\n",
      "                    / (zeds - eptm.zeds[v0]))\n",
      "    new_v = neighbs[argmax(tangent)]\n",
      "    front_verts.append(new_v)\n",
      "    new_e = eptm.any_edge(v1, new_v)\n",
      "    front_edges.append(new_e)\n",
      "    cum_theta += np.abs(eptm.dthetas[new_e]) \n",
      "    on_frontier[new_e] = 1\n",
      "    \n",
      "last_edge = eptm.any_edge(front_verts[0], front_verts[-1])\n",
      "if last_edge is not None:\n",
      "    front_edges.append(last_edge)\n",
      "    on_frontier[last_edge] = 1\n",
      "    \n",
      "eptm.graph.set_edge_filter(None)\n"
     ],
     "language": "python",
     "metadata": {},
     "outputs": []
    }
   ],
   "metadata": {}
  }
 ]
}