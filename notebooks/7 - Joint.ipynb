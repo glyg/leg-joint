{
 "metadata": {
  "name": "7 - Joint"
 },
 "nbformat": 3,
 "nbformat_minor": 0,
 "worksheets": [
  {
   "cells": [
    {
     "cell_type": "code",
     "collapsed": false,
     "input": [
      "%load_ext autoreload\n",
      "%autoreload 2\n"
     ],
     "language": "python",
     "metadata": {},
     "outputs": [],
     "prompt_number": 2
    },
    {
     "cell_type": "code",
     "collapsed": false,
     "input": [
      "%run nb_init.py\n",
      "from joint import *"
     ],
     "language": "python",
     "metadata": {},
     "outputs": [
      {
       "output_type": "stream",
       "stream": "stderr",
       "text": [
        "/usr/local/lib/python2.7/dist-packages/matplotlib-1.4.x-py2.7-linux-i686.egg/mpl_toolkits/__init__.py:2: UserWarning: Module dateutil was already imported from /usr/local/lib/python2.7/dist-packages/matplotlib-1.4.x-py2.7-linux-i686.egg/dateutil/__init__.pyc, but /usr/lib/python2.7/dist-packages is being added to sys.path\n",
        "  __import__('pkg_resources').declare_namespace(__name__)\n"
       ]
      }
     ],
     "prompt_number": 3
    },
    {
     "cell_type": "code",
     "collapsed": false,
     "input": [
      "eptm = lj.Epithelium(graphXMLfile='../saved_graphs/xml/before_apoptosis.xml',\n",
      "                     paramfile='../default/params.xml')\n",
      "\n",
      "#eptm = lj.Epithelium(graphXMLfile='../saved_graphs/xml/squeezed2.5.xml',\n",
      "#                     paramfile='../default/params.xml')\n"
     ],
     "language": "python",
     "metadata": {},
     "outputs": [
      {
       "ename": "SyntaxError",
       "evalue": "EOL while scanning string literal (<ipython-input-64-78c6cdbac9d7>, line 1)",
       "output_type": "pyerr",
       "traceback": [
        "\u001b[1;36m  File \u001b[1;32m\"<ipython-input-64-78c6cdbac9d7>\"\u001b[1;36m, line \u001b[1;32m1\u001b[0m\n\u001b[1;33m    eptm = lj.Epithelium(graphXMLfile='../saved_graphs/xml/before_apoptosis.xml'',\u001b[0m\n\u001b[1;37m                                                                                 ^\u001b[0m\n\u001b[1;31mSyntaxError\u001b[0m\u001b[1;31m:\u001b[0m EOL while scanning string literal\n"
       ]
      }
     ],
     "prompt_number": 64
    },
    {
     "cell_type": "code",
     "collapsed": false,
     "input": [
      "apopto_cells = get_apoptotic_cells(eptm, seed=3, z0=0., width_apopto=1.4, p0=0.8, amp=0.75)"
     ],
     "language": "python",
     "metadata": {},
     "outputs": [
      {
       "output_type": "stream",
       "stream": "stdout",
       "text": [
        "Number of apoptotic cells: 30\n"
       ]
      }
     ],
     "prompt_number": 70
    },
    {
     "cell_type": "code",
     "collapsed": false,
     "input": [
      "apopto_sequence = get_sequence(apopto_cells, num_steps=10)\n",
      "\n",
      "mean_rho = eptm.rhos.a.mean()\n",
      "thetas = np.linspace(0, 2 * np.pi, 60)\n",
      "fig, ax = plt.subplots()\n",
      "num_rows = 12\n",
      "delta = 60.\n",
      "for n, cells in enumerate(apopto_sequence[1:]):\n",
      "    \n",
      "    if len(cells) == 0: break\n",
      "    dx = + (n % num_rows) * delta\n",
      "    dy = - (n // num_rows) * delta\n",
      "    ax.plot(mean_rho * np.cos(thetas) + dx,\n",
      "            mean_rho * np.sin(thetas) + dy, 'k-', alpha=0.4)\n",
      "    ax.text(dx, dy, str(n + 1), fontsize=10)\n",
      "    for cell in cells:\n",
      "        ax.plot(eptm.wys[cell] + dx, eptm.ixs[cell] + dy, 'ro', alpha=0.5)\n",
      "ax.set_aspect('equal')\n",
      "ax.set_xticks([])\n",
      "ax.set_yticks([])\n",
      "dx = + ((n + 1) % num_rows) * delta\n",
      "dy = - ((n + 1) // num_rows) * delta\n",
      "\n",
      "ax.plot(mean_rho * np.cos(thetas) + dx,\n",
      "        mean_rho * np.sin(thetas) + dy, 'k-', alpha=0.4)\n",
      "ax.text(dx, dy, 'all', fontsize=10)\n",
      "for cell in apopto_cells:\n",
      "    ax.plot(eptm.wys[cell] + dx, eptm.ixs[cell] + dy, 'ko', alpha=0.7)\n",
      "ax.set_title('Sequence of apoptoses around the joint')"
     ],
     "language": "python",
     "metadata": {},
     "outputs": [
      {
       "metadata": {},
       "output_type": "pyout",
       "prompt_number": 71,
       "text": [
        "<matplotlib.text.Text at 0xc6dccec>"
       ]
      }
     ],
     "prompt_number": 71
    },
    {
     "cell_type": "code",
     "collapsed": false,
     "input": [
      "anisotropies, alignments = eptm.cells.get_anisotropies()\n",
      "\n",
      "eptm.graph.set_vertex_filter(eptm.is_cell_vert)\n",
      "fig, ax = plt.subplots()\n",
      "ax.plot(eptm.zeds.fa, anisotropies.fa, 'ro', alpha=0.5)\n",
      "eptm.graph.set_vertex_filter(None)"
     ],
     "language": "python",
     "metadata": {},
     "outputs": [],
     "prompt_number": 13
    },
    {
     "cell_type": "code",
     "collapsed": false,
     "input": [
      "gradual_apoptosis(eptm, apopto_cells, num_steps=10,\n",
      "                  vol_reduction=1.05,\n",
      "                  contractility=1.2,\n",
      "                  radial_tension=0.02, pola=False)"
     ],
     "language": "python",
     "metadata": {},
     "outputs": [
      {
       "output_type": "stream",
       "stream": "stdout",
       "text": [
        "300 steps will be performed\n",
        "new vertex 2834"
       ]
      },
      {
       "output_type": "stream",
       "stream": "stdout",
       "text": [
        "\n",
        "new vertex 2835"
       ]
      },
      {
       "output_type": "stream",
       "stream": "stdout",
       "text": [
        "\n",
        "new vertex 2836"
       ]
      },
      {
       "output_type": "stream",
       "stream": "stdout",
       "text": [
        "\n",
        "new vertex 2837"
       ]
      },
      {
       "output_type": "stream",
       "stream": "stdout",
       "text": [
        "\n",
        "new vertex 2838"
       ]
      },
      {
       "output_type": "stream",
       "stream": "stdout",
       "text": [
        "\n",
        "new vertex 2839"
       ]
      },
      {
       "output_type": "stream",
       "stream": "stdout",
       "text": [
        "\n",
        "new vertex 2840"
       ]
      },
      {
       "output_type": "stream",
       "stream": "stdout",
       "text": [
        "\n",
        "new vertex 2841"
       ]
      },
      {
       "output_type": "stream",
       "stream": "stdout",
       "text": [
        "\n",
        "new vertex 2842"
       ]
      },
      {
       "output_type": "stream",
       "stream": "stdout",
       "text": [
        "\n",
        "new vertex 2843"
       ]
      },
      {
       "output_type": "stream",
       "stream": "stdout",
       "text": [
        "\n",
        "new vertex 2844"
       ]
      },
      {
       "output_type": "stream",
       "stream": "stdout",
       "text": [
        "\n",
        "new vertex 2845"
       ]
      },
      {
       "output_type": "stream",
       "stream": "stdout",
       "text": [
        "\n",
        "new vertex 2846"
       ]
      },
      {
       "output_type": "stream",
       "stream": "stdout",
       "text": [
        "\n",
        "new vertex 2847"
       ]
      },
      {
       "output_type": "stream",
       "stream": "stdout",
       "text": [
        "\n",
        "new vertex 2848"
       ]
      },
      {
       "output_type": "stream",
       "stream": "stdout",
       "text": [
        "\n",
        "new vertex 2849"
       ]
      },
      {
       "output_type": "stream",
       "stream": "stdout",
       "text": [
        "\n",
        "new vertex 2850"
       ]
      },
      {
       "output_type": "stream",
       "stream": "stdout",
       "text": [
        "\n",
        "new vertex 2851"
       ]
      },
      {
       "output_type": "stream",
       "stream": "stdout",
       "text": [
        "\n",
        "new vertex 2852"
       ]
      },
      {
       "output_type": "stream",
       "stream": "stdout",
       "text": [
        "\n",
        "new vertex 2853"
       ]
      },
      {
       "output_type": "stream",
       "stream": "stdout",
       "text": [
        "\n",
        "new vertex 2854"
       ]
      },
      {
       "output_type": "stream",
       "stream": "stdout",
       "text": [
        "\n",
        "new vertex 2855"
       ]
      },
      {
       "output_type": "stream",
       "stream": "stdout",
       "text": [
        "\n",
        "new vertex 2856"
       ]
      },
      {
       "output_type": "stream",
       "stream": "stdout",
       "text": [
        "\n",
        "new vertex 2857"
       ]
      },
      {
       "output_type": "stream",
       "stream": "stdout",
       "text": [
        "\n",
        "new vertex 2858"
       ]
      },
      {
       "output_type": "stream",
       "stream": "stdout",
       "text": [
        "\n",
        "new vertex 2859"
       ]
      },
      {
       "output_type": "stream",
       "stream": "stdout",
       "text": [
        "\n",
        "new vertex 2860"
       ]
      },
      {
       "output_type": "stream",
       "stream": "stdout",
       "text": [
        "\n",
        "new vertex 2861"
       ]
      },
      {
       "output_type": "stream",
       "stream": "stdout",
       "text": [
        "\n",
        "new vertex 2862"
       ]
      },
      {
       "output_type": "stream",
       "stream": "stdout",
       "text": [
        "\n",
        "new vertex 2863"
       ]
      },
      {
       "output_type": "stream",
       "stream": "stdout",
       "text": [
        "\n"
       ]
      }
     ],
     "prompt_number": 72
    },
    {
     "cell_type": "code",
     "collapsed": false,
     "input": [
      "eptm.set_local_mask(None)\n",
      "eptm.set_local_mask(apopto_cells[0])\n"
     ],
     "language": "python",
     "metadata": {},
     "outputs": [],
     "prompt_number": 18
    },
    {
     "cell_type": "code",
     "collapsed": false,
     "input": [
      "lj.plot_ortho_proj(eptm, vfilt=eptm.is_local_vert, efilt=eptm.is_local_edge)"
     ],
     "language": "python",
     "metadata": {},
     "outputs": [
      {
       "metadata": {},
       "output_type": "pyout",
       "prompt_number": 19,
       "text": [
        "(<matplotlib.axes.AxesSubplot at 0xe87e6ec>,\n",
        " <matplotlib.axes.Axes at 0xebd8dcc>,\n",
        " <matplotlib.axes.Axes at 0xebae28c>)"
       ]
      }
     ],
     "prompt_number": 19
    },
    {
     "cell_type": "code",
     "collapsed": false,
     "input": [
      "cells = [cell for cell in eptm.cells if eptm.is_alive[cell]] \n",
      "np.random.shuffle(cells)\n",
      "for cell in cells:\n",
      "    eptm.set_local_mask(None)\n",
      "    eptm.set_local_mask(cell)\n",
      "    lj.find_energy_min(eptm)"
     ],
     "language": "python",
     "metadata": {},
     "outputs": [],
     "prompt_number": 28
    },
    {
     "cell_type": "code",
     "collapsed": false,
     "input": [
      "eptm.graph.save('../saved_graphs/xml/after_apoptosis_poraized.xml')"
     ],
     "language": "python",
     "metadata": {},
     "outputs": [],
     "prompt_number": 27
    },
    {
     "cell_type": "code",
     "collapsed": false,
     "input": [
      "lj.local_slice(eptm, theta_c=0., zed_c=0, theta_amp=3.14/3, zed_amp=5)"
     ],
     "language": "python",
     "metadata": {},
     "outputs": [],
     "prompt_number": 47
    },
    {
     "cell_type": "code",
     "collapsed": false,
     "input": [
      "lj.plot_ortho_proj(eptm, vfilt=eptm.is_local_vert, efilt=eptm.is_local_edge, text=False)"
     ],
     "language": "python",
     "metadata": {},
     "outputs": [
      {
       "metadata": {},
       "output_type": "pyout",
       "prompt_number": 48,
       "text": [
        "(<matplotlib.axes.AxesSubplot at 0x1eae784c>,\n",
        " <matplotlib.axes.Axes at 0x1f07204c>,\n",
        " <matplotlib.axes.Axes at 0x1f0dfc4c>)"
       ]
      }
     ],
     "prompt_number": 48
    },
    {
     "cell_type": "code",
     "collapsed": false,
     "input": [
      "figure(); plot(eptm.rhos.fa)"
     ],
     "language": "python",
     "metadata": {},
     "outputs": [
      {
       "metadata": {},
       "output_type": "pyout",
       "prompt_number": 50,
       "text": [
        "[<matplotlib.lines.Line2D at 0x156be84c>]"
       ]
      }
     ],
     "prompt_number": 50
    },
    {
     "cell_type": "code",
     "collapsed": false,
     "input": [
      "lj.draw(eptm)"
     ],
     "language": "python",
     "metadata": {},
     "outputs": [
      {
       "ename": "Error",
       "evalue": "invalid matrix (not invertible)",
       "output_type": "pyerr",
       "traceback": [
        "\u001b[1;31m---------------------------------------------------------------------------\u001b[0m\n\u001b[1;31mError\u001b[0m                                     Traceback (most recent call last)",
        "\u001b[1;32m<ipython-input-51-c5aafa980242>\u001b[0m in \u001b[0;36m<module>\u001b[1;34m()\u001b[0m\n\u001b[1;32m----> 1\u001b[1;33m \u001b[0mlj\u001b[0m\u001b[1;33m.\u001b[0m\u001b[0mdraw\u001b[0m\u001b[1;33m(\u001b[0m\u001b[0meptm\u001b[0m\u001b[1;33m)\u001b[0m\u001b[1;33m\u001b[0m\u001b[0m\n\u001b[0m",
        "\u001b[1;32m/home/guillaume/Python/leg_joint/leg_joint/graph_representation.pyc\u001b[0m in \u001b[0;36mepithelium_draw\u001b[1;34m(eptm, z_angle, d_theta, output3d, output2d, verbose)\u001b[0m\n\u001b[0;32m    524\u001b[0m                          \u001b[0mvertex_size\u001b[0m\u001b[1;33m=\u001b[0m\u001b[0mvertex_size\u001b[0m\u001b[1;33m,\u001b[0m\u001b[1;33m\u001b[0m\u001b[0m\n\u001b[0;32m    525\u001b[0m                          \u001b[0mvorder\u001b[0m\u001b[1;33m=\u001b[0m\u001b[0mvorder\u001b[0m\u001b[1;33m,\u001b[0m \u001b[0meorder\u001b[0m\u001b[1;33m=\u001b[0m\u001b[0meorder\u001b[0m\u001b[1;33m,\u001b[0m\u001b[1;33m\u001b[0m\u001b[0m\n\u001b[1;32m--> 526\u001b[1;33m                          output=output3d)\n\u001b[0m\u001b[0;32m    527\u001b[0m     \u001b[1;32mif\u001b[0m \u001b[0mverbose\u001b[0m\u001b[1;33m:\u001b[0m \u001b[1;32mprint\u001b[0m \u001b[1;34m'saved tissue to %s'\u001b[0m \u001b[1;33m%\u001b[0m \u001b[0moutput3d\u001b[0m\u001b[1;33m\u001b[0m\u001b[0m\n\u001b[0;32m    528\u001b[0m \u001b[1;33m\u001b[0m\u001b[0m\n",
        "\u001b[1;32m/usr/lib/python2.7/dist-packages/graph_tool/draw/cairo_draw.pyc\u001b[0m in \u001b[0;36mgraph_draw\u001b[1;34m(g, pos, vprops, eprops, vorder, eorder, nodesfirst, output_size, fit_view, output, fmt, **kwargs)\u001b[0m\n\u001b[0;32m    826\u001b[0m             \u001b[0mcr\u001b[0m\u001b[1;33m.\u001b[0m\u001b[0mpaint\u001b[0m\u001b[1;33m(\u001b[0m\u001b[1;33m)\u001b[0m\u001b[1;33m\u001b[0m\u001b[0m\n\u001b[0;32m    827\u001b[0m \u001b[1;33m\u001b[0m\u001b[0m\n\u001b[1;32m--> 828\u001b[1;33m         \u001b[0mcr\u001b[0m\u001b[1;33m.\u001b[0m\u001b[0mtranslate\u001b[0m\u001b[1;33m(\u001b[0m\u001b[0moffset\u001b[0m\u001b[1;33m[\u001b[0m\u001b[1;36m0\u001b[0m\u001b[1;33m]\u001b[0m\u001b[1;33m,\u001b[0m \u001b[0moffset\u001b[0m\u001b[1;33m[\u001b[0m\u001b[1;36m1\u001b[0m\u001b[1;33m]\u001b[0m\u001b[1;33m)\u001b[0m\u001b[1;33m\u001b[0m\u001b[0m\n\u001b[0m\u001b[0;32m    829\u001b[0m         \u001b[0mcr\u001b[0m\u001b[1;33m.\u001b[0m\u001b[0mscale\u001b[0m\u001b[1;33m(\u001b[0m\u001b[0mzoom\u001b[0m\u001b[1;33m,\u001b[0m \u001b[0mzoom\u001b[0m\u001b[1;33m)\u001b[0m\u001b[1;33m\u001b[0m\u001b[0m\n\u001b[0;32m    830\u001b[0m \u001b[1;33m\u001b[0m\u001b[0m\n",
        "\u001b[1;31mError\u001b[0m: invalid matrix (not invertible)"
       ]
      }
     ],
     "prompt_number": 51
    },
    {
     "cell_type": "code",
     "collapsed": false,
     "input": [
      "eptm = lj.Epithelium('../saved_graphs/xml/after_apoptosis_polarized2.5.xml',\n",
      "                     paramfile='../default/params.xml')"
     ],
     "language": "python",
     "metadata": {},
     "outputs": [],
     "prompt_number": 52
    },
    {
     "cell_type": "code",
     "collapsed": false,
     "input": [
      "anisotropies = eptm.cells.get_anisotropies()\n",
      "eptm.graph.set_vertex_filter(eptm.is_cell_vert)\n",
      "fig, ax = plt.subplots()\n",
      "ax.plot(eptm.zeds.fa, anisotropies.fa, 'ro', alpha=0.5)\n",
      "eptm.graph.set_vertex_filter(None)"
     ],
     "language": "python",
     "metadata": {},
     "outputs": [
      {
       "output_type": "stream",
       "stream": "stderr",
       "text": [
        "[autoreload of leg_joint.graph_representation failed: Traceback (most recent call last):\n",
        "  File \"/usr/local/lib/python2.7/dist-packages/IPython/extensions/autoreload.py\", line 229, in check\n",
        "    superreload(m, reload, self.old_objects)\n",
        "ImportError: cannot import name Polygon\n",
        "]\n"
       ]
      }
     ],
     "prompt_number": 53
    },
    {
     "cell_type": "code",
     "collapsed": false,
     "input": [],
     "language": "python",
     "metadata": {},
     "outputs": []
    }
   ],
   "metadata": {}
  }
 ]
}