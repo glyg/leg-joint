{
 "metadata": {
  "name": "7 - Joint"
 },
 "nbformat": 3,
 "nbformat_minor": 0,
 "worksheets": [
  {
   "cells": [
    {
     "cell_type": "code",
     "collapsed": false,
     "input": [
      "%run nb_init.py\n",
      "eptm = lj.Epithelium(graphXMLfile='../saved_graphs/xml/latest.xml',\n",
      "                     paramfile='../default/params.xml')"
     ],
     "language": "python",
     "metadata": {},
     "outputs": [
      {
       "output_type": "stream",
       "stream": "stderr",
       "text": [
        "/usr/local/lib/python2.7/dist-packages/mpl_toolkits/__init__.py:2: UserWarning: Module dateutil was already imported from /usr/local/lib/python2.7/dist-packages/dateutil/__init__.pyc, but /usr/lib/python2.7/dist-packages is being added to sys.path\n",
        "  __import__('pkg_resources').declare_namespace(__name__)\n"
       ]
      }
     ],
     "prompt_number": 1
    },
    {
     "cell_type": "code",
     "collapsed": false,
     "input": [
      "lj.optimizers.isotropic_optimum(eptm, 1e-6)"
     ],
     "language": "python",
     "metadata": {},
     "outputs": [],
     "prompt_number": 2
    },
    {
     "cell_type": "code",
     "collapsed": false,
     "input": [
      "axes = lj.plot_ortho_proj(eptm)#, j_text=True)#, vfilt=eptm.is_local_vert, efilt=eptm.is_local_edge)"
     ],
     "language": "python",
     "metadata": {},
     "outputs": [],
     "prompt_number": 2
    },
    {
     "cell_type": "code",
     "collapsed": false,
     "input": [
      "eptm.closest_vert(0,10)"
     ],
     "language": "python",
     "metadata": {},
     "outputs": [
      {
       "output_type": "pyout",
       "prompt_number": 4,
       "text": [
        "<Vertex object with index '679' at 0x9c05f2c>"
       ]
      }
     ],
     "prompt_number": 4
    },
    {
     "cell_type": "code",
     "collapsed": false,
     "input": [
      "central_cells = []\n",
      "for cell in eptm.cells:\n",
      "    if not eptm.is_alive[cell]: continue\n",
      "    if 12. < eptm.zeds[cell] < 14.:\n",
      "        \n",
      "        central_cells.append(cell)\n",
      "        \n",
      "print len(central_cells)"
     ],
     "language": "python",
     "metadata": {},
     "outputs": [
      {
       "output_type": "stream",
       "stream": "stdout",
       "text": [
        "19\n"
       ]
      }
     ],
     "prompt_number": 23
    },
    {
     "cell_type": "code",
     "collapsed": false,
     "input": [
      "for cell in central_cells:\n",
      "    ax.plot(eptm.zeds[cell], eptm.sigmas[cell], 'ko')\n",
      "plt.draw()"
     ],
     "language": "python",
     "metadata": {},
     "outputs": [],
     "prompt_number": 24
    },
    {
     "cell_type": "code",
     "collapsed": false,
     "input": [
      "apopototic_cells = central_cells\n",
      "for ac in apopototic_cells:\n",
      "    eptm.set_local_mask(None)\n",
      "    eptm.set_local_mask(ac)\n",
      "    eptm.cells.prefered_area[ac] = 0.05\n",
      "    eptm.cells.contractilities[ac] *= 2.\n",
      "    eptm.find_energy_min()\n",
      "    eptm.is_alive[ac] = 0\n"
     ],
     "language": "python",
     "metadata": {},
     "outputs": [
      {
       "output_type": "stream",
       "stream": "stdout",
       "text": [
        "rotated\n"
       ]
      }
     ],
     "prompt_number": 25
    },
    {
     "cell_type": "code",
     "collapsed": false,
     "input": [
      "lj.draw.plot_cells_sz(eptm, text=False)"
     ],
     "language": "python",
     "metadata": {},
     "outputs": [
      {
       "output_type": "pyout",
       "prompt_number": 11,
       "text": [
        "<matplotlib.axes.AxesSubplot at 0xe1e2aec>"
       ]
      }
     ],
     "prompt_number": 11
    },
    {
     "cell_type": "code",
     "collapsed": false,
     "input": [
      "# eptm.graph.save('../saved_graphs/xml/joint_formation3.xml')"
     ],
     "language": "python",
     "metadata": {},
     "outputs": [],
     "prompt_number": 29
    },
    {
     "cell_type": "code",
     "collapsed": false,
     "input": [
      "%run nb_init.py\n",
      "eptm = lj.Epithelium(graphXMLfile='../saved_graphs/xml/joint_formation3.xml',\n",
      "                  paramfile='../default/few_big_cells.xml')"
     ],
     "language": "python",
     "metadata": {},
     "outputs": [
      {
       "output_type": "stream",
       "stream": "stdout",
       "text": [
        "/home/guillaume/Python\n",
        "Initial cells"
       ]
      },
      {
       "output_type": "stream",
       "stream": "stdout",
       "text": [
        "\n",
        "Initial junctions\n",
        "Scaling all the distances by a factor 0.987\n"
       ]
      }
     ],
     "prompt_number": 1
    },
    {
     "cell_type": "code",
     "collapsed": false,
     "input": [
      "%run ../src/sandbox.py\n",
      "edge_zeds, edge_sigmas, edge_rhos, raw_dsigmas = create_properties(eptm)"
     ],
     "language": "python",
     "metadata": {},
     "outputs": [],
     "prompt_number": 2
    },
    {
     "cell_type": "code",
     "collapsed": false,
     "input": [
      "eptm.set_vertex_state([(eptm.is_cell_vert, False),\n",
      "                       (eptm.is_alive, False)])\n",
      "\n",
      "H, xe, ye = np.histogram2d(eptm.zeds.fa, eptm.cells.areas.fa, bins=(10, 10))\n",
      "fig, axes = plt.subplots(2, 1, sharex=True)\n",
      "axes[0].plot(eptm.zeds.fa, eptm.cells.areas.fa, 'o', alpha=0.8)\n",
      "axes[0].pcolor(xe, ye, H.T)\n",
      "x_w = (xe[1] - xe[0])\n",
      "y_w = (ye[1] - ye[0])\n",
      "\n",
      "x_center = xe[:-1] + x_w/ 2.\n",
      "y_center = ye[:-1] + y_w/ 2.\n",
      "\n",
      "axes[0].plot(x_center, (H * y_center).sum(axis=1) / H.sum(axis=1), 'ko')\n",
      "\n",
      "eq_area = eptm.cells.areas.fa.mean()\n",
      "scaling = (H * y_center).sum(axis=1) / (H.sum(axis=1) * eq_area)\n",
      "\n",
      "axes[1].plot(x_center, scaling, 'ko')\n",
      "tck_area_vs_zed, H_area_vs_zed = compute_distribution(eptm.zeds.fa, eptm.cells.areas.fa,\n",
      "                                                      bins=(20, 20), smth=3)\n",
      "axes[1].plot(eptm.zeds.fa, splev(eptm.zeds.fa, tck_area_vs_zed) / eq_area, 'k+')\n",
      "axes[1].axis((eptm.zeds.fa.min(), eptm.zeds.fa.max(), 0, 2.))\n",
      "\n",
      "eptm.graph.set_vertex_filter(None)\n",
      "eptm.graph.set_edge_filter(None)\n",
      "z_dilation = np.sqrt(splev(eptm.zeds.a, tck_area_vs_zed) / eq_area)"
     ],
     "language": "python",
     "metadata": {},
     "outputs": [
      {
       "output_type": "stream",
       "stream": "stdout",
       "text": [
        "bin width = 8.191\n"
       ]
      }
     ],
     "prompt_number": 3
    },
    {
     "cell_type": "code",
     "collapsed": false,
     "input": [
      "axes[1].plot(eptm.zeds.a, z_dilation, 'o')"
     ],
     "language": "python",
     "metadata": {},
     "outputs": [
      {
       "output_type": "pyout",
       "prompt_number": 4,
       "text": [
        "[<matplotlib.lines.Line2D at 0x9e203ec>]"
       ]
      }
     ],
     "prompt_number": 4
    },
    {
     "cell_type": "code",
     "collapsed": false,
     "input": [
      "eptm.rhos.a /= z_dilation\n",
      "eptm.zeds.a /= z_dilation\n",
      "eptm.sigmas.a = eptm.thetas.a * eptm.rhos.a\n",
      "eptm.update_apical_geom()"
     ],
     "language": "python",
     "metadata": {},
     "outputs": [],
     "prompt_number": 5
    },
    {
     "cell_type": "code",
     "collapsed": false,
     "input": [
      "np.allclose?"
     ],
     "language": "python",
     "metadata": {},
     "outputs": [],
     "prompt_number": 2
    },
    {
     "cell_type": "code",
     "collapsed": false,
     "input": [
      "efilt = eptm.at_boundary.copy()\n",
      "efilt.a = (1 - eptm.at_boundary.a)\n",
      "lj.draw.plot_cells_sz(eptm, text=False, efilt=efilt)"
     ],
     "language": "python",
     "metadata": {},
     "outputs": [
      {
       "output_type": "pyout",
       "prompt_number": 8,
       "text": [
        "<matplotlib.axes.AxesSubplot at 0xd7e69ac>"
       ]
      }
     ],
     "prompt_number": 8
    },
    {
     "cell_type": "code",
     "collapsed": false,
     "input": [
      "lj.draw.epithelium_draw(eptm, d_theta=0.8, output3d='tissue3d.png')"
     ],
     "language": "python",
     "metadata": {},
     "outputs": [],
     "prompt_number": 6
    },
    {
     "cell_type": "code",
     "collapsed": false,
     "input": [
      "eptm.graph.save('../saved_graphs/xml/joint_formation_area_dependant.xml')"
     ],
     "language": "python",
     "metadata": {},
     "outputs": [],
     "prompt_number": 20
    }
   ],
   "metadata": {}
  }
 ]
}