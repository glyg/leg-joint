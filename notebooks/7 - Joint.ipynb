{
 "metadata": {
  "name": ""
 },
 "nbformat": 3,
 "nbformat_minor": 0,
 "worksheets": [
  {
   "cells": [
    {
     "cell_type": "code",
     "collapsed": false,
     "input": [
      "%load_ext autoreload\n",
      "%autoreload 2\n"
     ],
     "language": "python",
     "metadata": {},
     "outputs": [],
     "prompt_number": 1
    },
    {
     "cell_type": "code",
     "collapsed": false,
     "input": [
      "%run nb_init.py\n",
      "from joint import *"
     ],
     "language": "python",
     "metadata": {},
     "outputs": [],
     "prompt_number": 2
    },
    {
     "cell_type": "code",
     "collapsed": false,
     "input": [
      "eptm = lj.Epithelium(graphXMLfile='../saved_graphs/xml/before_apoptosis.xml',#\n",
      "                     paramfile='../default/params.xml')\n",
      "eptm.isotropic_relax()\n",
      "\n",
      "\n",
      "#eptm = lj.Epithelium(graphXMLfile=after_apopto,#\n",
      "#                     paramfile='../default/params.xml')\n",
      "   \n",
      "#eptm = lj.Epithelium(graphXMLfile='../saved_graphs/xml/squeezed2.5.xml',\n",
      "#                     paramfile='../default/params.xml')\n",
      "\n",
      "#lj.running_local_optimum(eptm, 1e-3)\n",
      "#eptm.graph.save('../saved_graphs/xml/before_apoptosis.xml')"
     ],
     "language": "python",
     "metadata": {},
     "outputs": [],
     "prompt_number": 3
    },
    {
     "cell_type": "code",
     "collapsed": false,
     "input": [
      "#lj.running_local_optimum(eptm, 1e-3)\n",
      "eptm.graph.save('../saved_graphs/xml/before_apoptosis.xml')"
     ],
     "language": "python",
     "metadata": {},
     "outputs": [],
     "prompt_number": 4
    },
    {
     "cell_type": "code",
     "collapsed": false,
     "input": [
      "avg_dists = []\n",
      "for cell in eptm.cells:\n",
      "    neighbs = eptm.cells.get_neighbor_cells(cell)\n",
      "    \n",
      "    xyz = np.array([[eptm.ixs[n] - eptm.ixs[cell], \n",
      "                     eptm.wys[n] - eptm.wys[cell], \n",
      "                     eptm.zeds[n] - eptm.zeds[cell]]\n",
      "                     for n in neighbs])\n",
      "    if not len(xyz):\n",
      "        continue\n",
      "    avg_dist = np.sqrt((xyz**2).sum(axis=1)).mean()\n",
      "    avg_dists.append(avg_dist)\n",
      "avg_dists = np.array(avg_dists)\n",
      "num_sigma = 2*np.pi*eptm.rhos.a.mean() / avg_dists.mean()\n",
      "print('Number of cells around the leg: %.1f' % num_sigma) "
     ],
     "language": "python",
     "metadata": {},
     "outputs": [
      {
       "output_type": "stream",
       "stream": "stdout",
       "text": [
        "Number of cells around the leg: 50.6\n"
       ]
      }
     ],
     "prompt_number": 4
    },
    {
     "cell_type": "code",
     "collapsed": false,
     "input": [
      "thetas = np.linspace(-np.pi, np.pi, 8)\n",
      "fig, ax = plt.subplots()\n",
      "ax.plot(thetas, p_apopto(0, thetas,\n",
      "                         width_apopto=1.8,\n",
      "                         p0=0.7, amp=0.6))\n",
      "ax.set_ylim(0, 1)"
     ],
     "language": "python",
     "metadata": {},
     "outputs": [
      {
       "metadata": {},
       "output_type": "pyout",
       "prompt_number": 61,
       "text": [
        "(0, 1)"
       ]
      },
      {
       "metadata": {},
       "output_type": "display_data",
       "png": "[encoded data removed]",
       "text": [
        "<matplotlib.figure.Figure at 0x9ad0720c>"
       ]
      }
     ],
     "prompt_number": 61
    },
    {
     "cell_type": "code",
     "collapsed": false,
     "input": [
      "all_hists = []\n",
      "n_cells = []\n",
      "for seed in range(10):\n",
      "    print('Random seed: %i' % seed)\n",
      "    apopto_cells = get_apoptotic_cells(eptm, \n",
      "                                       seed=seed, z0=0., \n",
      "                                       width_apopto=1.8,\n",
      "                                       p0=0.8, amp=0.7)\n",
      "    apopto_sequence = get_sequence(apopto_cells, num_steps=5)\n",
      "    n_seq = len(apopto_sequence)\n",
      "    n_cells.append(len(apopto_cells))\n",
      "    apopto_4steps = [np.concatenate(\n",
      "                             apopto_sequence[n_seq//4 * i:\n",
      "                                             n_seq//4 * i + n_seq//4]\n",
      "                                    ) for i in range(4)]\n",
      "    thetas_4steps = [np.unique([eptm.thetas[cell] for cell in seq])\n",
      "                     for seq in apopto_4steps]\n",
      "    hists_4steps = [np.histogram(thetas, bins=8, range=(-np.pi, np.pi))[0]\n",
      "                    for thetas in thetas_4steps]\n",
      "    all_hists.append(hists_4steps)\n",
      "all_hists = np.array(all_hists)\n",
      "n_cells= np.array(n_cells)\n",
      "print('Average number of apoptic cells: %.1f \u00b1 %.2f'\n",
      "      % (n_cells.mean(), n_cells.std()))\n",
      "avg_hists = all_hists.mean(axis=0)\n",
      "print('repartition: ')\n",
      "print(avg_hists)\n",
      "print('Summed:')\n",
      "print(avg_hists.sum(axis=0))\n"
     ],
     "language": "python",
     "metadata": {},
     "outputs": [
      {
       "output_type": "stream",
       "stream": "stdout",
       "text": [
        "Random seed: 0\n",
        "Number of apoptotic cells: 28"
       ]
      },
      {
       "output_type": "stream",
       "stream": "stdout",
       "text": [
        "\n",
        "Random seed: 1\n",
        "Number of apoptotic cells: 28"
       ]
      },
      {
       "output_type": "stream",
       "stream": "stdout",
       "text": [
        "\n",
        "Random seed: 2\n",
        "Number of apoptotic cells: 28"
       ]
      },
      {
       "output_type": "stream",
       "stream": "stdout",
       "text": [
        "\n",
        "Random seed: 3\n",
        "Number of apoptotic cells: 26"
       ]
      },
      {
       "output_type": "stream",
       "stream": "stdout",
       "text": [
        "\n",
        "Random seed: 4\n",
        "Number of apoptotic cells: 21"
       ]
      },
      {
       "output_type": "stream",
       "stream": "stdout",
       "text": [
        "\n",
        "Random seed: 5\n",
        "Number of apoptotic cells: 27"
       ]
      },
      {
       "output_type": "stream",
       "stream": "stdout",
       "text": [
        "\n",
        "Random seed: 6\n",
        "Number of apoptotic cells: 28"
       ]
      },
      {
       "output_type": "stream",
       "stream": "stdout",
       "text": [
        "\n",
        "Random seed: 7\n",
        "Number of apoptotic cells: 28"
       ]
      },
      {
       "output_type": "stream",
       "stream": "stdout",
       "text": [
        "\n",
        "Random seed: 8\n",
        "Number of apoptotic cells: 30"
       ]
      },
      {
       "output_type": "stream",
       "stream": "stdout",
       "text": [
        "\n",
        "Random seed: 9\n",
        "Number of apoptotic cells: 30"
       ]
      },
      {
       "output_type": "stream",
       "stream": "stdout",
       "text": [
        "\n",
        "Average number of apoptic cells: 27.4 \u00b1 2.42"
       ]
      },
      {
       "output_type": "stream",
       "stream": "stdout",
       "text": [
        "\n",
        "repartition: \n",
        "[[ 4.1  0.1  0.   0.   0.   0.   0.   3.4]\n",
        " [ 3.5  2.3  0.   0.   0.   0.1  2.6  3.1]\n",
        " [ 0.1  4.1  2.   0.1  0.   2.1  3.   0.2]\n",
        " [ 0.   0.5  2.2  1.4  2.   2.3  0.2  0. ]]"
       ]
      },
      {
       "output_type": "stream",
       "stream": "stdout",
       "text": [
        "\n",
        "Summed:\n",
        "[ 7.7  7.   4.2  1.5  2.   4.5  5.8  6.7]\n"
       ]
      }
     ],
     "prompt_number": 69
    },
    {
     "cell_type": "code",
     "collapsed": false,
     "input": [
      "fig, axes = plt.subplots(1, 4,\n",
      "                         figsize=(16, 4))\n",
      "\n",
      "radii = np.ones(8)\n",
      "width = np.pi/4\n",
      "\n",
      "for i in range(4):\n",
      "    num_depths = avg_hists[i, :]\n",
      "    ax = axes[i]\n",
      "    # bars = ax.bar(np.arange(0, 2*np.pi, np.pi/4), radii,\n",
      "    #              width=width, bottom=0.0, )\n",
      "\n",
      "    # for nd, bar in zip(num_depths, bars):\n",
      "    #    bar.set_facecolor([0, 0, 0])\n",
      "    #    bar.set_alpha(nd/avg_hists.max())\n",
      "    labels = ['%1.1f' % nd for nd in avg_hists[i, :]]\n",
      "    sizes = np.ones(8)\n",
      "    colors = [(0, 0, 0, nd/avg_hists.max()) for nd in avg_hists[i, :]]\n",
      "    ax.pie(sizes, colors=colors, labels=labels, startangle=-90)\n",
      "    ax.axis('equal')\n",
      "      \n",
      "fig.savefig('')\n",
      "plt.draw()"
     ],
     "language": "python",
     "metadata": {},
     "outputs": [
      {
       "metadata": {},
       "output_type": "display_data",
       "png": "[encoded data removed]",
       "text": [
        "<matplotlib.figure.Figure at 0x9ababd0c>"
       ]
      }
     ],
     "prompt_number": 70
    },
    {
     "cell_type": "code",
     "collapsed": false,
     "input": [
      "#eptm = lj.Epithelium(graphXMLfile='../saved_graphs/xml/before_apoptosis.xml',#\n",
      "#                     paramfile='../default/params.xml')\n",
      "apopto_cells = get_apoptotic_cells(eptm, seed=8, z0=0., width_apopto=1.8, p0=0.8, amp=0.7)\n",
      "apopto_sequence = get_sequence(apopto_cells, num_steps=5)"
     ],
     "language": "python",
     "metadata": {},
     "outputs": [
      {
       "output_type": "stream",
       "stream": "stdout",
       "text": [
        "Number of apoptotic cells: 30\n"
       ]
      }
     ],
     "prompt_number": 71
    },
    {
     "cell_type": "code",
     "collapsed": false,
     "input": [
      "mean_rho = eptm.rhos.a.mean()\n",
      "thetas = np.linspace(0, 2 * np.pi, 60)\n",
      "fig, ax = plt.subplots(figsize=(12, 4))\n",
      "num_rows = 12\n",
      "delta = 60.\n",
      "for n, cells in enumerate(apopto_sequence[1:]):\n",
      "    \n",
      "    if len(cells) == 0: break\n",
      "    dx = + (n % num_rows) * delta\n",
      "    dy = - (n // num_rows) * delta\n",
      "    ax.plot(mean_rho * np.cos(thetas) + dx,\n",
      "            mean_rho * np.sin(thetas) + dy, 'k-', alpha=0.4)\n",
      "    ax.text(dx, dy, str(n + 1), fontsize=10)\n",
      "    for cell in cells:\n",
      "        ax.plot(eptm.wys[cell] + dx, eptm.ixs[cell] + dy, 'ro', alpha=0.5)\n",
      "\n",
      "ax.set_aspect('equal')\n",
      "ax.set_xticks([])\n",
      "ax.set_yticks([])\n",
      "dx = + ((n + 1) % num_rows) * delta\n",
      "dy = - ((n + 1) // num_rows) * delta\n",
      "\n",
      "ax.plot(mean_rho * np.cos(thetas) + dx,\n",
      "        mean_rho * np.sin(thetas) + dy, 'k-', alpha=0.4)\n",
      "ax.text(dx, dy, 'all', fontsize=10)\n",
      "for cell in apopto_cells:\n",
      "    ax.plot(eptm.wys[cell] + dx, eptm.ixs[cell] + dy, 'ko', alpha=0.7)\n",
      "ax.set_title('Sequence of apoptoses around the joint')\n",
      "\n",
      "plt.show()\n"
     ],
     "language": "python",
     "metadata": {},
     "outputs": [
      {
       "metadata": {},
       "output_type": "display_data",
       "png": "[encoded data removed]",
       "text": [
        "<matplotlib.figure.Figure at 0x9a90c5cc>"
       ]
      }
     ],
     "prompt_number": 73
    },
    {
     "cell_type": "code",
     "collapsed": false,
     "input": [
      "eptm.set_local_mask(None)\n",
      "lj.local_slice(eptm, theta_amp=2*np.pi, zed_amp=3.)"
     ],
     "language": "python",
     "metadata": {},
     "outputs": [],
     "prompt_number": 74
    },
    {
     "cell_type": "code",
     "collapsed": false,
     "input": [
      "eptm.update_rhotheta()\n",
      "d_theta = 0.\n",
      "z_angle = np.pi / 6\n",
      "pseudo_x = eptm.ixs.copy()\n",
      "pseudo_y = eptm.ixs.copy()\n",
      "pseudo_x.a = eptm.zeds.a * np.cos(z_angle) - eptm.rhos.a * np.sin(\n",
      "             eptm.thetas.a + d_theta) * np.sin(z_angle)\n",
      "pseudo_y.a = eptm.rhos.a * np.cos(eptm.thetas.a + d_theta)\n",
      "\n",
      "\n",
      "fig, ax = plt.subplots()\n",
      "ax = lj.plot_cells_generic(eptm, pseudo_x, pseudo_y, ax=ax,\n",
      "                           vfilt=eptm.is_local_vert, \n",
      "                           efilt=eptm.is_local_edge,\n",
      "                           c_text=False)\n",
      "\n",
      "is_apopto = eptm.is_cell_vert.copy()\n",
      "is_apopto.a[:] = 0\n",
      "color_dead = eptm.zeds.copy()\n",
      "color_dead.a[:] = 0.\n",
      "for cell in apopto_cells:\n",
      "    color_dead[cell] = 0.8\n",
      "    is_apopto[cell] = 1\n",
      "    for jv in cell.out_neighbours():\n",
      "        is_apopto[jv] = 1\n",
      "\n",
      "ax = lj.draw_polygons(eptm, pseudo_x, pseudo_y, color_dead,\n",
      "                      vfilt=is_apopto, \n",
      "                      efilt=eptm.is_local_edge, ax=ax)\n",
      "for patch in ax.patches:\n",
      "    patch.set_alpha(0.8)\n",
      "\n",
      "fig.savefig('../doc/imgs/apopto_repartition.svg')    \n",
      "\n",
      "plt.show()\n",
      "\n",
      "\n",
      "#for cell in apopto_cells:\n",
      "#    ax.plot(pseudo_x[cell], pseudo_y[cell], 'ro')"
     ],
     "language": "python",
     "metadata": {},
     "outputs": [
      {
       "metadata": {},
       "output_type": "display_data",
       "png": "[encoded data removed]",
       "text": [
        "<matplotlib.figure.Figure at 0x9a888b2c>"
       ]
      }
     ],
     "prompt_number": 75
    },
    {
     "cell_type": "code",
     "collapsed": false,
     "input": [
      "%pdb"
     ],
     "language": "python",
     "metadata": {},
     "outputs": [
      {
       "output_type": "stream",
       "stream": "stdout",
       "text": [
        "Automatic pdb calling has been turned OFF\n"
       ]
      }
     ],
     "prompt_number": 50
    },
    {
     "cell_type": "code",
     "collapsed": false,
     "input": [
      "gradual_apoptosis(eptm, apopto_cells, num_steps=5,\n",
      "                  vol_reduction=0.8,\n",
      "                  contractility=1.,\n",
      "                  radial_tension=0.4, pola=False)"
     ],
     "language": "python",
     "metadata": {},
     "outputs": [
      {
       "output_type": "stream",
       "stream": "stdout",
       "text": [
        "150 steps will be performed\n",
        "new vertex 5123"
       ]
      },
      {
       "output_type": "stream",
       "stream": "stdout",
       "text": [
        "\n",
        "new vertex 5124"
       ]
      },
      {
       "output_type": "stream",
       "stream": "stdout",
       "text": [
        "\n",
        "new vertex 5125"
       ]
      },
      {
       "output_type": "stream",
       "stream": "stdout",
       "text": [
        "\n",
        "new vertex 5126"
       ]
      },
      {
       "output_type": "stream",
       "stream": "stdout",
       "text": [
        "\n",
        "new vertex 5127"
       ]
      },
      {
       "output_type": "stream",
       "stream": "stdout",
       "text": [
        "\n",
        "new vertex 5128"
       ]
      },
      {
       "output_type": "stream",
       "stream": "stdout",
       "text": [
        "\n",
        "new vertex 5129"
       ]
      },
      {
       "output_type": "stream",
       "stream": "stdout",
       "text": [
        "\n",
        "new vertex 5130"
       ]
      },
      {
       "output_type": "stream",
       "stream": "stdout",
       "text": [
        "\n",
        "new vertex 5131"
       ]
      },
      {
       "output_type": "stream",
       "stream": "stdout",
       "text": [
        "\n",
        "new vertex 5132"
       ]
      },
      {
       "output_type": "stream",
       "stream": "stdout",
       "text": [
        "\n",
        "new vertex 5133"
       ]
      },
      {
       "output_type": "stream",
       "stream": "stdout",
       "text": [
        "\n",
        "new vertex 5134"
       ]
      },
      {
       "output_type": "stream",
       "stream": "stdout",
       "text": [
        "\n",
        "new vertex 5135"
       ]
      },
      {
       "output_type": "stream",
       "stream": "stdout",
       "text": [
        "\n",
        "new vertex 5136"
       ]
      },
      {
       "output_type": "stream",
       "stream": "stdout",
       "text": [
        "\n",
        "new vertex 5137"
       ]
      },
      {
       "output_type": "stream",
       "stream": "stdout",
       "text": [
        "\n",
        "new vertex 5138"
       ]
      },
      {
       "output_type": "stream",
       "stream": "stdout",
       "text": [
        "\n",
        "new vertex 5139"
       ]
      },
      {
       "output_type": "stream",
       "stream": "stdout",
       "text": [
        "\n",
        "new vertex 5140"
       ]
      },
      {
       "output_type": "stream",
       "stream": "stdout",
       "text": [
        "\n",
        "new vertex 5141"
       ]
      },
      {
       "output_type": "stream",
       "stream": "stdout",
       "text": [
        "\n",
        "new vertex 5142"
       ]
      },
      {
       "output_type": "stream",
       "stream": "stdout",
       "text": [
        "\n",
        "new vertex 5143"
       ]
      },
      {
       "output_type": "stream",
       "stream": "stdout",
       "text": [
        "\n",
        "new vertex 5144"
       ]
      },
      {
       "output_type": "stream",
       "stream": "stdout",
       "text": [
        "\n",
        "new vertex 5145"
       ]
      },
      {
       "output_type": "stream",
       "stream": "stdout",
       "text": [
        "\n",
        "new vertex 5146"
       ]
      },
      {
       "output_type": "stream",
       "stream": "stdout",
       "text": [
        "\n",
        "new vertex 5147"
       ]
      },
      {
       "output_type": "stream",
       "stream": "stdout",
       "text": [
        "\n",
        "new vertex 5148"
       ]
      },
      {
       "output_type": "stream",
       "stream": "stdout",
       "text": [
        "\n",
        "new vertex 5149"
       ]
      },
      {
       "output_type": "stream",
       "stream": "stdout",
       "text": [
        "\n",
        "new vertex 5150"
       ]
      },
      {
       "output_type": "stream",
       "stream": "stdout",
       "text": [
        "\n",
        "new vertex 5151"
       ]
      },
      {
       "output_type": "stream",
       "stream": "stdout",
       "text": [
        "\n",
        "new vertex 5152"
       ]
      },
      {
       "output_type": "stream",
       "stream": "stdout",
       "text": [
        "\n"
       ]
      },
      {
       "output_type": "stream",
       "stream": "stderr",
       "text": [
        "/home/guillaume/Python/leg_joint/leg_joint/objects.py:352: RuntimeWarning: invalid value encountered in true_divide\n",
        "  self.u_dixs.a = self.dixs.a / edge_lengths\n",
        "/home/guillaume/Python/leg_joint/leg_joint/objects.py:353: RuntimeWarning: invalid value encountered in true_divide\n",
        "  self.u_dwys.a = self.dwys.a / edge_lengths\n",
        "/home/guillaume/Python/leg_joint/leg_joint/objects.py:354: RuntimeWarning: invalid value encountered in true_divide\n",
        "  self.u_dzeds.a = self.dzeds.a / edge_lengths\n"
       ]
      }
     ],
     "prompt_number": 78
    },
    {
     "cell_type": "code",
     "collapsed": false,
     "input": [
      "lj.plot_ortho_proj(eptm, vfilt=eptm.is_local_vert, efilt=eptm.is_local_edge)"
     ],
     "language": "python",
     "metadata": {},
     "outputs": []
    },
    {
     "cell_type": "code",
     "collapsed": false,
     "input": [
      "lj.local_slice(eptm, theta_c=0., zed_c=0, theta_amp=3.14/3, zed_amp=5)"
     ],
     "language": "python",
     "metadata": {},
     "outputs": []
    },
    {
     "cell_type": "code",
     "collapsed": false,
     "input": [
      "lj.plot_ortho_proj(eptm, vfilt=eptm.is_local_vert, efilt=eptm.is_local_edge, text=False)"
     ],
     "language": "python",
     "metadata": {},
     "outputs": []
    },
    {
     "cell_type": "code",
     "collapsed": false,
     "input": [
      "eptm_nt = lj.Epithelium('../saved_graphs/xml/after_apoptosis_nt.xml',\n",
      "                        paramfile='../default/params.xml')\n",
      "eptm_t = lj.Epithelium('../saved_graphs/xml/after_apoptosis_t.xml',\n",
      "                       paramfile='../default/params.xml')"
     ],
     "language": "python",
     "metadata": {},
     "outputs": [],
     "prompt_number": 43
    },
    {
     "cell_type": "code",
     "collapsed": false,
     "input": [
      "import os\n",
      "dirname = 'apopto_vr0.80_ctr1.20_rt0.20/'\n",
      "xml_list = os.listdir(os.path.join('../saved_graphs/xml/', dirname))\n",
      "xml_list.sort()\n",
      "xml_list = [fname for fname in xml_list]\n",
      "print(xml_list[0], xml_list[-1])"
     ],
     "language": "python",
     "metadata": {},
     "outputs": [
      {
       "output_type": "stream",
       "stream": "stdout",
       "text": [
        "('apopto_0001.xml', 'apopto_0610.xml')\n"
       ]
      }
     ],
     "prompt_number": 33
    },
    {
     "cell_type": "code",
     "collapsed": false,
     "input": [
      "for xml_name in xml_list:\n",
      "    xml_graph = os.path.join('../saved_graphs/xml/', dirname, xml_name)\n",
      "    png_name = os.path.join('../saved_graphs/xml/', dirname, xml_name[:-4]+'_3d.png')\n",
      "    etm = lj.Epithelium(xml_graph,\n",
      "                        paramfile='../default/params.xml')\n",
      "    lj.draw(eptm, output3d=png_name, verbose=True)\n",
      "for theta in np.linspace(0, 2*np.pi, 180):\n",
      "    name = png_name[:-4]+'%.3f.png' % theta\n",
      "    lj.draw(eptm, output3d=png_name, verbose=True)"
     ],
     "language": "python",
     "metadata": {},
     "outputs": [
      {
       "output_type": "stream",
       "stream": "stdout",
       "text": [
        "4344\n",
        "saved tissue to ../saved_graphs/xml/apopto_vr0.80_ctr1.20_rt0.20/apopto_0001_3d.png"
       ]
      },
      {
       "output_type": "stream",
       "stream": "stdout",
       "text": [
        "\n",
        "saved tissue to tissue_sz.pdf"
       ]
      },
      {
       "output_type": "stream",
       "stream": "stdout",
       "text": [
        "\n",
        "4344"
       ]
      },
      {
       "output_type": "stream",
       "stream": "stdout",
       "text": [
        "\n",
        "saved tissue to ../saved_graphs/xml/apopto_vr0.80_ctr1.20_rt0.20/apopto_0002_3d.png"
       ]
      },
      {
       "output_type": "stream",
       "stream": "stdout",
       "text": [
        "\n",
        "saved tissue to tissue_sz.pdf"
       ]
      },
      {
       "output_type": "stream",
       "stream": "stdout",
       "text": [
        "\n",
        "4344"
       ]
      },
      {
       "output_type": "stream",
       "stream": "stdout",
       "text": [
        "\n",
        "saved tissue to ../saved_graphs/xml/apopto_vr0.80_ctr1.20_rt0.20/apopto_0003_3d.png"
       ]
      },
      {
       "output_type": "stream",
       "stream": "stdout",
       "text": [
        "\n",
        "saved tissue to tissue_sz.pdf"
       ]
      },
      {
       "output_type": "stream",
       "stream": "stdout",
       "text": [
        "\n",
        "4344"
       ]
      },
      {
       "output_type": "stream",
       "stream": "stdout",
       "text": [
        "\n",
        "saved tissue to ../saved_graphs/xml/apopto_vr0.80_ctr1.20_rt0.20/apopto_0004_3d.png"
       ]
      },
      {
       "output_type": "stream",
       "stream": "stdout",
       "text": [
        "\n",
        "saved tissue to tissue_sz.pdf"
       ]
      },
      {
       "output_type": "stream",
       "stream": "stdout",
       "text": [
        "\n",
        "4344"
       ]
      },
      {
       "output_type": "stream",
       "stream": "stdout",
       "text": [
        "\n",
        "saved tissue to ../saved_graphs/xml/apopto_vr0.80_ctr1.20_rt0.20/apopto_0005_3d.png"
       ]
      },
      {
       "output_type": "stream",
       "stream": "stdout",
       "text": [
        "\n",
        "saved tissue to tissue_sz.pdf"
       ]
      },
      {
       "output_type": "stream",
       "stream": "stdout",
       "text": [
        "\n",
        "4344"
       ]
      },
      {
       "output_type": "stream",
       "stream": "stdout",
       "text": [
        "\n",
        "saved tissue to ../saved_graphs/xml/apopto_vr0.80_ctr1.20_rt0.20/apopto_0006_3d.png"
       ]
      },
      {
       "output_type": "stream",
       "stream": "stdout",
       "text": [
        "\n",
        "saved tissue to tissue_sz.pdf"
       ]
      },
      {
       "output_type": "stream",
       "stream": "stdout",
       "text": [
        "\n",
        "4344"
       ]
      },
      {
       "output_type": "stream",
       "stream": "stdout",
       "text": [
        "\n",
        "saved tissue to ../saved_graphs/xml/apopto_vr0.80_ctr1.20_rt0.20/apopto_0007_3d.png"
       ]
      },
      {
       "output_type": "stream",
       "stream": "stdout",
       "text": [
        "\n",
        "saved tissue to tissue_sz.pdf"
       ]
      },
      {
       "output_type": "stream",
       "stream": "stdout",
       "text": [
        "\n",
        "4344"
       ]
      },
      {
       "output_type": "stream",
       "stream": "stdout",
       "text": [
        "\n",
        "saved tissue to ../saved_graphs/xml/apopto_vr0.80_ctr1.20_rt0.20/apopto_0008_3d.png"
       ]
      },
      {
       "output_type": "stream",
       "stream": "stdout",
       "text": [
        "\n",
        "saved tissue to tissue_sz.pdf"
       ]
      },
      {
       "output_type": "stream",
       "stream": "stdout",
       "text": [
        "\n",
        "4344"
       ]
      },
      {
       "output_type": "stream",
       "stream": "stdout",
       "text": [
        "\n",
        "saved tissue to ../saved_graphs/xml/apopto_vr0.80_ctr1.20_rt0.20/apopto_0009_3d.png"
       ]
      },
      {
       "output_type": "stream",
       "stream": "stdout",
       "text": [
        "\n",
        "saved tissue to tissue_sz.pdf"
       ]
      },
      {
       "output_type": "stream",
       "stream": "stdout",
       "text": [
        "\n",
        "4344"
       ]
      },
      {
       "output_type": "stream",
       "stream": "stdout",
       "text": [
        "\n",
        "saved tissue to ../saved_graphs/xml/apopto_vr0.80_ctr1.20_rt0.20/apopto_0010_3d.png"
       ]
      },
      {
       "output_type": "stream",
       "stream": "stdout",
       "text": [
        "\n",
        "saved tissue to tissue_sz.pdf"
       ]
      },
      {
       "output_type": "stream",
       "stream": "stdout",
       "text": [
        "\n",
        "4344"
       ]
      },
      {
       "output_type": "stream",
       "stream": "stdout",
       "text": [
        "\n",
        "saved tissue to ../saved_graphs/xml/apopto_vr0.80_ctr1.20_rt0.20/apopto_0011_3d.png"
       ]
      },
      {
       "output_type": "stream",
       "stream": "stdout",
       "text": [
        "\n",
        "saved tissue to tissue_sz.pdf"
       ]
      },
      {
       "output_type": "stream",
       "stream": "stdout",
       "text": [
        "\n",
        "4344"
       ]
      },
      {
       "output_type": "stream",
       "stream": "stdout",
       "text": [
        "\n",
        "saved tissue to ../saved_graphs/xml/apopto_vr0.80_ctr1.20_rt0.20/apopto_0012_3d.png"
       ]
      },
      {
       "output_type": "stream",
       "stream": "stdout",
       "text": [
        "\n",
        "saved tissue to tissue_sz.pdf"
       ]
      },
      {
       "output_type": "stream",
       "stream": "stdout",
       "text": [
        "\n",
        "4344"
       ]
      },
      {
       "output_type": "stream",
       "stream": "stdout",
       "text": [
        "\n",
        "saved tissue to ../saved_graphs/xml/apopto_vr0.80_ctr1.20_rt0.20/apopto_0013_3d.png"
       ]
      },
      {
       "output_type": "stream",
       "stream": "stdout",
       "text": [
        "\n",
        "saved tissue to tissue_sz.pdf"
       ]
      },
      {
       "output_type": "stream",
       "stream": "stdout",
       "text": [
        "\n",
        "4344"
       ]
      },
      {
       "output_type": "stream",
       "stream": "stdout",
       "text": [
        "\n",
        "saved tissue to ../saved_graphs/xml/apopto_vr0.80_ctr1.20_rt0.20/apopto_0014_3d.png"
       ]
      },
      {
       "output_type": "stream",
       "stream": "stdout",
       "text": [
        "\n",
        "saved tissue to tissue_sz.pdf"
       ]
      },
      {
       "output_type": "stream",
       "stream": "stdout",
       "text": [
        "\n",
        "4344"
       ]
      },
      {
       "output_type": "stream",
       "stream": "stdout",
       "text": [
        "\n",
        "saved tissue to ../saved_graphs/xml/apopto_vr0.80_ctr1.20_rt0.20/apopto_0015_3d.png"
       ]
      },
      {
       "output_type": "stream",
       "stream": "stdout",
       "text": [
        "\n",
        "saved tissue to tissue_sz.pdf"
       ]
      },
      {
       "output_type": "stream",
       "stream": "stdout",
       "text": [
        "\n",
        "4344"
       ]
      },
      {
       "output_type": "stream",
       "stream": "stdout",
       "text": [
        "\n",
        "saved tissue to ../saved_graphs/xml/apopto_vr0.80_ctr1.20_rt0.20/apopto_0016_3d.png"
       ]
      },
      {
       "output_type": "stream",
       "stream": "stdout",
       "text": [
        "\n",
        "saved tissue to tissue_sz.pdf"
       ]
      },
      {
       "output_type": "stream",
       "stream": "stdout",
       "text": [
        "\n",
        "4344"
       ]
      },
      {
       "output_type": "stream",
       "stream": "stdout",
       "text": [
        "\n",
        "saved tissue to ../saved_graphs/xml/apopto_vr0.80_ctr1.20_rt0.20/apopto_0017_3d.png"
       ]
      },
      {
       "output_type": "stream",
       "stream": "stdout",
       "text": [
        "\n",
        "saved tissue to tissue_sz.pdf"
       ]
      },
      {
       "output_type": "stream",
       "stream": "stdout",
       "text": [
        "\n",
        "4344"
       ]
      },
      {
       "output_type": "stream",
       "stream": "stdout",
       "text": [
        "\n",
        "saved tissue to ../saved_graphs/xml/apopto_vr0.80_ctr1.20_rt0.20/apopto_0018_3d.png"
       ]
      },
      {
       "output_type": "stream",
       "stream": "stdout",
       "text": [
        "\n",
        "saved tissue to tissue_sz.pdf"
       ]
      },
      {
       "output_type": "stream",
       "stream": "stdout",
       "text": [
        "\n",
        "4344"
       ]
      },
      {
       "output_type": "stream",
       "stream": "stdout",
       "text": [
        "\n",
        "saved tissue to ../saved_graphs/xml/apopto_vr0.80_ctr1.20_rt0.20/apopto_0019_3d.png"
       ]
      },
      {
       "output_type": "stream",
       "stream": "stdout",
       "text": [
        "\n",
        "saved tissue to tissue_sz.pdf"
       ]
      },
      {
       "output_type": "stream",
       "stream": "stdout",
       "text": [
        "\n",
        "4344"
       ]
      },
      {
       "output_type": "stream",
       "stream": "stdout",
       "text": [
        "\n",
        "saved tissue to ../saved_graphs/xml/apopto_vr0.80_ctr1.20_rt0.20/apopto_0020_3d.png"
       ]
      },
      {
       "output_type": "stream",
       "stream": "stdout",
       "text": [
        "\n",
        "saved tissue to tissue_sz.pdf"
       ]
      },
      {
       "output_type": "stream",
       "stream": "stdout",
       "text": [
        "\n",
        "4344"
       ]
      },
      {
       "output_type": "stream",
       "stream": "stdout",
       "text": [
        "\n",
        "saved tissue to ../saved_graphs/xml/apopto_vr0.80_ctr1.20_rt0.20/apopto_0021_3d.png"
       ]
      },
      {
       "output_type": "stream",
       "stream": "stdout",
       "text": [
        "\n",
        "saved tissue to tissue_sz.pdf"
       ]
      },
      {
       "output_type": "stream",
       "stream": "stdout",
       "text": [
        "\n",
        "4344"
       ]
      },
      {
       "output_type": "stream",
       "stream": "stdout",
       "text": [
        "\n",
        "saved tissue to ../saved_graphs/xml/apopto_vr0.80_ctr1.20_rt0.20/apopto_0022_3d.png"
       ]
      },
      {
       "output_type": "stream",
       "stream": "stdout",
       "text": [
        "\n",
        "saved tissue to tissue_sz.pdf"
       ]
      },
      {
       "output_type": "stream",
       "stream": "stdout",
       "text": [
        "\n",
        "4344"
       ]
      },
      {
       "output_type": "stream",
       "stream": "stdout",
       "text": [
        "\n",
        "saved tissue to ../saved_graphs/xml/apopto_vr0.80_ctr1.20_rt0.20/apopto_0023_3d.png"
       ]
      },
      {
       "output_type": "stream",
       "stream": "stdout",
       "text": [
        "\n",
        "saved tissue to tissue_sz.pdf"
       ]
      },
      {
       "output_type": "stream",
       "stream": "stdout",
       "text": [
        "\n",
        "4344"
       ]
      },
      {
       "output_type": "stream",
       "stream": "stdout",
       "text": [
        "\n",
        "saved tissue to ../saved_graphs/xml/apopto_vr0.80_ctr1.20_rt0.20/apopto_0024_3d.png"
       ]
      },
      {
       "output_type": "stream",
       "stream": "stdout",
       "text": [
        "\n",
        "saved tissue to tissue_sz.pdf"
       ]
      },
      {
       "output_type": "stream",
       "stream": "stdout",
       "text": [
        "\n",
        "4344"
       ]
      },
      {
       "output_type": "stream",
       "stream": "stdout",
       "text": [
        "\n",
        "saved tissue to ../saved_graphs/xml/apopto_vr0.80_ctr1.20_rt0.20/apopto_0025_3d.png"
       ]
      },
      {
       "output_type": "stream",
       "stream": "stdout",
       "text": [
        "\n",
        "saved tissue to tissue_sz.pdf"
       ]
      },
      {
       "output_type": "stream",
       "stream": "stdout",
       "text": [
        "\n",
        "4344"
       ]
      },
      {
       "output_type": "stream",
       "stream": "stdout",
       "text": [
        "\n",
        "saved tissue to ../saved_graphs/xml/apopto_vr0.80_ctr1.20_rt0.20/apopto_0026_3d.png"
       ]
      },
      {
       "output_type": "stream",
       "stream": "stdout",
       "text": [
        "\n",
        "saved tissue to tissue_sz.pdf"
       ]
      },
      {
       "output_type": "stream",
       "stream": "stdout",
       "text": [
        "\n",
        "4344"
       ]
      },
      {
       "output_type": "stream",
       "stream": "stdout",
       "text": [
        "\n",
        "saved tissue to ../saved_graphs/xml/apopto_vr0.80_ctr1.20_rt0.20/apopto_0027_3d.png"
       ]
      },
      {
       "output_type": "stream",
       "stream": "stdout",
       "text": [
        "\n",
        "saved tissue to tissue_sz.pdf"
       ]
      },
      {
       "output_type": "stream",
       "stream": "stdout",
       "text": [
        "\n",
        "4344"
       ]
      },
      {
       "output_type": "stream",
       "stream": "stdout",
       "text": [
        "\n",
        "saved tissue to ../saved_graphs/xml/apopto_vr0.80_ctr1.20_rt0.20/apopto_0028_3d.png"
       ]
      },
      {
       "output_type": "stream",
       "stream": "stdout",
       "text": [
        "\n",
        "saved tissue to tissue_sz.pdf"
       ]
      },
      {
       "output_type": "stream",
       "stream": "stdout",
       "text": [
        "\n",
        "4344"
       ]
      },
      {
       "output_type": "stream",
       "stream": "stdout",
       "text": [
        "\n",
        "saved tissue to ../saved_graphs/xml/apopto_vr0.80_ctr1.20_rt0.20/apopto_0029_3d.png"
       ]
      },
      {
       "output_type": "stream",
       "stream": "stdout",
       "text": [
        "\n",
        "saved tissue to tissue_sz.pdf"
       ]
      },
      {
       "output_type": "stream",
       "stream": "stdout",
       "text": [
        "\n",
        "4344"
       ]
      },
      {
       "output_type": "stream",
       "stream": "stdout",
       "text": [
        "\n",
        "saved tissue to ../saved_graphs/xml/apopto_vr0.80_ctr1.20_rt0.20/apopto_0030_3d.png"
       ]
      },
      {
       "output_type": "stream",
       "stream": "stdout",
       "text": [
        "\n",
        "saved tissue to tissue_sz.pdf"
       ]
      },
      {
       "output_type": "stream",
       "stream": "stdout",
       "text": [
        "\n",
        "4344"
       ]
      },
      {
       "output_type": "stream",
       "stream": "stdout",
       "text": [
        "\n",
        "saved tissue to ../saved_graphs/xml/apopto_vr0.80_ctr1.20_rt0.20/apopto_0031_3d.png"
       ]
      },
      {
       "output_type": "stream",
       "stream": "stdout",
       "text": [
        "\n",
        "saved tissue to tissue_sz.pdf"
       ]
      },
      {
       "output_type": "stream",
       "stream": "stdout",
       "text": [
        "\n",
        "4344"
       ]
      },
      {
       "output_type": "stream",
       "stream": "stdout",
       "text": [
        "\n",
        "saved tissue to ../saved_graphs/xml/apopto_vr0.80_ctr1.20_rt0.20/apopto_0032_3d.png"
       ]
      },
      {
       "output_type": "stream",
       "stream": "stdout",
       "text": [
        "\n",
        "saved tissue to tissue_sz.pdf"
       ]
      },
      {
       "output_type": "stream",
       "stream": "stdout",
       "text": [
        "\n",
        "4344"
       ]
      },
      {
       "output_type": "stream",
       "stream": "stdout",
       "text": [
        "\n",
        "saved tissue to ../saved_graphs/xml/apopto_vr0.80_ctr1.20_rt0.20/apopto_0033_3d.png"
       ]
      },
      {
       "output_type": "stream",
       "stream": "stdout",
       "text": [
        "\n",
        "saved tissue to tissue_sz.pdf"
       ]
      },
      {
       "output_type": "stream",
       "stream": "stdout",
       "text": [
        "\n",
        "4344"
       ]
      },
      {
       "output_type": "stream",
       "stream": "stdout",
       "text": [
        "\n",
        "saved tissue to ../saved_graphs/xml/apopto_vr0.80_ctr1.20_rt0.20/apopto_0034_3d.png"
       ]
      },
      {
       "output_type": "stream",
       "stream": "stdout",
       "text": [
        "\n",
        "saved tissue to tissue_sz.pdf"
       ]
      },
      {
       "output_type": "stream",
       "stream": "stdout",
       "text": [
        "\n",
        "4344"
       ]
      },
      {
       "output_type": "stream",
       "stream": "stdout",
       "text": [
        "\n",
        "saved tissue to ../saved_graphs/xml/apopto_vr0.80_ctr1.20_rt0.20/apopto_0035_3d.png"
       ]
      },
      {
       "output_type": "stream",
       "stream": "stdout",
       "text": [
        "\n",
        "saved tissue to tissue_sz.pdf"
       ]
      },
      {
       "output_type": "stream",
       "stream": "stdout",
       "text": [
        "\n",
        "4344"
       ]
      },
      {
       "output_type": "stream",
       "stream": "stdout",
       "text": [
        "\n",
        "saved tissue to ../saved_graphs/xml/apopto_vr0.80_ctr1.20_rt0.20/apopto_0036_3d.png"
       ]
      },
      {
       "output_type": "stream",
       "stream": "stdout",
       "text": [
        "\n",
        "saved tissue to tissue_sz.pdf"
       ]
      },
      {
       "output_type": "stream",
       "stream": "stdout",
       "text": [
        "\n",
        "4344"
       ]
      },
      {
       "output_type": "stream",
       "stream": "stdout",
       "text": [
        "\n",
        "saved tissue to ../saved_graphs/xml/apopto_vr0.80_ctr1.20_rt0.20/apopto_0037_3d.png"
       ]
      },
      {
       "output_type": "stream",
       "stream": "stdout",
       "text": [
        "\n",
        "saved tissue to tissue_sz.pdf"
       ]
      },
      {
       "output_type": "stream",
       "stream": "stdout",
       "text": [
        "\n",
        "4344"
       ]
      },
      {
       "output_type": "stream",
       "stream": "stdout",
       "text": [
        "\n",
        "saved tissue to ../saved_graphs/xml/apopto_vr0.80_ctr1.20_rt0.20/apopto_0038_3d.png"
       ]
      },
      {
       "output_type": "stream",
       "stream": "stdout",
       "text": [
        "\n",
        "saved tissue to tissue_sz.pdf"
       ]
      },
      {
       "output_type": "stream",
       "stream": "stdout",
       "text": [
        "\n",
        "4344"
       ]
      },
      {
       "output_type": "stream",
       "stream": "stdout",
       "text": [
        "\n",
        "saved tissue to ../saved_graphs/xml/apopto_vr0.80_ctr1.20_rt0.20/apopto_0039_3d.png"
       ]
      },
      {
       "output_type": "stream",
       "stream": "stdout",
       "text": [
        "\n",
        "saved tissue to tissue_sz.pdf"
       ]
      },
      {
       "output_type": "stream",
       "stream": "stdout",
       "text": [
        "\n",
        "4344"
       ]
      },
      {
       "output_type": "stream",
       "stream": "stdout",
       "text": [
        "\n",
        "saved tissue to ../saved_graphs/xml/apopto_vr0.80_ctr1.20_rt0.20/apopto_0040_3d.png"
       ]
      },
      {
       "output_type": "stream",
       "stream": "stdout",
       "text": [
        "\n",
        "saved tissue to tissue_sz.pdf"
       ]
      },
      {
       "output_type": "stream",
       "stream": "stdout",
       "text": [
        "\n",
        "4344"
       ]
      },
      {
       "output_type": "stream",
       "stream": "stdout",
       "text": [
        "\n",
        "saved tissue to ../saved_graphs/xml/apopto_vr0.80_ctr1.20_rt0.20/apopto_0041_3d.png"
       ]
      },
      {
       "output_type": "stream",
       "stream": "stdout",
       "text": [
        "\n",
        "saved tissue to tissue_sz.pdf"
       ]
      },
      {
       "output_type": "stream",
       "stream": "stdout",
       "text": [
        "\n",
        "4344"
       ]
      },
      {
       "output_type": "stream",
       "stream": "stdout",
       "text": [
        "\n",
        "saved tissue to ../saved_graphs/xml/apopto_vr0.80_ctr1.20_rt0.20/apopto_0042_3d.png"
       ]
      },
      {
       "output_type": "stream",
       "stream": "stdout",
       "text": [
        "\n",
        "saved tissue to tissue_sz.pdf"
       ]
      },
      {
       "output_type": "stream",
       "stream": "stdout",
       "text": [
        "\n",
        "4344"
       ]
      },
      {
       "output_type": "stream",
       "stream": "stdout",
       "text": [
        "\n",
        "saved tissue to ../saved_graphs/xml/apopto_vr0.80_ctr1.20_rt0.20/apopto_0043_3d.png"
       ]
      },
      {
       "output_type": "stream",
       "stream": "stdout",
       "text": [
        "\n",
        "saved tissue to tissue_sz.pdf"
       ]
      },
      {
       "output_type": "stream",
       "stream": "stdout",
       "text": [
        "\n",
        "4344"
       ]
      },
      {
       "output_type": "stream",
       "stream": "stdout",
       "text": [
        "\n",
        "saved tissue to ../saved_graphs/xml/apopto_vr0.80_ctr1.20_rt0.20/apopto_0044_3d.png"
       ]
      },
      {
       "output_type": "stream",
       "stream": "stdout",
       "text": [
        "\n",
        "saved tissue to tissue_sz.pdf"
       ]
      },
      {
       "output_type": "stream",
       "stream": "stdout",
       "text": [
        "\n",
        "4344"
       ]
      },
      {
       "output_type": "stream",
       "stream": "stdout",
       "text": [
        "\n",
        "saved tissue to ../saved_graphs/xml/apopto_vr0.80_ctr1.20_rt0.20/apopto_0045_3d.png"
       ]
      },
      {
       "output_type": "stream",
       "stream": "stdout",
       "text": [
        "\n",
        "saved tissue to tissue_sz.pdf"
       ]
      },
      {
       "output_type": "stream",
       "stream": "stdout",
       "text": [
        "\n",
        "4344"
       ]
      },
      {
       "output_type": "stream",
       "stream": "stdout",
       "text": [
        "\n",
        "saved tissue to ../saved_graphs/xml/apopto_vr0.80_ctr1.20_rt0.20/apopto_0046_3d.png"
       ]
      },
      {
       "output_type": "stream",
       "stream": "stdout",
       "text": [
        "\n",
        "saved tissue to tissue_sz.pdf"
       ]
      },
      {
       "output_type": "stream",
       "stream": "stdout",
       "text": [
        "\n",
        "4344"
       ]
      },
      {
       "output_type": "stream",
       "stream": "stdout",
       "text": [
        "\n",
        "saved tissue to ../saved_graphs/xml/apopto_vr0.80_ctr1.20_rt0.20/apopto_0047_3d.png"
       ]
      },
      {
       "output_type": "stream",
       "stream": "stdout",
       "text": [
        "\n",
        "saved tissue to tissue_sz.pdf"
       ]
      },
      {
       "output_type": "stream",
       "stream": "stdout",
       "text": [
        "\n",
        "4344"
       ]
      },
      {
       "output_type": "stream",
       "stream": "stdout",
       "text": [
        "\n",
        "saved tissue to ../saved_graphs/xml/apopto_vr0.80_ctr1.20_rt0.20/apopto_0048_3d.png"
       ]
      },
      {
       "output_type": "stream",
       "stream": "stdout",
       "text": [
        "\n",
        "saved tissue to tissue_sz.pdf"
       ]
      },
      {
       "output_type": "stream",
       "stream": "stdout",
       "text": [
        "\n",
        "4344"
       ]
      },
      {
       "output_type": "stream",
       "stream": "stdout",
       "text": [
        "\n",
        "saved tissue to ../saved_graphs/xml/apopto_vr0.80_ctr1.20_rt0.20/apopto_0049_3d.png"
       ]
      },
      {
       "output_type": "stream",
       "stream": "stdout",
       "text": [
        "\n",
        "saved tissue to tissue_sz.pdf"
       ]
      },
      {
       "output_type": "stream",
       "stream": "stdout",
       "text": [
        "\n",
        "4344"
       ]
      },
      {
       "output_type": "stream",
       "stream": "stdout",
       "text": [
        "\n",
        "saved tissue to ../saved_graphs/xml/apopto_vr0.80_ctr1.20_rt0.20/apopto_0050_3d.png"
       ]
      },
      {
       "output_type": "stream",
       "stream": "stdout",
       "text": [
        "\n",
        "saved tissue to tissue_sz.pdf"
       ]
      },
      {
       "output_type": "stream",
       "stream": "stdout",
       "text": [
        "\n",
        "4344"
       ]
      },
      {
       "output_type": "stream",
       "stream": "stdout",
       "text": [
        "\n",
        "saved tissue to ../saved_graphs/xml/apopto_vr0.80_ctr1.20_rt0.20/apopto_0051_3d.png"
       ]
      },
      {
       "output_type": "stream",
       "stream": "stdout",
       "text": [
        "\n",
        "saved tissue to tissue_sz.pdf"
       ]
      },
      {
       "output_type": "stream",
       "stream": "stdout",
       "text": [
        "\n",
        "4344"
       ]
      },
      {
       "output_type": "stream",
       "stream": "stdout",
       "text": [
        "\n",
        "saved tissue to ../saved_graphs/xml/apopto_vr0.80_ctr1.20_rt0.20/apopto_0052_3d.png"
       ]
      },
      {
       "output_type": "stream",
       "stream": "stdout",
       "text": [
        "\n",
        "saved tissue to tissue_sz.pdf"
       ]
      },
      {
       "output_type": "stream",
       "stream": "stdout",
       "text": [
        "\n",
        "4344"
       ]
      },
      {
       "output_type": "stream",
       "stream": "stdout",
       "text": [
        "\n",
        "saved tissue to ../saved_graphs/xml/apopto_vr0.80_ctr1.20_rt0.20/apopto_0053_3d.png"
       ]
      },
      {
       "output_type": "stream",
       "stream": "stdout",
       "text": [
        "\n",
        "saved tissue to tissue_sz.pdf"
       ]
      },
      {
       "output_type": "stream",
       "stream": "stdout",
       "text": [
        "\n",
        "4344"
       ]
      },
      {
       "output_type": "stream",
       "stream": "stdout",
       "text": [
        "\n",
        "saved tissue to ../saved_graphs/xml/apopto_vr0.80_ctr1.20_rt0.20/apopto_0054_3d.png"
       ]
      },
      {
       "output_type": "stream",
       "stream": "stdout",
       "text": [
        "\n",
        "saved tissue to tissue_sz.pdf"
       ]
      },
      {
       "output_type": "stream",
       "stream": "stdout",
       "text": [
        "\n",
        "4344"
       ]
      },
      {
       "output_type": "stream",
       "stream": "stdout",
       "text": [
        "\n",
        "saved tissue to ../saved_graphs/xml/apopto_vr0.80_ctr1.20_rt0.20/apopto_0055_3d.png"
       ]
      },
      {
       "output_type": "stream",
       "stream": "stdout",
       "text": [
        "\n",
        "saved tissue to tissue_sz.pdf"
       ]
      },
      {
       "output_type": "stream",
       "stream": "stdout",
       "text": [
        "\n",
        "4344"
       ]
      },
      {
       "output_type": "stream",
       "stream": "stdout",
       "text": [
        "\n",
        "saved tissue to ../saved_graphs/xml/apopto_vr0.80_ctr1.20_rt0.20/apopto_0056_3d.png"
       ]
      },
      {
       "output_type": "stream",
       "stream": "stdout",
       "text": [
        "\n",
        "saved tissue to tissue_sz.pdf"
       ]
      },
      {
       "output_type": "stream",
       "stream": "stdout",
       "text": [
        "\n",
        "4344"
       ]
      },
      {
       "output_type": "stream",
       "stream": "stdout",
       "text": [
        "\n",
        "saved tissue to ../saved_graphs/xml/apopto_vr0.80_ctr1.20_rt0.20/apopto_0057_3d.png"
       ]
      },
      {
       "output_type": "stream",
       "stream": "stdout",
       "text": [
        "\n",
        "saved tissue to tissue_sz.pdf"
       ]
      },
      {
       "output_type": "stream",
       "stream": "stdout",
       "text": [
        "\n",
        "4344"
       ]
      },
      {
       "output_type": "stream",
       "stream": "stdout",
       "text": [
        "\n",
        "saved tissue to ../saved_graphs/xml/apopto_vr0.80_ctr1.20_rt0.20/apopto_0058_3d.png"
       ]
      },
      {
       "output_type": "stream",
       "stream": "stdout",
       "text": [
        "\n",
        "saved tissue to tissue_sz.pdf"
       ]
      },
      {
       "output_type": "stream",
       "stream": "stdout",
       "text": [
        "\n",
        "4344"
       ]
      },
      {
       "output_type": "stream",
       "stream": "stdout",
       "text": [
        "\n",
        "saved tissue to ../saved_graphs/xml/apopto_vr0.80_ctr1.20_rt0.20/apopto_0059_3d.png"
       ]
      },
      {
       "output_type": "stream",
       "stream": "stdout",
       "text": [
        "\n",
        "saved tissue to tissue_sz.pdf"
       ]
      },
      {
       "output_type": "stream",
       "stream": "stdout",
       "text": [
        "\n",
        "4344"
       ]
      },
      {
       "output_type": "stream",
       "stream": "stdout",
       "text": [
        "\n",
        "saved tissue to ../saved_graphs/xml/apopto_vr0.80_ctr1.20_rt0.20/apopto_0060_3d.png"
       ]
      },
      {
       "output_type": "stream",
       "stream": "stdout",
       "text": [
        "\n",
        "saved tissue to tissue_sz.pdf"
       ]
      },
      {
       "output_type": "stream",
       "stream": "stdout",
       "text": [
        "\n",
        "4344"
       ]
      },
      {
       "output_type": "stream",
       "stream": "stdout",
       "text": [
        "\n",
        "saved tissue to ../saved_graphs/xml/apopto_vr0.80_ctr1.20_rt0.20/apopto_0061_3d.png"
       ]
      },
      {
       "output_type": "stream",
       "stream": "stdout",
       "text": [
        "\n",
        "saved tissue to tissue_sz.pdf"
       ]
      },
      {
       "output_type": "stream",
       "stream": "stdout",
       "text": [
        "\n",
        "4344"
       ]
      },
      {
       "output_type": "stream",
       "stream": "stdout",
       "text": [
        "\n",
        "saved tissue to ../saved_graphs/xml/apopto_vr0.80_ctr1.20_rt0.20/apopto_0062_3d.png"
       ]
      },
      {
       "output_type": "stream",
       "stream": "stdout",
       "text": [
        "\n",
        "saved tissue to tissue_sz.pdf"
       ]
      },
      {
       "output_type": "stream",
       "stream": "stdout",
       "text": [
        "\n",
        "4344"
       ]
      },
      {
       "output_type": "stream",
       "stream": "stdout",
       "text": [
        "\n",
        "saved tissue to ../saved_graphs/xml/apopto_vr0.80_ctr1.20_rt0.20/apopto_0063_3d.png"
       ]
      },
      {
       "output_type": "stream",
       "stream": "stdout",
       "text": [
        "\n",
        "saved tissue to tissue_sz.pdf"
       ]
      },
      {
       "output_type": "stream",
       "stream": "stdout",
       "text": [
        "\n",
        "4344"
       ]
      },
      {
       "output_type": "stream",
       "stream": "stdout",
       "text": [
        "\n",
        "saved tissue to ../saved_graphs/xml/apopto_vr0.80_ctr1.20_rt0.20/apopto_0064_3d.png"
       ]
      },
      {
       "output_type": "stream",
       "stream": "stdout",
       "text": [
        "\n",
        "saved tissue to tissue_sz.pdf"
       ]
      },
      {
       "output_type": "stream",
       "stream": "stdout",
       "text": [
        "\n",
        "4344"
       ]
      },
      {
       "output_type": "stream",
       "stream": "stdout",
       "text": [
        "\n",
        "saved tissue to ../saved_graphs/xml/apopto_vr0.80_ctr1.20_rt0.20/apopto_0065_3d.png"
       ]
      },
      {
       "output_type": "stream",
       "stream": "stdout",
       "text": [
        "\n",
        "saved tissue to tissue_sz.pdf"
       ]
      },
      {
       "output_type": "stream",
       "stream": "stdout",
       "text": [
        "\n",
        "4344"
       ]
      },
      {
       "output_type": "stream",
       "stream": "stdout",
       "text": [
        "\n",
        "saved tissue to ../saved_graphs/xml/apopto_vr0.80_ctr1.20_rt0.20/apopto_0066_3d.png"
       ]
      },
      {
       "output_type": "stream",
       "stream": "stdout",
       "text": [
        "\n",
        "saved tissue to tissue_sz.pdf"
       ]
      },
      {
       "output_type": "stream",
       "stream": "stdout",
       "text": [
        "\n",
        "4344"
       ]
      },
      {
       "output_type": "stream",
       "stream": "stdout",
       "text": [
        "\n",
        "saved tissue to ../saved_graphs/xml/apopto_vr0.80_ctr1.20_rt0.20/apopto_0067_3d.png"
       ]
      },
      {
       "output_type": "stream",
       "stream": "stdout",
       "text": [
        "\n",
        "saved tissue to tissue_sz.pdf"
       ]
      },
      {
       "output_type": "stream",
       "stream": "stdout",
       "text": [
        "\n",
        "4344"
       ]
      },
      {
       "output_type": "stream",
       "stream": "stdout",
       "text": [
        "\n",
        "saved tissue to ../saved_graphs/xml/apopto_vr0.80_ctr1.20_rt0.20/apopto_0068_3d.png"
       ]
      },
      {
       "output_type": "stream",
       "stream": "stdout",
       "text": [
        "\n",
        "saved tissue to tissue_sz.pdf"
       ]
      },
      {
       "output_type": "stream",
       "stream": "stdout",
       "text": [
        "\n",
        "4344"
       ]
      },
      {
       "output_type": "stream",
       "stream": "stdout",
       "text": [
        "\n",
        "saved tissue to ../saved_graphs/xml/apopto_vr0.80_ctr1.20_rt0.20/apopto_0069_3d.png"
       ]
      },
      {
       "output_type": "stream",
       "stream": "stdout",
       "text": [
        "\n",
        "saved tissue to tissue_sz.pdf"
       ]
      },
      {
       "output_type": "stream",
       "stream": "stdout",
       "text": [
        "\n",
        "4344"
       ]
      },
      {
       "output_type": "stream",
       "stream": "stdout",
       "text": [
        "\n",
        "saved tissue to ../saved_graphs/xml/apopto_vr0.80_ctr1.20_rt0.20/apopto_0070_3d.png"
       ]
      },
      {
       "output_type": "stream",
       "stream": "stdout",
       "text": [
        "\n",
        "saved tissue to tissue_sz.pdf"
       ]
      },
      {
       "output_type": "stream",
       "stream": "stdout",
       "text": [
        "\n",
        "4344"
       ]
      },
      {
       "output_type": "stream",
       "stream": "stdout",
       "text": [
        "\n",
        "saved tissue to ../saved_graphs/xml/apopto_vr0.80_ctr1.20_rt0.20/apopto_0071_3d.png"
       ]
      },
      {
       "output_type": "stream",
       "stream": "stdout",
       "text": [
        "\n",
        "saved tissue to tissue_sz.pdf"
       ]
      },
      {
       "output_type": "stream",
       "stream": "stdout",
       "text": [
        "\n",
        "4344"
       ]
      },
      {
       "output_type": "stream",
       "stream": "stdout",
       "text": [
        "\n",
        "saved tissue to ../saved_graphs/xml/apopto_vr0.80_ctr1.20_rt0.20/apopto_0072_3d.png"
       ]
      },
      {
       "output_type": "stream",
       "stream": "stdout",
       "text": [
        "\n",
        "saved tissue to tissue_sz.pdf"
       ]
      },
      {
       "output_type": "stream",
       "stream": "stdout",
       "text": [
        "\n",
        "4344"
       ]
      },
      {
       "output_type": "stream",
       "stream": "stdout",
       "text": [
        "\n",
        "saved tissue to ../saved_graphs/xml/apopto_vr0.80_ctr1.20_rt0.20/apopto_0073_3d.png"
       ]
      },
      {
       "output_type": "stream",
       "stream": "stdout",
       "text": [
        "\n",
        "saved tissue to tissue_sz.pdf"
       ]
      },
      {
       "output_type": "stream",
       "stream": "stdout",
       "text": [
        "\n",
        "4344"
       ]
      },
      {
       "output_type": "stream",
       "stream": "stdout",
       "text": [
        "\n",
        "saved tissue to ../saved_graphs/xml/apopto_vr0.80_ctr1.20_rt0.20/apopto_0074_3d.png"
       ]
      },
      {
       "output_type": "stream",
       "stream": "stdout",
       "text": [
        "\n",
        "saved tissue to tissue_sz.pdf"
       ]
      },
      {
       "output_type": "stream",
       "stream": "stdout",
       "text": [
        "\n",
        "4344"
       ]
      },
      {
       "output_type": "stream",
       "stream": "stdout",
       "text": [
        "\n",
        "saved tissue to ../saved_graphs/xml/apopto_vr0.80_ctr1.20_rt0.20/apopto_0075_3d.png"
       ]
      },
      {
       "output_type": "stream",
       "stream": "stdout",
       "text": [
        "\n",
        "saved tissue to tissue_sz.pdf"
       ]
      },
      {
       "output_type": "stream",
       "stream": "stdout",
       "text": [
        "\n",
        "4344"
       ]
      },
      {
       "output_type": "stream",
       "stream": "stdout",
       "text": [
        "\n",
        "saved tissue to ../saved_graphs/xml/apopto_vr0.80_ctr1.20_rt0.20/apopto_0076_3d.png"
       ]
      },
      {
       "output_type": "stream",
       "stream": "stdout",
       "text": [
        "\n",
        "saved tissue to tissue_sz.pdf"
       ]
      },
      {
       "output_type": "stream",
       "stream": "stdout",
       "text": [
        "\n",
        "4344"
       ]
      },
      {
       "output_type": "stream",
       "stream": "stdout",
       "text": [
        "\n",
        "saved tissue to ../saved_graphs/xml/apopto_vr0.80_ctr1.20_rt0.20/apopto_0077_3d.png"
       ]
      },
      {
       "output_type": "stream",
       "stream": "stdout",
       "text": [
        "\n",
        "saved tissue to tissue_sz.pdf"
       ]
      },
      {
       "output_type": "stream",
       "stream": "stdout",
       "text": [
        "\n",
        "4344"
       ]
      },
      {
       "output_type": "stream",
       "stream": "stdout",
       "text": [
        "\n",
        "saved tissue to ../saved_graphs/xml/apopto_vr0.80_ctr1.20_rt0.20/apopto_0078_3d.png"
       ]
      },
      {
       "output_type": "stream",
       "stream": "stdout",
       "text": [
        "\n",
        "saved tissue to tissue_sz.pdf"
       ]
      },
      {
       "output_type": "stream",
       "stream": "stdout",
       "text": [
        "\n",
        "4344"
       ]
      },
      {
       "output_type": "stream",
       "stream": "stdout",
       "text": [
        "\n",
        "saved tissue to ../saved_graphs/xml/apopto_vr0.80_ctr1.20_rt0.20/apopto_0079_3d.png"
       ]
      },
      {
       "output_type": "stream",
       "stream": "stdout",
       "text": [
        "\n",
        "saved tissue to tissue_sz.pdf"
       ]
      },
      {
       "output_type": "stream",
       "stream": "stdout",
       "text": [
        "\n",
        "4344"
       ]
      },
      {
       "output_type": "stream",
       "stream": "stdout",
       "text": [
        "\n",
        "saved tissue to ../saved_graphs/xml/apopto_vr0.80_ctr1.20_rt0.20/apopto_0080_3d.png"
       ]
      },
      {
       "output_type": "stream",
       "stream": "stdout",
       "text": [
        "\n",
        "saved tissue to tissue_sz.pdf"
       ]
      },
      {
       "output_type": "stream",
       "stream": "stdout",
       "text": [
        "\n",
        "4344"
       ]
      },
      {
       "output_type": "stream",
       "stream": "stdout",
       "text": [
        "\n",
        "saved tissue to ../saved_graphs/xml/apopto_vr0.80_ctr1.20_rt0.20/apopto_0081_3d.png"
       ]
      },
      {
       "output_type": "stream",
       "stream": "stdout",
       "text": [
        "\n",
        "saved tissue to tissue_sz.pdf"
       ]
      },
      {
       "output_type": "stream",
       "stream": "stdout",
       "text": [
        "\n",
        "4344"
       ]
      },
      {
       "output_type": "stream",
       "stream": "stdout",
       "text": [
        "\n",
        "saved tissue to ../saved_graphs/xml/apopto_vr0.80_ctr1.20_rt0.20/apopto_0082_3d.png"
       ]
      },
      {
       "output_type": "stream",
       "stream": "stdout",
       "text": [
        "\n",
        "saved tissue to tissue_sz.pdf"
       ]
      },
      {
       "output_type": "stream",
       "stream": "stdout",
       "text": [
        "\n",
        "4344"
       ]
      },
      {
       "output_type": "stream",
       "stream": "stdout",
       "text": [
        "\n",
        "saved tissue to ../saved_graphs/xml/apopto_vr0.80_ctr1.20_rt0.20/apopto_0083_3d.png"
       ]
      },
      {
       "output_type": "stream",
       "stream": "stdout",
       "text": [
        "\n",
        "saved tissue to tissue_sz.pdf"
       ]
      },
      {
       "output_type": "stream",
       "stream": "stdout",
       "text": [
        "\n",
        "4344"
       ]
      },
      {
       "output_type": "stream",
       "stream": "stdout",
       "text": [
        "\n",
        "saved tissue to ../saved_graphs/xml/apopto_vr0.80_ctr1.20_rt0.20/apopto_0084_3d.png"
       ]
      },
      {
       "output_type": "stream",
       "stream": "stdout",
       "text": [
        "\n",
        "saved tissue to tissue_sz.pdf"
       ]
      },
      {
       "output_type": "stream",
       "stream": "stdout",
       "text": [
        "\n",
        "4344"
       ]
      },
      {
       "output_type": "stream",
       "stream": "stdout",
       "text": [
        "\n",
        "saved tissue to ../saved_graphs/xml/apopto_vr0.80_ctr1.20_rt0.20/apopto_0085_3d.png"
       ]
      },
      {
       "output_type": "stream",
       "stream": "stdout",
       "text": [
        "\n",
        "saved tissue to tissue_sz.pdf"
       ]
      },
      {
       "output_type": "stream",
       "stream": "stdout",
       "text": [
        "\n",
        "4344"
       ]
      },
      {
       "output_type": "stream",
       "stream": "stdout",
       "text": [
        "\n",
        "saved tissue to ../saved_graphs/xml/apopto_vr0.80_ctr1.20_rt0.20/apopto_0086_3d.png"
       ]
      },
      {
       "output_type": "stream",
       "stream": "stdout",
       "text": [
        "\n",
        "saved tissue to tissue_sz.pdf"
       ]
      },
      {
       "output_type": "stream",
       "stream": "stdout",
       "text": [
        "\n",
        "4344"
       ]
      },
      {
       "output_type": "stream",
       "stream": "stdout",
       "text": [
        "\n",
        "saved tissue to ../saved_graphs/xml/apopto_vr0.80_ctr1.20_rt0.20/apopto_0087_3d.png"
       ]
      },
      {
       "output_type": "stream",
       "stream": "stdout",
       "text": [
        "\n",
        "saved tissue to tissue_sz.pdf"
       ]
      },
      {
       "output_type": "stream",
       "stream": "stdout",
       "text": [
        "\n",
        "4344"
       ]
      },
      {
       "output_type": "stream",
       "stream": "stdout",
       "text": [
        "\n",
        "saved tissue to ../saved_graphs/xml/apopto_vr0.80_ctr1.20_rt0.20/apopto_0088_3d.png"
       ]
      },
      {
       "output_type": "stream",
       "stream": "stdout",
       "text": [
        "\n",
        "saved tissue to tissue_sz.pdf"
       ]
      },
      {
       "output_type": "stream",
       "stream": "stdout",
       "text": [
        "\n",
        "4344"
       ]
      },
      {
       "output_type": "stream",
       "stream": "stdout",
       "text": [
        "\n",
        "saved tissue to ../saved_graphs/xml/apopto_vr0.80_ctr1.20_rt0.20/apopto_0089_3d.png"
       ]
      },
      {
       "output_type": "stream",
       "stream": "stdout",
       "text": [
        "\n",
        "saved tissue to tissue_sz.pdf"
       ]
      },
      {
       "output_type": "stream",
       "stream": "stdout",
       "text": [
        "\n",
        "4344"
       ]
      },
      {
       "output_type": "stream",
       "stream": "stdout",
       "text": [
        "\n",
        "saved tissue to ../saved_graphs/xml/apopto_vr0.80_ctr1.20_rt0.20/apopto_0090_3d.png"
       ]
      },
      {
       "output_type": "stream",
       "stream": "stdout",
       "text": [
        "\n",
        "saved tissue to tissue_sz.pdf"
       ]
      },
      {
       "output_type": "stream",
       "stream": "stdout",
       "text": [
        "\n",
        "4344"
       ]
      },
      {
       "output_type": "stream",
       "stream": "stdout",
       "text": [
        "\n",
        "saved tissue to ../saved_graphs/xml/apopto_vr0.80_ctr1.20_rt0.20/apopto_0091_3d.png"
       ]
      },
      {
       "output_type": "stream",
       "stream": "stdout",
       "text": [
        "\n",
        "saved tissue to tissue_sz.pdf"
       ]
      },
      {
       "output_type": "stream",
       "stream": "stdout",
       "text": [
        "\n",
        "4344"
       ]
      },
      {
       "output_type": "stream",
       "stream": "stdout",
       "text": [
        "\n",
        "saved tissue to ../saved_graphs/xml/apopto_vr0.80_ctr1.20_rt0.20/apopto_0092_3d.png"
       ]
      },
      {
       "ename": "MemoryError",
       "evalue": "",
       "output_type": "pyerr",
       "traceback": [
        "\u001b[1;31m---------------------------------------------------------------------------\u001b[0m\n\u001b[1;31mMemoryError\u001b[0m                               Traceback (most recent call last)",
        "\u001b[1;32m<ipython-input-37-f4d787da97fa>\u001b[0m in \u001b[0;36m<module>\u001b[1;34m()\u001b[0m\n\u001b[0;32m      6\u001b[0m     etm = lj.Epithelium(xml_graph,\n\u001b[0;32m      7\u001b[0m                         paramfile='../default/params.xml')\n\u001b[1;32m----> 8\u001b[1;33m     \u001b[0mlj\u001b[0m\u001b[1;33m.\u001b[0m\u001b[0mdraw\u001b[0m\u001b[1;33m(\u001b[0m\u001b[0meptm\u001b[0m\u001b[1;33m,\u001b[0m \u001b[0moutput3d\u001b[0m\u001b[1;33m=\u001b[0m\u001b[0mpng_name\u001b[0m\u001b[1;33m,\u001b[0m \u001b[0mverbose\u001b[0m\u001b[1;33m=\u001b[0m\u001b[0mTrue\u001b[0m\u001b[1;33m)\u001b[0m\u001b[1;33m\u001b[0m\u001b[0m\n\u001b[0m\u001b[0;32m      9\u001b[0m \u001b[1;32mfor\u001b[0m \u001b[0mtheta\u001b[0m \u001b[1;32min\u001b[0m \u001b[0mnp\u001b[0m\u001b[1;33m.\u001b[0m\u001b[0mlinspace\u001b[0m\u001b[1;33m(\u001b[0m\u001b[1;36m0\u001b[0m\u001b[1;33m,\u001b[0m \u001b[1;36m2\u001b[0m\u001b[1;33m*\u001b[0m\u001b[0mnp\u001b[0m\u001b[1;33m.\u001b[0m\u001b[0mpi\u001b[0m\u001b[1;33m,\u001b[0m \u001b[1;36m180\u001b[0m\u001b[1;33m)\u001b[0m\u001b[1;33m:\u001b[0m\u001b[1;33m\u001b[0m\u001b[0m\n\u001b[0;32m     10\u001b[0m     \u001b[0mname\u001b[0m \u001b[1;33m=\u001b[0m \u001b[0mpng_name\u001b[0m\u001b[1;33m[\u001b[0m\u001b[1;33m:\u001b[0m\u001b[1;33m-\u001b[0m\u001b[1;36m4\u001b[0m\u001b[1;33m]\u001b[0m\u001b[1;33m+\u001b[0m\u001b[1;34m'%.3f.png'\u001b[0m \u001b[1;33m%\u001b[0m \u001b[0mtheta\u001b[0m\u001b[1;33m\u001b[0m\u001b[0m\n",
        "\u001b[1;32m/home/guillaume/Python/leg_joint/leg_joint/graph_representation.py\u001b[0m in \u001b[0;36mepithelium_draw\u001b[1;34m(eptm, z_angle, d_theta, output3d, output2d, verbose)\u001b[0m\n\u001b[0;32m    395\u001b[0m                           \u001b[0mvertex_size\u001b[0m\u001b[1;33m=\u001b[0m\u001b[0mvertex_size\u001b[0m\u001b[1;33m,\u001b[0m\u001b[1;33m\u001b[0m\u001b[0m\n\u001b[0;32m    396\u001b[0m                           \u001b[0mvorder\u001b[0m\u001b[1;33m=\u001b[0m\u001b[0mvorder\u001b[0m\u001b[1;33m,\u001b[0m \u001b[0meorder\u001b[0m\u001b[1;33m=\u001b[0m\u001b[0meorder\u001b[0m\u001b[1;33m,\u001b[0m\u001b[1;33m\u001b[0m\u001b[0m\n\u001b[1;32m--> 397\u001b[1;33m                           output=output2d)\n\u001b[0m\u001b[0;32m    398\u001b[0m     \u001b[1;32mif\u001b[0m \u001b[0mverbose\u001b[0m\u001b[1;33m:\u001b[0m \u001b[1;32mprint\u001b[0m \u001b[1;34m'saved tissue to %s'\u001b[0m \u001b[1;33m%\u001b[0m \u001b[0moutput2d\u001b[0m\u001b[1;33m\u001b[0m\u001b[0m\n\u001b[0;32m    399\u001b[0m     \u001b[1;32mdel\u001b[0m \u001b[0mpmap\u001b[0m\u001b[1;33m,\u001b[0m \u001b[0mpmap2\u001b[0m\u001b[1;33m\u001b[0m\u001b[0m\n",
        "\u001b[1;32m/usr/lib/python2.7/dist-packages/graph_tool/draw/cairo_draw.pyc\u001b[0m in \u001b[0;36mgraph_draw\u001b[1;34m(g, pos, vprops, eprops, vorder, eorder, nodesfirst, output_size, fit_view, output, fmt, **kwargs)\u001b[0m\n\u001b[0;32m    830\u001b[0m \u001b[1;33m\u001b[0m\u001b[0m\n\u001b[0;32m    831\u001b[0m         cairo_draw(g, pos, cr, vprops, eprops, vorder, eorder,\n\u001b[1;32m--> 832\u001b[1;33m                    nodesfirst, **kwargs)\n\u001b[0m\u001b[0;32m    833\u001b[0m         \u001b[1;32mdel\u001b[0m \u001b[0mcr\u001b[0m\u001b[1;33m\u001b[0m\u001b[0m\n\u001b[0;32m    834\u001b[0m \u001b[1;33m\u001b[0m\u001b[0m\n",
        "\u001b[1;32m/usr/lib/python2.7/dist-packages/graph_tool/draw/cairo_draw.pyc\u001b[0m in \u001b[0;36mcairo_draw\u001b[1;34m(g, pos, cr, vprops, eprops, vorder, eorder, nodesfirst, vcmap, ecmap, loop_angle, parallel_distance, fit_view, **kwargs)\u001b[0m\n\u001b[0;32m    451\u001b[0m     libgraph_tool_draw.cairo_draw(g._Graph__graph, _prop(\"v\", g, pos),\n\u001b[0;32m    452\u001b[0m                                   \u001b[0m_prop\u001b[0m\u001b[1;33m(\u001b[0m\u001b[1;34m\"v\"\u001b[0m\u001b[1;33m,\u001b[0m \u001b[0mg\u001b[0m\u001b[1;33m,\u001b[0m \u001b[0mvorder\u001b[0m\u001b[1;33m)\u001b[0m\u001b[1;33m,\u001b[0m \u001b[0m_prop\u001b[0m\u001b[1;33m(\u001b[0m\u001b[1;34m\"e\"\u001b[0m\u001b[1;33m,\u001b[0m \u001b[0mg\u001b[0m\u001b[1;33m,\u001b[0m \u001b[0meorder\u001b[0m\u001b[1;33m)\u001b[0m\u001b[1;33m,\u001b[0m\u001b[1;33m\u001b[0m\u001b[0m\n\u001b[1;32m--> 453\u001b[1;33m                                   nodesfirst, vattrs, eattrs, vdefs, edefs, cr)\n\u001b[0m\u001b[0;32m    454\u001b[0m     \u001b[0mcr\u001b[0m\u001b[1;33m.\u001b[0m\u001b[0mrestore\u001b[0m\u001b[1;33m(\u001b[0m\u001b[1;33m)\u001b[0m\u001b[1;33m\u001b[0m\u001b[0m\n\u001b[0;32m    455\u001b[0m \u001b[1;33m\u001b[0m\u001b[0m\n",
        "\u001b[1;31mMemoryError\u001b[0m: "
       ]
      },
      {
       "output_type": "stream",
       "stream": "stdout",
       "text": [
        "\n"
       ]
      }
     ],
     "prompt_number": 37
    },
    {
     "cell_type": "code",
     "collapsed": false,
     "input": [],
     "language": "python",
     "metadata": {},
     "outputs": []
    },
    {
     "cell_type": "code",
     "collapsed": false,
     "input": [
      "anisotropies, alignments = eptm.cells.get_anisotropies()\n",
      "\n",
      "eptm.graph.set_vertex_filter(eptm.is_cell_vert)\n",
      "fig, ax = plt.subplots()\n",
      "ax.plot(eptm.zeds.fa, anisotropies.fa, 'ro', alpha=0.5)\n",
      "eptm.graph.set_vertex_filter(None)"
     ],
     "language": "python",
     "metadata": {},
     "outputs": [],
     "prompt_number": 31
    }
   ],
   "metadata": {}
  }
 ]
}