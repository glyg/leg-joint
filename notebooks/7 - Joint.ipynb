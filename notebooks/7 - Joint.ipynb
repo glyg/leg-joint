{
 "metadata": {
  "name": ""
 },
 "nbformat": 3,
 "nbformat_minor": 0,
 "worksheets": [
  {
   "cells": [
    {
     "cell_type": "code",
     "collapsed": false,
     "input": [
      "%load_ext autoreload\n",
      "%autoreload 2\n"
     ],
     "language": "python",
     "metadata": {},
     "outputs": [
      {
       "output_type": "stream",
       "stream": "stdout",
       "text": [
        "The autoreload extension is already loaded. To reload it, use:\n",
        "  %reload_ext autoreload\n"
       ]
      }
     ],
     "prompt_number": 3
    },
    {
     "cell_type": "code",
     "collapsed": false,
     "input": [
      "%run nb_init.py\n",
      "from joint import *"
     ],
     "language": "python",
     "metadata": {},
     "outputs": [
      {
       "output_type": "stream",
       "stream": "stderr",
       "text": [
        "/usr/lib/pymodules/python2.7/mpl_toolkits/__init__.py:2: UserWarning: Module dateutil was already imported from /usr/local/lib/python2.7/dist-packages/matplotlib-1.4.x-py2.7-linux-i686.egg/dateutil/__init__.pyc, but /usr/lib/python2.7/dist-packages is being added to sys.path\n",
        "  __import__('pkg_resources').declare_namespace(__name__)\n"
       ]
      }
     ],
     "prompt_number": 4
    },
    {
     "cell_type": "code",
     "collapsed": false,
     "input": [
      "eptm = lj.Epithelium(graphXMLfile='../saved_graphs/xml/before_apoptosis.xml',#\n",
      "                     paramfile='../default/params.xml')\n",
      "\n",
      "#eptm = lj.Epithelium(graphXMLfile=after_apopto,#\n",
      "#                     paramfile='../default/params.xml')\n",
      "   \n",
      "#eptm = lj.Epithelium(graphXMLfile='../saved_graphs/xml/squeezed2.5.xml',\n",
      "#                     paramfile='../default/params.xml')\n"
     ],
     "language": "python",
     "metadata": {},
     "outputs": [],
     "prompt_number": 5
    },
    {
     "cell_type": "code",
     "collapsed": false,
     "input": [
      "lj.draw(eptm)"
     ],
     "language": "python",
     "metadata": {},
     "outputs": [],
     "prompt_number": 7
    },
    {
     "cell_type": "code",
     "collapsed": false,
     "input": [
      "lj.running_local_optimum(eptm, 1e-6)"
     ],
     "language": "python",
     "metadata": {},
     "outputs": [],
     "prompt_number": 6
    },
    {
     "cell_type": "code",
     "collapsed": false,
     "input": [
      "eptm.graph.save('../saved_graphs/xml/before_apoptosis.xml')"
     ],
     "language": "python",
     "metadata": {},
     "outputs": [],
     "prompt_number": 10
    },
    {
     "cell_type": "code",
     "collapsed": false,
     "input": [
      "apopto_cells = get_apoptotic_cells(eptm, seed=0, z0=0., width_apopto=1.5, p0=0.9, amp=0.7)"
     ],
     "language": "python",
     "metadata": {},
     "outputs": [
      {
       "output_type": "stream",
       "stream": "stdout",
       "text": [
        "Number of apoptotic cells: 27\n"
       ]
      }
     ],
     "prompt_number": 13
    },
    {
     "cell_type": "code",
     "collapsed": false,
     "input": [
      "apopto_sequence = get_sequence(apopto_cells, num_steps=10)\n",
      "\n",
      "mean_rho = eptm.rhos.a.mean()\n",
      "thetas = np.linspace(0, 2 * np.pi, 60)\n",
      "fig, ax = plt.subplots()\n",
      "num_rows = 12\n",
      "delta = 60.\n",
      "for n, cells in enumerate(apopto_sequence[1:]):\n",
      "    \n",
      "    if len(cells) == 0: break\n",
      "    dx = + (n % num_rows) * delta\n",
      "    dy = - (n // num_rows) * delta\n",
      "    ax.plot(mean_rho * np.cos(thetas) + dx,\n",
      "            mean_rho * np.sin(thetas) + dy, 'k-', alpha=0.4)\n",
      "    ax.text(dx, dy, str(n + 1), fontsize=10)\n",
      "    for cell in cells:\n",
      "        ax.plot(eptm.wys[cell] + dx, eptm.ixs[cell] + dy, 'ro', alpha=0.5)\n",
      "ax.set_aspect('equal')\n",
      "ax.set_xticks([])\n",
      "ax.set_yticks([])\n",
      "dx = + ((n + 1) % num_rows) * delta\n",
      "dy = - ((n + 1) // num_rows) * delta\n",
      "\n",
      "ax.plot(mean_rho * np.cos(thetas) + dx,\n",
      "        mean_rho * np.sin(thetas) + dy, 'k-', alpha=0.4)\n",
      "ax.text(dx, dy, 'all', fontsize=10)\n",
      "for cell in apopto_cells:\n",
      "    ax.plot(eptm.wys[cell] + dx, eptm.ixs[cell] + dy, 'ko', alpha=0.7)\n",
      "ax.set_title('Sequence of apoptoses around the joint')"
     ],
     "language": "python",
     "metadata": {},
     "outputs": [
      {
       "metadata": {},
       "output_type": "pyout",
       "prompt_number": 14,
       "text": [
        "<matplotlib.text.Text at 0xb73b30c>"
       ]
      }
     ],
     "prompt_number": 14
    },
    {
     "cell_type": "code",
     "collapsed": false,
     "input": [
      "eptm.set_local_mask(None)"
     ],
     "language": "python",
     "metadata": {},
     "outputs": [],
     "prompt_number": 16
    },
    {
     "cell_type": "code",
     "collapsed": false,
     "input": [
      "lj.local_slice(eptm, theta_amp=2*np.pi, zed_amp=4.)"
     ],
     "language": "python",
     "metadata": {},
     "outputs": [],
     "prompt_number": 17
    },
    {
     "cell_type": "code",
     "collapsed": false,
     "input": [
      "eptm.update_rhotheta()\n",
      "d_theta = 0.\n",
      "z_angle = np.pi / 12\n",
      "pseudo_x = eptm.ixs.copy()\n",
      "pseudo_y = eptm.ixs.copy()\n",
      "pseudo_x.a = eptm.zeds.a * np.cos(z_angle) - eptm.rhos.a * np.cos(\n",
      "             eptm.thetas.a + d_theta) * np.sin(z_angle)\n",
      "pseudo_y.a = eptm.rhos.a * np.sin(eptm.thetas.a + d_theta)\n",
      "\n",
      "ax = lj.plot_cells_generic(eptm, pseudo_x, pseudo_y, \n",
      "                          vfilt=eptm.is_local_vert, \n",
      "                          efilt=eptm.is_local_edge,\n",
      "                          c_text=False)\n",
      "\n",
      "for cell in apopto_cells:\n",
      "    ax.plot(pseudo_x[cell], pseudo_y[cell], 'ro')"
     ],
     "language": "python",
     "metadata": {},
     "outputs": [],
     "prompt_number": 18
    },
    {
     "cell_type": "code",
     "collapsed": false,
     "input": [
      "eptm.set_local_mask(None)\n",
      "\n",
      "lj.local_slice(eptm, theta_amp=np.pi/30., zed_amp=10., zed_c=0., theta_c=5* np.pi/6.)\n",
      "ax = lj.plot_ortho_proj(eptm, c_text=True, local=True)\n"
     ],
     "language": "python",
     "metadata": {},
     "outputs": [],
     "prompt_number": 57
    },
    {
     "cell_type": "code",
     "collapsed": false,
     "input": [
      "anisotropies, alignments = eptm.cells.get_anisotropies()\n",
      "\n",
      "eptm.graph.set_vertex_filter(eptm.is_cell_vert)\n",
      "fig, ax = plt.subplots()\n",
      "ax.plot(eptm.zeds.fa, anisotropies.fa, 'ro', alpha=0.5)\n",
      "eptm.graph.set_vertex_filter(None)"
     ],
     "language": "python",
     "metadata": {},
     "outputs": [],
     "prompt_number": 19
    },
    {
     "cell_type": "code",
     "collapsed": false,
     "input": [
      " gradual_apoptosis(eptm, apopto_cells, num_steps=10,\n",
      "                  vol_reduction=0.8,\n",
      "                  contractility=1.,\n",
      "                  radial_tension=0.2, pola=False)"
     ],
     "language": "python",
     "metadata": {},
     "outputs": [
      {
       "output_type": "stream",
       "stream": "stdout",
       "text": [
        "270 steps will be performed\n",
        "new vertex 2819"
       ]
      },
      {
       "output_type": "stream",
       "stream": "stdout",
       "text": [
        "\n",
        "new vertex 2820"
       ]
      },
      {
       "output_type": "stream",
       "stream": "stdout",
       "text": [
        "\n",
        "new vertex 2821"
       ]
      },
      {
       "output_type": "stream",
       "stream": "stdout",
       "text": [
        "\n",
        "new vertex 2822"
       ]
      },
      {
       "output_type": "stream",
       "stream": "stdout",
       "text": [
        "\n",
        "new vertex 2823"
       ]
      },
      {
       "output_type": "stream",
       "stream": "stdout",
       "text": [
        "\n",
        "new vertex 2824"
       ]
      },
      {
       "output_type": "stream",
       "stream": "stdout",
       "text": [
        "\n",
        "new vertex 2825"
       ]
      },
      {
       "output_type": "stream",
       "stream": "stdout",
       "text": [
        "\n",
        "new vertex 2826"
       ]
      },
      {
       "ename": "ValueError",
       "evalue": "too many values to unpack",
       "output_type": "pyerr",
       "traceback": [
        "\u001b[1;31m---------------------------------------------------------------------------\u001b[0m\n\u001b[1;31mValueError\u001b[0m                                Traceback (most recent call last)",
        "\u001b[1;32m<ipython-input-20-14dd16fc83ff>\u001b[0m in \u001b[0;36m<module>\u001b[1;34m()\u001b[0m\n\u001b[0;32m      2\u001b[0m                  \u001b[0mvol_reduction\u001b[0m\u001b[1;33m=\u001b[0m\u001b[1;36m0.8\u001b[0m\u001b[1;33m,\u001b[0m\u001b[1;33m\u001b[0m\u001b[0m\n\u001b[0;32m      3\u001b[0m                  \u001b[0mcontractility\u001b[0m\u001b[1;33m=\u001b[0m\u001b[1;36m1.\u001b[0m\u001b[1;33m,\u001b[0m\u001b[1;33m\u001b[0m\u001b[0m\n\u001b[1;32m----> 4\u001b[1;33m                  radial_tension=0.2, pola=False)\n\u001b[0m",
        "\u001b[1;32m/home/guillaume/Python/leg_joint/joint.pyc\u001b[0m in \u001b[0;36mgradual_apoptosis\u001b[1;34m(eptm, apopto_cells, num_steps, pola, **kwargs)\u001b[0m\n\u001b[0;32m     71\u001b[0m                 \u001b[1;32mcontinue\u001b[0m\u001b[1;33m\u001b[0m\u001b[0m\n\u001b[0;32m     72\u001b[0m             \u001b[0meptm\u001b[0m\u001b[1;33m.\u001b[0m\u001b[0mset_local_mask\u001b[0m\u001b[1;33m(\u001b[0m\u001b[0mNone\u001b[0m\u001b[1;33m)\u001b[0m\u001b[1;33m\u001b[0m\u001b[0m\n\u001b[1;32m---> 73\u001b[1;33m             \u001b[0meptm\u001b[0m\u001b[1;33m.\u001b[0m\u001b[0mset_local_mask\u001b[0m\u001b[1;33m(\u001b[0m\u001b[0mcell\u001b[0m\u001b[1;33m,\u001b[0m \u001b[0mwider\u001b[0m\u001b[1;33m=\u001b[0m\u001b[0mTrue\u001b[0m\u001b[1;33m)\u001b[0m\u001b[1;33m\u001b[0m\u001b[0m\n\u001b[0m\u001b[0;32m     74\u001b[0m             \u001b[0mlj\u001b[0m\u001b[1;33m.\u001b[0m\u001b[0mfind_energy_min\u001b[0m\u001b[1;33m(\u001b[0m\u001b[0meptm\u001b[0m\u001b[1;33m)\u001b[0m\u001b[1;33m\u001b[0m\u001b[0m\n\u001b[0;32m     75\u001b[0m             \u001b[1;32mif\u001b[0m \u001b[0mpola\u001b[0m\u001b[1;33m:\u001b[0m\u001b[1;33m\u001b[0m\u001b[0m\n",
        "\u001b[1;32m/home/guillaume/Python/leg_joint/leg_joint/filters.pyc\u001b[0m in \u001b[0;36mnew_function\u001b[1;34m(self, *args, **kwargs)\u001b[0m\n\u001b[0;32m     41\u001b[0m         \u001b[0mself\u001b[0m\u001b[1;33m.\u001b[0m\u001b[0mgraph\u001b[0m\u001b[1;33m.\u001b[0m\u001b[0mset_vertex_filter\u001b[0m\u001b[1;33m(\u001b[0m\u001b[0mNone\u001b[0m\u001b[1;33m)\u001b[0m\u001b[1;33m\u001b[0m\u001b[0m\n\u001b[0;32m     42\u001b[0m         \u001b[0mself\u001b[0m\u001b[1;33m.\u001b[0m\u001b[0mgraph\u001b[0m\u001b[1;33m.\u001b[0m\u001b[0mset_edge_filter\u001b[0m\u001b[1;33m(\u001b[0m\u001b[0mNone\u001b[0m\u001b[1;33m)\u001b[0m\u001b[1;33m\u001b[0m\u001b[0m\n\u001b[1;32m---> 43\u001b[1;33m         \u001b[0mout\u001b[0m \u001b[1;33m=\u001b[0m \u001b[0mmeth\u001b[0m\u001b[1;33m(\u001b[0m\u001b[0mself\u001b[0m\u001b[1;33m,\u001b[0m \u001b[1;33m*\u001b[0m\u001b[0margs\u001b[0m\u001b[1;33m,\u001b[0m \u001b[1;33m**\u001b[0m\u001b[0mkwargs\u001b[0m\u001b[1;33m)\u001b[0m\u001b[1;33m\u001b[0m\u001b[0m\n\u001b[0m\u001b[0;32m     44\u001b[0m         \u001b[1;32mif\u001b[0m \u001b[0mself\u001b[0m\u001b[1;33m.\u001b[0m\u001b[0m__verbose__\u001b[0m \u001b[1;33m:\u001b[0m \u001b[1;32mprint\u001b[0m \u001b[1;34m'restore from no filter'\u001b[0m\u001b[1;33m\u001b[0m\u001b[0m\n\u001b[0;32m     45\u001b[0m         \u001b[0mself\u001b[0m\u001b[1;33m.\u001b[0m\u001b[0mgraph\u001b[0m\u001b[1;33m.\u001b[0m\u001b[0mset_vertex_filter\u001b[0m\u001b[1;33m(\u001b[0m\u001b[0mprev_vstate\u001b[0m\u001b[1;33m,\u001b[0m \u001b[0mprev_inverted_v\u001b[0m\u001b[1;33m)\u001b[0m\u001b[1;33m\u001b[0m\u001b[0m\n",
        "\u001b[1;32m/home/guillaume/Python/leg_joint/leg_joint/filters.pyc\u001b[0m in \u001b[0;36mset_local_mask\u001b[1;34m(self, cell, wider)\u001b[0m\n\u001b[0;32m    272\u001b[0m                 \u001b[0mself\u001b[0m\u001b[1;33m.\u001b[0m\u001b[0mis_active_edge\u001b[0m\u001b[1;33m[\u001b[0m\u001b[0medge\u001b[0m\u001b[1;33m]\u001b[0m \u001b[1;33m=\u001b[0m \u001b[1;36m1\u001b[0m\u001b[1;33m\u001b[0m\u001b[0m\n\u001b[0;32m    273\u001b[0m         \u001b[1;32mif\u001b[0m \u001b[0mwider\u001b[0m\u001b[1;33m:\u001b[0m\u001b[1;33m\u001b[0m\u001b[0m\n\u001b[1;32m--> 274\u001b[1;33m             \u001b[1;32mfor\u001b[0m \u001b[0mn_cell\u001b[0m \u001b[1;32min\u001b[0m \u001b[0mself\u001b[0m\u001b[1;33m.\u001b[0m\u001b[0mcells\u001b[0m\u001b[1;33m.\u001b[0m\u001b[0mget_neighbor_cells\u001b[0m\u001b[1;33m(\u001b[0m\u001b[0mcell\u001b[0m\u001b[1;33m)\u001b[0m\u001b[1;33m:\u001b[0m\u001b[1;33m\u001b[0m\u001b[0m\n\u001b[0m\u001b[0;32m    275\u001b[0m                 \u001b[0mself\u001b[0m\u001b[1;33m.\u001b[0m\u001b[0mset_local_mask\u001b[0m\u001b[1;33m(\u001b[0m\u001b[0mn_cell\u001b[0m\u001b[1;33m,\u001b[0m \u001b[0mwider\u001b[0m\u001b[1;33m=\u001b[0m\u001b[0mFalse\u001b[0m\u001b[1;33m)\u001b[0m\u001b[1;33m\u001b[0m\u001b[0m\n\u001b[0;32m    276\u001b[0m \u001b[1;33m\u001b[0m\u001b[0m\n",
        "\u001b[1;32m/home/guillaume/Python/leg_joint/leg_joint/objects.pyc\u001b[0m in \u001b[0;36mget_neighbor_cells\u001b[1;34m(self, cell)\u001b[0m\n\u001b[0;32m    719\u001b[0m         \u001b[0mneighbors\u001b[0m \u001b[1;33m=\u001b[0m \u001b[1;33m[\u001b[0m\u001b[1;33m]\u001b[0m\u001b[1;33m\u001b[0m\u001b[0m\n\u001b[0;32m    720\u001b[0m         \u001b[1;32mfor\u001b[0m \u001b[0mje\u001b[0m \u001b[1;32min\u001b[0m \u001b[0mjes\u001b[0m\u001b[1;33m:\u001b[0m\u001b[1;33m\u001b[0m\u001b[0m\n\u001b[1;32m--> 721\u001b[1;33m             \u001b[0mcell0\u001b[0m\u001b[1;33m,\u001b[0m \u001b[0mcell1\u001b[0m \u001b[1;33m=\u001b[0m \u001b[0mself\u001b[0m\u001b[1;33m.\u001b[0m\u001b[0meptm\u001b[0m\u001b[1;33m.\u001b[0m\u001b[0mjunctions\u001b[0m\u001b[1;33m.\u001b[0m\u001b[0madjacent_cells\u001b[0m\u001b[1;33m[\u001b[0m\u001b[0mje\u001b[0m\u001b[1;33m]\u001b[0m\u001b[1;33m\u001b[0m\u001b[0m\n\u001b[0m\u001b[0;32m    722\u001b[0m             \u001b[0mneighbors\u001b[0m\u001b[1;33m.\u001b[0m\u001b[0mappend\u001b[0m\u001b[1;33m(\u001b[0m\u001b[0mcell0\u001b[0m \u001b[1;32mif\u001b[0m \u001b[0mcell0\u001b[0m \u001b[1;33m!=\u001b[0m \u001b[0mcell\u001b[0m \u001b[1;32melse\u001b[0m \u001b[0mcell1\u001b[0m\u001b[1;33m)\u001b[0m\u001b[1;33m\u001b[0m\u001b[0m\n\u001b[0;32m    723\u001b[0m         \u001b[1;32mreturn\u001b[0m \u001b[0mneighbors\u001b[0m\u001b[1;33m\u001b[0m\u001b[0m\n",
        "\u001b[1;31mValueError\u001b[0m: too many values to unpack"
       ]
      },
      {
       "output_type": "stream",
       "stream": "stdout",
       "text": [
        "\n"
       ]
      },
      {
       "output_type": "stream",
       "stream": "stderr",
       "text": [
        "/home/guillaume/Python/leg_joint/leg_joint/objects.py:340: RuntimeWarning: invalid value encountered in divide\n",
        "  self.u_dixs.a = self.dixs.a / edge_lengths\n",
        "/home/guillaume/Python/leg_joint/leg_joint/objects.py:341: RuntimeWarning: invalid value encountered in divide\n",
        "  self.u_dwys.a = self.dwys.a / edge_lengths\n",
        "/home/guillaume/Python/leg_joint/leg_joint/objects.py:342: RuntimeWarning: invalid value encountered in divide\n",
        "  self.u_dzeds.a = self.dzeds.a / edge_lengths\n"
       ]
      }
     ],
     "prompt_number": 20
    },
    {
     "cell_type": "code",
     "collapsed": false,
     "input": [
      "eptm.set_local_mask(None)\n",
      "eptm.set_local_mask(apopto_cells[0])\n"
     ],
     "language": "python",
     "metadata": {},
     "outputs": []
    },
    {
     "cell_type": "code",
     "collapsed": false,
     "input": [
      "lj.plot_ortho_proj(eptm, vfilt=eptm.is_local_vert, efilt=eptm.is_local_edge)"
     ],
     "language": "python",
     "metadata": {},
     "outputs": []
    },
    {
     "cell_type": "code",
     "collapsed": false,
     "input": [
      "cells = [cell for cell in eptm.cells if eptm.is_alive[cell]] \n",
      "np.random.shuffle(cells)\n",
      "for cell in cells:\n",
      "    eptm.set_local_mask(None)\n",
      "    eptm.set_local_mask(cell)\n",
      "    lj.find_energy_min(eptm)"
     ],
     "language": "python",
     "metadata": {},
     "outputs": []
    },
    {
     "cell_type": "code",
     "collapsed": false,
     "input": [
      "eptm.graph.save('../saved_graphs/xml/after_apoptosis_poraized.xml')"
     ],
     "language": "python",
     "metadata": {},
     "outputs": []
    },
    {
     "cell_type": "code",
     "collapsed": false,
     "input": [
      "lj.local_slice(eptm, theta_c=0., zed_c=0, theta_amp=3.14/3, zed_amp=5)"
     ],
     "language": "python",
     "metadata": {},
     "outputs": []
    },
    {
     "cell_type": "code",
     "collapsed": false,
     "input": [
      "lj.plot_ortho_proj(eptm, vfilt=eptm.is_local_vert, efilt=eptm.is_local_edge, text=False)"
     ],
     "language": "python",
     "metadata": {},
     "outputs": []
    },
    {
     "cell_type": "code",
     "collapsed": false,
     "input": [
      "figure(); plot(eptm.rhos.fa)"
     ],
     "language": "python",
     "metadata": {},
     "outputs": []
    },
    {
     "cell_type": "code",
     "collapsed": false,
     "input": [
      "lj.draw(eptm)"
     ],
     "language": "python",
     "metadata": {},
     "outputs": []
    },
    {
     "cell_type": "code",
     "collapsed": false,
     "input": [
      "eptm = lj.Epithelium('../saved_graphs/xml/after_apoptosis_polarized2.5.xml',\n",
      "                     paramfile='../default/params.xml')"
     ],
     "language": "python",
     "metadata": {},
     "outputs": []
    },
    {
     "cell_type": "code",
     "collapsed": false,
     "input": [
      "anisotropies = eptm.cells.get_anisotropies()\n",
      "eptm.graph.set_vertex_filter(eptm.is_cell_vert)\n",
      "fig, ax = plt.subplots()\n",
      "ax.plot(eptm.zeds.fa, anisotropies.fa, 'ro', alpha=0.5)\n",
      "eptm.graph.set_vertex_filter(None)"
     ],
     "language": "python",
     "metadata": {},
     "outputs": []
    },
    {
     "cell_type": "code",
     "collapsed": false,
     "input": [
      "import os\n",
      "dirname = 'apopto_vr0.80_ctr1.20_rt0.20/'\n",
      "xml_list = os.listdir(os.path.join('../saved_graphs/xml/', dirname))\n",
      "xml_list.sort()\n",
      "xml_list = [fname for fname in xml_list]\n",
      "print(xml_list[0], xml_list[-1])"
     ],
     "language": "python",
     "metadata": {},
     "outputs": [
      {
       "output_type": "stream",
       "stream": "stdout",
       "text": [
        "('apopto_0001.xml', 'apopto_0610.xml')\n"
       ]
      }
     ],
     "prompt_number": 33
    },
    {
     "cell_type": "code",
     "collapsed": false,
     "input": [
      "\n",
      "\n",
      "for xml_name in xml_list:\n",
      "    xml_graph = os.path.join('../saved_graphs/xml/', dirname, xml_name)\n",
      "    png_name = os.path.join('../saved_graphs/xml/', dirname, xml_name[:-4]+'_3d.png')\n",
      "    etm = lj.Epithelium(xml_graph,\n",
      "                        paramfile='../default/params.xml')\n",
      "    lj.draw(eptm, output3d=png_name, verbose=True)\n",
      "for theta in np.linspace(0, 2*np.pi, 180):\n",
      "    name = png_name[:-4]+'%.3f.png' % theta\n",
      "    lj.draw(eptm, output3d=png_name, verbose=True)"
     ],
     "language": "python",
     "metadata": {},
     "outputs": [
      {
       "output_type": "stream",
       "stream": "stdout",
       "text": [
        "4344\n",
        "saved tissue to ../saved_graphs/xml/apopto_vr0.80_ctr1.20_rt0.20/apopto_0001_3d.png"
       ]
      },
      {
       "output_type": "stream",
       "stream": "stdout",
       "text": [
        "\n",
        "saved tissue to tissue_sz.pdf"
       ]
      },
      {
       "output_type": "stream",
       "stream": "stdout",
       "text": [
        "\n",
        "4344"
       ]
      },
      {
       "output_type": "stream",
       "stream": "stdout",
       "text": [
        "\n",
        "saved tissue to ../saved_graphs/xml/apopto_vr0.80_ctr1.20_rt0.20/apopto_0002_3d.png"
       ]
      },
      {
       "output_type": "stream",
       "stream": "stdout",
       "text": [
        "\n",
        "saved tissue to tissue_sz.pdf"
       ]
      },
      {
       "output_type": "stream",
       "stream": "stdout",
       "text": [
        "\n",
        "4344"
       ]
      },
      {
       "output_type": "stream",
       "stream": "stdout",
       "text": [
        "\n",
        "saved tissue to ../saved_graphs/xml/apopto_vr0.80_ctr1.20_rt0.20/apopto_0003_3d.png"
       ]
      },
      {
       "output_type": "stream",
       "stream": "stdout",
       "text": [
        "\n",
        "saved tissue to tissue_sz.pdf"
       ]
      },
      {
       "output_type": "stream",
       "stream": "stdout",
       "text": [
        "\n",
        "4344"
       ]
      },
      {
       "output_type": "stream",
       "stream": "stdout",
       "text": [
        "\n",
        "saved tissue to ../saved_graphs/xml/apopto_vr0.80_ctr1.20_rt0.20/apopto_0004_3d.png"
       ]
      },
      {
       "output_type": "stream",
       "stream": "stdout",
       "text": [
        "\n",
        "saved tissue to tissue_sz.pdf"
       ]
      },
      {
       "output_type": "stream",
       "stream": "stdout",
       "text": [
        "\n",
        "4344"
       ]
      },
      {
       "output_type": "stream",
       "stream": "stdout",
       "text": [
        "\n",
        "saved tissue to ../saved_graphs/xml/apopto_vr0.80_ctr1.20_rt0.20/apopto_0005_3d.png"
       ]
      },
      {
       "output_type": "stream",
       "stream": "stdout",
       "text": [
        "\n",
        "saved tissue to tissue_sz.pdf"
       ]
      },
      {
       "output_type": "stream",
       "stream": "stdout",
       "text": [
        "\n",
        "4344"
       ]
      },
      {
       "output_type": "stream",
       "stream": "stdout",
       "text": [
        "\n",
        "saved tissue to ../saved_graphs/xml/apopto_vr0.80_ctr1.20_rt0.20/apopto_0006_3d.png"
       ]
      },
      {
       "output_type": "stream",
       "stream": "stdout",
       "text": [
        "\n",
        "saved tissue to tissue_sz.pdf"
       ]
      },
      {
       "output_type": "stream",
       "stream": "stdout",
       "text": [
        "\n",
        "4344"
       ]
      },
      {
       "output_type": "stream",
       "stream": "stdout",
       "text": [
        "\n",
        "saved tissue to ../saved_graphs/xml/apopto_vr0.80_ctr1.20_rt0.20/apopto_0007_3d.png"
       ]
      },
      {
       "output_type": "stream",
       "stream": "stdout",
       "text": [
        "\n",
        "saved tissue to tissue_sz.pdf"
       ]
      },
      {
       "output_type": "stream",
       "stream": "stdout",
       "text": [
        "\n",
        "4344"
       ]
      },
      {
       "output_type": "stream",
       "stream": "stdout",
       "text": [
        "\n",
        "saved tissue to ../saved_graphs/xml/apopto_vr0.80_ctr1.20_rt0.20/apopto_0008_3d.png"
       ]
      },
      {
       "output_type": "stream",
       "stream": "stdout",
       "text": [
        "\n",
        "saved tissue to tissue_sz.pdf"
       ]
      },
      {
       "output_type": "stream",
       "stream": "stdout",
       "text": [
        "\n",
        "4344"
       ]
      },
      {
       "output_type": "stream",
       "stream": "stdout",
       "text": [
        "\n",
        "saved tissue to ../saved_graphs/xml/apopto_vr0.80_ctr1.20_rt0.20/apopto_0009_3d.png"
       ]
      },
      {
       "output_type": "stream",
       "stream": "stdout",
       "text": [
        "\n",
        "saved tissue to tissue_sz.pdf"
       ]
      },
      {
       "output_type": "stream",
       "stream": "stdout",
       "text": [
        "\n",
        "4344"
       ]
      },
      {
       "output_type": "stream",
       "stream": "stdout",
       "text": [
        "\n",
        "saved tissue to ../saved_graphs/xml/apopto_vr0.80_ctr1.20_rt0.20/apopto_0010_3d.png"
       ]
      },
      {
       "output_type": "stream",
       "stream": "stdout",
       "text": [
        "\n",
        "saved tissue to tissue_sz.pdf"
       ]
      },
      {
       "output_type": "stream",
       "stream": "stdout",
       "text": [
        "\n",
        "4344"
       ]
      },
      {
       "output_type": "stream",
       "stream": "stdout",
       "text": [
        "\n",
        "saved tissue to ../saved_graphs/xml/apopto_vr0.80_ctr1.20_rt0.20/apopto_0011_3d.png"
       ]
      },
      {
       "output_type": "stream",
       "stream": "stdout",
       "text": [
        "\n",
        "saved tissue to tissue_sz.pdf"
       ]
      },
      {
       "output_type": "stream",
       "stream": "stdout",
       "text": [
        "\n",
        "4344"
       ]
      },
      {
       "output_type": "stream",
       "stream": "stdout",
       "text": [
        "\n",
        "saved tissue to ../saved_graphs/xml/apopto_vr0.80_ctr1.20_rt0.20/apopto_0012_3d.png"
       ]
      },
      {
       "output_type": "stream",
       "stream": "stdout",
       "text": [
        "\n",
        "saved tissue to tissue_sz.pdf"
       ]
      },
      {
       "output_type": "stream",
       "stream": "stdout",
       "text": [
        "\n",
        "4344"
       ]
      },
      {
       "output_type": "stream",
       "stream": "stdout",
       "text": [
        "\n",
        "saved tissue to ../saved_graphs/xml/apopto_vr0.80_ctr1.20_rt0.20/apopto_0013_3d.png"
       ]
      },
      {
       "output_type": "stream",
       "stream": "stdout",
       "text": [
        "\n",
        "saved tissue to tissue_sz.pdf"
       ]
      },
      {
       "output_type": "stream",
       "stream": "stdout",
       "text": [
        "\n",
        "4344"
       ]
      },
      {
       "output_type": "stream",
       "stream": "stdout",
       "text": [
        "\n",
        "saved tissue to ../saved_graphs/xml/apopto_vr0.80_ctr1.20_rt0.20/apopto_0014_3d.png"
       ]
      },
      {
       "output_type": "stream",
       "stream": "stdout",
       "text": [
        "\n",
        "saved tissue to tissue_sz.pdf"
       ]
      },
      {
       "output_type": "stream",
       "stream": "stdout",
       "text": [
        "\n",
        "4344"
       ]
      },
      {
       "output_type": "stream",
       "stream": "stdout",
       "text": [
        "\n",
        "saved tissue to ../saved_graphs/xml/apopto_vr0.80_ctr1.20_rt0.20/apopto_0015_3d.png"
       ]
      },
      {
       "output_type": "stream",
       "stream": "stdout",
       "text": [
        "\n",
        "saved tissue to tissue_sz.pdf"
       ]
      },
      {
       "output_type": "stream",
       "stream": "stdout",
       "text": [
        "\n",
        "4344"
       ]
      },
      {
       "output_type": "stream",
       "stream": "stdout",
       "text": [
        "\n",
        "saved tissue to ../saved_graphs/xml/apopto_vr0.80_ctr1.20_rt0.20/apopto_0016_3d.png"
       ]
      },
      {
       "output_type": "stream",
       "stream": "stdout",
       "text": [
        "\n",
        "saved tissue to tissue_sz.pdf"
       ]
      },
      {
       "output_type": "stream",
       "stream": "stdout",
       "text": [
        "\n",
        "4344"
       ]
      },
      {
       "output_type": "stream",
       "stream": "stdout",
       "text": [
        "\n",
        "saved tissue to ../saved_graphs/xml/apopto_vr0.80_ctr1.20_rt0.20/apopto_0017_3d.png"
       ]
      },
      {
       "output_type": "stream",
       "stream": "stdout",
       "text": [
        "\n",
        "saved tissue to tissue_sz.pdf"
       ]
      },
      {
       "output_type": "stream",
       "stream": "stdout",
       "text": [
        "\n",
        "4344"
       ]
      },
      {
       "output_type": "stream",
       "stream": "stdout",
       "text": [
        "\n",
        "saved tissue to ../saved_graphs/xml/apopto_vr0.80_ctr1.20_rt0.20/apopto_0018_3d.png"
       ]
      },
      {
       "output_type": "stream",
       "stream": "stdout",
       "text": [
        "\n",
        "saved tissue to tissue_sz.pdf"
       ]
      },
      {
       "output_type": "stream",
       "stream": "stdout",
       "text": [
        "\n",
        "4344"
       ]
      },
      {
       "output_type": "stream",
       "stream": "stdout",
       "text": [
        "\n",
        "saved tissue to ../saved_graphs/xml/apopto_vr0.80_ctr1.20_rt0.20/apopto_0019_3d.png"
       ]
      },
      {
       "output_type": "stream",
       "stream": "stdout",
       "text": [
        "\n",
        "saved tissue to tissue_sz.pdf"
       ]
      },
      {
       "output_type": "stream",
       "stream": "stdout",
       "text": [
        "\n",
        "4344"
       ]
      },
      {
       "output_type": "stream",
       "stream": "stdout",
       "text": [
        "\n",
        "saved tissue to ../saved_graphs/xml/apopto_vr0.80_ctr1.20_rt0.20/apopto_0020_3d.png"
       ]
      },
      {
       "output_type": "stream",
       "stream": "stdout",
       "text": [
        "\n",
        "saved tissue to tissue_sz.pdf"
       ]
      },
      {
       "output_type": "stream",
       "stream": "stdout",
       "text": [
        "\n",
        "4344"
       ]
      },
      {
       "output_type": "stream",
       "stream": "stdout",
       "text": [
        "\n",
        "saved tissue to ../saved_graphs/xml/apopto_vr0.80_ctr1.20_rt0.20/apopto_0021_3d.png"
       ]
      },
      {
       "output_type": "stream",
       "stream": "stdout",
       "text": [
        "\n",
        "saved tissue to tissue_sz.pdf"
       ]
      },
      {
       "output_type": "stream",
       "stream": "stdout",
       "text": [
        "\n",
        "4344"
       ]
      },
      {
       "output_type": "stream",
       "stream": "stdout",
       "text": [
        "\n",
        "saved tissue to ../saved_graphs/xml/apopto_vr0.80_ctr1.20_rt0.20/apopto_0022_3d.png"
       ]
      },
      {
       "output_type": "stream",
       "stream": "stdout",
       "text": [
        "\n",
        "saved tissue to tissue_sz.pdf"
       ]
      },
      {
       "output_type": "stream",
       "stream": "stdout",
       "text": [
        "\n",
        "4344"
       ]
      },
      {
       "output_type": "stream",
       "stream": "stdout",
       "text": [
        "\n",
        "saved tissue to ../saved_graphs/xml/apopto_vr0.80_ctr1.20_rt0.20/apopto_0023_3d.png"
       ]
      },
      {
       "output_type": "stream",
       "stream": "stdout",
       "text": [
        "\n",
        "saved tissue to tissue_sz.pdf"
       ]
      },
      {
       "output_type": "stream",
       "stream": "stdout",
       "text": [
        "\n",
        "4344"
       ]
      },
      {
       "output_type": "stream",
       "stream": "stdout",
       "text": [
        "\n",
        "saved tissue to ../saved_graphs/xml/apopto_vr0.80_ctr1.20_rt0.20/apopto_0024_3d.png"
       ]
      },
      {
       "output_type": "stream",
       "stream": "stdout",
       "text": [
        "\n",
        "saved tissue to tissue_sz.pdf"
       ]
      },
      {
       "output_type": "stream",
       "stream": "stdout",
       "text": [
        "\n",
        "4344"
       ]
      },
      {
       "output_type": "stream",
       "stream": "stdout",
       "text": [
        "\n",
        "saved tissue to ../saved_graphs/xml/apopto_vr0.80_ctr1.20_rt0.20/apopto_0025_3d.png"
       ]
      },
      {
       "output_type": "stream",
       "stream": "stdout",
       "text": [
        "\n",
        "saved tissue to tissue_sz.pdf"
       ]
      },
      {
       "output_type": "stream",
       "stream": "stdout",
       "text": [
        "\n",
        "4344"
       ]
      },
      {
       "output_type": "stream",
       "stream": "stdout",
       "text": [
        "\n",
        "saved tissue to ../saved_graphs/xml/apopto_vr0.80_ctr1.20_rt0.20/apopto_0026_3d.png"
       ]
      },
      {
       "output_type": "stream",
       "stream": "stdout",
       "text": [
        "\n",
        "saved tissue to tissue_sz.pdf"
       ]
      },
      {
       "output_type": "stream",
       "stream": "stdout",
       "text": [
        "\n",
        "4344"
       ]
      },
      {
       "output_type": "stream",
       "stream": "stdout",
       "text": [
        "\n",
        "saved tissue to ../saved_graphs/xml/apopto_vr0.80_ctr1.20_rt0.20/apopto_0027_3d.png"
       ]
      },
      {
       "output_type": "stream",
       "stream": "stdout",
       "text": [
        "\n",
        "saved tissue to tissue_sz.pdf"
       ]
      },
      {
       "output_type": "stream",
       "stream": "stdout",
       "text": [
        "\n",
        "4344"
       ]
      },
      {
       "output_type": "stream",
       "stream": "stdout",
       "text": [
        "\n",
        "saved tissue to ../saved_graphs/xml/apopto_vr0.80_ctr1.20_rt0.20/apopto_0028_3d.png"
       ]
      },
      {
       "output_type": "stream",
       "stream": "stdout",
       "text": [
        "\n",
        "saved tissue to tissue_sz.pdf"
       ]
      },
      {
       "output_type": "stream",
       "stream": "stdout",
       "text": [
        "\n",
        "4344"
       ]
      },
      {
       "output_type": "stream",
       "stream": "stdout",
       "text": [
        "\n",
        "saved tissue to ../saved_graphs/xml/apopto_vr0.80_ctr1.20_rt0.20/apopto_0029_3d.png"
       ]
      },
      {
       "output_type": "stream",
       "stream": "stdout",
       "text": [
        "\n",
        "saved tissue to tissue_sz.pdf"
       ]
      },
      {
       "output_type": "stream",
       "stream": "stdout",
       "text": [
        "\n",
        "4344"
       ]
      },
      {
       "output_type": "stream",
       "stream": "stdout",
       "text": [
        "\n",
        "saved tissue to ../saved_graphs/xml/apopto_vr0.80_ctr1.20_rt0.20/apopto_0030_3d.png"
       ]
      },
      {
       "output_type": "stream",
       "stream": "stdout",
       "text": [
        "\n",
        "saved tissue to tissue_sz.pdf"
       ]
      },
      {
       "output_type": "stream",
       "stream": "stdout",
       "text": [
        "\n",
        "4344"
       ]
      },
      {
       "output_type": "stream",
       "stream": "stdout",
       "text": [
        "\n",
        "saved tissue to ../saved_graphs/xml/apopto_vr0.80_ctr1.20_rt0.20/apopto_0031_3d.png"
       ]
      },
      {
       "output_type": "stream",
       "stream": "stdout",
       "text": [
        "\n",
        "saved tissue to tissue_sz.pdf"
       ]
      },
      {
       "output_type": "stream",
       "stream": "stdout",
       "text": [
        "\n",
        "4344"
       ]
      },
      {
       "output_type": "stream",
       "stream": "stdout",
       "text": [
        "\n",
        "saved tissue to ../saved_graphs/xml/apopto_vr0.80_ctr1.20_rt0.20/apopto_0032_3d.png"
       ]
      },
      {
       "output_type": "stream",
       "stream": "stdout",
       "text": [
        "\n",
        "saved tissue to tissue_sz.pdf"
       ]
      },
      {
       "output_type": "stream",
       "stream": "stdout",
       "text": [
        "\n",
        "4344"
       ]
      },
      {
       "output_type": "stream",
       "stream": "stdout",
       "text": [
        "\n",
        "saved tissue to ../saved_graphs/xml/apopto_vr0.80_ctr1.20_rt0.20/apopto_0033_3d.png"
       ]
      },
      {
       "output_type": "stream",
       "stream": "stdout",
       "text": [
        "\n",
        "saved tissue to tissue_sz.pdf"
       ]
      },
      {
       "output_type": "stream",
       "stream": "stdout",
       "text": [
        "\n",
        "4344"
       ]
      },
      {
       "output_type": "stream",
       "stream": "stdout",
       "text": [
        "\n",
        "saved tissue to ../saved_graphs/xml/apopto_vr0.80_ctr1.20_rt0.20/apopto_0034_3d.png"
       ]
      },
      {
       "output_type": "stream",
       "stream": "stdout",
       "text": [
        "\n",
        "saved tissue to tissue_sz.pdf"
       ]
      },
      {
       "output_type": "stream",
       "stream": "stdout",
       "text": [
        "\n",
        "4344"
       ]
      },
      {
       "output_type": "stream",
       "stream": "stdout",
       "text": [
        "\n",
        "saved tissue to ../saved_graphs/xml/apopto_vr0.80_ctr1.20_rt0.20/apopto_0035_3d.png"
       ]
      },
      {
       "output_type": "stream",
       "stream": "stdout",
       "text": [
        "\n",
        "saved tissue to tissue_sz.pdf"
       ]
      },
      {
       "output_type": "stream",
       "stream": "stdout",
       "text": [
        "\n",
        "4344"
       ]
      },
      {
       "output_type": "stream",
       "stream": "stdout",
       "text": [
        "\n",
        "saved tissue to ../saved_graphs/xml/apopto_vr0.80_ctr1.20_rt0.20/apopto_0036_3d.png"
       ]
      },
      {
       "output_type": "stream",
       "stream": "stdout",
       "text": [
        "\n",
        "saved tissue to tissue_sz.pdf"
       ]
      },
      {
       "output_type": "stream",
       "stream": "stdout",
       "text": [
        "\n",
        "4344"
       ]
      },
      {
       "output_type": "stream",
       "stream": "stdout",
       "text": [
        "\n",
        "saved tissue to ../saved_graphs/xml/apopto_vr0.80_ctr1.20_rt0.20/apopto_0037_3d.png"
       ]
      },
      {
       "output_type": "stream",
       "stream": "stdout",
       "text": [
        "\n",
        "saved tissue to tissue_sz.pdf"
       ]
      },
      {
       "output_type": "stream",
       "stream": "stdout",
       "text": [
        "\n",
        "4344"
       ]
      },
      {
       "output_type": "stream",
       "stream": "stdout",
       "text": [
        "\n",
        "saved tissue to ../saved_graphs/xml/apopto_vr0.80_ctr1.20_rt0.20/apopto_0038_3d.png"
       ]
      },
      {
       "output_type": "stream",
       "stream": "stdout",
       "text": [
        "\n",
        "saved tissue to tissue_sz.pdf"
       ]
      },
      {
       "output_type": "stream",
       "stream": "stdout",
       "text": [
        "\n",
        "4344"
       ]
      },
      {
       "output_type": "stream",
       "stream": "stdout",
       "text": [
        "\n",
        "saved tissue to ../saved_graphs/xml/apopto_vr0.80_ctr1.20_rt0.20/apopto_0039_3d.png"
       ]
      },
      {
       "output_type": "stream",
       "stream": "stdout",
       "text": [
        "\n",
        "saved tissue to tissue_sz.pdf"
       ]
      },
      {
       "output_type": "stream",
       "stream": "stdout",
       "text": [
        "\n",
        "4344"
       ]
      },
      {
       "output_type": "stream",
       "stream": "stdout",
       "text": [
        "\n",
        "saved tissue to ../saved_graphs/xml/apopto_vr0.80_ctr1.20_rt0.20/apopto_0040_3d.png"
       ]
      },
      {
       "output_type": "stream",
       "stream": "stdout",
       "text": [
        "\n",
        "saved tissue to tissue_sz.pdf"
       ]
      },
      {
       "output_type": "stream",
       "stream": "stdout",
       "text": [
        "\n",
        "4344"
       ]
      },
      {
       "output_type": "stream",
       "stream": "stdout",
       "text": [
        "\n",
        "saved tissue to ../saved_graphs/xml/apopto_vr0.80_ctr1.20_rt0.20/apopto_0041_3d.png"
       ]
      },
      {
       "output_type": "stream",
       "stream": "stdout",
       "text": [
        "\n",
        "saved tissue to tissue_sz.pdf"
       ]
      },
      {
       "output_type": "stream",
       "stream": "stdout",
       "text": [
        "\n",
        "4344"
       ]
      },
      {
       "output_type": "stream",
       "stream": "stdout",
       "text": [
        "\n",
        "saved tissue to ../saved_graphs/xml/apopto_vr0.80_ctr1.20_rt0.20/apopto_0042_3d.png"
       ]
      },
      {
       "output_type": "stream",
       "stream": "stdout",
       "text": [
        "\n",
        "saved tissue to tissue_sz.pdf"
       ]
      },
      {
       "output_type": "stream",
       "stream": "stdout",
       "text": [
        "\n",
        "4344"
       ]
      },
      {
       "output_type": "stream",
       "stream": "stdout",
       "text": [
        "\n",
        "saved tissue to ../saved_graphs/xml/apopto_vr0.80_ctr1.20_rt0.20/apopto_0043_3d.png"
       ]
      },
      {
       "output_type": "stream",
       "stream": "stdout",
       "text": [
        "\n",
        "saved tissue to tissue_sz.pdf"
       ]
      },
      {
       "output_type": "stream",
       "stream": "stdout",
       "text": [
        "\n",
        "4344"
       ]
      },
      {
       "output_type": "stream",
       "stream": "stdout",
       "text": [
        "\n",
        "saved tissue to ../saved_graphs/xml/apopto_vr0.80_ctr1.20_rt0.20/apopto_0044_3d.png"
       ]
      },
      {
       "output_type": "stream",
       "stream": "stdout",
       "text": [
        "\n",
        "saved tissue to tissue_sz.pdf"
       ]
      },
      {
       "output_type": "stream",
       "stream": "stdout",
       "text": [
        "\n",
        "4344"
       ]
      },
      {
       "output_type": "stream",
       "stream": "stdout",
       "text": [
        "\n",
        "saved tissue to ../saved_graphs/xml/apopto_vr0.80_ctr1.20_rt0.20/apopto_0045_3d.png"
       ]
      },
      {
       "output_type": "stream",
       "stream": "stdout",
       "text": [
        "\n",
        "saved tissue to tissue_sz.pdf"
       ]
      },
      {
       "output_type": "stream",
       "stream": "stdout",
       "text": [
        "\n",
        "4344"
       ]
      },
      {
       "output_type": "stream",
       "stream": "stdout",
       "text": [
        "\n",
        "saved tissue to ../saved_graphs/xml/apopto_vr0.80_ctr1.20_rt0.20/apopto_0046_3d.png"
       ]
      },
      {
       "output_type": "stream",
       "stream": "stdout",
       "text": [
        "\n",
        "saved tissue to tissue_sz.pdf"
       ]
      },
      {
       "output_type": "stream",
       "stream": "stdout",
       "text": [
        "\n",
        "4344"
       ]
      },
      {
       "output_type": "stream",
       "stream": "stdout",
       "text": [
        "\n",
        "saved tissue to ../saved_graphs/xml/apopto_vr0.80_ctr1.20_rt0.20/apopto_0047_3d.png"
       ]
      },
      {
       "output_type": "stream",
       "stream": "stdout",
       "text": [
        "\n",
        "saved tissue to tissue_sz.pdf"
       ]
      },
      {
       "output_type": "stream",
       "stream": "stdout",
       "text": [
        "\n",
        "4344"
       ]
      },
      {
       "output_type": "stream",
       "stream": "stdout",
       "text": [
        "\n",
        "saved tissue to ../saved_graphs/xml/apopto_vr0.80_ctr1.20_rt0.20/apopto_0048_3d.png"
       ]
      },
      {
       "output_type": "stream",
       "stream": "stdout",
       "text": [
        "\n",
        "saved tissue to tissue_sz.pdf"
       ]
      },
      {
       "output_type": "stream",
       "stream": "stdout",
       "text": [
        "\n",
        "4344"
       ]
      },
      {
       "output_type": "stream",
       "stream": "stdout",
       "text": [
        "\n",
        "saved tissue to ../saved_graphs/xml/apopto_vr0.80_ctr1.20_rt0.20/apopto_0049_3d.png"
       ]
      },
      {
       "output_type": "stream",
       "stream": "stdout",
       "text": [
        "\n",
        "saved tissue to tissue_sz.pdf"
       ]
      },
      {
       "output_type": "stream",
       "stream": "stdout",
       "text": [
        "\n",
        "4344"
       ]
      },
      {
       "output_type": "stream",
       "stream": "stdout",
       "text": [
        "\n",
        "saved tissue to ../saved_graphs/xml/apopto_vr0.80_ctr1.20_rt0.20/apopto_0050_3d.png"
       ]
      },
      {
       "output_type": "stream",
       "stream": "stdout",
       "text": [
        "\n",
        "saved tissue to tissue_sz.pdf"
       ]
      },
      {
       "output_type": "stream",
       "stream": "stdout",
       "text": [
        "\n",
        "4344"
       ]
      },
      {
       "output_type": "stream",
       "stream": "stdout",
       "text": [
        "\n",
        "saved tissue to ../saved_graphs/xml/apopto_vr0.80_ctr1.20_rt0.20/apopto_0051_3d.png"
       ]
      },
      {
       "output_type": "stream",
       "stream": "stdout",
       "text": [
        "\n",
        "saved tissue to tissue_sz.pdf"
       ]
      },
      {
       "output_type": "stream",
       "stream": "stdout",
       "text": [
        "\n",
        "4344"
       ]
      },
      {
       "output_type": "stream",
       "stream": "stdout",
       "text": [
        "\n",
        "saved tissue to ../saved_graphs/xml/apopto_vr0.80_ctr1.20_rt0.20/apopto_0052_3d.png"
       ]
      },
      {
       "output_type": "stream",
       "stream": "stdout",
       "text": [
        "\n",
        "saved tissue to tissue_sz.pdf"
       ]
      },
      {
       "output_type": "stream",
       "stream": "stdout",
       "text": [
        "\n",
        "4344"
       ]
      },
      {
       "output_type": "stream",
       "stream": "stdout",
       "text": [
        "\n",
        "saved tissue to ../saved_graphs/xml/apopto_vr0.80_ctr1.20_rt0.20/apopto_0053_3d.png"
       ]
      },
      {
       "output_type": "stream",
       "stream": "stdout",
       "text": [
        "\n",
        "saved tissue to tissue_sz.pdf"
       ]
      },
      {
       "output_type": "stream",
       "stream": "stdout",
       "text": [
        "\n",
        "4344"
       ]
      },
      {
       "output_type": "stream",
       "stream": "stdout",
       "text": [
        "\n",
        "saved tissue to ../saved_graphs/xml/apopto_vr0.80_ctr1.20_rt0.20/apopto_0054_3d.png"
       ]
      },
      {
       "output_type": "stream",
       "stream": "stdout",
       "text": [
        "\n",
        "saved tissue to tissue_sz.pdf"
       ]
      },
      {
       "output_type": "stream",
       "stream": "stdout",
       "text": [
        "\n",
        "4344"
       ]
      },
      {
       "output_type": "stream",
       "stream": "stdout",
       "text": [
        "\n",
        "saved tissue to ../saved_graphs/xml/apopto_vr0.80_ctr1.20_rt0.20/apopto_0055_3d.png"
       ]
      },
      {
       "output_type": "stream",
       "stream": "stdout",
       "text": [
        "\n",
        "saved tissue to tissue_sz.pdf"
       ]
      },
      {
       "output_type": "stream",
       "stream": "stdout",
       "text": [
        "\n",
        "4344"
       ]
      },
      {
       "output_type": "stream",
       "stream": "stdout",
       "text": [
        "\n",
        "saved tissue to ../saved_graphs/xml/apopto_vr0.80_ctr1.20_rt0.20/apopto_0056_3d.png"
       ]
      },
      {
       "output_type": "stream",
       "stream": "stdout",
       "text": [
        "\n",
        "saved tissue to tissue_sz.pdf"
       ]
      },
      {
       "output_type": "stream",
       "stream": "stdout",
       "text": [
        "\n",
        "4344"
       ]
      },
      {
       "output_type": "stream",
       "stream": "stdout",
       "text": [
        "\n",
        "saved tissue to ../saved_graphs/xml/apopto_vr0.80_ctr1.20_rt0.20/apopto_0057_3d.png"
       ]
      },
      {
       "output_type": "stream",
       "stream": "stdout",
       "text": [
        "\n",
        "saved tissue to tissue_sz.pdf"
       ]
      },
      {
       "output_type": "stream",
       "stream": "stdout",
       "text": [
        "\n",
        "4344"
       ]
      },
      {
       "output_type": "stream",
       "stream": "stdout",
       "text": [
        "\n",
        "saved tissue to ../saved_graphs/xml/apopto_vr0.80_ctr1.20_rt0.20/apopto_0058_3d.png"
       ]
      },
      {
       "output_type": "stream",
       "stream": "stdout",
       "text": [
        "\n",
        "saved tissue to tissue_sz.pdf"
       ]
      },
      {
       "output_type": "stream",
       "stream": "stdout",
       "text": [
        "\n",
        "4344"
       ]
      },
      {
       "output_type": "stream",
       "stream": "stdout",
       "text": [
        "\n",
        "saved tissue to ../saved_graphs/xml/apopto_vr0.80_ctr1.20_rt0.20/apopto_0059_3d.png"
       ]
      },
      {
       "output_type": "stream",
       "stream": "stdout",
       "text": [
        "\n",
        "saved tissue to tissue_sz.pdf"
       ]
      },
      {
       "output_type": "stream",
       "stream": "stdout",
       "text": [
        "\n",
        "4344"
       ]
      },
      {
       "output_type": "stream",
       "stream": "stdout",
       "text": [
        "\n",
        "saved tissue to ../saved_graphs/xml/apopto_vr0.80_ctr1.20_rt0.20/apopto_0060_3d.png"
       ]
      },
      {
       "output_type": "stream",
       "stream": "stdout",
       "text": [
        "\n",
        "saved tissue to tissue_sz.pdf"
       ]
      },
      {
       "output_type": "stream",
       "stream": "stdout",
       "text": [
        "\n",
        "4344"
       ]
      },
      {
       "output_type": "stream",
       "stream": "stdout",
       "text": [
        "\n",
        "saved tissue to ../saved_graphs/xml/apopto_vr0.80_ctr1.20_rt0.20/apopto_0061_3d.png"
       ]
      },
      {
       "output_type": "stream",
       "stream": "stdout",
       "text": [
        "\n",
        "saved tissue to tissue_sz.pdf"
       ]
      },
      {
       "output_type": "stream",
       "stream": "stdout",
       "text": [
        "\n",
        "4344"
       ]
      },
      {
       "output_type": "stream",
       "stream": "stdout",
       "text": [
        "\n",
        "saved tissue to ../saved_graphs/xml/apopto_vr0.80_ctr1.20_rt0.20/apopto_0062_3d.png"
       ]
      },
      {
       "output_type": "stream",
       "stream": "stdout",
       "text": [
        "\n",
        "saved tissue to tissue_sz.pdf"
       ]
      },
      {
       "output_type": "stream",
       "stream": "stdout",
       "text": [
        "\n",
        "4344"
       ]
      },
      {
       "output_type": "stream",
       "stream": "stdout",
       "text": [
        "\n",
        "saved tissue to ../saved_graphs/xml/apopto_vr0.80_ctr1.20_rt0.20/apopto_0063_3d.png"
       ]
      },
      {
       "output_type": "stream",
       "stream": "stdout",
       "text": [
        "\n",
        "saved tissue to tissue_sz.pdf"
       ]
      },
      {
       "output_type": "stream",
       "stream": "stdout",
       "text": [
        "\n",
        "4344"
       ]
      },
      {
       "output_type": "stream",
       "stream": "stdout",
       "text": [
        "\n",
        "saved tissue to ../saved_graphs/xml/apopto_vr0.80_ctr1.20_rt0.20/apopto_0064_3d.png"
       ]
      },
      {
       "output_type": "stream",
       "stream": "stdout",
       "text": [
        "\n",
        "saved tissue to tissue_sz.pdf"
       ]
      },
      {
       "output_type": "stream",
       "stream": "stdout",
       "text": [
        "\n",
        "4344"
       ]
      },
      {
       "output_type": "stream",
       "stream": "stdout",
       "text": [
        "\n",
        "saved tissue to ../saved_graphs/xml/apopto_vr0.80_ctr1.20_rt0.20/apopto_0065_3d.png"
       ]
      },
      {
       "output_type": "stream",
       "stream": "stdout",
       "text": [
        "\n",
        "saved tissue to tissue_sz.pdf"
       ]
      },
      {
       "output_type": "stream",
       "stream": "stdout",
       "text": [
        "\n",
        "4344"
       ]
      },
      {
       "output_type": "stream",
       "stream": "stdout",
       "text": [
        "\n",
        "saved tissue to ../saved_graphs/xml/apopto_vr0.80_ctr1.20_rt0.20/apopto_0066_3d.png"
       ]
      },
      {
       "output_type": "stream",
       "stream": "stdout",
       "text": [
        "\n",
        "saved tissue to tissue_sz.pdf"
       ]
      },
      {
       "output_type": "stream",
       "stream": "stdout",
       "text": [
        "\n",
        "4344"
       ]
      },
      {
       "output_type": "stream",
       "stream": "stdout",
       "text": [
        "\n",
        "saved tissue to ../saved_graphs/xml/apopto_vr0.80_ctr1.20_rt0.20/apopto_0067_3d.png"
       ]
      },
      {
       "output_type": "stream",
       "stream": "stdout",
       "text": [
        "\n",
        "saved tissue to tissue_sz.pdf"
       ]
      },
      {
       "output_type": "stream",
       "stream": "stdout",
       "text": [
        "\n",
        "4344"
       ]
      },
      {
       "output_type": "stream",
       "stream": "stdout",
       "text": [
        "\n",
        "saved tissue to ../saved_graphs/xml/apopto_vr0.80_ctr1.20_rt0.20/apopto_0068_3d.png"
       ]
      },
      {
       "output_type": "stream",
       "stream": "stdout",
       "text": [
        "\n",
        "saved tissue to tissue_sz.pdf"
       ]
      },
      {
       "output_type": "stream",
       "stream": "stdout",
       "text": [
        "\n",
        "4344"
       ]
      },
      {
       "output_type": "stream",
       "stream": "stdout",
       "text": [
        "\n",
        "saved tissue to ../saved_graphs/xml/apopto_vr0.80_ctr1.20_rt0.20/apopto_0069_3d.png"
       ]
      },
      {
       "output_type": "stream",
       "stream": "stdout",
       "text": [
        "\n",
        "saved tissue to tissue_sz.pdf"
       ]
      },
      {
       "output_type": "stream",
       "stream": "stdout",
       "text": [
        "\n",
        "4344"
       ]
      },
      {
       "output_type": "stream",
       "stream": "stdout",
       "text": [
        "\n",
        "saved tissue to ../saved_graphs/xml/apopto_vr0.80_ctr1.20_rt0.20/apopto_0070_3d.png"
       ]
      },
      {
       "output_type": "stream",
       "stream": "stdout",
       "text": [
        "\n",
        "saved tissue to tissue_sz.pdf"
       ]
      },
      {
       "output_type": "stream",
       "stream": "stdout",
       "text": [
        "\n",
        "4344"
       ]
      },
      {
       "output_type": "stream",
       "stream": "stdout",
       "text": [
        "\n",
        "saved tissue to ../saved_graphs/xml/apopto_vr0.80_ctr1.20_rt0.20/apopto_0071_3d.png"
       ]
      },
      {
       "output_type": "stream",
       "stream": "stdout",
       "text": [
        "\n",
        "saved tissue to tissue_sz.pdf"
       ]
      },
      {
       "output_type": "stream",
       "stream": "stdout",
       "text": [
        "\n",
        "4344"
       ]
      },
      {
       "output_type": "stream",
       "stream": "stdout",
       "text": [
        "\n",
        "saved tissue to ../saved_graphs/xml/apopto_vr0.80_ctr1.20_rt0.20/apopto_0072_3d.png"
       ]
      },
      {
       "output_type": "stream",
       "stream": "stdout",
       "text": [
        "\n",
        "saved tissue to tissue_sz.pdf"
       ]
      },
      {
       "output_type": "stream",
       "stream": "stdout",
       "text": [
        "\n",
        "4344"
       ]
      },
      {
       "output_type": "stream",
       "stream": "stdout",
       "text": [
        "\n",
        "saved tissue to ../saved_graphs/xml/apopto_vr0.80_ctr1.20_rt0.20/apopto_0073_3d.png"
       ]
      },
      {
       "output_type": "stream",
       "stream": "stdout",
       "text": [
        "\n",
        "saved tissue to tissue_sz.pdf"
       ]
      },
      {
       "output_type": "stream",
       "stream": "stdout",
       "text": [
        "\n",
        "4344"
       ]
      },
      {
       "output_type": "stream",
       "stream": "stdout",
       "text": [
        "\n",
        "saved tissue to ../saved_graphs/xml/apopto_vr0.80_ctr1.20_rt0.20/apopto_0074_3d.png"
       ]
      },
      {
       "output_type": "stream",
       "stream": "stdout",
       "text": [
        "\n",
        "saved tissue to tissue_sz.pdf"
       ]
      },
      {
       "output_type": "stream",
       "stream": "stdout",
       "text": [
        "\n",
        "4344"
       ]
      },
      {
       "output_type": "stream",
       "stream": "stdout",
       "text": [
        "\n",
        "saved tissue to ../saved_graphs/xml/apopto_vr0.80_ctr1.20_rt0.20/apopto_0075_3d.png"
       ]
      },
      {
       "output_type": "stream",
       "stream": "stdout",
       "text": [
        "\n",
        "saved tissue to tissue_sz.pdf"
       ]
      },
      {
       "output_type": "stream",
       "stream": "stdout",
       "text": [
        "\n",
        "4344"
       ]
      },
      {
       "output_type": "stream",
       "stream": "stdout",
       "text": [
        "\n",
        "saved tissue to ../saved_graphs/xml/apopto_vr0.80_ctr1.20_rt0.20/apopto_0076_3d.png"
       ]
      },
      {
       "output_type": "stream",
       "stream": "stdout",
       "text": [
        "\n",
        "saved tissue to tissue_sz.pdf"
       ]
      },
      {
       "output_type": "stream",
       "stream": "stdout",
       "text": [
        "\n",
        "4344"
       ]
      },
      {
       "output_type": "stream",
       "stream": "stdout",
       "text": [
        "\n",
        "saved tissue to ../saved_graphs/xml/apopto_vr0.80_ctr1.20_rt0.20/apopto_0077_3d.png"
       ]
      },
      {
       "output_type": "stream",
       "stream": "stdout",
       "text": [
        "\n",
        "saved tissue to tissue_sz.pdf"
       ]
      },
      {
       "output_type": "stream",
       "stream": "stdout",
       "text": [
        "\n",
        "4344"
       ]
      },
      {
       "output_type": "stream",
       "stream": "stdout",
       "text": [
        "\n",
        "saved tissue to ../saved_graphs/xml/apopto_vr0.80_ctr1.20_rt0.20/apopto_0078_3d.png"
       ]
      },
      {
       "output_type": "stream",
       "stream": "stdout",
       "text": [
        "\n",
        "saved tissue to tissue_sz.pdf"
       ]
      },
      {
       "output_type": "stream",
       "stream": "stdout",
       "text": [
        "\n",
        "4344"
       ]
      },
      {
       "output_type": "stream",
       "stream": "stdout",
       "text": [
        "\n",
        "saved tissue to ../saved_graphs/xml/apopto_vr0.80_ctr1.20_rt0.20/apopto_0079_3d.png"
       ]
      },
      {
       "output_type": "stream",
       "stream": "stdout",
       "text": [
        "\n",
        "saved tissue to tissue_sz.pdf"
       ]
      },
      {
       "output_type": "stream",
       "stream": "stdout",
       "text": [
        "\n",
        "4344"
       ]
      },
      {
       "output_type": "stream",
       "stream": "stdout",
       "text": [
        "\n",
        "saved tissue to ../saved_graphs/xml/apopto_vr0.80_ctr1.20_rt0.20/apopto_0080_3d.png"
       ]
      },
      {
       "output_type": "stream",
       "stream": "stdout",
       "text": [
        "\n",
        "saved tissue to tissue_sz.pdf"
       ]
      },
      {
       "output_type": "stream",
       "stream": "stdout",
       "text": [
        "\n",
        "4344"
       ]
      },
      {
       "output_type": "stream",
       "stream": "stdout",
       "text": [
        "\n",
        "saved tissue to ../saved_graphs/xml/apopto_vr0.80_ctr1.20_rt0.20/apopto_0081_3d.png"
       ]
      },
      {
       "output_type": "stream",
       "stream": "stdout",
       "text": [
        "\n",
        "saved tissue to tissue_sz.pdf"
       ]
      },
      {
       "output_type": "stream",
       "stream": "stdout",
       "text": [
        "\n",
        "4344"
       ]
      },
      {
       "output_type": "stream",
       "stream": "stdout",
       "text": [
        "\n",
        "saved tissue to ../saved_graphs/xml/apopto_vr0.80_ctr1.20_rt0.20/apopto_0082_3d.png"
       ]
      },
      {
       "output_type": "stream",
       "stream": "stdout",
       "text": [
        "\n",
        "saved tissue to tissue_sz.pdf"
       ]
      },
      {
       "output_type": "stream",
       "stream": "stdout",
       "text": [
        "\n",
        "4344"
       ]
      },
      {
       "output_type": "stream",
       "stream": "stdout",
       "text": [
        "\n",
        "saved tissue to ../saved_graphs/xml/apopto_vr0.80_ctr1.20_rt0.20/apopto_0083_3d.png"
       ]
      },
      {
       "output_type": "stream",
       "stream": "stdout",
       "text": [
        "\n",
        "saved tissue to tissue_sz.pdf"
       ]
      },
      {
       "output_type": "stream",
       "stream": "stdout",
       "text": [
        "\n",
        "4344"
       ]
      },
      {
       "output_type": "stream",
       "stream": "stdout",
       "text": [
        "\n",
        "saved tissue to ../saved_graphs/xml/apopto_vr0.80_ctr1.20_rt0.20/apopto_0084_3d.png"
       ]
      },
      {
       "output_type": "stream",
       "stream": "stdout",
       "text": [
        "\n",
        "saved tissue to tissue_sz.pdf"
       ]
      },
      {
       "output_type": "stream",
       "stream": "stdout",
       "text": [
        "\n",
        "4344"
       ]
      },
      {
       "output_type": "stream",
       "stream": "stdout",
       "text": [
        "\n",
        "saved tissue to ../saved_graphs/xml/apopto_vr0.80_ctr1.20_rt0.20/apopto_0085_3d.png"
       ]
      },
      {
       "output_type": "stream",
       "stream": "stdout",
       "text": [
        "\n",
        "saved tissue to tissue_sz.pdf"
       ]
      },
      {
       "output_type": "stream",
       "stream": "stdout",
       "text": [
        "\n",
        "4344"
       ]
      },
      {
       "output_type": "stream",
       "stream": "stdout",
       "text": [
        "\n",
        "saved tissue to ../saved_graphs/xml/apopto_vr0.80_ctr1.20_rt0.20/apopto_0086_3d.png"
       ]
      },
      {
       "output_type": "stream",
       "stream": "stdout",
       "text": [
        "\n",
        "saved tissue to tissue_sz.pdf"
       ]
      },
      {
       "output_type": "stream",
       "stream": "stdout",
       "text": [
        "\n",
        "4344"
       ]
      },
      {
       "output_type": "stream",
       "stream": "stdout",
       "text": [
        "\n",
        "saved tissue to ../saved_graphs/xml/apopto_vr0.80_ctr1.20_rt0.20/apopto_0087_3d.png"
       ]
      },
      {
       "output_type": "stream",
       "stream": "stdout",
       "text": [
        "\n",
        "saved tissue to tissue_sz.pdf"
       ]
      },
      {
       "output_type": "stream",
       "stream": "stdout",
       "text": [
        "\n",
        "4344"
       ]
      },
      {
       "output_type": "stream",
       "stream": "stdout",
       "text": [
        "\n",
        "saved tissue to ../saved_graphs/xml/apopto_vr0.80_ctr1.20_rt0.20/apopto_0088_3d.png"
       ]
      },
      {
       "output_type": "stream",
       "stream": "stdout",
       "text": [
        "\n",
        "saved tissue to tissue_sz.pdf"
       ]
      },
      {
       "output_type": "stream",
       "stream": "stdout",
       "text": [
        "\n",
        "4344"
       ]
      },
      {
       "output_type": "stream",
       "stream": "stdout",
       "text": [
        "\n",
        "saved tissue to ../saved_graphs/xml/apopto_vr0.80_ctr1.20_rt0.20/apopto_0089_3d.png"
       ]
      },
      {
       "output_type": "stream",
       "stream": "stdout",
       "text": [
        "\n",
        "saved tissue to tissue_sz.pdf"
       ]
      },
      {
       "output_type": "stream",
       "stream": "stdout",
       "text": [
        "\n",
        "4344"
       ]
      },
      {
       "output_type": "stream",
       "stream": "stdout",
       "text": [
        "\n",
        "saved tissue to ../saved_graphs/xml/apopto_vr0.80_ctr1.20_rt0.20/apopto_0090_3d.png"
       ]
      },
      {
       "output_type": "stream",
       "stream": "stdout",
       "text": [
        "\n",
        "saved tissue to tissue_sz.pdf"
       ]
      },
      {
       "output_type": "stream",
       "stream": "stdout",
       "text": [
        "\n",
        "4344"
       ]
      },
      {
       "output_type": "stream",
       "stream": "stdout",
       "text": [
        "\n",
        "saved tissue to ../saved_graphs/xml/apopto_vr0.80_ctr1.20_rt0.20/apopto_0091_3d.png"
       ]
      },
      {
       "output_type": "stream",
       "stream": "stdout",
       "text": [
        "\n",
        "saved tissue to tissue_sz.pdf"
       ]
      },
      {
       "output_type": "stream",
       "stream": "stdout",
       "text": [
        "\n",
        "4344"
       ]
      },
      {
       "output_type": "stream",
       "stream": "stdout",
       "text": [
        "\n",
        "saved tissue to ../saved_graphs/xml/apopto_vr0.80_ctr1.20_rt0.20/apopto_0092_3d.png"
       ]
      },
      {
       "ename": "MemoryError",
       "evalue": "",
       "output_type": "pyerr",
       "traceback": [
        "\u001b[1;31m---------------------------------------------------------------------------\u001b[0m\n\u001b[1;31mMemoryError\u001b[0m                               Traceback (most recent call last)",
        "\u001b[1;32m<ipython-input-37-f4d787da97fa>\u001b[0m in \u001b[0;36m<module>\u001b[1;34m()\u001b[0m\n\u001b[0;32m      6\u001b[0m     etm = lj.Epithelium(xml_graph,\n\u001b[0;32m      7\u001b[0m                         paramfile='../default/params.xml')\n\u001b[1;32m----> 8\u001b[1;33m     \u001b[0mlj\u001b[0m\u001b[1;33m.\u001b[0m\u001b[0mdraw\u001b[0m\u001b[1;33m(\u001b[0m\u001b[0meptm\u001b[0m\u001b[1;33m,\u001b[0m \u001b[0moutput3d\u001b[0m\u001b[1;33m=\u001b[0m\u001b[0mpng_name\u001b[0m\u001b[1;33m,\u001b[0m \u001b[0mverbose\u001b[0m\u001b[1;33m=\u001b[0m\u001b[0mTrue\u001b[0m\u001b[1;33m)\u001b[0m\u001b[1;33m\u001b[0m\u001b[0m\n\u001b[0m\u001b[0;32m      9\u001b[0m \u001b[1;32mfor\u001b[0m \u001b[0mtheta\u001b[0m \u001b[1;32min\u001b[0m \u001b[0mnp\u001b[0m\u001b[1;33m.\u001b[0m\u001b[0mlinspace\u001b[0m\u001b[1;33m(\u001b[0m\u001b[1;36m0\u001b[0m\u001b[1;33m,\u001b[0m \u001b[1;36m2\u001b[0m\u001b[1;33m*\u001b[0m\u001b[0mnp\u001b[0m\u001b[1;33m.\u001b[0m\u001b[0mpi\u001b[0m\u001b[1;33m,\u001b[0m \u001b[1;36m180\u001b[0m\u001b[1;33m)\u001b[0m\u001b[1;33m:\u001b[0m\u001b[1;33m\u001b[0m\u001b[0m\n\u001b[0;32m     10\u001b[0m     \u001b[0mname\u001b[0m \u001b[1;33m=\u001b[0m \u001b[0mpng_name\u001b[0m\u001b[1;33m[\u001b[0m\u001b[1;33m:\u001b[0m\u001b[1;33m-\u001b[0m\u001b[1;36m4\u001b[0m\u001b[1;33m]\u001b[0m\u001b[1;33m+\u001b[0m\u001b[1;34m'%.3f.png'\u001b[0m \u001b[1;33m%\u001b[0m \u001b[0mtheta\u001b[0m\u001b[1;33m\u001b[0m\u001b[0m\n",
        "\u001b[1;32m/home/guillaume/Python/leg_joint/leg_joint/graph_representation.py\u001b[0m in \u001b[0;36mepithelium_draw\u001b[1;34m(eptm, z_angle, d_theta, output3d, output2d, verbose)\u001b[0m\n\u001b[0;32m    395\u001b[0m                           \u001b[0mvertex_size\u001b[0m\u001b[1;33m=\u001b[0m\u001b[0mvertex_size\u001b[0m\u001b[1;33m,\u001b[0m\u001b[1;33m\u001b[0m\u001b[0m\n\u001b[0;32m    396\u001b[0m                           \u001b[0mvorder\u001b[0m\u001b[1;33m=\u001b[0m\u001b[0mvorder\u001b[0m\u001b[1;33m,\u001b[0m \u001b[0meorder\u001b[0m\u001b[1;33m=\u001b[0m\u001b[0meorder\u001b[0m\u001b[1;33m,\u001b[0m\u001b[1;33m\u001b[0m\u001b[0m\n\u001b[1;32m--> 397\u001b[1;33m                           output=output2d)\n\u001b[0m\u001b[0;32m    398\u001b[0m     \u001b[1;32mif\u001b[0m \u001b[0mverbose\u001b[0m\u001b[1;33m:\u001b[0m \u001b[1;32mprint\u001b[0m \u001b[1;34m'saved tissue to %s'\u001b[0m \u001b[1;33m%\u001b[0m \u001b[0moutput2d\u001b[0m\u001b[1;33m\u001b[0m\u001b[0m\n\u001b[0;32m    399\u001b[0m     \u001b[1;32mdel\u001b[0m \u001b[0mpmap\u001b[0m\u001b[1;33m,\u001b[0m \u001b[0mpmap2\u001b[0m\u001b[1;33m\u001b[0m\u001b[0m\n",
        "\u001b[1;32m/usr/lib/python2.7/dist-packages/graph_tool/draw/cairo_draw.pyc\u001b[0m in \u001b[0;36mgraph_draw\u001b[1;34m(g, pos, vprops, eprops, vorder, eorder, nodesfirst, output_size, fit_view, output, fmt, **kwargs)\u001b[0m\n\u001b[0;32m    830\u001b[0m \u001b[1;33m\u001b[0m\u001b[0m\n\u001b[0;32m    831\u001b[0m         cairo_draw(g, pos, cr, vprops, eprops, vorder, eorder,\n\u001b[1;32m--> 832\u001b[1;33m                    nodesfirst, **kwargs)\n\u001b[0m\u001b[0;32m    833\u001b[0m         \u001b[1;32mdel\u001b[0m \u001b[0mcr\u001b[0m\u001b[1;33m\u001b[0m\u001b[0m\n\u001b[0;32m    834\u001b[0m \u001b[1;33m\u001b[0m\u001b[0m\n",
        "\u001b[1;32m/usr/lib/python2.7/dist-packages/graph_tool/draw/cairo_draw.pyc\u001b[0m in \u001b[0;36mcairo_draw\u001b[1;34m(g, pos, cr, vprops, eprops, vorder, eorder, nodesfirst, vcmap, ecmap, loop_angle, parallel_distance, fit_view, **kwargs)\u001b[0m\n\u001b[0;32m    451\u001b[0m     libgraph_tool_draw.cairo_draw(g._Graph__graph, _prop(\"v\", g, pos),\n\u001b[0;32m    452\u001b[0m                                   \u001b[0m_prop\u001b[0m\u001b[1;33m(\u001b[0m\u001b[1;34m\"v\"\u001b[0m\u001b[1;33m,\u001b[0m \u001b[0mg\u001b[0m\u001b[1;33m,\u001b[0m \u001b[0mvorder\u001b[0m\u001b[1;33m)\u001b[0m\u001b[1;33m,\u001b[0m \u001b[0m_prop\u001b[0m\u001b[1;33m(\u001b[0m\u001b[1;34m\"e\"\u001b[0m\u001b[1;33m,\u001b[0m \u001b[0mg\u001b[0m\u001b[1;33m,\u001b[0m \u001b[0meorder\u001b[0m\u001b[1;33m)\u001b[0m\u001b[1;33m,\u001b[0m\u001b[1;33m\u001b[0m\u001b[0m\n\u001b[1;32m--> 453\u001b[1;33m                                   nodesfirst, vattrs, eattrs, vdefs, edefs, cr)\n\u001b[0m\u001b[0;32m    454\u001b[0m     \u001b[0mcr\u001b[0m\u001b[1;33m.\u001b[0m\u001b[0mrestore\u001b[0m\u001b[1;33m(\u001b[0m\u001b[1;33m)\u001b[0m\u001b[1;33m\u001b[0m\u001b[0m\n\u001b[0;32m    455\u001b[0m \u001b[1;33m\u001b[0m\u001b[0m\n",
        "\u001b[1;31mMemoryError\u001b[0m: "
       ]
      },
      {
       "output_type": "stream",
       "stream": "stdout",
       "text": [
        "\n"
       ]
      }
     ],
     "prompt_number": 37
    },
    {
     "cell_type": "code",
     "collapsed": false,
     "input": [
      "xml_graph"
     ],
     "language": "python",
     "metadata": {},
     "outputs": [
      {
       "metadata": {},
       "output_type": "pyout",
       "prompt_number": 36,
       "text": [
        "'../saved_graphs/xml/apopto_vr0.80_ctr1.20_rt0.20/apopto_0610.xml'"
       ]
      }
     ],
     "prompt_number": 36
    },
    {
     "cell_type": "code",
     "collapsed": false,
     "input": [],
     "language": "python",
     "metadata": {},
     "outputs": []
    }
   ],
   "metadata": {}
  }
 ]
}