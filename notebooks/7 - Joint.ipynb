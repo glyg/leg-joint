{
 "metadata": {
  "name": ""
 },
 "nbformat": 3,
 "nbformat_minor": 0,
 "worksheets": [
  {
   "cells": [
    {
     "cell_type": "code",
     "collapsed": false,
     "input": [
      "%load_ext autoreload\n",
      "%autoreload 2\n"
     ],
     "language": "python",
     "metadata": {},
     "outputs": [],
     "prompt_number": 1
    },
    {
     "cell_type": "code",
     "collapsed": false,
     "input": [
      "%run nb_init.py\n",
      "from joint import *"
     ],
     "language": "python",
     "metadata": {},
     "outputs": [],
     "prompt_number": 2
    },
    {
     "cell_type": "code",
     "collapsed": false,
     "input": [
      "\n",
      "eptm = lj.Epithelium(graphXMLfile='../saved_graphs/xml/before_apoptosis.xml',#\n",
      "                     paramfile='../default/params.xml')\n",
      "eptm.isotropic_relax()\n",
      "\n",
      "\n",
      "#eptm = lj.Epithelium(graphXMLfile=after_apopto,#\n",
      "#                     paramfile='../default/params.xml')\n",
      "   \n",
      "#eptm = lj.Epithelium(graphXMLfile='../saved_graphs/xml/squeezed2.5.xml',\n",
      "#                     paramfile='../default/params.xml')\n",
      "\n",
      "#lj.running_local_optimum(eptm, 1e-3)\n",
      "#eptm.graph.save('../saved_graphs/xml/before_apoptosis.xml')"
     ],
     "language": "python",
     "metadata": {},
     "outputs": [],
     "prompt_number": 3
    },
    {
     "cell_type": "code",
     "collapsed": false,
     "input": [
      "cells = get_apoptotic_cells(eptm, random=False, gamma=2, n_cells=30)\n"
     ],
     "language": "python",
     "metadata": {},
     "outputs": [
      {
       "ename": "KeyError",
       "evalue": "'width_apopto'",
       "output_type": "pyerr",
       "traceback": [
        "\u001b[1;31m---------------------------------------------------------------------------\u001b[0m\n\u001b[1;31mKeyError\u001b[0m                                  Traceback (most recent call last)",
        "\u001b[1;32m<ipython-input-4-cdd7cfb25899>\u001b[0m in \u001b[0;36m<module>\u001b[1;34m()\u001b[0m\n\u001b[1;32m----> 1\u001b[1;33m \u001b[0mcells\u001b[0m \u001b[1;33m=\u001b[0m \u001b[0mget_apoptotic_cells\u001b[0m\u001b[1;33m(\u001b[0m\u001b[0meptm\u001b[0m\u001b[1;33m,\u001b[0m \u001b[0mrandom\u001b[0m\u001b[1;33m=\u001b[0m\u001b[1;32mFalse\u001b[0m\u001b[1;33m,\u001b[0m \u001b[0mgamma\u001b[0m\u001b[1;33m=\u001b[0m\u001b[1;36m2\u001b[0m\u001b[1;33m,\u001b[0m \u001b[0mn_cells\u001b[0m\u001b[1;33m=\u001b[0m\u001b[1;36m30\u001b[0m\u001b[1;33m)\u001b[0m\u001b[1;33m\u001b[0m\u001b[0m\n\u001b[0m",
        "\u001b[1;32m/home/guillaume/Python/leg-joint/joint.py\u001b[0m in \u001b[0;36mget_apoptotic_cells\u001b[1;34m(eptm, seed, random, gamma, n_cells, **kwargs)\u001b[0m\n\u001b[0;32m     45\u001b[0m         \u001b[0msigmas_out\u001b[0m \u001b[1;33m=\u001b[0m \u001b[0mthetas_out\u001b[0m \u001b[1;33m*\u001b[0m \u001b[0meptm\u001b[0m\u001b[1;33m.\u001b[0m\u001b[0mrhos\u001b[0m\u001b[1;33m.\u001b[0m\u001b[0ma\u001b[0m\u001b[1;33m.\u001b[0m\u001b[0mmean\u001b[0m\u001b[1;33m(\u001b[0m\u001b[1;33m)\u001b[0m\u001b[1;33m\u001b[0m\u001b[0m\n\u001b[0;32m     46\u001b[0m         zeds_out = np.random.normal(0,\n\u001b[1;32m---> 47\u001b[1;33m                                     \u001b[0mscale\u001b[0m\u001b[1;33m=\u001b[0m\u001b[0mkwargs\u001b[0m\u001b[1;33m[\u001b[0m\u001b[1;34m'width_apopto'\u001b[0m\u001b[1;33m]\u001b[0m\u001b[1;33m,\u001b[0m\u001b[1;33m\u001b[0m\u001b[0m\n\u001b[0m\u001b[0;32m     48\u001b[0m                                     size=n_cells)\n\u001b[0;32m     49\u001b[0m         \u001b[1;31m#eptm.graph.set_vertex_filter(eptm.is_cell_vert)\u001b[0m\u001b[1;33m\u001b[0m\u001b[1;33m\u001b[0m\u001b[0m\n",
        "\u001b[1;31mKeyError\u001b[0m: 'width_apopto'"
       ]
      }
     ],
     "prompt_number": 4
    },
    {
     "cell_type": "code",
     "collapsed": false,
     "input": [
      "# lj.running_local_optimum(eptm, 1e-3)\n",
      "# eptm.graph.save('../saved_graphs/xml/before_apoptosis.xml')"
     ],
     "language": "python",
     "metadata": {},
     "outputs": [],
     "prompt_number": 4
    },
    {
     "cell_type": "code",
     "collapsed": false,
     "input": [
      "avg_dists = []\n",
      "for cell in eptm.cells:\n",
      "    neighbs = eptm.cells.get_neighbor_cells(cell)\n",
      "    \n",
      "    xyz = np.array([[eptm.ixs[n] - eptm.ixs[cell], \n",
      "                     eptm.wys[n] - eptm.wys[cell], \n",
      "                     eptm.zeds[n] - eptm.zeds[cell]]\n",
      "                     for n in neighbs])\n",
      "    if not len(xyz):\n",
      "        continue\n",
      "    avg_dist = np.sqrt((xyz**2).sum(axis=1)).mean()\n",
      "    avg_dists.append(avg_dist)\n",
      "avg_dists = np.array(avg_dists)\n",
      "num_sigma = 2*np.pi*eptm.rhos.a.mean() / avg_dists.mean()\n",
      "print('Number of cells around the leg: %.1f' % num_sigma) "
     ],
     "language": "python",
     "metadata": {},
     "outputs": [
      {
       "output_type": "stream",
       "stream": "stdout",
       "text": [
        "Number of cells around the leg: 50.6\n"
       ]
      }
     ],
     "prompt_number": 4
    },
    {
     "cell_type": "code",
     "collapsed": false,
     "input": [
      "width_apopto = 1.8\n",
      "p0 = 0.25\n",
      "amp = 0.\n",
      "\n",
      "\n",
      "thetas = np.linspace(-np.pi, np.pi, 512)\n",
      "zeds = np.linspace(-20, 20, 512)\n",
      "fig, ax = plt.subplots()#subplot_kw={'projection':'3d'})\n",
      "\n",
      "thetas, zeds = np.meshgrid(thetas, zeds)\n",
      "probas =  p_apopto(zeds, thetas, \n",
      "                   width_apopto=width_apopto, \n",
      "                   p0=p0, amp=amp)\n",
      "im = ax.imshow(probas.T, vmin=0, vmax=1, cmap='gray', aspect=20/180.,\n",
      "               extent=(-20, 20, 0, 360))\n",
      "plt.colorbar(im)\n",
      "plt.savefig('../doc/imgs/apoptosis_proba_15c_nobias.svg')\n"
     ],
     "language": "python",
     "metadata": {},
     "outputs": [
      {
       "output_type": "stream",
       "stream": "stderr",
       "text": [
        "/home/guillaume/python3/lib/python3.3/site-packages/matplotlib/figure.py:1596: UserWarning: This figure includes Axes that are not compatible with tight_layout, so its results might be incorrect.\n",
        "  warnings.warn(\"This figure includes Axes that are not \"\n"
       ]
      },
      {
       "metadata": {},
       "output_type": "display_data",
       "png": "[encoded data removed]",
       "text": [
        "<matplotlib.figure.Figure at 0x7ff449257550>"
       ]
      }
     ],
     "prompt_number": 11
    },
    {
     "cell_type": "code",
     "collapsed": false,
     "input": [
      "all_hists = []\n",
      "n_cells = []\n",
      "for seed in range(10):\n",
      "    print('Random seed: %i' % seed)\n",
      "    apopto_cells = get_apoptotic_cells(eptm, \n",
      "                                       seed=seed, z0=0., \n",
      "                                       width_apopto=width_apopto,\n",
      "                                       p0=p0, amp=amp)\n",
      "    apopto_sequence = get_sequence(apopto_cells, num_steps=10)\n",
      "    n_seq = len(apopto_sequence)\n",
      "    n_cells.append(len(apopto_cells))\n",
      "    apopto_4steps = [np.concatenate(\n",
      "                         apopto_sequence[n_seq//4 * i:\n",
      "                                         n_seq//4 * i + n_seq//4]\n",
      "                                    ) for i in range(4)]\n",
      "    thetas_4steps = [np.unique([eptm.thetas[cell] for cell in seq])\n",
      "                     for seq in apopto_4steps]\n",
      "    hists_4steps = [np.histogram(thetas, bins=8, range=(-np.pi, np.pi))[0]\n",
      "                    for thetas in thetas_4steps]\n",
      "    all_hists.append(hists_4steps)\n",
      "all_hists = np.array(all_hists)\n",
      "n_cells= np.array(n_cells)\n",
      "print('Average number of apoptic cells: %.1f \u00b1 %.2f'\n",
      "      % (n_cells.mean(), n_cells.std()))\n",
      "avg_hists = all_hists.mean(axis=0)\n",
      "norm = n_cells.mean() / avg_hists.sum()\n",
      "\n",
      "print('repartition: ')\n",
      "print(avg_hists * norm)\n",
      "print('Summed:')\n",
      "print(avg_hists.sum(axis=0) * norm)\n",
      "\n",
      "in_vivo_hist = np.array([[0.6, 0.6, 0.2, 0.0, 0.3, 0.6, 0.6, 1.0],\n",
      "                         [1.5, 0.8, 0.3, 0.5, 0.3, 0.7, 2.7, 2.9],\n",
      "                         [1.2, 2.4, 0.6, 0.8, 1.3, 1.8, 3.5, 1.0],\n",
      "                         [0.0, 0.0, 0.0, 1.3, 1.4, 0.6, 0.4, 0.0]])\n"
     ],
     "language": "python",
     "metadata": {},
     "outputs": [
      {
       "output_type": "stream",
       "stream": "stdout",
       "text": [
        "Random seed: 0\n",
        "Number of apoptotic cells: 91"
       ]
      },
      {
       "output_type": "stream",
       "stream": "stdout",
       "text": [
        "\n",
        "Random seed: 1\n",
        "Number of apoptotic cells: 87"
       ]
      },
      {
       "output_type": "stream",
       "stream": "stdout",
       "text": [
        "\n",
        "Random seed: 2\n",
        "Number of apoptotic cells: 78"
       ]
      },
      {
       "output_type": "stream",
       "stream": "stdout",
       "text": [
        "\n",
        "Random seed: 3\n",
        "Number of apoptotic cells: 79"
       ]
      },
      {
       "output_type": "stream",
       "stream": "stdout",
       "text": [
        "\n",
        "Random seed: 4\n",
        "Number of apoptotic cells: 73"
       ]
      },
      {
       "output_type": "stream",
       "stream": "stdout",
       "text": [
        "\n",
        "Random seed: 5\n",
        "Number of apoptotic cells: 79"
       ]
      },
      {
       "output_type": "stream",
       "stream": "stdout",
       "text": [
        "\n",
        "Random seed: 6\n",
        "Number of apoptotic cells: 95"
       ]
      },
      {
       "output_type": "stream",
       "stream": "stdout",
       "text": [
        "\n",
        "Random seed: 7\n",
        "Number of apoptotic cells: 72"
       ]
      },
      {
       "output_type": "stream",
       "stream": "stdout",
       "text": [
        "\n",
        "Random seed: 8\n",
        "Number of apoptotic cells: 96"
       ]
      },
      {
       "output_type": "stream",
       "stream": "stdout",
       "text": [
        "\n",
        "Random seed: 9\n",
        "Number of apoptotic cells: 70"
       ]
      },
      {
       "output_type": "stream",
       "stream": "stdout",
       "text": [
        "\n",
        "Average number of apoptic cells: 82.0 \u00b1 9.11"
       ]
      },
      {
       "output_type": "stream",
       "stream": "stdout",
       "text": [
        "\n",
        "repartition: \n",
        "[[ 7.97431193  0.60183486  0.          0.          0.          0.\n",
        "   0.5266055   7.82385321]\n",
        " [ 3.23486239  7.52293578  1.65504587  0.          0.          1.12844037\n",
        "   7.07155963  3.08440367]\n",
        " [ 0.          2.48256881  7.82385321  2.55779817  1.73027523  7.29724771\n",
        "   1.80550459  0.        ]\n",
        " [ 0.          0.          1.50458716  7.59816514  6.99633028  1.57981651\n",
        "   0.          0.        ]]"
       ]
      },
      {
       "output_type": "stream",
       "stream": "stdout",
       "text": [
        "\n",
        "Summed:\n",
        "[ 11.20917431  10.60733945  10.98348624  10.1559633    8.7266055\n",
        "  10.00550459   9.40366972  10.90825688]\n"
       ]
      }
     ],
     "prompt_number": 61
    },
    {
     "cell_type": "code",
     "collapsed": false,
     "input": [
      "fig, axes = plt.subplots(1, 4,\n",
      "                         figsize=(16, 4))\n",
      "radii = np.ones(8)\n",
      "width = np.pi/4\n",
      "\n",
      "avg_hists *= norm\n",
      "\n",
      "for i in range(4):\n",
      "    num_depths = avg_hists[i, :]\n",
      "    ax = axes[i]\n",
      "    # bars = ax.bar(np.arange(0, 2*np.pi, np.pi/4), radii,\n",
      "    #              width=width, bottom=0.0, )\n",
      "\n",
      "    # for nd, bar in zip(num_depths, bars):\n",
      "    #    bar.set_facecolor([0, 0, 0])\n",
      "    #    bar.set_alpha(nd/avg_hists.max())\n",
      "    labels = ['%1.1f' % nd for nd in avg_hists[i, :]]\n",
      "    sizes = np.ones(8)\n",
      "    colors = [(1 - nd/avg_hists.max(),\n",
      "               1 - nd/avg_hists.max(),\n",
      "               1 - nd/avg_hists.max())\n",
      "              for nd in avg_hists[i, :]]\n",
      "    ax.pie(sizes, colors=colors, labels=labels, startangle=-90)\n",
      "    ax.axis('equal')\n",
      "      \n",
      "fig.savefig('../doc/imgs/repartition_pie_plot.svg')\n",
      "plt.draw()"
     ],
     "language": "python",
     "metadata": {},
     "outputs": [
      {
       "metadata": {},
       "output_type": "display_data",
       "png": "[encoded data removed]",
       "text": [
        "<matplotlib.figure.Figure at 0x7ff442102610>"
       ]
      }
     ],
     "prompt_number": 62
    },
    {
     "cell_type": "code",
     "collapsed": false,
     "input": [
      "#eptm = lj.Epithelium(graphXMLfile='../saved_graphs/xml/before_apoptosis.xml',#\n",
      "#                     paramfile='../default/params.xml')\n",
      "apopto_cells = get_apoptotic_cells(eptm, random=False, gamma=1., n_cells=15, width_apopto=2.)\n",
      "zeds = np.array([eptm.zeds[cell] for cell in apopto_cells])\n",
      "\n",
      "width_apopto = zeds.ptp()*1.1\n",
      "#apopto_cells = get_apoptotic_cells(eptm, seed=9, z0=0., \n",
      "#                                   width_apopto=width_apopto, \n",
      "#                                   p0=p0, amp=amp)\n",
      "apopto_sequence = get_sequence(apopto_cells, num_steps=5)"
     ],
     "language": "python",
     "metadata": {},
     "outputs": [
      {
       "output_type": "stream",
       "stream": "stdout",
       "text": [
        "Number of apoptotic cells: 15\n"
       ]
      }
     ],
     "prompt_number": 72
    },
    {
     "cell_type": "code",
     "collapsed": false,
     "input": [
      "eptm.set_local_mask(None)\n",
      "lj.local_slice(eptm, theta_amp=2*np.pi, zed_amp=width_apopto)\n",
      "\n",
      "\n",
      "eptm.update_rhotheta()\n",
      "d_theta = np.pi/2.\n",
      "z_angle = np.pi / 6\n",
      "pseudo_x = eptm.ixs.copy()\n",
      "pseudo_y = eptm.ixs.copy()\n",
      "pseudo_x.a = eptm.zeds.a * np.cos(z_angle) - eptm.rhos.a * np.sin(\n",
      "             eptm.thetas.a + d_theta) * np.sin(z_angle)\n",
      "pseudo_y.a = eptm.rhos.a * np.cos(eptm.thetas.a + d_theta)\n",
      "\n",
      "\n",
      "fig, ax = plt.subplots(figsize=(4, 8))\n",
      "ax = lj.plot_cells_generic(eptm, pseudo_x, pseudo_y, ax=ax,\n",
      "                           vfilt=eptm.is_local_vert, \n",
      "                           efilt=eptm.is_local_edge,\n",
      "                           c_text=False)\n",
      "\n",
      "is_apopto = eptm.is_cell_vert.copy()\n",
      "is_apopto.a[:] = 0\n",
      "color_dead = eptm.zeds.copy()\n",
      "color_dead.a[:] = 0.\n",
      "for cell in apopto_cells:\n",
      "    color_dead[cell] = 0.8\n",
      "    is_apopto[cell] = 1\n",
      "    for jv in cell.out_neighbours():\n",
      "        is_apopto[jv] = 1\n",
      "\n",
      "ax = lj.draw_polygons(eptm, pseudo_x, pseudo_y, color_dead,\n",
      "                      vfilt=is_apopto, \n",
      "                      efilt=eptm.is_local_edge, ax=ax)\n",
      "for patch in ax.patches:\n",
      "    patch.set_alpha(0.8)\n",
      "\n",
      "fig.savefig('../doc/imgs/apopto_repartition_nobias15.svg')    \n",
      "\n",
      "plt.show()\n",
      "\n",
      "\n",
      "#for cell in apopto_cells:\n",
      "#    ax.plot(pseudo_x[cell], pseudo_y[cell], 'ro')"
     ],
     "language": "python",
     "metadata": {},
     "outputs": [
      {
       "metadata": {},
       "output_type": "display_data",
       "png": "[encoded data removed]",
       "text": [
        "<matplotlib.figure.Figure at 0x7ff48c09d150>"
       ]
      }
     ],
     "prompt_number": 73
    },
    {
     "cell_type": "code",
     "collapsed": false,
     "input": [
      "mean_rho = eptm.rhos.a.mean()\n",
      "thetas = np.linspace(0, 2 * np.pi, 60)\n",
      "fig, ax = plt.subplots(figsize=(12, 4))\n",
      "num_rows = 12\n",
      "delta = 60.\n",
      "for n, cells in enumerate(apopto_sequence[1:]):\n",
      "    \n",
      "    if len(cells) == 0: break\n",
      "    dx = + (n % num_rows) * delta\n",
      "    dy = - (n // num_rows) * delta\n",
      "    ax.plot(mean_rho * np.cos(thetas) + dx,\n",
      "            mean_rho * np.sin(thetas) + dy, 'k-', alpha=0.4)\n",
      "    ax.text(dx, dy, str(n + 1), fontsize=10)\n",
      "    for cell in cells:\n",
      "        ax.plot(eptm.wys[cell] + dx, eptm.ixs[cell] + dy, 'ro', alpha=0.5)\n",
      "\n",
      "ax.set_aspect('equal')\n",
      "ax.set_xticks([])\n",
      "ax.set_yticks([])\n",
      "dx = + ((n + 1) % num_rows) * delta\n",
      "dy = - ((n + 1) // num_rows) * delta\n",
      "\n",
      "ax.plot(mean_rho * np.cos(thetas) + dx,\n",
      "        mean_rho * np.sin(thetas) + dy, 'k-', alpha=0.4)\n",
      "ax.text(dx, dy, 'all', fontsize=10)\n",
      "for cell in apopto_cells:\n",
      "    ax.plot(eptm.wys[cell] + dx, eptm.ixs[cell] + dy, 'ko', alpha=0.7)\n",
      "ax.set_title('Sequence of apoptoses around the joint')\n",
      "\n",
      "plt.show()\n"
     ],
     "language": "python",
     "metadata": {},
     "outputs": [
      {
       "metadata": {},
       "output_type": "display_data",
       "png": "[encoded data removed]",
       "text": [
        "<matplotlib.figure.Figure at 0x7ff441a92a90>"
       ]
      }
     ],
     "prompt_number": 74
    },
    {
     "cell_type": "code",
     "collapsed": false,
     "input": [
      "!mkdir ../saved_graphs/xml/regular15\n",
      "!mkdir ../saved_graphs/png/regular15"
     ],
     "language": "python",
     "metadata": {},
     "outputs": [],
     "prompt_number": 75
    },
    {
     "cell_type": "code",
     "collapsed": false,
     "input": [
      "gradual_apoptosis(eptm, apopto_cells, num_steps=10,\n",
      "                  vol_reduction=0.7,\n",
      "                  contractility=1.,\n",
      "                  radial_tension=0.2, pola=False, save_dir='regular15')"
     ],
     "language": "python",
     "metadata": {},
     "outputs": [
      {
       "output_type": "stream",
       "stream": "stdout",
       "text": [
        "150 steps will be performed\n",
        "new vertex 5123"
       ]
      },
      {
       "output_type": "stream",
       "stream": "stdout",
       "text": [
        "\n",
        "new vertex 5124"
       ]
      },
      {
       "output_type": "stream",
       "stream": "stdout",
       "text": [
        "\n",
        "new vertex 5125"
       ]
      },
      {
       "output_type": "stream",
       "stream": "stdout",
       "text": [
        "\n",
        "new vertex 5126"
       ]
      },
      {
       "output_type": "stream",
       "stream": "stdout",
       "text": [
        "\n",
        "new vertex 5127"
       ]
      },
      {
       "output_type": "stream",
       "stream": "stdout",
       "text": [
        "\n",
        "new vertex 5128"
       ]
      },
      {
       "output_type": "stream",
       "stream": "stdout",
       "text": [
        "\n",
        "new vertex 5129"
       ]
      },
      {
       "output_type": "stream",
       "stream": "stdout",
       "text": [
        "\n",
        "new vertex 5130"
       ]
      },
      {
       "output_type": "stream",
       "stream": "stdout",
       "text": [
        "\n",
        "new vertex 5131"
       ]
      },
      {
       "output_type": "stream",
       "stream": "stdout",
       "text": [
        "\n",
        "new vertex 5132"
       ]
      },
      {
       "output_type": "stream",
       "stream": "stdout",
       "text": [
        "\n",
        "new vertex 5133"
       ]
      },
      {
       "output_type": "stream",
       "stream": "stdout",
       "text": [
        "\n",
        "new vertex 5134"
       ]
      },
      {
       "output_type": "stream",
       "stream": "stdout",
       "text": [
        "\n",
        "new vertex 5135"
       ]
      },
      {
       "output_type": "stream",
       "stream": "stdout",
       "text": [
        "\n",
        "new vertex 5136"
       ]
      },
      {
       "output_type": "stream",
       "stream": "stdout",
       "text": [
        "\n",
        "new vertex 5137"
       ]
      },
      {
       "output_type": "stream",
       "stream": "stdout",
       "text": [
        "\n"
       ]
      }
     ],
     "prompt_number": 76
    },
    {
     "cell_type": "code",
     "collapsed": false,
     "input": [
      "eptm_unbiased = eptm"
     ],
     "language": "python",
     "metadata": {},
     "outputs": [],
     "prompt_number": 77
    },
    {
     "cell_type": "code",
     "collapsed": false,
     "input": [
      "def average_rho(eptm, bin_width=10):\n",
      "\n",
      "    eptm.update_rhotheta()\n",
      "    zeds = eptm.zeds.a\n",
      "    rhos = eptm.rhos.a\n",
      "    rhos = rhos[np.argsort(zeds)]\n",
      "    zeds = np.sort(zeds)\n",
      "    \n",
      "    rhos_cliped = rhos[: -(rhos.size % bin_width)]\n",
      "    rhos_cliped = rhos_cliped.reshape((rhos_cliped.size // bin_width, bin_width))\n",
      "    rhos_avg = rhos_cliped.mean(axis=1)\n",
      "    rhos_max = rhos_cliped.max(axis=1)\n",
      "    rhos_min = rhos_cliped.min(axis=1)\n",
      "    \n",
      "    zeds_cliped = zeds[: -(zeds.size % bin_width)]\n",
      "    zeds_cliped = zeds_cliped.reshape((zeds_cliped.size // bin_width, bin_width))\n",
      "    zeds_avg = zeds_cliped.mean(axis=1)\n",
      "    \n",
      "    return zeds_avg, rhos_avg, rhos_max, rhos_min\n",
      "\n",
      "def plot_avg_rho(eptm, bin_width, ax=None, retall=False, ls='r-'):\n",
      "    \n",
      "    if ax is None:\n",
      "        fig, ax = plt.subplots(figsize=(12,4))\n",
      "    else:\n",
      "        fig = ax.get_figure()\n",
      "    zeds_avg, rhos_avg, rhos_max, rhos_min = average_rho(eptm, bin_width)\n",
      "    \n",
      "    ax.fill_between(zeds_avg,\n",
      "                    rhos_max,\n",
      "                    rhos_min,\n",
      "                    facecolor='0.5', edgecolor='0.9')\n",
      "    ax.plot(zeds_avg, rhos_avg, ls, lw=2, alpha=0.7)\n",
      "    ax.set_aspect('equal')\n",
      "    max_zed = ax.get_ylim()[1]\n",
      "    ax.set_ylim(0, max_zed)\n",
      "    if not retall:\n",
      "        return ax\n",
      "    \n",
      "    return ax, (zeds_avg, rhos_avg, rhos_max, rhos_min)"
     ],
     "language": "python",
     "metadata": {},
     "outputs": [],
     "prompt_number": 84
    },
    {
     "cell_type": "code",
     "collapsed": false,
     "input": [
      "ax, data_biased = plot_avg_rho(eptm_biased, bin_width=20, ax=None, ls='-b', retall=True)\n",
      "ax, data_unbiased = plot_avg_rho(eptm_unbiased, bin_width=20, ax=ax, ls='r-', retall=True)\n"
     ],
     "language": "python",
     "metadata": {},
     "outputs": [
      {
       "metadata": {},
       "output_type": "display_data",
       "png": "[encoded data removed]",
       "text": [
        "<matplotlib.figure.Figure at 0x7ff448bd96d0>"
       ]
      }
     ],
     "prompt_number": 86
    },
    {
     "cell_type": "code",
     "collapsed": false,
     "input": [
      "fig = ax.get_figure()\n",
      "fig.savefig('../doc/imgs/fold_com_15cells_bias-unbias.svg')"
     ],
     "language": "python",
     "metadata": {},
     "outputs": [],
     "prompt_number": 87
    },
    {
     "cell_type": "code",
     "collapsed": false,
     "input": [
      "thetas_in = np.linspace(0, 2*np.pi,\n",
      "                        num=15,\n",
      "                        endpoint=False)\n",
      "\n",
      "thetas_out_nb = ventral_enhance(thetas_in, 1) - np.pi/2.\n",
      "thetas_out_b = ventral_enhance(thetas_in, 2) - np.pi/2.\n",
      "\n",
      "\n",
      "fig, axes = plt.subplots(1, 2, sharex=True, sharey=True, figsize=(2,2))\n",
      "\n",
      "axes[0].plot(np.cos(thetas_out_nb), np.sin(thetas_out_nb), 'ko')\n",
      "axes[1].plot(np.cos(thetas_out_b), np.sin(thetas_out_b), 'ro')\n",
      "\n",
      "axes[1].set_aspect('equal')\n",
      "axes[0].set_aspect('equal')\n",
      "\n",
      "fig.savefig('../doc/imgs/biased_unbiased_repart.svg')"
     ],
     "language": "python",
     "metadata": {},
     "outputs": [
      {
       "metadata": {},
       "output_type": "display_data",
       "png": "[encoded data removed]",
       "text": [
        "<matplotlib.figure.Figure at 0x7ff44909a7d0>"
       ]
      }
     ],
     "prompt_number": 92
    },
    {
     "cell_type": "code",
     "collapsed": false,
     "input": [
      "ax, data_unbiased = plot_avg_rho(eptm_unbiased, bin_width=20, ax=None, retall=True)\n"
     ],
     "language": "python",
     "metadata": {},
     "outputs": [
      {
       "metadata": {},
       "output_type": "display_data",
       "png": "[encoded data removed]",
       "text": [
        "<matplotlib.figure.Figure at 0x7ff440bc2b90>"
       ]
      }
     ],
     "prompt_number": 81
    },
    {
     "cell_type": "code",
     "collapsed": false,
     "input": [
      "fig = ax.get_figure()\n",
      "fig.savefig('../doc/imgs/radial_profile_no_bias_15cells.png')"
     ],
     "language": "python",
     "metadata": {},
     "outputs": [],
     "prompt_number": 86
    },
    {
     "cell_type": "code",
     "collapsed": false,
     "input": [],
     "language": "python",
     "metadata": {},
     "outputs": []
    },
    {
     "cell_type": "code",
     "collapsed": false,
     "input": [
      "lj.plot_ortho_proj(eptm, vfilt=eptm.is_local_vert, efilt=eptm.is_local_edge)"
     ],
     "language": "python",
     "metadata": {},
     "outputs": []
    },
    {
     "cell_type": "code",
     "collapsed": false,
     "input": [
      "lj.local_slice(eptm, theta_c=0., zed_c=0, theta_amp=3.14/3, zed_amp=5)"
     ],
     "language": "python",
     "metadata": {},
     "outputs": []
    },
    {
     "cell_type": "code",
     "collapsed": false,
     "input": [
      "lj.plot_ortho_proj(eptm, vfilt=eptm.is_local_vert, efilt=eptm.is_local_edge, text=False)"
     ],
     "language": "python",
     "metadata": {},
     "outputs": []
    },
    {
     "cell_type": "code",
     "collapsed": false,
     "input": [
      "eptm_nt = lj.Epithelium('../saved_graphs/xml/after_apoptosis_nt.xml',\n",
      "                        paramfile='../default/params.xml')\n",
      "eptm_t = lj.Epithelium('../saved_graphs/xml/after_apoptosis_t.xml',\n",
      "                       paramfile='../default/params.xml')"
     ],
     "language": "python",
     "metadata": {},
     "outputs": [],
     "prompt_number": 20
    },
    {
     "cell_type": "code",
     "collapsed": false,
     "input": [
      "thetas = np.linspace(0, 2*np.pi, 180) + np.pi/2\n",
      "\n",
      "for n, theta in enumerate(thetas):\n",
      "    #output_nt= '../saved_graphs/png/after_apopto_nt_3d/angle_%03i.png' %n\n",
      "    output_t= '../saved_graphs/png/after_apopto_t_3d/angle_%03i.png' %n\n",
      "    lj.draw(eptm_nt, d_theta=theta, output3d=output_nt)\n",
      "    lj.draw(eptm_t, d_theta=theta, output3d=output_t)\n",
      "    "
     ],
     "language": "python",
     "metadata": {},
     "outputs": [],
     "prompt_number": 25
    },
    {
     "cell_type": "code",
     "collapsed": false,
     "input": [
      "import os\n",
      "dirname = 'apopto_vr0.80_ctr1.20_rt0.20/'\n",
      "xml_list = os.listdir(os.path.join('../saved_graphs/xml/', dirname))\n",
      "xml_list.sort()\n",
      "xml_list = [fname for fname in xml_list]\n",
      "print(xml_list[0], xml_list[-1])"
     ],
     "language": "python",
     "metadata": {},
     "outputs": [
      {
       "output_type": "stream",
       "stream": "stdout",
       "text": [
        "('apopto_0001.xml', 'apopto_0610.xml')\n"
       ]
      }
     ],
     "prompt_number": 33
    },
    {
     "cell_type": "code",
     "collapsed": false,
     "input": [
      "for xml_name in xml_list:\n",
      "    xml_graph = os.path.join('../saved_graphs/xml/', dirname, xml_name)\n",
      "    png_name = os.path.join('../saved_graphs/xml/', dirname, xml_name[:-4]+'_3d.png')\n",
      "    etm = lj.Epithelium(xml_graph,\n",
      "                        paramfile='../default/params.xml')\n",
      "    lj.draw(eptm, output3d=png_name, verbose=True)\n",
      "for theta in np.linspace(0, 2*np.pi, 180):\n",
      "    name = png_name[:-4]+'%.3f.png' % theta\n",
      "    lj.draw(eptm, output3d=png_name, verbose=True)"
     ],
     "language": "python",
     "metadata": {},
     "outputs": [
      {
       "output_type": "stream",
       "stream": "stdout",
       "text": [
        "4344\n",
        "saved tissue to ../saved_graphs/xml/apopto_vr0.80_ctr1.20_rt0.20/apopto_0001_3d.png"
       ]
      },
      {
       "output_type": "stream",
       "stream": "stdout",
       "text": [
        "\n",
        "saved tissue to tissue_sz.pdf"
       ]
      },
      {
       "output_type": "stream",
       "stream": "stdout",
       "text": [
        "\n",
        "4344"
       ]
      },
      {
       "output_type": "stream",
       "stream": "stdout",
       "text": [
        "\n",
        "saved tissue to ../saved_graphs/xml/apopto_vr0.80_ctr1.20_rt0.20/apopto_0002_3d.png"
       ]
      },
      {
       "output_type": "stream",
       "stream": "stdout",
       "text": [
        "\n",
        "saved tissue to tissue_sz.pdf"
       ]
      },
      {
       "output_type": "stream",
       "stream": "stdout",
       "text": [
        "\n",
        "4344"
       ]
      },
      {
       "output_type": "stream",
       "stream": "stdout",
       "text": [
        "\n",
        "saved tissue to ../saved_graphs/xml/apopto_vr0.80_ctr1.20_rt0.20/apopto_0003_3d.png"
       ]
      },
      {
       "output_type": "stream",
       "stream": "stdout",
       "text": [
        "\n",
        "saved tissue to tissue_sz.pdf"
       ]
      },
      {
       "output_type": "stream",
       "stream": "stdout",
       "text": [
        "\n",
        "4344"
       ]
      },
      {
       "output_type": "stream",
       "stream": "stdout",
       "text": [
        "\n",
        "saved tissue to ../saved_graphs/xml/apopto_vr0.80_ctr1.20_rt0.20/apopto_0004_3d.png"
       ]
      },
      {
       "output_type": "stream",
       "stream": "stdout",
       "text": [
        "\n",
        "saved tissue to tissue_sz.pdf"
       ]
      },
      {
       "output_type": "stream",
       "stream": "stdout",
       "text": [
        "\n",
        "4344"
       ]
      },
      {
       "output_type": "stream",
       "stream": "stdout",
       "text": [
        "\n",
        "saved tissue to ../saved_graphs/xml/apopto_vr0.80_ctr1.20_rt0.20/apopto_0005_3d.png"
       ]
      },
      {
       "output_type": "stream",
       "stream": "stdout",
       "text": [
        "\n",
        "saved tissue to tissue_sz.pdf"
       ]
      },
      {
       "output_type": "stream",
       "stream": "stdout",
       "text": [
        "\n",
        "4344"
       ]
      },
      {
       "output_type": "stream",
       "stream": "stdout",
       "text": [
        "\n",
        "saved tissue to ../saved_graphs/xml/apopto_vr0.80_ctr1.20_rt0.20/apopto_0006_3d.png"
       ]
      },
      {
       "output_type": "stream",
       "stream": "stdout",
       "text": [
        "\n",
        "saved tissue to tissue_sz.pdf"
       ]
      },
      {
       "output_type": "stream",
       "stream": "stdout",
       "text": [
        "\n",
        "4344"
       ]
      },
      {
       "output_type": "stream",
       "stream": "stdout",
       "text": [
        "\n",
        "saved tissue to ../saved_graphs/xml/apopto_vr0.80_ctr1.20_rt0.20/apopto_0007_3d.png"
       ]
      },
      {
       "output_type": "stream",
       "stream": "stdout",
       "text": [
        "\n",
        "saved tissue to tissue_sz.pdf"
       ]
      },
      {
       "output_type": "stream",
       "stream": "stdout",
       "text": [
        "\n",
        "4344"
       ]
      },
      {
       "output_type": "stream",
       "stream": "stdout",
       "text": [
        "\n",
        "saved tissue to ../saved_graphs/xml/apopto_vr0.80_ctr1.20_rt0.20/apopto_0008_3d.png"
       ]
      },
      {
       "output_type": "stream",
       "stream": "stdout",
       "text": [
        "\n",
        "saved tissue to tissue_sz.pdf"
       ]
      },
      {
       "output_type": "stream",
       "stream": "stdout",
       "text": [
        "\n",
        "4344"
       ]
      },
      {
       "output_type": "stream",
       "stream": "stdout",
       "text": [
        "\n",
        "saved tissue to ../saved_graphs/xml/apopto_vr0.80_ctr1.20_rt0.20/apopto_0009_3d.png"
       ]
      },
      {
       "output_type": "stream",
       "stream": "stdout",
       "text": [
        "\n",
        "saved tissue to tissue_sz.pdf"
       ]
      },
      {
       "output_type": "stream",
       "stream": "stdout",
       "text": [
        "\n",
        "4344"
       ]
      },
      {
       "output_type": "stream",
       "stream": "stdout",
       "text": [
        "\n",
        "saved tissue to ../saved_graphs/xml/apopto_vr0.80_ctr1.20_rt0.20/apopto_0010_3d.png"
       ]
      },
      {
       "output_type": "stream",
       "stream": "stdout",
       "text": [
        "\n",
        "saved tissue to tissue_sz.pdf"
       ]
      },
      {
       "output_type": "stream",
       "stream": "stdout",
       "text": [
        "\n",
        "4344"
       ]
      },
      {
       "output_type": "stream",
       "stream": "stdout",
       "text": [
        "\n",
        "saved tissue to ../saved_graphs/xml/apopto_vr0.80_ctr1.20_rt0.20/apopto_0011_3d.png"
       ]
      },
      {
       "output_type": "stream",
       "stream": "stdout",
       "text": [
        "\n",
        "saved tissue to tissue_sz.pdf"
       ]
      },
      {
       "output_type": "stream",
       "stream": "stdout",
       "text": [
        "\n",
        "4344"
       ]
      },
      {
       "output_type": "stream",
       "stream": "stdout",
       "text": [
        "\n",
        "saved tissue to ../saved_graphs/xml/apopto_vr0.80_ctr1.20_rt0.20/apopto_0012_3d.png"
       ]
      },
      {
       "output_type": "stream",
       "stream": "stdout",
       "text": [
        "\n",
        "saved tissue to tissue_sz.pdf"
       ]
      },
      {
       "output_type": "stream",
       "stream": "stdout",
       "text": [
        "\n",
        "4344"
       ]
      },
      {
       "output_type": "stream",
       "stream": "stdout",
       "text": [
        "\n",
        "saved tissue to ../saved_graphs/xml/apopto_vr0.80_ctr1.20_rt0.20/apopto_0013_3d.png"
       ]
      },
      {
       "output_type": "stream",
       "stream": "stdout",
       "text": [
        "\n",
        "saved tissue to tissue_sz.pdf"
       ]
      },
      {
       "output_type": "stream",
       "stream": "stdout",
       "text": [
        "\n",
        "4344"
       ]
      },
      {
       "output_type": "stream",
       "stream": "stdout",
       "text": [
        "\n",
        "saved tissue to ../saved_graphs/xml/apopto_vr0.80_ctr1.20_rt0.20/apopto_0014_3d.png"
       ]
      },
      {
       "output_type": "stream",
       "stream": "stdout",
       "text": [
        "\n",
        "saved tissue to tissue_sz.pdf"
       ]
      },
      {
       "output_type": "stream",
       "stream": "stdout",
       "text": [
        "\n",
        "4344"
       ]
      },
      {
       "output_type": "stream",
       "stream": "stdout",
       "text": [
        "\n",
        "saved tissue to ../saved_graphs/xml/apopto_vr0.80_ctr1.20_rt0.20/apopto_0015_3d.png"
       ]
      },
      {
       "output_type": "stream",
       "stream": "stdout",
       "text": [
        "\n",
        "saved tissue to tissue_sz.pdf"
       ]
      },
      {
       "output_type": "stream",
       "stream": "stdout",
       "text": [
        "\n",
        "4344"
       ]
      },
      {
       "output_type": "stream",
       "stream": "stdout",
       "text": [
        "\n",
        "saved tissue to ../saved_graphs/xml/apopto_vr0.80_ctr1.20_rt0.20/apopto_0016_3d.png"
       ]
      },
      {
       "output_type": "stream",
       "stream": "stdout",
       "text": [
        "\n",
        "saved tissue to tissue_sz.pdf"
       ]
      },
      {
       "output_type": "stream",
       "stream": "stdout",
       "text": [
        "\n",
        "4344"
       ]
      },
      {
       "output_type": "stream",
       "stream": "stdout",
       "text": [
        "\n",
        "saved tissue to ../saved_graphs/xml/apopto_vr0.80_ctr1.20_rt0.20/apopto_0017_3d.png"
       ]
      },
      {
       "output_type": "stream",
       "stream": "stdout",
       "text": [
        "\n",
        "saved tissue to tissue_sz.pdf"
       ]
      },
      {
       "output_type": "stream",
       "stream": "stdout",
       "text": [
        "\n",
        "4344"
       ]
      },
      {
       "output_type": "stream",
       "stream": "stdout",
       "text": [
        "\n",
        "saved tissue to ../saved_graphs/xml/apopto_vr0.80_ctr1.20_rt0.20/apopto_0018_3d.png"
       ]
      },
      {
       "output_type": "stream",
       "stream": "stdout",
       "text": [
        "\n",
        "saved tissue to tissue_sz.pdf"
       ]
      },
      {
       "output_type": "stream",
       "stream": "stdout",
       "text": [
        "\n",
        "4344"
       ]
      },
      {
       "output_type": "stream",
       "stream": "stdout",
       "text": [
        "\n",
        "saved tissue to ../saved_graphs/xml/apopto_vr0.80_ctr1.20_rt0.20/apopto_0019_3d.png"
       ]
      },
      {
       "output_type": "stream",
       "stream": "stdout",
       "text": [
        "\n",
        "saved tissue to tissue_sz.pdf"
       ]
      },
      {
       "output_type": "stream",
       "stream": "stdout",
       "text": [
        "\n",
        "4344"
       ]
      },
      {
       "output_type": "stream",
       "stream": "stdout",
       "text": [
        "\n",
        "saved tissue to ../saved_graphs/xml/apopto_vr0.80_ctr1.20_rt0.20/apopto_0020_3d.png"
       ]
      },
      {
       "output_type": "stream",
       "stream": "stdout",
       "text": [
        "\n",
        "saved tissue to tissue_sz.pdf"
       ]
      },
      {
       "output_type": "stream",
       "stream": "stdout",
       "text": [
        "\n",
        "4344"
       ]
      },
      {
       "output_type": "stream",
       "stream": "stdout",
       "text": [
        "\n",
        "saved tissue to ../saved_graphs/xml/apopto_vr0.80_ctr1.20_rt0.20/apopto_0021_3d.png"
       ]
      },
      {
       "output_type": "stream",
       "stream": "stdout",
       "text": [
        "\n",
        "saved tissue to tissue_sz.pdf"
       ]
      },
      {
       "output_type": "stream",
       "stream": "stdout",
       "text": [
        "\n",
        "4344"
       ]
      },
      {
       "output_type": "stream",
       "stream": "stdout",
       "text": [
        "\n",
        "saved tissue to ../saved_graphs/xml/apopto_vr0.80_ctr1.20_rt0.20/apopto_0022_3d.png"
       ]
      },
      {
       "output_type": "stream",
       "stream": "stdout",
       "text": [
        "\n",
        "saved tissue to tissue_sz.pdf"
       ]
      },
      {
       "output_type": "stream",
       "stream": "stdout",
       "text": [
        "\n",
        "4344"
       ]
      },
      {
       "output_type": "stream",
       "stream": "stdout",
       "text": [
        "\n",
        "saved tissue to ../saved_graphs/xml/apopto_vr0.80_ctr1.20_rt0.20/apopto_0023_3d.png"
       ]
      },
      {
       "output_type": "stream",
       "stream": "stdout",
       "text": [
        "\n",
        "saved tissue to tissue_sz.pdf"
       ]
      },
      {
       "output_type": "stream",
       "stream": "stdout",
       "text": [
        "\n",
        "4344"
       ]
      },
      {
       "output_type": "stream",
       "stream": "stdout",
       "text": [
        "\n",
        "saved tissue to ../saved_graphs/xml/apopto_vr0.80_ctr1.20_rt0.20/apopto_0024_3d.png"
       ]
      },
      {
       "output_type": "stream",
       "stream": "stdout",
       "text": [
        "\n",
        "saved tissue to tissue_sz.pdf"
       ]
      },
      {
       "output_type": "stream",
       "stream": "stdout",
       "text": [
        "\n",
        "4344"
       ]
      },
      {
       "output_type": "stream",
       "stream": "stdout",
       "text": [
        "\n",
        "saved tissue to ../saved_graphs/xml/apopto_vr0.80_ctr1.20_rt0.20/apopto_0025_3d.png"
       ]
      },
      {
       "output_type": "stream",
       "stream": "stdout",
       "text": [
        "\n",
        "saved tissue to tissue_sz.pdf"
       ]
      },
      {
       "output_type": "stream",
       "stream": "stdout",
       "text": [
        "\n",
        "4344"
       ]
      },
      {
       "output_type": "stream",
       "stream": "stdout",
       "text": [
        "\n",
        "saved tissue to ../saved_graphs/xml/apopto_vr0.80_ctr1.20_rt0.20/apopto_0026_3d.png"
       ]
      },
      {
       "output_type": "stream",
       "stream": "stdout",
       "text": [
        "\n",
        "saved tissue to tissue_sz.pdf"
       ]
      },
      {
       "output_type": "stream",
       "stream": "stdout",
       "text": [
        "\n",
        "4344"
       ]
      },
      {
       "output_type": "stream",
       "stream": "stdout",
       "text": [
        "\n",
        "saved tissue to ../saved_graphs/xml/apopto_vr0.80_ctr1.20_rt0.20/apopto_0027_3d.png"
       ]
      },
      {
       "output_type": "stream",
       "stream": "stdout",
       "text": [
        "\n",
        "saved tissue to tissue_sz.pdf"
       ]
      },
      {
       "output_type": "stream",
       "stream": "stdout",
       "text": [
        "\n",
        "4344"
       ]
      },
      {
       "output_type": "stream",
       "stream": "stdout",
       "text": [
        "\n",
        "saved tissue to ../saved_graphs/xml/apopto_vr0.80_ctr1.20_rt0.20/apopto_0028_3d.png"
       ]
      },
      {
       "output_type": "stream",
       "stream": "stdout",
       "text": [
        "\n",
        "saved tissue to tissue_sz.pdf"
       ]
      },
      {
       "output_type": "stream",
       "stream": "stdout",
       "text": [
        "\n",
        "4344"
       ]
      },
      {
       "output_type": "stream",
       "stream": "stdout",
       "text": [
        "\n",
        "saved tissue to ../saved_graphs/xml/apopto_vr0.80_ctr1.20_rt0.20/apopto_0029_3d.png"
       ]
      },
      {
       "output_type": "stream",
       "stream": "stdout",
       "text": [
        "\n",
        "saved tissue to tissue_sz.pdf"
       ]
      },
      {
       "output_type": "stream",
       "stream": "stdout",
       "text": [
        "\n",
        "4344"
       ]
      },
      {
       "output_type": "stream",
       "stream": "stdout",
       "text": [
        "\n",
        "saved tissue to ../saved_graphs/xml/apopto_vr0.80_ctr1.20_rt0.20/apopto_0030_3d.png"
       ]
      },
      {
       "output_type": "stream",
       "stream": "stdout",
       "text": [
        "\n",
        "saved tissue to tissue_sz.pdf"
       ]
      },
      {
       "output_type": "stream",
       "stream": "stdout",
       "text": [
        "\n",
        "4344"
       ]
      },
      {
       "output_type": "stream",
       "stream": "stdout",
       "text": [
        "\n",
        "saved tissue to ../saved_graphs/xml/apopto_vr0.80_ctr1.20_rt0.20/apopto_0031_3d.png"
       ]
      },
      {
       "output_type": "stream",
       "stream": "stdout",
       "text": [
        "\n",
        "saved tissue to tissue_sz.pdf"
       ]
      },
      {
       "output_type": "stream",
       "stream": "stdout",
       "text": [
        "\n",
        "4344"
       ]
      },
      {
       "output_type": "stream",
       "stream": "stdout",
       "text": [
        "\n",
        "saved tissue to ../saved_graphs/xml/apopto_vr0.80_ctr1.20_rt0.20/apopto_0032_3d.png"
       ]
      },
      {
       "output_type": "stream",
       "stream": "stdout",
       "text": [
        "\n",
        "saved tissue to tissue_sz.pdf"
       ]
      },
      {
       "output_type": "stream",
       "stream": "stdout",
       "text": [
        "\n",
        "4344"
       ]
      },
      {
       "output_type": "stream",
       "stream": "stdout",
       "text": [
        "\n",
        "saved tissue to ../saved_graphs/xml/apopto_vr0.80_ctr1.20_rt0.20/apopto_0033_3d.png"
       ]
      },
      {
       "output_type": "stream",
       "stream": "stdout",
       "text": [
        "\n",
        "saved tissue to tissue_sz.pdf"
       ]
      },
      {
       "output_type": "stream",
       "stream": "stdout",
       "text": [
        "\n",
        "4344"
       ]
      },
      {
       "output_type": "stream",
       "stream": "stdout",
       "text": [
        "\n",
        "saved tissue to ../saved_graphs/xml/apopto_vr0.80_ctr1.20_rt0.20/apopto_0034_3d.png"
       ]
      },
      {
       "output_type": "stream",
       "stream": "stdout",
       "text": [
        "\n",
        "saved tissue to tissue_sz.pdf"
       ]
      },
      {
       "output_type": "stream",
       "stream": "stdout",
       "text": [
        "\n",
        "4344"
       ]
      },
      {
       "output_type": "stream",
       "stream": "stdout",
       "text": [
        "\n",
        "saved tissue to ../saved_graphs/xml/apopto_vr0.80_ctr1.20_rt0.20/apopto_0035_3d.png"
       ]
      },
      {
       "output_type": "stream",
       "stream": "stdout",
       "text": [
        "\n",
        "saved tissue to tissue_sz.pdf"
       ]
      },
      {
       "output_type": "stream",
       "stream": "stdout",
       "text": [
        "\n",
        "4344"
       ]
      },
      {
       "output_type": "stream",
       "stream": "stdout",
       "text": [
        "\n",
        "saved tissue to ../saved_graphs/xml/apopto_vr0.80_ctr1.20_rt0.20/apopto_0036_3d.png"
       ]
      },
      {
       "output_type": "stream",
       "stream": "stdout",
       "text": [
        "\n",
        "saved tissue to tissue_sz.pdf"
       ]
      },
      {
       "output_type": "stream",
       "stream": "stdout",
       "text": [
        "\n",
        "4344"
       ]
      },
      {
       "output_type": "stream",
       "stream": "stdout",
       "text": [
        "\n",
        "saved tissue to ../saved_graphs/xml/apopto_vr0.80_ctr1.20_rt0.20/apopto_0037_3d.png"
       ]
      },
      {
       "output_type": "stream",
       "stream": "stdout",
       "text": [
        "\n",
        "saved tissue to tissue_sz.pdf"
       ]
      },
      {
       "output_type": "stream",
       "stream": "stdout",
       "text": [
        "\n",
        "4344"
       ]
      },
      {
       "output_type": "stream",
       "stream": "stdout",
       "text": [
        "\n",
        "saved tissue to ../saved_graphs/xml/apopto_vr0.80_ctr1.20_rt0.20/apopto_0038_3d.png"
       ]
      },
      {
       "output_type": "stream",
       "stream": "stdout",
       "text": [
        "\n",
        "saved tissue to tissue_sz.pdf"
       ]
      },
      {
       "output_type": "stream",
       "stream": "stdout",
       "text": [
        "\n",
        "4344"
       ]
      },
      {
       "output_type": "stream",
       "stream": "stdout",
       "text": [
        "\n",
        "saved tissue to ../saved_graphs/xml/apopto_vr0.80_ctr1.20_rt0.20/apopto_0039_3d.png"
       ]
      },
      {
       "output_type": "stream",
       "stream": "stdout",
       "text": [
        "\n",
        "saved tissue to tissue_sz.pdf"
       ]
      },
      {
       "output_type": "stream",
       "stream": "stdout",
       "text": [
        "\n",
        "4344"
       ]
      },
      {
       "output_type": "stream",
       "stream": "stdout",
       "text": [
        "\n",
        "saved tissue to ../saved_graphs/xml/apopto_vr0.80_ctr1.20_rt0.20/apopto_0040_3d.png"
       ]
      },
      {
       "output_type": "stream",
       "stream": "stdout",
       "text": [
        "\n",
        "saved tissue to tissue_sz.pdf"
       ]
      },
      {
       "output_type": "stream",
       "stream": "stdout",
       "text": [
        "\n",
        "4344"
       ]
      },
      {
       "output_type": "stream",
       "stream": "stdout",
       "text": [
        "\n",
        "saved tissue to ../saved_graphs/xml/apopto_vr0.80_ctr1.20_rt0.20/apopto_0041_3d.png"
       ]
      },
      {
       "output_type": "stream",
       "stream": "stdout",
       "text": [
        "\n",
        "saved tissue to tissue_sz.pdf"
       ]
      },
      {
       "output_type": "stream",
       "stream": "stdout",
       "text": [
        "\n",
        "4344"
       ]
      },
      {
       "output_type": "stream",
       "stream": "stdout",
       "text": [
        "\n",
        "saved tissue to ../saved_graphs/xml/apopto_vr0.80_ctr1.20_rt0.20/apopto_0042_3d.png"
       ]
      },
      {
       "output_type": "stream",
       "stream": "stdout",
       "text": [
        "\n",
        "saved tissue to tissue_sz.pdf"
       ]
      },
      {
       "output_type": "stream",
       "stream": "stdout",
       "text": [
        "\n",
        "4344"
       ]
      },
      {
       "output_type": "stream",
       "stream": "stdout",
       "text": [
        "\n",
        "saved tissue to ../saved_graphs/xml/apopto_vr0.80_ctr1.20_rt0.20/apopto_0043_3d.png"
       ]
      },
      {
       "output_type": "stream",
       "stream": "stdout",
       "text": [
        "\n",
        "saved tissue to tissue_sz.pdf"
       ]
      },
      {
       "output_type": "stream",
       "stream": "stdout",
       "text": [
        "\n",
        "4344"
       ]
      },
      {
       "output_type": "stream",
       "stream": "stdout",
       "text": [
        "\n",
        "saved tissue to ../saved_graphs/xml/apopto_vr0.80_ctr1.20_rt0.20/apopto_0044_3d.png"
       ]
      },
      {
       "output_type": "stream",
       "stream": "stdout",
       "text": [
        "\n",
        "saved tissue to tissue_sz.pdf"
       ]
      },
      {
       "output_type": "stream",
       "stream": "stdout",
       "text": [
        "\n",
        "4344"
       ]
      },
      {
       "output_type": "stream",
       "stream": "stdout",
       "text": [
        "\n",
        "saved tissue to ../saved_graphs/xml/apopto_vr0.80_ctr1.20_rt0.20/apopto_0045_3d.png"
       ]
      },
      {
       "output_type": "stream",
       "stream": "stdout",
       "text": [
        "\n",
        "saved tissue to tissue_sz.pdf"
       ]
      },
      {
       "output_type": "stream",
       "stream": "stdout",
       "text": [
        "\n",
        "4344"
       ]
      },
      {
       "output_type": "stream",
       "stream": "stdout",
       "text": [
        "\n",
        "saved tissue to ../saved_graphs/xml/apopto_vr0.80_ctr1.20_rt0.20/apopto_0046_3d.png"
       ]
      },
      {
       "output_type": "stream",
       "stream": "stdout",
       "text": [
        "\n",
        "saved tissue to tissue_sz.pdf"
       ]
      },
      {
       "output_type": "stream",
       "stream": "stdout",
       "text": [
        "\n",
        "4344"
       ]
      },
      {
       "output_type": "stream",
       "stream": "stdout",
       "text": [
        "\n",
        "saved tissue to ../saved_graphs/xml/apopto_vr0.80_ctr1.20_rt0.20/apopto_0047_3d.png"
       ]
      },
      {
       "output_type": "stream",
       "stream": "stdout",
       "text": [
        "\n",
        "saved tissue to tissue_sz.pdf"
       ]
      },
      {
       "output_type": "stream",
       "stream": "stdout",
       "text": [
        "\n",
        "4344"
       ]
      },
      {
       "output_type": "stream",
       "stream": "stdout",
       "text": [
        "\n",
        "saved tissue to ../saved_graphs/xml/apopto_vr0.80_ctr1.20_rt0.20/apopto_0048_3d.png"
       ]
      },
      {
       "output_type": "stream",
       "stream": "stdout",
       "text": [
        "\n",
        "saved tissue to tissue_sz.pdf"
       ]
      },
      {
       "output_type": "stream",
       "stream": "stdout",
       "text": [
        "\n",
        "4344"
       ]
      },
      {
       "output_type": "stream",
       "stream": "stdout",
       "text": [
        "\n",
        "saved tissue to ../saved_graphs/xml/apopto_vr0.80_ctr1.20_rt0.20/apopto_0049_3d.png"
       ]
      },
      {
       "output_type": "stream",
       "stream": "stdout",
       "text": [
        "\n",
        "saved tissue to tissue_sz.pdf"
       ]
      },
      {
       "output_type": "stream",
       "stream": "stdout",
       "text": [
        "\n",
        "4344"
       ]
      },
      {
       "output_type": "stream",
       "stream": "stdout",
       "text": [
        "\n",
        "saved tissue to ../saved_graphs/xml/apopto_vr0.80_ctr1.20_rt0.20/apopto_0050_3d.png"
       ]
      },
      {
       "output_type": "stream",
       "stream": "stdout",
       "text": [
        "\n",
        "saved tissue to tissue_sz.pdf"
       ]
      },
      {
       "output_type": "stream",
       "stream": "stdout",
       "text": [
        "\n",
        "4344"
       ]
      },
      {
       "output_type": "stream",
       "stream": "stdout",
       "text": [
        "\n",
        "saved tissue to ../saved_graphs/xml/apopto_vr0.80_ctr1.20_rt0.20/apopto_0051_3d.png"
       ]
      },
      {
       "output_type": "stream",
       "stream": "stdout",
       "text": [
        "\n",
        "saved tissue to tissue_sz.pdf"
       ]
      },
      {
       "output_type": "stream",
       "stream": "stdout",
       "text": [
        "\n",
        "4344"
       ]
      },
      {
       "output_type": "stream",
       "stream": "stdout",
       "text": [
        "\n",
        "saved tissue to ../saved_graphs/xml/apopto_vr0.80_ctr1.20_rt0.20/apopto_0052_3d.png"
       ]
      },
      {
       "output_type": "stream",
       "stream": "stdout",
       "text": [
        "\n",
        "saved tissue to tissue_sz.pdf"
       ]
      },
      {
       "output_type": "stream",
       "stream": "stdout",
       "text": [
        "\n",
        "4344"
       ]
      },
      {
       "output_type": "stream",
       "stream": "stdout",
       "text": [
        "\n",
        "saved tissue to ../saved_graphs/xml/apopto_vr0.80_ctr1.20_rt0.20/apopto_0053_3d.png"
       ]
      },
      {
       "output_type": "stream",
       "stream": "stdout",
       "text": [
        "\n",
        "saved tissue to tissue_sz.pdf"
       ]
      },
      {
       "output_type": "stream",
       "stream": "stdout",
       "text": [
        "\n",
        "4344"
       ]
      },
      {
       "output_type": "stream",
       "stream": "stdout",
       "text": [
        "\n",
        "saved tissue to ../saved_graphs/xml/apopto_vr0.80_ctr1.20_rt0.20/apopto_0054_3d.png"
       ]
      },
      {
       "output_type": "stream",
       "stream": "stdout",
       "text": [
        "\n",
        "saved tissue to tissue_sz.pdf"
       ]
      },
      {
       "output_type": "stream",
       "stream": "stdout",
       "text": [
        "\n",
        "4344"
       ]
      },
      {
       "output_type": "stream",
       "stream": "stdout",
       "text": [
        "\n",
        "saved tissue to ../saved_graphs/xml/apopto_vr0.80_ctr1.20_rt0.20/apopto_0055_3d.png"
       ]
      },
      {
       "output_type": "stream",
       "stream": "stdout",
       "text": [
        "\n",
        "saved tissue to tissue_sz.pdf"
       ]
      },
      {
       "output_type": "stream",
       "stream": "stdout",
       "text": [
        "\n",
        "4344"
       ]
      },
      {
       "output_type": "stream",
       "stream": "stdout",
       "text": [
        "\n",
        "saved tissue to ../saved_graphs/xml/apopto_vr0.80_ctr1.20_rt0.20/apopto_0056_3d.png"
       ]
      },
      {
       "output_type": "stream",
       "stream": "stdout",
       "text": [
        "\n",
        "saved tissue to tissue_sz.pdf"
       ]
      },
      {
       "output_type": "stream",
       "stream": "stdout",
       "text": [
        "\n",
        "4344"
       ]
      },
      {
       "output_type": "stream",
       "stream": "stdout",
       "text": [
        "\n",
        "saved tissue to ../saved_graphs/xml/apopto_vr0.80_ctr1.20_rt0.20/apopto_0057_3d.png"
       ]
      },
      {
       "output_type": "stream",
       "stream": "stdout",
       "text": [
        "\n",
        "saved tissue to tissue_sz.pdf"
       ]
      },
      {
       "output_type": "stream",
       "stream": "stdout",
       "text": [
        "\n",
        "4344"
       ]
      },
      {
       "output_type": "stream",
       "stream": "stdout",
       "text": [
        "\n",
        "saved tissue to ../saved_graphs/xml/apopto_vr0.80_ctr1.20_rt0.20/apopto_0058_3d.png"
       ]
      },
      {
       "output_type": "stream",
       "stream": "stdout",
       "text": [
        "\n",
        "saved tissue to tissue_sz.pdf"
       ]
      },
      {
       "output_type": "stream",
       "stream": "stdout",
       "text": [
        "\n",
        "4344"
       ]
      },
      {
       "output_type": "stream",
       "stream": "stdout",
       "text": [
        "\n",
        "saved tissue to ../saved_graphs/xml/apopto_vr0.80_ctr1.20_rt0.20/apopto_0059_3d.png"
       ]
      },
      {
       "output_type": "stream",
       "stream": "stdout",
       "text": [
        "\n",
        "saved tissue to tissue_sz.pdf"
       ]
      },
      {
       "output_type": "stream",
       "stream": "stdout",
       "text": [
        "\n",
        "4344"
       ]
      },
      {
       "output_type": "stream",
       "stream": "stdout",
       "text": [
        "\n",
        "saved tissue to ../saved_graphs/xml/apopto_vr0.80_ctr1.20_rt0.20/apopto_0060_3d.png"
       ]
      },
      {
       "output_type": "stream",
       "stream": "stdout",
       "text": [
        "\n",
        "saved tissue to tissue_sz.pdf"
       ]
      },
      {
       "output_type": "stream",
       "stream": "stdout",
       "text": [
        "\n",
        "4344"
       ]
      },
      {
       "output_type": "stream",
       "stream": "stdout",
       "text": [
        "\n",
        "saved tissue to ../saved_graphs/xml/apopto_vr0.80_ctr1.20_rt0.20/apopto_0061_3d.png"
       ]
      },
      {
       "output_type": "stream",
       "stream": "stdout",
       "text": [
        "\n",
        "saved tissue to tissue_sz.pdf"
       ]
      },
      {
       "output_type": "stream",
       "stream": "stdout",
       "text": [
        "\n",
        "4344"
       ]
      },
      {
       "output_type": "stream",
       "stream": "stdout",
       "text": [
        "\n",
        "saved tissue to ../saved_graphs/xml/apopto_vr0.80_ctr1.20_rt0.20/apopto_0062_3d.png"
       ]
      },
      {
       "output_type": "stream",
       "stream": "stdout",
       "text": [
        "\n",
        "saved tissue to tissue_sz.pdf"
       ]
      },
      {
       "output_type": "stream",
       "stream": "stdout",
       "text": [
        "\n",
        "4344"
       ]
      },
      {
       "output_type": "stream",
       "stream": "stdout",
       "text": [
        "\n",
        "saved tissue to ../saved_graphs/xml/apopto_vr0.80_ctr1.20_rt0.20/apopto_0063_3d.png"
       ]
      },
      {
       "output_type": "stream",
       "stream": "stdout",
       "text": [
        "\n",
        "saved tissue to tissue_sz.pdf"
       ]
      },
      {
       "output_type": "stream",
       "stream": "stdout",
       "text": [
        "\n",
        "4344"
       ]
      },
      {
       "output_type": "stream",
       "stream": "stdout",
       "text": [
        "\n",
        "saved tissue to ../saved_graphs/xml/apopto_vr0.80_ctr1.20_rt0.20/apopto_0064_3d.png"
       ]
      },
      {
       "output_type": "stream",
       "stream": "stdout",
       "text": [
        "\n",
        "saved tissue to tissue_sz.pdf"
       ]
      },
      {
       "output_type": "stream",
       "stream": "stdout",
       "text": [
        "\n",
        "4344"
       ]
      },
      {
       "output_type": "stream",
       "stream": "stdout",
       "text": [
        "\n",
        "saved tissue to ../saved_graphs/xml/apopto_vr0.80_ctr1.20_rt0.20/apopto_0065_3d.png"
       ]
      },
      {
       "output_type": "stream",
       "stream": "stdout",
       "text": [
        "\n",
        "saved tissue to tissue_sz.pdf"
       ]
      },
      {
       "output_type": "stream",
       "stream": "stdout",
       "text": [
        "\n",
        "4344"
       ]
      },
      {
       "output_type": "stream",
       "stream": "stdout",
       "text": [
        "\n",
        "saved tissue to ../saved_graphs/xml/apopto_vr0.80_ctr1.20_rt0.20/apopto_0066_3d.png"
       ]
      },
      {
       "output_type": "stream",
       "stream": "stdout",
       "text": [
        "\n",
        "saved tissue to tissue_sz.pdf"
       ]
      },
      {
       "output_type": "stream",
       "stream": "stdout",
       "text": [
        "\n",
        "4344"
       ]
      },
      {
       "output_type": "stream",
       "stream": "stdout",
       "text": [
        "\n",
        "saved tissue to ../saved_graphs/xml/apopto_vr0.80_ctr1.20_rt0.20/apopto_0067_3d.png"
       ]
      },
      {
       "output_type": "stream",
       "stream": "stdout",
       "text": [
        "\n",
        "saved tissue to tissue_sz.pdf"
       ]
      },
      {
       "output_type": "stream",
       "stream": "stdout",
       "text": [
        "\n",
        "4344"
       ]
      },
      {
       "output_type": "stream",
       "stream": "stdout",
       "text": [
        "\n",
        "saved tissue to ../saved_graphs/xml/apopto_vr0.80_ctr1.20_rt0.20/apopto_0068_3d.png"
       ]
      },
      {
       "output_type": "stream",
       "stream": "stdout",
       "text": [
        "\n",
        "saved tissue to tissue_sz.pdf"
       ]
      },
      {
       "output_type": "stream",
       "stream": "stdout",
       "text": [
        "\n",
        "4344"
       ]
      },
      {
       "output_type": "stream",
       "stream": "stdout",
       "text": [
        "\n",
        "saved tissue to ../saved_graphs/xml/apopto_vr0.80_ctr1.20_rt0.20/apopto_0069_3d.png"
       ]
      },
      {
       "output_type": "stream",
       "stream": "stdout",
       "text": [
        "\n",
        "saved tissue to tissue_sz.pdf"
       ]
      },
      {
       "output_type": "stream",
       "stream": "stdout",
       "text": [
        "\n",
        "4344"
       ]
      },
      {
       "output_type": "stream",
       "stream": "stdout",
       "text": [
        "\n",
        "saved tissue to ../saved_graphs/xml/apopto_vr0.80_ctr1.20_rt0.20/apopto_0070_3d.png"
       ]
      },
      {
       "output_type": "stream",
       "stream": "stdout",
       "text": [
        "\n",
        "saved tissue to tissue_sz.pdf"
       ]
      },
      {
       "output_type": "stream",
       "stream": "stdout",
       "text": [
        "\n",
        "4344"
       ]
      },
      {
       "output_type": "stream",
       "stream": "stdout",
       "text": [
        "\n",
        "saved tissue to ../saved_graphs/xml/apopto_vr0.80_ctr1.20_rt0.20/apopto_0071_3d.png"
       ]
      },
      {
       "output_type": "stream",
       "stream": "stdout",
       "text": [
        "\n",
        "saved tissue to tissue_sz.pdf"
       ]
      },
      {
       "output_type": "stream",
       "stream": "stdout",
       "text": [
        "\n",
        "4344"
       ]
      },
      {
       "output_type": "stream",
       "stream": "stdout",
       "text": [
        "\n",
        "saved tissue to ../saved_graphs/xml/apopto_vr0.80_ctr1.20_rt0.20/apopto_0072_3d.png"
       ]
      },
      {
       "output_type": "stream",
       "stream": "stdout",
       "text": [
        "\n",
        "saved tissue to tissue_sz.pdf"
       ]
      },
      {
       "output_type": "stream",
       "stream": "stdout",
       "text": [
        "\n",
        "4344"
       ]
      },
      {
       "output_type": "stream",
       "stream": "stdout",
       "text": [
        "\n",
        "saved tissue to ../saved_graphs/xml/apopto_vr0.80_ctr1.20_rt0.20/apopto_0073_3d.png"
       ]
      },
      {
       "output_type": "stream",
       "stream": "stdout",
       "text": [
        "\n",
        "saved tissue to tissue_sz.pdf"
       ]
      },
      {
       "output_type": "stream",
       "stream": "stdout",
       "text": [
        "\n",
        "4344"
       ]
      },
      {
       "output_type": "stream",
       "stream": "stdout",
       "text": [
        "\n",
        "saved tissue to ../saved_graphs/xml/apopto_vr0.80_ctr1.20_rt0.20/apopto_0074_3d.png"
       ]
      },
      {
       "output_type": "stream",
       "stream": "stdout",
       "text": [
        "\n",
        "saved tissue to tissue_sz.pdf"
       ]
      },
      {
       "output_type": "stream",
       "stream": "stdout",
       "text": [
        "\n",
        "4344"
       ]
      },
      {
       "output_type": "stream",
       "stream": "stdout",
       "text": [
        "\n",
        "saved tissue to ../saved_graphs/xml/apopto_vr0.80_ctr1.20_rt0.20/apopto_0075_3d.png"
       ]
      },
      {
       "output_type": "stream",
       "stream": "stdout",
       "text": [
        "\n",
        "saved tissue to tissue_sz.pdf"
       ]
      },
      {
       "output_type": "stream",
       "stream": "stdout",
       "text": [
        "\n",
        "4344"
       ]
      },
      {
       "output_type": "stream",
       "stream": "stdout",
       "text": [
        "\n",
        "saved tissue to ../saved_graphs/xml/apopto_vr0.80_ctr1.20_rt0.20/apopto_0076_3d.png"
       ]
      },
      {
       "output_type": "stream",
       "stream": "stdout",
       "text": [
        "\n",
        "saved tissue to tissue_sz.pdf"
       ]
      },
      {
       "output_type": "stream",
       "stream": "stdout",
       "text": [
        "\n",
        "4344"
       ]
      },
      {
       "output_type": "stream",
       "stream": "stdout",
       "text": [
        "\n",
        "saved tissue to ../saved_graphs/xml/apopto_vr0.80_ctr1.20_rt0.20/apopto_0077_3d.png"
       ]
      },
      {
       "output_type": "stream",
       "stream": "stdout",
       "text": [
        "\n",
        "saved tissue to tissue_sz.pdf"
       ]
      },
      {
       "output_type": "stream",
       "stream": "stdout",
       "text": [
        "\n",
        "4344"
       ]
      },
      {
       "output_type": "stream",
       "stream": "stdout",
       "text": [
        "\n",
        "saved tissue to ../saved_graphs/xml/apopto_vr0.80_ctr1.20_rt0.20/apopto_0078_3d.png"
       ]
      },
      {
       "output_type": "stream",
       "stream": "stdout",
       "text": [
        "\n",
        "saved tissue to tissue_sz.pdf"
       ]
      },
      {
       "output_type": "stream",
       "stream": "stdout",
       "text": [
        "\n",
        "4344"
       ]
      },
      {
       "output_type": "stream",
       "stream": "stdout",
       "text": [
        "\n",
        "saved tissue to ../saved_graphs/xml/apopto_vr0.80_ctr1.20_rt0.20/apopto_0079_3d.png"
       ]
      },
      {
       "output_type": "stream",
       "stream": "stdout",
       "text": [
        "\n",
        "saved tissue to tissue_sz.pdf"
       ]
      },
      {
       "output_type": "stream",
       "stream": "stdout",
       "text": [
        "\n",
        "4344"
       ]
      },
      {
       "output_type": "stream",
       "stream": "stdout",
       "text": [
        "\n",
        "saved tissue to ../saved_graphs/xml/apopto_vr0.80_ctr1.20_rt0.20/apopto_0080_3d.png"
       ]
      },
      {
       "output_type": "stream",
       "stream": "stdout",
       "text": [
        "\n",
        "saved tissue to tissue_sz.pdf"
       ]
      },
      {
       "output_type": "stream",
       "stream": "stdout",
       "text": [
        "\n",
        "4344"
       ]
      },
      {
       "output_type": "stream",
       "stream": "stdout",
       "text": [
        "\n",
        "saved tissue to ../saved_graphs/xml/apopto_vr0.80_ctr1.20_rt0.20/apopto_0081_3d.png"
       ]
      },
      {
       "output_type": "stream",
       "stream": "stdout",
       "text": [
        "\n",
        "saved tissue to tissue_sz.pdf"
       ]
      },
      {
       "output_type": "stream",
       "stream": "stdout",
       "text": [
        "\n",
        "4344"
       ]
      },
      {
       "output_type": "stream",
       "stream": "stdout",
       "text": [
        "\n",
        "saved tissue to ../saved_graphs/xml/apopto_vr0.80_ctr1.20_rt0.20/apopto_0082_3d.png"
       ]
      },
      {
       "output_type": "stream",
       "stream": "stdout",
       "text": [
        "\n",
        "saved tissue to tissue_sz.pdf"
       ]
      },
      {
       "output_type": "stream",
       "stream": "stdout",
       "text": [
        "\n",
        "4344"
       ]
      },
      {
       "output_type": "stream",
       "stream": "stdout",
       "text": [
        "\n",
        "saved tissue to ../saved_graphs/xml/apopto_vr0.80_ctr1.20_rt0.20/apopto_0083_3d.png"
       ]
      },
      {
       "output_type": "stream",
       "stream": "stdout",
       "text": [
        "\n",
        "saved tissue to tissue_sz.pdf"
       ]
      },
      {
       "output_type": "stream",
       "stream": "stdout",
       "text": [
        "\n",
        "4344"
       ]
      },
      {
       "output_type": "stream",
       "stream": "stdout",
       "text": [
        "\n",
        "saved tissue to ../saved_graphs/xml/apopto_vr0.80_ctr1.20_rt0.20/apopto_0084_3d.png"
       ]
      },
      {
       "output_type": "stream",
       "stream": "stdout",
       "text": [
        "\n",
        "saved tissue to tissue_sz.pdf"
       ]
      },
      {
       "output_type": "stream",
       "stream": "stdout",
       "text": [
        "\n",
        "4344"
       ]
      },
      {
       "output_type": "stream",
       "stream": "stdout",
       "text": [
        "\n",
        "saved tissue to ../saved_graphs/xml/apopto_vr0.80_ctr1.20_rt0.20/apopto_0085_3d.png"
       ]
      },
      {
       "output_type": "stream",
       "stream": "stdout",
       "text": [
        "\n",
        "saved tissue to tissue_sz.pdf"
       ]
      },
      {
       "output_type": "stream",
       "stream": "stdout",
       "text": [
        "\n",
        "4344"
       ]
      },
      {
       "output_type": "stream",
       "stream": "stdout",
       "text": [
        "\n",
        "saved tissue to ../saved_graphs/xml/apopto_vr0.80_ctr1.20_rt0.20/apopto_0086_3d.png"
       ]
      },
      {
       "output_type": "stream",
       "stream": "stdout",
       "text": [
        "\n",
        "saved tissue to tissue_sz.pdf"
       ]
      },
      {
       "output_type": "stream",
       "stream": "stdout",
       "text": [
        "\n",
        "4344"
       ]
      },
      {
       "output_type": "stream",
       "stream": "stdout",
       "text": [
        "\n",
        "saved tissue to ../saved_graphs/xml/apopto_vr0.80_ctr1.20_rt0.20/apopto_0087_3d.png"
       ]
      },
      {
       "output_type": "stream",
       "stream": "stdout",
       "text": [
        "\n",
        "saved tissue to tissue_sz.pdf"
       ]
      },
      {
       "output_type": "stream",
       "stream": "stdout",
       "text": [
        "\n",
        "4344"
       ]
      },
      {
       "output_type": "stream",
       "stream": "stdout",
       "text": [
        "\n",
        "saved tissue to ../saved_graphs/xml/apopto_vr0.80_ctr1.20_rt0.20/apopto_0088_3d.png"
       ]
      },
      {
       "output_type": "stream",
       "stream": "stdout",
       "text": [
        "\n",
        "saved tissue to tissue_sz.pdf"
       ]
      },
      {
       "output_type": "stream",
       "stream": "stdout",
       "text": [
        "\n",
        "4344"
       ]
      },
      {
       "output_type": "stream",
       "stream": "stdout",
       "text": [
        "\n",
        "saved tissue to ../saved_graphs/xml/apopto_vr0.80_ctr1.20_rt0.20/apopto_0089_3d.png"
       ]
      },
      {
       "output_type": "stream",
       "stream": "stdout",
       "text": [
        "\n",
        "saved tissue to tissue_sz.pdf"
       ]
      },
      {
       "output_type": "stream",
       "stream": "stdout",
       "text": [
        "\n",
        "4344"
       ]
      },
      {
       "output_type": "stream",
       "stream": "stdout",
       "text": [
        "\n",
        "saved tissue to ../saved_graphs/xml/apopto_vr0.80_ctr1.20_rt0.20/apopto_0090_3d.png"
       ]
      },
      {
       "output_type": "stream",
       "stream": "stdout",
       "text": [
        "\n",
        "saved tissue to tissue_sz.pdf"
       ]
      },
      {
       "output_type": "stream",
       "stream": "stdout",
       "text": [
        "\n",
        "4344"
       ]
      },
      {
       "output_type": "stream",
       "stream": "stdout",
       "text": [
        "\n",
        "saved tissue to ../saved_graphs/xml/apopto_vr0.80_ctr1.20_rt0.20/apopto_0091_3d.png"
       ]
      },
      {
       "output_type": "stream",
       "stream": "stdout",
       "text": [
        "\n",
        "saved tissue to tissue_sz.pdf"
       ]
      },
      {
       "output_type": "stream",
       "stream": "stdout",
       "text": [
        "\n",
        "4344"
       ]
      },
      {
       "output_type": "stream",
       "stream": "stdout",
       "text": [
        "\n",
        "saved tissue to ../saved_graphs/xml/apopto_vr0.80_ctr1.20_rt0.20/apopto_0092_3d.png"
       ]
      },
      {
       "ename": "MemoryError",
       "evalue": "",
       "output_type": "pyerr",
       "traceback": [
        "\u001b[1;31m---------------------------------------------------------------------------\u001b[0m\n\u001b[1;31mMemoryError\u001b[0m                               Traceback (most recent call last)",
        "\u001b[1;32m<ipython-input-37-f4d787da97fa>\u001b[0m in \u001b[0;36m<module>\u001b[1;34m()\u001b[0m\n\u001b[0;32m      6\u001b[0m     etm = lj.Epithelium(xml_graph,\n\u001b[0;32m      7\u001b[0m                         paramfile='../default/params.xml')\n\u001b[1;32m----> 8\u001b[1;33m     \u001b[0mlj\u001b[0m\u001b[1;33m.\u001b[0m\u001b[0mdraw\u001b[0m\u001b[1;33m(\u001b[0m\u001b[0meptm\u001b[0m\u001b[1;33m,\u001b[0m \u001b[0moutput3d\u001b[0m\u001b[1;33m=\u001b[0m\u001b[0mpng_name\u001b[0m\u001b[1;33m,\u001b[0m \u001b[0mverbose\u001b[0m\u001b[1;33m=\u001b[0m\u001b[0mTrue\u001b[0m\u001b[1;33m)\u001b[0m\u001b[1;33m\u001b[0m\u001b[0m\n\u001b[0m\u001b[0;32m      9\u001b[0m \u001b[1;32mfor\u001b[0m \u001b[0mtheta\u001b[0m \u001b[1;32min\u001b[0m \u001b[0mnp\u001b[0m\u001b[1;33m.\u001b[0m\u001b[0mlinspace\u001b[0m\u001b[1;33m(\u001b[0m\u001b[1;36m0\u001b[0m\u001b[1;33m,\u001b[0m \u001b[1;36m2\u001b[0m\u001b[1;33m*\u001b[0m\u001b[0mnp\u001b[0m\u001b[1;33m.\u001b[0m\u001b[0mpi\u001b[0m\u001b[1;33m,\u001b[0m \u001b[1;36m180\u001b[0m\u001b[1;33m)\u001b[0m\u001b[1;33m:\u001b[0m\u001b[1;33m\u001b[0m\u001b[0m\n\u001b[0;32m     10\u001b[0m     \u001b[0mname\u001b[0m \u001b[1;33m=\u001b[0m \u001b[0mpng_name\u001b[0m\u001b[1;33m[\u001b[0m\u001b[1;33m:\u001b[0m\u001b[1;33m-\u001b[0m\u001b[1;36m4\u001b[0m\u001b[1;33m]\u001b[0m\u001b[1;33m+\u001b[0m\u001b[1;34m'%.3f.png'\u001b[0m \u001b[1;33m%\u001b[0m \u001b[0mtheta\u001b[0m\u001b[1;33m\u001b[0m\u001b[0m\n",
        "\u001b[1;32m/home/guillaume/Python/leg_joint/leg_joint/graph_representation.py\u001b[0m in \u001b[0;36mepithelium_draw\u001b[1;34m(eptm, z_angle, d_theta, output3d, output2d, verbose)\u001b[0m\n\u001b[0;32m    395\u001b[0m                           \u001b[0mvertex_size\u001b[0m\u001b[1;33m=\u001b[0m\u001b[0mvertex_size\u001b[0m\u001b[1;33m,\u001b[0m\u001b[1;33m\u001b[0m\u001b[0m\n\u001b[0;32m    396\u001b[0m                           \u001b[0mvorder\u001b[0m\u001b[1;33m=\u001b[0m\u001b[0mvorder\u001b[0m\u001b[1;33m,\u001b[0m \u001b[0meorder\u001b[0m\u001b[1;33m=\u001b[0m\u001b[0meorder\u001b[0m\u001b[1;33m,\u001b[0m\u001b[1;33m\u001b[0m\u001b[0m\n\u001b[1;32m--> 397\u001b[1;33m                           output=output2d)\n\u001b[0m\u001b[0;32m    398\u001b[0m     \u001b[1;32mif\u001b[0m \u001b[0mverbose\u001b[0m\u001b[1;33m:\u001b[0m \u001b[1;32mprint\u001b[0m \u001b[1;34m'saved tissue to %s'\u001b[0m \u001b[1;33m%\u001b[0m \u001b[0moutput2d\u001b[0m\u001b[1;33m\u001b[0m\u001b[0m\n\u001b[0;32m    399\u001b[0m     \u001b[1;32mdel\u001b[0m \u001b[0mpmap\u001b[0m\u001b[1;33m,\u001b[0m \u001b[0mpmap2\u001b[0m\u001b[1;33m\u001b[0m\u001b[0m\n",
        "\u001b[1;32m/usr/lib/python2.7/dist-packages/graph_tool/draw/cairo_draw.pyc\u001b[0m in \u001b[0;36mgraph_draw\u001b[1;34m(g, pos, vprops, eprops, vorder, eorder, nodesfirst, output_size, fit_view, output, fmt, **kwargs)\u001b[0m\n\u001b[0;32m    830\u001b[0m \u001b[1;33m\u001b[0m\u001b[0m\n\u001b[0;32m    831\u001b[0m         cairo_draw(g, pos, cr, vprops, eprops, vorder, eorder,\n\u001b[1;32m--> 832\u001b[1;33m                    nodesfirst, **kwargs)\n\u001b[0m\u001b[0;32m    833\u001b[0m         \u001b[1;32mdel\u001b[0m \u001b[0mcr\u001b[0m\u001b[1;33m\u001b[0m\u001b[0m\n\u001b[0;32m    834\u001b[0m \u001b[1;33m\u001b[0m\u001b[0m\n",
        "\u001b[1;32m/usr/lib/python2.7/dist-packages/graph_tool/draw/cairo_draw.pyc\u001b[0m in \u001b[0;36mcairo_draw\u001b[1;34m(g, pos, cr, vprops, eprops, vorder, eorder, nodesfirst, vcmap, ecmap, loop_angle, parallel_distance, fit_view, **kwargs)\u001b[0m\n\u001b[0;32m    451\u001b[0m     libgraph_tool_draw.cairo_draw(g._Graph__graph, _prop(\"v\", g, pos),\n\u001b[0;32m    452\u001b[0m                                   \u001b[0m_prop\u001b[0m\u001b[1;33m(\u001b[0m\u001b[1;34m\"v\"\u001b[0m\u001b[1;33m,\u001b[0m \u001b[0mg\u001b[0m\u001b[1;33m,\u001b[0m \u001b[0mvorder\u001b[0m\u001b[1;33m)\u001b[0m\u001b[1;33m,\u001b[0m \u001b[0m_prop\u001b[0m\u001b[1;33m(\u001b[0m\u001b[1;34m\"e\"\u001b[0m\u001b[1;33m,\u001b[0m \u001b[0mg\u001b[0m\u001b[1;33m,\u001b[0m \u001b[0meorder\u001b[0m\u001b[1;33m)\u001b[0m\u001b[1;33m,\u001b[0m\u001b[1;33m\u001b[0m\u001b[0m\n\u001b[1;32m--> 453\u001b[1;33m                                   nodesfirst, vattrs, eattrs, vdefs, edefs, cr)\n\u001b[0m\u001b[0;32m    454\u001b[0m     \u001b[0mcr\u001b[0m\u001b[1;33m.\u001b[0m\u001b[0mrestore\u001b[0m\u001b[1;33m(\u001b[0m\u001b[1;33m)\u001b[0m\u001b[1;33m\u001b[0m\u001b[0m\n\u001b[0;32m    455\u001b[0m \u001b[1;33m\u001b[0m\u001b[0m\n",
        "\u001b[1;31mMemoryError\u001b[0m: "
       ]
      },
      {
       "output_type": "stream",
       "stream": "stdout",
       "text": [
        "\n"
       ]
      }
     ],
     "prompt_number": 37
    },
    {
     "cell_type": "code",
     "collapsed": false,
     "input": [],
     "language": "python",
     "metadata": {},
     "outputs": []
    },
    {
     "cell_type": "code",
     "collapsed": false,
     "input": [
      "anisotropies, alignments = eptm.cells.get_anisotropies()\n",
      "\n",
      "eptm.graph.set_vertex_filter(eptm.is_cell_vert)\n",
      "fig, ax = plt.subplots()\n",
      "ax.plot(eptm.zeds.fa, anisotropies.fa, 'ro', alpha=0.5)\n",
      "eptm.graph.set_vertex_filter(None)"
     ],
     "language": "python",
     "metadata": {},
     "outputs": [],
     "prompt_number": 31
    }
   ],
   "metadata": {}
  }
 ]
}