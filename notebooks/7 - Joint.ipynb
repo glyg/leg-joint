{
 "metadata": {
  "name": "7 - Joint"
 },
 "nbformat": 3,
 "nbformat_minor": 0,
 "worksheets": [
  {
   "cells": [
    {
     "cell_type": "code",
     "collapsed": false,
     "input": [
      "%run nb_init.py\n",
      "eptm = lj.Epithelium(graphXMLfile='../saved_graphs/xml/joint_formation2.xml',\n",
      "                  paramfile='../default/few_big_cells.xml')"
     ],
     "language": "python",
     "metadata": {},
     "outputs": [
      {
       "output_type": "stream",
       "stream": "stdout",
       "text": [
        "/home/guillaume/Python\n",
        "Initial cells"
       ]
      },
      {
       "output_type": "stream",
       "stream": "stdout",
       "text": [
        "\n",
        "Initial junctions\n",
        "Scaling all the distances by a factor 1.000\n"
       ]
      }
     ],
     "prompt_number": 1
    },
    {
     "cell_type": "code",
     "collapsed": false,
     "input": [
      "ax = lj.draw.plot_cells_sz(eptm, text=False)"
     ],
     "language": "python",
     "metadata": {},
     "outputs": [],
     "prompt_number": 22
    },
    {
     "cell_type": "code",
     "collapsed": false,
     "input": [
      "central_cells = []\n",
      "for cell in eptm.cells:\n",
      "    if not eptm.is_alive[cell]: continue\n",
      "    if 12. < eptm.zeds[cell] < 14.:\n",
      "        \n",
      "        central_cells.append(cell)\n",
      "        \n",
      "print len(central_cells)"
     ],
     "language": "python",
     "metadata": {},
     "outputs": [
      {
       "output_type": "stream",
       "stream": "stdout",
       "text": [
        "19\n"
       ]
      }
     ],
     "prompt_number": 23
    },
    {
     "cell_type": "code",
     "collapsed": false,
     "input": [
      "for cell in central_cells:\n",
      "    ax.plot(eptm.zeds[cell], eptm.sigmas[cell], 'ko')\n",
      "plt.draw()"
     ],
     "language": "python",
     "metadata": {},
     "outputs": [],
     "prompt_number": 24
    },
    {
     "cell_type": "code",
     "collapsed": false,
     "input": [
      "%run ../src/sandbox.py\n",
      "edge_zeds, edge_sigmas, edge_rhos, raw_dsigmas = create_properties(eptm)"
     ],
     "language": "python",
     "metadata": {},
     "outputs": [],
     "prompt_number": 7
    },
    {
     "cell_type": "code",
     "collapsed": false,
     "input": [
      "apopototic_cells = central_cells\n",
      "for ac in apopototic_cells:\n",
      "    eptm.set_local_mask(None)\n",
      "    eptm.set_local_mask(ac)\n",
      "    eptm.cells.prefered_area[ac] = 0.05\n",
      "    eptm.cells.contractilities[ac] *= 2.\n",
      "    eptm.find_energy_min()\n",
      "    eptm.is_alive[ac] = 0\n"
     ],
     "language": "python",
     "metadata": {},
     "outputs": [
      {
       "output_type": "stream",
       "stream": "stdout",
       "text": [
        "rotated\n"
       ]
      }
     ],
     "prompt_number": 25
    },
    {
     "cell_type": "code",
     "collapsed": false,
     "input": [
      "lj.draw.plot_cells_sz(eptm, text=False)"
     ],
     "language": "python",
     "metadata": {},
     "outputs": [
      {
       "output_type": "pyout",
       "prompt_number": 11,
       "text": [
        "<matplotlib.axes.AxesSubplot at 0xe1e2aec>"
       ]
      }
     ],
     "prompt_number": 11
    },
    {
     "cell_type": "code",
     "collapsed": false,
     "input": [
      "eptm.graph.save('../saved_graphs/xml/joint_formation3.xml')"
     ],
     "language": "python",
     "metadata": {},
     "outputs": [],
     "prompt_number": 29
    },
    {
     "cell_type": "code",
     "collapsed": false,
     "input": [
      "eptm = lj.Epithelium(graphXMLfile='../saved_graphs/xml/joint_formation3.xml',\n",
      "                  paramfile='../default/few_big_cells.xml')"
     ],
     "language": "python",
     "metadata": {},
     "outputs": [
      {
       "output_type": "stream",
       "stream": "stdout",
       "text": [
        "Initial cells"
       ]
      },
      {
       "output_type": "stream",
       "stream": "stdout",
       "text": [
        "\n",
        "Initial junctions\n",
        "Scaling all the distances by a factor 0.987\n"
       ]
      }
     ],
     "prompt_number": 34
    },
    {
     "cell_type": "code",
     "collapsed": false,
     "input": [
      "eptm.set_vertex_state([(eptm.is_cell_vert, False),\n",
      "                       (eptm.is_alive, False)])\n",
      "bins = (10,7)\n",
      "H, xe, ye = np.histogram2d(eptm.zeds.fa, eptm.cells.areas.fa, bins=(10, 10))\n",
      "fig, axes = plt.subplots(2, 1, sharex=True)\n",
      "axes[0].plot(eptm.zeds.fa, eptm.cells.areas.fa, 'o')\n",
      "axes[0].pcolor(xe, ye, H.T)\n",
      "x_w = (xe[1] - xe[0])\n",
      "y_w = (ye[1] - ye[0])\n",
      "\n",
      "x_center = xe[:-1] + x_w/ 2.\n",
      "y_center = ye[:-1] + y_w/ 2.\n",
      "\n",
      "axes[0].plot(x_center, (H * y_center).sum(axis=1) / H.sum(axis=1), 'k-')\n",
      "\n",
      "eq_area = eptm.delta_o**2 * eptm.params['prefered_area']\n",
      "scaling = (H * y_center).sum(axis=1) / (H.sum(axis=1) * eq_area)\n",
      "\n",
      "axes[1].plot(x_center, scaling, 'k-')\n",
      "tck_area_vs_zed, H_area_vs_zed = compute_distribution(eptm.zeds.fa, eptm.cells.areas.fa, bins=(15, 15))\n",
      "axes[1].plot(eptm.zeds.fa, splev(eptm.zeds.fa, tck_area_vs_zed) / eq_area, 'k+')\n",
      "axes[1].axis((eptm.zeds.fa.min(), eptm.zeds.fa.max(), 0, 2.))\n",
      "\n",
      "eptm.graph.set_vertex_filter(None)\n",
      "eptm.graph.set_edge_filter(None)\n"
     ],
     "language": "python",
     "metadata": {},
     "outputs": [
      {
       "output_type": "stream",
       "stream": "stdout",
       "text": [
        "bin width = 10.921\n"
       ]
      }
     ],
     "prompt_number": 35
    },
    {
     "cell_type": "code",
     "collapsed": false,
     "input": [
      "\n",
      "z_dilation = splev(eptm.zeds.a, tck_area_vs_zed)\n",
      "eptm.sigmas.a /= np.sqrt(z_dilation)\n",
      "eptm.zeds.a /= np.sqrt(z_dilation)\n",
      "\n"
     ],
     "language": "python",
     "metadata": {},
     "outputs": [],
     "prompt_number": 30
    },
    {
     "cell_type": "code",
     "collapsed": false,
     "input": [
      "lj.draw.plot_cells_sz(eptm, text=False)"
     ],
     "language": "python",
     "metadata": {},
     "outputs": [
      {
       "output_type": "pyout",
       "prompt_number": 31,
       "text": [
        "<matplotlib.axes.AxesSubplot at 0x19cde28c>"
       ]
      }
     ],
     "prompt_number": 31
    },
    {
     "cell_type": "code",
     "collapsed": false,
     "input": [
      "eptm.update_apical_geom()"
     ],
     "language": "python",
     "metadata": {},
     "outputs": [],
     "prompt_number": 7
    },
    {
     "cell_type": "code",
     "collapsed": false,
     "input": [
      "lj.draw.plot_cells_sz(eptm, efilt=eptm.at_boundary)"
     ],
     "language": "python",
     "metadata": {},
     "outputs": [
      {
       "output_type": "pyout",
       "prompt_number": 8,
       "text": [
        "<matplotlib.axes.AxesSubplot at 0xa924a8c>"
       ]
      }
     ],
     "prompt_number": 8
    },
    {
     "cell_type": "code",
     "collapsed": false,
     "input": [
      "eptm.graph.set_edge_filter(None)\n",
      "eptm.graph.set_vertex_filter(None)\n",
      "ax = lj.draw.plot_cells_sz(eptm, text=False)\n",
      "edge_zeds, edge_sigmas, edge_rhos, raw_dsigmas = create_properties(eptm)\n",
      "\n",
      "eptm.graph.set_edge_filter(eptm.is_junction_edge)\n",
      "eptm.graph.set_vertex_filter(eptm.is_alive)\n",
      "mean_dsigma = np.abs(eptm.dsigmas.fa).mean()\n",
      "ax.plot(edge_zeds.fa, np.abs(raw_dsigmas.fa), 'ko', alpha=0.9)\n"
     ],
     "language": "python",
     "metadata": {},
     "outputs": [
      {
       "output_type": "pyout",
       "prompt_number": 61,
       "text": [
        "[<matplotlib.lines.Line2D at 0xdbfd2cc>]"
       ]
      }
     ],
     "prompt_number": 61
    },
    {
     "cell_type": "code",
     "collapsed": false,
     "input": [
      "noisy_local_rho = (np.abs(raw_dsigmas.fa[raw_dsigmas.fa > 3.]) - mean_dsigma)  / (2 * np.pi)\n",
      "figure(4)\n",
      "zeds = edge_zeds.fa[raw_dsigmas.fa > 3.]\n",
      "plot(zeds, noisy_local_rho, 'o')\n",
      "\n",
      "rho_tck = splrep(zeds.take(np.argsort(zeds)), noisy_local_rho.take(np.argsort(zeds)))\n",
      "figure(4)\n",
      "zeds = np.linspace(-9,9,100)\n",
      "plot(eptm.zeds.a, splev(eptm.zeds.a, rho_tck), 'k+')\n",
      "eptm.rhos.a = splev(eptm.zeds.a, rho_tck)\n"
     ],
     "language": "python",
     "metadata": {},
     "outputs": [],
     "prompt_number": 69
    },
    {
     "cell_type": "code",
     "collapsed": false,
     "input": [
      "lj.draw.epithelium_draw(eptm, d_theta=0.8)"
     ],
     "language": "python",
     "metadata": {},
     "outputs": [],
     "prompt_number": 32
    },
    {
     "cell_type": "code",
     "collapsed": false,
     "input": [
      "!evince tissue_3d.pdf"
     ],
     "language": "python",
     "metadata": {},
     "outputs": [],
     "prompt_number": 33
    },
    {
     "cell_type": "code",
     "collapsed": false,
     "input": [],
     "language": "python",
     "metadata": {},
     "outputs": []
    }
   ],
   "metadata": {}
  }
 ]
}