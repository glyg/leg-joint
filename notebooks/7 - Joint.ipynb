{
 "metadata": {
  "name": "7 - Joint"
 },
 "nbformat": 3,
 "nbformat_minor": 0,
 "worksheets": [
  {
   "cells": [
    {
     "cell_type": "code",
     "collapsed": false,
     "input": [
      "%load_ext autoreload\n",
      "%autoreload 2\n"
     ],
     "language": "python",
     "metadata": {},
     "outputs": [],
     "prompt_number": 1
    },
    {
     "cell_type": "code",
     "collapsed": false,
     "input": [
      "%run nb_init.py\n",
      "# eptm = lj.Epithelium(graphXMLfile='../saved_graphs/xml/before_apoptosis.xml',\n",
      "#                     paramfile='../default/params.xml')\n",
      "\n",
      "eptm = lj.Epithelium(graphXMLfile='../saved_graphs/xml/squeezed2.5.xml',\n",
      "                     paramfile='../default/params.xml')\n"
     ],
     "language": "python",
     "metadata": {},
     "outputs": [
      {
       "output_type": "stream",
       "stream": "stdout",
       "text": [
        "visvis not found\n"
       ]
      }
     ],
     "prompt_number": 2
    },
    {
     "cell_type": "code",
     "collapsed": false,
     "input": [
      "from joint import *\n",
      "\n"
     ],
     "language": "python",
     "metadata": {},
     "outputs": [],
     "prompt_number": 3
    },
    {
     "cell_type": "code",
     "collapsed": false,
     "input": [
      "apopto_cells = get_apoptotic_cells(eptm, seed=3, z0=0., width_apopto=1., p0=0.9, amp=1.)"
     ],
     "language": "python",
     "metadata": {},
     "outputs": [
      {
       "output_type": "stream",
       "stream": "stdout",
       "text": [
        "Number of apoptotic cells: 14\n"
       ]
      }
     ],
     "prompt_number": 4
    },
    {
     "cell_type": "code",
     "collapsed": false,
     "input": [
      "apopto_sequence = get_sequence(apopto_cells[:4], num_steps=3)\n"
     ],
     "language": "python",
     "metadata": {},
     "outputs": [],
     "prompt_number": 8
    },
    {
     "cell_type": "code",
     "collapsed": false,
     "input": [
      "steps = np.array([len(a_seq) for a_seq in apopto_sequence[:4]])\n",
      "total_length = steps.sum()\n",
      "print('Number of steps %i' %total_length)"
     ],
     "language": "python",
     "metadata": {},
     "outputs": [
      {
       "output_type": "stream",
       "stream": "stdout",
       "text": [
        "Number of steps 9\n"
       ]
      }
     ],
     "prompt_number": 9
    },
    {
     "cell_type": "code",
     "collapsed": false,
     "input": [
      "mean_rho = eptm.rhos.a.mean()\n",
      "thetas = np.linspace(0, 2 * np.pi, 60)\n",
      "fig, ax = plt.subplots()\n",
      "num_rows = 12\n",
      "delta = 60.\n",
      "for n, cells in enumerate(apopto_sequence[1:]):\n",
      "    \n",
      "    if len(cells) == 0: break\n",
      "    dx = + (n % num_rows) * delta\n",
      "    dy = - (n // num_rows) * delta\n",
      "    ax.plot(mean_rho * np.cos(thetas) + dx,\n",
      "            mean_rho * np.sin(thetas) + dy, 'k-', alpha=0.4)\n",
      "    ax.text(dx, dy, str(n + 1), fontsize=10)\n",
      "    for cell in cells:\n",
      "        ax.plot(eptm.wys[cell] + dx, eptm.ixs[cell] + dy, 'ro', alpha=0.5)\n",
      "ax.set_aspect('equal')\n",
      "ax.set_xticks([])\n",
      "ax.set_yticks([])\n",
      "dx = + ((n + 1) % num_rows) * delta\n",
      "dy = - ((n + 1) // num_rows) * delta\n",
      "\n",
      "ax.plot(mean_rho * np.cos(thetas) + dx,\n",
      "        mean_rho * np.sin(thetas) + dy, 'k-', alpha=0.4)\n",
      "ax.text(dx, dy, 'all', fontsize=10)\n",
      "for cell in apopto_cells:\n",
      "    ax.plot(eptm.wys[cell] + dx, eptm.ixs[cell] + dy, 'ko', alpha=0.7)\n",
      "ax.set_title('Sequence of apoptoses around the joint')"
     ],
     "language": "python",
     "metadata": {},
     "outputs": [
      {
       "metadata": {},
       "output_type": "pyout",
       "prompt_number": 10,
       "text": [
        "<matplotlib.text.Text at 0x8721210>"
       ]
      }
     ],
     "prompt_number": 10
    },
    {
     "cell_type": "code",
     "collapsed": false,
     "input": [
      "anisotropies, alignments = eptm.cells.get_anisotropies()"
     ],
     "language": "python",
     "metadata": {},
     "outputs": [],
     "prompt_number": 42
    },
    {
     "cell_type": "code",
     "collapsed": false,
     "input": [
      "eptm.graph.set_vertex_filter(eptm.is_cell_vert)\n",
      "fig, ax = plt.subplots()\n",
      "ax.plot(eptm.zeds.fa, anisotropies.fa, 'ro', alpha=0.5)\n",
      "eptm.graph.set_vertex_filter(None)"
     ],
     "language": "python",
     "metadata": {},
     "outputs": [],
     "prompt_number": 43
    },
    {
     "cell_type": "code",
     "collapsed": false,
     "input": [
      "eptm.graph.vertex_properties\n"
     ],
     "language": "python",
     "metadata": {},
     "outputs": [
      {
       "metadata": {},
       "output_type": "pyout",
       "prompt_number": 52,
       "text": [
        "{'ages': <PropertyMap object with key type 'Vertex' and value type 'int32_t', for Graph 0x441d890, at 0x441da50>,\n",
        " 'areas': <PropertyMap object with key type 'Vertex' and value type 'double', for Graph 0x441d890, at 0x44135d0>,\n",
        " 'contractile_grad': <PropertyMap object with key type 'Vertex' and value type 'double', for Graph 0x441d890, at 0x441da90>,\n",
        " 'contractilities': <PropertyMap object with key type 'Vertex' and value type 'double', for Graph 0x441d890, at 0x441de10>,\n",
        " 'elastic_grad': <PropertyMap object with key type 'Vertex' and value type 'double', for Graph 0x441d890, at 0x441df50>,\n",
        " 'grad_ix': <PropertyMap object with key type 'Vertex' and value type 'double', for Graph 0x441d890, at 0x441de50>,\n",
        " 'grad_radial': <PropertyMap object with key type 'Vertex' and value type 'double', for Graph 0x441d890, at 0x441df90>,\n",
        " 'grad_sigma': <PropertyMap object with key type 'Vertex' and value type 'double', for Graph 0x441d890, at 0x441dfd0>,\n",
        " 'grad_wy': <PropertyMap object with key type 'Vertex' and value type 'double', for Graph 0x441d890, at 0x441db90>,\n",
        " 'grad_zed': <PropertyMap object with key type 'Vertex' and value type 'double', for Graph 0x441d890, at 0x441d990>,\n",
        " 'is_active_vert': <PropertyMap object with key type 'Vertex' and value type 'bool', for Graph 0x441d890, at 0x441dcd0>,\n",
        " 'is_alive': <PropertyMap object with key type 'Vertex' and value type 'bool', for Graph 0x441d890, at 0x441dc50>,\n",
        " 'is_cell_vert': <PropertyMap object with key type 'Vertex' and value type 'bool', for Graph 0x441d890, at 0x441ddd0>,\n",
        " 'is_local_vert': <PropertyMap object with key type 'Vertex' and value type 'bool', for Graph 0x441d890, at 0x441db10>,\n",
        " 'ixs': <PropertyMap object with key type 'Vertex' and value type 'double', for Graph 0x441d890, at 0x441dc10>,\n",
        " 'perimeters': <PropertyMap object with key type 'Vertex' and value type 'double', for Graph 0x441d890, at 0x4413550>,\n",
        " 'prefered_vol': <PropertyMap object with key type 'Vertex' and value type 'double', for Graph 0x441d890, at 0x441df10>,\n",
        " 'radial_tensions': <PropertyMap object with key type 'Vertex' and value type 'double', for Graph 0x441d890, at 0x441dd90>,\n",
        " 'rhos': <PropertyMap object with key type 'Vertex' and value type 'double', for Graph 0x441d890, at 0x441dd50>,\n",
        " 'sigmas': <PropertyMap object with key type 'Vertex' and value type 'double', for Graph 0x441d890, at 0x441de90>,\n",
        " 'thetas': <PropertyMap object with key type 'Vertex' and value type 'double', for Graph 0x441d890, at 0x441dd10>,\n",
        " 'vol_elasticities': <PropertyMap object with key type 'Vertex' and value type 'double', for Graph 0x441d890, at 0x441d9d0>,\n",
        " 'vols': <PropertyMap object with key type 'Vertex' and value type 'double', for Graph 0x441d890, at 0x441dad0>,\n",
        " 'volume_grad': <PropertyMap object with key type 'Vertex' and value type 'double', for Graph 0x441d890, at 0x4428050>,\n",
        " 'volume_grad_apical': <PropertyMap object with key type 'Vertex' and value type 'double', for Graph 0x441d890, at 0x441dc90>,\n",
        " 'volume_grad_cell': <PropertyMap object with key type 'Vertex' and value type 'vector<double>', for Graph 0x441d890, at 0x7f1e8ef72550>,\n",
        " 'volume_grad_radial': <PropertyMap object with key type 'Vertex' and value type 'double', for Graph 0x441d890, at 0x441db50>,\n",
        " 'wys': <PropertyMap object with key type 'Vertex' and value type 'double', for Graph 0x441d890, at 0x441ded0>,\n",
        " 'zeds': <PropertyMap object with key type 'Vertex' and value type 'double', for Graph 0x441d890, at 0x441dbd0>}"
       ]
      }
     ],
     "prompt_number": 52
    },
    {
     "cell_type": "code",
     "collapsed": false,
     "input": [
      "gradual_apoptosis(eptm, apopto_cells, num_steps=3,\n",
      "                  vol_reduction=1.4,\n",
      "                  contractility=1.05,\n",
      "                  radial_tension=0.7, pola=True)"
     ],
     "language": "python",
     "metadata": {},
     "outputs": [
      {
       "ename": "TypeError",
       "evalue": "remove_cell() takes exactly 2 arguments (1 given)",
       "output_type": "pyerr",
       "traceback": [
        "\u001b[1;31m---------------------------------------------------------------------------\u001b[0m\n\u001b[1;31mTypeError\u001b[0m                                 Traceback (most recent call last)",
        "\u001b[1;32m<ipython-input-48-1c0802600d83>\u001b[0m in \u001b[0;36m<module>\u001b[1;34m()\u001b[0m\n\u001b[0;32m      2\u001b[0m                   \u001b[0mvol_reduction\u001b[0m\u001b[1;33m=\u001b[0m\u001b[1;36m1.4\u001b[0m\u001b[1;33m,\u001b[0m\u001b[1;33m\u001b[0m\u001b[0m\n\u001b[0;32m      3\u001b[0m                   \u001b[0mcontractility\u001b[0m\u001b[1;33m=\u001b[0m\u001b[1;36m1.05\u001b[0m\u001b[1;33m,\u001b[0m\u001b[1;33m\u001b[0m\u001b[0m\n\u001b[1;32m----> 4\u001b[1;33m                   radial_tension=0.7, pola=True)\n\u001b[0m",
        "\u001b[1;32m/home/guillaume/Python/leg-joint/joint.py\u001b[0m in \u001b[0;36mgradual_apoptosis\u001b[1;34m(eptm, apopto_cells, num_steps, pola, **kwargs)\u001b[0m\n\u001b[0;32m     70\u001b[0m         \u001b[1;32mif\u001b[0m \u001b[0mfirst\u001b[0m \u001b[1;33m!=\u001b[0m \u001b[0mprev_first\u001b[0m\u001b[1;33m:\u001b[0m\u001b[1;33m\u001b[0m\u001b[0m\n\u001b[0;32m     71\u001b[0m             \u001b[0mold_jv\u001b[0m \u001b[1;33m=\u001b[0m \u001b[1;33m[\u001b[0m\u001b[0mjv\u001b[0m \u001b[1;32mfor\u001b[0m \u001b[0mjv\u001b[0m \u001b[1;32min\u001b[0m \u001b[0mprev_first\u001b[0m\u001b[1;33m.\u001b[0m\u001b[0mout_neighbours\u001b[0m\u001b[1;33m(\u001b[0m\u001b[1;33m)\u001b[0m\u001b[1;33m]\u001b[0m\u001b[1;33m[\u001b[0m\u001b[1;36m0\u001b[0m\u001b[1;33m]\u001b[0m\u001b[1;33m\u001b[0m\u001b[0m\n\u001b[1;32m---> 72\u001b[1;33m             \u001b[0mnew_jv\u001b[0m \u001b[1;33m=\u001b[0m \u001b[0mlj\u001b[0m\u001b[1;33m.\u001b[0m\u001b[0mremove_cell\u001b[0m\u001b[1;33m(\u001b[0m\u001b[0mprev_first\u001b[0m\u001b[1;33m)\u001b[0m\u001b[1;33m\u001b[0m\u001b[0m\n\u001b[0m\u001b[0;32m     73\u001b[0m             eptm.junctions.radial_tensions[new_jv] = (\n\u001b[0;32m     74\u001b[0m                 eptm.junctions.radial_tensions[old_jv])\n",
        "\u001b[1;31mTypeError\u001b[0m: remove_cell() takes exactly 2 arguments (1 given)"
       ]
      },
      {
       "output_type": "stream",
       "stream": "stdout",
       "text": [
        "16 steps will be performed\n"
       ]
      }
     ],
     "prompt_number": 48
    },
    {
     "cell_type": "code",
     "collapsed": false,
     "input": [
      "cells = [cell for cell in eptm.cells if eptm.is_alive[cell]] \n",
      "np.random.shuffle(cells)\n",
      "for cell in cells:\n",
      "    eptm.set_local_mask(None)\n",
      "    eptm.set_local_mask(cell)\n",
      "    lj.find_energy_min(eptm)"
     ],
     "language": "python",
     "metadata": {},
     "outputs": [],
     "prompt_number": 28
    },
    {
     "cell_type": "code",
     "collapsed": false,
     "input": [
      "eptm.graph.save('../saved_graphs/xml/after_apoptosis_poraized.xml')"
     ],
     "language": "python",
     "metadata": {},
     "outputs": [],
     "prompt_number": 27
    },
    {
     "cell_type": "code",
     "collapsed": false,
     "input": [
      "lj.local_slice(eptm, theta_c=0., zed_c=0, theta_amp=3.14/3, zed_amp=5)"
     ],
     "language": "python",
     "metadata": {},
     "outputs": [],
     "prompt_number": 47
    },
    {
     "cell_type": "code",
     "collapsed": false,
     "input": [
      "lj.plot_ortho_proj(eptm, vfilt=eptm.is_local_vert, efilt=eptm.is_local_edge, text=False)"
     ],
     "language": "python",
     "metadata": {},
     "outputs": [
      {
       "metadata": {},
       "output_type": "pyout",
       "prompt_number": 48,
       "text": [
        "(<matplotlib.axes.AxesSubplot at 0x1eae784c>,\n",
        " <matplotlib.axes.Axes at 0x1f07204c>,\n",
        " <matplotlib.axes.Axes at 0x1f0dfc4c>)"
       ]
      }
     ],
     "prompt_number": 48
    },
    {
     "cell_type": "code",
     "collapsed": false,
     "input": [
      "figure(); plot(eptm.rhos.fa)"
     ],
     "language": "python",
     "metadata": {},
     "outputs": [
      {
       "metadata": {},
       "output_type": "pyout",
       "prompt_number": 50,
       "text": [
        "[<matplotlib.lines.Line2D at 0x156be84c>]"
       ]
      }
     ],
     "prompt_number": 50
    },
    {
     "cell_type": "code",
     "collapsed": false,
     "input": [
      "lj.draw(eptm)"
     ],
     "language": "python",
     "metadata": {},
     "outputs": [
      {
       "ename": "Error",
       "evalue": "invalid matrix (not invertible)",
       "output_type": "pyerr",
       "traceback": [
        "\u001b[1;31m---------------------------------------------------------------------------\u001b[0m\n\u001b[1;31mError\u001b[0m                                     Traceback (most recent call last)",
        "\u001b[1;32m<ipython-input-51-c5aafa980242>\u001b[0m in \u001b[0;36m<module>\u001b[1;34m()\u001b[0m\n\u001b[1;32m----> 1\u001b[1;33m \u001b[0mlj\u001b[0m\u001b[1;33m.\u001b[0m\u001b[0mdraw\u001b[0m\u001b[1;33m(\u001b[0m\u001b[0meptm\u001b[0m\u001b[1;33m)\u001b[0m\u001b[1;33m\u001b[0m\u001b[0m\n\u001b[0m",
        "\u001b[1;32m/home/guillaume/Python/leg_joint/leg_joint/graph_representation.pyc\u001b[0m in \u001b[0;36mepithelium_draw\u001b[1;34m(eptm, z_angle, d_theta, output3d, output2d, verbose)\u001b[0m\n\u001b[0;32m    524\u001b[0m                          \u001b[0mvertex_size\u001b[0m\u001b[1;33m=\u001b[0m\u001b[0mvertex_size\u001b[0m\u001b[1;33m,\u001b[0m\u001b[1;33m\u001b[0m\u001b[0m\n\u001b[0;32m    525\u001b[0m                          \u001b[0mvorder\u001b[0m\u001b[1;33m=\u001b[0m\u001b[0mvorder\u001b[0m\u001b[1;33m,\u001b[0m \u001b[0meorder\u001b[0m\u001b[1;33m=\u001b[0m\u001b[0meorder\u001b[0m\u001b[1;33m,\u001b[0m\u001b[1;33m\u001b[0m\u001b[0m\n\u001b[1;32m--> 526\u001b[1;33m                          output=output3d)\n\u001b[0m\u001b[0;32m    527\u001b[0m     \u001b[1;32mif\u001b[0m \u001b[0mverbose\u001b[0m\u001b[1;33m:\u001b[0m \u001b[1;32mprint\u001b[0m \u001b[1;34m'saved tissue to %s'\u001b[0m \u001b[1;33m%\u001b[0m \u001b[0moutput3d\u001b[0m\u001b[1;33m\u001b[0m\u001b[0m\n\u001b[0;32m    528\u001b[0m \u001b[1;33m\u001b[0m\u001b[0m\n",
        "\u001b[1;32m/usr/lib/python2.7/dist-packages/graph_tool/draw/cairo_draw.pyc\u001b[0m in \u001b[0;36mgraph_draw\u001b[1;34m(g, pos, vprops, eprops, vorder, eorder, nodesfirst, output_size, fit_view, output, fmt, **kwargs)\u001b[0m\n\u001b[0;32m    826\u001b[0m             \u001b[0mcr\u001b[0m\u001b[1;33m.\u001b[0m\u001b[0mpaint\u001b[0m\u001b[1;33m(\u001b[0m\u001b[1;33m)\u001b[0m\u001b[1;33m\u001b[0m\u001b[0m\n\u001b[0;32m    827\u001b[0m \u001b[1;33m\u001b[0m\u001b[0m\n\u001b[1;32m--> 828\u001b[1;33m         \u001b[0mcr\u001b[0m\u001b[1;33m.\u001b[0m\u001b[0mtranslate\u001b[0m\u001b[1;33m(\u001b[0m\u001b[0moffset\u001b[0m\u001b[1;33m[\u001b[0m\u001b[1;36m0\u001b[0m\u001b[1;33m]\u001b[0m\u001b[1;33m,\u001b[0m \u001b[0moffset\u001b[0m\u001b[1;33m[\u001b[0m\u001b[1;36m1\u001b[0m\u001b[1;33m]\u001b[0m\u001b[1;33m)\u001b[0m\u001b[1;33m\u001b[0m\u001b[0m\n\u001b[0m\u001b[0;32m    829\u001b[0m         \u001b[0mcr\u001b[0m\u001b[1;33m.\u001b[0m\u001b[0mscale\u001b[0m\u001b[1;33m(\u001b[0m\u001b[0mzoom\u001b[0m\u001b[1;33m,\u001b[0m \u001b[0mzoom\u001b[0m\u001b[1;33m)\u001b[0m\u001b[1;33m\u001b[0m\u001b[0m\n\u001b[0;32m    830\u001b[0m \u001b[1;33m\u001b[0m\u001b[0m\n",
        "\u001b[1;31mError\u001b[0m: invalid matrix (not invertible)"
       ]
      }
     ],
     "prompt_number": 51
    },
    {
     "cell_type": "code",
     "collapsed": false,
     "input": [
      "eptm = lj.Epithelium('../saved_graphs/xml/after_apoptosis_polarized2.5.xml',\n",
      "                     paramfile='../default/params.xml')"
     ],
     "language": "python",
     "metadata": {},
     "outputs": [],
     "prompt_number": 52
    },
    {
     "cell_type": "code",
     "collapsed": false,
     "input": [
      "anisotropies = eptm.cells.get_anisotropies()\n",
      "eptm.graph.set_vertex_filter(eptm.is_cell_vert)\n",
      "fig, ax = plt.subplots()\n",
      "ax.plot(eptm.zeds.fa, anisotropies.fa, 'ro', alpha=0.5)\n",
      "eptm.graph.set_vertex_filter(None)"
     ],
     "language": "python",
     "metadata": {},
     "outputs": [
      {
       "output_type": "stream",
       "stream": "stderr",
       "text": [
        "[autoreload of leg_joint.graph_representation failed: Traceback (most recent call last):\n",
        "  File \"/usr/local/lib/python2.7/dist-packages/IPython/extensions/autoreload.py\", line 229, in check\n",
        "    superreload(m, reload, self.old_objects)\n",
        "ImportError: cannot import name Polygon\n",
        "]\n"
       ]
      }
     ],
     "prompt_number": 53
    },
    {
     "cell_type": "code",
     "collapsed": false,
     "input": [],
     "language": "python",
     "metadata": {},
     "outputs": []
    }
   ],
   "metadata": {}
  }
 ]
}