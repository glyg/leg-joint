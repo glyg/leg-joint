{
 "metadata": {
  "name": ""
 },
 "nbformat": 3,
 "nbformat_minor": 0,
 "worksheets": [
  {
   "cells": [
    {
     "cell_type": "code",
     "collapsed": false,
     "input": [
      "%load_ext autoreload\n",
      "%autoreload 2\n"
     ],
     "language": "python",
     "metadata": {},
     "outputs": [],
     "prompt_number": 1
    },
    {
     "cell_type": "code",
     "collapsed": false,
     "input": [
      "%run nb_init.py\n",
      "from joint import *"
     ],
     "language": "python",
     "metadata": {},
     "outputs": [],
     "prompt_number": 2
    },
    {
     "cell_type": "code",
     "collapsed": false,
     "input": [
      "eptm = lj.Epithelium(graphXMLfile='../saved_graphs/xml/before_apoptosis.xml',#\n",
      "                     paramfile='../default/params.xml')\n",
      "eptm.isotropic_relax()\n",
      "\n",
      "\n",
      "#eptm = lj.Epithelium(graphXMLfile=after_apopto,#\n",
      "#                     paramfile='../default/params.xml')\n",
      "   \n",
      "#eptm = lj.Epithelium(graphXMLfile='../saved_graphs/xml/squeezed2.5.xml',\n",
      "#                     paramfile='../default/params.xml')\n",
      "\n",
      "#lj.running_local_optimum(eptm, 1e-3)\n",
      "#eptm.graph.save('../saved_graphs/xml/before_apoptosis.xml')"
     ],
     "language": "python",
     "metadata": {},
     "outputs": [],
     "prompt_number": 96
    },
    {
     "cell_type": "code",
     "collapsed": false,
     "input": [
      "# lj.running_local_optimum(eptm, 1e-3)\n",
      "# eptm.graph.save('../saved_graphs/xml/before_apoptosis.xml')"
     ],
     "language": "python",
     "metadata": {},
     "outputs": [],
     "prompt_number": 4
    },
    {
     "cell_type": "code",
     "collapsed": false,
     "input": [
      "avg_dists = []\n",
      "for cell in eptm.cells:\n",
      "    neighbs = eptm.cells.get_neighbor_cells(cell)\n",
      "    \n",
      "    xyz = np.array([[eptm.ixs[n] - eptm.ixs[cell], \n",
      "                     eptm.wys[n] - eptm.wys[cell], \n",
      "                     eptm.zeds[n] - eptm.zeds[cell]]\n",
      "                     for n in neighbs])\n",
      "    if not len(xyz):\n",
      "        continue\n",
      "    avg_dist = np.sqrt((xyz**2).sum(axis=1)).mean()\n",
      "    avg_dists.append(avg_dist)\n",
      "avg_dists = np.array(avg_dists)\n",
      "num_sigma = 2*np.pi*eptm.rhos.a.mean() / avg_dists.mean()\n",
      "print('Number of cells around the leg: %.1f' % num_sigma) "
     ],
     "language": "python",
     "metadata": {},
     "outputs": [
      {
       "output_type": "stream",
       "stream": "stdout",
       "text": [
        "Number of cells around the leg: 50.6\n"
       ]
      }
     ],
     "prompt_number": 4
    },
    {
     "cell_type": "code",
     "collapsed": false,
     "input": [
      "width_apopto = 1.8\n",
      "p0 = 0.25\n",
      "amp = 0.\n",
      "\n",
      "\n",
      "thetas = np.linspace(-np.pi, np.pi, 512)\n",
      "zeds = np.linspace(-20, 20, 512)\n",
      "fig, ax = plt.subplots()#subplot_kw={'projection':'3d'})\n",
      "\n",
      "thetas, zeds = np.meshgrid(thetas, zeds)\n",
      "probas =  p_apopto(zeds, thetas, \n",
      "                   width_apopto=width_apopto, \n",
      "                   p0=p0, amp=amp)\n",
      "im = ax.imshow(probas.T, vmin=0, vmax=1, cmap='gray', aspect=20/180.,\n",
      "               extent=(-20, 20, 0, 360))\n",
      "plt.colorbar(im)\n",
      "plt.savefig('../doc/imgs/apoptosis_proba_15c_nobias.svg')\n"
     ],
     "language": "python",
     "metadata": {},
     "outputs": [
      {
       "metadata": {},
       "output_type": "display_data",
       "png": "[encoded data removed]",
       "text": [
        "<matplotlib.figure.Figure at 0x99f55a4c>"
       ]
      }
     ],
     "prompt_number": 97
    },
    {
     "cell_type": "code",
     "collapsed": false,
     "input": [
      "all_hists = []\n",
      "n_cells = []\n",
      "for seed in range(10):\n",
      "    print('Random seed: %i' % seed)\n",
      "    apopto_cells = get_apoptotic_cells(eptm, \n",
      "                                       seed=seed, z0=0., \n",
      "                                       width_apopto=width_apopto,\n",
      "                                       p0=p0, amp=amp)\n",
      "    apopto_sequence = get_sequence(apopto_cells, num_steps=10)\n",
      "    n_seq = len(apopto_sequence)\n",
      "    n_cells.append(len(apopto_cells))\n",
      "    apopto_4steps = [np.concatenate(\n",
      "                         apopto_sequence[n_seq//4 * i:\n",
      "                                         n_seq//4 * i + n_seq//4]\n",
      "                                    ) for i in range(4)]\n",
      "    thetas_4steps = [np.unique([eptm.thetas[cell] for cell in seq])\n",
      "                     for seq in apopto_4steps]\n",
      "    hists_4steps = [np.histogram(thetas, bins=8, range=(-np.pi, np.pi))[0]\n",
      "                    for thetas in thetas_4steps]\n",
      "    all_hists.append(hists_4steps)\n",
      "all_hists = np.array(all_hists)\n",
      "n_cells= np.array(n_cells)\n",
      "print('Average number of apoptic cells: %.1f \u00b1 %.2f'\n",
      "      % (n_cells.mean(), n_cells.std()))\n",
      "avg_hists = all_hists.mean(axis=0)\n",
      "norm = n_cells.mean() / avg_hists.sum()\n",
      "\n",
      "print('repartition: ')\n",
      "print(avg_hists * norm)\n",
      "print('Summed:')\n",
      "print(avg_hists.sum(axis=0) * norm)\n",
      "\n",
      "in_vivo_hist = np.array([[0.6, 0.6, 0.2, 0.0, 0.3, 0.6, 0.6, 1.0],\n",
      "                         [1.5, 0.8, 0.3, 0.5, 0.3, 0.7, 2.7, 2.9],\n",
      "                         [1.2, 2.4, 0.6, 0.8, 1.3, 1.8, 3.5, 1.0],\n",
      "                         [0.0, 0.0, 0.0, 1.3, 1.4, 0.6, 0.4, 0.0]])\n"
     ],
     "language": "python",
     "metadata": {},
     "outputs": [
      {
       "output_type": "stream",
       "stream": "stdout",
       "text": [
        "Random seed: 0\n",
        "Number of apoptotic cells: 13"
       ]
      },
      {
       "output_type": "stream",
       "stream": "stdout",
       "text": [
        "\n",
        "Random seed: 1\n",
        "Number of apoptotic cells: 15"
       ]
      },
      {
       "output_type": "stream",
       "stream": "stdout",
       "text": [
        "\n",
        "Random seed: 2"
       ]
      },
      {
       "output_type": "stream",
       "stream": "stdout",
       "text": [
        "\n",
        "Number of apoptotic cells: 11"
       ]
      },
      {
       "output_type": "stream",
       "stream": "stdout",
       "text": [
        "\n",
        "Random seed: 3\n",
        "Number of apoptotic cells: 9"
       ]
      },
      {
       "output_type": "stream",
       "stream": "stdout",
       "text": [
        "\n",
        "Random seed: 4\n",
        "Number of apoptotic cells: 11"
       ]
      },
      {
       "output_type": "stream",
       "stream": "stdout",
       "text": [
        "\n",
        "Random seed: 5\n",
        "Number of apoptotic cells: 11"
       ]
      },
      {
       "output_type": "stream",
       "stream": "stdout",
       "text": [
        "\n",
        "Random seed: 6\n",
        "Number of apoptotic cells: 11"
       ]
      },
      {
       "output_type": "stream",
       "stream": "stdout",
       "text": [
        "\n",
        "Random seed: 7\n",
        "Number of apoptotic cells: 15"
       ]
      },
      {
       "output_type": "stream",
       "stream": "stdout",
       "text": [
        "\n",
        "Random seed: 8\n",
        "Number of apoptotic cells: 21"
       ]
      },
      {
       "output_type": "stream",
       "stream": "stdout",
       "text": [
        "\n",
        "Random seed: 9\n",
        "Number of apoptotic cells: 14"
       ]
      },
      {
       "output_type": "stream",
       "stream": "stdout",
       "text": [
        "\n",
        "Average number of apoptic cells: 13.1 \u00b1 3.24"
       ]
      },
      {
       "output_type": "stream",
       "stream": "stdout",
       "text": [
        "\n",
        "repartition: "
       ]
      },
      {
       "output_type": "stream",
       "stream": "stdout",
       "text": [
        "\n",
        "[[ 0.93850746  0.31283582  0.03910448  0.          0.          0.\n",
        "   0.43014925  0.3519403 ]\n",
        " [ 0.93850746  0.74298507  0.54746269  0.31283582  0.11731343  0.46925373\n",
        "   0.62567164  0.39104478]\n",
        " [ 0.46925373  0.74298507  0.62567164  0.58656716  0.62567164  0.54746269\n",
        "   0.62567164  0.23462687]\n",
        " [ 0.          0.15641791  0.43014925  0.58656716  0.62567164  0.50835821\n",
        "   0.11731343  0.        ]]\n",
        "Summed:"
       ]
      },
      {
       "output_type": "stream",
       "stream": "stdout",
       "text": [
        "\n",
        "[ 2.34626866  1.95522388  1.64238806  1.48597015  1.36865672  1.52507463\n",
        "  1.79880597  0.97761194]\n"
       ]
      }
     ],
     "prompt_number": 98
    },
    {
     "cell_type": "code",
     "collapsed": false,
     "input": [
      "#eptm = lj.Epithelium(graphXMLfile='../saved_graphs/xml/before_apoptosis.xml',#\n",
      "#                     paramfile='../default/params.xml')\n",
      "apopto_cells = get_apoptotic_cells(eptm, seed=9, z0=0., \n",
      "                                   width_apopto=width_apopto, \n",
      "                                   p0=p0, amp=amp)\n",
      "apopto_sequence = get_sequence(apopto_cells, num_steps=5)"
     ],
     "language": "python",
     "metadata": {},
     "outputs": [
      {
       "output_type": "stream",
       "stream": "stdout",
       "text": [
        "Number of apoptotic cells: 14\n"
       ]
      }
     ],
     "prompt_number": 99
    },
    {
     "cell_type": "code",
     "collapsed": false,
     "input": [
      "eptm.set_local_mask(None)\n",
      "lj.local_slice(eptm, theta_amp=2*np.pi, zed_amp=width_apopto)\n"
     ],
     "language": "python",
     "metadata": {},
     "outputs": [],
     "prompt_number": 100
    },
    {
     "cell_type": "code",
     "collapsed": false,
     "input": [
      "fig, axes = plt.subplots(1, 4,\n",
      "                         figsize=(16, 4))\n",
      "s\n",
      "radii = np.ones(8)\n",
      "width = np.pi/4\n",
      "\n",
      "avg_hists *= norm\n",
      "\n",
      "for i in range(4):\n",
      "    num_depths = avg_hists[i, :]\n",
      "    ax = axes[i]\n",
      "    # bars = ax.bar(np.arange(0, 2*np.pi, np.pi/4), radii,\n",
      "    #              width=width, bottom=0.0, )\n",
      "\n",
      "    # for nd, bar in zip(num_depths, bars):\n",
      "    #    bar.set_facecolor([0, 0, 0])\n",
      "    #    bar.set_alpha(nd/avg_hists.max())\n",
      "    labels = ['%1.1f' % nd for nd in avg_hists[i, :]]\n",
      "    sizes = np.ones(8)\n",
      "    colors = [(1 - nd/avg_hists.max(),\n",
      "               1 - nd/avg_hists.max(),\n",
      "               1 - nd/avg_hists.max())\n",
      "              for nd in avg_hists[i, :]]\n",
      "    ax.pie(sizes, colors=colors, labels=labels, startangle=-90)\n",
      "    ax.axis('equal')\n",
      "      \n",
      "fig.savefig('../doc/imgs/repartition_pie_plot.svg')\n",
      "plt.draw()"
     ],
     "language": "python",
     "metadata": {},
     "outputs": [
      {
       "metadata": {},
       "output_type": "display_data",
       "png": "[encoded data removed]",
       "text": [
        "<matplotlib.figure.Figure at 0x9ac84f8c>"
       ]
      }
     ],
     "prompt_number": 101
    },
    {
     "cell_type": "code",
     "collapsed": false,
     "input": [
      "mean_rho = eptm.rhos.a.mean()\n",
      "thetas = np.linspace(0, 2 * np.pi, 60)\n",
      "fig, ax = plt.subplots(figsize=(12, 4))\n",
      "num_rows = 12\n",
      "delta = 60.\n",
      "for n, cells in enumerate(apopto_sequence[1:]):\n",
      "    \n",
      "    if len(cells) == 0: break\n",
      "    dx = + (n % num_rows) * delta\n",
      "    dy = - (n // num_rows) * delta\n",
      "    ax.plot(mean_rho * np.cos(thetas) + dx,\n",
      "            mean_rho * np.sin(thetas) + dy, 'k-', alpha=0.4)\n",
      "    ax.text(dx, dy, str(n + 1), fontsize=10)\n",
      "    for cell in cells:\n",
      "        ax.plot(eptm.wys[cell] + dx, eptm.ixs[cell] + dy, 'ro', alpha=0.5)\n",
      "\n",
      "ax.set_aspect('equal')\n",
      "ax.set_xticks([])\n",
      "ax.set_yticks([])\n",
      "dx = + ((n + 1) % num_rows) * delta\n",
      "dy = - ((n + 1) // num_rows) * delta\n",
      "\n",
      "ax.plot(mean_rho * np.cos(thetas) + dx,\n",
      "        mean_rho * np.sin(thetas) + dy, 'k-', alpha=0.4)\n",
      "ax.text(dx, dy, 'all', fontsize=10)\n",
      "for cell in apopto_cells:\n",
      "    ax.plot(eptm.wys[cell] + dx, eptm.ixs[cell] + dy, 'ko', alpha=0.7)\n",
      "ax.set_title('Sequence of apoptoses around the joint')\n",
      "\n",
      "plt.show()\n"
     ],
     "language": "python",
     "metadata": {},
     "outputs": [
      {
       "metadata": {},
       "output_type": "display_data",
       "png": "[encoded data removed]",
       "text": [
        "<matplotlib.figure.Figure at 0x9afdfa2c>"
       ]
      }
     ],
     "prompt_number": 102
    },
    {
     "cell_type": "code",
     "collapsed": false,
     "input": [
      "eptm.update_rhotheta()\n",
      "d_theta = 0.\n",
      "z_angle = np.pi / 6\n",
      "pseudo_x = eptm.ixs.copy()\n",
      "pseudo_y = eptm.ixs.copy()\n",
      "pseudo_x.a = eptm.zeds.a * np.cos(z_angle) - eptm.rhos.a * np.sin(\n",
      "             eptm.thetas.a + d_theta) * np.sin(z_angle)\n",
      "pseudo_y.a = eptm.rhos.a * np.cos(eptm.thetas.a + d_theta)\n",
      "\n",
      "\n",
      "fig, ax = plt.subplots(figsize=(4, 8))\n",
      "ax = lj.plot_cells_generic(eptm, pseudo_x, pseudo_y, ax=ax,\n",
      "                           vfilt=eptm.is_local_vert, \n",
      "                           efilt=eptm.is_local_edge,\n",
      "                           c_text=False)\n",
      "\n",
      "is_apopto = eptm.is_cell_vert.copy()\n",
      "is_apopto.a[:] = 0\n",
      "color_dead = eptm.zeds.copy()\n",
      "color_dead.a[:] = 0.\n",
      "for cell in apopto_cells:\n",
      "    color_dead[cell] = 0.8\n",
      "    is_apopto[cell] = 1\n",
      "    for jv in cell.out_neighbours():\n",
      "        is_apopto[jv] = 1\n",
      "\n",
      "ax = lj.draw_polygons(eptm, pseudo_x, pseudo_y, color_dead,\n",
      "                      vfilt=is_apopto, \n",
      "                      efilt=eptm.is_local_edge, ax=ax)\n",
      "for patch in ax.patches:\n",
      "    patch.set_alpha(0.8)\n",
      "\n",
      "fig.savefig('../doc/imgs/apopto_repartition.svg')    \n",
      "\n",
      "plt.show()\n",
      "\n",
      "\n",
      "#for cell in apopto_cells:\n",
      "#    ax.plot(pseudo_x[cell], pseudo_y[cell], 'ro')"
     ],
     "language": "python",
     "metadata": {},
     "outputs": [
      {
       "metadata": {},
       "output_type": "display_data",
       "png": "[encoded data removed]",
       "text": [
        "<matplotlib.figure.Figure at 0x9af384ac>"
       ]
      }
     ],
     "prompt_number": 103
    },
    {
     "cell_type": "code",
     "collapsed": false,
     "input": [
      "%pdb"
     ],
     "language": "python",
     "metadata": {},
     "outputs": [
      {
       "output_type": "stream",
       "stream": "stdout",
       "text": [
        "Automatic pdb calling has been turned OFF\n"
       ]
      }
     ],
     "prompt_number": 50
    },
    {
     "cell_type": "code",
     "collapsed": false,
     "input": [
      "gradual_apoptosis(eptm, apopto_cells, num_steps=10,\n",
      "                  vol_reduction=0.7,\n",
      "                  contractility=1.,\n",
      "                  radial_tension=0.1, pola=False, save_dir='no_theta_bias')"
     ],
     "language": "python",
     "metadata": {},
     "outputs": [
      {
       "output_type": "stream",
       "stream": "stdout",
       "text": [
        "140 steps will be performed\n",
        "new vertex 5123"
       ]
      },
      {
       "output_type": "stream",
       "stream": "stdout",
       "text": [
        "\n",
        "new vertex 5124"
       ]
      },
      {
       "output_type": "stream",
       "stream": "stdout",
       "text": [
        "\n",
        "new vertex 5125"
       ]
      },
      {
       "output_type": "stream",
       "stream": "stdout",
       "text": [
        "\n",
        "new vertex 5126"
       ]
      },
      {
       "output_type": "stream",
       "stream": "stdout",
       "text": [
        "\n",
        "new vertex 5127"
       ]
      },
      {
       "output_type": "stream",
       "stream": "stdout",
       "text": [
        "\n",
        "new vertex 5128"
       ]
      },
      {
       "output_type": "stream",
       "stream": "stdout",
       "text": [
        "\n",
        "new vertex 5129"
       ]
      },
      {
       "output_type": "stream",
       "stream": "stdout",
       "text": [
        "\n",
        "new vertex 5130"
       ]
      },
      {
       "output_type": "stream",
       "stream": "stdout",
       "text": [
        "\n",
        "new vertex 5131"
       ]
      },
      {
       "output_type": "stream",
       "stream": "stdout",
       "text": [
        "\n",
        "new vertex 5132"
       ]
      },
      {
       "output_type": "stream",
       "stream": "stdout",
       "text": [
        "\n",
        "new vertex 5133"
       ]
      },
      {
       "output_type": "stream",
       "stream": "stdout",
       "text": [
        "\n",
        "new vertex 5134"
       ]
      },
      {
       "output_type": "stream",
       "stream": "stdout",
       "text": [
        "\n",
        "new vertex 5135"
       ]
      },
      {
       "output_type": "stream",
       "stream": "stdout",
       "text": [
        "\n",
        "new vertex 5136"
       ]
      },
      {
       "output_type": "stream",
       "stream": "stdout",
       "text": [
        "\n"
       ]
      }
     ],
     "prompt_number": 104
    },
    {
     "cell_type": "code",
     "collapsed": false,
     "input": [
      "def average_rho(eptm, bin_width=10):\n",
      "\n",
      "    eptm.update_rhotheta()\n",
      "    zeds = eptm.zeds.a\n",
      "    rhos = eptm.rhos.a\n",
      "    rhos = rhos[np.argsort(zeds)]\n",
      "    zeds = np.sort(zeds)\n",
      "    \n",
      "    rhos_cliped = rhos[: -(rhos.size % bin_width)]\n",
      "    rhos_cliped = rhos_cliped.reshape((rhos_cliped.size // bin_width, bin_width))\n",
      "    rhos_avg = rhos_cliped.mean(axis=1)\n",
      "    rhos_max = rhos_cliped.max(axis=1)\n",
      "    rhos_min = rhos_cliped.min(axis=1)\n",
      "    \n",
      "    zeds_cliped = zeds[: -(zeds.size % bin_width)]\n",
      "    zeds_cliped = zeds_cliped.reshape((zeds_cliped.size // bin_width, bin_width))\n",
      "    zeds_avg = zeds_cliped.mean(axis=1)\n",
      "    \n",
      "    return zeds_avg, rhos_avg, rhos_max, rhos_min\n",
      "\n",
      "def plot_avg_rho(eptm, bin_width, ax=None, retall=False):\n",
      "    \n",
      "    if ax is None:\n",
      "        fig, ax = plt.subplots(figsize=(12,4))\n",
      "    else:\n",
      "        fig = ax.get_figure()\n",
      "    zeds_avg, rhos_avg, rhos_max, rhos_min = average_rho(eptm, bin_width)\n",
      "    \n",
      "    ax.fill_between(zeds_avg,\n",
      "                    rhos_max,\n",
      "                    rhos_min,\n",
      "                    facecolor='0.5', edgecolor='0.9')\n",
      "    ax.plot(zeds_avg, rhos_avg, 'r-', lw=2, alpha=0.7)\n",
      "    ax.set_aspect('equal')\n",
      "    max_zed = ax.get_ylim()[1]\n",
      "    ax.set_ylim(0, max_zed)\n",
      "    if not retall:\n",
      "        return ax\n",
      "    return ax, (zeds_avg, rhos_avg, rhos_max, rhos_min)"
     ],
     "language": "python",
     "metadata": {},
     "outputs": [],
     "prompt_number": 79
    },
    {
     "cell_type": "code",
     "collapsed": false,
     "input": [
      "ax, data = plot_avg_rho(eptm, bin_width=20, ax=None, retall=True)"
     ],
     "language": "python",
     "metadata": {},
     "outputs": [
      {
       "metadata": {},
       "output_type": "display_data",
       "png": "[encoded data removed]",
       "text": [
        "<matplotlib.figure.Figure at 0x9ac8b24c>"
       ]
      }
     ],
     "prompt_number": 85
    },
    {
     "cell_type": "code",
     "collapsed": false,
     "input": [
      "fig = ax.get_figure()\n",
      "fig.savefig('../doc/imgs/radial_profile_no_bias_15cells.png')"
     ],
     "language": "python",
     "metadata": {},
     "outputs": [],
     "prompt_number": 86
    },
    {
     "cell_type": "code",
     "collapsed": false,
     "input": [
      "!ls -l ../saved_graphs/xml/apopto_vr0.80_ctr1.00_rt0.40/"
     ],
     "language": "python",
     "metadata": {},
     "outputs": [
      {
       "output_type": "stream",
       "stream": "stdout",
       "text": [
        "total 2893324\r\n",
        "-rw-rw-r-- 1 guillaume guillaume 19859717 nov.   9 18:50 apopto_0001.xml\r\n",
        "-rw-rw-r-- 1 guillaume guillaume 19893665 nov.   9 18:54 apopto_0002.xml\r\n",
        "-rw-rw-r-- 1 guillaume guillaume 19894159 nov.   9 18:54 apopto_0003.xml\r\n",
        "-rw-rw-r-- 1 guillaume guillaume 19894350 nov.   9 18:57 apopto_0004.xml\r\n",
        "-rw-rw-r-- 1 guillaume guillaume 19894488 nov.   9 18:57 apopto_0005.xml\r\n",
        "-rw-rw-r-- 1 guillaume guillaume 19894918 nov.   9 18:57 apopto_0006.xml\r\n",
        "-rw-rw-r-- 1 guillaume guillaume 19894599 nov.   9 18:59 apopto_0007.xml\r\n",
        "-rw-rw-r-- 1 guillaume guillaume 19894526 nov.   9 19:00 apopto_0008.xml\r\n",
        "-rw-rw-r-- 1 guillaume guillaume 19894877 nov.   9 19:00 apopto_0009.xml\r\n",
        "-rw-rw-r-- 1 guillaume guillaume 19894444 nov.   9 19:00 apopto_0010.xml\r\n",
        "-rw-rw-r-- 1 guillaume guillaume 19894872 nov.   9 19:03 apopto_0011.xml\r\n",
        "-rw-rw-r-- 1 guillaume guillaume 19895000 nov.   9 19:03 apopto_0012.xml\r\n",
        "-rw-rw-r-- 1 guillaume guillaume 19895322 nov.   9 19:03 apopto_0013.xml\r\n",
        "-rw-rw-r-- 1 guillaume guillaume 19894883 nov.   9 19:03 apopto_0014.xml\r\n",
        "-rw-rw-r-- 1 guillaume guillaume 19895651 nov.   9 19:03 apopto_0015.xml\r\n",
        "-rw-rw-r-- 1 guillaume guillaume 19895183 nov.   9 19:06 apopto_0016.xml\r\n",
        "-rw-rw-r-- 1 guillaume guillaume 19895642 nov.   9 19:07 apopto_0017.xml\r\n",
        "-rw-rw-r-- 1 guillaume guillaume 19895206 nov.   9 19:07 apopto_0018.xml\r\n",
        "-rw-rw-r-- 1 guillaume guillaume 19895887 nov.   9 19:07 apopto_0019.xml\r\n",
        "-rw-rw-r-- 1 guillaume guillaume 19896194 nov.   9 19:07 apopto_0020.xml\r\n",
        "-rw-rw-r-- 1 guillaume guillaume 19880742 nov.   9 19:10 apopto_0021.xml\r\n",
        "-rw-rw-r-- 1 guillaume guillaume 19880480 nov.   9 19:11 apopto_0022.xml\r\n",
        "-rw-rw-r-- 1 guillaume guillaume 19880999 nov.   9 19:11 apopto_0023.xml\r\n",
        "-rw-rw-r-- 1 guillaume guillaume 19881256 nov.   9 19:11 apopto_0024.xml\r\n",
        "-rw-rw-r-- 1 guillaume guillaume 19881229 nov.   9 19:11 apopto_0025.xml\r\n",
        "-rw-rw-r-- 1 guillaume guillaume 19871204 nov.   9 19:14 apopto_0026.xml\r\n",
        "-rw-rw-r-- 1 guillaume guillaume 19871814 nov.   9 19:15 apopto_0027.xml\r\n",
        "-rw-rw-r-- 1 guillaume guillaume 19872046 nov.   9 19:15 apopto_0028.xml\r\n",
        "-rw-rw-r-- 1 guillaume guillaume 19871722 nov.   9 19:15 apopto_0029.xml\r\n",
        "-rw-rw-r-- 1 guillaume guillaume 19872044 nov.   9 19:15 apopto_0030.xml\r\n",
        "-rw-rw-r-- 1 guillaume guillaume 19859699 nov.   9 19:18 apopto_0031.xml\r\n",
        "-rw-rw-r-- 1 guillaume guillaume 19859745 nov.   9 19:18 apopto_0032.xml\r\n",
        "-rw-rw-r-- 1 guillaume guillaume 19859668 nov.   9 19:18 apopto_0033.xml\r\n",
        "-rw-rw-r-- 1 guillaume guillaume 19860056 nov.   9 19:19 apopto_0034.xml\r\n",
        "-rw-rw-r-- 1 guillaume guillaume 19860404 nov.   9 19:19 apopto_0035.xml\r\n",
        "-rw-rw-r-- 1 guillaume guillaume 19852901 nov.   9 19:22 apopto_0036.xml\r\n",
        "-rw-rw-r-- 1 guillaume guillaume 19853020 nov.   9 19:22 apopto_0037.xml\r\n",
        "-rw-rw-r-- 1 guillaume guillaume 19853409 nov.   9 19:22 apopto_0038.xml\r\n",
        "-rw-rw-r-- 1 guillaume guillaume 19853462 nov.   9 19:22 apopto_0039.xml\r\n",
        "-rw-rw-r-- 1 guillaume guillaume 19853168 nov.   9 19:22 apopto_0040.xml\r\n",
        "-rw-rw-r-- 1 guillaume guillaume 19836983 nov.   9 19:25 apopto_0041.xml\r\n",
        "-rw-rw-r-- 1 guillaume guillaume 19837447 nov.   9 19:25 apopto_0042.xml\r\n",
        "-rw-rw-r-- 1 guillaume guillaume 19837819 nov.   9 19:25 apopto_0043.xml\r\n",
        "-rw-rw-r-- 1 guillaume guillaume 19837267 nov.   9 19:26 apopto_0044.xml\r\n",
        "-rw-rw-r-- 1 guillaume guillaume 19837412 nov.   9 19:26 apopto_0045.xml\r\n",
        "-rw-rw-r-- 1 guillaume guillaume 19822380 nov.   9 19:28 apopto_0046.xml\r\n",
        "-rw-rw-r-- 1 guillaume guillaume 19822974 nov.   9 19:29 apopto_0047.xml\r\n",
        "-rw-rw-r-- 1 guillaume guillaume 19822285 nov.   9 19:29 apopto_0048.xml\r\n",
        "-rw-rw-r-- 1 guillaume guillaume 19822380 nov.   9 19:29 apopto_0049.xml\r\n",
        "-rw-rw-r-- 1 guillaume guillaume 19822328 nov.   9 19:29 apopto_0050.xml\r\n",
        "-rw-rw-r-- 1 guillaume guillaume 19810590 nov.   9 19:32 apopto_0051.xml\r\n",
        "-rw-rw-r-- 1 guillaume guillaume 19810016 nov.   9 19:32 apopto_0052.xml\r\n",
        "-rw-rw-r-- 1 guillaume guillaume 19810060 nov.   9 19:32 apopto_0053.xml\r\n",
        "-rw-rw-r-- 1 guillaume guillaume 19809840 nov.   9 19:33 apopto_0054.xml\r\n",
        "-rw-rw-r-- 1 guillaume guillaume 19810754 nov.   9 19:33 apopto_0055.xml\r\n",
        "-rw-rw-r-- 1 guillaume guillaume 19797996 nov.   9 19:36 apopto_0056.xml\r\n",
        "-rw-rw-r-- 1 guillaume guillaume 19798287 nov.   9 19:36 apopto_0057.xml\r\n",
        "-rw-rw-r-- 1 guillaume guillaume 19798056 nov.   9 19:36 apopto_0058.xml\r\n",
        "-rw-rw-r-- 1 guillaume guillaume 19798684 nov.   9 19:36 apopto_0059.xml\r\n",
        "-rw-rw-r-- 1 guillaume guillaume 19798493 nov.   9 19:36 apopto_0060.xml\r\n",
        "-rw-rw-r-- 1 guillaume guillaume 19783368 nov.   9 19:39 apopto_0061.xml\r\n",
        "-rw-rw-r-- 1 guillaume guillaume 19783659 nov.   9 19:39 apopto_0062.xml\r\n",
        "-rw-rw-r-- 1 guillaume guillaume 19783791 nov.   9 19:39 apopto_0063.xml\r\n",
        "-rw-rw-r-- 1 guillaume guillaume 19783400 nov.   9 19:40 apopto_0064.xml\r\n",
        "-rw-rw-r-- 1 guillaume guillaume 19783791 nov.   9 19:40 apopto_0065.xml\r\n",
        "-rw-rw-r-- 1 guillaume guillaume 19768787 nov.   9 19:43 apopto_0066.xml\r\n",
        "-rw-rw-r-- 1 guillaume guillaume 19768921 nov.   9 19:43 apopto_0067.xml\r\n",
        "-rw-rw-r-- 1 guillaume guillaume 19768610 nov.   9 19:43 apopto_0068.xml\r\n",
        "-rw-rw-r-- 1 guillaume guillaume 19768820 nov.   9 19:43 apopto_0069.xml\r\n",
        "-rw-rw-r-- 1 guillaume guillaume 19768880 nov.   9 19:44 apopto_0070.xml\r\n",
        "-rw-rw-r-- 1 guillaume guillaume 19757006 nov.   9 19:47 apopto_0071.xml\r\n",
        "-rw-rw-r-- 1 guillaume guillaume 19756444 nov.   9 19:47 apopto_0072.xml\r\n",
        "-rw-rw-r-- 1 guillaume guillaume 19756840 nov.   9 19:47 apopto_0073.xml\r\n",
        "-rw-rw-r-- 1 guillaume guillaume 19756697 nov.   9 19:47 apopto_0074.xml\r\n",
        "-rw-rw-r-- 1 guillaume guillaume 19757096 nov.   9 19:48 apopto_0075.xml\r\n",
        "-rw-rw-r-- 1 guillaume guillaume 19747211 nov.   9 19:50 apopto_0076.xml\r\n",
        "-rw-rw-r-- 1 guillaume guillaume 19747467 nov.   9 19:51 apopto_0077.xml\r\n",
        "-rw-rw-r-- 1 guillaume guillaume 19747438 nov.   9 19:51 apopto_0078.xml\r\n",
        "-rw-rw-r-- 1 guillaume guillaume 19747660 nov.   9 19:51 apopto_0079.xml\r\n",
        "-rw-rw-r-- 1 guillaume guillaume 19747853 nov.   9 19:51 apopto_0080.xml\r\n",
        "-rw-rw-r-- 1 guillaume guillaume 19729678 nov.   9 19:54 apopto_0081.xml\r\n",
        "-rw-rw-r-- 1 guillaume guillaume 19729982 nov.   9 19:54 apopto_0082.xml\r\n",
        "-rw-rw-r-- 1 guillaume guillaume 19730213 nov.   9 19:55 apopto_0083.xml\r\n",
        "-rw-rw-r-- 1 guillaume guillaume 19730154 nov.   9 19:55 apopto_0084.xml\r\n",
        "-rw-rw-r-- 1 guillaume guillaume 19730283 nov.   9 19:55 apopto_0085.xml\r\n",
        "-rw-rw-r-- 1 guillaume guillaume 19717622 nov.   9 19:58 apopto_0086.xml\r\n",
        "-rw-rw-r-- 1 guillaume guillaume 19718088 nov.   9 19:58 apopto_0087.xml\r\n",
        "-rw-rw-r-- 1 guillaume guillaume 19718030 nov.   9 19:58 apopto_0088.xml\r\n",
        "-rw-rw-r-- 1 guillaume guillaume 19717929 nov.   9 19:58 apopto_0089.xml\r\n",
        "-rw-rw-r-- 1 guillaume guillaume 19717853 nov.   9 19:58 apopto_0090.xml\r\n",
        "-rw-rw-r-- 1 guillaume guillaume 19705863 nov.   9 20:01 apopto_0091.xml\r\n",
        "-rw-rw-r-- 1 guillaume guillaume 19706313 nov.   9 20:02 apopto_0092.xml\r\n",
        "-rw-rw-r-- 1 guillaume guillaume 19705944 nov.   9 20:02 apopto_0093.xml\r\n",
        "-rw-rw-r-- 1 guillaume guillaume 19705759 nov.   9 20:02 apopto_0094.xml\r\n",
        "-rw-rw-r-- 1 guillaume guillaume 19706362 nov.   9 20:02 apopto_0095.xml\r\n",
        "-rw-rw-r-- 1 guillaume guillaume 19694238 nov.   9 20:05 apopto_0096.xml\r\n",
        "-rw-rw-r-- 1 guillaume guillaume 19693889 nov.   9 20:05 apopto_0097.xml\r\n",
        "-rw-rw-r-- 1 guillaume guillaume 19693795 nov.   9 20:05 apopto_0098.xml\r\n",
        "-rw-rw-r-- 1 guillaume guillaume 19694129 nov.   9 20:05 apopto_0099.xml\r\n",
        "-rw-rw-r-- 1 guillaume guillaume 19695218 nov.   9 20:06 apopto_0100.xml\r\n",
        "-rw-rw-r-- 1 guillaume guillaume 19681797 nov.   9 20:09 apopto_0101.xml\r\n",
        "-rw-rw-r-- 1 guillaume guillaume 19682498 nov.   9 20:09 apopto_0102.xml\r\n",
        "-rw-rw-r-- 1 guillaume guillaume 19682292 nov.   9 20:09 apopto_0103.xml\r\n",
        "-rw-rw-r-- 1 guillaume guillaume 19683042 nov.   9 20:09 apopto_0104.xml\r\n",
        "-rw-rw-r-- 1 guillaume guillaume 19682354 nov.   9 20:10 apopto_0105.xml\r\n",
        "-rw-rw-r-- 1 guillaume guillaume 19670037 nov.   9 20:12 apopto_0106.xml\r\n",
        "-rw-rw-r-- 1 guillaume guillaume 19670238 nov.   9 20:13 apopto_0107.xml\r\n",
        "-rw-rw-r-- 1 guillaume guillaume 19671038 nov.   9 20:13 apopto_0108.xml\r\n",
        "-rw-rw-r-- 1 guillaume guillaume 19670171 nov.   9 20:13 apopto_0109.xml\r\n",
        "-rw-rw-r-- 1 guillaume guillaume 19670868 nov.   9 20:13 apopto_0110.xml\r\n",
        "-rw-rw-r-- 1 guillaume guillaume 19657981 nov.   9 20:16 apopto_0111.xml\r\n",
        "-rw-rw-r-- 1 guillaume guillaume 19658795 nov.   9 20:16 apopto_0112.xml\r\n",
        "-rw-rw-r-- 1 guillaume guillaume 19658052 nov.   9 20:16 apopto_0113.xml\r\n",
        "-rw-rw-r-- 1 guillaume guillaume 19658575 nov.   9 20:17 apopto_0114.xml\r\n",
        "-rw-rw-r-- 1 guillaume guillaume 19658443 nov.   9 20:17 apopto_0115.xml\r\n",
        "-rw-rw-r-- 1 guillaume guillaume 19646746 nov.   9 20:20 apopto_0116.xml\r\n",
        "-rw-rw-r-- 1 guillaume guillaume 19646127 nov.   9 20:20 apopto_0117.xml\r\n",
        "-rw-rw-r-- 1 guillaume guillaume 19646783 nov.   9 20:20 apopto_0118.xml\r\n",
        "-rw-rw-r-- 1 guillaume guillaume 19646434 nov.   9 20:20 apopto_0119.xml\r\n",
        "-rw-rw-r-- 1 guillaume guillaume 19646455 nov.   9 20:21 apopto_0120.xml\r\n",
        "-rw-rw-r-- 1 guillaume guillaume 19633873 nov.   9 20:24 apopto_0121.xml\r\n",
        "-rw-rw-r-- 1 guillaume guillaume 19634500 nov.   9 20:24 apopto_0122.xml\r\n",
        "-rw-rw-r-- 1 guillaume guillaume 19634289 nov.   9 20:24 apopto_0123.xml\r\n",
        "-rw-rw-r-- 1 guillaume guillaume 19634182 nov.   9 20:24 apopto_0124.xml\r\n",
        "-rw-rw-r-- 1 guillaume guillaume 19634733 nov.   9 20:25 apopto_0125.xml\r\n",
        "-rw-rw-r-- 1 guillaume guillaume 19619600 nov.   9 20:27 apopto_0126.xml\r\n",
        "-rw-rw-r-- 1 guillaume guillaume 19619542 nov.   9 20:28 apopto_0127.xml\r\n",
        "-rw-rw-r-- 1 guillaume guillaume 19619157 nov.   9 20:28 apopto_0128.xml\r\n",
        "-rw-rw-r-- 1 guillaume guillaume 19619739 nov.   9 20:28 apopto_0129.xml\r\n",
        "-rw-rw-r-- 1 guillaume guillaume 19620185 nov.   9 20:28 apopto_0130.xml\r\n",
        "-rw-rw-r-- 1 guillaume guillaume 19610027 nov.   9 20:31 apopto_0131.xml\r\n",
        "-rw-rw-r-- 1 guillaume guillaume 19609893 nov.   9 20:31 apopto_0132.xml\r\n",
        "-rw-rw-r-- 1 guillaume guillaume 19610394 nov.   9 20:31 apopto_0133.xml\r\n",
        "-rw-rw-r-- 1 guillaume guillaume 19610606 nov.   9 20:31 apopto_0134.xml\r\n",
        "-rw-rw-r-- 1 guillaume guillaume 19610800 nov.   9 20:31 apopto_0135.xml\r\n",
        "-rw-rw-r-- 1 guillaume guillaume 19597839 nov.   9 20:34 apopto_0136.xml\r\n",
        "-rw-rw-r-- 1 guillaume guillaume 19598538 nov.   9 20:34 apopto_0137.xml\r\n",
        "-rw-rw-r-- 1 guillaume guillaume 19598577 nov.   9 20:35 apopto_0138.xml\r\n",
        "-rw-rw-r-- 1 guillaume guillaume 19598771 nov.   9 20:35 apopto_0139.xml\r\n",
        "-rw-rw-r-- 1 guillaume guillaume 19598909 nov.   9 20:35 apopto_0140.xml\r\n",
        "-rw-rw-r-- 1 guillaume guillaume 19583672 nov.   9 20:38 apopto_0141.xml\r\n",
        "-rw-rw-r-- 1 guillaume guillaume 19584045 nov.   9 20:38 apopto_0142.xml\r\n",
        "-rw-rw-r-- 1 guillaume guillaume 19583959 nov.   9 20:38 apopto_0143.xml\r\n",
        "-rw-rw-r-- 1 guillaume guillaume 19583962 nov.   9 20:38 apopto_0144.xml\r\n",
        "-rw-rw-r-- 1 guillaume guillaume 19571855 nov.   9 20:41 apopto_0145.xml\r\n",
        "-rw-rw-r-- 1 guillaume guillaume 19571750 nov.   9 20:41 apopto_0146.xml\r\n",
        "-rw-rw-r-- 1 guillaume guillaume 19571682 nov.   9 20:41 apopto_0147.xml\r\n",
        "-rw-rw-r-- 1 guillaume guillaume 19556757 nov.   9 20:44 apopto_0148.xml\r\n",
        "-rw-rw-r-- 1 guillaume guillaume 19556792 nov.   9 20:44 apopto_0149.xml\r\n",
        "-rw-rw-r-- 1 guillaume guillaume 19541518 nov.   9 20:47 apopto_0150.xml\r\n"
       ]
      }
     ],
     "prompt_number": 19
    },
    {
     "cell_type": "code",
     "collapsed": false,
     "input": [
      "lj.plot_ortho_proj(eptm, vfilt=eptm.is_local_vert, efilt=eptm.is_local_edge)"
     ],
     "language": "python",
     "metadata": {},
     "outputs": []
    },
    {
     "cell_type": "code",
     "collapsed": false,
     "input": [
      "lj.local_slice(eptm, theta_c=0., zed_c=0, theta_amp=3.14/3, zed_amp=5)"
     ],
     "language": "python",
     "metadata": {},
     "outputs": []
    },
    {
     "cell_type": "code",
     "collapsed": false,
     "input": [
      "lj.plot_ortho_proj(eptm, vfilt=eptm.is_local_vert, efilt=eptm.is_local_edge, text=False)"
     ],
     "language": "python",
     "metadata": {},
     "outputs": []
    },
    {
     "cell_type": "code",
     "collapsed": false,
     "input": [
      "eptm_nt = lj.Epithelium('../saved_graphs/xml/after_apoptosis_nt.xml',\n",
      "                        paramfile='../default/params.xml')\n",
      "eptm_t = lj.Epithelium('../saved_graphs/xml/after_apoptosis_t.xml',\n",
      "                       paramfile='../default/params.xml')"
     ],
     "language": "python",
     "metadata": {},
     "outputs": [],
     "prompt_number": 20
    },
    {
     "cell_type": "code",
     "collapsed": false,
     "input": [
      "thetas = np.linspace(0, 2*np.pi, 180) + np.pi/2\n",
      "\n",
      "for n, theta in enumerate(thetas):\n",
      "    #output_nt= '../saved_graphs/png/after_apopto_nt_3d/angle_%03i.png' %n\n",
      "    output_t= '../saved_graphs/png/after_apopto_t_3d/angle_%03i.png' %n\n",
      "    lj.draw(eptm_nt, d_theta=theta, output3d=output_nt)\n",
      "    lj.draw(eptm_t, d_theta=theta, output3d=output_t)\n",
      "    "
     ],
     "language": "python",
     "metadata": {},
     "outputs": [],
     "prompt_number": 25
    },
    {
     "cell_type": "code",
     "collapsed": false,
     "input": [
      "import os\n",
      "dirname = 'apopto_vr0.80_ctr1.20_rt0.20/'\n",
      "xml_list = os.listdir(os.path.join('../saved_graphs/xml/', dirname))\n",
      "xml_list.sort()\n",
      "xml_list = [fname for fname in xml_list]\n",
      "print(xml_list[0], xml_list[-1])"
     ],
     "language": "python",
     "metadata": {},
     "outputs": [
      {
       "output_type": "stream",
       "stream": "stdout",
       "text": [
        "('apopto_0001.xml', 'apopto_0610.xml')\n"
       ]
      }
     ],
     "prompt_number": 33
    },
    {
     "cell_type": "code",
     "collapsed": false,
     "input": [
      "for xml_name in xml_list:\n",
      "    xml_graph = os.path.join('../saved_graphs/xml/', dirname, xml_name)\n",
      "    png_name = os.path.join('../saved_graphs/xml/', dirname, xml_name[:-4]+'_3d.png')\n",
      "    etm = lj.Epithelium(xml_graph,\n",
      "                        paramfile='../default/params.xml')\n",
      "    lj.draw(eptm, output3d=png_name, verbose=True)\n",
      "for theta in np.linspace(0, 2*np.pi, 180):\n",
      "    name = png_name[:-4]+'%.3f.png' % theta\n",
      "    lj.draw(eptm, output3d=png_name, verbose=True)"
     ],
     "language": "python",
     "metadata": {},
     "outputs": [
      {
       "output_type": "stream",
       "stream": "stdout",
       "text": [
        "4344\n",
        "saved tissue to ../saved_graphs/xml/apopto_vr0.80_ctr1.20_rt0.20/apopto_0001_3d.png"
       ]
      },
      {
       "output_type": "stream",
       "stream": "stdout",
       "text": [
        "\n",
        "saved tissue to tissue_sz.pdf"
       ]
      },
      {
       "output_type": "stream",
       "stream": "stdout",
       "text": [
        "\n",
        "4344"
       ]
      },
      {
       "output_type": "stream",
       "stream": "stdout",
       "text": [
        "\n",
        "saved tissue to ../saved_graphs/xml/apopto_vr0.80_ctr1.20_rt0.20/apopto_0002_3d.png"
       ]
      },
      {
       "output_type": "stream",
       "stream": "stdout",
       "text": [
        "\n",
        "saved tissue to tissue_sz.pdf"
       ]
      },
      {
       "output_type": "stream",
       "stream": "stdout",
       "text": [
        "\n",
        "4344"
       ]
      },
      {
       "output_type": "stream",
       "stream": "stdout",
       "text": [
        "\n",
        "saved tissue to ../saved_graphs/xml/apopto_vr0.80_ctr1.20_rt0.20/apopto_0003_3d.png"
       ]
      },
      {
       "output_type": "stream",
       "stream": "stdout",
       "text": [
        "\n",
        "saved tissue to tissue_sz.pdf"
       ]
      },
      {
       "output_type": "stream",
       "stream": "stdout",
       "text": [
        "\n",
        "4344"
       ]
      },
      {
       "output_type": "stream",
       "stream": "stdout",
       "text": [
        "\n",
        "saved tissue to ../saved_graphs/xml/apopto_vr0.80_ctr1.20_rt0.20/apopto_0004_3d.png"
       ]
      },
      {
       "output_type": "stream",
       "stream": "stdout",
       "text": [
        "\n",
        "saved tissue to tissue_sz.pdf"
       ]
      },
      {
       "output_type": "stream",
       "stream": "stdout",
       "text": [
        "\n",
        "4344"
       ]
      },
      {
       "output_type": "stream",
       "stream": "stdout",
       "text": [
        "\n",
        "saved tissue to ../saved_graphs/xml/apopto_vr0.80_ctr1.20_rt0.20/apopto_0005_3d.png"
       ]
      },
      {
       "output_type": "stream",
       "stream": "stdout",
       "text": [
        "\n",
        "saved tissue to tissue_sz.pdf"
       ]
      },
      {
       "output_type": "stream",
       "stream": "stdout",
       "text": [
        "\n",
        "4344"
       ]
      },
      {
       "output_type": "stream",
       "stream": "stdout",
       "text": [
        "\n",
        "saved tissue to ../saved_graphs/xml/apopto_vr0.80_ctr1.20_rt0.20/apopto_0006_3d.png"
       ]
      },
      {
       "output_type": "stream",
       "stream": "stdout",
       "text": [
        "\n",
        "saved tissue to tissue_sz.pdf"
       ]
      },
      {
       "output_type": "stream",
       "stream": "stdout",
       "text": [
        "\n",
        "4344"
       ]
      },
      {
       "output_type": "stream",
       "stream": "stdout",
       "text": [
        "\n",
        "saved tissue to ../saved_graphs/xml/apopto_vr0.80_ctr1.20_rt0.20/apopto_0007_3d.png"
       ]
      },
      {
       "output_type": "stream",
       "stream": "stdout",
       "text": [
        "\n",
        "saved tissue to tissue_sz.pdf"
       ]
      },
      {
       "output_type": "stream",
       "stream": "stdout",
       "text": [
        "\n",
        "4344"
       ]
      },
      {
       "output_type": "stream",
       "stream": "stdout",
       "text": [
        "\n",
        "saved tissue to ../saved_graphs/xml/apopto_vr0.80_ctr1.20_rt0.20/apopto_0008_3d.png"
       ]
      },
      {
       "output_type": "stream",
       "stream": "stdout",
       "text": [
        "\n",
        "saved tissue to tissue_sz.pdf"
       ]
      },
      {
       "output_type": "stream",
       "stream": "stdout",
       "text": [
        "\n",
        "4344"
       ]
      },
      {
       "output_type": "stream",
       "stream": "stdout",
       "text": [
        "\n",
        "saved tissue to ../saved_graphs/xml/apopto_vr0.80_ctr1.20_rt0.20/apopto_0009_3d.png"
       ]
      },
      {
       "output_type": "stream",
       "stream": "stdout",
       "text": [
        "\n",
        "saved tissue to tissue_sz.pdf"
       ]
      },
      {
       "output_type": "stream",
       "stream": "stdout",
       "text": [
        "\n",
        "4344"
       ]
      },
      {
       "output_type": "stream",
       "stream": "stdout",
       "text": [
        "\n",
        "saved tissue to ../saved_graphs/xml/apopto_vr0.80_ctr1.20_rt0.20/apopto_0010_3d.png"
       ]
      },
      {
       "output_type": "stream",
       "stream": "stdout",
       "text": [
        "\n",
        "saved tissue to tissue_sz.pdf"
       ]
      },
      {
       "output_type": "stream",
       "stream": "stdout",
       "text": [
        "\n",
        "4344"
       ]
      },
      {
       "output_type": "stream",
       "stream": "stdout",
       "text": [
        "\n",
        "saved tissue to ../saved_graphs/xml/apopto_vr0.80_ctr1.20_rt0.20/apopto_0011_3d.png"
       ]
      },
      {
       "output_type": "stream",
       "stream": "stdout",
       "text": [
        "\n",
        "saved tissue to tissue_sz.pdf"
       ]
      },
      {
       "output_type": "stream",
       "stream": "stdout",
       "text": [
        "\n",
        "4344"
       ]
      },
      {
       "output_type": "stream",
       "stream": "stdout",
       "text": [
        "\n",
        "saved tissue to ../saved_graphs/xml/apopto_vr0.80_ctr1.20_rt0.20/apopto_0012_3d.png"
       ]
      },
      {
       "output_type": "stream",
       "stream": "stdout",
       "text": [
        "\n",
        "saved tissue to tissue_sz.pdf"
       ]
      },
      {
       "output_type": "stream",
       "stream": "stdout",
       "text": [
        "\n",
        "4344"
       ]
      },
      {
       "output_type": "stream",
       "stream": "stdout",
       "text": [
        "\n",
        "saved tissue to ../saved_graphs/xml/apopto_vr0.80_ctr1.20_rt0.20/apopto_0013_3d.png"
       ]
      },
      {
       "output_type": "stream",
       "stream": "stdout",
       "text": [
        "\n",
        "saved tissue to tissue_sz.pdf"
       ]
      },
      {
       "output_type": "stream",
       "stream": "stdout",
       "text": [
        "\n",
        "4344"
       ]
      },
      {
       "output_type": "stream",
       "stream": "stdout",
       "text": [
        "\n",
        "saved tissue to ../saved_graphs/xml/apopto_vr0.80_ctr1.20_rt0.20/apopto_0014_3d.png"
       ]
      },
      {
       "output_type": "stream",
       "stream": "stdout",
       "text": [
        "\n",
        "saved tissue to tissue_sz.pdf"
       ]
      },
      {
       "output_type": "stream",
       "stream": "stdout",
       "text": [
        "\n",
        "4344"
       ]
      },
      {
       "output_type": "stream",
       "stream": "stdout",
       "text": [
        "\n",
        "saved tissue to ../saved_graphs/xml/apopto_vr0.80_ctr1.20_rt0.20/apopto_0015_3d.png"
       ]
      },
      {
       "output_type": "stream",
       "stream": "stdout",
       "text": [
        "\n",
        "saved tissue to tissue_sz.pdf"
       ]
      },
      {
       "output_type": "stream",
       "stream": "stdout",
       "text": [
        "\n",
        "4344"
       ]
      },
      {
       "output_type": "stream",
       "stream": "stdout",
       "text": [
        "\n",
        "saved tissue to ../saved_graphs/xml/apopto_vr0.80_ctr1.20_rt0.20/apopto_0016_3d.png"
       ]
      },
      {
       "output_type": "stream",
       "stream": "stdout",
       "text": [
        "\n",
        "saved tissue to tissue_sz.pdf"
       ]
      },
      {
       "output_type": "stream",
       "stream": "stdout",
       "text": [
        "\n",
        "4344"
       ]
      },
      {
       "output_type": "stream",
       "stream": "stdout",
       "text": [
        "\n",
        "saved tissue to ../saved_graphs/xml/apopto_vr0.80_ctr1.20_rt0.20/apopto_0017_3d.png"
       ]
      },
      {
       "output_type": "stream",
       "stream": "stdout",
       "text": [
        "\n",
        "saved tissue to tissue_sz.pdf"
       ]
      },
      {
       "output_type": "stream",
       "stream": "stdout",
       "text": [
        "\n",
        "4344"
       ]
      },
      {
       "output_type": "stream",
       "stream": "stdout",
       "text": [
        "\n",
        "saved tissue to ../saved_graphs/xml/apopto_vr0.80_ctr1.20_rt0.20/apopto_0018_3d.png"
       ]
      },
      {
       "output_type": "stream",
       "stream": "stdout",
       "text": [
        "\n",
        "saved tissue to tissue_sz.pdf"
       ]
      },
      {
       "output_type": "stream",
       "stream": "stdout",
       "text": [
        "\n",
        "4344"
       ]
      },
      {
       "output_type": "stream",
       "stream": "stdout",
       "text": [
        "\n",
        "saved tissue to ../saved_graphs/xml/apopto_vr0.80_ctr1.20_rt0.20/apopto_0019_3d.png"
       ]
      },
      {
       "output_type": "stream",
       "stream": "stdout",
       "text": [
        "\n",
        "saved tissue to tissue_sz.pdf"
       ]
      },
      {
       "output_type": "stream",
       "stream": "stdout",
       "text": [
        "\n",
        "4344"
       ]
      },
      {
       "output_type": "stream",
       "stream": "stdout",
       "text": [
        "\n",
        "saved tissue to ../saved_graphs/xml/apopto_vr0.80_ctr1.20_rt0.20/apopto_0020_3d.png"
       ]
      },
      {
       "output_type": "stream",
       "stream": "stdout",
       "text": [
        "\n",
        "saved tissue to tissue_sz.pdf"
       ]
      },
      {
       "output_type": "stream",
       "stream": "stdout",
       "text": [
        "\n",
        "4344"
       ]
      },
      {
       "output_type": "stream",
       "stream": "stdout",
       "text": [
        "\n",
        "saved tissue to ../saved_graphs/xml/apopto_vr0.80_ctr1.20_rt0.20/apopto_0021_3d.png"
       ]
      },
      {
       "output_type": "stream",
       "stream": "stdout",
       "text": [
        "\n",
        "saved tissue to tissue_sz.pdf"
       ]
      },
      {
       "output_type": "stream",
       "stream": "stdout",
       "text": [
        "\n",
        "4344"
       ]
      },
      {
       "output_type": "stream",
       "stream": "stdout",
       "text": [
        "\n",
        "saved tissue to ../saved_graphs/xml/apopto_vr0.80_ctr1.20_rt0.20/apopto_0022_3d.png"
       ]
      },
      {
       "output_type": "stream",
       "stream": "stdout",
       "text": [
        "\n",
        "saved tissue to tissue_sz.pdf"
       ]
      },
      {
       "output_type": "stream",
       "stream": "stdout",
       "text": [
        "\n",
        "4344"
       ]
      },
      {
       "output_type": "stream",
       "stream": "stdout",
       "text": [
        "\n",
        "saved tissue to ../saved_graphs/xml/apopto_vr0.80_ctr1.20_rt0.20/apopto_0023_3d.png"
       ]
      },
      {
       "output_type": "stream",
       "stream": "stdout",
       "text": [
        "\n",
        "saved tissue to tissue_sz.pdf"
       ]
      },
      {
       "output_type": "stream",
       "stream": "stdout",
       "text": [
        "\n",
        "4344"
       ]
      },
      {
       "output_type": "stream",
       "stream": "stdout",
       "text": [
        "\n",
        "saved tissue to ../saved_graphs/xml/apopto_vr0.80_ctr1.20_rt0.20/apopto_0024_3d.png"
       ]
      },
      {
       "output_type": "stream",
       "stream": "stdout",
       "text": [
        "\n",
        "saved tissue to tissue_sz.pdf"
       ]
      },
      {
       "output_type": "stream",
       "stream": "stdout",
       "text": [
        "\n",
        "4344"
       ]
      },
      {
       "output_type": "stream",
       "stream": "stdout",
       "text": [
        "\n",
        "saved tissue to ../saved_graphs/xml/apopto_vr0.80_ctr1.20_rt0.20/apopto_0025_3d.png"
       ]
      },
      {
       "output_type": "stream",
       "stream": "stdout",
       "text": [
        "\n",
        "saved tissue to tissue_sz.pdf"
       ]
      },
      {
       "output_type": "stream",
       "stream": "stdout",
       "text": [
        "\n",
        "4344"
       ]
      },
      {
       "output_type": "stream",
       "stream": "stdout",
       "text": [
        "\n",
        "saved tissue to ../saved_graphs/xml/apopto_vr0.80_ctr1.20_rt0.20/apopto_0026_3d.png"
       ]
      },
      {
       "output_type": "stream",
       "stream": "stdout",
       "text": [
        "\n",
        "saved tissue to tissue_sz.pdf"
       ]
      },
      {
       "output_type": "stream",
       "stream": "stdout",
       "text": [
        "\n",
        "4344"
       ]
      },
      {
       "output_type": "stream",
       "stream": "stdout",
       "text": [
        "\n",
        "saved tissue to ../saved_graphs/xml/apopto_vr0.80_ctr1.20_rt0.20/apopto_0027_3d.png"
       ]
      },
      {
       "output_type": "stream",
       "stream": "stdout",
       "text": [
        "\n",
        "saved tissue to tissue_sz.pdf"
       ]
      },
      {
       "output_type": "stream",
       "stream": "stdout",
       "text": [
        "\n",
        "4344"
       ]
      },
      {
       "output_type": "stream",
       "stream": "stdout",
       "text": [
        "\n",
        "saved tissue to ../saved_graphs/xml/apopto_vr0.80_ctr1.20_rt0.20/apopto_0028_3d.png"
       ]
      },
      {
       "output_type": "stream",
       "stream": "stdout",
       "text": [
        "\n",
        "saved tissue to tissue_sz.pdf"
       ]
      },
      {
       "output_type": "stream",
       "stream": "stdout",
       "text": [
        "\n",
        "4344"
       ]
      },
      {
       "output_type": "stream",
       "stream": "stdout",
       "text": [
        "\n",
        "saved tissue to ../saved_graphs/xml/apopto_vr0.80_ctr1.20_rt0.20/apopto_0029_3d.png"
       ]
      },
      {
       "output_type": "stream",
       "stream": "stdout",
       "text": [
        "\n",
        "saved tissue to tissue_sz.pdf"
       ]
      },
      {
       "output_type": "stream",
       "stream": "stdout",
       "text": [
        "\n",
        "4344"
       ]
      },
      {
       "output_type": "stream",
       "stream": "stdout",
       "text": [
        "\n",
        "saved tissue to ../saved_graphs/xml/apopto_vr0.80_ctr1.20_rt0.20/apopto_0030_3d.png"
       ]
      },
      {
       "output_type": "stream",
       "stream": "stdout",
       "text": [
        "\n",
        "saved tissue to tissue_sz.pdf"
       ]
      },
      {
       "output_type": "stream",
       "stream": "stdout",
       "text": [
        "\n",
        "4344"
       ]
      },
      {
       "output_type": "stream",
       "stream": "stdout",
       "text": [
        "\n",
        "saved tissue to ../saved_graphs/xml/apopto_vr0.80_ctr1.20_rt0.20/apopto_0031_3d.png"
       ]
      },
      {
       "output_type": "stream",
       "stream": "stdout",
       "text": [
        "\n",
        "saved tissue to tissue_sz.pdf"
       ]
      },
      {
       "output_type": "stream",
       "stream": "stdout",
       "text": [
        "\n",
        "4344"
       ]
      },
      {
       "output_type": "stream",
       "stream": "stdout",
       "text": [
        "\n",
        "saved tissue to ../saved_graphs/xml/apopto_vr0.80_ctr1.20_rt0.20/apopto_0032_3d.png"
       ]
      },
      {
       "output_type": "stream",
       "stream": "stdout",
       "text": [
        "\n",
        "saved tissue to tissue_sz.pdf"
       ]
      },
      {
       "output_type": "stream",
       "stream": "stdout",
       "text": [
        "\n",
        "4344"
       ]
      },
      {
       "output_type": "stream",
       "stream": "stdout",
       "text": [
        "\n",
        "saved tissue to ../saved_graphs/xml/apopto_vr0.80_ctr1.20_rt0.20/apopto_0033_3d.png"
       ]
      },
      {
       "output_type": "stream",
       "stream": "stdout",
       "text": [
        "\n",
        "saved tissue to tissue_sz.pdf"
       ]
      },
      {
       "output_type": "stream",
       "stream": "stdout",
       "text": [
        "\n",
        "4344"
       ]
      },
      {
       "output_type": "stream",
       "stream": "stdout",
       "text": [
        "\n",
        "saved tissue to ../saved_graphs/xml/apopto_vr0.80_ctr1.20_rt0.20/apopto_0034_3d.png"
       ]
      },
      {
       "output_type": "stream",
       "stream": "stdout",
       "text": [
        "\n",
        "saved tissue to tissue_sz.pdf"
       ]
      },
      {
       "output_type": "stream",
       "stream": "stdout",
       "text": [
        "\n",
        "4344"
       ]
      },
      {
       "output_type": "stream",
       "stream": "stdout",
       "text": [
        "\n",
        "saved tissue to ../saved_graphs/xml/apopto_vr0.80_ctr1.20_rt0.20/apopto_0035_3d.png"
       ]
      },
      {
       "output_type": "stream",
       "stream": "stdout",
       "text": [
        "\n",
        "saved tissue to tissue_sz.pdf"
       ]
      },
      {
       "output_type": "stream",
       "stream": "stdout",
       "text": [
        "\n",
        "4344"
       ]
      },
      {
       "output_type": "stream",
       "stream": "stdout",
       "text": [
        "\n",
        "saved tissue to ../saved_graphs/xml/apopto_vr0.80_ctr1.20_rt0.20/apopto_0036_3d.png"
       ]
      },
      {
       "output_type": "stream",
       "stream": "stdout",
       "text": [
        "\n",
        "saved tissue to tissue_sz.pdf"
       ]
      },
      {
       "output_type": "stream",
       "stream": "stdout",
       "text": [
        "\n",
        "4344"
       ]
      },
      {
       "output_type": "stream",
       "stream": "stdout",
       "text": [
        "\n",
        "saved tissue to ../saved_graphs/xml/apopto_vr0.80_ctr1.20_rt0.20/apopto_0037_3d.png"
       ]
      },
      {
       "output_type": "stream",
       "stream": "stdout",
       "text": [
        "\n",
        "saved tissue to tissue_sz.pdf"
       ]
      },
      {
       "output_type": "stream",
       "stream": "stdout",
       "text": [
        "\n",
        "4344"
       ]
      },
      {
       "output_type": "stream",
       "stream": "stdout",
       "text": [
        "\n",
        "saved tissue to ../saved_graphs/xml/apopto_vr0.80_ctr1.20_rt0.20/apopto_0038_3d.png"
       ]
      },
      {
       "output_type": "stream",
       "stream": "stdout",
       "text": [
        "\n",
        "saved tissue to tissue_sz.pdf"
       ]
      },
      {
       "output_type": "stream",
       "stream": "stdout",
       "text": [
        "\n",
        "4344"
       ]
      },
      {
       "output_type": "stream",
       "stream": "stdout",
       "text": [
        "\n",
        "saved tissue to ../saved_graphs/xml/apopto_vr0.80_ctr1.20_rt0.20/apopto_0039_3d.png"
       ]
      },
      {
       "output_type": "stream",
       "stream": "stdout",
       "text": [
        "\n",
        "saved tissue to tissue_sz.pdf"
       ]
      },
      {
       "output_type": "stream",
       "stream": "stdout",
       "text": [
        "\n",
        "4344"
       ]
      },
      {
       "output_type": "stream",
       "stream": "stdout",
       "text": [
        "\n",
        "saved tissue to ../saved_graphs/xml/apopto_vr0.80_ctr1.20_rt0.20/apopto_0040_3d.png"
       ]
      },
      {
       "output_type": "stream",
       "stream": "stdout",
       "text": [
        "\n",
        "saved tissue to tissue_sz.pdf"
       ]
      },
      {
       "output_type": "stream",
       "stream": "stdout",
       "text": [
        "\n",
        "4344"
       ]
      },
      {
       "output_type": "stream",
       "stream": "stdout",
       "text": [
        "\n",
        "saved tissue to ../saved_graphs/xml/apopto_vr0.80_ctr1.20_rt0.20/apopto_0041_3d.png"
       ]
      },
      {
       "output_type": "stream",
       "stream": "stdout",
       "text": [
        "\n",
        "saved tissue to tissue_sz.pdf"
       ]
      },
      {
       "output_type": "stream",
       "stream": "stdout",
       "text": [
        "\n",
        "4344"
       ]
      },
      {
       "output_type": "stream",
       "stream": "stdout",
       "text": [
        "\n",
        "saved tissue to ../saved_graphs/xml/apopto_vr0.80_ctr1.20_rt0.20/apopto_0042_3d.png"
       ]
      },
      {
       "output_type": "stream",
       "stream": "stdout",
       "text": [
        "\n",
        "saved tissue to tissue_sz.pdf"
       ]
      },
      {
       "output_type": "stream",
       "stream": "stdout",
       "text": [
        "\n",
        "4344"
       ]
      },
      {
       "output_type": "stream",
       "stream": "stdout",
       "text": [
        "\n",
        "saved tissue to ../saved_graphs/xml/apopto_vr0.80_ctr1.20_rt0.20/apopto_0043_3d.png"
       ]
      },
      {
       "output_type": "stream",
       "stream": "stdout",
       "text": [
        "\n",
        "saved tissue to tissue_sz.pdf"
       ]
      },
      {
       "output_type": "stream",
       "stream": "stdout",
       "text": [
        "\n",
        "4344"
       ]
      },
      {
       "output_type": "stream",
       "stream": "stdout",
       "text": [
        "\n",
        "saved tissue to ../saved_graphs/xml/apopto_vr0.80_ctr1.20_rt0.20/apopto_0044_3d.png"
       ]
      },
      {
       "output_type": "stream",
       "stream": "stdout",
       "text": [
        "\n",
        "saved tissue to tissue_sz.pdf"
       ]
      },
      {
       "output_type": "stream",
       "stream": "stdout",
       "text": [
        "\n",
        "4344"
       ]
      },
      {
       "output_type": "stream",
       "stream": "stdout",
       "text": [
        "\n",
        "saved tissue to ../saved_graphs/xml/apopto_vr0.80_ctr1.20_rt0.20/apopto_0045_3d.png"
       ]
      },
      {
       "output_type": "stream",
       "stream": "stdout",
       "text": [
        "\n",
        "saved tissue to tissue_sz.pdf"
       ]
      },
      {
       "output_type": "stream",
       "stream": "stdout",
       "text": [
        "\n",
        "4344"
       ]
      },
      {
       "output_type": "stream",
       "stream": "stdout",
       "text": [
        "\n",
        "saved tissue to ../saved_graphs/xml/apopto_vr0.80_ctr1.20_rt0.20/apopto_0046_3d.png"
       ]
      },
      {
       "output_type": "stream",
       "stream": "stdout",
       "text": [
        "\n",
        "saved tissue to tissue_sz.pdf"
       ]
      },
      {
       "output_type": "stream",
       "stream": "stdout",
       "text": [
        "\n",
        "4344"
       ]
      },
      {
       "output_type": "stream",
       "stream": "stdout",
       "text": [
        "\n",
        "saved tissue to ../saved_graphs/xml/apopto_vr0.80_ctr1.20_rt0.20/apopto_0047_3d.png"
       ]
      },
      {
       "output_type": "stream",
       "stream": "stdout",
       "text": [
        "\n",
        "saved tissue to tissue_sz.pdf"
       ]
      },
      {
       "output_type": "stream",
       "stream": "stdout",
       "text": [
        "\n",
        "4344"
       ]
      },
      {
       "output_type": "stream",
       "stream": "stdout",
       "text": [
        "\n",
        "saved tissue to ../saved_graphs/xml/apopto_vr0.80_ctr1.20_rt0.20/apopto_0048_3d.png"
       ]
      },
      {
       "output_type": "stream",
       "stream": "stdout",
       "text": [
        "\n",
        "saved tissue to tissue_sz.pdf"
       ]
      },
      {
       "output_type": "stream",
       "stream": "stdout",
       "text": [
        "\n",
        "4344"
       ]
      },
      {
       "output_type": "stream",
       "stream": "stdout",
       "text": [
        "\n",
        "saved tissue to ../saved_graphs/xml/apopto_vr0.80_ctr1.20_rt0.20/apopto_0049_3d.png"
       ]
      },
      {
       "output_type": "stream",
       "stream": "stdout",
       "text": [
        "\n",
        "saved tissue to tissue_sz.pdf"
       ]
      },
      {
       "output_type": "stream",
       "stream": "stdout",
       "text": [
        "\n",
        "4344"
       ]
      },
      {
       "output_type": "stream",
       "stream": "stdout",
       "text": [
        "\n",
        "saved tissue to ../saved_graphs/xml/apopto_vr0.80_ctr1.20_rt0.20/apopto_0050_3d.png"
       ]
      },
      {
       "output_type": "stream",
       "stream": "stdout",
       "text": [
        "\n",
        "saved tissue to tissue_sz.pdf"
       ]
      },
      {
       "output_type": "stream",
       "stream": "stdout",
       "text": [
        "\n",
        "4344"
       ]
      },
      {
       "output_type": "stream",
       "stream": "stdout",
       "text": [
        "\n",
        "saved tissue to ../saved_graphs/xml/apopto_vr0.80_ctr1.20_rt0.20/apopto_0051_3d.png"
       ]
      },
      {
       "output_type": "stream",
       "stream": "stdout",
       "text": [
        "\n",
        "saved tissue to tissue_sz.pdf"
       ]
      },
      {
       "output_type": "stream",
       "stream": "stdout",
       "text": [
        "\n",
        "4344"
       ]
      },
      {
       "output_type": "stream",
       "stream": "stdout",
       "text": [
        "\n",
        "saved tissue to ../saved_graphs/xml/apopto_vr0.80_ctr1.20_rt0.20/apopto_0052_3d.png"
       ]
      },
      {
       "output_type": "stream",
       "stream": "stdout",
       "text": [
        "\n",
        "saved tissue to tissue_sz.pdf"
       ]
      },
      {
       "output_type": "stream",
       "stream": "stdout",
       "text": [
        "\n",
        "4344"
       ]
      },
      {
       "output_type": "stream",
       "stream": "stdout",
       "text": [
        "\n",
        "saved tissue to ../saved_graphs/xml/apopto_vr0.80_ctr1.20_rt0.20/apopto_0053_3d.png"
       ]
      },
      {
       "output_type": "stream",
       "stream": "stdout",
       "text": [
        "\n",
        "saved tissue to tissue_sz.pdf"
       ]
      },
      {
       "output_type": "stream",
       "stream": "stdout",
       "text": [
        "\n",
        "4344"
       ]
      },
      {
       "output_type": "stream",
       "stream": "stdout",
       "text": [
        "\n",
        "saved tissue to ../saved_graphs/xml/apopto_vr0.80_ctr1.20_rt0.20/apopto_0054_3d.png"
       ]
      },
      {
       "output_type": "stream",
       "stream": "stdout",
       "text": [
        "\n",
        "saved tissue to tissue_sz.pdf"
       ]
      },
      {
       "output_type": "stream",
       "stream": "stdout",
       "text": [
        "\n",
        "4344"
       ]
      },
      {
       "output_type": "stream",
       "stream": "stdout",
       "text": [
        "\n",
        "saved tissue to ../saved_graphs/xml/apopto_vr0.80_ctr1.20_rt0.20/apopto_0055_3d.png"
       ]
      },
      {
       "output_type": "stream",
       "stream": "stdout",
       "text": [
        "\n",
        "saved tissue to tissue_sz.pdf"
       ]
      },
      {
       "output_type": "stream",
       "stream": "stdout",
       "text": [
        "\n",
        "4344"
       ]
      },
      {
       "output_type": "stream",
       "stream": "stdout",
       "text": [
        "\n",
        "saved tissue to ../saved_graphs/xml/apopto_vr0.80_ctr1.20_rt0.20/apopto_0056_3d.png"
       ]
      },
      {
       "output_type": "stream",
       "stream": "stdout",
       "text": [
        "\n",
        "saved tissue to tissue_sz.pdf"
       ]
      },
      {
       "output_type": "stream",
       "stream": "stdout",
       "text": [
        "\n",
        "4344"
       ]
      },
      {
       "output_type": "stream",
       "stream": "stdout",
       "text": [
        "\n",
        "saved tissue to ../saved_graphs/xml/apopto_vr0.80_ctr1.20_rt0.20/apopto_0057_3d.png"
       ]
      },
      {
       "output_type": "stream",
       "stream": "stdout",
       "text": [
        "\n",
        "saved tissue to tissue_sz.pdf"
       ]
      },
      {
       "output_type": "stream",
       "stream": "stdout",
       "text": [
        "\n",
        "4344"
       ]
      },
      {
       "output_type": "stream",
       "stream": "stdout",
       "text": [
        "\n",
        "saved tissue to ../saved_graphs/xml/apopto_vr0.80_ctr1.20_rt0.20/apopto_0058_3d.png"
       ]
      },
      {
       "output_type": "stream",
       "stream": "stdout",
       "text": [
        "\n",
        "saved tissue to tissue_sz.pdf"
       ]
      },
      {
       "output_type": "stream",
       "stream": "stdout",
       "text": [
        "\n",
        "4344"
       ]
      },
      {
       "output_type": "stream",
       "stream": "stdout",
       "text": [
        "\n",
        "saved tissue to ../saved_graphs/xml/apopto_vr0.80_ctr1.20_rt0.20/apopto_0059_3d.png"
       ]
      },
      {
       "output_type": "stream",
       "stream": "stdout",
       "text": [
        "\n",
        "saved tissue to tissue_sz.pdf"
       ]
      },
      {
       "output_type": "stream",
       "stream": "stdout",
       "text": [
        "\n",
        "4344"
       ]
      },
      {
       "output_type": "stream",
       "stream": "stdout",
       "text": [
        "\n",
        "saved tissue to ../saved_graphs/xml/apopto_vr0.80_ctr1.20_rt0.20/apopto_0060_3d.png"
       ]
      },
      {
       "output_type": "stream",
       "stream": "stdout",
       "text": [
        "\n",
        "saved tissue to tissue_sz.pdf"
       ]
      },
      {
       "output_type": "stream",
       "stream": "stdout",
       "text": [
        "\n",
        "4344"
       ]
      },
      {
       "output_type": "stream",
       "stream": "stdout",
       "text": [
        "\n",
        "saved tissue to ../saved_graphs/xml/apopto_vr0.80_ctr1.20_rt0.20/apopto_0061_3d.png"
       ]
      },
      {
       "output_type": "stream",
       "stream": "stdout",
       "text": [
        "\n",
        "saved tissue to tissue_sz.pdf"
       ]
      },
      {
       "output_type": "stream",
       "stream": "stdout",
       "text": [
        "\n",
        "4344"
       ]
      },
      {
       "output_type": "stream",
       "stream": "stdout",
       "text": [
        "\n",
        "saved tissue to ../saved_graphs/xml/apopto_vr0.80_ctr1.20_rt0.20/apopto_0062_3d.png"
       ]
      },
      {
       "output_type": "stream",
       "stream": "stdout",
       "text": [
        "\n",
        "saved tissue to tissue_sz.pdf"
       ]
      },
      {
       "output_type": "stream",
       "stream": "stdout",
       "text": [
        "\n",
        "4344"
       ]
      },
      {
       "output_type": "stream",
       "stream": "stdout",
       "text": [
        "\n",
        "saved tissue to ../saved_graphs/xml/apopto_vr0.80_ctr1.20_rt0.20/apopto_0063_3d.png"
       ]
      },
      {
       "output_type": "stream",
       "stream": "stdout",
       "text": [
        "\n",
        "saved tissue to tissue_sz.pdf"
       ]
      },
      {
       "output_type": "stream",
       "stream": "stdout",
       "text": [
        "\n",
        "4344"
       ]
      },
      {
       "output_type": "stream",
       "stream": "stdout",
       "text": [
        "\n",
        "saved tissue to ../saved_graphs/xml/apopto_vr0.80_ctr1.20_rt0.20/apopto_0064_3d.png"
       ]
      },
      {
       "output_type": "stream",
       "stream": "stdout",
       "text": [
        "\n",
        "saved tissue to tissue_sz.pdf"
       ]
      },
      {
       "output_type": "stream",
       "stream": "stdout",
       "text": [
        "\n",
        "4344"
       ]
      },
      {
       "output_type": "stream",
       "stream": "stdout",
       "text": [
        "\n",
        "saved tissue to ../saved_graphs/xml/apopto_vr0.80_ctr1.20_rt0.20/apopto_0065_3d.png"
       ]
      },
      {
       "output_type": "stream",
       "stream": "stdout",
       "text": [
        "\n",
        "saved tissue to tissue_sz.pdf"
       ]
      },
      {
       "output_type": "stream",
       "stream": "stdout",
       "text": [
        "\n",
        "4344"
       ]
      },
      {
       "output_type": "stream",
       "stream": "stdout",
       "text": [
        "\n",
        "saved tissue to ../saved_graphs/xml/apopto_vr0.80_ctr1.20_rt0.20/apopto_0066_3d.png"
       ]
      },
      {
       "output_type": "stream",
       "stream": "stdout",
       "text": [
        "\n",
        "saved tissue to tissue_sz.pdf"
       ]
      },
      {
       "output_type": "stream",
       "stream": "stdout",
       "text": [
        "\n",
        "4344"
       ]
      },
      {
       "output_type": "stream",
       "stream": "stdout",
       "text": [
        "\n",
        "saved tissue to ../saved_graphs/xml/apopto_vr0.80_ctr1.20_rt0.20/apopto_0067_3d.png"
       ]
      },
      {
       "output_type": "stream",
       "stream": "stdout",
       "text": [
        "\n",
        "saved tissue to tissue_sz.pdf"
       ]
      },
      {
       "output_type": "stream",
       "stream": "stdout",
       "text": [
        "\n",
        "4344"
       ]
      },
      {
       "output_type": "stream",
       "stream": "stdout",
       "text": [
        "\n",
        "saved tissue to ../saved_graphs/xml/apopto_vr0.80_ctr1.20_rt0.20/apopto_0068_3d.png"
       ]
      },
      {
       "output_type": "stream",
       "stream": "stdout",
       "text": [
        "\n",
        "saved tissue to tissue_sz.pdf"
       ]
      },
      {
       "output_type": "stream",
       "stream": "stdout",
       "text": [
        "\n",
        "4344"
       ]
      },
      {
       "output_type": "stream",
       "stream": "stdout",
       "text": [
        "\n",
        "saved tissue to ../saved_graphs/xml/apopto_vr0.80_ctr1.20_rt0.20/apopto_0069_3d.png"
       ]
      },
      {
       "output_type": "stream",
       "stream": "stdout",
       "text": [
        "\n",
        "saved tissue to tissue_sz.pdf"
       ]
      },
      {
       "output_type": "stream",
       "stream": "stdout",
       "text": [
        "\n",
        "4344"
       ]
      },
      {
       "output_type": "stream",
       "stream": "stdout",
       "text": [
        "\n",
        "saved tissue to ../saved_graphs/xml/apopto_vr0.80_ctr1.20_rt0.20/apopto_0070_3d.png"
       ]
      },
      {
       "output_type": "stream",
       "stream": "stdout",
       "text": [
        "\n",
        "saved tissue to tissue_sz.pdf"
       ]
      },
      {
       "output_type": "stream",
       "stream": "stdout",
       "text": [
        "\n",
        "4344"
       ]
      },
      {
       "output_type": "stream",
       "stream": "stdout",
       "text": [
        "\n",
        "saved tissue to ../saved_graphs/xml/apopto_vr0.80_ctr1.20_rt0.20/apopto_0071_3d.png"
       ]
      },
      {
       "output_type": "stream",
       "stream": "stdout",
       "text": [
        "\n",
        "saved tissue to tissue_sz.pdf"
       ]
      },
      {
       "output_type": "stream",
       "stream": "stdout",
       "text": [
        "\n",
        "4344"
       ]
      },
      {
       "output_type": "stream",
       "stream": "stdout",
       "text": [
        "\n",
        "saved tissue to ../saved_graphs/xml/apopto_vr0.80_ctr1.20_rt0.20/apopto_0072_3d.png"
       ]
      },
      {
       "output_type": "stream",
       "stream": "stdout",
       "text": [
        "\n",
        "saved tissue to tissue_sz.pdf"
       ]
      },
      {
       "output_type": "stream",
       "stream": "stdout",
       "text": [
        "\n",
        "4344"
       ]
      },
      {
       "output_type": "stream",
       "stream": "stdout",
       "text": [
        "\n",
        "saved tissue to ../saved_graphs/xml/apopto_vr0.80_ctr1.20_rt0.20/apopto_0073_3d.png"
       ]
      },
      {
       "output_type": "stream",
       "stream": "stdout",
       "text": [
        "\n",
        "saved tissue to tissue_sz.pdf"
       ]
      },
      {
       "output_type": "stream",
       "stream": "stdout",
       "text": [
        "\n",
        "4344"
       ]
      },
      {
       "output_type": "stream",
       "stream": "stdout",
       "text": [
        "\n",
        "saved tissue to ../saved_graphs/xml/apopto_vr0.80_ctr1.20_rt0.20/apopto_0074_3d.png"
       ]
      },
      {
       "output_type": "stream",
       "stream": "stdout",
       "text": [
        "\n",
        "saved tissue to tissue_sz.pdf"
       ]
      },
      {
       "output_type": "stream",
       "stream": "stdout",
       "text": [
        "\n",
        "4344"
       ]
      },
      {
       "output_type": "stream",
       "stream": "stdout",
       "text": [
        "\n",
        "saved tissue to ../saved_graphs/xml/apopto_vr0.80_ctr1.20_rt0.20/apopto_0075_3d.png"
       ]
      },
      {
       "output_type": "stream",
       "stream": "stdout",
       "text": [
        "\n",
        "saved tissue to tissue_sz.pdf"
       ]
      },
      {
       "output_type": "stream",
       "stream": "stdout",
       "text": [
        "\n",
        "4344"
       ]
      },
      {
       "output_type": "stream",
       "stream": "stdout",
       "text": [
        "\n",
        "saved tissue to ../saved_graphs/xml/apopto_vr0.80_ctr1.20_rt0.20/apopto_0076_3d.png"
       ]
      },
      {
       "output_type": "stream",
       "stream": "stdout",
       "text": [
        "\n",
        "saved tissue to tissue_sz.pdf"
       ]
      },
      {
       "output_type": "stream",
       "stream": "stdout",
       "text": [
        "\n",
        "4344"
       ]
      },
      {
       "output_type": "stream",
       "stream": "stdout",
       "text": [
        "\n",
        "saved tissue to ../saved_graphs/xml/apopto_vr0.80_ctr1.20_rt0.20/apopto_0077_3d.png"
       ]
      },
      {
       "output_type": "stream",
       "stream": "stdout",
       "text": [
        "\n",
        "saved tissue to tissue_sz.pdf"
       ]
      },
      {
       "output_type": "stream",
       "stream": "stdout",
       "text": [
        "\n",
        "4344"
       ]
      },
      {
       "output_type": "stream",
       "stream": "stdout",
       "text": [
        "\n",
        "saved tissue to ../saved_graphs/xml/apopto_vr0.80_ctr1.20_rt0.20/apopto_0078_3d.png"
       ]
      },
      {
       "output_type": "stream",
       "stream": "stdout",
       "text": [
        "\n",
        "saved tissue to tissue_sz.pdf"
       ]
      },
      {
       "output_type": "stream",
       "stream": "stdout",
       "text": [
        "\n",
        "4344"
       ]
      },
      {
       "output_type": "stream",
       "stream": "stdout",
       "text": [
        "\n",
        "saved tissue to ../saved_graphs/xml/apopto_vr0.80_ctr1.20_rt0.20/apopto_0079_3d.png"
       ]
      },
      {
       "output_type": "stream",
       "stream": "stdout",
       "text": [
        "\n",
        "saved tissue to tissue_sz.pdf"
       ]
      },
      {
       "output_type": "stream",
       "stream": "stdout",
       "text": [
        "\n",
        "4344"
       ]
      },
      {
       "output_type": "stream",
       "stream": "stdout",
       "text": [
        "\n",
        "saved tissue to ../saved_graphs/xml/apopto_vr0.80_ctr1.20_rt0.20/apopto_0080_3d.png"
       ]
      },
      {
       "output_type": "stream",
       "stream": "stdout",
       "text": [
        "\n",
        "saved tissue to tissue_sz.pdf"
       ]
      },
      {
       "output_type": "stream",
       "stream": "stdout",
       "text": [
        "\n",
        "4344"
       ]
      },
      {
       "output_type": "stream",
       "stream": "stdout",
       "text": [
        "\n",
        "saved tissue to ../saved_graphs/xml/apopto_vr0.80_ctr1.20_rt0.20/apopto_0081_3d.png"
       ]
      },
      {
       "output_type": "stream",
       "stream": "stdout",
       "text": [
        "\n",
        "saved tissue to tissue_sz.pdf"
       ]
      },
      {
       "output_type": "stream",
       "stream": "stdout",
       "text": [
        "\n",
        "4344"
       ]
      },
      {
       "output_type": "stream",
       "stream": "stdout",
       "text": [
        "\n",
        "saved tissue to ../saved_graphs/xml/apopto_vr0.80_ctr1.20_rt0.20/apopto_0082_3d.png"
       ]
      },
      {
       "output_type": "stream",
       "stream": "stdout",
       "text": [
        "\n",
        "saved tissue to tissue_sz.pdf"
       ]
      },
      {
       "output_type": "stream",
       "stream": "stdout",
       "text": [
        "\n",
        "4344"
       ]
      },
      {
       "output_type": "stream",
       "stream": "stdout",
       "text": [
        "\n",
        "saved tissue to ../saved_graphs/xml/apopto_vr0.80_ctr1.20_rt0.20/apopto_0083_3d.png"
       ]
      },
      {
       "output_type": "stream",
       "stream": "stdout",
       "text": [
        "\n",
        "saved tissue to tissue_sz.pdf"
       ]
      },
      {
       "output_type": "stream",
       "stream": "stdout",
       "text": [
        "\n",
        "4344"
       ]
      },
      {
       "output_type": "stream",
       "stream": "stdout",
       "text": [
        "\n",
        "saved tissue to ../saved_graphs/xml/apopto_vr0.80_ctr1.20_rt0.20/apopto_0084_3d.png"
       ]
      },
      {
       "output_type": "stream",
       "stream": "stdout",
       "text": [
        "\n",
        "saved tissue to tissue_sz.pdf"
       ]
      },
      {
       "output_type": "stream",
       "stream": "stdout",
       "text": [
        "\n",
        "4344"
       ]
      },
      {
       "output_type": "stream",
       "stream": "stdout",
       "text": [
        "\n",
        "saved tissue to ../saved_graphs/xml/apopto_vr0.80_ctr1.20_rt0.20/apopto_0085_3d.png"
       ]
      },
      {
       "output_type": "stream",
       "stream": "stdout",
       "text": [
        "\n",
        "saved tissue to tissue_sz.pdf"
       ]
      },
      {
       "output_type": "stream",
       "stream": "stdout",
       "text": [
        "\n",
        "4344"
       ]
      },
      {
       "output_type": "stream",
       "stream": "stdout",
       "text": [
        "\n",
        "saved tissue to ../saved_graphs/xml/apopto_vr0.80_ctr1.20_rt0.20/apopto_0086_3d.png"
       ]
      },
      {
       "output_type": "stream",
       "stream": "stdout",
       "text": [
        "\n",
        "saved tissue to tissue_sz.pdf"
       ]
      },
      {
       "output_type": "stream",
       "stream": "stdout",
       "text": [
        "\n",
        "4344"
       ]
      },
      {
       "output_type": "stream",
       "stream": "stdout",
       "text": [
        "\n",
        "saved tissue to ../saved_graphs/xml/apopto_vr0.80_ctr1.20_rt0.20/apopto_0087_3d.png"
       ]
      },
      {
       "output_type": "stream",
       "stream": "stdout",
       "text": [
        "\n",
        "saved tissue to tissue_sz.pdf"
       ]
      },
      {
       "output_type": "stream",
       "stream": "stdout",
       "text": [
        "\n",
        "4344"
       ]
      },
      {
       "output_type": "stream",
       "stream": "stdout",
       "text": [
        "\n",
        "saved tissue to ../saved_graphs/xml/apopto_vr0.80_ctr1.20_rt0.20/apopto_0088_3d.png"
       ]
      },
      {
       "output_type": "stream",
       "stream": "stdout",
       "text": [
        "\n",
        "saved tissue to tissue_sz.pdf"
       ]
      },
      {
       "output_type": "stream",
       "stream": "stdout",
       "text": [
        "\n",
        "4344"
       ]
      },
      {
       "output_type": "stream",
       "stream": "stdout",
       "text": [
        "\n",
        "saved tissue to ../saved_graphs/xml/apopto_vr0.80_ctr1.20_rt0.20/apopto_0089_3d.png"
       ]
      },
      {
       "output_type": "stream",
       "stream": "stdout",
       "text": [
        "\n",
        "saved tissue to tissue_sz.pdf"
       ]
      },
      {
       "output_type": "stream",
       "stream": "stdout",
       "text": [
        "\n",
        "4344"
       ]
      },
      {
       "output_type": "stream",
       "stream": "stdout",
       "text": [
        "\n",
        "saved tissue to ../saved_graphs/xml/apopto_vr0.80_ctr1.20_rt0.20/apopto_0090_3d.png"
       ]
      },
      {
       "output_type": "stream",
       "stream": "stdout",
       "text": [
        "\n",
        "saved tissue to tissue_sz.pdf"
       ]
      },
      {
       "output_type": "stream",
       "stream": "stdout",
       "text": [
        "\n",
        "4344"
       ]
      },
      {
       "output_type": "stream",
       "stream": "stdout",
       "text": [
        "\n",
        "saved tissue to ../saved_graphs/xml/apopto_vr0.80_ctr1.20_rt0.20/apopto_0091_3d.png"
       ]
      },
      {
       "output_type": "stream",
       "stream": "stdout",
       "text": [
        "\n",
        "saved tissue to tissue_sz.pdf"
       ]
      },
      {
       "output_type": "stream",
       "stream": "stdout",
       "text": [
        "\n",
        "4344"
       ]
      },
      {
       "output_type": "stream",
       "stream": "stdout",
       "text": [
        "\n",
        "saved tissue to ../saved_graphs/xml/apopto_vr0.80_ctr1.20_rt0.20/apopto_0092_3d.png"
       ]
      },
      {
       "ename": "MemoryError",
       "evalue": "",
       "output_type": "pyerr",
       "traceback": [
        "\u001b[1;31m---------------------------------------------------------------------------\u001b[0m\n\u001b[1;31mMemoryError\u001b[0m                               Traceback (most recent call last)",
        "\u001b[1;32m<ipython-input-37-f4d787da97fa>\u001b[0m in \u001b[0;36m<module>\u001b[1;34m()\u001b[0m\n\u001b[0;32m      6\u001b[0m     etm = lj.Epithelium(xml_graph,\n\u001b[0;32m      7\u001b[0m                         paramfile='../default/params.xml')\n\u001b[1;32m----> 8\u001b[1;33m     \u001b[0mlj\u001b[0m\u001b[1;33m.\u001b[0m\u001b[0mdraw\u001b[0m\u001b[1;33m(\u001b[0m\u001b[0meptm\u001b[0m\u001b[1;33m,\u001b[0m \u001b[0moutput3d\u001b[0m\u001b[1;33m=\u001b[0m\u001b[0mpng_name\u001b[0m\u001b[1;33m,\u001b[0m \u001b[0mverbose\u001b[0m\u001b[1;33m=\u001b[0m\u001b[0mTrue\u001b[0m\u001b[1;33m)\u001b[0m\u001b[1;33m\u001b[0m\u001b[0m\n\u001b[0m\u001b[0;32m      9\u001b[0m \u001b[1;32mfor\u001b[0m \u001b[0mtheta\u001b[0m \u001b[1;32min\u001b[0m \u001b[0mnp\u001b[0m\u001b[1;33m.\u001b[0m\u001b[0mlinspace\u001b[0m\u001b[1;33m(\u001b[0m\u001b[1;36m0\u001b[0m\u001b[1;33m,\u001b[0m \u001b[1;36m2\u001b[0m\u001b[1;33m*\u001b[0m\u001b[0mnp\u001b[0m\u001b[1;33m.\u001b[0m\u001b[0mpi\u001b[0m\u001b[1;33m,\u001b[0m \u001b[1;36m180\u001b[0m\u001b[1;33m)\u001b[0m\u001b[1;33m:\u001b[0m\u001b[1;33m\u001b[0m\u001b[0m\n\u001b[0;32m     10\u001b[0m     \u001b[0mname\u001b[0m \u001b[1;33m=\u001b[0m \u001b[0mpng_name\u001b[0m\u001b[1;33m[\u001b[0m\u001b[1;33m:\u001b[0m\u001b[1;33m-\u001b[0m\u001b[1;36m4\u001b[0m\u001b[1;33m]\u001b[0m\u001b[1;33m+\u001b[0m\u001b[1;34m'%.3f.png'\u001b[0m \u001b[1;33m%\u001b[0m \u001b[0mtheta\u001b[0m\u001b[1;33m\u001b[0m\u001b[0m\n",
        "\u001b[1;32m/home/guillaume/Python/leg_joint/leg_joint/graph_representation.py\u001b[0m in \u001b[0;36mepithelium_draw\u001b[1;34m(eptm, z_angle, d_theta, output3d, output2d, verbose)\u001b[0m\n\u001b[0;32m    395\u001b[0m                           \u001b[0mvertex_size\u001b[0m\u001b[1;33m=\u001b[0m\u001b[0mvertex_size\u001b[0m\u001b[1;33m,\u001b[0m\u001b[1;33m\u001b[0m\u001b[0m\n\u001b[0;32m    396\u001b[0m                           \u001b[0mvorder\u001b[0m\u001b[1;33m=\u001b[0m\u001b[0mvorder\u001b[0m\u001b[1;33m,\u001b[0m \u001b[0meorder\u001b[0m\u001b[1;33m=\u001b[0m\u001b[0meorder\u001b[0m\u001b[1;33m,\u001b[0m\u001b[1;33m\u001b[0m\u001b[0m\n\u001b[1;32m--> 397\u001b[1;33m                           output=output2d)\n\u001b[0m\u001b[0;32m    398\u001b[0m     \u001b[1;32mif\u001b[0m \u001b[0mverbose\u001b[0m\u001b[1;33m:\u001b[0m \u001b[1;32mprint\u001b[0m \u001b[1;34m'saved tissue to %s'\u001b[0m \u001b[1;33m%\u001b[0m \u001b[0moutput2d\u001b[0m\u001b[1;33m\u001b[0m\u001b[0m\n\u001b[0;32m    399\u001b[0m     \u001b[1;32mdel\u001b[0m \u001b[0mpmap\u001b[0m\u001b[1;33m,\u001b[0m \u001b[0mpmap2\u001b[0m\u001b[1;33m\u001b[0m\u001b[0m\n",
        "\u001b[1;32m/usr/lib/python2.7/dist-packages/graph_tool/draw/cairo_draw.pyc\u001b[0m in \u001b[0;36mgraph_draw\u001b[1;34m(g, pos, vprops, eprops, vorder, eorder, nodesfirst, output_size, fit_view, output, fmt, **kwargs)\u001b[0m\n\u001b[0;32m    830\u001b[0m \u001b[1;33m\u001b[0m\u001b[0m\n\u001b[0;32m    831\u001b[0m         cairo_draw(g, pos, cr, vprops, eprops, vorder, eorder,\n\u001b[1;32m--> 832\u001b[1;33m                    nodesfirst, **kwargs)\n\u001b[0m\u001b[0;32m    833\u001b[0m         \u001b[1;32mdel\u001b[0m \u001b[0mcr\u001b[0m\u001b[1;33m\u001b[0m\u001b[0m\n\u001b[0;32m    834\u001b[0m \u001b[1;33m\u001b[0m\u001b[0m\n",
        "\u001b[1;32m/usr/lib/python2.7/dist-packages/graph_tool/draw/cairo_draw.pyc\u001b[0m in \u001b[0;36mcairo_draw\u001b[1;34m(g, pos, cr, vprops, eprops, vorder, eorder, nodesfirst, vcmap, ecmap, loop_angle, parallel_distance, fit_view, **kwargs)\u001b[0m\n\u001b[0;32m    451\u001b[0m     libgraph_tool_draw.cairo_draw(g._Graph__graph, _prop(\"v\", g, pos),\n\u001b[0;32m    452\u001b[0m                                   \u001b[0m_prop\u001b[0m\u001b[1;33m(\u001b[0m\u001b[1;34m\"v\"\u001b[0m\u001b[1;33m,\u001b[0m \u001b[0mg\u001b[0m\u001b[1;33m,\u001b[0m \u001b[0mvorder\u001b[0m\u001b[1;33m)\u001b[0m\u001b[1;33m,\u001b[0m \u001b[0m_prop\u001b[0m\u001b[1;33m(\u001b[0m\u001b[1;34m\"e\"\u001b[0m\u001b[1;33m,\u001b[0m \u001b[0mg\u001b[0m\u001b[1;33m,\u001b[0m \u001b[0meorder\u001b[0m\u001b[1;33m)\u001b[0m\u001b[1;33m,\u001b[0m\u001b[1;33m\u001b[0m\u001b[0m\n\u001b[1;32m--> 453\u001b[1;33m                                   nodesfirst, vattrs, eattrs, vdefs, edefs, cr)\n\u001b[0m\u001b[0;32m    454\u001b[0m     \u001b[0mcr\u001b[0m\u001b[1;33m.\u001b[0m\u001b[0mrestore\u001b[0m\u001b[1;33m(\u001b[0m\u001b[1;33m)\u001b[0m\u001b[1;33m\u001b[0m\u001b[0m\n\u001b[0;32m    455\u001b[0m \u001b[1;33m\u001b[0m\u001b[0m\n",
        "\u001b[1;31mMemoryError\u001b[0m: "
       ]
      },
      {
       "output_type": "stream",
       "stream": "stdout",
       "text": [
        "\n"
       ]
      }
     ],
     "prompt_number": 37
    },
    {
     "cell_type": "code",
     "collapsed": false,
     "input": [],
     "language": "python",
     "metadata": {},
     "outputs": []
    },
    {
     "cell_type": "code",
     "collapsed": false,
     "input": [
      "anisotropies, alignments = eptm.cells.get_anisotropies()\n",
      "\n",
      "eptm.graph.set_vertex_filter(eptm.is_cell_vert)\n",
      "fig, ax = plt.subplots()\n",
      "ax.plot(eptm.zeds.fa, anisotropies.fa, 'ro', alpha=0.5)\n",
      "eptm.graph.set_vertex_filter(None)"
     ],
     "language": "python",
     "metadata": {},
     "outputs": [],
     "prompt_number": 31
    }
   ],
   "metadata": {}
  }
 ]
}