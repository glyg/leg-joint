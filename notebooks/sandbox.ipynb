{
 "metadata": {
  "name": "",
  "signature": "sha256:c99ed0e27a56af82f373e2dda1efef8a24f6fdaf4e64926553447fe9b736ec7d"
 },
 "nbformat": 3,
 "nbformat_minor": 0,
 "worksheets": [
  {
   "cells": [
    {
     "cell_type": "markdown",
     "metadata": {},
     "source": [
      "## Hi, \n",
      "\n",
      "## This is a sandbox, you shouldn't expect to find reliable code here (in any way)\n",
      "\n",
      "fair warning"
     ]
    },
    {
     "cell_type": "code",
     "collapsed": false,
     "input": [
      "%load_ext autoreload\n",
      "\n",
      "%autoreload 2\n"
     ],
     "language": "python",
     "metadata": {},
     "outputs": [],
     "prompt_number": 1
    },
    {
     "cell_type": "code",
     "collapsed": false,
     "input": [
      "%load_ext snakeviz\n"
     ],
     "language": "python",
     "metadata": {},
     "outputs": [],
     "prompt_number": 2
    },
    {
     "cell_type": "code",
     "collapsed": false,
     "input": [
      "from scipy import optimize"
     ],
     "language": "python",
     "metadata": {},
     "outputs": [],
     "prompt_number": 3
    },
    {
     "cell_type": "code",
     "collapsed": false,
     "input": [
      "%run nb_init.py"
     ],
     "language": "python",
     "metadata": {},
     "outputs": [
      {
       "output_type": "stream",
       "stream": "stderr",
       "text": [
        "2015-02-06 17:19:31,316 -leg_joint -<module> -- INFO -successfully imported leg_joint\n"
       ]
      }
     ],
     "prompt_number": 4
    },
    {
     "cell_type": "code",
     "collapsed": false,
     "input": [
      "#eptm = lj.Epithelium(graphXMLfile='../leg_joint/data/graphs/before_apoptosis.xml')"
     ],
     "language": "python",
     "metadata": {},
     "outputs": [],
     "prompt_number": 5
    },
    {
     "cell_type": "markdown",
     "metadata": {},
     "source": [
      "## simple profile output at the root of optimisation branch:\n",
      "\n",
      "```python\n",
      "def do_update():\n",
      "    eptm.update_geometry()\n",
      "    eptm.update_gradient()\n",
      "import cProfile\n",
      "cProfile.run('do_update()')\n",
      "```\n",
      "\n",
      "```\n",
      "        3765564 function calls in 7.167 seconds\n",
      "\n",
      "   Ordered by: standard name\n",
      "\n",
      "   ncalls  tottime  percall  cumtime  percall filename:lineno(function)\n",
      "        1    0.000    0.000    7.167    7.167 <ipython-input-5-e1f38767d06b>:1(do_update)\n",
      "        1    0.000    0.000    7.167    7.167 <string>:1(<module>)\n",
      "        3    0.000    0.000    0.000    0.000 __init__.py:1336(vertices)\n",
      "        1    0.000    0.000    0.000    0.000 __init__.py:139(_prop)\n",
      "        5    0.000    0.000    0.000    0.000 __init__.py:1401(edges)\n",
      "       71    0.000    0.000    0.000    0.000 __init__.py:1704(_get_max_edge_index)\n",
      "        3    0.000    0.000    0.000    0.000 __init__.py:1757(new_edge_property)\n",
      "        4    0.000    0.000    0.000    0.000 __init__.py:176(_type_alias)\n",
      "        1    0.000    0.000    0.000    0.000 __init__.py:198(_python_type)\n",
      "       14    0.000    0.000    0.000    0.000 __init__.py:2052(get_vertex_filter)\n",
      "        6    0.000    0.000    0.000    0.000 __init__.py:2084(get_edge_filter)\n",
      "        6    0.000    0.000    0.000    0.000 __init__.py:2184(num_edges)\n",
      "        1    0.000    0.000    0.000    0.000 __init__.py:236(_convert)\n",
      "        4    0.000    0.000    0.000    0.000 __init__.py:2362(value_types)\n",
      "    11911    0.108    0.000    0.108    0.000 __init__.py:2379(_out_neighbours)\n",
      "    19981    0.035    0.000    0.041    0.000 __init__.py:2443(<lambda>)\n",
      "    76077    0.326    0.000    0.326    0.000 __init__.py:2474(_edge_iter)\n",
      "      253    0.000    0.000    0.000    0.000 __init__.py:276(_get_pmap)\n",
      "      120    0.000    0.000    0.000    0.000 __init__.py:279(_set_pmap)\n",
      "       43    0.000    0.000    0.001    0.000 __init__.py:285(__new__)\n",
      "      199    0.000    0.000    0.000    0.000 __init__.py:298(_get_base)\n",
      "      199    0.001    0.000    0.001    0.000 __init__.py:304(_get_base_data)\n",
      "      147    0.001    0.000    0.001    0.000 __init__.py:307(_check_data)\n",
      "       77    0.000    0.000    0.001    0.000 __init__.py:320(__array_finalize__)\n",
      "       18    0.000    0.000    0.001    0.000 __init__.py:333(__array_prepare__)\n",
      "       18    0.000    0.000    0.000    0.000 __init__.py:337(__array_wrap__)\n",
      "       18    0.000    0.000    0.001    0.000 __init__.py:347(checked_method)\n",
      "        3    0.000    0.000    0.000    0.000 __init__.py:400(__init__)\n",
      "        6    0.000    0.000    0.000    0.000 __init__.py:403(<lambda>)\n",
      "  1022637    0.393    0.000    0.534    0.000 __init__.py:414(__key_trans)\n",
      "        3    0.000    0.000    0.000    0.000 __init__.py:421(__register_map)\n",
      "        3    0.000    0.000    0.000    0.000 __init__.py:426(__unregister_map)\n",
      "        3    0.000    0.000    0.000    0.000 __init__.py:431(__del__)\n",
      "   712236    1.900    0.000    2.285    0.000 __init__.py:434(__getitem__)\n",
      "   310401    0.780    0.000    0.929    0.000 __init__.py:437(__setitem__)\n",
      "      188    0.000    0.000    0.000    0.000 __init__.py:473(get_graph)\n",
      "  1022638    0.141    0.000    0.141    0.000 __init__.py:480(key_type)\n",
      "        4    0.000    0.000    0.000    0.000 __init__.py:484(value_type)\n",
      "       43    0.000    0.000    0.001    0.000 __init__.py:492(get_array)\n",
      "      174    0.000    0.000    0.000    0.000 __init__.py:516(_get_data)\n",
      "       12    0.000    0.000    0.001    0.000 __init__.py:529(__set_array)\n",
      "       14    0.000    0.000    0.001    0.000 __init__.py:544(__get_set_f_array)\n",
      "        6    0.000    0.000    0.001    0.000 __init__.py:586(<lambda>)\n",
      "        1    0.005    0.005    0.005    0.005 __init__.py:72(find_edge)\n",
      "     1729    0.003    0.000    0.005    0.000 _methods.py:43(_count_reduce_items)\n",
      "     1729    0.018    0.000    0.044    0.000 _methods.py:53(_mean)\n",
      "        1    0.000    0.000    3.761    3.761 dynamics.py:130(update_gradient)\n",
      "        1    0.002    0.002    0.529    0.529 dynamics.py:141(_update_cells_grad)\n",
      "     1729    0.130    0.000    0.505    0.000 dynamics.py:152(_calc_vol_grad_cell)\n",
      "        1    0.249    0.249    3.232    3.232 dynamics.py:168(_update_junctions_grad)\n",
      "     5059    0.618    0.000    2.565    0.001 dynamics.py:190(_update_edge_grad)\n",
      "        1    0.012    0.012    3.405    3.405 epithelium.py:262(update_geometry)\n",
      "     1729    0.086    0.000    0.316    0.000 epithelium.py:281(_one_cell_geom)\n",
      "        1    0.003    0.003    0.345    0.345 epithelium.py:330(update_cells_pos)\n",
      "     1729    0.021    0.000    0.321    0.000 epithelium.py:334(_set_cell_pos)\n",
      "     1729    0.033    0.000    0.221    0.000 epithelium.py:335(<listcomp>)\n",
      "    10118    0.005    0.000    0.012    0.000 linalg.py:111(isComplexType)\n",
      "    10118    0.050    0.000    0.136    0.000 linalg.py:1924(norm)\n",
      "    80686    0.079    0.000    0.079    0.000 numeric.py:1347(rollaxis)\n",
      "    40343    0.723    0.000    1.066    0.000 numeric.py:1406(cross)\n",
      "    90865    0.084    0.000    0.201    0.000 numeric.py:394(asarray)\n",
      "     1729    0.002    0.000    0.005    0.000 numeric.py:464(asanyarray)\n",
      "        1    0.000    0.000    0.001    0.001 objects.py:290(update_rhotheta)\n",
      "        3    0.607    0.202    1.092    0.364 objects.py:305(edge_difference)\n",
      "        1    0.000    0.000    1.092    1.092 objects.py:314(update_deltas)\n",
      "        1    0.000    0.000    0.001    0.001 objects.py:357(update_edge_lengths)\n",
      "    10118    0.275    0.000    1.465    0.000 objects.py:466(update_geometry)\n",
      "     5059    0.017    0.000    1.483    0.000 objects.py:509(update_geometry)\n",
      "     5190    0.024    0.000    0.061    0.000 objects.py:553(__iter__)\n",
      "    10120    0.055    0.000    0.217    0.000 objects.py:740(__iter__)\n",
      "        1    0.000    0.000    0.000    0.000 utils.py:13(to_rhotheta)\n",
      "   154902    0.237    0.000    0.237    0.000 {built-in method array}\n",
      "    10118    0.041    0.000    0.041    0.000 {built-in method dot}\n",
      "    40343    0.033    0.000    0.033    0.000 {built-in method empty}\n",
      "        1    0.000    0.000    7.167    7.167 {built-in method exec}\n",
      "       18    0.000    0.000    0.000    0.000 {built-in method getattr}\n",
      "        9    0.000    0.000    0.000    0.000 {built-in method id}\n",
      "    23442    0.007    0.000    0.007    0.000 {built-in method isinstance}\n",
      "    11847    0.008    0.000    0.008    0.000 {built-in method issubclass}\n",
      "     3458    0.001    0.000    0.001    0.000 {built-in method len}\n",
      "    40343    0.021    0.000    0.021    0.000 {built-in method promote_types}\n",
      "        1    0.000    0.000    0.000    0.000 {method 'disable' of '_lsprof.Profiler' objects}\n",
      "     1729    0.002    0.000    0.046    0.000 {method 'mean' of 'numpy.ndarray' objects}\n",
      "    10118    0.010    0.000    0.010    0.000 {method 'ravel' of 'numpy.ndarray' objects}\n",
      "     1729    0.014    0.000    0.014    0.000 {method 'reduce' of 'numpy.ufunc' objects}\n",
      "    10118    0.002    0.000    0.002    0.000 {method 'values' of 'dict' objects}\n",
      "       43    0.000    0.000    0.000    0.000 {method 'view' of 'numpy.ndarray' objects}\n",
      "```\n",
      "\n",
      "\n"
     ]
    },
    {
     "cell_type": "code",
     "collapsed": false,
     "input": [
      "def do_update():\n",
      "    eptm.update_geometry()\n",
      "    eptm.update_gradient()\n",
      "import cProfile\n",
      "#cProfile.run('do_update()')\n"
     ],
     "language": "python",
     "metadata": {},
     "outputs": [],
     "prompt_number": 6
    },
    {
     "cell_type": "code",
     "collapsed": false,
     "input": [
      "#%%snakeviz\n",
      "#do_update()"
     ],
     "language": "python",
     "metadata": {},
     "outputs": [],
     "prompt_number": 7
    },
    {
     "cell_type": "code",
     "collapsed": false,
     "input": [
      "eptm = lj.Epithelium(lj.data.small_xml())"
     ],
     "language": "python",
     "metadata": {},
     "outputs": [
      {
       "output_type": "stream",
       "stream": "stderr",
       "text": [
        "2015-02-06 17:19:32,012 -leg_joint.epithelium -__init__ -- INFO -Instanciating epithelium 0\n"
       ]
      },
      {
       "output_type": "stream",
       "stream": "stderr",
       "text": [
        "2015-02-06 17:19:32,068 -leg_joint.epithelium -__init__ -- INFO -Initial cells\n"
       ]
      },
      {
       "output_type": "stream",
       "stream": "stderr",
       "text": [
        "2015-02-06 17:19:32,069 -leg_joint.epithelium -__init__ -- INFO -Initial junctions\n"
       ]
      },
      {
       "output_type": "stream",
       "stream": "stderr",
       "text": [
        "2015-02-06 17:19:32,315 -leg_joint.epithelium -__init__ -- INFO -Update geometry\n"
       ]
      }
     ],
     "prompt_number": 8
    },
    {
     "cell_type": "code",
     "collapsed": false,
     "input": [
      "eptm.isotropic_relax()"
     ],
     "language": "python",
     "metadata": {},
     "outputs": [],
     "prompt_number": 9
    },
    {
     "cell_type": "code",
     "collapsed": false,
     "input": [
      "mother_cell = eptm.graph.vertex(3)"
     ],
     "language": "python",
     "metadata": {},
     "outputs": [],
     "prompt_number": 10
    },
    {
     "cell_type": "code",
     "collapsed": false,
     "input": [
      "area0 = eptm.cells.areas[mother_cell]\n",
      "growth_rate = 1.5\n",
      "eptm.cells.prefered_vol[mother_cell] *= growth_rate\n",
      "\n"
     ],
     "language": "python",
     "metadata": {},
     "outputs": [],
     "prompt_number": 11
    },
    {
     "cell_type": "code",
     "collapsed": false,
     "input": [
      "eptm.update_geometry()\n",
      "eptm.update_gradient()"
     ],
     "language": "python",
     "metadata": {},
     "outputs": [],
     "prompt_number": 12
    },
    {
     "cell_type": "code",
     "collapsed": false,
     "input": [
      "eptm.set_local_mask(mother_cell)\n",
      "local_graph = gt.GraphView(eptm.graph, vfilt=eptm.is_local_vert, efilt=eptm.is_local_edge)"
     ],
     "language": "python",
     "metadata": {},
     "outputs": [],
     "prompt_number": 13
    },
    {
     "cell_type": "markdown",
     "metadata": {},
     "source": [
      "## Gradient computation at junction vertices\n",
      "\n",
      "In order to find the local energy minimum, as shown below, we use a conjugate gradient method\n",
      "(namely the [`fmin_lbfgs`](http://docs.scipy.org/doc/scipy/reference/tutorial/optimize.html#broyden-fletcher-goldfarb-shanno-algorithm-method-bfgs) algorithm from SciPy). So we need to compute said gradient at each junction vertex that concur to the optimization.\n",
      "\n",
      "In order to compute the local minimum of the energy, we calculate its\n",
      "gradient at junction vertex $i$ whose position in the 3D space is defined by the vector $\\mathbf{r_i}$ pointing from the coordinate system's origin. An edge between two vertices is noted\n",
      "$\\mathbf{r_{ij}} = \\mathbf{r_j} - \\mathbf{r_i}$. The coefficients noted $c_{ij}$ correspond to the terms of the graph's adjacency matrix, such that they are equal to 1 if an edge exists between vertices $i$ and $j$, and 0 otherwise. As the graph is oriented, at each vertex $i$, we have to account for outgoing ($c_{ij} = 1$) and incomming ($c_{ki} = 1$) edges, which explains the $c_{ki}$ terms in the following expressions. Note that $c_{ij} = 1 \\Rightarrow c_{ji} = 0$ and reciprocally. Although the indexes $j$ and $k$ vanish in the summations, we keep two symbols for clarity.\n",
      "\n",
      "\n",
      "$$\n",
      "\\begin{aligned} \n",
      "   \\mathbf{\\nabla_i} E &= (\\frac{\\partial E}{\\partial x},\n",
      "                     \\frac{\\partial E}{\\partial y},\n",
      "                     \\frac{\\partial E}{\\partial z}) \\\\\n",
      "   \\mathbf{\\nabla_i} E &= \\sum_\\alpha K (V_\\alpha - V_0) \n",
      "   \\mathbf{\\nabla_i} V_\\alpha  \n",
      "   + \\sum_\\alpha \\Gamma L_\\alpha \\mathbf{\\nabla_i} L_\\alpha\n",
      "   + \\sum_j \\Lambda_{ij} \\mathbf{\\nabla_i} \\ell_{ij} +  \\sum_k \\Lambda_{ki} \\mathbf{\\nabla_i}\n",
      "     \\ell_{ki}\n",
      "\\end{aligned}\n",
      "$$\n",
      "\n",
      "We have \n",
      "$$\n",
      "\\begin{aligned} \n",
      "   \\mathbf{\\nabla_i}\\ell_{ij} &=  -\\frac{\\mathbf{r}_{ij}c_{ij}}{\\ell_{ij}} \\\\\n",
      "   \\mathbf{\\nabla_i}\\ell_{ki} &=  +\\frac{\\mathbf{r}_{ki}c_{ki}}{\\ell_{ki}} \\\\\n",
      "   %%\n",
      "   \\mathbf{\\nabla_i}L_\\alpha &= \\sum_{kn} \\mathbf{\\nabla_i}\n",
      "       \\ell_{kn} c_{\\alpha k} c_{\\alpha n}\n",
      "   = \\left(\\sum_{j} \\mathbf{\\nabla_i}\\ell_{ij} c_{\\alpha j} \n",
      "     + \\sum_k \\mathbf{\\nabla_i}\\ell_{ki} c_{\\alpha k} \\right)c_{\\alpha i}\\\\\n",
      "   %%\n",
      "   \\mathbf{\\nabla_i}V_{\\alpha} &=  \\sum_{km}\\mathbf{\\nabla_i}V_{\\alpha km}\n",
      "   c_{\\alpha k}c_{\\alpha m}c_{km}\n",
      "   = \\sum_{km} \\mathbf{\\nabla_i}h_\\alpha A_{\\alpha km}\n",
      "   c_{\\alpha k}c_{\\alpha m}c_{km}\n",
      "   = A_\\alpha \\mathbf{\\nabla_i}h_\\alpha + \n",
      "   h_\\alpha \\sum_{km} \\mathbf{\\nabla_i} A_{\\alpha km}c_{\\alpha k}\n",
      "   c_{\\alpha m}c_{km}\\\\\n",
      "   \\mathbf{\\nabla_i}V_{\\alpha} &= \n",
      "   \\frac{h_\\alpha}{2\\nu_\\alpha} \\sum_{km}\\mathbf{u}_{\\alpha km}\n",
      "   \\times \\mathbf{r}_{km}c_{\\alpha k}c_{\\alpha m}c_{km}\n",
      "   + \\sum_{j}\\left(A_{\\alpha ij}\\frac{\\mathbf{r_i}}{2\\rho_i} \n",
      "   + \\frac{h_\\alpha}{2}\\mathbf{r}_{\\alpha j} \\times \\mathbf{u}_{\\alpha ij} c_{\\alpha j}c_{ij}\n",
      "   - \\frac{h_\\alpha}{2}\\mathbf{r}_{\\alpha j} \\times \\mathbf{u}_{\\alpha ji} c_{\\alpha j}c_{ji}\\right)\n",
      "     \\\\\n",
      "\\end{aligned}\n",
      "$$\n",
      "\n",
      "Here, $\\nu_\\alpha$ is the number of sides of cell $\\alpha$.\n",
      "\n",
      "The area computed as\n",
      "\n",
      "$$\n",
      "A_{\\alpha km}  = ||\\mathbf{r}_{\\alpha k} \\times \\mathbf{r}_{\\alpha m}|| /2\n",
      "$$\n",
      "\n",
      "And the normal to the $(\\mathbf{r_k}, \\mathbf{r_m})$ plane verifies:\n",
      "\n",
      "$$\n",
      "\\mathbf{u}_{\\alpha km} = \\frac{2\\, \\mathbf{r}_{\\alpha k} \\times \\mathbf{r}_{\\alpha m}}{A_{\\alpha km}}\n",
      "$$ \n",
      "\n"
     ]
    },
    {
     "cell_type": "code",
     "collapsed": false,
     "input": [
      "import hdfgraph\n",
      "from leg_joint.objects import get_faces\n",
      "import pandas as pd\n",
      "\n",
      "def _to_3d(df):\n",
      "    return df.repeat(3).reshape((df.size, 3))\n",
      "\n",
      "\n",
      "\n",
      "### Parse the graph-tool graph\n",
      "vertex_df, edges_df  = hdfgraph.graph_to_dataframes(local_graph)\n",
      "\n",
      "srcs = edges_df.index.get_level_values('source')\n",
      "trgts = edges_df.index.get_level_values('target')\n",
      "cell_idxs = vertex_df[vertex_df['is_cell_vert'] == 1].index\n",
      "jv_idxs = vertex_df[vertex_df['is_cell_vert'] == 0].index\n",
      "je_idxs = edges_df[edges_df['is_junction_edge']==1].index\n",
      "\n",
      "coords = ['ixs', 'wys', 'zeds']\n",
      "dcoords = ['d'+c for c in coords]\n",
      "grad_coords = ['grad_'+c for c in coords]\n",
      "\n",
      "\n",
      "deltas = vertex_df.loc[trgts, coords].values - vertex_df.loc[srcs, coords].values\n",
      "deltas = pd.DataFrame(deltas, columns=dcoords, index=edges_df.index)\n",
      "edge_lengths = (deltas**2).sum(axis=1)**0.5\n",
      "cell_heights = vertex_df.loc[cell_idxs, 'rhos'] - eptm.rho_lumen\n",
      "triangles = get_faces(local_graph)\n",
      "\n",
      "tri_cells = pd.Index(triangles[:, 0], name='cell')\n",
      "tri_jvis = pd.Index(triangles[:, 1], name='jv_i')\n",
      "tri_jvjs = pd.Index(triangles[:, 2], name='jv_j')\n",
      "tri_midx = pd.MultiIndex.from_arrays((triangles[:, 0], \n",
      "                                      triangles[:, 1],\n",
      "                                      triangles[:, 2]),\n",
      "                                     names=('cell', 'jv_i', 'jv_j'))\n",
      "\n",
      "tri_jes = pd.MultiIndex.from_arrays((triangles[:, 1], triangles[:, 2]), names=('jv_i', 'jv_j'))\n",
      "tri_ai = pd.MultiIndex.from_arrays((triangles[:, 0], triangles[:, 1]), names=('cell', 'jv_i'))\n",
      "tri_aj = pd.MultiIndex.from_arrays((triangles[:, 0], triangles[:, 2]), names=('cell', 'jv_j'))\n",
      "\n",
      "num_sides = tri_midx.get_level_values('cell').value_counts().loc[cell_idxs]\n",
      "num_sides.index = cell_idxs\n",
      "\n",
      "tri_num_sides = num_sides.loc[tri_cells]\n",
      "tri_num_sides.index = tri_midx\n",
      "\n",
      "tri_edge_length = edge_lengths.loc[tri_jes]\n",
      "tri_edge_length.index = tri_midx\n",
      "\n",
      "r_ijs = deltas.loc[tri_jes].set_index(tri_midx)\n",
      "r_ai = deltas.loc[tri_ai].set_index(tri_midx)\n",
      "r_aj = deltas.loc[tri_aj].set_index(tri_midx)\n",
      "\n",
      "crosses = pd.DataFrame(np.cross(r_ai, r_aj), index=tri_cells).set_index(tri_midx)\n",
      "sub_areas = ((crosses**2).sum(axis=1)**0.5) / 2\n",
      "\n",
      "areas = sub_areas.sum(level='cell')\n",
      "normals = crosses / _to_3d(2 * sub_areas)\n",
      "\n",
      "cell_vols = cell_heights * areas\n",
      "perimeters = tri_edge_length.sum(level='cell')\n"
     ],
     "language": "python",
     "metadata": {},
     "outputs": [],
     "prompt_number": 14
    },
    {
     "cell_type": "code",
     "collapsed": false,
     "input": [
      "from numpy.testing import assert_almost_equal, assert_array_almost_equal\n",
      "\n",
      "assert_almost_equal(vertex_df.loc[2, 'vols'], cell_vols.loc[2])\n",
      "assert_almost_equal(vertex_df.loc[2, 'areas'], areas.loc[2])\n",
      "assert_almost_equal(vertex_df.loc[2, 'perimeters'], perimeters.loc[2])\n",
      "\n",
      "assert_almost_equal(edges_df.loc[(2, 61), 'edge_lengths'], edge_lengths.loc[(2,61)])\n"
     ],
     "language": "python",
     "metadata": {},
     "outputs": [],
     "prompt_number": 15
    },
    {
     "cell_type": "markdown",
     "metadata": {},
     "source": [
      "We can factor the contractility and line tension terms:\n",
      "$$\n",
      "\\begin{aligned}\n",
      "\\sum_\\alpha \\Gamma L_\\alpha \\mathbf{\\nabla_i} L_\\alpha &= \\sum_{j} \\sum_\\alpha \\Gamma L_\\alpha \n",
      "     (\\mathbf{\\nabla_i}\\ell_{ij} + \\mathbf{\\nabla_i}\\ell_{ji}) c_{\\alpha j} c_{\\alpha i} c_{ij}\\\\\n",
      "    &= \\sum_{j} \\mathbf{\\nabla_i}\\ell_{ij} \\sum_\\alpha \\Gamma L_\\alpha c_{\\alpha j} c_{\\alpha i}c_{ij}\n",
      "    +  \\sum_k \\mathbf{\\nabla_i}\\ell_{ki} \\sum_\\beta \\Gamma L_\\beta c_{\\beta k} c_{\\beta i} c_{ki}\\\\\n",
      "    &\\Rightarrow\\\\\n",
      "   \\sum_\\alpha \\Gamma L_\\alpha \\mathbf{\\nabla_i} L_\\alpha\n",
      "       + \\sum_j \\Lambda_{ij} \\mathbf{\\nabla_i} \\ell_{ij} + \\sum_k \\Lambda_{ki} \\mathbf{\\nabla_i} \\ell_{ki}\n",
      "    &= \\sum_{j}\n",
      "      \\mathbf{\\nabla_i}\\ell_{ij} (\\Lambda_{ij} c_{ij}\n",
      "       + \\sum_\\alpha \\Gamma L_\\alpha c_{\\alpha j} c_{\\alpha i}c_{ij})\\\\\n",
      "      & \\quad + \\sum_k \\mathbf{\\nabla_i}\\ell_{ki} (\\Lambda_{ki} c_{ki}\n",
      "       + \\sum_\\beta \\Gamma L_\\beta c_{\\beta k} c_{\\beta i} c_{ki}) \\\\\n",
      "\\end{aligned}\n",
      "$$\n",
      "\n",
      "For clarity, the second sum is over cells indiced by $\\beta$, which corresponds to triangles where the vertex $i$ is a target such that $c_{ki} = 1$"
     ]
    },
    {
     "cell_type": "code",
     "collapsed": false,
     "input": [
      "grad_i = pd.DataFrame(0, index=jv_idxs,\n",
      "                      columns=grad_coords)\n",
      "\n",
      "grad_i_lij = - deltas.loc[je_idxs] / _to_3d(edge_lengths.loc[je_idxs])\n",
      "#grad_i_lij = grad_i_lij.loc[je_idxs]\n",
      "\n",
      "tensions = edges_df.loc[je_idxs, 'line_tensions']\n",
      "tensions.index.names = ('jv_i', 'jv_j')\n",
      "\n",
      "contract = vertex_df.loc[cell_idxs, 'contractilities']\n",
      "contract.index.name = 'cell'\n",
      "\n",
      "gamma_L = contract * perimeters\n",
      "gamma_L = gamma_L.loc[tri_cells]\n",
      "gamma_L.index = tri_midx\n",
      "\n",
      "\n",
      "area_term_alpha = gamma_L.groupby(level='jv_i').apply(\n",
      "    lambda df: df.sum(level='jv_j'))\n",
      "area_term_beta = gamma_L.groupby(level='jv_j').apply(\n",
      "    lambda df: df.sum(level='jv_i')).swaplevel(0,1).sortlevel()\n",
      "\n",
      "big_term_a = grad_i_lij * _to_3d(tensions + area_term_alpha)\n",
      "big_term_b = grad_i_lij * _to_3d(tensions + area_term_beta)\n",
      "\n",
      "grad_i.loc[tri_jvis.unique()] += big_term_a.sum(level='jv_i').loc[tri_jvis.unique()].values\n",
      "grad_i.loc[tri_jvjs.unique()] += big_term_b.sum(level='jv_j').loc[tri_jvjs.unique()].values\n",
      "\n",
      "apical_forces = grad_i.copy()\n",
      "\n"
     ],
     "language": "python",
     "metadata": {},
     "outputs": [],
     "prompt_number": 16
    },
    {
     "cell_type": "markdown",
     "metadata": {},
     "source": [
      "We have:\n",
      "$$\n",
      "\\begin{aligned}\n",
      "\\sum_\\alpha K (V_\\alpha - V_0) \\mathbf{\\nabla_i} V_\\alpha  &= \n",
      "   \\sum_\\alpha K (V_\\alpha - V_0)\\biggl[\\\\\n",
      "   &\\quad \\frac{h_\\alpha}{2\\nu_\\alpha} \\sum_{km}\\mathbf{u}_{\\alpha km}\n",
      "   \\times \\mathbf{r}_{km}c_{\\alpha k}c_{\\alpha m}c_{km}c_{\\alpha i}\\\\\n",
      "   &\\quad + \\sum_{j}\\left(A_{\\alpha ij}\\frac{\\mathbf{r_i}}{2\\rho_i} \n",
      "   + \\frac{h_\\alpha}{2}\\mathbf{r}_{\\alpha j} \\times \\mathbf{u}_{\\alpha ij} c_{\\alpha j}c_{ij}\\right)\n",
      "   + \\sum_{k}\\left(A_{\\alpha ki}\\frac{\\mathbf{r_i}}{2\\rho_i} -\n",
      "    \\frac{h_\\alpha}{2}\\mathbf{r}_{\\alpha k} \\times \\mathbf{u}_{\\alpha ki} c_{\\alpha j}c_{ki}\\right)\n",
      "   \\biggr]\\\\\n",
      "   &= \\sum_\\alpha K (V_\\alpha - V_0)\\biggl[\\\\\n",
      "   &\\quad \\frac{h_\\alpha}{2\\nu_\\alpha} \\sum_{km}\\mathbf{u}_{\\alpha km}\n",
      "   \\times \\mathbf{r}_{km}c_{\\alpha k}c_{\\alpha m}c_{km}c_{\\alpha i}\\\\\n",
      "   &\\quad + \\sum_{j}\\left(A_{\\alpha ij}\\frac{\\mathbf{r_i}}{2\\rho_i} \n",
      "   - \\frac{h_\\alpha}{2} \\mathbf{u}_{\\alpha ij} \\times \\mathbf{r}_{\\alpha j}  c_{\\alpha j}c_{ij}\\right)\n",
      "   + \\sum_{k}\\left(A_{\\alpha ki}\\frac{\\mathbf{r_i}}{2\\rho_i}\n",
      "   + \\frac{h_\\alpha}{2} \\mathbf{u}_{\\alpha ki} \\times \\mathbf{r}_{\\alpha k} c_{\\alpha j}c_{ki}\\right)\n",
      "   \\biggr]\\\\\n",
      "\\end{aligned}\n",
      "$$\n"
     ]
    },
    {
     "cell_type": "code",
     "collapsed": false,
     "input": [
      "## elasticity term\n",
      "\n",
      "elasticity = vertex_df.loc[cell_idxs, 'vol_elasticities']\n",
      "pref_V = vertex_df.loc[cell_idxs, 'prefered_vol']\n",
      "KV_V0 = elasticity * (cell_vols - pref_V)\n",
      "tri_KV_V0 = KV_V0.loc[tri_cells]\n",
      "tri_KV_V0.index = tri_midx\n",
      "\n",
      "\n",
      "cross_ur = pd.DataFrame(np.cross(normals, r_ijs), index=tri_midx, columns=coords)\n",
      "grad_i_V_cell = cross_ur.sum(level='cell') * _to_3d(cell_heights / (2 * num_sides))\n",
      "\n",
      "cell_term = (_to_3d(KV_V0) * grad_i_V_cell).loc[tri_cells].set_index(tri_midx)\n",
      "cell_term.columns = coords\n",
      "\n",
      "_r_is = vertex_df.loc[jv_idxs, coords]\n",
      "_rho_is = vertex_df.loc[jv_idxs, 'rhos']\n",
      "\n",
      "r_to_rho = _r_is / (_to_3d(2 * _rho_is))\n",
      "r_to_rho_i = r_to_rho.loc[tri_jvis].set_index(tri_midx)\n",
      "r_to_rho_j = r_to_rho.loc[tri_jvjs].set_index(tri_midx)\n",
      "\n",
      "\n",
      "\n",
      "cross_ai = pd.DataFrame(np.cross(normals, r_ai), index=tri_midx, columns=coords)\n",
      "cross_aj = pd.DataFrame(np.cross(normals, r_aj), index=tri_midx, columns=coords)\n",
      "\n",
      "tri_heights = cell_heights.loc[tri_cells]\n",
      "tri_heights.index = tri_midx\n",
      "\n",
      "\n",
      "grad_i_V_radial_a = _to_3d(sub_areas) * r_to_rho_i - _to_3d(tri_heights / 2) * cross_aj\n",
      "grad_i_V_radial_b = _to_3d(sub_areas) * r_to_rho_j + _to_3d(tri_heights / 2) * cross_ai\n",
      "radial_term_a = _to_3d(tri_KV_V0) * grad_i_V_radial_a\n",
      "radial_term_b = _to_3d(tri_KV_V0) * grad_i_V_radial_b\n",
      "\n",
      "\n",
      "ij_term = radial_term_a.groupby(level='jv_i').apply(lambda df: df.sum(level='jv_j'))/2\n",
      "jk_term = radial_term_b.groupby(level='jv_j').apply(lambda df: df.sum(level='jv_i'))/2\n",
      "\n",
      "alpha_term = (cell_term.sum(level='jv_i') + ij_term)\n",
      "beta_term = (cell_term.sum(level='jv_j') + jk_term)\n",
      "\n",
      "grad_i.loc[tri_jvis.unique()] += alpha_term.sum(level='jv_i').loc[tri_jvis.unique()].values\n",
      "grad_i.loc[tri_jvjs.unique()] -= beta_term.sum(level='jv_j').loc[tri_jvjs.unique()].values"
     ],
     "language": "python",
     "metadata": {},
     "outputs": [],
     "prompt_number": 17
    },
    {
     "cell_type": "code",
     "collapsed": false,
     "input": [
      "\n",
      "j_edge = jv0, jv1 = eptm.graph.edge(64, 70)\n",
      "j_edge_tup = (3, 64, 70)\n",
      "jv0_idx = 64\n",
      "jv1_idx = 70\n"
     ],
     "language": "python",
     "metadata": {},
     "outputs": [],
     "prompt_number": 18
    },
    {
     "cell_type": "code",
     "collapsed": false,
     "input": [
      "grad_jv0 = np.array([eptm.grad_ix[jv0],\n",
      "                     eptm.grad_wy[jv0],\n",
      "                     eptm.grad_zed[jv0]])\n",
      "grad_jv0"
     ],
     "language": "python",
     "metadata": {},
     "outputs": [
      {
       "metadata": {},
       "output_type": "pyout",
       "prompt_number": 19,
       "text": [
        "array([  829.60425628, -4253.41005323,  2796.92441652])"
       ]
      }
     ],
     "prompt_number": 19
    },
    {
     "cell_type": "code",
     "collapsed": false,
     "input": [
      "\n",
      "def volume_grad(eptm, j_edge, cell):\n",
      "    jv0, jv1 = j_edge\n",
      "    eptm_t = eptm.diamonds[j_edge].triangles[cell]\n",
      "    v_grad_a = 0.5 * (eptm.volume_grad_apical[cell]\n",
      "                      * eptm_t.height)\n",
      "\n",
      "    r_a0, r_a1 = eptm_t.deltas\n",
      "    area_grad0_t = - v_grad_a * np.cross(eptm_t.u_cross, r_a1)\n",
      "    area_grad1_t = + v_grad_a * np.cross(eptm_t.u_cross, r_a0)\n",
      "\n",
      "    v_grad_r = (eptm.volume_grad_radial[cell]\n",
      "                * eptm_t.area) / 2.\n",
      "\n",
      "    v_grad_0 = area_grad0_t + v_grad_r * np.array([eptm.ixs[jv0],\n",
      "                                                   eptm.wys[jv0],\n",
      "                                                   eptm.zeds[jv0]]) / eptm.rhos[jv0]\n",
      "    v_grad_1 = area_grad1_t + v_grad_r * np.array([eptm.ixs[jv1],\n",
      "                                                   eptm.wys[jv1],\n",
      "                                                   eptm.zeds[jv1]]) / eptm.rhos[jv1]\n",
      "\n",
      "    return v_grad_0, v_grad_1\n",
      "    \n",
      "v_grad_0, v_grad_1 = volume_grad(eptm, j_edge, mother_cell)\n",
      "assert_array_almost_equal(v_grad_0, radial_term_a.loc[j_edge_tup])\n",
      "assert_array_almost_equal(v_grad_1, radial_term_b.loc[j_edge_tup])"
     ],
     "language": "python",
     "metadata": {},
     "outputs": [],
     "prompt_number": 20
    },
    {
     "cell_type": "code",
     "collapsed": false,
     "input": [],
     "language": "python",
     "metadata": {},
     "outputs": [],
     "prompt_number": 20
    },
    {
     "cell_type": "code",
     "collapsed": false,
     "input": [
      "def get_grad_components(eptm, jv0):\n",
      "    grad_a = np.zeros(3)\n",
      "    grad_v = np.zeros(3)\n",
      "    grad_v_rad = np.zeros(3)\n",
      "    for je in jv0.all_edges():\n",
      "        if not eptm.is_junction_edge[je]:\n",
      "            continue\n",
      "        s = -1 if jv0 == j_edge.source() else 1\n",
      "        u_d = s * np.array([eptm.u_dixs[je], eptm.u_dwys[je], eptm.u_dzeds[je]])\n",
      "        grad_a += eptm.junctions.line_tensions[j_edge] * u_d\n",
      "\n",
      "        for t in eptm.diamonds[je].triangles.values():\n",
      "            grad_a += eptm.contractile_grad[t.cell]  * u_d\n",
      "            grad_v += volume_grad(eptm, j_edge, mother_cell)[0]\n",
      "        \n",
      "    return grad_a, grad_v\n",
      "\n",
      "grad_a_e, grad_v_e = get_grad_components(eptm, jv0)\n",
      "assert_array_almost_equal(apical_forces.loc[jv0_idx], grad_a_e)"
     ],
     "language": "python",
     "metadata": {},
     "outputs": [],
     "prompt_number": 21
    },
    {
     "cell_type": "code",
     "collapsed": false,
     "input": [
      "grad_v_e"
     ],
     "language": "python",
     "metadata": {},
     "outputs": [
      {
       "metadata": {},
       "output_type": "pyout",
       "prompt_number": 22,
       "text": [
        "array([   -61.6277373 , -14556.35143592,  24220.8187085 ])"
       ]
      }
     ],
     "prompt_number": 22
    },
    {
     "cell_type": "code",
     "collapsed": false,
     "input": [
      "v_grad_cell = np.zeros(3)\n",
      "for ctoj in jv0.in_edges():\n",
      "    if eptm.is_junction_edge[ctoj]: continue\n",
      "    v_grad_cell += eptm.volume_grad_cell[ctoj.source()]\n",
      "    \n",
      "v_grad_cell"
     ],
     "language": "python",
     "metadata": {},
     "outputs": [
      {
       "metadata": {},
       "output_type": "pyout",
       "prompt_number": 23,
       "text": [
        "array([ -2.72242519e+01,  -6.93093404e+00,  -2.73904620e-13])"
       ]
      }
     ],
     "prompt_number": 23
    },
    {
     "cell_type": "code",
     "collapsed": false,
     "input": [
      "(cell_term.sum(level='jv_i').loc[jv0_idx] + cell_term.sum(level='jv_j').loc[jv0_idx]) / 2"
     ],
     "language": "python",
     "metadata": {},
     "outputs": [
      {
       "metadata": {},
       "output_type": "pyout",
       "prompt_number": 24,
       "text": [
        "ixs    -2.722425e+01\n",
        "wys    -6.930934e+00\n",
        "zeds   -2.731971e-13\n",
        "Name: 64, dtype: float64"
       ]
      }
     ],
     "prompt_number": 24
    },
    {
     "cell_type": "code",
     "collapsed": false,
     "input": [
      "eptm_t = eptm.diamonds[j_edge].triangles[mother_cell]\n",
      "assert_almost_equal(gamma_L.loc[j_edge_tup], eptm.contractile_grad[mother_cell])\n",
      "assert_almost_equal(tri_KV_V0.loc[j_edge_tup], \n",
      "                    eptm.volume_grad_radial[mother_cell])\n",
      "assert_array_almost_equal(r_ijs.loc[j_edge_tup],\n",
      "                          eptm_t.rij_vect)\n",
      "assert_array_almost_equal(normals.loc[j_edge_tup],\n",
      "                          eptm_t.u_cross)\n",
      "assert_array_almost_equal(cross_ur.loc[j_edge_tup],\n",
      "                          np.cross(eptm_t.u_cross, eptm_t.rij_vect))\n",
      "assert_array_almost_equal(cell_term.loc[j_edge_tup],\n",
      "                          eptm.volume_grad_cell[mother_cell])"
     ],
     "language": "python",
     "metadata": {},
     "outputs": [],
     "prompt_number": 25
    },
    {
     "cell_type": "code",
     "collapsed": false,
     "input": [
      "%pdb"
     ],
     "language": "python",
     "metadata": {},
     "outputs": [
      {
       "output_type": "stream",
       "stream": "stdout",
       "text": [
        "Automatic pdb calling has been turned ON\n"
       ]
      }
     ],
     "prompt_number": 26
    },
    {
     "cell_type": "code",
     "collapsed": false,
     "input": [
      "from pandas_geometry import Triangles"
     ],
     "language": "python",
     "metadata": {},
     "outputs": [],
     "prompt_number": 28
    },
    {
     "cell_type": "markdown",
     "metadata": {},
     "source": [
      "\n",
      "### Usage example\n",
      "\n",
      "```python\n",
      "### cells only on the vertex dataframe\n",
      "cell_verts = trgles.udf_cell['is_cell_vert']\n",
      "\n",
      "### upcasted\n",
      "tri_cell_rhos =  trgles.tdf_cell['rhos']\n",
      "\n",
      "### Insert upcasted values to the faces dataframe\n",
      "trgles.faces['cell_rhos'] = tri_cell_rhos.values\n",
      "\n",
      "### Some benchmarks\n",
      "print('unique cells - pure pandas')\n",
      "%timeit vertex_df.loc[cell_idxs, 'is_cell_vert']\n",
      "print('unique cells - full indexation')\n",
      "%timeit trgles.vertex_df.loc[trgles.uix_a, 'is_cell_vert']\n",
      "print('unique cells - DataView')\n",
      "%timeit trgles.udf_cell['is_cell_vert']\n",
      "###\n",
      "print('triangle cells - pure pandas')\n",
      "%timeit vertex_df.loc[tri_cells, 'is_cell_vert']\n",
      "print('triangle cells - full indexation')\n",
      "%timeit trgles.vertex_df.loc[trgles.tix_a, 'is_cell_vert']\n",
      "print('triangle cells - DataView')\n",
      "%timeit trgles.tdf_cell['is_cell_vert']\n",
      "\n",
      "unique cells - pure pandas\n",
      "1000 loops, best of 3: 327 \u00b5s per loop\n",
      "unique cells - full indexation\n",
      "1000 loops, best of 3: 388 \u00b5s per loop\n",
      "unique cells - DataView\n",
      "1000 loops, best of 3: 393 \u00b5s per loop\n",
      "triangle cells - pure pandas\n",
      "1000 loops, best of 3: 477 \u00b5s per loop\n",
      "triangle cells - full indexation\n",
      "1000 loops, best of 3: 471 \u00b5s per loop\n",
      "triangle cells - DataView\n",
      "1000 loops, best of 3: 474 \u00b5s per loop\n",
      "```\n"
     ]
    },
    {
     "cell_type": "markdown",
     "metadata": {},
     "source": [
      "```python\n",
      ">>> %timeit trgles.uix_a\n",
      ">>> %timeit trgles.vertex_df.loc[trgles.uix_a, 'is_cell_vert']\n",
      ">>> %timeit vertex_df.loc[cell_idxs, 'is_cell_vert']\n",
      "\n",
      "\n",
      "10000000 loops, best of 3: 88.7 ns per loop\n",
      "1000 loops, best of 3: 620 \u00b5s per loop\n",
      "1000 loops, best of 3: 526 \u00b5s per loop\n",
      "```\n",
      "\n",
      "A 80 \u00b5s overhead is ok I guess, given the gain in code readability\n"
     ]
    },
    {
     "cell_type": "code",
     "collapsed": false,
     "input": [
      "from numpy.testing import assert_almost_equal, assert_array_almost_equal"
     ],
     "language": "python",
     "metadata": {},
     "outputs": [],
     "prompt_number": 29
    },
    {
     "cell_type": "code",
     "collapsed": false,
     "input": [
      "trgles = Triangles(vertex_df, edges_df, triangles, coords)"
     ],
     "language": "python",
     "metadata": {},
     "outputs": [],
     "prompt_number": 40
    },
    {
     "cell_type": "code",
     "collapsed": false,
     "input": [
      "pos0 = trgles.vertex_df.loc[trgles.uix_active, coords].values.flatten()"
     ],
     "language": "python",
     "metadata": {},
     "outputs": [],
     "prompt_number": 41
    },
    {
     "cell_type": "code",
     "collapsed": false,
     "input": [
      "trgles.geometry(eptm.rho_lumen)"
     ],
     "language": "python",
     "metadata": {},
     "outputs": [],
     "prompt_number": 42
    },
    {
     "cell_type": "code",
     "collapsed": false,
     "input": [
      "def opt_energy(pos, trgles):\n",
      "    _pos = pos.reshape((pos.size//3, 3))\n",
      "    trgles.vertex_df.loc[trgles.uix_active, trgles.coords] = _pos\n",
      "    trgles.geometry(eptm.rho_lumen)\n",
      "    trgles.energy()\n",
      "    energy = (trgles.udf_cell['E_v'].sum()\n",
      "          + trgles.udf_cell['E_c'].sum()\n",
      "          + trgles.udf_itoj['E_t'].sum())\n",
      "    return energy/eptm.norm_factor\n",
      "\n",
      "def opt_gradient(pos, trgles):\n",
      "    grad = trgles.gradient()\n",
      "    return grad.loc[trgles.uix_active].values.flatten()/eptm.norm_factor\n",
      "    "
     ],
     "language": "python",
     "metadata": {},
     "outputs": [],
     "prompt_number": 43
    },
    {
     "cell_type": "code",
     "collapsed": false,
     "input": [
      "\n",
      "#optimize.fmin_bfgs(opt_energy, pos0, fprime=opt_gradient, args=(trgles,), gtol=1e-2)"
     ],
     "language": "python",
     "metadata": {},
     "outputs": [],
     "prompt_number": 44
    },
    {
     "cell_type": "code",
     "collapsed": false,
     "input": [
      "%timeit optimize.check_grad(opt_energy, opt_gradient, pos0, trgles)"
     ],
     "language": "python",
     "metadata": {},
     "outputs": [
      {
       "output_type": "stream",
       "stream": "stdout",
       "text": [
        "1 loops, best of 3: 908 ms per loop\n"
       ]
      }
     ],
     "prompt_number": 45
    },
    {
     "cell_type": "code",
     "collapsed": false,
     "input": [
      "%timeit lj.optimizers.check_local_grad(eptm)"
     ],
     "language": "python",
     "metadata": {},
     "outputs": [
      {
       "output_type": "stream",
       "stream": "stderr",
       "text": [
        "2015-02-06 17:23:13,989 -leg_joint.optimizers -check_local_grad -- INFO -Checking gradient\n"
       ]
      },
      {
       "output_type": "stream",
       "stream": "stderr",
       "text": [
        "2015-02-06 17:23:14,922 -leg_joint.optimizers -check_local_grad -- INFO -Checking gradient\n"
       ]
      },
      {
       "output_type": "stream",
       "stream": "stderr",
       "text": [
        "2015-02-06 17:23:15,806 -leg_joint.optimizers -check_local_grad -- INFO -Checking gradient\n"
       ]
      },
      {
       "output_type": "stream",
       "stream": "stderr",
       "text": [
        "2015-02-06 17:23:16,702 -leg_joint.optimizers -check_local_grad -- INFO -Checking gradient\n"
       ]
      },
      {
       "output_type": "stream",
       "stream": "stdout",
       "text": [
        "1 loops, best of 3: 883 ms per loop\n"
       ]
      }
     ],
     "prompt_number": 46
    },
    {
     "cell_type": "code",
     "collapsed": false,
     "input": [
      "optimize.approx_fprime(pos0, opt_energy, 1e-9, trgles).reshape((6, 3))*eptm.norm_factor"
     ],
     "language": "python",
     "metadata": {},
     "outputs": [
      {
       "metadata": {},
       "output_type": "pyout",
       "prompt_number": 47,
       "text": [
        "array([[  1.01663318e+02,   0.00000000e+00,   4.86392673e+03],\n",
        "       [  1.44914429e+03,  -4.04332695e+03,   2.67683936e+03],\n",
        "       [  1.44914429e+03,   4.04317962e+03,   2.67683936e+03],\n",
        "       [  1.44914429e+03,   4.04317962e+03,  -2.67683936e+03],\n",
        "       [  1.01589649e+02,  -7.36690708e-02,  -4.86407407e+03],\n",
        "       [  1.44914429e+03,  -4.04325328e+03,  -2.67698670e+03]])"
       ]
      }
     ],
     "prompt_number": 47
    },
    {
     "cell_type": "code",
     "collapsed": false,
     "input": [
      "lj.optimizers.approx_grad(eptm).reshape((6, 3))*eptm.norm_factor"
     ],
     "language": "python",
     "metadata": {},
     "outputs": [
      {
       "metadata": {},
       "output_type": "pyout",
       "prompt_number": 48,
       "text": [
        "array([[ -533.80608733,     0.        ,  4813.0950745 ],\n",
        "       [  831.20812633, -4158.98739448,  2652.38122665],\n",
        "       [  831.13445726,  4158.98739448,  2652.38122665],\n",
        "       [  831.13445726,  4158.98739448, -2652.30755758],\n",
        "       [ -533.80608733,     0.        , -4813.0950745 ],\n",
        "       [  831.20812633, -4158.98739448, -2652.30755758]])"
       ]
      }
     ],
     "prompt_number": 48
    },
    {
     "cell_type": "code",
     "collapsed": false,
     "input": [
      "opt_energy(pos0, trgles)"
     ],
     "language": "python",
     "metadata": {},
     "outputs": [
      {
       "metadata": {},
       "output_type": "pyout",
       "prompt_number": 311,
       "text": [
        "4.1069796669133938"
       ]
      }
     ],
     "prompt_number": 311
    },
    {
     "cell_type": "code",
     "collapsed": false,
     "input": [
      "trgles.uix_active"
     ],
     "language": "python",
     "metadata": {},
     "outputs": [
      {
       "metadata": {},
       "output_type": "pyout",
       "prompt_number": 251,
       "text": [
        "Int64Index([63, 64, 67, 68, 69, 70], dtype='int64')"
       ]
      }
     ],
     "prompt_number": 251
    },
    {
     "cell_type": "code",
     "collapsed": false,
     "input": [
      "trgles.energy()\n",
      "\n",
      "energy = (trgles.udf_cell['E_v'].sum()\n",
      "          + trgles.udf_cell['E_c'].sum()\n",
      "          + trgles.udf_itoj['E_t'].sum()) / eptm.norm_factor\n"
     ],
     "language": "python",
     "metadata": {},
     "outputs": [],
     "prompt_number": 38
    },
    {
     "cell_type": "code",
     "collapsed": false,
     "input": [
      "\n",
      "eptm.graph.set_vertex_filter(eptm.is_local_vert)\n",
      "eptm.graph.set_edge_filter(eptm.is_local_edge)\n",
      "pos0, bounds = lj.optimizers.precondition(eptm)\n",
      "eptm_e = lj.optimizers.opt_energy(pos0.flatten(), eptm)\n",
      "\n",
      "assert_array_almost_equal(eptm_e, energy)\n",
      "eptm.graph.set_vertex_filter(None)\n",
      "eptm.graph.set_edge_filter(None)"
     ],
     "language": "python",
     "metadata": {},
     "outputs": [
      {
       "ename": "AssertionError",
       "evalue": "\nArrays are not almost equal to 6 decimals\n\n(mismatch 100.0%)\n x: array(4.125255908502353)\n y: array(4.106979666432481)",
       "output_type": "pyerr",
       "traceback": [
        "\u001b[1;31m---------------------------------------------------------------------------\u001b[0m\n\u001b[1;31mAssertionError\u001b[0m                            Traceback (most recent call last)",
        "\u001b[1;32m<ipython-input-39-0bd53bfe6bbd>\u001b[0m in \u001b[0;36m<module>\u001b[1;34m()\u001b[0m\n\u001b[0;32m      5\u001b[0m \u001b[0meptm_e\u001b[0m \u001b[1;33m=\u001b[0m \u001b[0mlj\u001b[0m\u001b[1;33m.\u001b[0m\u001b[0moptimizers\u001b[0m\u001b[1;33m.\u001b[0m\u001b[0mopt_energy\u001b[0m\u001b[1;33m(\u001b[0m\u001b[0mpos0\u001b[0m\u001b[1;33m.\u001b[0m\u001b[0mflatten\u001b[0m\u001b[1;33m(\u001b[0m\u001b[1;33m)\u001b[0m\u001b[1;33m,\u001b[0m \u001b[0meptm\u001b[0m\u001b[1;33m)\u001b[0m\u001b[1;33m\u001b[0m\u001b[0m\n\u001b[0;32m      6\u001b[0m \u001b[1;33m\u001b[0m\u001b[0m\n\u001b[1;32m----> 7\u001b[1;33m \u001b[0massert_array_almost_equal\u001b[0m\u001b[1;33m(\u001b[0m\u001b[0meptm_e\u001b[0m\u001b[1;33m,\u001b[0m \u001b[0menergy\u001b[0m\u001b[1;33m)\u001b[0m\u001b[1;33m\u001b[0m\u001b[0m\n\u001b[0m\u001b[0;32m      8\u001b[0m \u001b[0meptm\u001b[0m\u001b[1;33m.\u001b[0m\u001b[0mgraph\u001b[0m\u001b[1;33m.\u001b[0m\u001b[0mset_vertex_filter\u001b[0m\u001b[1;33m(\u001b[0m\u001b[1;32mNone\u001b[0m\u001b[1;33m)\u001b[0m\u001b[1;33m\u001b[0m\u001b[0m\n\u001b[0;32m      9\u001b[0m \u001b[0meptm\u001b[0m\u001b[1;33m.\u001b[0m\u001b[0mgraph\u001b[0m\u001b[1;33m.\u001b[0m\u001b[0mset_edge_filter\u001b[0m\u001b[1;33m(\u001b[0m\u001b[1;32mNone\u001b[0m\u001b[1;33m)\u001b[0m\u001b[1;33m\u001b[0m\u001b[0m\n",
        "\u001b[1;32m/home/guillaume/anaconda/envs/python3/lib/python3.4/site-packages/numpy/testing/utils.py\u001b[0m in \u001b[0;36massert_array_almost_equal\u001b[1;34m(x, y, decimal, err_msg, verbose)\u001b[0m\n\u001b[0;32m    840\u001b[0m     assert_array_compare(compare, x, y, err_msg=err_msg, verbose=verbose,\n\u001b[0;32m    841\u001b[0m              \u001b[0mheader\u001b[0m\u001b[1;33m=\u001b[0m\u001b[1;33m(\u001b[0m\u001b[1;34m'Arrays are not almost equal to %d decimals'\u001b[0m \u001b[1;33m%\u001b[0m \u001b[0mdecimal\u001b[0m\u001b[1;33m)\u001b[0m\u001b[1;33m,\u001b[0m\u001b[1;33m\u001b[0m\u001b[0m\n\u001b[1;32m--> 842\u001b[1;33m              precision=decimal)\n\u001b[0m\u001b[0;32m    843\u001b[0m \u001b[1;33m\u001b[0m\u001b[0m\n\u001b[0;32m    844\u001b[0m \u001b[1;33m\u001b[0m\u001b[0m\n",
        "\u001b[1;32m/home/guillaume/anaconda/envs/python3/lib/python3.4/site-packages/numpy/testing/utils.py\u001b[0m in \u001b[0;36massert_array_compare\u001b[1;34m(comparison, x, y, err_msg, verbose, header, precision)\u001b[0m\n\u001b[0;32m    663\u001b[0m                                 names=('x', 'y'), precision=precision)\n\u001b[0;32m    664\u001b[0m             \u001b[1;32mif\u001b[0m \u001b[1;32mnot\u001b[0m \u001b[0mcond\u001b[0m \u001b[1;33m:\u001b[0m\u001b[1;33m\u001b[0m\u001b[0m\n\u001b[1;32m--> 665\u001b[1;33m                 \u001b[1;32mraise\u001b[0m \u001b[0mAssertionError\u001b[0m\u001b[1;33m(\u001b[0m\u001b[0mmsg\u001b[0m\u001b[1;33m)\u001b[0m\u001b[1;33m\u001b[0m\u001b[0m\n\u001b[0m\u001b[0;32m    666\u001b[0m     \u001b[1;32mexcept\u001b[0m \u001b[0mValueError\u001b[0m \u001b[1;32mas\u001b[0m \u001b[0me\u001b[0m\u001b[1;33m:\u001b[0m\u001b[1;33m\u001b[0m\u001b[0m\n\u001b[0;32m    667\u001b[0m         \u001b[1;32mimport\u001b[0m \u001b[0mtraceback\u001b[0m\u001b[1;33m\u001b[0m\u001b[0m\n",
        "\u001b[1;31mAssertionError\u001b[0m: \nArrays are not almost equal to 6 decimals\n\n(mismatch 100.0%)\n x: array(4.125255908502353)\n y: array(4.106979666432481)"
       ]
      },
      {
       "output_type": "stream",
       "stream": "stdout",
       "text": [
        "> \u001b[1;32m/home/guillaume/anaconda/envs/python3/lib/python3.4/site-packages/numpy/testing/utils.py\u001b[0m(673)\u001b[0;36massert_array_compare\u001b[1;34m()\u001b[0m\n",
        "\u001b[1;32m    672 \u001b[1;33m                            names=('x', 'y'), precision=precision)\n",
        "\u001b[0m\u001b[1;32m--> 673 \u001b[1;33m        \u001b[1;32mraise\u001b[0m \u001b[0mValueError\u001b[0m\u001b[1;33m(\u001b[0m\u001b[0mmsg\u001b[0m\u001b[1;33m)\u001b[0m\u001b[1;33m\u001b[0m\u001b[0m\n",
        "\u001b[0m\u001b[1;32m    674 \u001b[1;33m\u001b[1;33m\u001b[0m\u001b[0m\n",
        "\u001b[0m\n"
       ]
      },
      {
       "name": "stdout",
       "output_type": "stream",
       "stream": "stdout",
       "text": [
        "ipdb> c\n"
       ]
      }
     ],
     "prompt_number": 39
    },
    {
     "cell_type": "code",
     "collapsed": false,
     "input": [
      "\n",
      "eptm.graph.set_vertex_filter(eptm.is_local_vert)\n",
      "juncs = eptm.is_junction_edge.copy()\n",
      "juncs.a = juncs.a * eptm.is_local_edge.a\n",
      "eptm.graph.set_edge_filter(juncs)\n",
      "\n",
      "\n",
      "assert_almost_equal(eptm.cells.vols.fa.sum(),\n",
      "                    trgles.udf_cell['vols'].sum())\n",
      "assert_almost_equal(eptm.cells.prefered_vol.fa.sum(),\n",
      "                    trgles.udf_cell['prefered_vol'].sum())\n",
      "\n",
      "assert_almost_equal(eptm.cells.contractilities.fa.sum(),\n",
      "                    trgles.udf_cell['contractilities'].sum())\n",
      "\n",
      "assert_almost_equal(eptm.cells.perimeters.fa.sum(),\n",
      "                    trgles.udf_cell['perimeters'].sum())\n",
      "\n",
      "assert_almost_equal(eptm.edge_lengths.fa.sum(),\n",
      "                    trgles.udf_itoj['edge_lengths'].sum())\n",
      "assert_almost_equal(eptm.junctions.line_tensions.fa.sum(),\n",
      "                    trgles.udf_itoj['line_tensions'].sum())\n",
      "\n",
      "\n",
      "eptm.graph.set_vertex_filter(None)\n",
      "eptm.graph.set_edge_filter(None)"
     ],
     "language": "python",
     "metadata": {},
     "outputs": [],
     "prompt_number": 264
    },
    {
     "cell_type": "code",
     "collapsed": false,
     "input": [
      "grad_i2, grad_t, grad_c, grad_v = trgles.gradient(components=True)"
     ],
     "language": "python",
     "metadata": {},
     "outputs": [
      {
       "output_type": "stream",
       "stream": "stdout",
       "text": [
        "gixs    -2.722425e+01\n",
        "gwys    -6.930934e+00\n",
        "gzeds    1.204164e-14\n",
        "Name: 64, dtype: float64\n",
        "ixs    -2017.732087\n",
        "wys    -5437.161104\n",
        "zeds    2752.385818\n",
        "Name: 64, dtype: float64"
       ]
      },
      {
       "output_type": "stream",
       "stream": "stdout",
       "text": [
        "\n"
       ]
      }
     ],
     "prompt_number": 265
    },
    {
     "cell_type": "code",
     "collapsed": false,
     "input": [
      "t_vgrad = np.zeros(3)\n",
      "jv0, jv1 = j_edge\n",
      "for je in jv0.all_edges():\n",
      "    if not eptm.is_junction_edge[je]:continue\n",
      "        \n",
      "    for t in eptm.diamonds[je].triangles.values():\n",
      "        v_grad_a = 0.5 * eptm.volume_grad_apical[t.cell] * t.height\n",
      "        r_a0, r_a1 = t.deltas\n",
      "        if jv0 == je.source():\n",
      "            area_grad_0 = -v_grad_a * np.cross(t.u_cross, r_a1)\n",
      "        else:\n",
      "            area_grad_0 = v_grad_a * np.cross(t.u_cross, r_a0)\n",
      "        t_vgrad += area_grad_0\n",
      "\n",
      "        v_grad_r = eptm.volume_grad_radial[t.cell] * t.area/2.\n",
      "        \n",
      "        t_vgrad[0] += v_grad_r * eptm.ixs[jv0] / eptm.rhos[jv0]\n",
      "        t_vgrad[1] += v_grad_r * eptm.wys[jv0] / eptm.rhos[jv0]\n",
      "        t_vgrad[2] += v_grad_r * eptm.zeds[jv0] / eptm.rhos[jv0]\n",
      "    \n",
      "print(t_vgrad)"
     ],
     "language": "python",
     "metadata": {},
     "outputs": [
      {
       "output_type": "stream",
       "stream": "stdout",
       "text": [
        "[-2017.73208726 -5437.1611037   2752.3858182 ]\n"
       ]
      }
     ],
     "prompt_number": 206
    },
    {
     "cell_type": "code",
     "collapsed": false,
     "input": [
      "apical_forces.loc[64]"
     ],
     "language": "python",
     "metadata": {},
     "outputs": [
      {
       "metadata": {},
       "output_type": "pyout",
       "prompt_number": 236,
       "text": [
        "grad_ixs      5985.962563\n",
        "grad_wys    -14451.392004\n",
        "grad_zeds    -9222.776582\n",
        "Name: 64, dtype: float64"
       ]
      }
     ],
     "prompt_number": 236
    },
    {
     "cell_type": "code",
     "collapsed": false,
     "input": [
      "(grad_t + grad_c).loc[64]"
     ],
     "language": "python",
     "metadata": {},
     "outputs": [
      {
       "metadata": {},
       "output_type": "pyout",
       "prompt_number": 238,
       "text": [
        "gixs      5985.962563\n",
        "gwys    -14451.392004\n",
        "gzeds    -9222.776582\n",
        "Name: 64, dtype: float64"
       ]
      }
     ],
     "prompt_number": 238
    },
    {
     "cell_type": "code",
     "collapsed": false,
     "input": [
      "lj.optimizers.approx_grad(eptm).reshape((6, 3))*eptm.norm_factor"
     ],
     "language": "python",
     "metadata": {},
     "outputs": [
      {
       "metadata": {},
       "output_type": "pyout",
       "prompt_number": 241,
       "text": [
        "array([[ -533.80608733,     0.        ,  4813.16874357],\n",
        "       [  831.20812633, -4158.91372541,  2652.45489572],\n",
        "       [  831.20812633,  4158.98739448,  2652.45489572],\n",
        "       [  831.20812633,  4158.98739448, -2652.30755758],\n",
        "       [ -533.73241826,     0.        , -4813.0950745 ],\n",
        "       [  831.20812633, -4158.91372541, -2652.30755758]])"
       ]
      }
     ],
     "prompt_number": 241
    },
    {
     "cell_type": "code",
     "collapsed": false,
     "input": [
      "grad_jv0"
     ],
     "language": "python",
     "metadata": {},
     "outputs": [
      {
       "metadata": {},
       "output_type": "pyout",
       "prompt_number": 242,
       "text": [
        "array([  829.60425628, -4253.41005323,  2796.92441652])"
       ]
      }
     ],
     "prompt_number": 242
    },
    {
     "cell_type": "code",
     "collapsed": false,
     "input": [
      "trgles.vertex_df.is_active_vert"
     ],
     "language": "python",
     "metadata": {},
     "outputs": [
      {
       "metadata": {},
       "output_type": "pyout",
       "prompt_number": 248,
       "text": [
        "Int64Index([2, 3, 4, 10, 51, 52, 53, 60, 61, 62, 63, 64, 65, 66, 67, 68, 69, 70, 71, 72, 73, 74, 75, 83, 86, 143, 144, 145, 146, 148, 149], dtype='int64')"
       ]
      }
     ],
     "prompt_number": 248
    },
    {
     "cell_type": "code",
     "collapsed": false,
     "input": [
      "print((grad_jv0 - apical_forces).loc[64])\n",
      "print(grad_v.loc[64])"
     ],
     "language": "python",
     "metadata": {},
     "outputs": [
      {
       "output_type": "stream",
       "stream": "stdout",
       "text": [
        "grad_ixs     -5156.358307\n",
        "grad_wys     10197.981951\n",
        "grad_zeds    12019.700999\n",
        "Name: 64, dtype: float64\n",
        "gixs    -2044.956339\n",
        "gwys    -5444.092038\n",
        "gzeds    2752.385818\n",
        "Name: 64, dtype: float64\n"
       ]
      }
     ],
     "prompt_number": 210
    },
    {
     "cell_type": "code",
     "collapsed": false,
     "input": [
      "(grad_i2 - (grad_c+grad_t)).loc[64]"
     ],
     "language": "python",
     "metadata": {},
     "outputs": [
      {
       "metadata": {},
       "output_type": "pyout",
       "prompt_number": 211,
       "text": [
        "gixs    -2044.956339\n",
        "gwys    -5444.092038\n",
        "gzeds    2752.385818\n",
        "Name: 64, dtype: float64"
       ]
      }
     ],
     "prompt_number": 211
    },
    {
     "cell_type": "code",
     "collapsed": false,
     "input": [
      "t_vgrad"
     ],
     "language": "python",
     "metadata": {},
     "outputs": [
      {
       "metadata": {},
       "output_type": "pyout",
       "prompt_number": 224,
       "text": [
        "array([-2017.73208726, -5437.1611037 ,  2752.3858182 ])"
       ]
      }
     ],
     "prompt_number": 224
    },
    {
     "cell_type": "code",
     "collapsed": false,
     "input": [
      "trgles.vertex_df.prefered_vol.loc[3]"
     ],
     "language": "python",
     "metadata": {},
     "outputs": [
      {
       "metadata": {},
       "output_type": "pyout",
       "prompt_number": 234,
       "text": [
        "432.0"
       ]
      }
     ],
     "prompt_number": 234
    },
    {
     "cell_type": "code",
     "collapsed": false,
     "input": [
      "eptm.cells.prefered_vol[mother_cell]"
     ],
     "language": "python",
     "metadata": {},
     "outputs": [
      {
       "metadata": {},
       "output_type": "pyout",
       "prompt_number": 235,
       "text": [
        "432.0"
       ]
      }
     ],
     "prompt_number": 235
    },
    {
     "cell_type": "code",
     "collapsed": false,
     "input": [
      "t_vgrad + v_grad_cell + grad_a_e + grad_v_e"
     ],
     "language": "python",
     "metadata": {},
     "outputs": [
      {
       "metadata": {},
       "output_type": "pyout",
       "prompt_number": 233,
       "text": [
        "array([  3879.3784868 , -34451.83547787,  17750.42794472])"
       ]
      }
     ],
     "prompt_number": 233
    },
    {
     "cell_type": "code",
     "collapsed": false,
     "input": [
      "(grad_c+grad_t).loc[64]"
     ],
     "language": "python",
     "metadata": {},
     "outputs": [
      {
       "metadata": {},
       "output_type": "pyout",
       "prompt_number": 212,
       "text": [
        "gixs      5985.962563\n",
        "gwys    -14451.392004\n",
        "gzeds    -9222.776582\n",
        "Name: 64, dtype: float64"
       ]
      }
     ],
     "prompt_number": 212
    },
    {
     "cell_type": "code",
     "collapsed": false,
     "input": [],
     "language": "python",
     "metadata": {},
     "outputs": [
      {
       "metadata": {},
       "output_type": "pyout",
       "prompt_number": 227,
       "text": [
        "array([ -2.72242519e+01,  -6.93093404e+00,  -2.73904620e-13])"
       ]
      }
     ],
     "prompt_number": 227
    },
    {
     "cell_type": "code",
     "collapsed": false,
     "input": [
      "grad_a_e + t_vgrad + v_grad_cell"
     ],
     "language": "python",
     "metadata": {},
     "outputs": [
      {
       "metadata": {},
       "output_type": "pyout",
       "prompt_number": 230,
       "text": [
        "array([  3941.0062241 , -19895.48404195,  -6470.39076378])"
       ]
      }
     ],
     "prompt_number": 230
    },
    {
     "cell_type": "code",
     "collapsed": false,
     "input": [
      "eptm.graph.set_vertex_filter(eptm.is_local_vert)\n",
      "eptm.graph.set_edge_filter(eptm.is_local_edge)\n",
      "\n",
      "eptm.update_gradient()\n",
      "\n",
      "eptm.graph.set_vertex_filter(None)\n",
      "eptm.graph.set_edge_filter(None)\n"
     ],
     "language": "python",
     "metadata": {},
     "outputs": [],
     "prompt_number": 218
    },
    {
     "cell_type": "code",
     "collapsed": false,
     "input": [
      "eptm.grad_ix[jv0]"
     ],
     "language": "python",
     "metadata": {},
     "outputs": [
      {
       "metadata": {},
       "output_type": "pyout",
       "prompt_number": 219,
       "text": [
        "829.6042562812175"
       ]
      }
     ],
     "prompt_number": 219
    },
    {
     "cell_type": "code",
     "collapsed": false,
     "input": [
      "\n",
      "#print(grad_i.loc[jv0_idx])\n",
      "\n",
      "print(grad_i2.loc[jv0_idx])\n",
      "print(grad_jv0)"
     ],
     "language": "python",
     "metadata": {},
     "outputs": [
      {
       "output_type": "stream",
       "stream": "stdout",
       "text": [
        "gixs      3941.006224\n",
        "gwys    -19895.484042\n",
        "gzeds    -6470.390764\n",
        "Name: 64, dtype: float64\n",
        "[  829.60425628 -4253.41005323  2796.92441652]\n"
       ]
      }
     ],
     "prompt_number": 220
    },
    {
     "cell_type": "markdown",
     "metadata": {},
     "source": [
      "-7.455193544455806\n"
     ]
    },
    {
     "cell_type": "markdown",
     "metadata": {},
     "source": [
      "We have:\n",
      "$$\n",
      "\\begin{aligned}\n",
      "\\sum_\\alpha K (V_\\alpha - V_0) \\mathbf{\\nabla_i} V_\\alpha  &= \n",
      "   \\sum_\\alpha K (V_\\alpha - V_0)\\biggl[\\\\\n",
      "   &\\quad \\frac{h_\\alpha}{2\\nu_\\alpha} \\sum_{km}\\mathbf{u}_{\\alpha km}\n",
      "   \\times \\mathbf{r}_{km}c_{\\alpha k}c_{\\alpha m}c_{km}c_{\\alpha i}\\\\\n",
      "   &\\quad + \\sum_{j}\\left(A_{\\alpha ij}\\frac{\\mathbf{r_i}}{2\\rho_i} \n",
      "   + \\frac{h_\\alpha}{2}\\mathbf{r}_{\\alpha j} \\times \\mathbf{u}_{\\alpha ij} c_{\\alpha j}c_{ij}\\right)\n",
      "   + \\sum_{k}\\left(A_{\\alpha ki}\\frac{\\mathbf{r_i}}{2\\rho_i} -\n",
      "    \\frac{h_\\alpha}{2}\\mathbf{r}_{\\alpha k} \\times \\mathbf{u}_{\\alpha ki} c_{\\alpha j}c_{ki}\\right)\n",
      "   \\biggr]\\\\\n",
      "   &= \\sum_\\alpha K (V_\\alpha - V_0)\\biggl[\\\\\n",
      "   &\\quad \\frac{h_\\alpha}{2\\nu_\\alpha} \\sum_{km}\\mathbf{u}_{\\alpha km}\n",
      "   \\times \\mathbf{r}_{km}c_{\\alpha k}c_{\\alpha m}c_{km}c_{\\alpha i}\\\\\n",
      "   &\\quad + \\sum_{j}\\left(A_{\\alpha ij}\\frac{\\mathbf{r_i}}{2\\rho_i} \n",
      "   - \\frac{h_\\alpha}{2} \\mathbf{u}_{\\alpha ij} \\times \\mathbf{r}_{\\alpha j}  c_{\\alpha j}c_{ij}\\right)\n",
      "   + \\sum_{k}\\left(A_{\\alpha ki}\\frac{\\mathbf{r_i}}{2\\rho_i}\n",
      "   + \\frac{h_\\alpha}{2} \\mathbf{u}_{\\alpha ki} \\times \\mathbf{r}_{\\alpha k} c_{\\alpha j}c_{ki}\\right)\n",
      "   \\biggr]\\\\\n",
      "\\end{aligned}\n",
      "$$\n"
     ]
    },
    {
     "cell_type": "code",
     "collapsed": false,
     "input": [
      "%matplotlib nbagg\n",
      "lj.plot_2pannels_gradients(eptm, cell_kwargs={'j_text':True, 'c_text':True},)"
     ],
     "language": "python",
     "metadata": {},
     "outputs": [
      {
       "javascript": [
        "/* Put everything inside the global mpl namespace */\n",
        "window.mpl = {};\n",
        "\n",
        "mpl.get_websocket_type = function() {\n",
        "    if (typeof(WebSocket) !== 'undefined') {\n",
        "        return WebSocket;\n",
        "    } else if (typeof(MozWebSocket) !== 'undefined') {\n",
        "        return MozWebSocket;\n",
        "    } else {\n",
        "        alert('Your browser does not have WebSocket support.' +\n",
        "              'Please try Chrome, Safari or Firefox \u2265 6. ' +\n",
        "              'Firefox 4 and 5 are also supported but you ' +\n",
        "              'have to enable WebSockets in about:config.');\n",
        "    };\n",
        "}\n",
        "\n",
        "mpl.figure = function(figure_id, websocket, ondownload, parent_element) {\n",
        "    this.id = figure_id;\n",
        "\n",
        "    this.ws = websocket;\n",
        "\n",
        "    this.supports_binary = (this.ws.binaryType != undefined);\n",
        "\n",
        "    if (!this.supports_binary) {\n",
        "        var warnings = document.getElementById(\"mpl-warnings\");\n",
        "        if (warnings) {\n",
        "            warnings.style.display = 'block';\n",
        "            warnings.textContent = (\n",
        "                \"This browser does not support binary websocket messages. \" +\n",
        "                    \"Performance may be slow.\");\n",
        "        }\n",
        "    }\n",
        "\n",
        "    this.imageObj = new Image();\n",
        "\n",
        "    this.context = undefined;\n",
        "    this.message = undefined;\n",
        "    this.canvas = undefined;\n",
        "    this.rubberband_canvas = undefined;\n",
        "    this.rubberband_context = undefined;\n",
        "    this.format_dropdown = undefined;\n",
        "\n",
        "    this.focus_on_mousover = false;\n",
        "\n",
        "    this.root = $('<div/>');\n",
        "    this.root.attr('style', 'display: inline-block');\n",
        "    $(parent_element).append(this.root);\n",
        "\n",
        "    this._init_header(this);\n",
        "    this._init_canvas(this);\n",
        "    this._init_toolbar(this);\n",
        "\n",
        "    var fig = this;\n",
        "\n",
        "    this.waiting = false;\n",
        "\n",
        "    this.ws.onopen =  function () {\n",
        "            fig.send_message(\"supports_binary\", {value: fig.supports_binary});\n",
        "            fig.send_message(\"refresh\", {});\n",
        "        }\n",
        "\n",
        "    this.imageObj.onload = function() {\n",
        "            fig.context.drawImage(fig.imageObj, 0, 0);\n",
        "            fig.waiting = false;\n",
        "        };\n",
        "\n",
        "    this.imageObj.onunload = function() {\n",
        "        this.ws.close();\n",
        "    }\n",
        "\n",
        "    this.ws.onmessage = this._make_on_message_function(this);\n",
        "\n",
        "    this.ondownload = ondownload;\n",
        "}\n",
        "\n",
        "mpl.figure.prototype._init_header = function() {\n",
        "    var titlebar = $(\n",
        "        '<div class=\"ui-dialog-titlebar ui-widget-header ui-corner-all ' +\n",
        "        'ui-helper-clearfix\"/>');\n",
        "    var titletext = $(\n",
        "        '<div class=\"ui-dialog-title\" style=\"width: 100%; ' +\n",
        "        'text-align: center; padding: 3px;\"/>');\n",
        "    titlebar.append(titletext)\n",
        "    this.root.append(titlebar);\n",
        "    this.header = titletext[0];\n",
        "}\n",
        "\n",
        "mpl.figure.prototype._init_canvas = function() {\n",
        "    var fig = this;\n",
        "\n",
        "    var canvas_div = $('<div/>');\n",
        "    canvas_div.resizable({ resize: mpl.debounce_resize(\n",
        "        function(event, ui) { fig.request_resize(ui.size.width, ui.size.height); }\n",
        "        , 50)});\n",
        "\n",
        "    canvas_div.attr('style', 'position: relative; clear: both;');\n",
        "    this.root.append(canvas_div);\n",
        "\n",
        "    var canvas = $('<canvas/>');\n",
        "    canvas.addClass('mpl-canvas');\n",
        "    canvas.attr('style', \"left: 0; top: 0; z-index: 0;\")\n",
        "\n",
        "    function canvas_keyboard_event(event) {\n",
        "        return fig.key_event(event, event['data']);\n",
        "    }\n",
        "\n",
        "    this.canvas = canvas[0];\n",
        "    this.context = canvas[0].getContext(\"2d\");\n",
        "\n",
        "    var rubberband = $('<canvas/>');\n",
        "    rubberband.attr('style', \"position: absolute; left: 0; top: 0; z-index: 1;\")\n",
        "    function mouse_event_fn(event) {\n",
        "        return fig.mouse_event(event, event['data']);\n",
        "    }\n",
        "    rubberband.mousedown('button_press', mouse_event_fn);\n",
        "    rubberband.mouseup('button_release', mouse_event_fn);\n",
        "    // Throttle sequential mouse events to 1 every 20ms.\n",
        "    rubberband.mousemove('motion_notify', mouse_event_fn);\n",
        "\n",
        "    canvas_div.append(canvas);\n",
        "    canvas_div.append(rubberband);\n",
        "\n",
        "    canvas_div.keydown('key_press', canvas_keyboard_event);\n",
        "    canvas_div.keydown('key_release', canvas_keyboard_event);\n",
        "\n",
        "    this.rubberband = rubberband;\n",
        "    this.rubberband_canvas = rubberband[0];\n",
        "    this.rubberband_context = rubberband[0].getContext(\"2d\");\n",
        "    this.rubberband_context.strokeStyle = \"#000000\";\n",
        "\n",
        "    this._resize_canvas = function(width, height) {\n",
        "        // Keep the size of the canvas, canvas container, and rubber band\n",
        "        // canvas in synch.\n",
        "        canvas_div.css('width', width)\n",
        "        canvas_div.css('height', height)\n",
        "\n",
        "        canvas.attr('width', width);\n",
        "        canvas.attr('height', height);\n",
        "\n",
        "        rubberband.attr('width', width);\n",
        "        rubberband.attr('height', height);\n",
        "    }\n",
        "\n",
        "    // Set the figure to an initial 600x600px, this will subsequently be updated\n",
        "    // upon first draw.\n",
        "    this._resize_canvas(600, 600);\n",
        "}\n",
        "\n",
        "mpl.figure.prototype._init_toolbar = function() {\n",
        "    var fig = this;\n",
        "\n",
        "    var nav_element = $('<div/>')\n",
        "    nav_element.attr('style', 'width: 100%');\n",
        "    this.root.append(nav_element);\n",
        "\n",
        "    // Define a callback function for later on.\n",
        "    function toolbar_event(event) {\n",
        "        return fig.toolbar_button_onclick(event['data']);\n",
        "    }\n",
        "    function toolbar_mouse_event(event) {\n",
        "        return fig.toolbar_button_onmouseover(event['data']);\n",
        "    }\n",
        "\n",
        "    for(var toolbar_ind in mpl.toolbar_items){\n",
        "        var name = mpl.toolbar_items[toolbar_ind][0];\n",
        "        var tooltip = mpl.toolbar_items[toolbar_ind][1];\n",
        "        var image = mpl.toolbar_items[toolbar_ind][2];\n",
        "        var method_name = mpl.toolbar_items[toolbar_ind][3];\n",
        "\n",
        "        if (!name) {\n",
        "            // put a spacer in here.\n",
        "            continue;\n",
        "        }\n",
        "        var button = $('<button/>');\n",
        "        button.addClass('ui-button ui-widget ui-state-default ui-corner-all ' +\n",
        "                        'ui-button-icon-only');\n",
        "        button.attr('role', 'button');\n",
        "        button.attr('aria-disabled', 'false');\n",
        "        button.click(method_name, toolbar_event);\n",
        "        button.mouseover(tooltip, toolbar_mouse_event);\n",
        "\n",
        "        var icon_img = $('<span/>');\n",
        "        icon_img.addClass('ui-button-icon-primary ui-icon');\n",
        "        icon_img.addClass(image);\n",
        "        icon_img.addClass('ui-corner-all');\n",
        "\n",
        "        var tooltip_span = $('<span/>');\n",
        "        tooltip_span.addClass('ui-button-text');\n",
        "        tooltip_span.html(tooltip);\n",
        "\n",
        "        button.append(icon_img);\n",
        "        button.append(tooltip_span);\n",
        "\n",
        "        nav_element.append(button);\n",
        "    }\n",
        "\n",
        "    var fmt_picker_span = $('<span/>');\n",
        "\n",
        "    var fmt_picker = $('<select/>');\n",
        "    fmt_picker.addClass('mpl-toolbar-option ui-widget ui-widget-content');\n",
        "    fmt_picker_span.append(fmt_picker);\n",
        "    nav_element.append(fmt_picker_span);\n",
        "    this.format_dropdown = fmt_picker[0];\n",
        "\n",
        "    for (var ind in mpl.extensions) {\n",
        "        var fmt = mpl.extensions[ind];\n",
        "        var option = $(\n",
        "            '<option/>', {selected: fmt === mpl.default_extension}).html(fmt);\n",
        "        fmt_picker.append(option)\n",
        "    }\n",
        "\n",
        "    // Add hover states to the ui-buttons\n",
        "    $( \".ui-button\" ).hover(\n",
        "        function() { $(this).addClass(\"ui-state-hover\");},\n",
        "        function() { $(this).removeClass(\"ui-state-hover\");}\n",
        "    );\n",
        "\n",
        "    var status_bar = $('<span class=\"mpl-message\"/>');\n",
        "    nav_element.append(status_bar);\n",
        "    this.message = status_bar[0];\n",
        "}\n",
        "\n",
        "mpl.figure.prototype.request_resize = function(x_pixels, y_pixels) {\n",
        "    // Request matplotlib to resize the figure. Matplotlib will then trigger a resize in the client,\n",
        "    // which will in turn request a refresh of the image.\n",
        "    this.send_message('resize', {'width': x_pixels, 'height': y_pixels});\n",
        "}\n",
        "\n",
        "mpl.figure.prototype.send_message = function(type, properties) {\n",
        "    properties['type'] = type;\n",
        "    properties['figure_id'] = this.id;\n",
        "    this.ws.send(JSON.stringify(properties));\n",
        "}\n",
        "\n",
        "mpl.figure.prototype.send_draw_message = function() {\n",
        "    if (!this.waiting) {\n",
        "        this.waiting = true;\n",
        "        this.ws.send(JSON.stringify({type: \"draw\", figure_id: this.id}));\n",
        "    }\n",
        "}\n",
        "\n",
        "mpl.figure.prototype.handle_resize = function(fig, msg) {\n",
        "    var size = msg['size'];\n",
        "    if (size[0] != fig.canvas.width || size[1] != fig.canvas.height) {\n",
        "        fig._resize_canvas(size[0], size[1]);\n",
        "        fig.send_message(\"refresh\", {});\n",
        "    };\n",
        "}\n",
        "\n",
        "mpl.figure.prototype.handle_rubberband = function(fig, msg) {\n",
        "    var x0 = msg['x0'];\n",
        "    var y0 = fig.canvas.height - msg['y0'];\n",
        "    var x1 = msg['x1'];\n",
        "    var y1 = fig.canvas.height - msg['y1'];\n",
        "    x0 = Math.floor(x0) + 0.5;\n",
        "    y0 = Math.floor(y0) + 0.5;\n",
        "    x1 = Math.floor(x1) + 0.5;\n",
        "    y1 = Math.floor(y1) + 0.5;\n",
        "    var min_x = Math.min(x0, x1);\n",
        "    var min_y = Math.min(y0, y1);\n",
        "    var width = Math.abs(x1 - x0);\n",
        "    var height = Math.abs(y1 - y0);\n",
        "\n",
        "    fig.rubberband_context.clearRect(\n",
        "        0, 0, fig.canvas.width, fig.canvas.height);\n",
        "\n",
        "    fig.rubberband_context.strokeRect(min_x, min_y, width, height);\n",
        "}\n",
        "\n",
        "mpl.figure.prototype.handle_figure_label = function(fig, msg) {\n",
        "    // Updates the figure title.\n",
        "    fig.header.textContent = msg['label'];\n",
        "}\n",
        "\n",
        "mpl.figure.prototype.handle_cursor = function(fig, msg) {\n",
        "    var cursor = msg['cursor'];\n",
        "    switch(cursor)\n",
        "    {\n",
        "    case 0:\n",
        "        cursor = 'pointer';\n",
        "        break;\n",
        "    case 1:\n",
        "        cursor = 'default';\n",
        "        break;\n",
        "    case 2:\n",
        "        cursor = 'crosshair';\n",
        "        break;\n",
        "    case 3:\n",
        "        cursor = 'move';\n",
        "        break;\n",
        "    }\n",
        "    fig.rubberband_canvas.style.cursor = cursor;\n",
        "}\n",
        "\n",
        "mpl.figure.prototype.handle_message = function(fig, msg) {\n",
        "    fig.message.textContent = msg['message'];\n",
        "}\n",
        "\n",
        "mpl.figure.prototype.handle_draw = function(fig, msg) {\n",
        "    // Request the server to send over a new figure.\n",
        "    fig.send_draw_message();\n",
        "}\n",
        "\n",
        "mpl.figure.prototype.updated_canvas_event = function() {\n",
        "    // Called whenever the canvas gets updated.\n",
        "    this.send_message(\"ack\", {});\n",
        "}\n",
        "\n",
        "// A function to construct a web socket function for onmessage handling.\n",
        "// Called in the figure constructor.\n",
        "mpl.figure.prototype._make_on_message_function = function(fig) {\n",
        "    return function socket_on_message(evt) {\n",
        "        if (evt.data instanceof Blob) {\n",
        "            /* FIXME: We get \"Resource interpreted as Image but\n",
        "             * transferred with MIME type text/plain:\" errors on\n",
        "             * Chrome.  But how to set the MIME type?  It doesn't seem\n",
        "             * to be part of the websocket stream */\n",
        "            evt.data.type = \"image/png\";\n",
        "\n",
        "            /* Free the memory for the previous frames */\n",
        "            if (fig.imageObj.src) {\n",
        "                (window.URL || window.webkitURL).revokeObjectURL(\n",
        "                    fig.imageObj.src);\n",
        "            }\n",
        "            fig.imageObj.src = (window.URL || window.webkitURL).createObjectURL(\n",
        "                evt.data);\n",
        "            fig.updated_canvas_event();\n",
        "            return;\n",
        "        }\n",
        "        else if (typeof evt.data === 'string' && evt.data.slice(0, 21) == \"data:image/png;base64\") {\n",
        "            fig.imageObj.src = evt.data;\n",
        "            fig.updated_canvas_event();\n",
        "            return;\n",
        "        }\n",
        "\n",
        "        var msg = JSON.parse(evt.data);\n",
        "        var msg_type = msg['type'];\n",
        "\n",
        "        // Call the  \"handle_{type}\" callback, which takes\n",
        "        // the figure and JSON message as its only arguments.\n",
        "        try {\n",
        "            var callback = fig[\"handle_\" + msg_type];\n",
        "        } catch (e) {\n",
        "            console.log(\"No handler for the '\" + msg_type + \"' message type: \", msg);\n",
        "            return;\n",
        "        }\n",
        "\n",
        "        if (callback) {\n",
        "            try {\n",
        "                // console.log(\"Handling '\" + msg_type + \"' message: \", msg);\n",
        "                callback(fig, msg);\n",
        "            } catch (e) {\n",
        "                console.log(\"Exception inside the 'handler_\" + msg_type + \"' callback:\", e, e.stack, msg);\n",
        "            }\n",
        "        }\n",
        "    };\n",
        "}\n",
        "\n",
        "// from http://stackoverflow.com/questions/1114465/getting-mouse-location-in-canvas\n",
        "mpl.findpos = function(e) {\n",
        "    //this section is from http://www.quirksmode.org/js/events_properties.html\n",
        "    var targ;\n",
        "    if (!e)\n",
        "        e = window.event;\n",
        "    if (e.target)\n",
        "        targ = e.target;\n",
        "    else if (e.srcElement)\n",
        "        targ = e.srcElement;\n",
        "    if (targ.nodeType == 3) // defeat Safari bug\n",
        "        targ = targ.parentNode;\n",
        "\n",
        "    // jQuery normalizes the pageX and pageY\n",
        "    // pageX,Y are the mouse positions relative to the document\n",
        "    // offset() returns the position of the element relative to the document\n",
        "    var x = e.pageX - $(targ).offset().left;\n",
        "    var y = e.pageY - $(targ).offset().top;\n",
        "\n",
        "    return {\"x\": x, \"y\": y};\n",
        "};\n",
        "\n",
        "mpl.figure.prototype.mouse_event = function(event, name) {\n",
        "    var canvas_pos = mpl.findpos(event)\n",
        "\n",
        "    if (this.focus_on_mouseover && name === 'motion_notify')\n",
        "    {\n",
        "        this.canvas.focus();\n",
        "    }\n",
        "\n",
        "    var x = canvas_pos.x;\n",
        "    var y = canvas_pos.y;\n",
        "\n",
        "    this.send_message(name, {x: x, y: y, button: event.button});\n",
        "\n",
        "    /* This prevents the web browser from automatically changing to\n",
        "     * the text insertion cursor when the button is pressed.  We want\n",
        "     * to control all of the cursor setting manually through the\n",
        "     * 'cursor' event from matplotlib */\n",
        "    event.preventDefault();\n",
        "    return false;\n",
        "}\n",
        "\n",
        "mpl.figure.prototype.key_event = function(event, name) {\n",
        "    /* Don't fire events just when a modifier is changed.  Modifiers are\n",
        "       sent along with other keys. */\n",
        "    if (event.keyCode >= 16 && event.keyCode <= 20) {\n",
        "        return;\n",
        "    }\n",
        "\n",
        "    value = '';\n",
        "    if (event.ctrlKey) {\n",
        "        value += \"ctrl+\";\n",
        "    }\n",
        "    if (event.altKey) {\n",
        "        value += \"alt+\";\n",
        "    }\n",
        "    value += String.fromCharCode(event.keyCode).toLowerCase();\n",
        "\n",
        "    this.send_message(name, {key: value});\n",
        "}\n",
        "\n",
        "mpl.figure.prototype.toolbar_button_onclick = function(name) {\n",
        "    if (name == 'download') {\n",
        "        var format_dropdown = this.format_dropdown;\n",
        "        var format = format_dropdown.options[format_dropdown.selectedIndex].value;\n",
        "        this.ondownload(this, format);\n",
        "    } else {\n",
        "        this.send_message(\"toolbar_button\", {name: name});\n",
        "    }\n",
        "};\n",
        "\n",
        "mpl.figure.prototype.toolbar_button_onmouseover = function(tooltip) {\n",
        "    this.message.textContent = tooltip;\n",
        "};\n",
        "\n",
        "mpl.debounce_event = function(func, time){\n",
        "    var timer;\n",
        "    return function(event){\n",
        "        clearTimeout(timer);\n",
        "        timer = setTimeout(function(){ func(event); }, time);\n",
        "    };\n",
        "}\n",
        "\n",
        "mpl.debounce_resize = function(func, time){\n",
        "    var timer;\n",
        "    return function(event, ui){\n",
        "        clearTimeout(timer);\n",
        "        timer = setTimeout(function(){ func(event, ui); }, time);\n",
        "    };\n",
        "}\n",
        "mpl.toolbar_items = [[\"Home\", \"Reset original view\", \"icon-home\", \"home\"], [\"Back\", \"Back to  previous view\", \"icon-arrow-left\", \"back\"], [\"Forward\", \"Forward to next view\", \"icon-arrow-right\", \"forward\"], [\"\", \"\", \"\", \"\"], [\"Pan\", \"Pan axes with left mouse, zoom with right\", \"icon-move\", \"pan\"], [\"Zoom\", \"Zoom to rectangle\", \"icon-check-empty\", \"zoom\"], [\"\", \"\", \"\", \"\"]];\n",
        "\n",
        "mpl.extensions = [\"eps\", \"jpeg\", \"pgf\", \"pdf\", \"png\", \"ps\", \"raw\", \"svg\", \"tif\"];\n",
        "\n",
        "mpl.default_extension = \"svg\";var comm_websocket_adapter = function(comm) {\n",
        "    // Create a \"websocket\"-like object which calls the given IPython comm\n",
        "    // object with the appropriate methods. Currently this is a non binary\n",
        "    // socket, so there is still some room for performance tuning.\n",
        "    var ws = {};\n",
        "\n",
        "    ws.close = function() {\n",
        "        comm.close()\n",
        "    };\n",
        "    ws.send = function(m) {\n",
        "        //console.log('sending', m);\n",
        "        comm.send(m);\n",
        "    };\n",
        "    // Register the callback with on_msg.\n",
        "    comm.on_msg(function(msg) {\n",
        "        //console.log('receiving', msg['content']['data'], msg);\n",
        "        // Pass the mpl event to the overriden (by mpl) onmessage function.\n",
        "        ws.onmessage(msg['content']['data'])\n",
        "    });\n",
        "    return ws;\n",
        "}\n",
        "\n",
        "mpl.mpl_figure_comm = function(comm, msg) {\n",
        "    // This is the function which gets called when the mpl process\n",
        "    // starts-up an IPython Comm through the \"matplotlib\" channel.\n",
        "\n",
        "    var id = msg.content.data.id;\n",
        "    var element = $(\"#\" + id);\n",
        "    var ws_proxy = comm_websocket_adapter(comm)\n",
        "\n",
        "    var fig = new mpl.figure(id, ws_proxy,\n",
        "                           function() { },\n",
        "                           element.get(0));\n",
        "\n",
        "    // Call onopen now - mpl needs it, as it is assuming we've passed it a real\n",
        "    // web socket which is closed, not our websocket->open comm proxy.\n",
        "    ws_proxy.onopen();\n",
        "\n",
        "    fig.parent_element = element.get(0);\n",
        "    fig.cell_info = mpl.find_output_cell(\"<div id='\" + id + \"'></div>\");\n",
        "\n",
        "    var output_index = fig.cell_info[2]\n",
        "    var cell = fig.cell_info[0];\n",
        "\n",
        "    // Disable right mouse context menu.\n",
        "    $(fig.rubberband_canvas).bind(\"contextmenu\",function(e){\n",
        "              return false;\n",
        "    });\n",
        "\n",
        "};\n",
        "\n",
        "mpl.figure.prototype.handle_close = function(fig, msg) {\n",
        "    // Update the output cell to use the data from the current canvas.\n",
        "    fig.push_to_output();\n",
        "    var dataURL = fig.canvas.toDataURL();\n",
        "    $(fig.parent_element).html('<img src=\"' + dataURL + '\">');\n",
        "    fig.send_message('closing', {});\n",
        "    fig.ws.close()\n",
        "}\n",
        "\n",
        "mpl.figure.prototype.push_to_output = function(remove_interactive) {\n",
        "    var dataURL = this.canvas.toDataURL();\n",
        "    this.cell_info[1]['text/html'] = '<img src=\"' + dataURL + '\">';\n",
        "}\n",
        "\n",
        "mpl.figure.prototype.updated_canvas_event = function() {\n",
        "    // Tell IPython that the notebook contents must change.\n",
        "    IPython.notebook.set_dirty(true);\n",
        "    this.send_message(\"ack\", {});\n",
        "    var fig = this;\n",
        "    // Wait a second, then push the new image to the DOM so\n",
        "    // that it is saved nicely (might be nice to debounce this).\n",
        "    setTimeout(function () { fig.push_to_output() }, 1000);\n",
        "}\n",
        "\n",
        "mpl.figure.prototype._init_toolbar = function() {\n",
        "    var fig = this;\n",
        "\n",
        "    var nav_element = $('<div/>')\n",
        "    nav_element.attr('style', 'width: 100%');\n",
        "    this.root.append(nav_element);\n",
        "\n",
        "    // Define a callback function for later on.\n",
        "    function toolbar_event(event) {\n",
        "        return fig.toolbar_button_onclick(event['data']);\n",
        "    }\n",
        "    function toolbar_mouse_event(event) {\n",
        "        return fig.toolbar_button_onmouseover(event['data']);\n",
        "    }\n",
        "\n",
        "    for(var toolbar_ind in mpl.toolbar_items){\n",
        "        var name = mpl.toolbar_items[toolbar_ind][0];\n",
        "        var tooltip = mpl.toolbar_items[toolbar_ind][1];\n",
        "        var image = mpl.toolbar_items[toolbar_ind][2];\n",
        "        var method_name = mpl.toolbar_items[toolbar_ind][3];\n",
        "\n",
        "        if (!name) { continue; };\n",
        "\n",
        "        var button = $('<button class=\"btn btn-default\" href=\"#\" title=\"' + name + '\"><i class=\"fa ' + image + ' fa-lg\"></i></button>');\n",
        "        button.click(method_name, toolbar_event);\n",
        "        button.mouseover(tooltip, toolbar_mouse_event);\n",
        "        nav_element.append(button);\n",
        "    }\n",
        "\n",
        "    // Add the status bar.\n",
        "    var status_bar = $('<span class=\"mpl-message\" style=\"text-align:right; float: right;\"/>');\n",
        "    nav_element.append(status_bar);\n",
        "    this.message = status_bar[0];\n",
        "\n",
        "    // Add the close button to the window.\n",
        "    var buttongrp = $('<div class=\"btn-group inline pull-right\"></div>');\n",
        "    var button = $('<button class=\"btn btn-mini btn-danger\" href=\"#\" title=\"Close figure\"><i class=\"fa icon-remove icon-large\"></i></button>');\n",
        "    button.click(function (evt) { fig.handle_close(fig, {}); } );\n",
        "    button.mouseover('Close figure', toolbar_mouse_event);\n",
        "    buttongrp.append(button);\n",
        "    var titlebar = this.root.find($('.ui-dialog-titlebar'));\n",
        "    titlebar.prepend(buttongrp);\n",
        "}\n",
        "\n",
        "mpl.find_output_cell = function(html_output) {\n",
        "    // Return the cell and output element which can be found *uniquely* in the notebook.\n",
        "    // Note - this is a bit hacky, but it is done because the \"notebook_saving.Notebook\"\n",
        "    // IPython event is triggered only after the cells have been serialised, which for\n",
        "    // our purposes (turning an active figure into a static one), is too late.\n",
        "    var cells = IPython.notebook.get_cells();\n",
        "    var ncells = cells.length;\n",
        "    for (var i=0; i<ncells; i++) {\n",
        "        var cell = cells[i];\n",
        "        if (cell.cell_type == 'code'){\n",
        "            for (var j=0; j<cell.output_area.outputs.length; j++) {\n",
        "                var data = cell.output_area.outputs[j];\n",
        "                if (cell.output_area.outputs[j]['text/html'] == html_output) {\n",
        "                    var output = cell.output_area.outputs[j];\n",
        "                    return [cell, output, j];\n",
        "                }\n",
        "            }\n",
        "        }\n",
        "    }\n",
        "}\n",
        "\n",
        "// Register the function which deals with the matplotlib target/channel.\n",
        "// The kernel may be null if the page has been refreshed.\n",
        "if (IPython.notebook.kernel != null) {\n",
        "    IPython.notebook.kernel.comm_manager.register_target('matplotlib', mpl.mpl_figure_comm);\n",
        "}\n"
       ],
       "metadata": {},
       "output_type": "display_data",
       "text": [
        "<IPython.core.display.Javascript at 0x7f0bc024c588>"
       ]
      },
      {
       "html": [
        "<img src=\"data:image/png;base64,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\">"
       ],
       "metadata": {},
       "output_type": "display_data",
       "text": [
        "<IPython.core.display.HTML at 0x7f0bc00f27b8>"
       ]
      },
      {
       "metadata": {},
       "output_type": "pyout",
       "prompt_number": 198,
       "text": [
        "(<matplotlib.axes._subplots.AxesSubplot at 0x7f0ba3df7b38>,\n",
        " <matplotlib.axes._subplots.AxesSubplot at 0x7f0ba3cd3b00>)"
       ]
      }
     ],
     "prompt_number": 198
    },
    {
     "cell_type": "code",
     "collapsed": false,
     "input": [],
     "language": "python",
     "metadata": {},
     "outputs": []
    }
   ],
   "metadata": {}
  }
 ]
}