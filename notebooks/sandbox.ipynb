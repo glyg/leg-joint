{
 "metadata": {
  "name": "sandbox"
 },
 "nbformat": 3,
 "nbformat_minor": 0,
 "worksheets": [
  {
   "cells": [
    {
     "cell_type": "code",
     "collapsed": false,
     "input": [
      "%run nb_init.py"
     ],
     "language": "python",
     "metadata": {},
     "outputs": [
      {
       "output_type": "stream",
       "stream": "stderr",
       "text": [
        "/usr/local/lib/python2.7/dist-packages/matplotlib-1.3.x-py2.7-linux-i686.egg/mpl_toolkits/__init__.py:2: UserWarning: Module dateutil was already imported from /usr/local/lib/python2.7/dist-packages/matplotlib-1.3.x-py2.7-linux-i686.egg/dateutil/__init__.pyc, but /usr/lib/python2.7/dist-packages is being added to sys.path\n",
        "  __import__('pkg_resources').declare_namespace(__name__)\n"
       ]
      }
     ],
     "prompt_number": 1
    },
    {
     "cell_type": "code",
     "collapsed": false,
     "input": [
      "eptm = lj.Epithelium(graphXMLfile='../saved_graphs/xml/generation2012-10-17T12:52:54.173829.xml',\n",
      "                     paramfile='../default/few_big_cells.xml')"
     ],
     "language": "python",
     "metadata": {},
     "outputs": [
      {
       "output_type": "stream",
       "stream": "stdout",
       "text": [
        "Initial cells\n",
        "Initial junctions\n"
       ]
      }
     ],
     "prompt_number": 2
    },
    {
     "cell_type": "code",
     "collapsed": false,
     "input": [
      "ax = lj.draw.plot_cells_sz(eptm, text=True)"
     ],
     "language": "python",
     "metadata": {},
     "outputs": [],
     "prompt_number": 3
    },
    {
     "cell_type": "code",
     "collapsed": false,
     "input": [
      "%run ../src/sandbox.py"
     ],
     "language": "python",
     "metadata": {},
     "outputs": [],
     "prompt_number": 4
    },
    {
     "cell_type": "code",
     "collapsed": false,
     "input": [
      "import skimage as si\n",
      "import skimage.io as io\n",
      "import scipy.ndimage as ndi  "
     ],
     "language": "python",
     "metadata": {},
     "outputs": [],
     "prompt_number": 12
    },
    {
     "cell_type": "code",
     "collapsed": false,
     "input": [
      "img0.shape"
     ],
     "language": "python",
     "metadata": {},
     "outputs": [
      {
       "output_type": "pyout",
       "prompt_number": 16,
       "text": [
        "(600, 600, 4)"
       ]
      }
     ],
     "prompt_number": 16
    },
    {
     "cell_type": "code",
     "collapsed": false,
     "input": [
      "kernel_1c = np.array([[0, 0., 1., 0, 0],\n",
      "                      [0, 1., 2., 1., 0],\n",
      "                      [1, 2, 3, 2, 1],\n",
      "                      [0, 1, 2, 1, 0],\n",
      "                      [0, 0, 1, 0, 0]])\n",
      "kernel_1c /= kernel_1c.sum()\n",
      "\n",
      "kernel = np.zeros((5, 5, 4))\n",
      "kernel[..., 0] = kernel_1c\n",
      "kernel[..., 1] = kernel_1c\n",
      "kernel[..., 2] = kernel_1c\n",
      "\n"
     ],
     "language": "python",
     "metadata": {},
     "outputs": [],
     "prompt_number": 32
    },
    {
     "cell_type": "code",
     "collapsed": false,
     "input": [
      "kernel"
     ],
     "language": "python",
     "metadata": {},
     "outputs": [
      {
       "output_type": "pyout",
       "prompt_number": 33,
       "text": [
        "array([[[ 0.        ,  0.        ,  0.        ,  0.        ],\n",
        "        [ 0.        ,  0.        ,  0.        ,  0.        ],\n",
        "        [ 0.05263158,  0.05263158,  0.05263158,  0.        ],\n",
        "        [ 0.        ,  0.        ,  0.        ,  0.        ],\n",
        "        [ 0.        ,  0.        ,  0.        ,  0.        ]],\n",
        "\n",
        "       [[ 0.        ,  0.        ,  0.        ,  0.        ],\n",
        "        [ 0.05263158,  0.05263158,  0.05263158,  0.        ],\n",
        "        [ 0.10526316,  0.10526316,  0.10526316,  0.        ],\n",
        "        [ 0.05263158,  0.05263158,  0.05263158,  0.        ],\n",
        "        [ 0.        ,  0.        ,  0.        ,  0.        ]],\n",
        "\n",
        "       [[ 0.05263158,  0.05263158,  0.05263158,  0.        ],\n",
        "        [ 0.10526316,  0.10526316,  0.10526316,  0.        ],\n",
        "        [ 0.15789474,  0.15789474,  0.15789474,  0.        ],\n",
        "        [ 0.10526316,  0.10526316,  0.10526316,  0.        ],\n",
        "        [ 0.05263158,  0.05263158,  0.05263158,  0.        ]],\n",
        "\n",
        "       [[ 0.        ,  0.        ,  0.        ,  0.        ],\n",
        "        [ 0.05263158,  0.05263158,  0.05263158,  0.        ],\n",
        "        [ 0.10526316,  0.10526316,  0.10526316,  0.        ],\n",
        "        [ 0.05263158,  0.05263158,  0.05263158,  0.        ],\n",
        "        [ 0.        ,  0.        ,  0.        ,  0.        ]],\n",
        "\n",
        "       [[ 0.        ,  0.        ,  0.        ,  0.        ],\n",
        "        [ 0.        ,  0.        ,  0.        ,  0.        ],\n",
        "        [ 0.05263158,  0.05263158,  0.05263158,  0.        ],\n",
        "        [ 0.        ,  0.        ,  0.        ,  0.        ],\n",
        "        [ 0.        ,  0.        ,  0.        ,  0.        ]]])"
       ]
      }
     ],
     "prompt_number": 33
    },
    {
     "cell_type": "code",
     "collapsed": false,
     "input": [
      "import os\n",
      "dir0 = '../saved_graphs/png/apopto_vr0.90_ctr1.00_rt0.50'\n",
      "\n",
      "all_pngs = os.listdir(dir0)\n",
      "all_3ds = [fname for fname in all_pngs if '3d' in fname]\n",
      "all_3ds.sort()\n",
      "\n",
      "\n",
      "for fname in all_3ds:\n",
      "    img0 = io.imread(os.path.join(dir0, fname))\n",
      "    img1 = (img0 + ndi.convolve(img0, kernel)) / 2.\n",
      "    io.imsave(os.path.join(dir0, 'comp_'+fname), img1)\n",
      "    "
     ],
     "language": "python",
     "metadata": {},
     "outputs": [],
     "prompt_number": 35
    },
    {
     "cell_type": "code",
     "collapsed": false,
     "input": [
      "from skimage import viskskimage"
     ],
     "language": "python",
     "metadata": {},
     "outputs": [],
     "prompt_number": 36
    },
    {
     "cell_type": "code",
     "collapsed": false,
     "input": [],
     "language": "python",
     "metadata": {},
     "outputs": []
    },
    {
     "cell_type": "code",
     "collapsed": false,
     "input": [
      "edge_zeds, edge_sigmas, edge_rhos, raw_dsigmas = create_properties(eptm)\n",
      "\n",
      "eptm.set_edge_state([(eptm.is_junction_edge, False)])\n",
      "eptm.set_vertex_state([(eptm.is_alive, False)])\n",
      "\n",
      "period = 2 * np.pi * edge_rhos.fa\n",
      "\n",
      "abs_ds = np.abs(raw_dsigmas.fa)\n",
      "first_period_dsigma = raw_dsigmas.fa[abs_ds < period / 2.]\n",
      "first_period_ez = edge_zeds.fa[abs_ds < period / 2.]\n",
      "\n",
      "second_period_dsigma = raw_dsigmas.fa[abs_ds > period / 2.]\n",
      "second_period_ez = edge_zeds.fa[abs_ds > period / 2.]\n",
      "    \n",
      "eptm.set_edge_state()\n",
      "eptm.set_vertex_state()\n"
     ],
     "language": "python",
     "metadata": {},
     "outputs": [],
     "prompt_number": 5
    },
    {
     "cell_type": "code",
     "collapsed": false,
     "input": [
      "lj.draw.plot_cells_sz(eptm, text=False)"
     ],
     "language": "python",
     "metadata": {},
     "outputs": [
      {
       "output_type": "pyout",
       "prompt_number": 6,
       "text": [
        "<matplotlib.axes.AxesSubplot at 0xb566b2c>"
       ]
      }
     ],
     "prompt_number": 6
    },
    {
     "cell_type": "code",
     "collapsed": false,
     "input": [
      "figure()\n",
      "eptm.set_edge_state([(eptm.is_junction_edge, False)])\n",
      "eptm.set_vertex_state([(eptm.is_alive, False)])\n",
      "\n",
      "plot(edge_zeds.fa, eptm.edge_lengths.fa, 'ko', alpha=0.8)\n",
      "plot(edge_zeds.fa, np.abs(eptm.dzeds.fa), 'bo')\n",
      "\n",
      "plot(first_period_ez, np.abs(first_period_dsigma), 'ro')\n",
      "plot(second_period_ez, np.abs(second_period_dsigma), 'go')\n"
     ],
     "language": "python",
     "metadata": {},
     "outputs": [
      {
       "output_type": "pyout",
       "prompt_number": 12,
       "text": [
        "[<matplotlib.lines.Line2D at 0xc7ffc2c>]"
       ]
      }
     ],
     "prompt_number": 12
    },
    {
     "cell_type": "code",
     "collapsed": false,
     "input": [
      "figure()\n",
      "h = plt.hist(eptm.edge_lengths.fa, bins=20, alpha=0.5)\n",
      "h = plt.hist(np.abs(first_period_dsigma), bins=20, alpha=0.5)\n",
      "h = plt.hist(np.abs(eptm.dzeds.fa), bins=20, alpha=0.5)"
     ],
     "language": "python",
     "metadata": {},
     "outputs": [],
     "prompt_number": 16
    }
   ],
   "metadata": {}
  }
 ]
}