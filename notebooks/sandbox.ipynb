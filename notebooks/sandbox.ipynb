{
 "metadata": {
  "name": "",
  "signature": "sha256:19138ea0f7061c6f20b0d99f4c0a0b53946ef62fb989e19d38b0bf2163081d89"
 },
 "nbformat": 3,
 "nbformat_minor": 0,
 "worksheets": [
  {
   "cells": [
    {
     "cell_type": "code",
     "collapsed": false,
     "input": [
      "%load_ext autoreload\n",
      "%autoreload 2\n"
     ],
     "language": "python",
     "metadata": {},
     "outputs": [],
     "prompt_number": 1
    },
    {
     "cell_type": "code",
     "collapsed": false,
     "input": [
      "%load_ext snakeviz\n"
     ],
     "language": "python",
     "metadata": {},
     "outputs": [],
     "prompt_number": 5
    },
    {
     "cell_type": "code",
     "collapsed": false,
     "input": [
      "%run nb_init.py"
     ],
     "language": "python",
     "metadata": {},
     "outputs": [
      {
       "output_type": "stream",
       "stream": "stderr",
       "text": [
        "2015-01-27 07:57:09,009 -leg_joint -<module> -- INFO -successfully imported leg_joint\n"
       ]
      }
     ],
     "prompt_number": 2
    },
    {
     "cell_type": "code",
     "collapsed": false,
     "input": [
      "eptm = lj.Epithelium(graphXMLfile='../leg_joint/data/graphs/before_apoptosis.xml')"
     ],
     "language": "python",
     "metadata": {},
     "outputs": [
      {
       "output_type": "stream",
       "stream": "stderr",
       "text": [
        "2015-01-26 19:26:24,304 -leg_joint.epithelium -__init__ -- INFO -Instanciating epithelium 0\n"
       ]
      },
      {
       "output_type": "stream",
       "stream": "stderr",
       "text": [
        "2015-01-26 19:26:25,619 -leg_joint.epithelium -__init__ -- INFO -Initial cells\n"
       ]
      },
      {
       "output_type": "stream",
       "stream": "stderr",
       "text": [
        "2015-01-26 19:26:25,620 -leg_joint.epithelium -__init__ -- INFO -Initial junctions\n"
       ]
      },
      {
       "output_type": "stream",
       "stream": "stderr",
       "text": [
        "2015-01-26 19:26:35,835 -leg_joint.epithelium -__init__ -- INFO -Update geometry\n"
       ]
      }
     ],
     "prompt_number": 7
    },
    {
     "cell_type": "markdown",
     "metadata": {},
     "source": [
      "## simple profile output at the root of optimisation branch:\n",
      "\n",
      "```python\n",
      "def do_update():\n",
      "    eptm.update_geometry()\n",
      "    eptm.update_gradient()\n",
      "import cProfile\n",
      "cProfile.run('do_update()')\n",
      "```\n",
      "\n",
      "```\n",
      "        3765564 function calls in 7.167 seconds\n",
      "\n",
      "   Ordered by: standard name\n",
      "\n",
      "   ncalls  tottime  percall  cumtime  percall filename:lineno(function)\n",
      "        1    0.000    0.000    7.167    7.167 <ipython-input-5-e1f38767d06b>:1(do_update)\n",
      "        1    0.000    0.000    7.167    7.167 <string>:1(<module>)\n",
      "        3    0.000    0.000    0.000    0.000 __init__.py:1336(vertices)\n",
      "        1    0.000    0.000    0.000    0.000 __init__.py:139(_prop)\n",
      "        5    0.000    0.000    0.000    0.000 __init__.py:1401(edges)\n",
      "       71    0.000    0.000    0.000    0.000 __init__.py:1704(_get_max_edge_index)\n",
      "        3    0.000    0.000    0.000    0.000 __init__.py:1757(new_edge_property)\n",
      "        4    0.000    0.000    0.000    0.000 __init__.py:176(_type_alias)\n",
      "        1    0.000    0.000    0.000    0.000 __init__.py:198(_python_type)\n",
      "       14    0.000    0.000    0.000    0.000 __init__.py:2052(get_vertex_filter)\n",
      "        6    0.000    0.000    0.000    0.000 __init__.py:2084(get_edge_filter)\n",
      "        6    0.000    0.000    0.000    0.000 __init__.py:2184(num_edges)\n",
      "        1    0.000    0.000    0.000    0.000 __init__.py:236(_convert)\n",
      "        4    0.000    0.000    0.000    0.000 __init__.py:2362(value_types)\n",
      "    11911    0.108    0.000    0.108    0.000 __init__.py:2379(_out_neighbours)\n",
      "    19981    0.035    0.000    0.041    0.000 __init__.py:2443(<lambda>)\n",
      "    76077    0.326    0.000    0.326    0.000 __init__.py:2474(_edge_iter)\n",
      "      253    0.000    0.000    0.000    0.000 __init__.py:276(_get_pmap)\n",
      "      120    0.000    0.000    0.000    0.000 __init__.py:279(_set_pmap)\n",
      "       43    0.000    0.000    0.001    0.000 __init__.py:285(__new__)\n",
      "      199    0.000    0.000    0.000    0.000 __init__.py:298(_get_base)\n",
      "      199    0.001    0.000    0.001    0.000 __init__.py:304(_get_base_data)\n",
      "      147    0.001    0.000    0.001    0.000 __init__.py:307(_check_data)\n",
      "       77    0.000    0.000    0.001    0.000 __init__.py:320(__array_finalize__)\n",
      "       18    0.000    0.000    0.001    0.000 __init__.py:333(__array_prepare__)\n",
      "       18    0.000    0.000    0.000    0.000 __init__.py:337(__array_wrap__)\n",
      "       18    0.000    0.000    0.001    0.000 __init__.py:347(checked_method)\n",
      "        3    0.000    0.000    0.000    0.000 __init__.py:400(__init__)\n",
      "        6    0.000    0.000    0.000    0.000 __init__.py:403(<lambda>)\n",
      "  1022637    0.393    0.000    0.534    0.000 __init__.py:414(__key_trans)\n",
      "        3    0.000    0.000    0.000    0.000 __init__.py:421(__register_map)\n",
      "        3    0.000    0.000    0.000    0.000 __init__.py:426(__unregister_map)\n",
      "        3    0.000    0.000    0.000    0.000 __init__.py:431(__del__)\n",
      "   712236    1.900    0.000    2.285    0.000 __init__.py:434(__getitem__)\n",
      "   310401    0.780    0.000    0.929    0.000 __init__.py:437(__setitem__)\n",
      "      188    0.000    0.000    0.000    0.000 __init__.py:473(get_graph)\n",
      "  1022638    0.141    0.000    0.141    0.000 __init__.py:480(key_type)\n",
      "        4    0.000    0.000    0.000    0.000 __init__.py:484(value_type)\n",
      "       43    0.000    0.000    0.001    0.000 __init__.py:492(get_array)\n",
      "      174    0.000    0.000    0.000    0.000 __init__.py:516(_get_data)\n",
      "       12    0.000    0.000    0.001    0.000 __init__.py:529(__set_array)\n",
      "       14    0.000    0.000    0.001    0.000 __init__.py:544(__get_set_f_array)\n",
      "        6    0.000    0.000    0.001    0.000 __init__.py:586(<lambda>)\n",
      "        1    0.005    0.005    0.005    0.005 __init__.py:72(find_edge)\n",
      "     1729    0.003    0.000    0.005    0.000 _methods.py:43(_count_reduce_items)\n",
      "     1729    0.018    0.000    0.044    0.000 _methods.py:53(_mean)\n",
      "        1    0.000    0.000    3.761    3.761 dynamics.py:130(update_gradient)\n",
      "        1    0.002    0.002    0.529    0.529 dynamics.py:141(_update_cells_grad)\n",
      "     1729    0.130    0.000    0.505    0.000 dynamics.py:152(_calc_vol_grad_cell)\n",
      "        1    0.249    0.249    3.232    3.232 dynamics.py:168(_update_junctions_grad)\n",
      "     5059    0.618    0.000    2.565    0.001 dynamics.py:190(_update_edge_grad)\n",
      "        1    0.012    0.012    3.405    3.405 epithelium.py:262(update_geometry)\n",
      "     1729    0.086    0.000    0.316    0.000 epithelium.py:281(_one_cell_geom)\n",
      "        1    0.003    0.003    0.345    0.345 epithelium.py:330(update_cells_pos)\n",
      "     1729    0.021    0.000    0.321    0.000 epithelium.py:334(_set_cell_pos)\n",
      "     1729    0.033    0.000    0.221    0.000 epithelium.py:335(<listcomp>)\n",
      "    10118    0.005    0.000    0.012    0.000 linalg.py:111(isComplexType)\n",
      "    10118    0.050    0.000    0.136    0.000 linalg.py:1924(norm)\n",
      "    80686    0.079    0.000    0.079    0.000 numeric.py:1347(rollaxis)\n",
      "    40343    0.723    0.000    1.066    0.000 numeric.py:1406(cross)\n",
      "    90865    0.084    0.000    0.201    0.000 numeric.py:394(asarray)\n",
      "     1729    0.002    0.000    0.005    0.000 numeric.py:464(asanyarray)\n",
      "        1    0.000    0.000    0.001    0.001 objects.py:290(update_rhotheta)\n",
      "        3    0.607    0.202    1.092    0.364 objects.py:305(edge_difference)\n",
      "        1    0.000    0.000    1.092    1.092 objects.py:314(update_deltas)\n",
      "        1    0.000    0.000    0.001    0.001 objects.py:357(update_edge_lengths)\n",
      "    10118    0.275    0.000    1.465    0.000 objects.py:466(update_geometry)\n",
      "     5059    0.017    0.000    1.483    0.000 objects.py:509(update_geometry)\n",
      "     5190    0.024    0.000    0.061    0.000 objects.py:553(__iter__)\n",
      "    10120    0.055    0.000    0.217    0.000 objects.py:740(__iter__)\n",
      "        1    0.000    0.000    0.000    0.000 utils.py:13(to_rhotheta)\n",
      "   154902    0.237    0.000    0.237    0.000 {built-in method array}\n",
      "    10118    0.041    0.000    0.041    0.000 {built-in method dot}\n",
      "    40343    0.033    0.000    0.033    0.000 {built-in method empty}\n",
      "        1    0.000    0.000    7.167    7.167 {built-in method exec}\n",
      "       18    0.000    0.000    0.000    0.000 {built-in method getattr}\n",
      "        9    0.000    0.000    0.000    0.000 {built-in method id}\n",
      "    23442    0.007    0.000    0.007    0.000 {built-in method isinstance}\n",
      "    11847    0.008    0.000    0.008    0.000 {built-in method issubclass}\n",
      "     3458    0.001    0.000    0.001    0.000 {built-in method len}\n",
      "    40343    0.021    0.000    0.021    0.000 {built-in method promote_types}\n",
      "        1    0.000    0.000    0.000    0.000 {method 'disable' of '_lsprof.Profiler' objects}\n",
      "     1729    0.002    0.000    0.046    0.000 {method 'mean' of 'numpy.ndarray' objects}\n",
      "    10118    0.010    0.000    0.010    0.000 {method 'ravel' of 'numpy.ndarray' objects}\n",
      "     1729    0.014    0.000    0.014    0.000 {method 'reduce' of 'numpy.ufunc' objects}\n",
      "    10118    0.002    0.000    0.002    0.000 {method 'values' of 'dict' objects}\n",
      "       43    0.000    0.000    0.000    0.000 {method 'view' of 'numpy.ndarray' objects}\n",
      "```\n",
      "\n",
      "\n"
     ]
    },
    {
     "cell_type": "code",
     "collapsed": false,
     "input": [
      "def do_update():\n",
      "    eptm.update_geometry()\n",
      "    eptm.update_gradient()\n",
      "import cProfile\n",
      "cProfile.run('do_update()')\n"
     ],
     "language": "python",
     "metadata": {},
     "outputs": [
      {
       "output_type": "stream",
       "stream": "stdout",
       "text": [
        "         3354233 function calls in 6.289 seconds\n",
        "\n",
        "   Ordered by: standard name\n",
        "\n",
        "   ncalls  tottime  percall  cumtime  percall filename:lineno(function)\n",
        "        1    0.000    0.000    6.289    6.289 <ipython-input-8-e1f38767d06b>:1(do_update)\n",
        "        1    0.000    0.000    6.289    6.289 <string>:1(<module>)\n",
        "        3    0.000    0.000    0.000    0.000 __init__.py:1336(vertices)\n",
        "        7    0.000    0.000    0.000    0.000 __init__.py:139(_prop)\n",
        "        2    0.000    0.000    0.000    0.000 __init__.py:1401(edges)\n",
        "       71    0.000    0.000    0.000    0.000 __init__.py:1704(_get_max_edge_index)\n",
        "        3    0.000    0.000    0.000    0.000 __init__.py:1757(new_edge_property)\n",
        "        4    0.000    0.000    0.000    0.000 __init__.py:176(_type_alias)\n",
        "        3    0.000    0.000    0.000    0.000 __init__.py:1977(is_directed)\n",
        "        1    0.000    0.000    0.000    0.000 __init__.py:198(_python_type)\n",
        "       14    0.000    0.000    0.000    0.000 __init__.py:2052(get_vertex_filter)\n",
        "        6    0.000    0.000    0.000    0.000 __init__.py:2084(get_edge_filter)\n",
        "        6    0.000    0.000    0.000    0.000 __init__.py:2184(num_edges)\n",
        "        1    0.000    0.000    0.000    0.000 __init__.py:236(_convert)\n",
        "        4    0.000    0.000    0.000    0.000 __init__.py:2362(value_types)\n",
        "    11911    0.105    0.000    0.105    0.000 __init__.py:2379(_out_neighbours)\n",
        "    19981    0.039    0.000    0.044    0.000 __init__.py:2443(<lambda>)\n",
        "    76077    0.341    0.000    0.341    0.000 __init__.py:2474(_edge_iter)\n",
        "      276    0.000    0.000    0.000    0.000 __init__.py:276(_get_pmap)\n",
        "      131    0.000    0.000    0.000    0.000 __init__.py:279(_set_pmap)\n",
        "       47    0.000    0.000    0.001    0.000 __init__.py:285(__new__)\n",
        "      217    0.000    0.000    0.000    0.000 __init__.py:298(_get_base)\n",
        "      217    0.001    0.000    0.001    0.000 __init__.py:304(_get_base_data)\n",
        "      161    0.001    0.000    0.002    0.000 __init__.py:307(_check_data)\n",
        "       84    0.000    0.000    0.002    0.000 __init__.py:320(__array_finalize__)\n",
        "       21    0.000    0.000    0.001    0.000 __init__.py:333(__array_prepare__)\n",
        "       21    0.000    0.000    0.000    0.000 __init__.py:337(__array_wrap__)\n",
        "       19    0.000    0.000    0.001    0.000 __init__.py:347(checked_method)\n",
        "        3    0.000    0.000    0.000    0.000 __init__.py:400(__init__)\n",
        "        6    0.000    0.000    0.000    0.000 __init__.py:403(<lambda>)\n",
        "   885468    0.351    0.000    0.465    0.000 __init__.py:414(__key_trans)\n",
        "        3    0.000    0.000    0.000    0.000 __init__.py:421(__register_map)\n",
        "        3    0.000    0.000    0.000    0.000 __init__.py:426(__unregister_map)\n",
        "        3    0.000    0.000    0.000    0.000 __init__.py:431(__del__)\n",
        "   620790    1.760    0.000    2.093    0.000 __init__.py:434(__getitem__)\n",
        "   264678    0.563    0.000    0.696    0.000 __init__.py:437(__setitem__)\n",
        "      204    0.000    0.000    0.000    0.000 __init__.py:473(get_graph)\n",
        "   885475    0.114    0.000    0.114    0.000 __init__.py:480(key_type)\n",
        "        7    0.000    0.000    0.000    0.000 __init__.py:484(value_type)\n",
        "       47    0.000    0.000    0.002    0.000 __init__.py:492(get_array)\n",
        "      190    0.001    0.000    0.001    0.000 __init__.py:516(_get_data)\n",
        "       13    0.000    0.000    0.001    0.000 __init__.py:529(__set_array)\n",
        "       14    0.000    0.000    0.001    0.000 __init__.py:544(__get_set_f_array)\n",
        "        6    0.000    0.000    0.001    0.000 __init__.py:586(<lambda>)\n",
        "        1    0.003    0.003    0.003    0.003 __init__.py:72(find_edge)\n",
        "        3    0.011    0.004    0.011    0.004 __init__.py:986(edge_difference)\n",
        "     1729    0.003    0.000    0.005    0.000 _methods.py:43(_count_reduce_items)\n",
        "     1729    0.018    0.000    0.043    0.000 _methods.py:53(_mean)\n",
        "        1    0.000    0.000    3.875    3.875 dynamics.py:130(update_gradient)\n",
        "        1    0.002    0.002    0.582    0.582 dynamics.py:141(_update_cells_grad)\n",
        "     1729    0.145    0.000    0.557    0.000 dynamics.py:152(_calc_vol_grad_cell)\n",
        "        1    0.246    0.246    3.293    3.293 dynamics.py:169(_update_junctions_grad)\n",
        "     5059    0.606    0.000    2.624    0.001 dynamics.py:192(_update_edge_grad)\n",
        "        1    0.011    0.011    2.414    2.414 epithelium.py:262(update_geometry)\n",
        "     1729    0.088    0.000    0.328    0.000 epithelium.py:281(_one_cell_geom)\n",
        "        1    0.003    0.003    0.331    0.331 epithelium.py:330(update_cells_pos)\n",
        "     1729    0.020    0.000    0.306    0.000 epithelium.py:334(_set_cell_pos)\n",
        "     1729    0.031    0.000    0.210    0.000 epithelium.py:335(<listcomp>)\n",
        "    10118    0.005    0.000    0.012    0.000 linalg.py:111(isComplexType)\n",
        "    10118    0.054    0.000    0.149    0.000 linalg.py:1924(norm)\n",
        "    80686    0.081    0.000    0.081    0.000 numeric.py:1347(rollaxis)\n",
        "    40343    0.800    0.000    1.163    0.000 numeric.py:1406(cross)\n",
        "    90872    0.082    0.000    0.210    0.000 numeric.py:394(asarray)\n",
        "     1729    0.002    0.000    0.005    0.000 numeric.py:464(asanyarray)\n",
        "        1    0.000    0.000    0.001    0.001 objects.py:350(update_rhotheta)\n",
        "        3    0.000    0.000    0.011    0.004 objects.py:365(edge_difference)\n",
        "        1    0.000    0.000    0.012    0.012 objects.py:369(update_deltas)\n",
        "        1    0.000    0.000    0.002    0.002 objects.py:412(update_edge_lengths)\n",
        "    10118    0.287    0.000    1.550    0.000 objects.py:521(update_geometry)\n",
        "     5059    0.018    0.000    1.569    0.000 objects.py:564(update_geometry)\n",
        "     5190    0.026    0.000    0.063    0.000 objects.py:608(__iter__)\n",
        "    10120    0.056    0.000    0.223    0.000 objects.py:795(__iter__)\n",
        "        1    0.000    0.000    0.000    0.000 utils.py:13(to_rhotheta)\n",
        "   154909    0.257    0.000    0.257    0.000 {built-in method array}\n",
        "    10118    0.046    0.000    0.046    0.000 {built-in method dot}\n",
        "    40343    0.037    0.000    0.037    0.000 {built-in method empty}\n",
        "        1    0.000    0.000    6.289    6.289 {built-in method exec}\n",
        "       19    0.000    0.000    0.000    0.000 {built-in method getattr}\n",
        "        9    0.000    0.000    0.000    0.000 {built-in method id}\n",
        "    23442    0.007    0.000    0.007    0.000 {built-in method isinstance}\n",
        "    11847    0.008    0.000    0.008    0.000 {built-in method issubclass}\n",
        "     3458    0.001    0.000    0.001    0.000 {built-in method len}\n",
        "    40343    0.024    0.000    0.024    0.000 {built-in method promote_types}\n",
        "        1    0.000    0.000    0.000    0.000 {method 'disable' of '_lsprof.Profiler' objects}\n",
        "     1729    0.002    0.000    0.045    0.000 {method 'mean' of 'numpy.ndarray' objects}\n",
        "    10118    0.011    0.000    0.011    0.000 {method 'ravel' of 'numpy.ndarray' objects}\n",
        "     1729    0.014    0.000    0.014    0.000 {method 'reduce' of 'numpy.ufunc' objects}\n",
        "    10118    0.002    0.000    0.002    0.000 {method 'values' of 'dict' objects}\n",
        "       47    0.000    0.000    0.000    0.000 {method 'view' of 'numpy.ndarray' objects}\n",
        "\n",
        "\n"
       ]
      }
     ],
     "prompt_number": 8
    },
    {
     "cell_type": "code",
     "collapsed": false,
     "input": [
      "%%snakeviz\n",
      "do_update()"
     ],
     "language": "python",
     "metadata": {},
     "outputs": [
      {
       "output_type": "stream",
       "stream": "stdout",
       "text": [
        " \n",
        "*** Profile stats marshalled to file '/tmp/tmpj6s7jq7u'. \n"
       ]
      }
     ],
     "prompt_number": 10
    },
    {
     "cell_type": "code",
     "collapsed": false,
     "input": [
      "eptm = lj.Epithelium(lj.data.small_xml())"
     ],
     "language": "python",
     "metadata": {},
     "outputs": [
      {
       "output_type": "stream",
       "stream": "stderr",
       "text": [
        "2015-01-27 07:57:14,169 -leg_joint.epithelium -__init__ -- INFO -Instanciating epithelium 0\n"
       ]
      },
      {
       "output_type": "stream",
       "stream": "stderr",
       "text": [
        "2015-01-27 07:57:14,565 -leg_joint.epithelium -__init__ -- INFO -Initial cells\n"
       ]
      },
      {
       "output_type": "stream",
       "stream": "stderr",
       "text": [
        "2015-01-27 07:57:14,566 -leg_joint.epithelium -__init__ -- INFO -Initial junctions\n"
       ]
      },
      {
       "output_type": "stream",
       "stream": "stderr",
       "text": [
        "2015-01-27 07:57:14,801 -leg_joint.epithelium -__init__ -- INFO -Update geometry\n"
       ]
      }
     ],
     "prompt_number": 3
    },
    {
     "cell_type": "code",
     "collapsed": false,
     "input": [
      "%%snakeviz\n",
      "\n",
      "eptm.isotropic_relax()"
     ],
     "language": "python",
     "metadata": {},
     "outputs": [
      {
       "output_type": "stream",
       "stream": "stdout",
       "text": [
        " \n",
        "*** Profile stats marshalled to file '/tmp/tmpvy7_26ib'. \n"
       ]
      }
     ],
     "prompt_number": 6
    },
    {
     "cell_type": "code",
     "collapsed": false,
     "input": [
      "mother_cell = eptm.graph.vertex(3)"
     ],
     "language": "python",
     "metadata": {},
     "outputs": [],
     "prompt_number": 7
    },
    {
     "cell_type": "code",
     "collapsed": false,
     "input": [
      "area0 = eptm.cells.areas[mother_cell]\n",
      "growth_rate = 1.5\n",
      "eptm.cells.prefered_vol[mother_cell] *= growth_rate\n",
      "\n"
     ],
     "language": "python",
     "metadata": {},
     "outputs": [],
     "prompt_number": 8
    },
    {
     "cell_type": "code",
     "collapsed": false,
     "input": [
      "%%snakeviz\n",
      "eptm.update_gradient()"
     ],
     "language": "python",
     "metadata": {},
     "outputs": [
      {
       "output_type": "stream",
       "stream": "stdout",
       "text": [
        " \n",
        "*** Profile stats marshalled to file '/tmp/tmple9asd5b'. \n"
       ]
      }
     ],
     "prompt_number": 9
    },
    {
     "cell_type": "code",
     "collapsed": false,
     "input": [
      "eptm.set_local_mask(mother_cell)\n",
      "local_graph = gt.GraphView(eptm.graph, vfilt=eptm.is_local_vert, efilt=eptm.is_local_edge)"
     ],
     "language": "python",
     "metadata": {},
     "outputs": [],
     "prompt_number": 10
    },
    {
     "cell_type": "markdown",
     "metadata": {},
     "source": [
      "## Gradient computation at junction vertices\n",
      "\n",
      "In order to find the local energy minimum, as shown below, we use a conjugate gradient method\n",
      "(namely the [`fmin_lbfgs`](http://docs.scipy.org/doc/scipy/reference/tutorial/optimize.html#broyden-fletcher-goldfarb-shanno-algorithm-method-bfgs) algorithm from SciPy). So we need to compute said gradient at each junction vertex that concur to the optimization.\n",
      "\n",
      "In order to compute the local minimum of the energy, we calculate its\n",
      "gradient at junction vertex $i$ whose position in the 3D space is defined by the vector $\\mathbf{r_i}$ pointing from the coordinate system's origin. An edge between two vertices is noted\n",
      "$\\mathbf{r_{ij}} = \\mathbf{r_j} - \\mathbf{r_i}$. The coefficients noted $c_{ij}$ correspond to the terms of the graph's adjacency matrix, such that they are equal to 1 if an edge exists between vertices $i$ and $j$, and 0 otherwise. As the graph is oriented, at each vertex $i$, we have to account for outgoing ($c_{ij} = 1$) and incomming ($c_{ki} = 1$) edges, which explains the $c_{ki}$ terms in the following expressions. Note that $c_{ij} = 1 \\Rightarrow c_{ji} = 0$ and reciprocally. Although the indexes $j$ and $k$ vanish in the summations, we keep two symbols for clarity.\n",
      "\n",
      "\n",
      "$$\n",
      "\\begin{aligned} \n",
      "   \\mathbf{\\nabla_i} E &= (\\frac{\\partial E}{\\partial x},\n",
      "                     \\frac{\\partial E}{\\partial y},\n",
      "                     \\frac{\\partial E}{\\partial z}) \\\\\n",
      "   \\mathbf{\\nabla_i} E &= \\sum_\\alpha K (V_\\alpha - V_0) \n",
      "   \\mathbf{\\nabla_i} V_\\alpha  \n",
      "   + \\sum_\\alpha \\Gamma L_\\alpha \\mathbf{\\nabla_i} L_\\alpha\n",
      "   + \\sum_j \\Lambda_{ij} \\mathbf{\\nabla_i} \\ell_{ij} +  \\sum_k \\Lambda_{ki} \\mathbf{\\nabla_i}\n",
      "     \\ell_{ki}\n",
      "\\end{aligned}\n",
      "$$\n",
      "\n",
      "We have \n",
      "$$\n",
      "\\begin{aligned} \n",
      "   \\mathbf{\\nabla_i}\\ell_{ij} &=  \\frac{\\mathbf{r}_{ij}c_{ij}}{\\ell_{ij}} \\\\\n",
      "   \\mathbf{\\nabla_i}\\ell_{ki} &=  -\\frac{\\mathbf{r}_{ki}c_{ki}}{\\ell_{ki}} \\\\\n",
      "   %%\n",
      "   \\mathbf{\\nabla_i}L_\\alpha &= \\sum_{kn} \\mathbf{\\nabla_i}\n",
      "       \\ell_{kn} c_{\\alpha k} c_{\\alpha n}\n",
      "   = \\left(\\sum_{j} \\mathbf{\\nabla_i}\\ell_{ij} c_{\\alpha j} \n",
      "     + \\sum_k \\mathbf{\\nabla_i}\\ell_{ki} c_{\\alpha k} \\right)c_{\\alpha i}\\\\\n",
      "   %%\n",
      "   \\mathbf{\\nabla_i}V_{\\alpha} &=  \\sum_{km}\\mathbf{\\nabla_i}V_{\\alpha km}\n",
      "   c_{\\alpha k}c_{\\alpha m}c_{km}\n",
      "   = \\sum_{km} \\mathbf{\\nabla_i}h_\\alpha A_{\\alpha km}\n",
      "   c_{\\alpha k}c_{\\alpha m}c_{km}\n",
      "   = A_\\alpha \\mathbf{\\nabla_i}h_\\alpha + \n",
      "   h_\\alpha \\sum_{km} \\mathbf{\\nabla_i} A_{\\alpha km}c_{\\alpha k}\n",
      "   c_{\\alpha m}c_{km}\\\\\n",
      "   \\mathbf{\\nabla_i}V_{\\alpha} &= \n",
      "   \\frac{h_\\alpha}{2\\nu_\\alpha} \\sum_{km}\\mathbf{u}_{\\alpha km}\n",
      "   \\times \\mathbf{r}_{km}c_{\\alpha k}c_{\\alpha m}c_{km}\n",
      "   + \\sum_{j}\\left(A_{\\alpha ij}\\frac{\\mathbf{r_i}}{2\\rho_i} \n",
      "   + \\frac{h_\\alpha}{2}\\mathbf{r}_{\\alpha j} \\times \\mathbf{u}_{\\alpha ij} c_{\\alpha j}c_{ij}\n",
      "   - \\frac{h_\\alpha}{2}\\mathbf{r}_{\\alpha j} \\times \\mathbf{u}_{\\alpha ji} c_{\\alpha j}c_{ji}\\right)\n",
      "     \\\\\n",
      "\\end{aligned}\n",
      "$$\n",
      "\n",
      "Here, $\\nu_\\alpha$ is the number of sides of cell $\\alpha$.\n",
      "\n",
      "The area computed as\n",
      "\n",
      "$$\n",
      "A_{\\alpha km}  = ||\\mathbf{r}_{\\alpha k} \\times \\mathbf{r}_{\\alpha m}|| /2\n",
      "$$\n",
      "\n",
      "And the normal to the $(\\mathbf{r_k}, \\mathbf{r_m})$ plane verifies:\n",
      "\n",
      "$$\n",
      "\\mathbf{u}_{\\alpha km} = \\frac{2\\, \\mathbf{r}_{\\alpha k} \\times \\mathbf{r}_{\\alpha m}}{A_{\\alpha km}}\n",
      "$$ \n",
      "\n"
     ]
    },
    {
     "cell_type": "code",
     "collapsed": false,
     "input": [
      "import hdfgraph\n",
      "from leg_joint.objects import get_faces\n",
      "import pandas as pd\n",
      "\n",
      "def _to_3d(df):\n",
      "    return df.repeat(3).reshape((df.size, 3))\n",
      "\n",
      "vertex_df, edges_df  = hdfgraph.graph_to_dataframes(local_graph)\n",
      "\n",
      "srcs = edges_df.index.get_level_values('source')\n",
      "trgts = edges_df.index.get_level_values('target')\n",
      "cell_idxs = vertex_df[vertex_df['is_cell_vert'] == 1].index\n",
      "jv_idxs = vertex_df[vertex_df['is_cell_vert'] == 0].index\n",
      "je_idxs = edges_df[edges_df['is_junction_edge']==1].index\n",
      "\n",
      "coords = ['ixs', 'wys', 'zeds']\n",
      "dcoords = ['d'+c for c in coords]\n",
      "grad_coords = ['grad_'+c for c in coords]\n",
      "\n",
      "\n",
      "deltas = vertex_df.loc[trgts, coords].values - vertex_df.loc[srcs, coords].values\n",
      "deltas = pd.DataFrame(deltas, columns=dcoords, index=edges_df.index)\n",
      "edge_lengths = (deltas**2).sum(axis=1)**0.5\n",
      "cell_heights = vertex_df.loc[cell_idxs, 'rhos'] - eptm.rho_lumen\n",
      "triangles = get_faces(local_graph)\n",
      "\n",
      "tri_cells = pd.Index(triangles[:, 0], name='cell')\n",
      "tri_jv0s = pd.Index(triangles[:, 1], name='jv_i')\n",
      "tri_jv1s = pd.Index(triangles[:, 2], name='jv_j')\n",
      "tri_midx = pd.MultiIndex.from_arrays((triangles[:, 0], \n",
      "                                      triangles[:, 1],\n",
      "                                      triangles[:, 2]),\n",
      "                                     names=('cell', 'jv_i', 'jv_j'))\n",
      "\n",
      "tri_jes = pd.MultiIndex.from_arrays((triangles[:, 1], triangles[:, 2]), names=('source', 'target'))\n",
      "tri_ak = pd.MultiIndex.from_arrays((triangles[:, 0], triangles[:, 1]), names=('source', 'target'))\n",
      "tri_am = pd.MultiIndex.from_arrays((triangles[:, 0], triangles[:, 2]), names=('source', 'target'))\n",
      "\n",
      "num_sides = tri_midx.get_level_values('cell').value_counts().loc[cell_idxs]\n",
      "num_sides.index = cell_idxs\n",
      "\n",
      "tri_num_sides = num_sides.loc[tri_cells]\n",
      "tri_num_sides.index = tri_midx\n",
      "tri_deltas = deltas.loc[tri_jes].set_index(tri_midx)\n",
      "tri_edge_length = edge_lengths.loc[tri_jes]\n",
      "tri_edge_length.index = tri_midx\n",
      "\n",
      "r_ijs = deltas.loc[tri_jes].set_index(tri_midx)\n",
      "r_ak = deltas.loc[tri_ak].set_index(tri_midx)\n",
      "r_am = deltas.loc[tri_am].set_index(tri_midx)\n",
      "\n",
      "crosses = pd.DataFrame(np.cross(r_ak, r_am), index=tri_cells)\n",
      "sub_areas = ((crosses**2).sum(axis=1)**0.5) / 2\n",
      "\n",
      "areas = sub_areas.sum(level='cell')\n",
      "normals = 2 * crosses / _to_3d(sub_areas)\n",
      "\n",
      "cell_vols = cell_heights * areas\n",
      "perimeters = tri_edge_length.sum(level='cell')\n",
      "\n",
      "\n",
      "\n",
      "grad_i_lij = deltas / _to_3d(edge_lengths)\n",
      "\n",
      "grad_i_lij = grad_i_lij.loc[je_idxs]\n",
      "\n",
      "grad_i = pd.DataFrame(0, index=jv_idxs,\n",
      "                      columns=grad_coords)\n",
      "\n"
     ],
     "language": "python",
     "metadata": {},
     "outputs": [],
     "prompt_number": 224
    },
    {
     "cell_type": "code",
     "collapsed": false,
     "input": [
      "gamma_L"
     ],
     "language": "python",
     "metadata": {},
     "outputs": [
      {
       "metadata": {},
       "output_type": "pyout",
       "prompt_number": 227,
       "text": [
        "cell  jv_i  jv_j\n",
        "2     61    62      276.48\n",
        "            63      276.48\n",
        "      62    66      276.48\n",
        "      63    64      276.48\n",
        "      64    65      276.48\n",
        "      65    66      276.48\n",
        "3     63    64      276.48\n",
        "            67      276.48\n",
        "      64    70      276.48\n",
        "      67    68      276.48\n",
        "      68    69      276.48\n",
        "      69    70      276.48\n",
        "4     69    70      276.48\n",
        "            71      276.48\n",
        "      70    74      276.48\n",
        "      71    72      276.48\n",
        "      72    73      276.48\n",
        "      73    74      276.48\n",
        "10    64    65      276.48\n",
        "            70      276.48\n",
        "      65    83      276.48\n",
        "      70    74      276.48\n",
        "      74    86      276.48\n",
        "      83    86      276.48\n",
        "51    60    61      276.48\n",
        "            145     276.48\n",
        "      61    63      276.48\n",
        "      63    67      276.48\n",
        "      67    144     276.48\n",
        "      144   145     276.48\n",
        "52    67    68      276.48\n",
        "            144     276.48\n",
        "      68    149     276.48\n",
        "      143   144     276.48\n",
        "            146     276.48\n",
        "      146   149     276.48\n",
        "53    68    69      276.48\n",
        "            149     276.48\n",
        "      69    71      276.48\n",
        "      71    75      276.48\n",
        "      75    148     276.48\n",
        "      148   149     276.48\n",
        "Name: contractilities, dtype: float64"
       ]
      }
     ],
     "prompt_number": 227
    },
    {
     "cell_type": "code",
     "collapsed": false,
     "input": [
      "grad_i_lij.shape"
     ],
     "language": "python",
     "metadata": {},
     "outputs": [
      {
       "metadata": {},
       "output_type": "pyout",
       "prompt_number": 215,
       "text": [
        "(30, 3)"
       ]
      }
     ],
     "prompt_number": 215
    },
    {
     "cell_type": "code",
     "collapsed": false,
     "input": [
      "gamma_L.head()"
     ],
     "language": "python",
     "metadata": {},
     "outputs": [
      {
       "metadata": {},
       "output_type": "pyout",
       "prompt_number": 233,
       "text": [
        "cell  jv_i  jv_j\n",
        "2     61    62      3174.756069\n",
        "            63      3174.756069\n",
        "      62    66      3174.756069\n",
        "      63    64      3174.756069\n",
        "      64    65      3174.756069\n",
        "dtype: float64"
       ]
      }
     ],
     "prompt_number": 233
    },
    {
     "cell_type": "code",
     "collapsed": false,
     "input": [
      "gamma_L.sum(level='jv_i')"
     ],
     "language": "python",
     "metadata": {},
     "outputs": [
      {
       "metadata": {},
       "output_type": "pyout",
       "prompt_number": 242,
       "text": [
        "jv_i\n",
        "60       6349.512138\n",
        "61       9524.268207\n",
        "62       3174.756069\n",
        "63      12699.024277\n",
        "64      12699.024277\n",
        "65       6349.512138\n",
        "67      12699.024277\n",
        "68      12699.024277\n",
        "69      12699.024277\n",
        "70       6349.512138\n",
        "71       6349.512138\n",
        "72       3174.756069\n",
        "73       3174.756069\n",
        "74       3174.756069\n",
        "75       3174.756069\n",
        "83       3174.756069\n",
        "143      6349.512138\n",
        "144      3174.756069\n",
        "146      3174.756069\n",
        "148      3174.756069\n",
        "dtype: float64"
       ]
      }
     ],
     "prompt_number": 242
    },
    {
     "cell_type": "code",
     "collapsed": false,
     "input": [
      "gamma_L.sum(level='jv_j').shape"
     ],
     "language": "python",
     "metadata": {},
     "outputs": [
      {
       "metadata": {},
       "output_type": "pyout",
       "prompt_number": 235,
       "text": [
        "(22,)"
       ]
      }
     ],
     "prompt_number": 235
    },
    {
     "cell_type": "code",
     "collapsed": false,
     "input": [
      "trgts.unique().shape"
     ],
     "language": "python",
     "metadata": {},
     "outputs": [
      {
       "metadata": {},
       "output_type": "pyout",
       "prompt_number": 241,
       "text": [
        "(24,)"
       ]
      }
     ],
     "prompt_number": 241
    },
    {
     "cell_type": "code",
     "collapsed": false,
     "input": [
      "tensions = edges_df.loc[je_idxs, 'line_tensions']\n",
      "contract = vertex_df.loc[cell_idxs, 'contractilities']\n",
      "\n",
      "\n",
      "\n",
      "gamma_L = contract * perimeters\n",
      "\n",
      "gamma_L = gamma_L.loc[tri_cells]\n",
      "gamma_L.index = tri_midx\n",
      "\n",
      "\n",
      "big_term = grad_i_lij * (tensions + gamma_L.sum(level='cell'))\n",
      "\n"
     ],
     "language": "python",
     "metadata": {},
     "outputs": [
      {
       "ename": "ValueError",
       "evalue": "cannot join with no level specified and no overlapping names",
       "output_type": "pyerr",
       "traceback": [
        "\u001b[1;31m---------------------------------------------------------------------------\u001b[0m\n\u001b[1;31mValueError\u001b[0m                                Traceback (most recent call last)",
        "\u001b[1;32m<ipython-input-228-baf7ca314818>\u001b[0m in \u001b[0;36m<module>\u001b[1;34m()\u001b[0m\n\u001b[0;32m     10\u001b[0m \u001b[1;33m\u001b[0m\u001b[0m\n\u001b[0;32m     11\u001b[0m \u001b[1;33m\u001b[0m\u001b[0m\n\u001b[1;32m---> 12\u001b[1;33m \u001b[0mbig_term\u001b[0m \u001b[1;33m=\u001b[0m \u001b[0mgrad_i_lij\u001b[0m \u001b[1;33m*\u001b[0m \u001b[1;33m(\u001b[0m\u001b[0mtensions\u001b[0m \u001b[1;33m+\u001b[0m \u001b[0mgamma_L\u001b[0m\u001b[1;33m.\u001b[0m\u001b[0msum\u001b[0m\u001b[1;33m(\u001b[0m\u001b[0mlevel\u001b[0m\u001b[1;33m=\u001b[0m\u001b[1;34m'cell'\u001b[0m\u001b[1;33m)\u001b[0m\u001b[1;33m)\u001b[0m\u001b[1;33m\u001b[0m\u001b[0m\n\u001b[0m\u001b[0;32m     13\u001b[0m \u001b[1;33m\u001b[0m\u001b[0m\n",
        "\u001b[1;32m/home/guillaume/anaconda/envs/python3/lib/python3.4/site-packages/pandas/core/ops.py\u001b[0m in \u001b[0;36mwrapper\u001b[1;34m(left, right, name)\u001b[0m\n\u001b[0;32m    513\u001b[0m             \u001b[1;32melse\u001b[0m\u001b[1;33m:\u001b[0m\u001b[1;33m\u001b[0m\u001b[0m\n\u001b[0;32m    514\u001b[0m                 index, lidx, ridx = left.index.join(rindex, how='outer',\n\u001b[1;32m--> 515\u001b[1;33m                                                        return_indexers=True)\n\u001b[0m\u001b[0;32m    516\u001b[0m \u001b[1;33m\u001b[0m\u001b[0m\n\u001b[0;32m    517\u001b[0m                 \u001b[1;32mif\u001b[0m \u001b[0mlidx\u001b[0m \u001b[1;32mis\u001b[0m \u001b[1;32mnot\u001b[0m \u001b[1;32mNone\u001b[0m\u001b[1;33m:\u001b[0m\u001b[1;33m\u001b[0m\u001b[0m\n",
        "\u001b[1;32m/home/guillaume/anaconda/envs/python3/lib/python3.4/site-packages/pandas/core/index.py\u001b[0m in \u001b[0;36mjoin\u001b[1;34m(self, other, how, level, return_indexers)\u001b[0m\n\u001b[0;32m   1691\u001b[0m                 \u001b[1;32mpass\u001b[0m\u001b[1;33m\u001b[0m\u001b[0m\n\u001b[0;32m   1692\u001b[0m             \u001b[1;32melse\u001b[0m\u001b[1;33m:\u001b[0m\u001b[1;33m\u001b[0m\u001b[0m\n\u001b[1;32m-> 1693\u001b[1;33m                 \u001b[1;32mreturn\u001b[0m \u001b[0mself\u001b[0m\u001b[1;33m.\u001b[0m\u001b[0m_join_multi\u001b[0m\u001b[1;33m(\u001b[0m\u001b[0mother\u001b[0m\u001b[1;33m,\u001b[0m \u001b[0mhow\u001b[0m\u001b[1;33m=\u001b[0m\u001b[0mhow\u001b[0m\u001b[1;33m,\u001b[0m \u001b[0mreturn_indexers\u001b[0m\u001b[1;33m=\u001b[0m\u001b[0mreturn_indexers\u001b[0m\u001b[1;33m)\u001b[0m\u001b[1;33m\u001b[0m\u001b[0m\n\u001b[0m\u001b[0;32m   1694\u001b[0m \u001b[1;33m\u001b[0m\u001b[0m\n\u001b[0;32m   1695\u001b[0m         \u001b[1;31m# join on the level\u001b[0m\u001b[1;33m\u001b[0m\u001b[1;33m\u001b[0m\u001b[0m\n",
        "\u001b[1;32m/home/guillaume/anaconda/envs/python3/lib/python3.4/site-packages/pandas/core/index.py\u001b[0m in \u001b[0;36m_join_multi\u001b[1;34m(self, other, how, return_indexers)\u001b[0m\n\u001b[0;32m   1784\u001b[0m         \u001b[1;31m# need at least 1 in common, but not more than 1\u001b[0m\u001b[1;33m\u001b[0m\u001b[1;33m\u001b[0m\u001b[0m\n\u001b[0;32m   1785\u001b[0m         \u001b[1;32mif\u001b[0m \u001b[1;32mnot\u001b[0m \u001b[0mlen\u001b[0m\u001b[1;33m(\u001b[0m\u001b[0moverlap\u001b[0m\u001b[1;33m)\u001b[0m\u001b[1;33m:\u001b[0m\u001b[1;33m\u001b[0m\u001b[0m\n\u001b[1;32m-> 1786\u001b[1;33m             \u001b[1;32mraise\u001b[0m \u001b[0mValueError\u001b[0m\u001b[1;33m(\u001b[0m\u001b[1;34m\"cannot join with no level specified and no overlapping names\"\u001b[0m\u001b[1;33m)\u001b[0m\u001b[1;33m\u001b[0m\u001b[0m\n\u001b[0m\u001b[0;32m   1787\u001b[0m         \u001b[1;32mif\u001b[0m \u001b[0mlen\u001b[0m\u001b[1;33m(\u001b[0m\u001b[0moverlap\u001b[0m\u001b[1;33m)\u001b[0m \u001b[1;33m>\u001b[0m \u001b[1;36m1\u001b[0m\u001b[1;33m:\u001b[0m\u001b[1;33m\u001b[0m\u001b[0m\n\u001b[0;32m   1788\u001b[0m             \u001b[1;32mraise\u001b[0m \u001b[0mNotImplementedError\u001b[0m\u001b[1;33m(\u001b[0m\u001b[1;34m\"merging with more than one level overlap on a multi-index is not implemented\"\u001b[0m\u001b[1;33m)\u001b[0m\u001b[1;33m\u001b[0m\u001b[0m\n",
        "\u001b[1;31mValueError\u001b[0m: cannot join with no level specified and no overlapping names"
       ]
      }
     ],
     "prompt_number": 228
    },
    {
     "cell_type": "code",
     "collapsed": false,
     "input": [
      "tri_jes.unique()"
     ],
     "language": "python",
     "metadata": {},
     "outputs": [
      {
       "metadata": {},
       "output_type": "pyout",
       "prompt_number": 204,
       "text": [
        "array([(61, 62), (61, 63), (62, 66), (63, 64), (64, 65), (65, 66),\n",
        "       (63, 67), (64, 70), (67, 68), (68, 69), (69, 70), (69, 71),\n",
        "       (70, 74), (71, 72), (72, 73), (73, 74), (65, 83), (74, 86),\n",
        "       (83, 86), (60, 61), (60, 145), (67, 144), (144, 145), (68, 149),\n",
        "       (143, 144), (143, 146), (146, 149), (71, 75), (75, 148), (148, 149)], dtype=object)"
       ]
      }
     ],
     "prompt_number": 204
    },
    {
     "cell_type": "code",
     "collapsed": false,
     "input": [
      "r_ijs.shape"
     ],
     "language": "python",
     "metadata": {},
     "outputs": [
      {
       "metadata": {},
       "output_type": "pyout",
       "prompt_number": 180,
       "text": [
        "(42, 3)"
       ]
      }
     ],
     "prompt_number": 180
    },
    {
     "cell_type": "code",
     "collapsed": false,
     "input": [
      "grad_i_lij.shape, grad_i_lij.loc[je_idxs].shape"
     ],
     "language": "python",
     "metadata": {},
     "outputs": [
      {
       "metadata": {},
       "output_type": "pyout",
       "prompt_number": 179,
       "text": [
        "((72, 3), (30, 3))"
       ]
      }
     ],
     "prompt_number": 179
    },
    {
     "cell_type": "markdown",
     "metadata": {},
     "source": [
      "We can factor the contractility and line tension terms:\n",
      "$$\n",
      "\\begin{aligned}\n",
      "\\sum_\\alpha \\Gamma L_\\alpha \\mathbf{\\nabla_i} L_\\alpha &= \\sum_{j} \\sum_\\alpha \\Gamma L_\\alpha \n",
      "     (\\mathbf{\\nabla_i}\\ell_{ij} + \\mathbf{\\nabla_i}\\ell_{ji}) c_{\\alpha j} c_{\\alpha i} c_{ij}\\\\\n",
      "    &= \\sum_{j} \\mathbf{\\nabla_i}\\ell_{ij} \\sum_\\alpha \\Gamma L_\\alpha c_{\\alpha j} c_{\\alpha i}c_{ij}\n",
      "    +  \\sum_k \\mathbf{\\nabla_i}\\ell_{ki} \\sum_\\beta \\Gamma L_\\beta c_{\\beta k} c_{\\beta i} c_{ki}\\\\\n",
      "    &\\Rightarrow\\\\\n",
      "   \\sum_\\alpha \\Gamma L_\\alpha \\mathbf{\\nabla_i} L_\\alpha\n",
      "       + \\sum_j \\Lambda_{ij} \\mathbf{\\nabla_i} \\ell_{ij} + \\sum_k \\Lambda_{ki} \\mathbf{\\nabla_i} \\ell_{ki}\n",
      "    &= \\sum_{j}\n",
      "      \\mathbf{\\nabla_i}\\ell_{ij} (\\Lambda_{ij} c_{ij}\n",
      "       + \\sum_\\alpha \\Gamma L_\\alpha c_{\\alpha j} c_{\\alpha i}c_{ij})\\\\\n",
      "      & \\quad + \\sum_k \\mathbf{\\nabla_i}\\ell_{ki} (\\Lambda_{ki} c_{ki}\n",
      "       + \\sum_\\beta \\Gamma L_\\beta c_{\\beta k} c_{\\beta i} c_{ki}) \\\\\n",
      "\\end{aligned}\n",
      "$$\n",
      "\n",
      "For clarity, the second sum is over cells indiced by $\\beta$, which corresponds to triangles where the vertex $i$ is a target such that $c_{ki} = 1$"
     ]
    },
    {
     "cell_type": "code",
     "collapsed": false,
     "input": [
      "## elasticity term\n",
      "cross_ur = pd.DataFrame(np.cross(normals, r_ijs), index=tri_midx)\n",
      "grad_i_V_cell = cross_ur.sum(level='cell') * _to_3d(cell_heights / num_sides)\n",
      "\n",
      "grad_i_V_cell = grad_i_V_cell.loc[tri_cells]\n",
      "\n",
      "r_is = vertex_df.loc[jv_idxs, coords]\n",
      "r_is = r_is.loc[tri_jv0s].set_index(tri_midx)\n",
      "\n",
      "rho_is = vertex_df.loc[jv_idxs, 'rhos']\n",
      "rho_is = rho_is.loc[tri_jv0s]\n",
      "rho_is.index = tri_midx\n",
      "\n",
      "\n",
      "grad_i_V_radial = _to_3d(sub_areas) * r_is / _to_3d(2 * rho_is)\n"
     ],
     "language": "python",
     "metadata": {},
     "outputs": [],
     "prompt_number": 119
    },
    {
     "cell_type": "code",
     "collapsed": false,
     "input": [
      "deltas.loc[tri_jes]"
     ],
     "language": "python",
     "metadata": {},
     "outputs": []
    },
    {
     "cell_type": "code",
     "collapsed": false,
     "input": [
      "eptm.is_cell_vert.a.sum()"
     ],
     "language": "python",
     "metadata": {},
     "outputs": []
    },
    {
     "cell_type": "code",
     "collapsed": false,
     "input": [
      "eptm.graph.set_vertex_filter(None)\n",
      "num_sides = eptm.graph.degree_property_map('out')\n",
      "eptm.graph.set_vertex_filter(eptm.is_cell_vert)\n",
      "\n",
      "num_sides.fa.sum()\n"
     ],
     "language": "python",
     "metadata": {},
     "outputs": []
    },
    {
     "cell_type": "code",
     "collapsed": false,
     "input": [
      "isos = gt.subgraph_isomorphism(tri_graph, local_graph)"
     ],
     "language": "python",
     "metadata": {},
     "outputs": []
    },
    {
     "cell_type": "code",
     "collapsed": false,
     "input": [
      "isos_vals = [list(iso.a) for iso in isos]"
     ],
     "language": "python",
     "metadata": {},
     "outputs": []
    },
    {
     "cell_type": "code",
     "collapsed": false,
     "input": [
      "isos_vals"
     ],
     "language": "python",
     "metadata": {},
     "outputs": []
    },
    {
     "cell_type": "code",
     "collapsed": false,
     "input": [
      "local_graph.vp['is_cell_vert'].fa.sum()"
     ],
     "language": "python",
     "metadata": {},
     "outputs": []
    },
    {
     "cell_type": "code",
     "collapsed": false,
     "input": [
      "gt.local_graph"
     ],
     "language": "python",
     "metadata": {},
     "outputs": []
    },
    {
     "cell_type": "code",
     "collapsed": false,
     "input": [
      "deltas.loc?"
     ],
     "language": "python",
     "metadata": {},
     "outputs": []
    },
    {
     "cell_type": "code",
     "collapsed": false,
     "input": [
      "deltas.sum(level='source')"
     ],
     "language": "python",
     "metadata": {},
     "outputs": []
    },
    {
     "cell_type": "code",
     "collapsed": false,
     "input": [
      "edges_df.dixs"
     ],
     "language": "python",
     "metadata": {},
     "outputs": []
    },
    {
     "cell_type": "markdown",
     "metadata": {},
     "source": [
      "-7.455193544455806\n"
     ]
    }
   ],
   "metadata": {}
  }
 ]
}