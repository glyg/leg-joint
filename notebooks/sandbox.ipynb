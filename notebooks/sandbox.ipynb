{
 "metadata": {
  "name": "",
  "signature": "sha256:32cf063b954b48eb61f4a351f9cdf657067625bde0365674889a9791ef3c3641"
 },
 "nbformat": 3,
 "nbformat_minor": 0,
 "worksheets": [
  {
   "cells": [
    {
     "cell_type": "code",
     "collapsed": false,
     "input": [
      "%load_ext autoreload\n",
      "%autoreload 2\n"
     ],
     "language": "python",
     "metadata": {},
     "outputs": [],
     "prompt_number": 5
    },
    {
     "cell_type": "code",
     "collapsed": false,
     "input": [
      "%run nb_init.py"
     ],
     "language": "python",
     "metadata": {},
     "outputs": [
      {
       "output_type": "stream",
       "stream": "stderr",
       "text": [
        "2015-01-26 19:26:24,281 -leg_joint -<module> -- INFO -successfully imported leg_joint\n"
       ]
      }
     ],
     "prompt_number": 6
    },
    {
     "cell_type": "code",
     "collapsed": false,
     "input": [
      "eptm = lj.Epithelium(graphXMLfile='../leg_joint/data/graphs/before_apoptosis.xml')"
     ],
     "language": "python",
     "metadata": {},
     "outputs": [
      {
       "output_type": "stream",
       "stream": "stderr",
       "text": [
        "2015-01-26 19:26:24,304 -leg_joint.epithelium -__init__ -- INFO -Instanciating epithelium 0\n"
       ]
      },
      {
       "output_type": "stream",
       "stream": "stderr",
       "text": [
        "2015-01-26 19:26:25,619 -leg_joint.epithelium -__init__ -- INFO -Initial cells\n"
       ]
      },
      {
       "output_type": "stream",
       "stream": "stderr",
       "text": [
        "2015-01-26 19:26:25,620 -leg_joint.epithelium -__init__ -- INFO -Initial junctions\n"
       ]
      },
      {
       "output_type": "stream",
       "stream": "stderr",
       "text": [
        "2015-01-26 19:26:35,835 -leg_joint.epithelium -__init__ -- INFO -Update geometry\n"
       ]
      }
     ],
     "prompt_number": 7
    },
    {
     "cell_type": "markdown",
     "metadata": {},
     "source": [
      "## simple profile output at the root of optimisation branch:\n",
      "\n",
      "```python\n",
      "def do_update():\n",
      "    eptm.update_geometry()\n",
      "    eptm.update_gradient()\n",
      "import cProfile\n",
      "cProfile.run('do_update()')\n",
      "```\n",
      "\n",
      "```\n",
      "        3765564 function calls in 7.167 seconds\n",
      "\n",
      "   Ordered by: standard name\n",
      "\n",
      "   ncalls  tottime  percall  cumtime  percall filename:lineno(function)\n",
      "        1    0.000    0.000    7.167    7.167 <ipython-input-5-e1f38767d06b>:1(do_update)\n",
      "        1    0.000    0.000    7.167    7.167 <string>:1(<module>)\n",
      "        3    0.000    0.000    0.000    0.000 __init__.py:1336(vertices)\n",
      "        1    0.000    0.000    0.000    0.000 __init__.py:139(_prop)\n",
      "        5    0.000    0.000    0.000    0.000 __init__.py:1401(edges)\n",
      "       71    0.000    0.000    0.000    0.000 __init__.py:1704(_get_max_edge_index)\n",
      "        3    0.000    0.000    0.000    0.000 __init__.py:1757(new_edge_property)\n",
      "        4    0.000    0.000    0.000    0.000 __init__.py:176(_type_alias)\n",
      "        1    0.000    0.000    0.000    0.000 __init__.py:198(_python_type)\n",
      "       14    0.000    0.000    0.000    0.000 __init__.py:2052(get_vertex_filter)\n",
      "        6    0.000    0.000    0.000    0.000 __init__.py:2084(get_edge_filter)\n",
      "        6    0.000    0.000    0.000    0.000 __init__.py:2184(num_edges)\n",
      "        1    0.000    0.000    0.000    0.000 __init__.py:236(_convert)\n",
      "        4    0.000    0.000    0.000    0.000 __init__.py:2362(value_types)\n",
      "    11911    0.108    0.000    0.108    0.000 __init__.py:2379(_out_neighbours)\n",
      "    19981    0.035    0.000    0.041    0.000 __init__.py:2443(<lambda>)\n",
      "    76077    0.326    0.000    0.326    0.000 __init__.py:2474(_edge_iter)\n",
      "      253    0.000    0.000    0.000    0.000 __init__.py:276(_get_pmap)\n",
      "      120    0.000    0.000    0.000    0.000 __init__.py:279(_set_pmap)\n",
      "       43    0.000    0.000    0.001    0.000 __init__.py:285(__new__)\n",
      "      199    0.000    0.000    0.000    0.000 __init__.py:298(_get_base)\n",
      "      199    0.001    0.000    0.001    0.000 __init__.py:304(_get_base_data)\n",
      "      147    0.001    0.000    0.001    0.000 __init__.py:307(_check_data)\n",
      "       77    0.000    0.000    0.001    0.000 __init__.py:320(__array_finalize__)\n",
      "       18    0.000    0.000    0.001    0.000 __init__.py:333(__array_prepare__)\n",
      "       18    0.000    0.000    0.000    0.000 __init__.py:337(__array_wrap__)\n",
      "       18    0.000    0.000    0.001    0.000 __init__.py:347(checked_method)\n",
      "        3    0.000    0.000    0.000    0.000 __init__.py:400(__init__)\n",
      "        6    0.000    0.000    0.000    0.000 __init__.py:403(<lambda>)\n",
      "  1022637    0.393    0.000    0.534    0.000 __init__.py:414(__key_trans)\n",
      "        3    0.000    0.000    0.000    0.000 __init__.py:421(__register_map)\n",
      "        3    0.000    0.000    0.000    0.000 __init__.py:426(__unregister_map)\n",
      "        3    0.000    0.000    0.000    0.000 __init__.py:431(__del__)\n",
      "   712236    1.900    0.000    2.285    0.000 __init__.py:434(__getitem__)\n",
      "   310401    0.780    0.000    0.929    0.000 __init__.py:437(__setitem__)\n",
      "      188    0.000    0.000    0.000    0.000 __init__.py:473(get_graph)\n",
      "  1022638    0.141    0.000    0.141    0.000 __init__.py:480(key_type)\n",
      "        4    0.000    0.000    0.000    0.000 __init__.py:484(value_type)\n",
      "       43    0.000    0.000    0.001    0.000 __init__.py:492(get_array)\n",
      "      174    0.000    0.000    0.000    0.000 __init__.py:516(_get_data)\n",
      "       12    0.000    0.000    0.001    0.000 __init__.py:529(__set_array)\n",
      "       14    0.000    0.000    0.001    0.000 __init__.py:544(__get_set_f_array)\n",
      "        6    0.000    0.000    0.001    0.000 __init__.py:586(<lambda>)\n",
      "        1    0.005    0.005    0.005    0.005 __init__.py:72(find_edge)\n",
      "     1729    0.003    0.000    0.005    0.000 _methods.py:43(_count_reduce_items)\n",
      "     1729    0.018    0.000    0.044    0.000 _methods.py:53(_mean)\n",
      "        1    0.000    0.000    3.761    3.761 dynamics.py:130(update_gradient)\n",
      "        1    0.002    0.002    0.529    0.529 dynamics.py:141(_update_cells_grad)\n",
      "     1729    0.130    0.000    0.505    0.000 dynamics.py:152(_calc_vol_grad_cell)\n",
      "        1    0.249    0.249    3.232    3.232 dynamics.py:168(_update_junctions_grad)\n",
      "     5059    0.618    0.000    2.565    0.001 dynamics.py:190(_update_edge_grad)\n",
      "        1    0.012    0.012    3.405    3.405 epithelium.py:262(update_geometry)\n",
      "     1729    0.086    0.000    0.316    0.000 epithelium.py:281(_one_cell_geom)\n",
      "        1    0.003    0.003    0.345    0.345 epithelium.py:330(update_cells_pos)\n",
      "     1729    0.021    0.000    0.321    0.000 epithelium.py:334(_set_cell_pos)\n",
      "     1729    0.033    0.000    0.221    0.000 epithelium.py:335(<listcomp>)\n",
      "    10118    0.005    0.000    0.012    0.000 linalg.py:111(isComplexType)\n",
      "    10118    0.050    0.000    0.136    0.000 linalg.py:1924(norm)\n",
      "    80686    0.079    0.000    0.079    0.000 numeric.py:1347(rollaxis)\n",
      "    40343    0.723    0.000    1.066    0.000 numeric.py:1406(cross)\n",
      "    90865    0.084    0.000    0.201    0.000 numeric.py:394(asarray)\n",
      "     1729    0.002    0.000    0.005    0.000 numeric.py:464(asanyarray)\n",
      "        1    0.000    0.000    0.001    0.001 objects.py:290(update_rhotheta)\n",
      "        3    0.607    0.202    1.092    0.364 objects.py:305(edge_difference)\n",
      "        1    0.000    0.000    1.092    1.092 objects.py:314(update_deltas)\n",
      "        1    0.000    0.000    0.001    0.001 objects.py:357(update_edge_lengths)\n",
      "    10118    0.275    0.000    1.465    0.000 objects.py:466(update_geometry)\n",
      "     5059    0.017    0.000    1.483    0.000 objects.py:509(update_geometry)\n",
      "     5190    0.024    0.000    0.061    0.000 objects.py:553(__iter__)\n",
      "    10120    0.055    0.000    0.217    0.000 objects.py:740(__iter__)\n",
      "        1    0.000    0.000    0.000    0.000 utils.py:13(to_rhotheta)\n",
      "   154902    0.237    0.000    0.237    0.000 {built-in method array}\n",
      "    10118    0.041    0.000    0.041    0.000 {built-in method dot}\n",
      "    40343    0.033    0.000    0.033    0.000 {built-in method empty}\n",
      "        1    0.000    0.000    7.167    7.167 {built-in method exec}\n",
      "       18    0.000    0.000    0.000    0.000 {built-in method getattr}\n",
      "        9    0.000    0.000    0.000    0.000 {built-in method id}\n",
      "    23442    0.007    0.000    0.007    0.000 {built-in method isinstance}\n",
      "    11847    0.008    0.000    0.008    0.000 {built-in method issubclass}\n",
      "     3458    0.001    0.000    0.001    0.000 {built-in method len}\n",
      "    40343    0.021    0.000    0.021    0.000 {built-in method promote_types}\n",
      "        1    0.000    0.000    0.000    0.000 {method 'disable' of '_lsprof.Profiler' objects}\n",
      "     1729    0.002    0.000    0.046    0.000 {method 'mean' of 'numpy.ndarray' objects}\n",
      "    10118    0.010    0.000    0.010    0.000 {method 'ravel' of 'numpy.ndarray' objects}\n",
      "     1729    0.014    0.000    0.014    0.000 {method 'reduce' of 'numpy.ufunc' objects}\n",
      "    10118    0.002    0.000    0.002    0.000 {method 'values' of 'dict' objects}\n",
      "       43    0.000    0.000    0.000    0.000 {method 'view' of 'numpy.ndarray' objects}\n",
      "```\n",
      "\n",
      "\n"
     ]
    },
    {
     "cell_type": "code",
     "collapsed": false,
     "input": [
      "def do_update():\n",
      "    eptm.update_geometry()\n",
      "    eptm.update_gradient()\n",
      "import cProfile\n",
      "cProfile.run('do_update()')\n"
     ],
     "language": "python",
     "metadata": {},
     "outputs": [
      {
       "output_type": "stream",
       "stream": "stdout",
       "text": [
        "         3354233 function calls in 6.289 seconds\n",
        "\n",
        "   Ordered by: standard name\n",
        "\n",
        "   ncalls  tottime  percall  cumtime  percall filename:lineno(function)\n",
        "        1    0.000    0.000    6.289    6.289 <ipython-input-8-e1f38767d06b>:1(do_update)\n",
        "        1    0.000    0.000    6.289    6.289 <string>:1(<module>)\n",
        "        3    0.000    0.000    0.000    0.000 __init__.py:1336(vertices)\n",
        "        7    0.000    0.000    0.000    0.000 __init__.py:139(_prop)\n",
        "        2    0.000    0.000    0.000    0.000 __init__.py:1401(edges)\n",
        "       71    0.000    0.000    0.000    0.000 __init__.py:1704(_get_max_edge_index)\n",
        "        3    0.000    0.000    0.000    0.000 __init__.py:1757(new_edge_property)\n",
        "        4    0.000    0.000    0.000    0.000 __init__.py:176(_type_alias)\n",
        "        3    0.000    0.000    0.000    0.000 __init__.py:1977(is_directed)\n",
        "        1    0.000    0.000    0.000    0.000 __init__.py:198(_python_type)\n",
        "       14    0.000    0.000    0.000    0.000 __init__.py:2052(get_vertex_filter)\n",
        "        6    0.000    0.000    0.000    0.000 __init__.py:2084(get_edge_filter)\n",
        "        6    0.000    0.000    0.000    0.000 __init__.py:2184(num_edges)\n",
        "        1    0.000    0.000    0.000    0.000 __init__.py:236(_convert)\n",
        "        4    0.000    0.000    0.000    0.000 __init__.py:2362(value_types)\n",
        "    11911    0.105    0.000    0.105    0.000 __init__.py:2379(_out_neighbours)\n",
        "    19981    0.039    0.000    0.044    0.000 __init__.py:2443(<lambda>)\n",
        "    76077    0.341    0.000    0.341    0.000 __init__.py:2474(_edge_iter)\n",
        "      276    0.000    0.000    0.000    0.000 __init__.py:276(_get_pmap)\n",
        "      131    0.000    0.000    0.000    0.000 __init__.py:279(_set_pmap)\n",
        "       47    0.000    0.000    0.001    0.000 __init__.py:285(__new__)\n",
        "      217    0.000    0.000    0.000    0.000 __init__.py:298(_get_base)\n",
        "      217    0.001    0.000    0.001    0.000 __init__.py:304(_get_base_data)\n",
        "      161    0.001    0.000    0.002    0.000 __init__.py:307(_check_data)\n",
        "       84    0.000    0.000    0.002    0.000 __init__.py:320(__array_finalize__)\n",
        "       21    0.000    0.000    0.001    0.000 __init__.py:333(__array_prepare__)\n",
        "       21    0.000    0.000    0.000    0.000 __init__.py:337(__array_wrap__)\n",
        "       19    0.000    0.000    0.001    0.000 __init__.py:347(checked_method)\n",
        "        3    0.000    0.000    0.000    0.000 __init__.py:400(__init__)\n",
        "        6    0.000    0.000    0.000    0.000 __init__.py:403(<lambda>)\n",
        "   885468    0.351    0.000    0.465    0.000 __init__.py:414(__key_trans)\n",
        "        3    0.000    0.000    0.000    0.000 __init__.py:421(__register_map)\n",
        "        3    0.000    0.000    0.000    0.000 __init__.py:426(__unregister_map)\n",
        "        3    0.000    0.000    0.000    0.000 __init__.py:431(__del__)\n",
        "   620790    1.760    0.000    2.093    0.000 __init__.py:434(__getitem__)\n",
        "   264678    0.563    0.000    0.696    0.000 __init__.py:437(__setitem__)\n",
        "      204    0.000    0.000    0.000    0.000 __init__.py:473(get_graph)\n",
        "   885475    0.114    0.000    0.114    0.000 __init__.py:480(key_type)\n",
        "        7    0.000    0.000    0.000    0.000 __init__.py:484(value_type)\n",
        "       47    0.000    0.000    0.002    0.000 __init__.py:492(get_array)\n",
        "      190    0.001    0.000    0.001    0.000 __init__.py:516(_get_data)\n",
        "       13    0.000    0.000    0.001    0.000 __init__.py:529(__set_array)\n",
        "       14    0.000    0.000    0.001    0.000 __init__.py:544(__get_set_f_array)\n",
        "        6    0.000    0.000    0.001    0.000 __init__.py:586(<lambda>)\n",
        "        1    0.003    0.003    0.003    0.003 __init__.py:72(find_edge)\n",
        "        3    0.011    0.004    0.011    0.004 __init__.py:986(edge_difference)\n",
        "     1729    0.003    0.000    0.005    0.000 _methods.py:43(_count_reduce_items)\n",
        "     1729    0.018    0.000    0.043    0.000 _methods.py:53(_mean)\n",
        "        1    0.000    0.000    3.875    3.875 dynamics.py:130(update_gradient)\n",
        "        1    0.002    0.002    0.582    0.582 dynamics.py:141(_update_cells_grad)\n",
        "     1729    0.145    0.000    0.557    0.000 dynamics.py:152(_calc_vol_grad_cell)\n",
        "        1    0.246    0.246    3.293    3.293 dynamics.py:169(_update_junctions_grad)\n",
        "     5059    0.606    0.000    2.624    0.001 dynamics.py:192(_update_edge_grad)\n",
        "        1    0.011    0.011    2.414    2.414 epithelium.py:262(update_geometry)\n",
        "     1729    0.088    0.000    0.328    0.000 epithelium.py:281(_one_cell_geom)\n",
        "        1    0.003    0.003    0.331    0.331 epithelium.py:330(update_cells_pos)\n",
        "     1729    0.020    0.000    0.306    0.000 epithelium.py:334(_set_cell_pos)\n",
        "     1729    0.031    0.000    0.210    0.000 epithelium.py:335(<listcomp>)\n",
        "    10118    0.005    0.000    0.012    0.000 linalg.py:111(isComplexType)\n",
        "    10118    0.054    0.000    0.149    0.000 linalg.py:1924(norm)\n",
        "    80686    0.081    0.000    0.081    0.000 numeric.py:1347(rollaxis)\n",
        "    40343    0.800    0.000    1.163    0.000 numeric.py:1406(cross)\n",
        "    90872    0.082    0.000    0.210    0.000 numeric.py:394(asarray)\n",
        "     1729    0.002    0.000    0.005    0.000 numeric.py:464(asanyarray)\n",
        "        1    0.000    0.000    0.001    0.001 objects.py:350(update_rhotheta)\n",
        "        3    0.000    0.000    0.011    0.004 objects.py:365(edge_difference)\n",
        "        1    0.000    0.000    0.012    0.012 objects.py:369(update_deltas)\n",
        "        1    0.000    0.000    0.002    0.002 objects.py:412(update_edge_lengths)\n",
        "    10118    0.287    0.000    1.550    0.000 objects.py:521(update_geometry)\n",
        "     5059    0.018    0.000    1.569    0.000 objects.py:564(update_geometry)\n",
        "     5190    0.026    0.000    0.063    0.000 objects.py:608(__iter__)\n",
        "    10120    0.056    0.000    0.223    0.000 objects.py:795(__iter__)\n",
        "        1    0.000    0.000    0.000    0.000 utils.py:13(to_rhotheta)\n",
        "   154909    0.257    0.000    0.257    0.000 {built-in method array}\n",
        "    10118    0.046    0.000    0.046    0.000 {built-in method dot}\n",
        "    40343    0.037    0.000    0.037    0.000 {built-in method empty}\n",
        "        1    0.000    0.000    6.289    6.289 {built-in method exec}\n",
        "       19    0.000    0.000    0.000    0.000 {built-in method getattr}\n",
        "        9    0.000    0.000    0.000    0.000 {built-in method id}\n",
        "    23442    0.007    0.000    0.007    0.000 {built-in method isinstance}\n",
        "    11847    0.008    0.000    0.008    0.000 {built-in method issubclass}\n",
        "     3458    0.001    0.000    0.001    0.000 {built-in method len}\n",
        "    40343    0.024    0.000    0.024    0.000 {built-in method promote_types}\n",
        "        1    0.000    0.000    0.000    0.000 {method 'disable' of '_lsprof.Profiler' objects}\n",
        "     1729    0.002    0.000    0.045    0.000 {method 'mean' of 'numpy.ndarray' objects}\n",
        "    10118    0.011    0.000    0.011    0.000 {method 'ravel' of 'numpy.ndarray' objects}\n",
        "     1729    0.014    0.000    0.014    0.000 {method 'reduce' of 'numpy.ufunc' objects}\n",
        "    10118    0.002    0.000    0.002    0.000 {method 'values' of 'dict' objects}\n",
        "       47    0.000    0.000    0.000    0.000 {method 'view' of 'numpy.ndarray' objects}\n",
        "\n",
        "\n"
       ]
      }
     ],
     "prompt_number": 8
    },
    {
     "cell_type": "code",
     "collapsed": false,
     "input": [
      "%load_ext snakeviz\n"
     ],
     "language": "python",
     "metadata": {},
     "outputs": [],
     "prompt_number": 9
    },
    {
     "cell_type": "code",
     "collapsed": false,
     "input": [
      "%%snakeviz\n",
      "do_update()"
     ],
     "language": "python",
     "metadata": {},
     "outputs": [
      {
       "output_type": "stream",
       "stream": "stdout",
       "text": [
        " \n",
        "*** Profile stats marshalled to file '/tmp/tmpj6s7jq7u'. \n"
       ]
      }
     ],
     "prompt_number": 10
    },
    {
     "cell_type": "code",
     "collapsed": false,
     "input": [
      "eptm = lj.Epithelium(lj.data.small_xml())"
     ],
     "language": "python",
     "metadata": {},
     "outputs": [
      {
       "output_type": "stream",
       "stream": "stderr",
       "text": [
        "2015-01-26 19:26:53,783 -leg_joint.epithelium -__init__ -- INFO -Instanciating epithelium 0\n"
       ]
      },
      {
       "output_type": "stream",
       "stream": "stderr",
       "text": [
        "2015-01-26 19:26:53,833 -leg_joint.epithelium -__init__ -- INFO -Initial cells\n"
       ]
      },
      {
       "output_type": "stream",
       "stream": "stderr",
       "text": [
        "2015-01-26 19:26:53,834 -leg_joint.epithelium -__init__ -- INFO -Initial junctions\n"
       ]
      },
      {
       "output_type": "stream",
       "stream": "stderr",
       "text": [
        "2015-01-26 19:26:54,196 -leg_joint.epithelium -__init__ -- INFO -Update geometry\n"
       ]
      }
     ],
     "prompt_number": 11
    },
    {
     "cell_type": "code",
     "collapsed": false,
     "input": [
      "%%snakeviz\n",
      "\n",
      "eptm.isotropic_relax()"
     ],
     "language": "python",
     "metadata": {},
     "outputs": [
      {
       "output_type": "stream",
       "stream": "stdout",
       "text": [
        " \n",
        "*** Profile stats marshalled to file '/tmp/tmp0kuitusj'. \n"
       ]
      }
     ],
     "prompt_number": 12
    },
    {
     "cell_type": "code",
     "collapsed": false,
     "input": [
      "mother_cell = eptm.graph.vertex(3)"
     ],
     "language": "python",
     "metadata": {},
     "outputs": [],
     "prompt_number": 13
    },
    {
     "cell_type": "code",
     "collapsed": false,
     "input": [
      "%%snakeviz\n",
      "eptm.update_geometry()\n"
     ],
     "language": "python",
     "metadata": {},
     "outputs": [
      {
       "output_type": "stream",
       "stream": "stdout",
       "text": [
        " \n",
        "*** Profile stats marshalled to file '/tmp/tmpa5weosy5'. \n"
       ]
      }
     ],
     "prompt_number": 14
    },
    {
     "cell_type": "code",
     "collapsed": false,
     "input": [
      "area0 = eptm.cells.areas[mother_cell]\n",
      "growth_rate = 1.5\n",
      "eptm.cells.prefered_vol[mother_cell] *= growth_rate\n",
      "\n"
     ],
     "language": "python",
     "metadata": {},
     "outputs": [],
     "prompt_number": 15
    },
    {
     "cell_type": "code",
     "collapsed": false,
     "input": [
      "%%snakeviz\n",
      "eptm.update_gradient()"
     ],
     "language": "python",
     "metadata": {},
     "outputs": [
      {
       "output_type": "stream",
       "stream": "stdout",
       "text": [
        " \n",
        "*** Profile stats marshalled to file '/tmp/tmph07as2ho'. \n"
       ]
      }
     ],
     "prompt_number": 16
    },
    {
     "cell_type": "code",
     "collapsed": false,
     "input": [
      "eptm.set_local_mask(mother_cell)\n",
      "local_graph = gt.GraphView(eptm.graph, vfilt=eptm.is_local_vert, efilt=eptm.is_local_edge)"
     ],
     "language": "python",
     "metadata": {},
     "outputs": [],
     "prompt_number": 17
    },
    {
     "cell_type": "code",
     "collapsed": false,
     "input": [
      "import hdfgraph\n",
      "vertex_df, edges_df  = hdfgraph.graph_to_dataframes(local_graph)\n",
      "\n",
      "srcs = edges_df.index.get_level_values('source')\n",
      "trgts = edges_df.index.get_level_values('target')\n",
      "\n",
      "coords = ['ixs', 'wys', 'zeds']\n",
      "dcoords = ['d'+c for c in coords]\n",
      "\n",
      "edges_df[dcoords] = vertex_df[coords].loc[trgts].values - vertex_df[coords].loc[srcs].values\n",
      "edges_df.edge_lengths = (edges_df[dcoords]**2).sum(axis=1)**0.5\n",
      "deltas = edges_df[dcoords]\n",
      "\n",
      "cell_idxs = vertex_df[vertex_df['is_cell_vert'] == 1].index\n",
      "jv_idxs = vertex_df[vertex_df['is_cell_vert'] == 0].index"
     ],
     "language": "python",
     "metadata": {},
     "outputs": [],
     "prompt_number": 42
    },
    {
     "cell_type": "code",
     "collapsed": false,
     "input": [
      "deltas[edges_df['is_junction_edge']==0].shape"
     ],
     "language": "python",
     "metadata": {},
     "outputs": [
      {
       "metadata": {},
       "output_type": "pyout",
       "prompt_number": 43,
       "text": [
        "(42, 3)"
       ]
      }
     ],
     "prompt_number": 43
    },
    {
     "cell_type": "code",
     "collapsed": false,
     "input": [
      "from leg_joint.objects import get_faces"
     ],
     "language": "python",
     "metadata": {},
     "outputs": [],
     "prompt_number": 20
    },
    {
     "cell_type": "code",
     "collapsed": false,
     "input": [
      "tri_array = get_faces(local_graph)"
     ],
     "language": "python",
     "metadata": {},
     "outputs": [],
     "prompt_number": 21
    },
    {
     "cell_type": "code",
     "collapsed": false,
     "input": [
      "np.unique(tri_array[:, 0])"
     ],
     "language": "python",
     "metadata": {},
     "outputs": [
      {
       "metadata": {},
       "output_type": "pyout",
       "prompt_number": 22,
       "text": [
        "array([ 2,  3,  4, 10, 51, 52, 53])"
       ]
      }
     ],
     "prompt_number": 22
    },
    {
     "cell_type": "code",
     "collapsed": false,
     "input": [
      "import pandas as pd"
     ],
     "language": "python",
     "metadata": {},
     "outputs": [],
     "prompt_number": 23
    },
    {
     "cell_type": "code",
     "collapsed": false,
     "input": [
      "tri_cells = pd.Index(tri_array[:, 0], name='cells')\n",
      "tri_jv0s = pd.Index(tri_array[:, 1], name='jv_i')\n",
      "tri_jv1s = pd.Index(tri_array[:, 2], name='jv_j')\n",
      "tri_jes = pd.MultiIndex.from_arrays((tri_array[:, 1], tri_array[:, 2]), names=('source', 'target'))\n",
      "tri_ak = pd.MultiIndex.from_arrays((tri_array[:, 0], tri_array[:, 1]), names=('source', 'target'))\n",
      "tri_am = pd.MultiIndex.from_arrays((tri_array[:, 0], tri_array[:, 2]), names=('source', 'target'))\n"
     ],
     "language": "python",
     "metadata": {},
     "outputs": [],
     "prompt_number": 24
    },
    {
     "cell_type": "code",
     "collapsed": false,
     "input": [
      "r_ijs = deltas.loc[tri_jes]\n",
      "\n",
      "r_ak = deltas.loc[tri_ak]\n",
      "r_am = deltas.loc[tri_am]\n",
      "\n",
      "crosses = pd.DataFrame(np.cross(r_ak, r_am), index=tri_cells)\n",
      "cxs_norms = ((crosses**2).sum(axis=1)**0.5)\n",
      "areas = cxs_norms.sum(level='cells')/2\n",
      "normals = crosses / cxs_norms.repeat(3).reshape((cxs_norms.size, 3))\n",
      "ell_ij = edges_df.edge_lengths.loc[r_ijs.index]\n",
      "\n",
      "grad_i_lij = r_ijs / ell_ij.repeat(3).reshape((ell_ij.size, 3))\n"
     ],
     "language": "python",
     "metadata": {},
     "outputs": [],
     "prompt_number": 44
    },
    {
     "cell_type": "code",
     "collapsed": false,
     "input": [
      "tension_grad = vertex_df[coords].copy()\n",
      "tension_grad *= 0\n",
      "\n",
      "tension_grad.loc[jv_idxs] += grad_i_lij.sum(level='source').loc[jv_idxs]\n",
      "tension_grad.loc[jv_idxs] +=- grad_i_lij.sum(level='target').loc[jv_idxs]\n",
      "\n"
     ],
     "language": "python",
     "metadata": {},
     "outputs": [],
     "prompt_number": 46
    },
    {
     "cell_type": "code",
     "collapsed": false,
     "input": [],
     "language": "python",
     "metadata": {},
     "outputs": []
    },
    {
     "cell_type": "markdown",
     "metadata": {},
     "source": [
      "## Gradient computation at junction vertices\n",
      "\n",
      "In order to find the local energy minimum, as shown below, we use a conjugate gradient method\n",
      "(namely the [`fmin_lbfgs`](http://docs.scipy.org/doc/scipy/reference/tutorial/optimize.html#broyden-fletcher-goldfarb-shanno-algorithm-method-bfgs) algorithm from SciPy). So we need to compute said gradient at each junction vertex that concur to the optimization.\n",
      "\n",
      "In order to compute the local minimum of the energy, we calculate its\n",
      "gradient at junction vertex $i$ whose position in the 3D space is defined by the vector $\\mathbf{r_i}$ pointing from the coordinate system's origin. An edge between two vertices is noted\n",
      "$\\mathbf{r_{ij}} = \\mathbf{r_j} - \\mathbf{r_i}$. The coefficients noted $c_{ij}$ correspond to the terms of the graph's adjacency matrix, such that they are equal to 1 if an edge exists between vertices $i$ and $j$, and 0 otherwise.\n",
      "\n",
      "$$\n",
      "\\begin{aligned} \n",
      "   \\mathbf{\\nabla_i} E &= (\\frac{\\partial E}{\\partial x},\n",
      "                     \\frac{\\partial E}{\\partial y},\n",
      "                     \\frac{\\partial E}{\\partial z}) \\\\\n",
      "   \\mathbf{\\nabla_i} E &= \\sum_\\alpha \\left(K (V_\\alpha - V_0) \n",
      "   \\mathbf{\\nabla_i} V_\\alpha  \n",
      "   + \\Gamma L_\\alpha \\mathbf{\\nabla_i} L_\\alpha  \\right)c_{i \\alpha}  \n",
      "   + \\sum_i \\Lambda_{ij} \\mathbf{\\nabla_i} \\ell_{ij}c_{ij}\n",
      "\\end{aligned}\n",
      "$$\n",
      "\n",
      "We have \n",
      "$$\n",
      "\\begin{aligned} \n",
      "   \\mathbf{\\nabla_i}\\ell_{ij} &=  \\frac{\\mathbf{r}_{ij}}{\\ell_{ij}}c_{ij}\\\\\n",
      "   \\mathbf{\\nabla_i}L_\\alpha &= \\sum_{kn} \\mathbf{\\nabla_i} \n",
      "   \\ell_{kn} c_{\\alpha k} c_{\\alpha n}\n",
      "   = \\sum_{j} \\mathbf{\\nabla_i}\\ell_{ij} c_{ij} c_{\\alpha i} c_{\\alpha j}\n",
      "   = \\sum_{j} \\frac{\\mathbf{r_{ij}}}{\\ell_{ij}}c_{ij}c_{\\alpha i} c_{\\alpha j}\\\\\n",
      "   \\mathbf{\\nabla_i}V_{\\alpha} &=  \\sum_{km}\\mathbf{\\nabla_i}V_{\\alpha km}\n",
      "   c_{\\alpha k}c_{\\alpha m}c_{km}\n",
      "   = \\sum_{km} \\mathbf{\\nabla_i}h_\\alpha A_{\\alpha km}\n",
      "   c_{\\alpha k}c_{\\alpha m}c_{km}\n",
      "   = A_\\alpha \\mathbf{\\nabla_i}h_\\alpha + \n",
      "   h_\\alpha \\sum_{km} \\mathbf{\\nabla_i} A_{\\alpha km}c_{\\alpha k}\n",
      "   c_{\\alpha m}c_{km}\\\\\n",
      "   \\mathbf{\\nabla_i}V_{\\alpha} &= \n",
      "   \\frac{h_\\alpha}{2} \\sum_{km}\\mathbf{u}_{\\alpha km} \n",
      "   \\times \\frac{\\mathbf{r}_{km}}{\\nu}c_{\\alpha k}c_{\\alpha m}c_{km}\n",
      "   + \\sum_{j}\\left(A_{\\alpha ij}\\frac{\\mathbf{r_i}}{2\\rho_i} \n",
      "   + \\frac{h_\\alpha}{2}\\mathbf{r}_{\\alpha j} \\times \\mathbf{u}_{\\alpha ij}\\right)\n",
      "     c_{\\alpha j}c_{ij}\\\\\n",
      "\\end{aligned}\n",
      "$$\n",
      "\n",
      "With the normal perpendicular to the $(\\mathbf{r_k}, \\mathbf{r_m})$ plane noted:\n",
      "\n",
      "$$\n",
      "\\mathbf{u}_{\\alpha km} = \\frac{\\mathbf{r}_{\\alpha k} \\times \\mathbf{r}_{\\alpha m}}{||\\mathbf{r}_{\\alpha k} \\times \\mathbf{r}_{\\alpha m}||}\n",
      "$$ \n",
      "\n",
      "\n",
      "And the area computed as\n",
      "\n",
      "$$\n",
      "A_{\\alpha km}  = ||\\mathbf{r}_{\\alpha k} \\times \\mathbf{r}_{\\alpha m}||\n",
      "$$"
     ]
    },
    {
     "cell_type": "code",
     "collapsed": false,
     "input": [
      "deltas.loc[tri_jes]"
     ],
     "language": "python",
     "metadata": {},
     "outputs": []
    },
    {
     "cell_type": "code",
     "collapsed": false,
     "input": [
      "eptm.is_cell_vert.a.sum()"
     ],
     "language": "python",
     "metadata": {},
     "outputs": []
    },
    {
     "cell_type": "code",
     "collapsed": false,
     "input": [
      "eptm.graph.set_vertex_filter(None)\n",
      "num_sides = eptm.graph.degree_property_map('out')\n",
      "eptm.graph.set_vertex_filter(eptm.is_cell_vert)\n",
      "\n",
      "num_sides.fa.sum()\n"
     ],
     "language": "python",
     "metadata": {},
     "outputs": []
    },
    {
     "cell_type": "code",
     "collapsed": false,
     "input": [
      "isos = gt.subgraph_isomorphism(tri_graph, local_graph)"
     ],
     "language": "python",
     "metadata": {},
     "outputs": []
    },
    {
     "cell_type": "code",
     "collapsed": false,
     "input": [
      "isos_vals = [list(iso.a) for iso in isos]"
     ],
     "language": "python",
     "metadata": {},
     "outputs": []
    },
    {
     "cell_type": "code",
     "collapsed": false,
     "input": [
      "isos_vals"
     ],
     "language": "python",
     "metadata": {},
     "outputs": []
    },
    {
     "cell_type": "code",
     "collapsed": false,
     "input": [
      "local_graph.vp['is_cell_vert'].fa.sum()"
     ],
     "language": "python",
     "metadata": {},
     "outputs": []
    },
    {
     "cell_type": "code",
     "collapsed": false,
     "input": [
      "gt.local_graph"
     ],
     "language": "python",
     "metadata": {},
     "outputs": []
    },
    {
     "cell_type": "code",
     "collapsed": false,
     "input": [
      "deltas.loc?"
     ],
     "language": "python",
     "metadata": {},
     "outputs": []
    },
    {
     "cell_type": "code",
     "collapsed": false,
     "input": [
      "deltas.sum(level='source')"
     ],
     "language": "python",
     "metadata": {},
     "outputs": []
    },
    {
     "cell_type": "code",
     "collapsed": false,
     "input": [
      "edges_df.dixs"
     ],
     "language": "python",
     "metadata": {},
     "outputs": []
    },
    {
     "cell_type": "markdown",
     "metadata": {},
     "source": [
      "-7.455193544455806\n"
     ]
    }
   ],
   "metadata": {}
  }
 ]
}