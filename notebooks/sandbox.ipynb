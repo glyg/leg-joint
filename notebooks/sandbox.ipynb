{
 "metadata": {
  "name": "",
  "signature": "sha256:901d81e2cdf8bf635988a30d08f2d3674a463b9bb766ee0dde30bc12afde7d3d"
 },
 "nbformat": 3,
 "nbformat_minor": 0,
 "worksheets": [
  {
   "cells": [
    {
     "cell_type": "code",
     "collapsed": false,
     "input": [
      "%run nb_init.py"
     ],
     "language": "python",
     "metadata": {},
     "outputs": [
      {
       "output_type": "stream",
       "stream": "stderr",
       "text": [
        "2015-01-23 14:31:23,567 -leg_joint.filters -WARNING -This is deprecated\n"
       ]
      },
      {
       "output_type": "stream",
       "stream": "stderr",
       "text": [
        "2015-01-23 14:31:23,567 -leg_joint.filters -WARNING -This is deprecated\n"
       ]
      },
      {
       "output_type": "stream",
       "stream": "stderr",
       "text": [
        "2015-01-23 14:31:23,568 -leg_joint.filters -WARNING -This is deprecated\n"
       ]
      },
      {
       "output_type": "stream",
       "stream": "stderr",
       "text": [
        "2015-01-23 14:31:23,575 -leg_joint -INFO -successfully imported leg_joint\n"
       ]
      }
     ],
     "prompt_number": 1
    },
    {
     "cell_type": "code",
     "collapsed": false,
     "input": [
      "eptm = lj.Epithelium(graphXMLfile='../leg_joint/data/graphs/before_apoptosis.xml')"
     ],
     "language": "python",
     "metadata": {},
     "outputs": [
      {
       "output_type": "stream",
       "stream": "stderr",
       "text": [
        "2015-01-23 14:31:23,579 -leg_joint.epithelium -INFO -Instanciating epithelium 0\n"
       ]
      },
      {
       "output_type": "stream",
       "stream": "stderr",
       "text": [
        "2015-01-23 14:31:24,976 -leg_joint.epithelium -INFO -Initial cells\n"
       ]
      },
      {
       "output_type": "stream",
       "stream": "stderr",
       "text": [
        "2015-01-23 14:31:24,977 -leg_joint.epithelium -INFO -Initial junctions\n"
       ]
      },
      {
       "output_type": "stream",
       "stream": "stderr",
       "text": [
        "2015-01-23 14:31:33,275 -leg_joint.epithelium -INFO -Update geometry\n"
       ]
      }
     ],
     "prompt_number": 2
    },
    {
     "cell_type": "markdown",
     "metadata": {},
     "source": [
      "## simple profile output at the root of optimisation branch:\n",
      "\n",
      "```python\n",
      "def do_update():\n",
      "    eptm.update_geometry()\n",
      "    eptm.update_gradient()\n",
      "import cProfile\n",
      "cProfile.run('do_update()')\n",
      "```\n",
      "\n",
      "```\n",
      "        3765564 function calls in 7.167 seconds\n",
      "\n",
      "   Ordered by: standard name\n",
      "\n",
      "   ncalls  tottime  percall  cumtime  percall filename:lineno(function)\n",
      "        1    0.000    0.000    7.167    7.167 <ipython-input-5-e1f38767d06b>:1(do_update)\n",
      "        1    0.000    0.000    7.167    7.167 <string>:1(<module>)\n",
      "        3    0.000    0.000    0.000    0.000 __init__.py:1336(vertices)\n",
      "        1    0.000    0.000    0.000    0.000 __init__.py:139(_prop)\n",
      "        5    0.000    0.000    0.000    0.000 __init__.py:1401(edges)\n",
      "       71    0.000    0.000    0.000    0.000 __init__.py:1704(_get_max_edge_index)\n",
      "        3    0.000    0.000    0.000    0.000 __init__.py:1757(new_edge_property)\n",
      "        4    0.000    0.000    0.000    0.000 __init__.py:176(_type_alias)\n",
      "        1    0.000    0.000    0.000    0.000 __init__.py:198(_python_type)\n",
      "       14    0.000    0.000    0.000    0.000 __init__.py:2052(get_vertex_filter)\n",
      "        6    0.000    0.000    0.000    0.000 __init__.py:2084(get_edge_filter)\n",
      "        6    0.000    0.000    0.000    0.000 __init__.py:2184(num_edges)\n",
      "        1    0.000    0.000    0.000    0.000 __init__.py:236(_convert)\n",
      "        4    0.000    0.000    0.000    0.000 __init__.py:2362(value_types)\n",
      "    11911    0.108    0.000    0.108    0.000 __init__.py:2379(_out_neighbours)\n",
      "    19981    0.035    0.000    0.041    0.000 __init__.py:2443(<lambda>)\n",
      "    76077    0.326    0.000    0.326    0.000 __init__.py:2474(_edge_iter)\n",
      "      253    0.000    0.000    0.000    0.000 __init__.py:276(_get_pmap)\n",
      "      120    0.000    0.000    0.000    0.000 __init__.py:279(_set_pmap)\n",
      "       43    0.000    0.000    0.001    0.000 __init__.py:285(__new__)\n",
      "      199    0.000    0.000    0.000    0.000 __init__.py:298(_get_base)\n",
      "      199    0.001    0.000    0.001    0.000 __init__.py:304(_get_base_data)\n",
      "      147    0.001    0.000    0.001    0.000 __init__.py:307(_check_data)\n",
      "       77    0.000    0.000    0.001    0.000 __init__.py:320(__array_finalize__)\n",
      "       18    0.000    0.000    0.001    0.000 __init__.py:333(__array_prepare__)\n",
      "       18    0.000    0.000    0.000    0.000 __init__.py:337(__array_wrap__)\n",
      "       18    0.000    0.000    0.001    0.000 __init__.py:347(checked_method)\n",
      "        3    0.000    0.000    0.000    0.000 __init__.py:400(__init__)\n",
      "        6    0.000    0.000    0.000    0.000 __init__.py:403(<lambda>)\n",
      "  1022637    0.393    0.000    0.534    0.000 __init__.py:414(__key_trans)\n",
      "        3    0.000    0.000    0.000    0.000 __init__.py:421(__register_map)\n",
      "        3    0.000    0.000    0.000    0.000 __init__.py:426(__unregister_map)\n",
      "        3    0.000    0.000    0.000    0.000 __init__.py:431(__del__)\n",
      "   712236    1.900    0.000    2.285    0.000 __init__.py:434(__getitem__)\n",
      "   310401    0.780    0.000    0.929    0.000 __init__.py:437(__setitem__)\n",
      "      188    0.000    0.000    0.000    0.000 __init__.py:473(get_graph)\n",
      "  1022638    0.141    0.000    0.141    0.000 __init__.py:480(key_type)\n",
      "        4    0.000    0.000    0.000    0.000 __init__.py:484(value_type)\n",
      "       43    0.000    0.000    0.001    0.000 __init__.py:492(get_array)\n",
      "      174    0.000    0.000    0.000    0.000 __init__.py:516(_get_data)\n",
      "       12    0.000    0.000    0.001    0.000 __init__.py:529(__set_array)\n",
      "       14    0.000    0.000    0.001    0.000 __init__.py:544(__get_set_f_array)\n",
      "        6    0.000    0.000    0.001    0.000 __init__.py:586(<lambda>)\n",
      "        1    0.005    0.005    0.005    0.005 __init__.py:72(find_edge)\n",
      "     1729    0.003    0.000    0.005    0.000 _methods.py:43(_count_reduce_items)\n",
      "     1729    0.018    0.000    0.044    0.000 _methods.py:53(_mean)\n",
      "        1    0.000    0.000    3.761    3.761 dynamics.py:130(update_gradient)\n",
      "        1    0.002    0.002    0.529    0.529 dynamics.py:141(_update_cells_grad)\n",
      "     1729    0.130    0.000    0.505    0.000 dynamics.py:152(_calc_vol_grad_cell)\n",
      "        1    0.249    0.249    3.232    3.232 dynamics.py:168(_update_junctions_grad)\n",
      "     5059    0.618    0.000    2.565    0.001 dynamics.py:190(_update_edge_grad)\n",
      "        1    0.012    0.012    3.405    3.405 epithelium.py:262(update_geometry)\n",
      "     1729    0.086    0.000    0.316    0.000 epithelium.py:281(_one_cell_geom)\n",
      "        1    0.003    0.003    0.345    0.345 epithelium.py:330(update_cells_pos)\n",
      "     1729    0.021    0.000    0.321    0.000 epithelium.py:334(_set_cell_pos)\n",
      "     1729    0.033    0.000    0.221    0.000 epithelium.py:335(<listcomp>)\n",
      "    10118    0.005    0.000    0.012    0.000 linalg.py:111(isComplexType)\n",
      "    10118    0.050    0.000    0.136    0.000 linalg.py:1924(norm)\n",
      "    80686    0.079    0.000    0.079    0.000 numeric.py:1347(rollaxis)\n",
      "    40343    0.723    0.000    1.066    0.000 numeric.py:1406(cross)\n",
      "    90865    0.084    0.000    0.201    0.000 numeric.py:394(asarray)\n",
      "     1729    0.002    0.000    0.005    0.000 numeric.py:464(asanyarray)\n",
      "        1    0.000    0.000    0.001    0.001 objects.py:290(update_rhotheta)\n",
      "        3    0.607    0.202    1.092    0.364 objects.py:305(edge_difference)\n",
      "        1    0.000    0.000    1.092    1.092 objects.py:314(update_deltas)\n",
      "        1    0.000    0.000    0.001    0.001 objects.py:357(update_edge_lengths)\n",
      "    10118    0.275    0.000    1.465    0.000 objects.py:466(update_geometry)\n",
      "     5059    0.017    0.000    1.483    0.000 objects.py:509(update_geometry)\n",
      "     5190    0.024    0.000    0.061    0.000 objects.py:553(__iter__)\n",
      "    10120    0.055    0.000    0.217    0.000 objects.py:740(__iter__)\n",
      "        1    0.000    0.000    0.000    0.000 utils.py:13(to_rhotheta)\n",
      "   154902    0.237    0.000    0.237    0.000 {built-in method array}\n",
      "    10118    0.041    0.000    0.041    0.000 {built-in method dot}\n",
      "    40343    0.033    0.000    0.033    0.000 {built-in method empty}\n",
      "        1    0.000    0.000    7.167    7.167 {built-in method exec}\n",
      "       18    0.000    0.000    0.000    0.000 {built-in method getattr}\n",
      "        9    0.000    0.000    0.000    0.000 {built-in method id}\n",
      "    23442    0.007    0.000    0.007    0.000 {built-in method isinstance}\n",
      "    11847    0.008    0.000    0.008    0.000 {built-in method issubclass}\n",
      "     3458    0.001    0.000    0.001    0.000 {built-in method len}\n",
      "    40343    0.021    0.000    0.021    0.000 {built-in method promote_types}\n",
      "        1    0.000    0.000    0.000    0.000 {method 'disable' of '_lsprof.Profiler' objects}\n",
      "     1729    0.002    0.000    0.046    0.000 {method 'mean' of 'numpy.ndarray' objects}\n",
      "    10118    0.010    0.000    0.010    0.000 {method 'ravel' of 'numpy.ndarray' objects}\n",
      "     1729    0.014    0.000    0.014    0.000 {method 'reduce' of 'numpy.ufunc' objects}\n",
      "    10118    0.002    0.000    0.002    0.000 {method 'values' of 'dict' objects}\n",
      "       43    0.000    0.000    0.000    0.000 {method 'view' of 'numpy.ndarray' objects}\n",
      "```\n",
      "\n",
      "\n"
     ]
    },
    {
     "cell_type": "code",
     "collapsed": false,
     "input": [
      "def do_update():\n",
      "    eptm.update_geometry()\n",
      "    eptm.update_gradient()\n",
      "import cProfile\n",
      "cProfile.run('do_update()')\n"
     ],
     "language": "python",
     "metadata": {},
     "outputs": [
      {
       "output_type": "stream",
       "stream": "stdout",
       "text": [
        "         2134856 function calls in 5.074 seconds\n",
        "\n",
        "   Ordered by: standard name\n",
        "\n",
        "   ncalls  tottime  percall  cumtime  percall filename:lineno(function)\n",
        "        1    0.000    0.000    5.074    5.074 <ipython-input-3-e1f38767d06b>:1(do_update)\n",
        "        1    0.000    0.000    5.074    5.074 <string>:1(<module>)\n",
        "        3    0.000    0.000    0.000    0.000 __init__.py:1336(vertices)\n",
        "        7    0.000    0.000    0.000    0.000 __init__.py:139(_prop)\n",
        "        2    0.000    0.000    0.000    0.000 __init__.py:1401(edges)\n",
        "       71    0.000    0.000    0.000    0.000 __init__.py:1704(_get_max_edge_index)\n",
        "        3    0.000    0.000    0.000    0.000 __init__.py:1757(new_edge_property)\n",
        "        4    0.000    0.000    0.000    0.000 __init__.py:176(_type_alias)\n",
        "        3    0.000    0.000    0.000    0.000 __init__.py:1977(is_directed)\n",
        "        1    0.000    0.000    0.000    0.000 __init__.py:198(_python_type)\n",
        "       14    0.000    0.000    0.000    0.000 __init__.py:2052(get_vertex_filter)\n",
        "        6    0.000    0.000    0.000    0.000 __init__.py:2084(get_edge_filter)\n",
        "        6    0.000    0.000    0.000    0.000 __init__.py:2184(num_edges)\n",
        "        1    0.000    0.000    0.000    0.000 __init__.py:236(_convert)\n",
        "        4    0.000    0.000    0.000    0.000 __init__.py:2362(value_types)\n",
        "    11911    0.110    0.000    0.110    0.000 __init__.py:2379(_out_neighbours)\n",
        "    19981    0.040    0.000    0.045    0.000 __init__.py:2443(<lambda>)\n",
        "    76077    0.333    0.000    0.333    0.000 __init__.py:2474(_edge_iter)\n",
        "      253    0.000    0.000    0.000    0.000 __init__.py:276(_get_pmap)\n",
        "      120    0.000    0.000    0.000    0.000 __init__.py:279(_set_pmap)\n",
        "       43    0.000    0.000    0.001    0.000 __init__.py:285(__new__)\n",
        "      199    0.000    0.000    0.000    0.000 __init__.py:298(_get_base)\n",
        "      199    0.001    0.000    0.001    0.000 __init__.py:304(_get_base_data)\n",
        "      147    0.001    0.000    0.001    0.000 __init__.py:307(_check_data)\n",
        "       77    0.000    0.000    0.001    0.000 __init__.py:320(__array_finalize__)\n",
        "       18    0.000    0.000    0.001    0.000 __init__.py:333(__array_prepare__)\n",
        "       18    0.000    0.000    0.000    0.000 __init__.py:337(__array_wrap__)\n",
        "       18    0.000    0.000    0.001    0.000 __init__.py:347(checked_method)\n",
        "        3    0.000    0.000    0.000    0.000 __init__.py:400(__init__)\n",
        "        6    0.000    0.000    0.000    0.000 __init__.py:403(<lambda>)\n",
        "   470630    0.206    0.000    0.270    0.000 __init__.py:414(__key_trans)\n",
        "        3    0.000    0.000    0.000    0.000 __init__.py:421(__register_map)\n",
        "        3    0.000    0.000    0.000    0.000 __init__.py:426(__unregister_map)\n",
        "        3    0.000    0.000    0.000    0.000 __init__.py:431(__del__)\n",
        "   398194    1.346    0.000    1.579    0.000 __init__.py:434(__getitem__)\n",
        "    72436    0.160    0.000    0.198    0.000 __init__.py:437(__setitem__)\n",
        "      188    0.000    0.000    0.000    0.000 __init__.py:473(get_graph)\n",
        "   470637    0.063    0.000    0.063    0.000 __init__.py:480(key_type)\n",
        "        7    0.000    0.000    0.000    0.000 __init__.py:484(value_type)\n",
        "       43    0.000    0.000    0.001    0.000 __init__.py:492(get_array)\n",
        "      174    0.000    0.000    0.001    0.000 __init__.py:516(_get_data)\n",
        "       12    0.000    0.000    0.001    0.000 __init__.py:529(__set_array)\n",
        "       14    0.000    0.000    0.001    0.000 __init__.py:544(__get_set_f_array)\n",
        "        6    0.000    0.000    0.001    0.000 __init__.py:586(<lambda>)\n",
        "        1    0.003    0.003    0.003    0.003 __init__.py:72(find_edge)\n",
        "        3    0.001    0.000    0.001    0.000 __init__.py:986(edge_difference)\n",
        "     1729    0.003    0.000    0.005    0.000 _methods.py:43(_count_reduce_items)\n",
        "     1729    0.017    0.000    0.043    0.000 _methods.py:53(_mean)\n",
        "        1    0.000    0.000    2.713    2.713 dynamics.py:130(update_gradient)\n",
        "        1    0.003    0.003    0.551    0.551 dynamics.py:141(_update_cells_grad)\n",
        "     1729    0.135    0.000    0.525    0.000 dynamics.py:152(_calc_vol_grad_cell)\n",
        "        1    0.253    0.253    2.162    2.162 dynamics.py:169(_update_junctions_grad)\n",
        "     5059    0.474    0.000    1.485    0.000 dynamics.py:191(_update_edge_grad)\n",
        "        1    0.012    0.012    2.361    2.361 epithelium.py:262(update_geometry)\n",
        "     1729    0.087    0.000    0.322    0.000 epithelium.py:281(_one_cell_geom)\n",
        "        1    0.003    0.003    0.338    0.338 epithelium.py:330(update_cells_pos)\n",
        "     1729    0.020    0.000    0.313    0.000 epithelium.py:334(_set_cell_pos)\n",
        "     1729    0.032    0.000    0.216    0.000 epithelium.py:335(<listcomp>)\n",
        "    10118    0.005    0.000    0.012    0.000 linalg.py:111(isComplexType)\n",
        "    10118    0.050    0.000    0.141    0.000 linalg.py:1924(norm)\n",
        "    80686    0.079    0.000    0.079    0.000 numeric.py:1347(rollaxis)\n",
        "    40343    0.729    0.000    1.072    0.000 numeric.py:1406(cross)\n",
        "    90865    0.078    0.000    0.197    0.000 numeric.py:394(asarray)\n",
        "     1729    0.002    0.000    0.005    0.000 numeric.py:464(asanyarray)\n",
        "        1    0.000    0.000    0.001    0.001 objects.py:311(update_rhotheta)\n",
        "        3    0.000    0.000    0.001    0.000 objects.py:326(edge_difference)\n",
        "        1    0.000    0.000    0.002    0.002 objects.py:330(update_deltas)\n",
        "        1    0.000    0.000    0.002    0.002 objects.py:373(update_edge_lengths)\n",
        "    10118    0.279    0.000    1.507    0.000 objects.py:482(update_geometry)\n",
        "     5059    0.017    0.000    1.526    0.000 objects.py:525(update_geometry)\n",
        "     5190    0.027    0.000    0.065    0.000 objects.py:569(__iter__)\n",
        "    10120    0.059    0.000    0.222    0.000 objects.py:756(__iter__)\n",
        "        1    0.000    0.000    0.000    0.000 utils.py:13(to_rhotheta)\n",
        "   170079    0.278    0.000    0.278    0.000 {built-in method array}\n",
        "    10118    0.044    0.000    0.044    0.000 {built-in method dot}\n",
        "    40343    0.033    0.000    0.033    0.000 {built-in method empty}\n",
        "        1    0.000    0.000    5.074    5.074 {built-in method exec}\n",
        "       18    0.000    0.000    0.000    0.000 {built-in method getattr}\n",
        "        9    0.000    0.000    0.000    0.000 {built-in method id}\n",
        "    23442    0.007    0.000    0.007    0.000 {built-in method isinstance}\n",
        "    11847    0.008    0.000    0.008    0.000 {built-in method issubclass}\n",
        "     3458    0.001    0.000    0.001    0.000 {built-in method len}\n",
        "    40343    0.023    0.000    0.023    0.000 {built-in method promote_types}\n",
        "    10118    0.021    0.000    0.021    0.000 {built-in method zeros}\n",
        "        1    0.000    0.000    0.000    0.000 {method 'disable' of '_lsprof.Profiler' objects}\n",
        "     1729    0.002    0.000    0.045    0.000 {method 'mean' of 'numpy.ndarray' objects}\n",
        "    10118    0.011    0.000    0.011    0.000 {method 'ravel' of 'numpy.ndarray' objects}\n",
        "     1729    0.014    0.000    0.014    0.000 {method 'reduce' of 'numpy.ufunc' objects}\n",
        "    10118    0.002    0.000    0.002    0.000 {method 'values' of 'dict' objects}\n",
        "       43    0.000    0.000    0.000    0.000 {method 'view' of 'numpy.ndarray' objects}\n",
        "\n",
        "\n"
       ]
      }
     ],
     "prompt_number": 3
    },
    {
     "cell_type": "code",
     "collapsed": false,
     "input": [
      "%load_ext snakeviz\n"
     ],
     "language": "python",
     "metadata": {},
     "outputs": [],
     "prompt_number": 4
    },
    {
     "cell_type": "code",
     "collapsed": false,
     "input": [
      "%%snakeviz\n",
      "do_update()"
     ],
     "language": "python",
     "metadata": {},
     "outputs": [
      {
       "output_type": "stream",
       "stream": "stdout",
       "text": [
        " \n",
        "*** Profile stats marshalled to file '/tmp/tmpdmh7w5kb'. \n"
       ]
      }
     ],
     "prompt_number": 5
    },
    {
     "cell_type": "code",
     "collapsed": false,
     "input": [
      "eptm = lj.Epithelium(lj.data.small_xml())"
     ],
     "language": "python",
     "metadata": {},
     "outputs": [
      {
       "output_type": "stream",
       "stream": "stderr",
       "text": [
        "2015-01-23 14:32:42,790 -leg_joint.epithelium -INFO -Instanciating epithelium 0\n"
       ]
      },
      {
       "output_type": "stream",
       "stream": "stderr",
       "text": [
        "2015-01-23 14:32:42,842 -leg_joint.epithelium -INFO -Initial cells\n"
       ]
      },
      {
       "output_type": "stream",
       "stream": "stderr",
       "text": [
        "2015-01-23 14:32:42,843 -leg_joint.epithelium -INFO -Initial junctions\n"
       ]
      },
      {
       "output_type": "stream",
       "stream": "stderr",
       "text": [
        "2015-01-23 14:32:43,089 -leg_joint.epithelium -INFO -Update geometry\n"
       ]
      }
     ],
     "prompt_number": 6
    },
    {
     "cell_type": "code",
     "collapsed": false,
     "input": [
      "eptm.isotropic_relax()"
     ],
     "language": "python",
     "metadata": {},
     "outputs": [
      {
       "output_type": "stream",
       "stream": "stderr",
       "text": [
        "2015-01-23 14:32:43,826 -leg_joint.filters -WARNING -This is deprecated\n"
       ]
      },
      {
       "output_type": "stream",
       "stream": "stderr",
       "text": [
        "2015-01-23 14:32:43,828 -leg_joint.filters -WARNING -This is deprecated\n"
       ]
      }
     ],
     "prompt_number": 7
    },
    {
     "cell_type": "code",
     "collapsed": false,
     "input": [
      "from numpy.testing import assert_almost_equal"
     ],
     "language": "python",
     "metadata": {},
     "outputs": [],
     "prompt_number": 8
    },
    {
     "cell_type": "code",
     "collapsed": false,
     "input": [
      "eptm.graph.set_vertex_filter(eptm.is_cell_vert)\n",
      "a_m = eptm.cells.areas.fa.mean()\n",
      "assert_almost_equal(a_m, 10.16611365710395) \n",
      "print(eptm.cells.areas.fa.mean())\n",
      "eptm.graph.set_vertex_filter(None)"
     ],
     "language": "python",
     "metadata": {},
     "outputs": [
      {
       "output_type": "stream",
       "stream": "stdout",
       "text": [
        "10.16611365710395\n"
       ]
      }
     ],
     "prompt_number": 9
    },
    {
     "cell_type": "code",
     "collapsed": false,
     "input": [
      "mother_cell = eptm.graph.vertex(2)"
     ],
     "language": "python",
     "metadata": {},
     "outputs": [],
     "prompt_number": 10
    },
    {
     "cell_type": "code",
     "collapsed": false,
     "input": [
      "eptm.update_geometry()\n"
     ],
     "language": "python",
     "metadata": {},
     "outputs": [],
     "prompt_number": 11
    },
    {
     "cell_type": "code",
     "collapsed": false,
     "input": [
      "area0 = eptm.cells.areas[mother_cell]\n",
      "growth_rate = 1.5\n",
      "eptm.cells.prefered_vol[mother_cell] *= growth_rate\n",
      "\n",
      "eptm.update_gradient()"
     ],
     "language": "python",
     "metadata": {},
     "outputs": [],
     "prompt_number": 12
    },
    {
     "cell_type": "code",
     "collapsed": false,
     "input": [
      "eptm.graph.set_edge_filter(eptm.is_junction_edge)\n",
      "grad = eptm.grad_ix.fa.mean()\n",
      "#assert_almost_equal(a_m, 10.16611365710395) \n",
      "print(grad)\n",
      "eptm.graph.set_vertex_filter(None)"
     ],
     "language": "python",
     "metadata": {},
     "outputs": [
      {
       "output_type": "stream",
       "stream": "stdout",
       "text": [
        "-0.3826136578114397\n"
       ]
      }
     ],
     "prompt_number": 13
    },
    {
     "cell_type": "markdown",
     "metadata": {},
     "source": [
      "-7.455193544455806\n"
     ]
    }
   ],
   "metadata": {}
  }
 ]
}