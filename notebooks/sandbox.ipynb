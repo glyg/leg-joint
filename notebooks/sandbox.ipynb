{
 "metadata": {
  "name": "sandbox"
 },
 "nbformat": 3,
 "nbformat_minor": 0,
 "worksheets": [
  {
   "cells": [
    {
     "cell_type": "code",
     "collapsed": false,
     "input": [
      "%run nb_init.py"
     ],
     "language": "python",
     "metadata": {},
     "outputs": [
      {
       "output_type": "stream",
       "stream": "stdout",
       "text": [
        "/home/guillaume/Python\n"
       ]
      }
     ],
     "prompt_number": 1
    },
    {
     "cell_type": "code",
     "collapsed": false,
     "input": [
      "eptm = lj.Epithelium(graphXMLfile='../saved_graphs/xml/generation2012-10-17T12:52:54.173829.xml',\n",
      "                     paramfile='../default/few_big_cells.xml')"
     ],
     "language": "python",
     "metadata": {},
     "outputs": [
      {
       "output_type": "stream",
       "stream": "stdout",
       "text": [
        "Initial cells\n",
        "Initial junctions\n"
       ]
      }
     ],
     "prompt_number": 2
    },
    {
     "cell_type": "code",
     "collapsed": false,
     "input": [
      "ax = lj.draw.plot_cells_sz(eptm, text=True)"
     ],
     "language": "python",
     "metadata": {},
     "outputs": [],
     "prompt_number": 3
    },
    {
     "cell_type": "code",
     "collapsed": false,
     "input": [
      "%run ../src/sandbox.py"
     ],
     "language": "python",
     "metadata": {},
     "outputs": [],
     "prompt_number": 4
    },
    {
     "cell_type": "code",
     "collapsed": false,
     "input": [
      "edge_zeds, edge_sigmas, edge_rhos, raw_dsigmas = create_properties(eptm)\n",
      "\n",
      "eptm.set_edge_state([(eptm.is_junction_edge, False)])\n",
      "eptm.set_vertex_state([(eptm.is_alive, False)])\n",
      "\n",
      "period = 2 * np.pi * edge_rhos.fa\n",
      "\n",
      "abs_ds = np.abs(raw_dsigmas.fa)\n",
      "first_period_dsigma = raw_dsigmas.fa[abs_ds < period / 2.]\n",
      "first_period_ez = edge_zeds.fa[abs_ds < period / 2.]\n",
      "\n",
      "second_period_dsigma = raw_dsigmas.fa[abs_ds > period / 2.]\n",
      "second_period_ez = edge_zeds.fa[abs_ds > period / 2.]\n",
      "    \n",
      "eptm.set_edge_state()\n",
      "eptm.set_vertex_state()\n"
     ],
     "language": "python",
     "metadata": {},
     "outputs": [],
     "prompt_number": 5
    },
    {
     "cell_type": "code",
     "collapsed": false,
     "input": [
      "lj.draw.plot_cells_sz(eptm, text=False)"
     ],
     "language": "python",
     "metadata": {},
     "outputs": [
      {
       "output_type": "pyout",
       "prompt_number": 6,
       "text": [
        "<matplotlib.axes.AxesSubplot at 0xb566b2c>"
       ]
      }
     ],
     "prompt_number": 6
    },
    {
     "cell_type": "code",
     "collapsed": false,
     "input": [
      "figure()\n",
      "eptm.set_edge_state([(eptm.is_junction_edge, False)])\n",
      "eptm.set_vertex_state([(eptm.is_alive, False)])\n",
      "\n",
      "plot(edge_zeds.fa, eptm.edge_lengths.fa, 'ko', alpha=0.8)\n",
      "plot(edge_zeds.fa, np.abs(eptm.dzeds.fa), 'bo')\n",
      "\n",
      "plot(first_period_ez, np.abs(first_period_dsigma), 'ro')\n",
      "plot(second_period_ez, np.abs(second_period_dsigma), 'go')\n"
     ],
     "language": "python",
     "metadata": {},
     "outputs": [
      {
       "output_type": "pyout",
       "prompt_number": 12,
       "text": [
        "[<matplotlib.lines.Line2D at 0xc7ffc2c>]"
       ]
      }
     ],
     "prompt_number": 12
    },
    {
     "cell_type": "code",
     "collapsed": false,
     "input": [
      "figure()\n",
      "h = plt.hist(eptm.edge_lengths.fa, bins=20, alpha=0.5)\n",
      "h = plt.hist(np.abs(first_period_dsigma), bins=20, alpha=0.5)\n",
      "h = plt.hist(np.abs(eptm.dzeds.fa), bins=20, alpha=0.5)"
     ],
     "language": "python",
     "metadata": {},
     "outputs": [],
     "prompt_number": 16
    }
   ],
   "metadata": {}
  }
 ]
}