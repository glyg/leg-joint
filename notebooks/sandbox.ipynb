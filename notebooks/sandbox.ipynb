{
 "metadata": {
  "name": ""
 },
 "nbformat": 3,
 "nbformat_minor": 0,
 "worksheets": [
  {
   "cells": [
    {
     "cell_type": "code",
     "collapsed": false,
     "input": [
      "%run nb_init.py"
     ],
     "language": "python",
     "metadata": {},
     "outputs": [],
     "prompt_number": 1
    },
    {
     "cell_type": "code",
     "collapsed": false,
     "input": [
      "eptm = lj.Epithelium(graphXMLfile='../saved_graphs/xml/before_apoptosis.xml',\n",
      "                     paramfile='../default/params.xml')"
     ],
     "language": "python",
     "metadata": {},
     "outputs": [],
     "prompt_number": 3
    },
    {
     "cell_type": "code",
     "collapsed": false,
     "input": [
      "def do_update():\n",
      "    eptm.update_geometry()\n",
      "    eptm.update_gradient()\n",
      "import cProfile\n",
      "cProfile.run('do_update()')\n"
     ],
     "language": "python",
     "metadata": {},
     "outputs": []
    },
    {
     "cell_type": "code",
     "collapsed": false,
     "input": [
      "lj.running_local_optimum(eptm, tol=1e-3)"
     ],
     "language": "python",
     "metadata": {},
     "outputs": [],
     "prompt_number": 10
    },
    {
     "cell_type": "code",
     "collapsed": false,
     "input": [
      "ax = lj.draw.plot_cells_sz(eptm, text=True)"
     ],
     "language": "python",
     "metadata": {},
     "outputs": [
      {
       "ename": "AttributeError",
       "evalue": "'function' object has no attribute 'plot_cells_sz'",
       "output_type": "pyerr",
       "traceback": [
        "\u001b[1;31m---------------------------------------------------------------------------\u001b[0m\n\u001b[1;31mAttributeError\u001b[0m                            Traceback (most recent call last)",
        "\u001b[1;32m<ipython-input-9-c4563efe857c>\u001b[0m in \u001b[0;36m<module>\u001b[1;34m()\u001b[0m\n\u001b[1;32m----> 1\u001b[1;33m \u001b[0max\u001b[0m \u001b[1;33m=\u001b[0m \u001b[0mlj\u001b[0m\u001b[1;33m.\u001b[0m\u001b[0mdraw\u001b[0m\u001b[1;33m.\u001b[0m\u001b[0mplot_cells_sz\u001b[0m\u001b[1;33m(\u001b[0m\u001b[0meptm\u001b[0m\u001b[1;33m,\u001b[0m \u001b[0mtext\u001b[0m\u001b[1;33m=\u001b[0m\u001b[0mTrue\u001b[0m\u001b[1;33m)\u001b[0m\u001b[1;33m\u001b[0m\u001b[0m\n\u001b[0m",
        "\u001b[1;31mAttributeError\u001b[0m: 'function' object has no attribute 'plot_cells_sz'"
       ]
      }
     ],
     "prompt_number": 9
    },
    {
     "cell_type": "code",
     "collapsed": false,
     "input": [
      "%run ../src/sandbox.py"
     ],
     "language": "python",
     "metadata": {},
     "outputs": [],
     "prompt_number": 4
    },
    {
     "cell_type": "code",
     "collapsed": false,
     "input": [
      "eptm.graph.save('../saved_graphs/xml/latest.xml')"
     ],
     "language": "python",
     "metadata": {},
     "outputs": [],
     "prompt_number": 7
    },
    {
     "cell_type": "code",
     "collapsed": false,
     "input": [
      "lj.draw(eptm)"
     ],
     "language": "python",
     "metadata": {},
     "outputs": [],
     "prompt_number": 12
    },
    {
     "cell_type": "code",
     "collapsed": false,
     "input": [
      "import skimage as si\n",
      "import skimage.io as io\n",
      "import scipy.ndimage as ndi  "
     ],
     "language": "python",
     "metadata": {},
     "outputs": [],
     "prompt_number": 12
    },
    {
     "cell_type": "code",
     "collapsed": false,
     "input": [
      "img0.shape"
     ],
     "language": "python",
     "metadata": {},
     "outputs": [
      {
       "output_type": "pyout",
       "prompt_number": 16,
       "text": [
        "(600, 600, 4)"
       ]
      }
     ],
     "prompt_number": 16
    },
    {
     "cell_type": "code",
     "collapsed": false,
     "input": [
      "kernel_1c = np.array([[0, 0., 1., 0, 0],\n",
      "                      [0, 1., 2., 1., 0],\n",
      "                      [1, 2, 3, 2, 1],\n",
      "                      [0, 1, 2, 1, 0],\n",
      "                      [0, 0, 1, 0, 0]])\n",
      "kernel_1c /= kernel_1c.sum()\n",
      "\n",
      "kernel = np.zeros((5, 5, 4))\n",
      "kernel[..., 0] = kernel_1c\n",
      "kernel[..., 1] = kernel_1c\n",
      "kernel[..., 2] = kernel_1c\n",
      "\n"
     ],
     "language": "python",
     "metadata": {},
     "outputs": [],
     "prompt_number": 32
    },
    {
     "cell_type": "code",
     "collapsed": false,
     "input": [
      "kernel"
     ],
     "language": "python",
     "metadata": {},
     "outputs": [
      {
       "output_type": "pyout",
       "prompt_number": 33,
       "text": [
        "array([[[ 0.        ,  0.        ,  0.        ,  0.        ],\n",
        "        [ 0.        ,  0.        ,  0.        ,  0.        ],\n",
        "        [ 0.05263158,  0.05263158,  0.05263158,  0.        ],\n",
        "        [ 0.        ,  0.        ,  0.        ,  0.        ],\n",
        "        [ 0.        ,  0.        ,  0.        ,  0.        ]],\n",
        "\n",
        "       [[ 0.        ,  0.        ,  0.        ,  0.        ],\n",
        "        [ 0.05263158,  0.05263158,  0.05263158,  0.        ],\n",
        "        [ 0.10526316,  0.10526316,  0.10526316,  0.        ],\n",
        "        [ 0.05263158,  0.05263158,  0.05263158,  0.        ],\n",
        "        [ 0.        ,  0.        ,  0.        ,  0.        ]],\n",
        "\n",
        "       [[ 0.05263158,  0.05263158,  0.05263158,  0.        ],\n",
        "        [ 0.10526316,  0.10526316,  0.10526316,  0.        ],\n",
        "        [ 0.15789474,  0.15789474,  0.15789474,  0.        ],\n",
        "        [ 0.10526316,  0.10526316,  0.10526316,  0.        ],\n",
        "        [ 0.05263158,  0.05263158,  0.05263158,  0.        ]],\n",
        "\n",
        "       [[ 0.        ,  0.        ,  0.        ,  0.        ],\n",
        "        [ 0.05263158,  0.05263158,  0.05263158,  0.        ],\n",
        "        [ 0.10526316,  0.10526316,  0.10526316,  0.        ],\n",
        "        [ 0.05263158,  0.05263158,  0.05263158,  0.        ],\n",
        "        [ 0.        ,  0.        ,  0.        ,  0.        ]],\n",
        "\n",
        "       [[ 0.        ,  0.        ,  0.        ,  0.        ],\n",
        "        [ 0.        ,  0.        ,  0.        ,  0.        ],\n",
        "        [ 0.05263158,  0.05263158,  0.05263158,  0.        ],\n",
        "        [ 0.        ,  0.        ,  0.        ,  0.        ],\n",
        "        [ 0.        ,  0.        ,  0.        ,  0.        ]]])"
       ]
      }
     ],
     "prompt_number": 33
    },
    {
     "cell_type": "code",
     "collapsed": false,
     "input": [
      "import os\n",
      "dir0 = '../saved_graphs/png/apopto_vr0.90_ctr1.00_rt0.50'\n",
      "\n",
      "all_pngs = os.listdir(dir0)\n",
      "all_3ds = [fname for fname in all_pngs if '3d' in fname]\n",
      "all_3ds.sort()\n",
      "\n",
      "\n",
      "for fname in all_3ds:\n",
      "    img0 = io.imread(os.path.join(dir0, fname))\n",
      "    img1 = (img0 + ndi.convolve(img0, kernel)) / 2.\n",
      "    io.imsave(os.path.join(dir0, 'comp_'+fname), img1)\n",
      "    "
     ],
     "language": "python",
     "metadata": {},
     "outputs": [],
     "prompt_number": 35
    },
    {
     "cell_type": "code",
     "collapsed": false,
     "input": [
      "from skimage import viskskimage"
     ],
     "language": "python",
     "metadata": {},
     "outputs": [],
     "prompt_number": 36
    },
    {
     "cell_type": "code",
     "collapsed": false,
     "input": [],
     "language": "python",
     "metadata": {},
     "outputs": []
    },
    {
     "cell_type": "code",
     "collapsed": false,
     "input": [
      "edge_zeds, edge_sigmas, edge_rhos, raw_dsigmas = create_properties(eptm)\n",
      "\n",
      "eptm.set_edge_state([(eptm.is_junction_edge, False)])\n",
      "eptm.set_vertex_state([(eptm.is_alive, False)])\n",
      "\n",
      "period = 2 * np.pi * edge_rhos.fa\n",
      "\n",
      "abs_ds = np.abs(raw_dsigmas.fa)\n",
      "first_period_dsigma = raw_dsigmas.fa[abs_ds < period / 2.]\n",
      "first_period_ez = edge_zeds.fa[abs_ds < period / 2.]\n",
      "\n",
      "second_period_dsigma = raw_dsigmas.fa[abs_ds > period / 2.]\n",
      "second_period_ez = edge_zeds.fa[abs_ds > period / 2.]\n",
      "    \n",
      "eptm.set_edge_state()\n",
      "eptm.set_vertex_state()\n"
     ],
     "language": "python",
     "metadata": {},
     "outputs": [],
     "prompt_number": 5
    },
    {
     "cell_type": "code",
     "collapsed": false,
     "input": [
      "lj.draw.plot_cells_sz(eptm, text=False)"
     ],
     "language": "python",
     "metadata": {},
     "outputs": [
      {
       "output_type": "pyout",
       "prompt_number": 6,
       "text": [
        "<matplotlib.axes.AxesSubplot at 0xb566b2c>"
       ]
      }
     ],
     "prompt_number": 6
    },
    {
     "cell_type": "code",
     "collapsed": false,
     "input": [
      "figure()\n",
      "eptm.set_edge_state([(eptm.is_junction_edge, False)])\n",
      "eptm.set_vertex_state([(eptm.is_alive, False)])\n",
      "\n",
      "plot(edge_zeds.fa, eptm.edge_lengths.fa, 'ko', alpha=0.8)\n",
      "plot(edge_zeds.fa, np.abs(eptm.dzeds.fa), 'bo')\n",
      "\n",
      "plot(first_period_ez, np.abs(first_period_dsigma), 'ro')\n",
      "plot(second_period_ez, np.abs(second_period_dsigma), 'go')\n"
     ],
     "language": "python",
     "metadata": {},
     "outputs": [
      {
       "output_type": "pyout",
       "prompt_number": 12,
       "text": [
        "[<matplotlib.lines.Line2D at 0xc7ffc2c>]"
       ]
      }
     ],
     "prompt_number": 12
    },
    {
     "cell_type": "code",
     "collapsed": false,
     "input": [
      "figure()\n",
      "h = plt.hist(eptm.edge_lengths.fa, bins=20, alpha=0.5)\n",
      "h = plt.hist(np.abs(first_period_dsigma), bins=20, alpha=0.5)\n",
      "h = plt.hist(np.abs(eptm.dzeds.fa), bins=20, alpha=0.5)"
     ],
     "language": "python",
     "metadata": {},
     "outputs": [],
     "prompt_number": 16
    }
   ],
   "metadata": {}
  }
 ]
}