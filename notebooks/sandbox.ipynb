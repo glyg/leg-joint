{
 "metadata": {
  "name": "",
  "signature": "sha256:352cdc5d900cb7a06ff8015fc98b347914a6c002f0f342fa4be1a13d2a854ddf"
 },
 "nbformat": 3,
 "nbformat_minor": 0,
 "worksheets": [
  {
   "cells": [
    {
     "cell_type": "code",
     "collapsed": false,
     "input": [
      "%load_ext autoreload\n",
      "\n",
      "%autoreload 2\n"
     ],
     "language": "python",
     "metadata": {},
     "outputs": [
      {
       "output_type": "stream",
       "stream": "stdout",
       "text": [
        "The autoreload extension is already loaded. To reload it, use:\n",
        "  %reload_ext autoreload\n"
       ]
      }
     ],
     "prompt_number": 81
    },
    {
     "cell_type": "code",
     "collapsed": false,
     "input": [
      "%load_ext snakeviz\n"
     ],
     "language": "python",
     "metadata": {},
     "outputs": [
      {
       "output_type": "stream",
       "stream": "stdout",
       "text": [
        "The snakeviz extension is already loaded. To reload it, use:\n",
        "  %reload_ext snakeviz\n"
       ]
      }
     ],
     "prompt_number": 82
    },
    {
     "cell_type": "code",
     "collapsed": false,
     "input": [
      "%run nb_init.py"
     ],
     "language": "python",
     "metadata": {},
     "outputs": [],
     "prompt_number": 83
    },
    {
     "cell_type": "code",
     "collapsed": false,
     "input": [
      "#eptm = lj.Epithelium(graphXMLfile='../leg_joint/data/graphs/before_apoptosis.xml')"
     ],
     "language": "python",
     "metadata": {},
     "outputs": [],
     "prompt_number": 84
    },
    {
     "cell_type": "markdown",
     "metadata": {},
     "source": [
      "## simple profile output at the root of optimisation branch:\n",
      "\n",
      "```python\n",
      "def do_update():\n",
      "    eptm.update_geometry()\n",
      "    eptm.update_gradient()\n",
      "import cProfile\n",
      "cProfile.run('do_update()')\n",
      "```\n",
      "\n",
      "```\n",
      "        3765564 function calls in 7.167 seconds\n",
      "\n",
      "   Ordered by: standard name\n",
      "\n",
      "   ncalls  tottime  percall  cumtime  percall filename:lineno(function)\n",
      "        1    0.000    0.000    7.167    7.167 <ipython-input-5-e1f38767d06b>:1(do_update)\n",
      "        1    0.000    0.000    7.167    7.167 <string>:1(<module>)\n",
      "        3    0.000    0.000    0.000    0.000 __init__.py:1336(vertices)\n",
      "        1    0.000    0.000    0.000    0.000 __init__.py:139(_prop)\n",
      "        5    0.000    0.000    0.000    0.000 __init__.py:1401(edges)\n",
      "       71    0.000    0.000    0.000    0.000 __init__.py:1704(_get_max_edge_index)\n",
      "        3    0.000    0.000    0.000    0.000 __init__.py:1757(new_edge_property)\n",
      "        4    0.000    0.000    0.000    0.000 __init__.py:176(_type_alias)\n",
      "        1    0.000    0.000    0.000    0.000 __init__.py:198(_python_type)\n",
      "       14    0.000    0.000    0.000    0.000 __init__.py:2052(get_vertex_filter)\n",
      "        6    0.000    0.000    0.000    0.000 __init__.py:2084(get_edge_filter)\n",
      "        6    0.000    0.000    0.000    0.000 __init__.py:2184(num_edges)\n",
      "        1    0.000    0.000    0.000    0.000 __init__.py:236(_convert)\n",
      "        4    0.000    0.000    0.000    0.000 __init__.py:2362(value_types)\n",
      "    11911    0.108    0.000    0.108    0.000 __init__.py:2379(_out_neighbours)\n",
      "    19981    0.035    0.000    0.041    0.000 __init__.py:2443(<lambda>)\n",
      "    76077    0.326    0.000    0.326    0.000 __init__.py:2474(_edge_iter)\n",
      "      253    0.000    0.000    0.000    0.000 __init__.py:276(_get_pmap)\n",
      "      120    0.000    0.000    0.000    0.000 __init__.py:279(_set_pmap)\n",
      "       43    0.000    0.000    0.001    0.000 __init__.py:285(__new__)\n",
      "      199    0.000    0.000    0.000    0.000 __init__.py:298(_get_base)\n",
      "      199    0.001    0.000    0.001    0.000 __init__.py:304(_get_base_data)\n",
      "      147    0.001    0.000    0.001    0.000 __init__.py:307(_check_data)\n",
      "       77    0.000    0.000    0.001    0.000 __init__.py:320(__array_finalize__)\n",
      "       18    0.000    0.000    0.001    0.000 __init__.py:333(__array_prepare__)\n",
      "       18    0.000    0.000    0.000    0.000 __init__.py:337(__array_wrap__)\n",
      "       18    0.000    0.000    0.001    0.000 __init__.py:347(checked_method)\n",
      "        3    0.000    0.000    0.000    0.000 __init__.py:400(__init__)\n",
      "        6    0.000    0.000    0.000    0.000 __init__.py:403(<lambda>)\n",
      "  1022637    0.393    0.000    0.534    0.000 __init__.py:414(__key_trans)\n",
      "        3    0.000    0.000    0.000    0.000 __init__.py:421(__register_map)\n",
      "        3    0.000    0.000    0.000    0.000 __init__.py:426(__unregister_map)\n",
      "        3    0.000    0.000    0.000    0.000 __init__.py:431(__del__)\n",
      "   712236    1.900    0.000    2.285    0.000 __init__.py:434(__getitem__)\n",
      "   310401    0.780    0.000    0.929    0.000 __init__.py:437(__setitem__)\n",
      "      188    0.000    0.000    0.000    0.000 __init__.py:473(get_graph)\n",
      "  1022638    0.141    0.000    0.141    0.000 __init__.py:480(key_type)\n",
      "        4    0.000    0.000    0.000    0.000 __init__.py:484(value_type)\n",
      "       43    0.000    0.000    0.001    0.000 __init__.py:492(get_array)\n",
      "      174    0.000    0.000    0.000    0.000 __init__.py:516(_get_data)\n",
      "       12    0.000    0.000    0.001    0.000 __init__.py:529(__set_array)\n",
      "       14    0.000    0.000    0.001    0.000 __init__.py:544(__get_set_f_array)\n",
      "        6    0.000    0.000    0.001    0.000 __init__.py:586(<lambda>)\n",
      "        1    0.005    0.005    0.005    0.005 __init__.py:72(find_edge)\n",
      "     1729    0.003    0.000    0.005    0.000 _methods.py:43(_count_reduce_items)\n",
      "     1729    0.018    0.000    0.044    0.000 _methods.py:53(_mean)\n",
      "        1    0.000    0.000    3.761    3.761 dynamics.py:130(update_gradient)\n",
      "        1    0.002    0.002    0.529    0.529 dynamics.py:141(_update_cells_grad)\n",
      "     1729    0.130    0.000    0.505    0.000 dynamics.py:152(_calc_vol_grad_cell)\n",
      "        1    0.249    0.249    3.232    3.232 dynamics.py:168(_update_junctions_grad)\n",
      "     5059    0.618    0.000    2.565    0.001 dynamics.py:190(_update_edge_grad)\n",
      "        1    0.012    0.012    3.405    3.405 epithelium.py:262(update_geometry)\n",
      "     1729    0.086    0.000    0.316    0.000 epithelium.py:281(_one_cell_geom)\n",
      "        1    0.003    0.003    0.345    0.345 epithelium.py:330(update_cells_pos)\n",
      "     1729    0.021    0.000    0.321    0.000 epithelium.py:334(_set_cell_pos)\n",
      "     1729    0.033    0.000    0.221    0.000 epithelium.py:335(<listcomp>)\n",
      "    10118    0.005    0.000    0.012    0.000 linalg.py:111(isComplexType)\n",
      "    10118    0.050    0.000    0.136    0.000 linalg.py:1924(norm)\n",
      "    80686    0.079    0.000    0.079    0.000 numeric.py:1347(rollaxis)\n",
      "    40343    0.723    0.000    1.066    0.000 numeric.py:1406(cross)\n",
      "    90865    0.084    0.000    0.201    0.000 numeric.py:394(asarray)\n",
      "     1729    0.002    0.000    0.005    0.000 numeric.py:464(asanyarray)\n",
      "        1    0.000    0.000    0.001    0.001 objects.py:290(update_rhotheta)\n",
      "        3    0.607    0.202    1.092    0.364 objects.py:305(edge_difference)\n",
      "        1    0.000    0.000    1.092    1.092 objects.py:314(update_deltas)\n",
      "        1    0.000    0.000    0.001    0.001 objects.py:357(update_edge_lengths)\n",
      "    10118    0.275    0.000    1.465    0.000 objects.py:466(update_geometry)\n",
      "     5059    0.017    0.000    1.483    0.000 objects.py:509(update_geometry)\n",
      "     5190    0.024    0.000    0.061    0.000 objects.py:553(__iter__)\n",
      "    10120    0.055    0.000    0.217    0.000 objects.py:740(__iter__)\n",
      "        1    0.000    0.000    0.000    0.000 utils.py:13(to_rhotheta)\n",
      "   154902    0.237    0.000    0.237    0.000 {built-in method array}\n",
      "    10118    0.041    0.000    0.041    0.000 {built-in method dot}\n",
      "    40343    0.033    0.000    0.033    0.000 {built-in method empty}\n",
      "        1    0.000    0.000    7.167    7.167 {built-in method exec}\n",
      "       18    0.000    0.000    0.000    0.000 {built-in method getattr}\n",
      "        9    0.000    0.000    0.000    0.000 {built-in method id}\n",
      "    23442    0.007    0.000    0.007    0.000 {built-in method isinstance}\n",
      "    11847    0.008    0.000    0.008    0.000 {built-in method issubclass}\n",
      "     3458    0.001    0.000    0.001    0.000 {built-in method len}\n",
      "    40343    0.021    0.000    0.021    0.000 {built-in method promote_types}\n",
      "        1    0.000    0.000    0.000    0.000 {method 'disable' of '_lsprof.Profiler' objects}\n",
      "     1729    0.002    0.000    0.046    0.000 {method 'mean' of 'numpy.ndarray' objects}\n",
      "    10118    0.010    0.000    0.010    0.000 {method 'ravel' of 'numpy.ndarray' objects}\n",
      "     1729    0.014    0.000    0.014    0.000 {method 'reduce' of 'numpy.ufunc' objects}\n",
      "    10118    0.002    0.000    0.002    0.000 {method 'values' of 'dict' objects}\n",
      "       43    0.000    0.000    0.000    0.000 {method 'view' of 'numpy.ndarray' objects}\n",
      "```\n",
      "\n",
      "\n"
     ]
    },
    {
     "cell_type": "code",
     "collapsed": false,
     "input": [
      "def do_update():\n",
      "    eptm.update_geometry()\n",
      "    eptm.update_gradient()\n",
      "import cProfile\n",
      "#cProfile.run('do_update()')\n"
     ],
     "language": "python",
     "metadata": {},
     "outputs": [],
     "prompt_number": 85
    },
    {
     "cell_type": "code",
     "collapsed": false,
     "input": [
      "#%%snakeviz\n",
      "#do_update()"
     ],
     "language": "python",
     "metadata": {},
     "outputs": [],
     "prompt_number": 86
    },
    {
     "cell_type": "code",
     "collapsed": false,
     "input": [
      "eptm = lj.Epithelium(lj.data.small_xml())"
     ],
     "language": "python",
     "metadata": {},
     "outputs": [
      {
       "output_type": "stream",
       "stream": "stderr",
       "text": [
        "2015-01-30 10:26:18,504 -leg_joint.epithelium -__init__ -- INFO -Instanciating epithelium 0\n"
       ]
      },
      {
       "output_type": "stream",
       "stream": "stderr",
       "text": [
        "2015-01-30 10:26:18,555 -leg_joint.epithelium -__init__ -- INFO -Initial cells\n"
       ]
      },
      {
       "output_type": "stream",
       "stream": "stderr",
       "text": [
        "2015-01-30 10:26:18,556 -leg_joint.epithelium -__init__ -- INFO -Initial junctions\n"
       ]
      },
      {
       "output_type": "stream",
       "stream": "stderr",
       "text": [
        "2015-01-30 10:26:18,825 -leg_joint.epithelium -__init__ -- INFO -Update geometry\n"
       ]
      }
     ],
     "prompt_number": 87
    },
    {
     "cell_type": "code",
     "collapsed": false,
     "input": [
      "eptm.isotropic_relax()"
     ],
     "language": "python",
     "metadata": {},
     "outputs": [],
     "prompt_number": 88
    },
    {
     "cell_type": "code",
     "collapsed": false,
     "input": [
      "mother_cell = eptm.graph.vertex(3)"
     ],
     "language": "python",
     "metadata": {},
     "outputs": [],
     "prompt_number": 89
    },
    {
     "cell_type": "code",
     "collapsed": false,
     "input": [
      "area0 = eptm.cells.areas[mother_cell]\n",
      "growth_rate = 1.5\n",
      "eptm.cells.prefered_vol[mother_cell] *= growth_rate\n",
      "\n"
     ],
     "language": "python",
     "metadata": {},
     "outputs": [],
     "prompt_number": 90
    },
    {
     "cell_type": "code",
     "collapsed": false,
     "input": [
      "eptm.update_geometry()\n",
      "eptm.update_gradient()"
     ],
     "language": "python",
     "metadata": {},
     "outputs": [],
     "prompt_number": 91
    },
    {
     "cell_type": "code",
     "collapsed": false,
     "input": [
      "eptm.set_local_mask(mother_cell)\n",
      "local_graph = gt.GraphView(eptm.graph, vfilt=eptm.is_local_vert, efilt=eptm.is_local_edge)"
     ],
     "language": "python",
     "metadata": {},
     "outputs": [],
     "prompt_number": 92
    },
    {
     "cell_type": "markdown",
     "metadata": {},
     "source": [
      "## Gradient computation at junction vertices\n",
      "\n",
      "In order to find the local energy minimum, as shown below, we use a conjugate gradient method\n",
      "(namely the [`fmin_lbfgs`](http://docs.scipy.org/doc/scipy/reference/tutorial/optimize.html#broyden-fletcher-goldfarb-shanno-algorithm-method-bfgs) algorithm from SciPy). So we need to compute said gradient at each junction vertex that concur to the optimization.\n",
      "\n",
      "In order to compute the local minimum of the energy, we calculate its\n",
      "gradient at junction vertex $i$ whose position in the 3D space is defined by the vector $\\mathbf{r_i}$ pointing from the coordinate system's origin. An edge between two vertices is noted\n",
      "$\\mathbf{r_{ij}} = \\mathbf{r_j} - \\mathbf{r_i}$. The coefficients noted $c_{ij}$ correspond to the terms of the graph's adjacency matrix, such that they are equal to 1 if an edge exists between vertices $i$ and $j$, and 0 otherwise. As the graph is oriented, at each vertex $i$, we have to account for outgoing ($c_{ij} = 1$) and incomming ($c_{ki} = 1$) edges, which explains the $c_{ki}$ terms in the following expressions. Note that $c_{ij} = 1 \\Rightarrow c_{ji} = 0$ and reciprocally. Although the indexes $j$ and $k$ vanish in the summations, we keep two symbols for clarity.\n",
      "\n",
      "\n",
      "$$\n",
      "\\begin{aligned} \n",
      "   \\mathbf{\\nabla_i} E &= (\\frac{\\partial E}{\\partial x},\n",
      "                     \\frac{\\partial E}{\\partial y},\n",
      "                     \\frac{\\partial E}{\\partial z}) \\\\\n",
      "   \\mathbf{\\nabla_i} E &= \\sum_\\alpha K (V_\\alpha - V_0) \n",
      "   \\mathbf{\\nabla_i} V_\\alpha  \n",
      "   + \\sum_\\alpha \\Gamma L_\\alpha \\mathbf{\\nabla_i} L_\\alpha\n",
      "   + \\sum_j \\Lambda_{ij} \\mathbf{\\nabla_i} \\ell_{ij} +  \\sum_k \\Lambda_{ki} \\mathbf{\\nabla_i}\n",
      "     \\ell_{ki}\n",
      "\\end{aligned}\n",
      "$$\n",
      "\n",
      "We have \n",
      "$$\n",
      "\\begin{aligned} \n",
      "   \\mathbf{\\nabla_i}\\ell_{ij} &=  -\\frac{\\mathbf{r}_{ij}c_{ij}}{\\ell_{ij}} \\\\\n",
      "   \\mathbf{\\nabla_i}\\ell_{ki} &=  +\\frac{\\mathbf{r}_{ki}c_{ki}}{\\ell_{ki}} \\\\\n",
      "   %%\n",
      "   \\mathbf{\\nabla_i}L_\\alpha &= \\sum_{kn} \\mathbf{\\nabla_i}\n",
      "       \\ell_{kn} c_{\\alpha k} c_{\\alpha n}\n",
      "   = \\left(\\sum_{j} \\mathbf{\\nabla_i}\\ell_{ij} c_{\\alpha j} \n",
      "     + \\sum_k \\mathbf{\\nabla_i}\\ell_{ki} c_{\\alpha k} \\right)c_{\\alpha i}\\\\\n",
      "   %%\n",
      "   \\mathbf{\\nabla_i}V_{\\alpha} &=  \\sum_{km}\\mathbf{\\nabla_i}V_{\\alpha km}\n",
      "   c_{\\alpha k}c_{\\alpha m}c_{km}\n",
      "   = \\sum_{km} \\mathbf{\\nabla_i}h_\\alpha A_{\\alpha km}\n",
      "   c_{\\alpha k}c_{\\alpha m}c_{km}\n",
      "   = A_\\alpha \\mathbf{\\nabla_i}h_\\alpha + \n",
      "   h_\\alpha \\sum_{km} \\mathbf{\\nabla_i} A_{\\alpha km}c_{\\alpha k}\n",
      "   c_{\\alpha m}c_{km}\\\\\n",
      "   \\mathbf{\\nabla_i}V_{\\alpha} &= \n",
      "   \\frac{h_\\alpha}{2\\nu_\\alpha} \\sum_{km}\\mathbf{u}_{\\alpha km}\n",
      "   \\times \\mathbf{r}_{km}c_{\\alpha k}c_{\\alpha m}c_{km}\n",
      "   + \\sum_{j}\\left(A_{\\alpha ij}\\frac{\\mathbf{r_i}}{2\\rho_i} \n",
      "   + \\frac{h_\\alpha}{2}\\mathbf{r}_{\\alpha j} \\times \\mathbf{u}_{\\alpha ij} c_{\\alpha j}c_{ij}\n",
      "   - \\frac{h_\\alpha}{2}\\mathbf{r}_{\\alpha j} \\times \\mathbf{u}_{\\alpha ji} c_{\\alpha j}c_{ji}\\right)\n",
      "     \\\\\n",
      "\\end{aligned}\n",
      "$$\n",
      "\n",
      "Here, $\\nu_\\alpha$ is the number of sides of cell $\\alpha$.\n",
      "\n",
      "The area computed as\n",
      "\n",
      "$$\n",
      "A_{\\alpha km}  = ||\\mathbf{r}_{\\alpha k} \\times \\mathbf{r}_{\\alpha m}|| /2\n",
      "$$\n",
      "\n",
      "And the normal to the $(\\mathbf{r_k}, \\mathbf{r_m})$ plane verifies:\n",
      "\n",
      "$$\n",
      "\\mathbf{u}_{\\alpha km} = \\frac{2\\, \\mathbf{r}_{\\alpha k} \\times \\mathbf{r}_{\\alpha m}}{A_{\\alpha km}}\n",
      "$$ \n",
      "\n"
     ]
    },
    {
     "cell_type": "code",
     "collapsed": false,
     "input": [
      "import hdfgraph\n",
      "from leg_joint.objects import get_faces\n",
      "import pandas as pd\n",
      "\n",
      "def _to_3d(df):\n",
      "    return df.repeat(3).reshape((df.size, 3))\n",
      "\n",
      "vertex_df, edges_df  = hdfgraph.graph_to_dataframes(local_graph)\n",
      "\n",
      "srcs = edges_df.index.get_level_values('source')\n",
      "trgts = edges_df.index.get_level_values('target')\n",
      "cell_idxs = vertex_df[vertex_df['is_cell_vert'] == 1].index\n",
      "jv_idxs = vertex_df[vertex_df['is_cell_vert'] == 0].index\n",
      "je_idxs = edges_df[edges_df['is_junction_edge']==1].index\n",
      "\n",
      "coords = ['ixs', 'wys', 'zeds']\n",
      "dcoords = ['d'+c for c in coords]\n",
      "grad_coords = ['grad_'+c for c in coords]\n",
      "\n",
      "\n",
      "deltas = vertex_df.loc[trgts, coords].values - vertex_df.loc[srcs, coords].values\n",
      "deltas = pd.DataFrame(deltas, columns=dcoords, index=edges_df.index)\n",
      "edge_lengths = (deltas**2).sum(axis=1)**0.5\n",
      "cell_heights = vertex_df.loc[cell_idxs, 'rhos'] - eptm.rho_lumen\n",
      "triangles = get_faces(local_graph)\n",
      "\n",
      "tri_cells = pd.Index(triangles[:, 0], name='cell')\n",
      "tri_jvis = pd.Index(triangles[:, 1], name='jv_i')\n",
      "tri_jvjs = pd.Index(triangles[:, 2], name='jv_j')\n",
      "tri_midx = pd.MultiIndex.from_arrays((triangles[:, 0], \n",
      "                                      triangles[:, 1],\n",
      "                                      triangles[:, 2]),\n",
      "                                     names=('cell', 'jv_i', 'jv_j'))\n",
      "\n",
      "tri_jes = pd.MultiIndex.from_arrays((triangles[:, 1], triangles[:, 2]), names=('jv_i', 'jv_j'))\n",
      "tri_ai = pd.MultiIndex.from_arrays((triangles[:, 0], triangles[:, 1]), names=('cell', 'jv_i'))\n",
      "tri_aj = pd.MultiIndex.from_arrays((triangles[:, 0], triangles[:, 2]), names=('cell', 'jv_j'))\n",
      "\n",
      "num_sides = tri_midx.get_level_values('cell').value_counts().loc[cell_idxs]\n",
      "num_sides.index = cell_idxs\n",
      "\n",
      "tri_num_sides = num_sides.loc[tri_cells]\n",
      "tri_num_sides.index = tri_midx\n",
      "\n",
      "tri_edge_length = edge_lengths.loc[tri_jes]\n",
      "tri_edge_length.index = tri_midx\n",
      "\n",
      "r_ijs = deltas.loc[tri_jes].set_index(tri_midx)\n",
      "r_ai = deltas.loc[tri_ai].set_index(tri_midx)\n",
      "r_aj = deltas.loc[tri_aj].set_index(tri_midx)\n",
      "\n",
      "crosses = pd.DataFrame(np.cross(r_ai, r_aj), index=tri_cells).set_index(tri_midx)\n",
      "sub_areas = ((crosses**2).sum(axis=1)**0.5) / 2\n",
      "\n",
      "areas = sub_areas.sum(level='cell')\n",
      "normals = crosses / _to_3d(2 * sub_areas)\n",
      "\n",
      "cell_vols = cell_heights * areas\n",
      "perimeters = tri_edge_length.sum(level='cell')\n"
     ],
     "language": "python",
     "metadata": {},
     "outputs": [],
     "prompt_number": 93
    },
    {
     "cell_type": "code",
     "collapsed": false,
     "input": [
      "from numpy.testing import assert_almost_equal, assert_array_almost_equal\n",
      "\n",
      "assert_almost_equal(vertex_df.loc[2, 'vols'], cell_vols.loc[2])\n",
      "assert_almost_equal(vertex_df.loc[2, 'areas'], areas.loc[2])\n",
      "assert_almost_equal(vertex_df.loc[2, 'perimeters'], perimeters.loc[2])\n",
      "\n",
      "assert_almost_equal(edges_df.loc[(2, 61), 'edge_lengths'], edge_lengths.loc[(2,61)])\n"
     ],
     "language": "python",
     "metadata": {},
     "outputs": [],
     "prompt_number": 94
    },
    {
     "cell_type": "markdown",
     "metadata": {},
     "source": [
      "We can factor the contractility and line tension terms:\n",
      "$$\n",
      "\\begin{aligned}\n",
      "\\sum_\\alpha \\Gamma L_\\alpha \\mathbf{\\nabla_i} L_\\alpha &= \\sum_{j} \\sum_\\alpha \\Gamma L_\\alpha \n",
      "     (\\mathbf{\\nabla_i}\\ell_{ij} + \\mathbf{\\nabla_i}\\ell_{ji}) c_{\\alpha j} c_{\\alpha i} c_{ij}\\\\\n",
      "    &= \\sum_{j} \\mathbf{\\nabla_i}\\ell_{ij} \\sum_\\alpha \\Gamma L_\\alpha c_{\\alpha j} c_{\\alpha i}c_{ij}\n",
      "    +  \\sum_k \\mathbf{\\nabla_i}\\ell_{ki} \\sum_\\beta \\Gamma L_\\beta c_{\\beta k} c_{\\beta i} c_{ki}\\\\\n",
      "    &\\Rightarrow\\\\\n",
      "   \\sum_\\alpha \\Gamma L_\\alpha \\mathbf{\\nabla_i} L_\\alpha\n",
      "       + \\sum_j \\Lambda_{ij} \\mathbf{\\nabla_i} \\ell_{ij} + \\sum_k \\Lambda_{ki} \\mathbf{\\nabla_i} \\ell_{ki}\n",
      "    &= \\sum_{j}\n",
      "      \\mathbf{\\nabla_i}\\ell_{ij} (\\Lambda_{ij} c_{ij}\n",
      "       + \\sum_\\alpha \\Gamma L_\\alpha c_{\\alpha j} c_{\\alpha i}c_{ij})\\\\\n",
      "      & \\quad + \\sum_k \\mathbf{\\nabla_i}\\ell_{ki} (\\Lambda_{ki} c_{ki}\n",
      "       + \\sum_\\beta \\Gamma L_\\beta c_{\\beta k} c_{\\beta i} c_{ki}) \\\\\n",
      "\\end{aligned}\n",
      "$$\n",
      "\n",
      "For clarity, the second sum is over cells indiced by $\\beta$, which corresponds to triangles where the vertex $i$ is a target such that $c_{ki} = 1$"
     ]
    },
    {
     "cell_type": "code",
     "collapsed": false,
     "input": [
      "grad_i = pd.DataFrame(0, index=jv_idxs,\n",
      "                      columns=grad_coords)\n",
      "\n",
      "grad_i_lij = - deltas.loc[je_idxs] / _to_3d(edge_lengths.loc[je_idxs])\n",
      "#grad_i_lij = grad_i_lij.loc[je_idxs]\n",
      "\n",
      "tensions = edges_df.loc[je_idxs, 'line_tensions']\n",
      "tensions.index.names = ('jv_i', 'jv_j')\n",
      "\n",
      "contract = vertex_df.loc[cell_idxs, 'contractilities']\n",
      "contract.index.name = 'cell'\n",
      "\n",
      "gamma_L = contract * perimeters\n",
      "gamma_L = gamma_L.loc[tri_cells]\n",
      "gamma_L.index = tri_midx\n",
      "\n",
      "\n",
      "area_term_alpha = gamma_L.groupby(level='jv_i').apply(\n",
      "    lambda df: df.sum(level='jv_j'))\n",
      "area_term_beta = gamma_L.groupby(level='jv_j').apply(\n",
      "    lambda df: df.sum(level='jv_i')).swaplevel(0,1).sortlevel()\n",
      "\n",
      "big_term_a = grad_i_lij * _to_3d(tensions + area_term_alpha)\n",
      "big_term_b = grad_i_lij * _to_3d(tensions + area_term_beta)\n",
      "\n",
      "grad_i.loc[tri_jvis.unique()] += big_term_a.sum(level='jv_i').loc[tri_jvis.unique()].values\n",
      "grad_i.loc[tri_jvjs.unique()] += big_term_b.sum(level='jv_j').loc[tri_jvjs.unique()].values\n",
      "\n",
      "apical_forces = grad_i.copy()\n",
      "\n"
     ],
     "language": "python",
     "metadata": {},
     "outputs": [],
     "prompt_number": 274
    },
    {
     "cell_type": "markdown",
     "metadata": {},
     "source": [
      "We have:\n",
      "$$\n",
      "\\begin{aligned}\n",
      "\\sum_\\alpha K (V_\\alpha - V_0) \\mathbf{\\nabla_i} V_\\alpha  &= \n",
      "   \\sum_\\alpha K (V_\\alpha - V_0)\\biggl[\\\\\n",
      "   &\\quad \\frac{h_\\alpha}{2\\nu_\\alpha} \\sum_{km}\\mathbf{u}_{\\alpha km}\n",
      "   \\times \\mathbf{r}_{km}c_{\\alpha k}c_{\\alpha m}c_{km}c_{\\alpha i}\\\\\n",
      "   &\\quad + \\sum_{j}\\left(A_{\\alpha ij}\\frac{\\mathbf{r_i}}{2\\rho_i} \n",
      "   + \\frac{h_\\alpha}{2}\\mathbf{r}_{\\alpha j} \\times \\mathbf{u}_{\\alpha ij} c_{\\alpha j}c_{ij}\\right)\n",
      "   + \\sum_{k}\\left(A_{\\alpha ki}\\frac{\\mathbf{r_i}}{2\\rho_i} -\n",
      "    \\frac{h_\\alpha}{2}\\mathbf{r}_{\\alpha k} \\times \\mathbf{u}_{\\alpha ki} c_{\\alpha j}c_{ki}\\right)\n",
      "   \\biggr]\\\\\n",
      "   &= \\sum_\\alpha K (V_\\alpha - V_0)\\biggl[\\\\\n",
      "   &\\quad \\frac{h_\\alpha}{2\\nu_\\alpha} \\sum_{km}\\mathbf{u}_{\\alpha km}\n",
      "   \\times \\mathbf{r}_{km}c_{\\alpha k}c_{\\alpha m}c_{km}c_{\\alpha i}\\\\\n",
      "   &\\quad + \\sum_{j}\\left(A_{\\alpha ij}\\frac{\\mathbf{r_i}}{2\\rho_i} \n",
      "   - \\frac{h_\\alpha}{2} \\mathbf{u}_{\\alpha ij} \\times \\mathbf{r}_{\\alpha j}  c_{\\alpha j}c_{ij}\\right)\n",
      "   + \\sum_{k}\\left(A_{\\alpha ki}\\frac{\\mathbf{r_i}}{2\\rho_i}\n",
      "   + \\frac{h_\\alpha}{2} \\mathbf{u}_{\\alpha ki} \\times \\mathbf{r}_{\\alpha k} c_{\\alpha j}c_{ki}\\right)\n",
      "   \\biggr]\\\\\n",
      "\\end{aligned}\n",
      "$$\n"
     ]
    },
    {
     "cell_type": "code",
     "collapsed": false,
     "input": [
      "## elasticity term\n",
      "\n",
      "elasticity = vertex_df.loc[cell_idxs, 'vol_elasticities']\n",
      "pref_V = vertex_df.loc[cell_idxs, 'prefered_vol']\n",
      "KV_V0 = elasticity * (cell_vols - pref_V)\n",
      "tri_KV_V0 = KV_V0.loc[tri_cells]\n",
      "tri_KV_V0.index = tri_midx\n",
      "\n",
      "\n",
      "cross_ur = pd.DataFrame(np.cross(normals, r_ijs), index=tri_midx, columns=coords)\n",
      "grad_i_V_cell = cross_ur.sum(level='cell') * _to_3d(cell_heights / (2 * num_sides))\n",
      "\n",
      "cell_term = (_to_3d(KV_V0) * grad_i_V_cell).loc[tri_cells].set_index(tri_midx)\n",
      "cell_term.columns = coords\n",
      "\n",
      "_r_is = vertex_df.loc[jv_idxs, coords]\n",
      "_rho_is = vertex_df.loc[jv_idxs, 'rhos']\n",
      "\n",
      "r_to_rho = _r_is / (_to_3d(2 * _rho_is))\n",
      "r_to_rho_i = r_to_rho.loc[tri_jvis].set_index(tri_midx)\n",
      "r_to_rho_j = r_to_rho.loc[tri_jvjs].set_index(tri_midx)\n",
      "\n",
      "\n",
      "\n",
      "cross_ai = pd.DataFrame(np.cross(normals, r_ai), index=tri_midx, columns=coords)\n",
      "cross_aj = pd.DataFrame(np.cross(normals, r_aj), index=tri_midx, columns=coords)\n",
      "\n",
      "tri_heights = cell_heights.loc[tri_cells]\n",
      "tri_heights.index = tri_midx\n",
      "\n",
      "\n",
      "grad_i_V_radial_a = _to_3d(sub_areas) * r_to_rho_i - _to_3d(tri_heights / 2) * cross_aj\n",
      "grad_i_V_radial_b = _to_3d(sub_areas) * r_to_rho_j + _to_3d(tri_heights / 2) * cross_ai\n",
      "radial_term_a = _to_3d(tri_KV_V0) * grad_i_V_radial_a\n",
      "radial_term_b = _to_3d(tri_KV_V0) * grad_i_V_radial_b\n",
      "\n",
      "\n",
      "ij_term = radial_term_a.groupby(level='jv_i').apply(lambda df: df.sum(level='jv_j'))\n",
      "jk_term = radial_term_b.groupby(level='jv_j').apply(lambda df: df.sum(level='jv_i'))\n",
      "\n",
      "alpha_term = (cell_term.sum(level='jv_i') + ij_term)/2\n",
      "beta_term = (cell_term.sum(level='jv_j') + jk_term)/2\n",
      "\n",
      "grad_i.loc[tri_jvis.unique()] += alpha_term.sum(level='jv_i').loc[tri_jvis.unique()].values\n",
      "grad_i.loc[tri_jvjs.unique()] -= beta_term.sum(level='jv_j').loc[tri_jvjs.unique()].values"
     ],
     "language": "python",
     "metadata": {},
     "outputs": [],
     "prompt_number": 275
    },
    {
     "cell_type": "code",
     "collapsed": false,
     "input": [
      "\n",
      "j_edge = jv0, jv1 = eptm.graph.edge(64, 70)\n",
      "j_edge_tup = (3, 64, 70)\n",
      "jv0_idx = 64\n",
      "jv1_idx = 70\n"
     ],
     "language": "python",
     "metadata": {},
     "outputs": [],
     "prompt_number": 276
    },
    {
     "cell_type": "code",
     "collapsed": false,
     "input": [
      "grad_i.loc[jv0_idx]"
     ],
     "language": "python",
     "metadata": {},
     "outputs": [
      {
       "metadata": {},
       "output_type": "pyout",
       "prompt_number": 277,
       "text": [
        "grad_ixs      4500.760679\n",
        "grad_wys    -11461.263206\n",
        "grad_zeds    -6477.000328\n",
        "Name: 64, dtype: float64"
       ]
      }
     ],
     "prompt_number": 277
    },
    {
     "cell_type": "code",
     "collapsed": false,
     "input": [
      "grad_jv0 = np.array([eptm.grad_ix[jv0],\n",
      "                     eptm.grad_wy[jv0],\n",
      "                     eptm.grad_zed[jv0]])\n",
      "grad_jv0"
     ],
     "language": "python",
     "metadata": {},
     "outputs": [
      {
       "metadata": {},
       "output_type": "pyout",
       "prompt_number": 278,
       "text": [
        "array([  829.60425628, -4253.41005323,  2796.92441652])"
       ]
      }
     ],
     "prompt_number": 278
    },
    {
     "cell_type": "code",
     "collapsed": false,
     "input": [
      "\n",
      "def volume_grad(eptm, j_edge, cell):\n",
      "    jv0, jv1 = j_edge\n",
      "    eptm_t = eptm.diamonds[j_edge].triangles[cell]\n",
      "    v_grad_a = 0.5 * (eptm.volume_grad_apical[cell]\n",
      "                      * eptm_t.height)\n",
      "\n",
      "    r_a0, r_a1 = eptm_t.deltas\n",
      "    area_grad0_t = - v_grad_a * np.cross(eptm_t.u_cross, r_a1)\n",
      "    area_grad1_t = + v_grad_a * np.cross(eptm_t.u_cross, r_a0)\n",
      "\n",
      "    v_grad_r = (eptm.volume_grad_radial[cell]\n",
      "                * eptm_t.area) / 2.\n",
      "\n",
      "    v_grad_0 = area_grad0_t + v_grad_r * np.array([eptm.ixs[jv0],\n",
      "                                                   eptm.wys[jv0],\n",
      "                                                   eptm.zeds[jv0]]) / eptm.rhos[jv0]\n",
      "    v_grad_1 = area_grad1_t + v_grad_r * np.array([eptm.ixs[jv1],\n",
      "                                                   eptm.wys[jv1],\n",
      "                                                   eptm.zeds[jv1]]) / eptm.rhos[jv1]\n",
      "\n",
      "    return v_grad_0, v_grad_1\n",
      "    \n",
      "v_grad_0, v_grad_1 = volume_grad(eptm, j_edge, mother_cell)\n",
      "assert_array_almost_equal(v_grad_0, radial_term_a.loc[j_edge_tup])\n",
      "assert_array_almost_equal(v_grad_1, radial_term_b.loc[j_edge_tup])"
     ],
     "language": "python",
     "metadata": {},
     "outputs": [],
     "prompt_number": 263
    },
    {
     "cell_type": "code",
     "collapsed": false,
     "input": [
      "def get_grad_components(eptm, jv0):\n",
      "    grad_a = np.zeros(3)\n",
      "    grad_v = np.zeros(3)\n",
      "    grad_v_rad = np.zeros(3)\n",
      "    for je in jv0.all_edges():\n",
      "        if not eptm.is_junction_edge[je]:\n",
      "            continue\n",
      "        s = -1 if jv0 == j_edge.source() else 1\n",
      "        u_d = s * np.array([eptm.u_dixs[je], eptm.u_dwys[je], eptm.u_dzeds[je]])\n",
      "        grad_a += eptm.junctions.line_tensions[j_edge] * u_d\n",
      "\n",
      "        for t in eptm.diamonds[je].triangles.values():\n",
      "            grad_a += eptm.contractile_grad[t.cell]  * u_d\n",
      "            grad_v += volume_grad(eptm, j_edge, mother_cell)[0]\n",
      "        \n",
      "    return grad_a, grad_v\n",
      "\n",
      "grad_a, grad_v = get_grad_components(eptm, jv0)\n",
      "assert_array_almost_equal(apical_forces.loc[jv0_idx], grad_a)"
     ],
     "language": "python",
     "metadata": {},
     "outputs": [],
     "prompt_number": 264
    },
    {
     "cell_type": "code",
     "collapsed": false,
     "input": [
      "grad_v"
     ],
     "language": "python",
     "metadata": {},
     "outputs": [
      {
       "metadata": {},
       "output_type": "pyout",
       "prompt_number": 265,
       "text": [
        "array([   -61.6277373 , -14556.35143592,  24220.8187085 ])"
       ]
      }
     ],
     "prompt_number": 265
    },
    {
     "cell_type": "code",
     "collapsed": false,
     "input": [
      "v_grad_cell = np.zeros(3)\n",
      "for ctoj in jv0.in_edges():\n",
      "    if eptm.is_junction_edge[ctoj]: continue\n",
      "    v_grad_cell += eptm.volume_grad_cell[ctoj.source()]\n",
      "    \n",
      "v_grad_cell"
     ],
     "language": "python",
     "metadata": {},
     "outputs": [
      {
       "metadata": {},
       "output_type": "pyout",
       "prompt_number": 266,
       "text": [
        "array([ -2.72242519e+01,  -6.93093404e+00,  -2.73904620e-13])"
       ]
      }
     ],
     "prompt_number": 266
    },
    {
     "cell_type": "code",
     "collapsed": false,
     "input": [
      "(cell_term.sum(level='jv_i').loc[jv0_idx] + cell_term.sum(level='jv_j').loc[jv0_idx]) / 2"
     ],
     "language": "python",
     "metadata": {},
     "outputs": [
      {
       "metadata": {},
       "output_type": "pyout",
       "prompt_number": 269,
       "text": [
        "ixs    -2.722425e+01\n",
        "wys    -6.930934e+00\n",
        "zeds   -2.731971e-13\n",
        "Name: 64, dtype: float64"
       ]
      }
     ],
     "prompt_number": 269
    },
    {
     "cell_type": "code",
     "collapsed": false,
     "input": [
      "ij_term.sum(level='jv_i').loc[jv0_idx] + jk_term.sum(level='jv_j').loc[jv0_idx]"
     ],
     "language": "python",
     "metadata": {},
     "outputs": [
      {
       "metadata": {},
       "output_type": "pyout",
       "prompt_number": 268,
       "text": [
        "ixs    -2017.732087\n",
        "wys    -5437.161104\n",
        "zeds    2752.385818\n",
        "Name: 64, dtype: float64"
       ]
      }
     ],
     "prompt_number": 268
    },
    {
     "cell_type": "code",
     "collapsed": false,
     "input": [],
     "language": "python",
     "metadata": {},
     "outputs": []
    },
    {
     "cell_type": "code",
     "collapsed": false,
     "input": [
      "\n",
      "assert_almost_equal(gamma_L.loc[j_edge_tup], eptm.contractile_grad[mother_cell])\n",
      "assert_almost_equal(tri_KV_V0.loc[j_edge_tup], \n",
      "                    eptm.volume_grad_radial[mother_cell])\n",
      "assert_array_almost_equal(r_ijs.loc[j_edge_tup],\n",
      "                          eptm_t.rij_vect)\n",
      "assert_array_almost_equal(normals.loc[j_edge_tup],\n",
      "                          eptm_t.u_cross)\n",
      "assert_array_almost_equal(cross_ur.loc[j_edge_tup],\n",
      "                          np.cross(eptm_t.u_cross, eptm_t.rij_vect))\n",
      "assert_array_almost_equal(cell_term.loc[j_edge_tup],\n",
      "                          eptm.volume_grad_cell[mother_cell])"
     ],
     "language": "python",
     "metadata": {},
     "outputs": [],
     "prompt_number": 233
    },
    {
     "cell_type": "code",
     "collapsed": false,
     "input": [
      "from pandas_geometry import Triangles"
     ],
     "language": "python",
     "metadata": {},
     "outputs": [],
     "prompt_number": 138
    },
    {
     "cell_type": "code",
     "collapsed": false,
     "input": [
      "trgles = Triangles(vertex_df, edges_df, triangles, coords)"
     ],
     "language": "python",
     "metadata": {},
     "outputs": [],
     "prompt_number": 150
    },
    {
     "cell_type": "code",
     "collapsed": false,
     "input": [
      "trgles.geometry(eptm.rho_lumen)"
     ],
     "language": "python",
     "metadata": {},
     "outputs": [],
     "prompt_number": 151
    },
    {
     "cell_type": "code",
     "collapsed": false,
     "input": [
      "vertex_df.loc[2, 'ages'] = 2"
     ],
     "language": "python",
     "metadata": {},
     "outputs": [],
     "prompt_number": 161
    },
    {
     "cell_type": "code",
     "collapsed": false,
     "input": [
      "trgles.vertex_df.loc[2, 'ages']"
     ],
     "language": "python",
     "metadata": {},
     "outputs": [
      {
       "metadata": {},
       "output_type": "pyout",
       "prompt_number": 162,
       "text": [
        "2.0"
       ]
      }
     ],
     "prompt_number": 162
    },
    {
     "cell_type": "code",
     "collapsed": false,
     "input": [
      "vertex_df.loc[60]"
     ],
     "language": "python",
     "metadata": {},
     "outputs": [
      {
       "metadata": {},
       "output_type": "pyout",
       "prompt_number": 152,
       "text": [
        "ages                    0.000000\n",
        "areas                   0.000000\n",
        "contractile_grad        0.000000\n",
        "contractilities         0.000000\n",
        "elastic_grad            0.000000\n",
        "grad_ix               567.191127\n",
        "grad_radial             0.000000\n",
        "grad_sigma              0.000000\n",
        "grad_wy              -234.938257\n",
        "grad_zed             -121.529635\n",
        "is_active_vert          0.000000\n",
        "is_alive                1.000000\n",
        "is_cell_vert            0.000000\n",
        "is_local_vert           1.000000\n",
        "ixs                     3.911787\n",
        "perimeters              0.000000\n",
        "prefered_vol            0.000000\n",
        "radial_tensions         0.000000\n",
        "rhos                    4.234088\n",
        "sigmas                 -1.662722\n",
        "thetas                 -0.392699\n",
        "vol_elasticities        0.000000\n",
        "vols                    0.000000\n",
        "volume_grad             0.000000\n",
        "volume_grad_apical      0.000000\n",
        "volume_grad_radial      0.000000\n",
        "wys                    -1.620315\n",
        "zeds                   -4.799866\n",
        "zero                    0.000000\n",
        "cell_heights                 NaN\n",
        "num_sides                    NaN\n",
        "Name: 60, dtype: float64"
       ]
      }
     ],
     "prompt_number": 152
    },
    {
     "cell_type": "code",
     "collapsed": false,
     "input": [
      "trgles.vertex_df.loc[60]"
     ],
     "language": "python",
     "metadata": {},
     "outputs": [
      {
       "metadata": {},
       "output_type": "pyout",
       "prompt_number": 153,
       "text": [
        "ages                    0.000000\n",
        "areas                   0.000000\n",
        "contractile_grad        0.000000\n",
        "contractilities         0.000000\n",
        "elastic_grad            0.000000\n",
        "grad_ix               567.191127\n",
        "grad_radial             0.000000\n",
        "grad_sigma              0.000000\n",
        "grad_wy              -234.938257\n",
        "grad_zed             -121.529635\n",
        "is_active_vert          0.000000\n",
        "is_alive                1.000000\n",
        "is_cell_vert            0.000000\n",
        "is_local_vert           1.000000\n",
        "ixs                     3.911787\n",
        "perimeters              0.000000\n",
        "prefered_vol            0.000000\n",
        "radial_tensions         0.000000\n",
        "rhos                    4.234088\n",
        "sigmas                 -1.662722\n",
        "thetas                 -0.392699\n",
        "vol_elasticities        0.000000\n",
        "vols                    0.000000\n",
        "volume_grad             0.000000\n",
        "volume_grad_apical      0.000000\n",
        "volume_grad_radial      0.000000\n",
        "wys                    -1.620315\n",
        "zeds                   -4.799866\n",
        "zero                    0.000000\n",
        "cell_heights                 NaN\n",
        "num_sides                    NaN\n",
        "Name: 60, dtype: float64"
       ]
      }
     ],
     "prompt_number": 153
    },
    {
     "cell_type": "code",
     "collapsed": false,
     "input": [
      "eptm.graph.set_vertex_filter(None)\n",
      "num_sides = eptm.graph.degree_property_map('out')\n",
      "eptm.graph.set_vertex_filter(eptm.is_cell_vert)\n",
      "\n",
      "num_sides.fa.sum()\n"
     ],
     "language": "python",
     "metadata": {},
     "outputs": []
    },
    {
     "cell_type": "code",
     "collapsed": false,
     "input": [
      "isos = gt.subgraph_isomorphism(tri_graph, local_graph)"
     ],
     "language": "python",
     "metadata": {},
     "outputs": []
    },
    {
     "cell_type": "code",
     "collapsed": false,
     "input": [
      "isos_vals = [list(iso.a) for iso in isos]"
     ],
     "language": "python",
     "metadata": {},
     "outputs": []
    },
    {
     "cell_type": "code",
     "collapsed": false,
     "input": [
      "isos_vals"
     ],
     "language": "python",
     "metadata": {},
     "outputs": []
    },
    {
     "cell_type": "code",
     "collapsed": false,
     "input": [
      "local_graph.vp['is_cell_vert'].fa.sum()"
     ],
     "language": "python",
     "metadata": {},
     "outputs": []
    },
    {
     "cell_type": "code",
     "collapsed": false,
     "input": [
      "gt.local_graph"
     ],
     "language": "python",
     "metadata": {},
     "outputs": []
    },
    {
     "cell_type": "code",
     "collapsed": false,
     "input": [
      "deltas.loc?"
     ],
     "language": "python",
     "metadata": {},
     "outputs": []
    },
    {
     "cell_type": "code",
     "collapsed": false,
     "input": [
      "deltas.sum(level='source')"
     ],
     "language": "python",
     "metadata": {},
     "outputs": []
    },
    {
     "cell_type": "code",
     "collapsed": false,
     "input": [
      "edges_df.dixs"
     ],
     "language": "python",
     "metadata": {},
     "outputs": []
    },
    {
     "cell_type": "markdown",
     "metadata": {},
     "source": [
      "-7.455193544455806\n"
     ]
    }
   ],
   "metadata": {}
  }
 ]
}