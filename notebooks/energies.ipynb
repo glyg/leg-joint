{
 "metadata": {
  "name": "energies"
 }, 
 "nbformat": 2, 
 "worksheets": [
  {
   "cells": [
    {
     "cell_type": "markdown", 
     "source": [
      "", 
      "", 
      "# Energetical aspects of the model", 
      "", 
      "", 
      "## Total energy of the epithelium", 
      "", 
      "According to the [Farhadifar et al. paper](http://dx.doi.org/10.1016/j.cub.2007.11.049),", 
      "in the case of a regular hexagonal latice, energy is given by:", 
      "$$", 
      "E = N_{\\alpha}\\frac{K}{2} (A - A_0)^2 + N\\frac{\\Gamma}{2} L^2 +  6N\\frac{\\Lambda}{2}\\ell", 
      "$$", 
      "", 
      "As they did, we define the adimentional contractility $\\bar\\Gamma = \\Gamma/KA_0$ and line tension", 
      "$\\bar\\Lambda = \\Lambda /KA_0^{3/2}$.  ", 
      "The normalized energy $\\bar E = E/NKA_0^2$ then reads:", 
      "", 
      "$$", 
      "\\bar E = \\left(((A/A_0)^2 - 1)^2 + \\frac{\\bar\\Gamma}{2} L^2/A_0 + 6\\frac{\\bar\\Lambda\\ell}{\\sqrt{A_0}}\\right) / 2", 
      "$$", 
      "", 
      "The perimeter $L$ of a cell is equal to $6\\ell$ and the area $A$", 
      "equals $(3\\sqrt{3}/2)\\ell^2$. We define a dilatation factor $\\delta$ such that $\\delta^2 = A/A_0$. Thus:", 
      "", 
      "$$", 
      "A/A_0 = \\delta^2 = \\frac{3\\sqrt{3}}{2} \\ell^2 A_0", 
      "$$", 
      "$$", 
      "\\Rightarrow  \\ell = \\sqrt{\\frac{2}{3\\sqrt{3}}}\\delta\\sqrt{A_0}$$", 
      "", 
      "We define the constant $\\mu = 6\\left(2/3\\sqrt{3}\\right)^{1/2}$, then $\\ell = \\frac{\\mu}{6}\\delta\\sqrt{A_0}$ and $L^2 = \\mu^2 \\delta^2 A_0$  ", 
      "", 
      "", 
      "$$", 
      "\\bar E = ((\\delta^2 -1)^2 + \\bar\\Gamma\\mu^2\\delta^2 + \\bar\\Lambda\\mu\\delta) / 2 =  (\\delta^4 + (\\bar\\Gamma\\mu^2 - 2)\\delta^2 + \\bar\\Lambda\\mu\\delta - 1)/2", 
      "$$", 
      "", 
      "We can implement this function rightaway:"
     ]
    }, 
    {
     "cell_type": "code", 
     "collapsed": true, 
     "input": [
      "mu = 6 * np.sqrt(2. / (3 * np.sqrt(3)))", 
      "print \"mu = \"+str(mu)", 
      "def isotropic_energy(delta, gamma, lbda):", 
      "    elasticity = (delta**2 - 1**2)**2 / 2.", 
      "    contractility = gamma * mu**2 * delta**2 / 2.", 
      "    tension = lbda * mu * delta / 2.", 
      "    return elasticity + contractility + tension"
     ], 
     "language": "python", 
     "outputs": [], 
     "prompt_number": 1
    }, 
    {
     "cell_type": "markdown", 
     "source": [
      "## Epithelium ground state and phase diagramm", 
      "", 
      "### Gradient expression", 
      "", 
      "The ground state of the regular epithelium is attained when enregy is minimal with respect to $\\delta$:", 
      "", 
      "$$", 
      "\\frac{\\partial \\bar E}{\\partial \\delta} = 0", 
      "$$", 
      "", 
      "That is (dropping the top bar notation):", 
      "", 
      "$$", 
      "4\\delta^3 + (2\\Gamma \\mu^2 - 4)\\delta +\\Lambda\\mu = 0", 
      "$$", 
      "", 
      "Once again let's code this:"
     ]
    }, 
    {
     "cell_type": "code", 
     "collapsed": true, 
     "input": [
      "def isotropic_grad(delta, gamma, lbda):", 
      "    grad = 4 * delta**3 \\", 
      "        + (2 * gamma * mu**2 - 4) * delta \\", 
      "        + lbda * mu", 
      "    return grad", 
      "", 
      "## The (archetypal) case I simulations in the article are for", 
      "## the following values:", 
      "gamma_case1 = 0.04", 
      "lbda_case1 = 0.12", 
      "", 
      "# We can plot the above function for a range of values for delta", 
      "deltas = np.linspace(0., 1., 40)", 
      "grad = isotropic_grad(deltas, gamma_case1, lbda_case1)", 
      "fig, axes = plt.subplots(2, 1, sharex=True, figsize=(6.,12.))", 
      "line = axes[0].plot(deltas, grad, 'b-', lw=2, alpha=0.5)", 
      "zero_x = axes[0].plot(deltas, np.zeros_like(deltas), 'k-') ", 
      "zero_x = axes[1].plot(deltas, np.zeros_like(deltas), 'k-') ", 
      "ylbl = axes[0].set_ylabel(r'Isotropic gradient amplitude $\\partial E / \\partial \\delta$')", 
      "xlblb = axes[0].set_xlabel(r'Scaling factor $\\delta$')"
     ], 
     "language": "python", 
     "outputs": [], 
     "prompt_number": 2
    }, 
    {
     "cell_type": "markdown", 
     "source": [
      "We can see that the gradient is zero for two values of $\\delta$. Let's plot the energy on the lower graph."
     ]
    }, 
    {
     "cell_type": "code", 
     "collapsed": true, 
     "input": [
      "energy = isotropic_energy(deltas, gamma_case1, lbda_case1)", 
      "axes[1].plot(deltas, energy, 'g-', lw=2, alpha=0.5)", 
      "ylbl = axes[1].set_ylabel(r'Normalized energy $\\bar E$')", 
      "xlblb = axes[0].set_xlabel('')", 
      "xlblb = axes[1].set_xlabel(r'Scaling factor $\\delta$')", 
      "plt.draw()"
     ], 
     "language": "python", 
     "outputs": [], 
     "prompt_number": 3
    }, 
    {
     "cell_type": "markdown", 
     "source": [
      "We can now get the values of the optimal scaling $\\delta_o$ and of the ground state energy $E_0$", 
      "with a simple root finding on the `isotropic_grad` function:"
     ]
    }, 
    {
     "cell_type": "code", 
     "collapsed": true, 
     "input": [
      "from scipy import optimize", 
      "delta0 = 0.9 # That's a first -visual- guess  ", 
      "delta_o,  = optimize.fsolve(isotropic_grad, delta0, args=(gamma_case1, lbda_case1))", 
      "print \"Optimum scaling factor = %.3f\" % delta_o", 
      "ground_energy = isotropic_energy(delta_o, gamma_case1, lbda_case1)", 
      "print \"Ground energy = %.3f\" % ground_energy", 
      "line = axes[0].plot([delta_o, delta_o], ", 
      "                    [grad.min(), grad.max()],  'k-')", 
      "line = axes[1].plot(delta_o, ground_energy,", 
      "                    'ro', ms=5, alpha=0.5)", 
      "line = axes[1].plot(deltas, np.ones_like(deltas) * ground_energy, 'k-')", 
      "line = axes[1].plot([delta_o, delta_o], ", 
      "                    [0.4, 0.55], 'k-')", 
      "nrj_ax = axes[1]", 
      "nrj_ax.set_xlim(0, 1)", 
      "nrj_ax.set_ylim(0.4, 0.55)", 
      "plt.draw()"
     ], 
     "language": "python", 
     "outputs": [], 
     "prompt_number": 4
    }, 
    {
     "cell_type": "markdown", 
     "source": [
      "Note that the value found is equal to the one seen on figure 2B of the paper for the ground state energy, so we're cool..."
     ]
    }, 
    {
     "cell_type": "markdown", 
     "source": [
      "### Boundary between the regular hexagonal packing and the soft network", 
      "", 
      "If $\\delta = 1$, which means that the cells area is equal to the prefered area, ", 
      "we must have $\\Gamma = -\\Lambda / 2\\mu$. This line in the $(\\Lambda, \\Gamma)$ plane separates", 
      "the hexagonal and soft network outlined in figure 1 in the original article.", 
      "", 
      "We can plot this line, which is exactly the same as in the article:"
     ]
    }, 
    {
     "cell_type": "code", 
     "collapsed": true, 
     "input": [
      "lbdas = np.linspace(-1.5, 0., 20)", 
      "gammas = - lbdas / (2 * mu)", 
      "fig, ax_gl = plt.subplots(1,1)", 
      "line = ax_gl.plot(lbdas, gammas, 'k-')", 
      "xlbl = ax_gl.set_xlabel(r'Normalized line tension $\\Lambda$')", 
      "ylblb = ax_gl.set_ylabel(r'Normalized contractility $\\Gamma$')", 
      "xl = ax_gl.set_xlim(-1.4, 0.6)", 
      "yl = ax_gl.set_ylim(0, 0.18)"
     ], 
     "language": "python", 
     "outputs": [], 
     "prompt_number": 5
    }, 
    {
     "cell_type": "markdown", 
     "source": [
      "### The $\\Lambda \\leq 0$ cases", 
      "", 
      "If $\\Lambda = 0$, for a non vanishing network, we must find $\\delta$ such that:", 
      "$$", 
      "4\\delta^2 + (2\\Gamma \\mu^2 - 4) = 0 ", 
      "$$", 
      "", 
      "This equation has roots only if $\\Gamma \\mu^2 - 2 > 0$, or $\\Gamma < 2 / \\mu^2$.", 
      "We can have $\\Gamma > 2 / \\mu^2$ only if $\\Lambda < 0$. This condition defines a vertical line", 
      "starting at the $\\Lambda = 0, \\Gamma = 2 / \\mu^2$ point. Let's plot this line:"
     ]
    }, 
    {
     "cell_type": "code", 
     "collapsed": true, 
     "input": [
      "ax_gl.plot([0, 0], [2 / mu**2, gammas.max()], 'k-')", 
      "plt.draw()"
     ], 
     "language": "python", 
     "outputs": [], 
     "prompt_number": 6
    }, 
    {
     "cell_type": "markdown", 
     "source": [
      "### The $\\Lambda \\geq 0$ case", 
      "", 
      "The gradient will have real valued roots if its minimum is lower than $0$.", 
      "Let's find the position of this minimum, by finding the roots of the gradient derivate:", 
      "", 
      "$$", 
      "\\frac{\\partial^2 E}{\\partial\\delta^2} = 12\\delta^2 + (2\\Gamma \\mu^2 - 4) = 0 \\Rightarrow \\delta_{\\mathrm{min}} = \\sqrt{\\frac{2 - \\Gamma\\mu^2}{6}}", 
      "$$", 
      "", 
      "The value of the gradient at $\\delta_{\\mathrm{min}}$ must be negative:", 
      "", 
      "$$", 
      "4\\delta_{\\mathrm{min}}^3 + (2\\Gamma\\mu^2 - 4)\\delta_{\\mathrm{min}} + \\Lambda\\mu \\leq 0", 
      "$$", 
      "", 
      "This can be re-written as:", 
      "$$", 
      "\\Lambda \\leq \\frac{1}{\\mu}\\left(\\frac{4 - 2\\Gamma\\mu^2}{3}\\right)^{3/2}", 
      "$$"
     ]
    }, 
    {
     "cell_type": "code", 
     "collapsed": true, 
     "input": [
      "gammas = np.linspace(0, 2/mu**2, 20)", 
      "lambdas_max = ((4 - 2 * gammas * mu**2) / 3.)**(3./2.) / mu", 
      "ax_gl.plot(lambdas_max, gammas, 'k-')", 
      "plt.draw()"
     ], 
     "language": "python", 
     "outputs": [], 
     "prompt_number": 7
    }, 
    {
     "cell_type": "markdown", 
     "source": [
      "We now have the two phase space boundaries given by Faradhifar on figure 1. When we pass to", 
      "the simulation we'll use all that to ensure that optimisation will converge and that we start the simultations", 
      "close to the ground state."
     ]
    }, 
    {
     "cell_type": "markdown", 
     "source": [
      "## Gradient computation at junction vertices", 
      "", 
      "In order to find the local energy minimum, as shown below, we use a conjugate gradient method", 
      "(namely the [`fmin_ncg`](http://docs.scipy.org/doc/scipy/reference/tutorial/optimize.html#newton-conjugate-gradient-algorithm-method-newton-cg)", 
      "algorithm from SciPy). So we need to compute said gradient at each junction vertex that concur to the optimization.", 
      "", 
      "The total gradient is the sum of three components, corresponing to the three interactions on the appical surface:", 
      "", 
      "* Cell elasticity $\\nabla  E^e = -F^e \\simeq K(A - A_0)$", 
      "* Contractility: $\\nabla  E^g = -F^g \\simeq \\Gamma L$", 
      "* Line tension $\\nabla E^t = -F^t \\simeq \\Lambda$", 
      "", 
      "For a given cell, the elastic force is assumed to be applied perpendicular to the junction edges, outward, while the contractile force ", 
      "is parrallel to those edges. The line tension is also parrallel to the edges.", 
      "", 
      "At a junction vertex with index $i$, the net force is given by:", 
      "", 
      "* the sum over each connected edge $j$ of the elastic forces from both adjacent cells ", 
      "(indexed as $ij,0$ and $ij,1$), perpendicular to the edge, ", 
      "with $\\mathbf{e}_{ij,0}$ as a unitary vector perpendicular ", 
      "to the edge $ij$ and pointing out of cell $ij, 0$:", 
      "$$", 
      "\\mathbf{F}^e_i = \\sum_j K(A_{ij,0} - A_{ij,1}) \\mathbf{e}_{ij,0}", 
      "$$", 
      "", 
      "* plus the sum over each connected edge of contractile force", 
      "from both adjacent cells,", 
      "parrallel to the edge and away from the vertex, with $\\mathbf{e}_{ij}$ ", 
      "for the unitary vector parrallel to the junction edge:", 
      "$$", 
      "\\mathbf{F}^g_i = \\sum_j (\\Gamma L_{ij,0} + \\Gamma L_{ij,1}) \\mathbf{e}_{ij}", 
      "$$", 
      "* plus the sum of the tensile force exerted by each emanating edge, directed along the edge and away from the vertex.", 
      "$$", 
      "\\mathbf{F}^t_i = \\sum_j \\Lambda \\mathbf{e}_{ij}", 
      "$$"
     ]
    }, 
    {
     "cell_type": "markdown", 
     "source": [
      " Before we jump to the simulation, we need to adress an aspect of the model that is not taken into account", 
      "in the reference work: the interactions out of the epithelium appical surface.", 
      "", 
      "## Three dimensional folding", 
      "", 
      "Initally, the epithelium is modeled as a cylindrical surface warped around the $z$ axis.", 
      "Thus, the curvature along $z$ is null, and the radius of curvature along $\\sigma$ is simply", 
      "equal to $\\rho_0$, $\\forall z$. A sheet of paper rolled on itself to form a tube, if left alone,", 
      "comes back spontaneously to a flat configuration, because of its bending rigidity. So is the case of our appical surface", 
      "(we could imagine an experiment where we cut the epithelium along the $z$ axis, and observe that it unfolds to form a flat surface).", 
      "", 
      "The bending ridgidity translates into an energy $E^b = k_b C_0^2 = k_b / \\rho_0^2$ ", 
      "and a force $\\mathbf{F}^b = - \\partial E^b / \\partial \\rho = 2 k_b / \\rho_0^3 \\mathbf{e}_\\rho$, ", 
      "perpendicular to the surface and pointing away from it. The constant $k_b$ is called the bending modulus.", 
      "", 
      "At a given vertex junction, this force is compensated by the contractile end tensile forces components", 
      "that point out of the appical surface - the surface elasticity is by definition not contributing:", 
      "$$", 
      "\\mathbf{F}^b . \\mathbf{e}_\\rho = \\mathbf{F}^g_i . \\mathbf{e}_\\rho +  \\mathbf{F}^t_i . \\mathbf{e}_\\rho", 
      "$$"
     ]
    }, 
    {
     "cell_type": "markdown", 
     "source": [
      "We can feed the above definitions of the forces in this equation:", 
      "", 
      "$$", 
      "\\sum_j (\\Lambda + \\Gamma L_{ij,0} + \\Gamma L_{ij,1}) \\mathbf{e}_{ij} . \\mathbf{e}\\rho = 2 k_c / \\rho _i^3", 
      "$$", 
      "", 
      "As, at least initially, the apical surface is parrallel to $z$, the $\\zeta$ axis is perpendicular to the radius. ", 
      "Only the components of the forces along the $\\sigma$ axis contribute, i.e: ", 
      "$$ ", 
      "\\mathbf{e}_{ij} . \\mathbf{e} _\\rho = \\mathbf{u} _\\sigma . \\mathbf{e}\\rho \\textrm{ with } \\mathbf{e} _{ij} ", 
      "                                   = \\mathbf{u} _\\sigma + \\mathbf{u} _\\zeta + \\mathbf{u} _\\rho", 
      "$$", 
      "With $\\mathbf{u} _\\sigma = \\Delta \\sigma / \\ell _{ij} $", 
      "", 
      "We have $\\mathbf{u} _\\sigma . \\mathbf{e} _\\rho = u _\\sigma \\sin (\\Delta \\theta _{ij} / 2)$.", 
      "We can calculate the bending rigidity with the formula:", 
      "", 
      "$$", 
      "k_c = \\frac{\\rho_0^3}{2} \\sum_j \\left[ (\\Lambda + 2\\Gamma L) u _\\sigma \\sin (\\Delta \\theta _{ij} / 2) \\right]", 
      "$$", 
      "", 
      "We can calculate this in our conditions:"
     ]
    }, 
    {
     "cell_type": "code", 
     "collapsed": true, 
     "input": [
      "# Create an Epithelium before (next code cell below)", 
      "j_vert = eptm.graph.vertex(134)", 
      "rho = eptm.rhos[j_vert]", 
      "eptm.graph.set_edge_filter(eptm.is_junction_edge)", 
      "kc = 0", 
      "for je in j_vert.all_edges():", 
      "    lmbda = eptm.junctions.line_tensions[je]", 
      "    kj = lmbda", 
      "    ", 
      "    for cell in eptm.adjacent_cells(je):", 
      "        gamma = eptm.cells.contractilities[cell]", 
      "        perimeter = eptm.cells.perimeters[cell]", 
      "        kj += gamma * perimeter", 
      "    dtheta = eptm.dthetas[je]", 
      "    kj *= eptm.u_dsigmas[je] * np.sin(dtheta/2)", 
      "    kc += kj", 
      "kc *= rho**3 / 2", 
      "K = eptm.params[\"elasticity\"]", 
      "A0 = eptm.params[\"prefered_area\"]", 
      "adim_kc = kc / (K * A0**3)", 
      "print kc, adim_kc"
     ], 
     "language": "python", 
     "outputs": [], 
     "prompt_number": 2
    }, 
    {
     "cell_type": "markdown", 
     "source": [
      "### Curvature relaxation along the radial axis"
     ]
    }, 
    {
     "cell_type": "code", 
     "collapsed": true, 
     "input": [
      "eptm.graph.set_edge_filter(eptm.is_junction_edge)", 
      "u_rhosigma = eptm.dsigmas.copy()", 
      "u_rhosigma.fa = eptm.u_dsigmas.fa * np.sin(eptm.dthetas.fa / 2)"
     ], 
     "language": "python", 
     "outputs": [], 
     "prompt_number": 12
    }, 
    {
     "cell_type": "code", 
     "collapsed": true, 
     "input": [
      "pcolor?"
     ], 
     "language": "python", 
     "outputs": [], 
     "prompt_number": 18
    }, 
    {
     "cell_type": "code", 
     "collapsed": true, 
     "input": [
      "eptm.update_gradient()", 
      "fig, ax = plt.subplots(1,1)", 
      "from matplotlib.patches import Rectangle", 
      "eptm.graph.set_vertex_filter(eptm.is_cell_vert, inverted=True)", 
      "", 
      "max_rad = eptm.radial_grad.fa.max()", 
      "for s,z,rad in zip(eptm.sigmas.fa, eptm.zeds.fa, eptm.radial_grad.fa):", 
      "    size = 0.5*rad/max_rad + 1", 
      "    rect = Rectangle([s - size / 2, z - size / 2], ", 
      "                     size+1, size+1,", 
      "                     facecolor='b', edgecolor='None')", 
      "    ax.add_patch(rect)", 
      "ax.autoscale_view()", 
      "eptm_ax = plot_cells_sz(eptm, ax, efilt=None)"
     ], 
     "language": "python", 
     "outputs": [], 
     "prompt_number": 27
    }, 
    {
     "cell_type": "markdown", 
     "source": [
      "### Curvature relaxation along the $z$ axis", 
      "", 
      "Between the proximal region and the fold itself, the radius will vary with respect to the $\\zeta$ curvilinear coordinate,", 
      "and so curvature along the $z$ axis will not be zero any more. To determined the change of shape along that axis, ", 
      "we rely on a well known propriety of elastic films: the sum of the curvatures along two perpendicular axes is constant:", 
      "$ C_z + C _\\rho = C_0$. By definition, we have $C_z = \\partial^2 z / \\partial \\zeta^2 $, and $C _\\rho(\\zeta) = 1/\\rho _\\zeta$.", 
      "", 
      "We can thus determine $z(\\zeta)$ by simply solving the differential equation:", 
      "$$", 
      "\\frac{\\partial^2 z}{\\partial \\zeta^2} = \\frac{1}{\\rho_0} - \\frac{1}{\\rho _\\zeta} ", 
      "\\Rightarrow z(\\zeta) = \\frac{\\rho _\\zeta - \\rho _0}{2\\rho _\\zeta \\rho _0}\\zeta^2 + \\zeta + z_0", 
      "$$"
     ]
    }, 
    {
     "cell_type": "markdown", 
     "source": [
      "# Implementation and scaling", 
      "", 
      "## Initial state", 
      "", 
      "We start by creating an epithelium:"
     ]
    }, 
    {
     "cell_type": "code", 
     "collapsed": false, 
     "input": [
      "from dynamics import Epithelium", 
      "#### This is broken for a reason I don't get", 
      "# eptm = Epithelium(graphXMLfile=\"saved_graphs/few_big_cells.xml\")", 
      "## Fallback to generating a new tissue", 
      "eptm = Epithelium(paramfile='default/few_big_cells.xml')", 
      "", 
      "# eptm.graph.save('saved_graph/few_big_cells.xml')", 
      "#print eptm"
     ], 
     "language": "python", 
     "outputs": [], 
     "prompt_number": 3
    }, 
    {
     "cell_type": "code", 
     "collapsed": true, 
     "input": [
      "%run graph_representation.py"
     ], 
     "language": "python", 
     "outputs": [], 
     "prompt_number": 4
    }, 
    {
     "cell_type": "markdown", 
     "source": [
      "Run the cell below to see the whole network"
     ]
    }, 
    {
     "cell_type": "code", 
     "collapsed": false, 
     "input": [
      "# epithelium_draw(eptm)", 
      "fig, eptm_ax = plt.subplots(1,1)", 
      "eptm_ax = plot_cells_sz(eptm, eptm_ax, efilt=None, text=False)"
     ], 
     "language": "python", 
     "outputs": [], 
     "prompt_number": 3
    }, 
    {
     "cell_type": "markdown", 
     "source": [
      "We can now apply the definitions above to compute the total energy in the epithelium.", 
      "", 
      "At initialisation time, we already computed all the geometrical characteristics", 
      "we need (via the `update_apical_geometry()` method),", 
      "so it's only a matter of writting the stuff:"
     ]
    }, 
    {
     "cell_type": "code", 
     "collapsed": false, 
     "input": [
      "eptm.set_vertex_state([(eptm.is_cell_vert, False),", 
      "                       (eptm.is_alive, False)])", 
      "K = eptm.params['elasticity']", 
      "A0 = eptm.params['prefered_area']", 
      "elastic_term = 0.5 * K * (eptm.cells.areas.fa - A0)**2", 
      "", 
      "Gamma = eptm.params['contractility']", 
      "contractile_term = 0.5 * Gamma * eptm.cells.perimeters.fa**2", 
      "N = (eptm.is_cell_vert.a * eptm.is_alive.a).sum()", 
      "", 
      "# Filtering out the cell to cell and cell to junction edges", 
      "Lambda = eptm.params['line_tension']", 
      "tension_term = Lambda * eptm.edge_lengths.fa", 
      "energy = contractile_term.sum() + tension_term.sum() + elastic_term.sum()", 
      "energy /= (N * K * A0**2)", 
      "print \"The normalized energy equals %.3f\" % energy", 
      "", 
      "eptm.set_vertex_state()", 
      "# The calc_energy method of eptm does nearly exactly this", 
      "print \"A small difference: \"+str(energy - eptm.calc_energy())"
     ], 
     "language": "python", 
     "outputs": [], 
     "prompt_number": 4
    }, 
    {
     "cell_type": "markdown", 
     "source": [
      "Note that at initialisation time, we alse invoked the `isotropic_relax` method,", 
      "and we start with an hexagonal lattice, so we should be fairly close to", 
      "the ground state energy, except from the cells closer to edges along the $\\zeta$ axis."
     ]
    }, 
    {
     "cell_type": "code", 
     "collapsed": false, 
     "input": [
      "print \"Normalized ground energy = %.3f\" % eptm.ground_energy"
     ], 
     "language": "python", 
     "outputs": [], 
     "prompt_number": 10
    }, 
    {
     "cell_type": "markdown", 
     "source": [
      "## Energy minimisation of a cell close to the edge", 
      "", 
      "### Sanity checks", 
      "", 
      "The `check_phase_space` method of the `Epithelium` class will return `False` if the values ", 
      "for $\\Gamma$ and $\\Lambda$ are not good, together with an error message: "
     ]
    }, 
    {
     "cell_type": "code", 
     "collapsed": false, 
     "input": [
      "print eptm.check_phase_space(0.04, 0.12)", 
      "print eptm.check_phase_space(0.04, 0.30)"
     ], 
     "language": "python", 
     "outputs": [], 
     "prompt_number": 11
    }, 
    {
     "cell_type": "markdown", 
     "source": [
      "### Local filtering", 
      "", 
      "The `is_local_vert` and `is_local_edge` vertex and edge properties are used to make all the calculations only localy"
     ]
    }, 
    {
     "cell_type": "code", 
     "collapsed": false, 
     "input": [
      "eptm.set_local_mask(None)", 
      "", 
      "cell = eptm.graph.vertex(31)", 
      "eptm.set_local_mask(cell)", 
      "", 
      "", 
      "ax = plot_cells_sz(eptm, ax=None,", 
      "                   vfilt=eptm.is_local_vert,", 
      "                   efilt=eptm.is_local_edge)", 
      "ax = plot_gradients(eptm, ax, scale=10.)"
     ], 
     "language": "python", 
     "outputs": [], 
     "prompt_number": 5
    }, 
    {
     "cell_type": "code", 
     "collapsed": false, 
     "input": [
      "energy = eptm.calc_energy()", 
      "print energy"
     ], 
     "language": "python", 
     "outputs": [], 
     "prompt_number": 8
    }, 
    {
     "cell_type": "code", 
     "collapsed": false, 
     "input": [
      "from scipy import optimize", 
      "vfilt = eptm.is_local_vert.copy()", 
      "vfilt.a *= 1 - eptm.is_cell_vert.a", 
      "eptm.graph.set_vertex_filter(vfilt)", 
      "pos0 = np.array([(s, z) for s, z in zip(eptm.sigmas.fa,", 
      "                                        eptm.zeds.fa)])", 
      "eptm.graph.set_vertex_filter(None)", 
      "optimize.check_grad(eptm.opt_energy, eptm.opt_gradient, ", 
      "                    pos0.flatten())"
     ], 
     "language": "python", 
     "outputs": [], 
     "prompt_number": 5
    }, 
    {
     "cell_type": "code", 
     "collapsed": false, 
     "input": [
      "pos0, bounds = eptm.precondition()"
     ], 
     "language": "python", 
     "outputs": [], 
     "prompt_number": 6
    }, 
    {
     "cell_type": "code", 
     "collapsed": false, 
     "input": [
      "pos0, pos1 = eptm.find_energy_min()"
     ], 
     "language": "python", 
     "outputs": [], 
     "prompt_number": 7
    }, 
    {
     "cell_type": "code", 
     "collapsed": true, 
     "input": [
      "ax = plot_cells_sz(eptm, ax=None, ", 
      "                   vfilt=eptm.is_local_vert,", 
      "                   efilt=eptm.is_local_edge)", 
      "ax = plot_gradients(eptm, ax, scale=1.)"
     ], 
     "language": "python", 
     "outputs": [], 
     "prompt_number": 12
    }, 
    {
     "cell_type": "code", 
     "collapsed": true, 
     "input": [
      "mu = 6 * np.sqrt(2. / (3 * np.sqrt(3)))", 
      "eptm.graph.set_vertex_filter(eptm.is_cell_vert)", 
      "print 'prefered area = %.3f' % eptm.cells.prefered_area.fa.mean()", 
      "print 'average area = %.3f' % eptm.cells.areas.fa.mean()", 
      "eptm.graph.set_edge_filter(eptm.is_junction_edge)", 
      "print 'average edge length = %.3f' % eptm.edge_lengths.fa.mean()", 
      "opt_ell = mu * np.sqrt(eptm.cells.areas.fa.mean()) / 6.", 
      "print 'optimum length = %.3f' % opt_ell"
     ], 
     "language": "python", 
     "outputs": [], 
     "prompt_number": 13
    }, 
    {
     "cell_type": "code", 
     "collapsed": true, 
     "input": [
      "eptm.remove_local_mask(cell)", 
      "cell = eptm.graph.vertex(31)", 
      "eptm.set_local_mask(cell)", 
      "pos0, pos1 = eptm.find_energy_min(tol=1e-8)"
     ], 
     "language": "python", 
     "outputs": [], 
     "prompt_number": 16
    }, 
    {
     "cell_type": "code", 
     "collapsed": true, 
     "input": [
      "eptm.cells.prefered_area[cell] /= 2."
     ], 
     "language": "python", 
     "outputs": [], 
     "prompt_number": 26
    }, 
    {
     "cell_type": "code", 
     "collapsed": true, 
     "input": [
      "eptm.cell_division(cell)"
     ], 
     "language": "python", 
     "outputs": [], 
     "prompt_number": 27
    }, 
    {
     "cell_type": "code", 
     "collapsed": true, 
     "input": [
      "eptm.set_local_mask(eptm.graph.vertex(252))", 
      "pos0, pos1 = eptm.find_energy_min(tol=1e-2)"
     ], 
     "language": "python", 
     "outputs": [], 
     "prompt_number": 29
    }, 
    {
     "cell_type": "code", 
     "collapsed": true, 
     "input": [
      "ax = plot_cells_sz(eptm, ax=None, ", 
      "                   vfilt=eptm.is_local_vert,", 
      "                   efilt=eptm.is_local_edge)", 
      "ax = plot_gradients(eptm, ax, scale=0.1)"
     ], 
     "language": "python", 
     "outputs": [], 
     "prompt_number": 15
    }, 
    {
     "cell_type": "code", 
     "collapsed": true, 
     "input": [
      "d_cell = eptm.graph.vertex(252)", 
      "eptm.cells.prefered_area[d_cell]"
     ], 
     "language": "python", 
     "outputs": [], 
     "prompt_number": 32
    }, 
    {
     "cell_type": "code", 
     "collapsed": true, 
     "input": [
      "eptm.graph.vertex_properties"
     ], 
     "language": "python", 
     "outputs": [], 
     "prompt_number": 33
    }, 
    {
     "cell_type": "code", 
     "collapsed": true, 
     "input": [], 
     "language": "python", 
     "outputs": []
    }
   ]
  }
 ]
}