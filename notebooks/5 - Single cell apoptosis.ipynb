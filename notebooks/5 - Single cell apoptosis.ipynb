{
 "metadata": {
  "name": ""
 },
 "nbformat": 3,
 "nbformat_minor": 0,
 "worksheets": [
  {
   "cells": [
    {
     "cell_type": "code",
     "collapsed": false,
     "input": [
      "%load_ext autoreload\n",
      "%autoreload 2"
     ],
     "language": "python",
     "metadata": {},
     "outputs": [],
     "prompt_number": 1
    },
    {
     "cell_type": "code",
     "collapsed": false,
     "input": [
      "%run nb_init # This imports leg_joint as lj\n",
      "from joint import *\n"
     ],
     "language": "python",
     "metadata": {},
     "outputs": [
      {
       "output_type": "stream",
       "stream": "stderr",
       "text": [
        "/usr/lib/pymodules/python2.7/mpl_toolkits/__init__.py:2: UserWarning: Module dateutil was already imported from /usr/local/lib/python2.7/dist-packages/matplotlib-1.4.x-py2.7-linux-i686.egg/dateutil/__init__.pyc, but /usr/lib/python2.7/dist-packages is being added to sys.path\n",
        "  __import__('pkg_resources').declare_namespace(__name__)\n"
       ]
      }
     ],
     "prompt_number": 2
    },
    {
     "cell_type": "code",
     "collapsed": false,
     "input": [
      "eptm = lj.Epithelium(graphXMLfile='../saved_graphs/xml/before_apoptosis.xml',\n",
      "                     paramfile='../default/params.xml')\n",
      "\n",
      "eptm.isotropic_relax()"
     ],
     "language": "python",
     "metadata": {},
     "outputs": [],
     "prompt_number": 59
    },
    {
     "cell_type": "code",
     "collapsed": false,
     "input": [
      "apopto_cells = get_apoptotic_cells(eptm, seed=0, z0=0., width_apopto=1.5, p0=0.85, amp=0.7)\n",
      "apopto_cell = apopto_cells[0]"
     ],
     "language": "python",
     "metadata": {},
     "outputs": [
      {
       "output_type": "stream",
       "stream": "stdout",
       "text": [
        "Number of apoptotic cells: 31\n"
       ]
      }
     ],
     "prompt_number": 60
    },
    {
     "cell_type": "code",
     "collapsed": false,
     "input": [
      "basename = 'local_apoptosis_t'\n",
      "\n",
      "eptm.set_local_mask(None)\n",
      "eptm.set_local_mask(apopto_cell, wider=True)\n",
      "fig, (ax_zs, ax_zr, ax_rs) = lj.plot_ortho_proj(eptm, c_text=False)\n",
      "ax_rs.set_xlim(10, 30)\n",
      "ax_zr.set_ylim(10, 30)\n",
      "z_lims = ax_zs.get_xlim()\n",
      "s_lims = ax_zs.get_ylim()\n",
      "plt.draw()\n",
      "fig.savefig('%s_00.svg' % basename)\n",
      "plt.close(fig)\n",
      "\n",
      "for i in range(1, 16):\n",
      "    lj.apoptosis(eptm, apopto_cell,\n",
      "                 vol_reduction=0.6,\n",
      "                 contractility=1.,\n",
      "                 radial_tension=0.2, \n",
      "                 save=False)\n",
      "    fig, (ax_zs, ax_zr, ax_rs) = lj.plot_ortho_proj(eptm, c_text=False)\n",
      "    ax_zs.set_xlim(z_lims)\n",
      "    ax_zs.set_ylim(s_lims)\n",
      "    ax_rs.set_xlim(10, 30)\n",
      "    ax_zr.set_ylim(10, 30)\n",
      "    plt.draw()\n",
      "    fig.savefig('%s_%02d.svg' % (basename, i))\n",
      "    plt.close(fig)\n",
      "\n",
      "neighbrs = eptm.cells.get_neighbor_cells(apopto_cell)\n",
      "lj.remove_cell(eptm, apopto_cell)\n",
      "for neighbr in neighbrs:\n",
      "    eptm.set_local_mask(neighbr, wider=False)\n",
      "fig, (ax_zs, ax_zr, ax_rs) = lj.plot_ortho_proj(eptm, c_text=False)\n",
      "ax_zs.set_xlim(z_lims)\n",
      "ax_zs.set_ylim(s_lims)\n",
      "ax_rs.set_xlim(10, 30)\n",
      "ax_zr.set_ylim(10, 30)\n",
      "plt.draw()\n",
      "fig.savefig('%s_%02d.svg' % (basename, i+1))\n",
      "plt.close(fig)\n",
      "\n",
      "\n",
      "lj.find_energy_min(eptm)\n",
      "fig, ax = lj.plot_ortho_proj(eptm, c_text=False)\n",
      "ax_zs.set_xlim(z_lims)\n",
      "ax_zs.set_ylim(s_lims)\n",
      "ax_rs.set_xlim(10, 30)\n",
      "ax_zr.set_ylim(10, 30)\n",
      "plt.draw()\n",
      "fig.savefig('%s_%02d.svg' % (basename, i+2))\n"
     ],
     "language": "python",
     "metadata": {},
     "outputs": [
      {
       "output_type": "stream",
       "stream": "stdout",
       "text": [
        "new vertex 5508\n"
       ]
      }
     ],
     "prompt_number": 61
    },
    {
     "cell_type": "code",
     "collapsed": false,
     "input": [
      "ax_zr.get_ylim()"
     ],
     "language": "python",
     "metadata": {},
     "outputs": [
      {
       "metadata": {},
       "output_type": "pyout",
       "prompt_number": 49,
       "text": [
        "(10.0, 30.0)"
       ]
      }
     ],
     "prompt_number": 49
    },
    {
     "cell_type": "code",
     "collapsed": false,
     "input": [],
     "language": "python",
     "metadata": {},
     "outputs": []
    },
    {
     "cell_type": "code",
     "collapsed": false,
     "input": [
      "\n",
      "def do_update():\n",
      "    eptm.update_apical_geom()\n",
      "    eptm.update_gradient()\n",
      "import cProfile\n",
      "cProfile.run('do_update()')\n"
     ],
     "language": "python",
     "metadata": {},
     "outputs": [
      {
       "output_type": "stream",
       "stream": "stdout",
       "text": [
        "         65272 function calls in 0.419 seconds\n",
        "\n",
        "   Ordered by: standard name\n",
        "\n",
        "   ncalls  tottime  percall  cumtime  percall filename:lineno(function)\n",
        "        1    0.000    0.000    0.419    0.419 <ipython-input-4-0ad3da4257f0>:1(do_update)\n",
        "        1    0.000    0.000    0.419    0.419 <string>:1(<module>)\n",
        "        1    0.000    0.000    0.000    0.000 __init__.py:1016(vertices)\n",
        "      924    0.009    0.000    0.103    0.000 __init__.py:1038(vertex)\n",
        "      462    0.023    0.000    0.127    0.000 __init__.py:1051(edge)\n",
        "        2    0.000    0.000    0.000    0.000 __init__.py:1071(edges)\n",
        "     4475    0.056    0.000    0.063    0.000 __init__.py:1203(__get_specific_properties)\n",
        "     2599    0.009    0.000    0.057    0.000 __init__.py:1209(__get_vertex_properties)\n",
        "     2599    0.002    0.000    0.002    0.000 __init__.py:1211(<lambda>)\n",
        "     1876    0.006    0.000    0.037    0.000 __init__.py:1218(__get_edge_properties)\n",
        "     1876    0.002    0.000    0.002    0.000 __init__.py:1220(<lambda>)\n",
        "     2738    0.007    0.000    0.007    0.000 __init__.py:127(_prop)\n",
        "        1    0.000    0.000    0.000    0.000 __init__.py:1351(new_vertex_property)\n",
        "        4    0.000    0.000    0.000    0.000 __init__.py:1358(new_edge_property)\n",
        "     1144    0.001    0.000    0.001    0.000 __init__.py:1483(is_directed)\n",
        "     1144    0.001    0.000    0.001    0.000 __init__.py:1495(is_reversed)\n",
        "     2290    0.086    0.000    0.092    0.000 __init__.py:1503(set_vertex_filter)\n",
        "       19    0.000    0.000    0.000    0.000 __init__.py:1514(get_vertex_filter)\n",
        "      440    0.017    0.000    0.018    0.000 __init__.py:1519(set_edge_filter)\n",
        "       20    0.000    0.000    0.000    0.000 __init__.py:1528(get_edge_filter)\n",
        "     1144    0.005    0.000    0.074    0.000 __init__.py:1551(stash_filter)\n",
        "     1144    0.004    0.000    0.058    0.000 __init__.py:1569(pop_filter)\n",
        "     1144    0.004    0.000    0.012    0.000 __init__.py:1588(get_filter_state)\n",
        "      132    0.001    0.000    0.001    0.000 __init__.py:1607(num_vertices)\n",
        "        5    0.000    0.000    0.000    0.000 __init__.py:164(_type_alias)\n",
        "        5    0.000    0.000    0.000    0.000 __init__.py:1675(value_types)\n",
        "      406    0.020    0.000    0.020    0.000 __init__.py:1692(_out_neighbours)\n",
        "      353    0.000    0.000    0.000    0.000 __init__.py:251(_get_pmap)\n",
        "      173    0.000    0.000    0.000    0.000 __init__.py:254(_set_pmap)\n",
        "       56    0.001    0.000    0.012    0.000 __init__.py:260(__new__)\n",
        "      286    0.000    0.000    0.000    0.000 __init__.py:273(_get_base)\n",
        "      286    0.001    0.000    0.002    0.000 __init__.py:279(_get_base_data)\n",
        "      231    0.001    0.000    0.022    0.000 __init__.py:282(_check_data)\n",
        "      117    0.001    0.000    0.015    0.000 __init__.py:295(__array_finalize__)\n",
        "       38    0.000    0.000    0.011    0.000 __init__.py:308(__array_prepare__)\n",
        "       38    0.000    0.000    0.000    0.000 __init__.py:312(__array_wrap__)\n",
        "       15    0.000    0.000    0.006    0.000 __init__.py:322(checked_method)\n",
        "        5    0.000    0.000    0.000    0.000 __init__.py:373(__init__)\n",
        "       10    0.000    0.000    0.000    0.000 __init__.py:376(<lambda>)\n",
        "     5964    0.003    0.000    0.003    0.000 __init__.py:385(<lambda>)\n",
        "        5    0.000    0.000    0.000    0.000 __init__.py:388(__register_map)\n",
        "        5    0.000    0.000    0.000    0.000 __init__.py:394(__unregister_map)\n",
        "        5    0.000    0.000    0.000    0.000 __init__.py:401(__del__)\n",
        "     4375    0.052    0.000    0.054    0.000 __init__.py:404(__getitem__)\n",
        "     1589    0.015    0.000    0.016    0.000 __init__.py:407(__setitem__)\n",
        "      257    0.000    0.000    0.000    0.000 __init__.py:435(get_graph)\n",
        "      109    0.000    0.000    0.000    0.000 __init__.py:442(key_type)\n",
        "        8    0.000    0.000    0.000    0.000 __init__.py:446(value_type)\n",
        "       56    0.000    0.000    0.023    0.000 __init__.py:454(get_array)\n",
        "      220    0.002    0.000    0.040    0.000 __init__.py:476(_get_data)\n",
        "        2    0.000    0.000    0.002    0.001 __init__.py:491(__set_array)\n",
        "       37    0.000    0.000    0.033    0.001 __init__.py:508(__get_set_f_array)\n",
        "       14    0.000    0.000    0.013    0.001 __init__.py:540(<lambda>)\n",
        "        4    0.001    0.000    0.001    0.000 __init__.py:802(edge_difference)\n",
        "     4475    0.015    0.000    0.015    0.000 __init__.py:852(__init__)\n",
        "     4475    0.010    0.000    0.013    0.000 __init__.py:860(__getitem__)\n",
        "     1144    0.002    0.000    0.002    0.000 copy.py:113(_copy_with_constructor)\n",
        "     1144    0.003    0.000    0.005    0.000 copy.py:66(copy)\n",
        "        1    0.000    0.000    0.243    0.243 dynamics.py:190(update_apical_geom)\n",
        "       35    0.010    0.000    0.180    0.005 dynamics.py:205(_one_cell_geom)\n",
        "      154    0.003    0.000    0.075    0.000 dynamics.py:254(outward_uvect)\n",
        "        1    0.000    0.000    0.176    0.176 energies.py:138(update_gradient)\n",
        "        1    0.006    0.006    0.153    0.153 energies.py:142(update_junctions_grad)\n",
        "        1    0.000    0.000    0.018    0.018 energies.py:178(update_cells_grad)\n",
        "      463    0.002    0.000    0.013    0.000 energies.py:33(grad_sigma)\n",
        "      463    0.002    0.000    0.013    0.000 energies.py:36(grad_zed)\n",
        "      155    0.001    0.000    0.004    0.000 energies.py:39(elastic_grad)\n",
        "      155    0.001    0.000    0.004    0.000 energies.py:42(contractile_grad)\n",
        "        1    0.000    0.000    0.000    0.000 energies.py:48(volume_grad)\n",
        "      245    0.001    0.000    0.006    0.000 filters.py:139(is_junction_edge)\n",
        "       15    0.000    0.000    0.000    0.000 filters.py:165(is_alive)\n",
        "       92    0.000    0.000    0.003    0.000 filters.py:177(is_cell_vert)\n",
        "        1    0.000    0.000    0.005    0.005 filters.py:211(set_vertex_state)\n",
        "        1    0.000    0.000    0.023    0.023 filters.py:50(new_function)\n",
        "       94    0.000    0.000    0.000    0.000 numeric.py:167(asarray)\n",
        "      730    0.003    0.000    0.021    0.000 objects.py:108(rhos)\n",
        "        1    0.000    0.000    0.000    0.000 objects.py:111(thetas)\n",
        "      204    0.001    0.000    0.006    0.000 objects.py:114(zeds)\n",
        "      239    0.001    0.000    0.007    0.000 objects.py:117(sigmas)\n",
        "        1    0.000    0.000    0.000    0.000 objects.py:145(dthetas)\n",
        "      311    0.001    0.000    0.008    0.000 objects.py:148(dzeds)\n",
        "        3    0.000    0.000    0.000    0.000 objects.py:151(drhos)\n",
        "      311    0.001    0.000    0.008    0.000 objects.py:154(dsigmas)\n",
        "        1    0.000    0.000    0.000    0.000 objects.py:157(u_drhos)\n",
        "      386    0.001    0.000    0.010    0.000 objects.py:160(u_dsigmas)\n",
        "      386    0.001    0.000    0.010    0.000 objects.py:163(u_dzeds)\n",
        "      155    0.001    0.000    0.004    0.000 objects.py:166(edge_lengths)\n",
        "        1    0.007    0.007    0.048    0.048 objects.py:246(update_deltas)\n",
        "        1    0.000    0.000    0.009    0.009 objects.py:273(update_edge_lengths)\n",
        "       36    0.001    0.000    0.003    0.000 objects.py:405(__iter__)\n",
        "        2    0.000    0.000    0.000    0.000 objects.py:432(vols)\n",
        "       37    0.000    0.000    0.001    0.000 objects.py:435(areas)\n",
        "       36    0.000    0.000    0.001    0.000 objects.py:438(perimeters)\n",
        "        1    0.000    0.000    0.000    0.000 objects.py:477(contractilities)\n",
        "        1    0.000    0.000    0.000    0.000 objects.py:480(elasticities)\n",
        "        1    0.000    0.000    0.000    0.000 objects.py:483(vol_elasticities)\n",
        "        2    0.000    0.000    0.000    0.000 objects.py:486(prefered_area)\n",
        "        1    0.000    0.000    0.000    0.000 objects.py:489(prefered_height)\n",
        "       78    0.002    0.000    0.013    0.000 objects.py:561(__iter__)\n",
        "       77    0.000    0.000    0.002    0.000 objects.py:583(line_tensions)\n",
        "       14    0.000    0.000    0.000    0.000 {getattr}\n",
        "        5    0.000    0.000    0.000    0.000 {isinstance}\n",
        "       36    0.000    0.000    0.000    0.000 {len}\n",
        "     1149    0.001    0.000    0.001    0.000 {method 'append' of 'list' objects}\n",
        "        1    0.000    0.000    0.000    0.000 {method 'clip' of 'numpy.ndarray' objects}\n",
        "        1    0.000    0.000    0.000    0.000 {method 'disable' of '_lsprof.Profiler' objects}\n",
        "     1144    0.001    0.000    0.001    0.000 {method 'get' of 'dict' objects}\n",
        "        5    0.000    0.000    0.000    0.000 {method 'index' of 'list' objects}\n",
        "     4475    0.007    0.000    0.007    0.000 {method 'items' of 'dict' objects}\n",
        "        1    0.000    0.000    0.000    0.000 {method 'max' of 'numpy.ndarray' objects}\n",
        "      105    0.001    0.000    0.001    0.000 {method 'mean' of 'numpy.ndarray' objects}\n",
        "     1144    0.001    0.000    0.001    0.000 {method 'pop' of 'list' objects}\n",
        "       56    0.000    0.000    0.001    0.000 {method 'view' of 'numpy.ndarray' objects}\n",
        "      164    0.002    0.000    0.002    0.000 {numpy.core.multiarray.array}\n",
        "\n",
        "\n"
       ]
      }
     ],
     "prompt_number": 4
    },
    {
     "cell_type": "code",
     "collapsed": false,
     "input": [],
     "language": "python",
     "metadata": {},
     "outputs": []
    }
   ],
   "metadata": {}
  }
 ]
}