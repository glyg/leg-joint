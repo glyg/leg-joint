{
 "metadata": {
  "name": ""
 },
 "nbformat": 3,
 "nbformat_minor": 0,
 "worksheets": [
  {
   "cells": [
    {
     "cell_type": "code",
     "collapsed": false,
     "input": [
      "%load_ext autoreload\n",
      "%autoreload 2"
     ],
     "language": "python",
     "metadata": {},
     "outputs": [],
     "prompt_number": 1
    },
    {
     "cell_type": "code",
     "collapsed": false,
     "input": [
      "%run nb_init # This imports leg_joint as lj\n",
      "from joint import *\n"
     ],
     "language": "python",
     "metadata": {},
     "outputs": [],
     "prompt_number": 2
    },
    {
     "cell_type": "code",
     "collapsed": false,
     "input": [
      "eptm = lj.Epithelium(graphXMLfile='../saved_graphs/xml/before_apoptosis.xml',\n",
      "                     paramfile='../default/params.xml')\n",
      "\n",
      "eptm.isotropic_relax()"
     ],
     "language": "python",
     "metadata": {},
     "outputs": [],
     "prompt_number": 10
    },
    {
     "cell_type": "code",
     "collapsed": false,
     "input": [
      "apopto_cells = get_apoptotic_cells(eptm, seed=0, z0=0., width_apopto=1.5, p0=0.85, amp=0.7)\n",
      "apopto_cell = apopto_cells[15]"
     ],
     "language": "python",
     "metadata": {},
     "outputs": [
      {
       "output_type": "stream",
       "stream": "stdout",
       "text": [
        "Number of apoptotic cells: 29\n"
       ]
      }
     ],
     "prompt_number": 11
    },
    {
     "cell_type": "code",
     "collapsed": false,
     "input": [
      "def plot_local_apopto(eptm,  basename, i, close=True):\n",
      "\n",
      "    ax_zs, ax_xy = lj.plot_2pannels(eptm, c_text=False)\n",
      "    fig = ax_zs.get_figure()\n",
      "    ax_zs.set_xlim(-12, 12)\n",
      "    ax_zs.set_ylim(32, 60)\n",
      "\n",
      "    ax_xy.set_xlim(-15, 15)\n",
      "    ax_xy.set_ylim(10, 30)\n",
      "    plt.draw()\n",
      "    fig.savefig('%s_%0i.svg' % (basename, i))\n",
      "    if close: plt.close(fig)\n",
      "\n"
     ],
     "language": "python",
     "metadata": {},
     "outputs": [],
     "prompt_number": 12
    },
    {
     "cell_type": "code",
     "collapsed": false,
     "input": [
      "basename = 'local_apoptosis_t'\n",
      "eptm.set_local_mask(None)\n",
      "eptm.set_local_mask(apopto_cell, wider=True)\n",
      "\n",
      "plot_local_apopto(eptm, basename, i=0, close=True)  \n",
      "\n",
      "for i in range(1, 16):\n",
      "    lj.apoptosis(eptm, apopto_cell,\n",
      "                 vol_reduction=0.6,\n",
      "                 contractility=1.,\n",
      "                 radial_tension=0.2, \n",
      "                 save=False)\n",
      "    plot_local_apopto(eptm, basename, i=i, close=True)  \n",
      "\n",
      "neighbrs = eptm.cells.get_neighbor_cells(apopto_cell)\n",
      "lj.remove_cell(eptm, apopto_cell)\n",
      "for neighbr in neighbrs:\n",
      "    eptm.set_local_mask(neighbr, wider=False)\n",
      "plot_local_apopto(eptm, basename, i=i+1, close=True)  \n",
      "\n",
      "lj.find_energy_min(eptm)\n",
      "\n",
      "plot_local_apopto(eptm, basename, i=i+2, close=False)  \n"
     ],
     "language": "python",
     "metadata": {},
     "outputs": [
      {
       "output_type": "stream",
       "stream": "stdout",
       "text": [
        "new vertex 5123\n"
       ]
      },
      {
       "metadata": {},
       "output_type": "display_data",
       "png": "[encoded data removed]",
       "text": [
        "<matplotlib.figure.Figure at 0x986fcc0c>"
       ]
      }
     ],
     "prompt_number": 13
    },
    {
     "cell_type": "code",
     "collapsed": false,
     "input": [
      "def do_update():\n",
      "    eptm.update_geometry()\n",
      "    eptm.update_gradient()\n",
      "import cProfile\n",
      "cProfile.run('do_update()')\n"
     ],
     "language": "python",
     "metadata": {},
     "outputs": [
      {
       "output_type": "stream",
       "stream": "stdout",
       "text": [
        "         3633566 function calls in 18.111 seconds\n",
        "\n",
        "   Ordered by: standard name\n",
        "\n",
        "   ncalls  tottime  percall  cumtime  percall filename:lineno(function)\n",
        "        1    0.000    0.000   18.111   18.111 <ipython-input-8-e1f38767d06b>:1(do_update)\n",
        "        1    0.000    0.000   18.111   18.111 <string>:1(<module>)\n",
        "      174    0.003    0.000    0.007    0.000 __init__.py:1048(__init__)\n",
        "        3    0.000    0.000    0.000    0.000 __init__.py:1207(vertices)\n",
        "        5    0.000    0.000    0.000    0.000 __init__.py:1262(edges)\n",
        "      175    0.001    0.000    0.001    0.000 __init__.py:132(_prop)\n",
        "      174    0.000    0.000    0.000    0.000 __init__.py:1513(_get_vertex_index)\n",
        "       65    0.000    0.000    0.000    0.000 __init__.py:1547(_get_max_edge_index)\n",
        "        3    0.000    0.000    0.000    0.000 __init__.py:1591(new_edge_property)\n",
        "        4    0.000    0.000    0.000    0.000 __init__.py:169(_type_alias)\n",
        "      174    0.000    0.000    0.000    0.000 __init__.py:1760(set_directed)\n",
        "       14    0.000    0.000    0.000    0.000 __init__.py:1795(get_vertex_filter)\n",
        "      180    0.000    0.000    0.000    0.000 __init__.py:1809(get_edge_filter)\n",
        "      109    0.001    0.000    0.001    0.000 __init__.py:1885(num_vertices)\n",
        "        1    0.000    0.000    0.000    0.000 __init__.py:190(_python_type)\n",
        "      174    0.002    0.000    0.010    0.000 __init__.py:1985(__init__)\n",
        "      348    0.000    0.000    0.000    0.000 __init__.py:2038(__get_base)\n",
        "        4    0.000    0.000    0.000    0.000 __init__.py:2043(value_types)\n",
        "    11898    0.462    0.000    0.462    0.000 __init__.py:2060(_out_neighbours)\n",
        "    75987    0.586    0.000    0.586    0.000 __init__.py:2107(_edge_iter)\n",
        "        1    0.000    0.000    0.000    0.000 __init__.py:228(_convert)\n",
        "      253    0.000    0.000    0.000    0.000 __init__.py:259(_get_pmap)\n",
        "      120    0.000    0.000    0.000    0.000 __init__.py:262(_set_pmap)\n",
        "       43    0.001    0.000    0.005    0.000 __init__.py:268(__new__)\n",
        "      199    0.000    0.000    0.000    0.000 __init__.py:281(_get_base)\n",
        "      199    0.001    0.000    0.001    0.000 __init__.py:287(_get_base_data)\n",
        "      147    0.001    0.000    0.009    0.000 __init__.py:290(_check_data)\n",
        "       77    0.000    0.000    0.006    0.000 __init__.py:303(__array_finalize__)\n",
        "       18    0.000    0.000    0.004    0.000 __init__.py:316(__array_prepare__)\n",
        "       18    0.000    0.000    0.000    0.000 __init__.py:320(__array_wrap__)\n",
        "       18    0.000    0.000    0.006    0.000 __init__.py:330(checked_method)\n",
        "      351    0.002    0.000    0.004    0.000 __init__.py:383(__init__)\n",
        "        6    0.000    0.000    0.000    0.000 __init__.py:386(<lambda>)\n",
        "  1021458    1.280    0.000    1.830    0.000 __init__.py:397(__key_trans)\n",
        "      351    0.001    0.000    0.002    0.000 __init__.py:404(__register_map)\n",
        "      351    0.001    0.000    0.001    0.000 __init__.py:409(__unregister_map)\n",
        "      351    0.000    0.000    0.002    0.000 __init__.py:414(__del__)\n",
        "   711418    5.635    0.000    6.916    0.000 __init__.py:417(__getitem__)\n",
        "   310040    1.932    0.000    2.481    0.000 __init__.py:420(__setitem__)\n",
        "      188    0.000    0.000    0.000    0.000 __init__.py:451(get_graph)\n",
        "  1021633    0.551    0.000    0.551    0.000 __init__.py:458(key_type)\n",
        "        4    0.000    0.000    0.000    0.000 __init__.py:462(value_type)\n",
        "       43    0.000    0.000    0.009    0.000 __init__.py:470(get_array)\n",
        "      174    0.001    0.000    0.012    0.000 __init__.py:494(_get_data)\n",
        "       12    0.000    0.000    0.007    0.001 __init__.py:512(__set_array)\n",
        "       14    0.000    0.000    0.005    0.000 __init__.py:529(__get_set_f_array)\n",
        "        6    0.000    0.000    0.003    0.001 __init__.py:567(<lambda>)\n",
        "        1    0.040    0.040    0.040    0.040 __init__.py:72(find_edge)\n",
        "     1728    0.004    0.000    0.006    0.000 _methods.py:32(_count_reduce_items)\n",
        "     1728    0.024    0.000    0.054    0.000 _methods.py:42(_mean)\n",
        "        1    0.000    0.000    8.922    8.922 dynamics.py:128(update_gradient)\n",
        "        1    0.004    0.004    0.919    0.919 dynamics.py:139(_update_cells_grad)\n",
        "     1728    0.230    0.000    0.866    0.001 dynamics.py:150(_calc_vol_grad_cell)\n",
        "        1    1.563    1.563    8.003    8.003 dynamics.py:166(_update_junctions_grad)\n",
        "     5053    1.376    0.000    5.338    0.001 dynamics.py:199(_update_edge_grad)\n",
        "        1    0.019    0.019    9.188    9.188 epithelium.py:176(update_geometry)\n",
        "     1728    0.174    0.000    0.744    0.000 epithelium.py:195(_one_cell_geom)\n",
        "        1    0.004    0.004    0.921    0.921 epithelium.py:241(update_cells_pos)\n",
        "     1728    0.026    0.000    0.869    0.001 epithelium.py:245(_set_cell_pos)\n",
        "     1728    0.050    0.000    0.666    0.000 epithelium.py:246(<listcomp>)\n",
        "    10106    0.124    0.000    0.243    0.000 linalg.py:1868(norm)\n",
        "    40295    0.532    0.000    1.374    0.000 numeric.py:1215(cross)\n",
        "    90757    0.160    0.000    0.309    0.000 numeric.py:253(asarray)\n",
        "     1728    0.003    0.000    0.007    0.000 numeric.py:323(asanyarray)\n",
        "        1    0.000    0.000    0.004    0.004 objects.py:281(update_rhotheta)\n",
        "        3    1.308    0.436    2.839    0.946 objects.py:296(edge_difference)\n",
        "        1    0.000    0.000    2.842    2.842 objects.py:305(update_deltas)\n",
        "        1    0.001    0.001    0.005    0.005 objects.py:348(update_edge_lengths)\n",
        "    10106    0.416    0.000    4.009    0.000 objects.py:457(update_geometry)\n",
        "     5053    0.023    0.000    4.035    0.001 objects.py:500(update_geometry)\n",
        "     5187    0.059    0.000    0.137    0.000 objects.py:544(__iter__)\n",
        "    10108    0.214    0.000    0.919    0.000 objects.py:759(__iter__)\n",
        "        1    0.001    0.001    0.001    0.001 utils.py:35(to_rhotheta)\n",
        "   154720    1.101    0.000    1.101    0.000 {built-in method array}\n",
        "        1    0.000    0.000   18.111   18.111 {built-in method exec}\n",
        "       18    0.000    0.000    0.000    0.000 {built-in method getattr}\n",
        "     1050    0.001    0.000    0.001    0.000 {built-in method id}\n",
        "     3981    0.003    0.000    0.003    0.000 {built-in method isinstance}\n",
        "     3456    0.002    0.000    0.002    0.000 {built-in method len}\n",
        "       65    0.000    0.000    0.000    0.000 {built-in method max}\n",
        "    10106    0.009    0.000    0.009    0.000 {method 'conj' of 'numpy.ndarray' objects}\n",
        "        1    0.000    0.000    0.000    0.000 {method 'disable' of '_lsprof.Profiler' objects}\n",
        "     1728    0.003    0.000    0.057    0.000 {method 'mean' of 'numpy.ndarray' objects}\n",
        "    10106    0.013    0.000    0.013    0.000 {method 'ravel' of 'numpy.ndarray' objects}\n",
        "    11834    0.080    0.000    0.080    0.000 {method 'reduce' of 'numpy.ufunc' objects}\n",
        "    80590    0.074    0.000    0.074    0.000 {method 'swapaxes' of 'numpy.ndarray' objects}\n",
        "    10106    0.005    0.000    0.005    0.000 {method 'values' of 'dict' objects}\n",
        "       43    0.000    0.000    0.000    0.000 {method 'view' of 'numpy.ndarray' objects}\n",
        "\n",
        "\n"
       ]
      }
     ],
     "prompt_number": 8
    },
    {
     "cell_type": "code",
     "collapsed": false,
     "input": [],
     "language": "python",
     "metadata": {},
     "outputs": []
    }
   ],
   "metadata": {}
  }
 ]
}