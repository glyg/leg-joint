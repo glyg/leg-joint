{
 "metadata": {
  "name": "Analysis"
 },
 "nbformat": 3,
 "nbformat_minor": 0,
 "worksheets": [
  {
   "cells": [
    {
     "cell_type": "code",
     "collapsed": false,
     "input": [
      "%load_ext autoreload\n",
      "%autoreload 2\n"
     ],
     "language": "python",
     "metadata": {},
     "outputs": [],
     "prompt_number": 1
    },
    {
     "cell_type": "code",
     "collapsed": false,
     "input": [
      "%run nb_init.py"
     ],
     "language": "python",
     "metadata": {},
     "outputs": [
      {
       "output_type": "stream",
       "stream": "stdout",
       "text": [
        "visvis not found\n"
       ]
      }
     ],
     "prompt_number": 3
    },
    {
     "cell_type": "code",
     "collapsed": false,
     "input": [
      "eptm = lj.Epithelium('../saved_graphs/xml/after_apoptosis_polarized2.5.xml',\n",
      "                     paramfile='../default/params.xml')"
     ],
     "language": "python",
     "metadata": {},
     "outputs": [],
     "prompt_number": 4
    },
    {
     "cell_type": "code",
     "collapsed": false,
     "input": [
      "eptm_before = lj.Epithelium(graphXMLfile=\"../saved_graphs/xml/before_apoptosis.xml\",\n",
      "                            paramfile='../default/params.xml')"
     ],
     "language": "python",
     "metadata": {},
     "outputs": [],
     "prompt_number": 63
    },
    {
     "cell_type": "code",
     "collapsed": false,
     "input": [
      "anisotropies, alignments = eptm.cells.get_anisotropies()\n",
      "#anisotropies_before, alignments_before = eptm_before.cells.get_anisotropies()"
     ],
     "language": "python",
     "metadata": {},
     "outputs": [
      {
       "output_type": "stream",
       "stream": "stderr",
       "text": [
        "/usr/local/lib/python2.7/dist-packages/numpy/core/_methods.py:61: RuntimeWarning: invalid value encountered in double_scalars\n",
        "  ret = ret / float(rcount)\n"
       ]
      }
     ],
     "prompt_number": 5
    },
    {
     "cell_type": "code",
     "collapsed": false,
     "input": [
      "eptm.graph.set_vertex_filter(eptm.is_cell_vert)\n",
      "fig, axes = plt.subplots(2, 1, sharex=True)\n",
      "axes[0].plot(eptm.zeds.fa, anisotropies.fa, 'ro', alpha=0.5)\n",
      "axes[1].plot(eptm.zeds.fa, alignments.fa, 'ro', alpha=0.5)\n",
      "eptm.graph.set_vertex_filter(None)\n",
      "\n",
      "\n",
      "\n"
     ],
     "language": "python",
     "metadata": {},
     "outputs": [],
     "prompt_number": 6
    },
    {
     "cell_type": "code",
     "collapsed": false,
     "input": [
      "fig, axes = plt.subplots(2, 1, sharex=True)\n",
      "\n",
      "eptm_before.graph.set_vertex_filter(eptm_before.is_cell_vert)\n",
      "axes[0].plot(eptm_before.zeds.fa, anisotropies_before.fa, 'bo', alpha=0.5)\n",
      "axes[1].plot(eptm_before.zeds.fa, alignments_before.fa, 'bo', alpha=0.5)\n",
      "eptm_before.graph.set_vertex_filter(None)\n"
     ],
     "language": "python",
     "metadata": {},
     "outputs": [],
     "prompt_number": 66
    },
    {
     "cell_type": "code",
     "collapsed": false,
     "input": [
      "thetas = np.linspace(0, 2 * np.pi, 1000)\n",
      "print np.abs(np.cos(thetas)).mean()"
     ],
     "language": "python",
     "metadata": {},
     "outputs": [
      {
       "output_type": "stream",
       "stream": "stdout",
       "text": [
        "0.636983414657\n"
       ]
      }
     ],
     "prompt_number": 70
    },
    {
     "cell_type": "code",
     "collapsed": false,
     "input": [
      "eptm_before.graph.set_vertex_filter(eptm_before.is_cell_vert)\n",
      "print(anisotropies_before.fa.mean())\n",
      "print(alignments_before.fa.mean())\n",
      "eptm_before.graph.set_vertex_filter(None)\n"
     ],
     "language": "python",
     "metadata": {},
     "outputs": [
      {
       "output_type": "stream",
       "stream": "stdout",
       "text": [
        "2.61395914876\n",
        "0.364363485998\n"
       ]
      }
     ],
     "prompt_number": 72
    },
    {
     "cell_type": "code",
     "collapsed": false,
     "input": [
      "lj.local_slice(eptm_before, zed_amp=1., theta_amp=np.pi/2, theta_c=0)"
     ],
     "language": "python",
     "metadata": {},
     "outputs": [],
     "prompt_number": 95
    },
    {
     "cell_type": "code",
     "collapsed": false,
     "input": [
      "eptm_before.sigmas.a = eptm_before.thetas.a * eptm_before.rhos.a.mean()\n",
      "ax = lj.draw_polygons(eptm_before, eptm_before.zeds, eptm_before.sigmas, \n",
      "                      colors=anisotropies_before,\n",
      "                      efilt=eptm_before.is_local_edge,\n",
      "                      vfilt=eptm_before.is_local_vert)"
     ],
     "language": "python",
     "metadata": {},
     "outputs": [],
     "prompt_number": 96
    },
    {
     "cell_type": "code",
     "collapsed": false,
     "input": [
      "lj.local_slice(eptm, zed_amp=15., theta_amp=np.pi/2, theta_c=0)\n",
      "#eptm.update_rhotheta()\n",
      "ax = lj.draw_polygons(eptm, eptm.zeds, eptm.sigmas, \n",
      "                      colors=anisotropies,\n",
      "                      efilt=eptm.is_local_edge,\n",
      "                      vfilt=eptm.is_local_vert)"
     ],
     "language": "python",
     "metadata": {},
     "outputs": [],
     "prompt_number": 111
    },
    {
     "cell_type": "code",
     "collapsed": false,
     "input": [
      "\n",
      "anisotropies.a = anisotropies.a.clip(0, 4)"
     ],
     "language": "python",
     "metadata": {},
     "outputs": [],
     "prompt_number": 108
    },
    {
     "cell_type": "code",
     "collapsed": false,
     "input": [
      "eptm.graph.set_vertex_filter(None)"
     ],
     "language": "python",
     "metadata": {},
     "outputs": [],
     "prompt_number": 105
    },
    {
     "cell_type": "code",
     "collapsed": false,
     "input": [],
     "language": "python",
     "metadata": {},
     "outputs": []
    }
   ],
   "metadata": {}
  }
 ]
}