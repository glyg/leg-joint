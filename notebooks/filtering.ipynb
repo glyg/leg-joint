{
 "metadata": {
  "name": "filtering"
 }, 
 "nbformat": 2, 
 "worksheets": [
  {
   "cells": [
    {
     "cell_type": "code", 
     "collapsed": true, 
     "input": [
      "from dynamics import Epithelium", 
      "eptm = Epithelium(paramfile='default/few_big_cells.xml')", 
      "eptm.graph.save(\"saved_graphs/few_big_cells.xml\")"
     ], 
     "language": "python", 
     "outputs": []
    }, 
    {
     "cell_type": "code", 
     "collapsed": true, 
     "input": [
      "eptm.graph.set_vertex_filter(eptm.is_cell_vert, inverted=False)", 
      "plot(eptm.sigmas.fa, eptm.zeds.fa, 'o')", 
      "eptm.graph.set_vertex_filter(None)"
     ], 
     "language": "python", 
     "outputs": []
    }, 
    {
     "cell_type": "code", 
     "collapsed": true, 
     "input": [
      "eptm.set_edge_state([(eptm.is_junction_edge, False)])", 
      "eptm.set_edge_state()"
     ], 
     "language": "python", 
     "outputs": []
    }
   ]
  }
 ]
}