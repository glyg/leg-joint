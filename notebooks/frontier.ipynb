{
 "metadata": {
  "name": "frontier"
 },
 "nbformat": 3,
 "nbformat_minor": 0,
 "worksheets": [
  {
   "cells": [
    {
     "cell_type": "code",
     "collapsed": false,
     "input": [
      "import graph_tool.all as gt\n",
      "import matplotlib.pyplot as plt\n",
      "from dynamics import Epithelium\n",
      "eptm = Epithelium(paramfile='default/few_big_cells.xml')\n",
      "eptm.graph = gt.load_graph('generation.xml')"
     ],
     "language": "python",
     "metadata": {},
     "outputs": [
      {
       "output_type": "stream",
       "stream": "stdout",
       "text": [
        "2 triangles were dropped\n",
        "2 junction edges were dropped"
       ]
      },
      {
       "output_type": "stream",
       "stream": "stdout",
       "text": [
        "\n",
        "Scaling all the distances by a factor 0.759"
       ]
      }
     ],
     "prompt_number": 1
    },
    {
     "cell_type": "code",
     "collapsed": true,
     "input": [
      "%run graph_representation.py"
     ],
     "language": "python",
     "metadata": {},
     "outputs": [],
     "prompt_number": 2
    },
    {
     "cell_type": "code",
     "collapsed": false,
     "input": [
      "eptm.graph.set_edge_filter(None)\n",
      "edge_zeds = eptm.graph.new_edge_property('float')\n",
      "edge_sigmas = eptm.graph.new_edge_property('float')\n",
      "raw_dsigmas = eptm.graph.new_edge_property('float')\n",
      "for edge in eptm.graph.edges():\n",
      "    src, trgt = edge.source(), edge.target()\n",
      "    edge_zeds[edge] = np.min((eptm.zeds[src], \n",
      "                              eptm.zeds[trgt])) \n",
      "    edge_sigmas[edge] = np.min((eptm.sigmas[src], \n",
      "                                eptm.sigmas[trgt]))\n",
      "    raw_dsigmas[edge] = eptm.sigmas[src]- eptm.sigmas[trgt]"
     ],
     "language": "python",
     "metadata": {},
     "outputs": [],
     "prompt_number": 3
    },
    {
     "cell_type": "code",
     "collapsed": false,
     "input": [
      "figure()\n",
      "plot(edge_zeds.a, raw_dsigmas.a, 'o', alpha = 0.2)\n",
      "efilt = eptm.is_junction_edge.copy()\n",
      "efilt.a *= eptm.at_boundary.a\n",
      "eptm.graph.set_edge_filter(efilt)\n",
      "plot(edge_zeds.fa, raw_dsigmas.fa, 'k+', alpha = 0.8)\n",
      "\n",
      "eptm.graph.set_edge_filter(None)"
     ],
     "language": "python",
     "metadata": {},
     "outputs": [],
     "prompt_number": 4
    },
    {
     "cell_type": "code",
     "collapsed": false,
     "input": [
      "dsigmadz_hist, zedbins, sigmabins = histogram2d(edge_zeds.a,\n",
      "                                                raw_dsigmas.a,\n",
      "                                                bins=128)\n",
      "\n",
      "first_period = dsigmadz_hist[,32:96]\n",
      "second_period = dsigmadz_hist[:,:32] + dsigmadz_hist[:,96:] \n",
      "n1 = first_period.sum()\n",
      "n2 = second_period.sum()\n",
      "print n1, n2\n",
      "figure()\n",
      "plot(first_period.sum(axis=0)) # / n1)\n",
      "plot(second_period.sum(axis=0)) #/ n2) \n",
      "\n",
      "#dsigmadz_hist[:64,:] *= n1 / n2"
     ],
     "language": "python",
     "metadata": {},
     "outputs": [],
     "prompt_number": 177
    },
    {
     "cell_type": "code",
     "collapsed": false,
     "input": [
      "eptm.is_cell_vert"
     ],
     "language": "python",
     "metadata": {},
     "outputs": [],
     "prompt_number": 2
    },
    {
     "cell_type": "code",
     "collapsed": false,
     "input": [
      "fig, axes = plt.subplots(1,2, sharey=True)\n",
      "hist_axis = axes[0]\n",
      "hist_axis.imshow(dsigmadz_hist.T, extent=[zedbins[0], zedbins[-1],\n",
      "                                          sigmabins[0], sigmabins[-1]],\n",
      "                 origin='lower',\n",
      "                 zorder=0)\n",
      "hist_axis.plot(edge_zeds.a, raw_dsigmas.a, 'k+', alpha = 0.1)\n",
      "efilt = eptm.is_junction_edge.copy()\n",
      "efilt.a *= eptm.at_boundary.a\n",
      "eptm.graph.set_edge_filter(efilt)\n",
      "hist_axis.plot(edge_zeds.fa, raw_dsigmas.fa, 'r+', alpha = 0.8)\n",
      "hist_axis.set_ylabel(r'Raw edge displacement along coordiante $\\sigma$ $\\Delta\\sigma$')\n",
      "hist_axis.set_xlabel(r'Postion of the edge origin along the $z$ axis')\n",
      "eptm.graph.set_edge_filter(None)\n",
      "proj_axis = axes[1]\n",
      "zed_proj_hist = dsigmadz_hist.sum(axis=0)\n",
      "proj_axis.plot(zed_proj_hist, sigmabins[:-1],  'k-', lw=3, alpha=0.8)\n",
      "proj_axis.set_xlabel(r'Bin count')"
     ],
     "language": "python",
     "metadata": {},
     "outputs": [],
     "prompt_number": 164
    },
    {
     "cell_type": "code",
     "collapsed": true,
     "input": [],
     "language": "python",
     "metadata": {},
     "outputs": [],
     "prompt_number": 134
    },
    {
     "cell_type": "code",
     "collapsed": false,
     "input": [
      "print dsigmadz_hist[0].shape\n",
      "print dsigmadz_hist[2].shape"
     ],
     "language": "python",
     "metadata": {},
     "outputs": [],
     "prompt_number": 110
    },
    {
     "cell_type": "code",
     "collapsed": false,
     "input": [
      "fig, axes = plt.subplots(2,1, figsize=)\n",
      "plot((dsigmadz_hist[2][:-1]\n",
      "      +dsigmadz_hist[2][1:]) / 2, dsigmadz_hist[0].sum(axis=0), 'o')\n",
      "eptm.graph.set_edge_filter(eptm.at_boundary)\n",
      "dsigmadz_hist = histogram2d(edge_zeds.fa,\n",
      "                            raw_dsigmas.fa,\n",
      "                            bins=10)\n",
      "plot((dsigmadz_hist[2][:-1]\n",
      "      +dsigmadz_hist[2][1:]) / 2, dsigmadz_hist[0].sum(axis=0), 'o')\n"
     ],
     "language": "python",
     "metadata": {},
     "outputs": [],
     "prompt_number": 115
    },
    {
     "cell_type": "code",
     "collapsed": false,
     "input": [
      "fig, ax = plt.subplots(1,1)\n",
      "plot_cells_sz(eptm, ax, text=False)"
     ],
     "language": "python",
     "metadata": {},
     "outputs": [],
     "prompt_number": 38
    },
    {
     "cell_type": "code",
     "collapsed": false,
     "input": [
      "eptm.graph.set_vertex_filter(eptm.is_cell_vert, \n",
      "                             inverted=True)\n",
      "mid_z = (eptm.zeds.fa.min() +  eptm.zeds.fa.max())/2.\n",
      "index = np.abs(eptm.zeds.fa - mid_z).argmin()\n",
      "closer_z = eptm.zeds.fa[index]\n",
      "on_frontier = eptm.graph.new_edge_property(\"bool\")\n",
      "on_frontier.fa = 0\n",
      "eptm.graph.set_edge_filter(eptm.is_junction_edge)\n",
      "on_frontier_vert = eptm.graph.new_vertex_property(\"bool\")\n",
      "on_frontier_vert.fa = 0\n",
      "for edge in eptm.junctions:\n",
      "    z_src = eptm.zeds[edge.source()]\n",
      "    z_trgt = eptm.zeds[edge.target()]\n",
      "    s_src = eptm.sigmas[edge.source()]\n",
      "    s_trgt = eptm.sigmas[edge.target()]\n",
      "    if abs(z_src - closer_z) < 1e-2:\n",
      "        on_frontier[edge] = 1 if np.abs(s_src-s_trgt) > 1e-6 else 0\n",
      "    elif abs(z_trgt - closer_z) < 1e-2:\n",
      "        on_frontier[edge] = 1 if np.abs(s_src-s_trgt) > 1e-6 else 0\n",
      "        \n",
      "print on_frontier.fa.sum()\n",
      "eptm.graph.set_vertex_filter(None)\n",
      "eptm.graph.set_edge_filter(None)"
     ],
     "language": "python",
     "metadata": {},
     "outputs": [],
     "prompt_number": 20
    },
    {
     "cell_type": "code",
     "collapsed": true,
     "input": [
      "for edge in eptm.graph.edges():\n",
      "    if on_frontier[edge]:\n",
      "        for cell in eptm.adjacent_cells(edge):\n",
      "            on_frontier_vert[cell] = 1\n",
      "        on_frontier_vert[edge.source()] = 1\n",
      "        on_frontier_vert[edge.target()] = 1"
     ],
     "language": "python",
     "metadata": {},
     "outputs": [],
     "prompt_number": 21
    },
    {
     "cell_type": "code",
     "collapsed": true,
     "input": [
      "plot(edge_zed_pos.a, dsigmas_raw, 'o') "
     ],
     "language": "python",
     "metadata": {},
     "outputs": []
    },
    {
     "cell_type": "code",
     "collapsed": true,
     "input": [
      "ax = plot_cells_sz(eptm, ax=None, vfilt=on_frontier_vert, \n",
      "                   efilt=on_frontier)"
     ],
     "language": "python",
     "metadata": {},
     "outputs": [],
     "prompt_number": 22
    },
    {
     "cell_type": "code",
     "collapsed": true,
     "input": [
      "eptm.graph.set_edge_filter(on_frontier)\n",
      "eptm.junctions.line_tensions.fa *= 4.\n",
      "eptm.graph.set_edge_filter(None)"
     ],
     "language": "python",
     "metadata": {},
     "outputs": [],
     "prompt_number": 23
    },
    {
     "cell_type": "code",
     "collapsed": true,
     "input": [
      "eptm.graph.set_vertex_filter(on_frontier_vert)\n",
      "for v in eptm.graph.vertices():\n",
      "    if eptm.is_cell_vert[v]:\n",
      "        eptm.set_local_mask(v)"
     ],
     "language": "python",
     "metadata": {},
     "outputs": [],
     "prompt_number": 24
    },
    {
     "cell_type": "code",
     "collapsed": false,
     "input": [
      "ax = plot_cells_sz(eptm, ax=None,\n",
      "                   vfilt=eptm.is_local_vert,\n",
      "                   efilt=eptm.is_local_edge)\n",
      "eptm.update_gradient()\n",
      "plot_gradients(eptm, ax)"
     ],
     "language": "python",
     "metadata": {},
     "outputs": [],
     "prompt_number": 32
    },
    {
     "cell_type": "code",
     "collapsed": false,
     "input": [
      "pos0, pos1 = eptm.find_energy_min(tol=1e-8)\n",
      "plot_cells_sz(eptm, ax, vfilt=eptm.is_local_vert, \n",
      "              efilt=eptm.is_local_edge)"
     ],
     "language": "python",
     "metadata": {},
     "outputs": [],
     "prompt_number": 27
    },
    {
     "cell_type": "code",
     "collapsed": true,
     "input": [
      "#eptm.update_gradient()\n",
      "fig, ax = plt.subplots(1,1)\n",
      "eptm_ax = plot_cells_sz(eptm, ax, efilt=None)\n",
      "from matplotlib.patches import Ellipse\n",
      "eptm.graph.set_vertex_filter(eptm.is_cell_vert, inverted=True)\n",
      "\n",
      "max_rad = eptm.radial_grad.fa.max()\n",
      "for s,z,rad in zip(eptm.sigmas.fa, eptm.zeds.fa, eptm.radial_grad.fa):\n",
      "    size = rad / max_rad \n",
      "    rect = Ellipse([s - size / 2, z - size / 2], \n",
      "                   size, size,\n",
      "                   facecolor='b', edgecolor='None', alpha = 0.8)\n",
      "    ax.add_patch(rect)\n",
      "ax.autoscale_view()"
     ],
     "language": "python",
     "metadata": {},
     "outputs": [],
     "prompt_number": 26
    },
    {
     "cell_type": "code",
     "collapsed": false,
     "input": [
      "eptm.graph.set_vertex_filter(eptm.is_cell_vert, inverted=True)\n",
      "plot(eptm.zeds.fa, eptm.radial_grad.fa, 'o')"
     ],
     "language": "python",
     "metadata": {},
     "outputs": [],
     "prompt_number": 30
    },
    {
     "cell_type": "code",
     "collapsed": false,
     "input": [
      "epithelium_draw(eptm)"
     ],
     "language": "python",
     "metadata": {},
     "outputs": [],
     "prompt_number": 31
    },
    {
     "cell_type": "code",
     "collapsed": true,
     "input": [
      "from scipy.interpolate import splrep, splev"
     ],
     "language": "python",
     "metadata": {},
     "outputs": [],
     "prompt_number": 33
    },
    {
     "cell_type": "code",
     "collapsed": false,
     "input": [
      "grad_tck = splrep(eptm.zeds.fa, eptm.radial_grad.fa, k=3)"
     ],
     "language": "python",
     "metadata": {},
     "outputs": [],
     "prompt_number": 34
    },
    {
     "cell_type": "code",
     "collapsed": true,
     "input": [
      "eptm.graph.set_vertex_filter(eptm.is_cell_vert, inverted=True)\n",
      "z_index = np.argsort(eptm.zeds.fa)\n",
      "zeds = eptm.zeds.fa.take(z_index)\n",
      "r_grd = eptm.radial_grad.fa.take(z_index)"
     ],
     "language": "python",
     "metadata": {},
     "outputs": [],
     "prompt_number": 37
    },
    {
     "cell_type": "code",
     "collapsed": false,
     "input": [
      "plot(zeds, r_grd, '-')"
     ],
     "language": "python",
     "metadata": {},
     "outputs": [],
     "prompt_number": 38
    },
    {
     "cell_type": "code",
     "collapsed": true,
     "input": [
      "grad_tck = splrep( zeds, r_grd, k=3, s=1)"
     ],
     "language": "python",
     "metadata": {},
     "outputs": [],
     "prompt_number": 51
    },
    {
     "cell_type": "code",
     "collapsed": false,
     "input": [
      "zeds_smth= linspace(-20,20,50)\n",
      "figure(3)\n",
      "plot(zeds_smth, splev(zeds_smth, grad_tck))"
     ],
     "language": "python",
     "metadata": {},
     "outputs": [],
     "prompt_number": 53
    },
    {
     "cell_type": "code",
     "collapsed": true,
     "input": [
      "from scipy.interpolate import UnivariateSpline"
     ],
     "language": "python",
     "metadata": {},
     "outputs": [],
     "prompt_number": 48
    }
   ],
   "metadata": {}
  }
 ]
}