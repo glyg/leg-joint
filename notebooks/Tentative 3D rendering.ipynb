{
 "metadata": {
  "name": "Tentative 3D rendering"
 },
 "nbformat": 3,
 "nbformat_minor": 0,
 "worksheets": [
  {
   "cells": [
    {
     "cell_type": "code",
     "collapsed": false,
     "input": [
      "import visvis as vv\n",
      "\n",
      "%run nb_init.py"
     ],
     "language": "python",
     "metadata": {},
     "outputs": [
      {
       "output_type": "stream",
       "stream": "stderr",
       "text": [
        "/usr/local/lib/python2.7/dist-packages/mpl_toolkits/__init__.py:2: UserWarning: Module dateutil was already imported from /usr/local/lib/python2.7/dist-packages/dateutil/__init__.pyc, but /usr/lib/python2.7/dist-packages is being added to sys.path\n",
        "  __import__('pkg_resources').declare_namespace(__name__)\n"
       ]
      }
     ],
     "prompt_number": 1
    },
    {
     "cell_type": "code",
     "collapsed": false,
     "input": [
      "\n",
      "eptm = lj.Epithelium(graphXMLfile='../saved_graphs/xml/latest.xml',\n",
      "                     paramfile='../default/params.xml',\n",
      "                     verbose=False)\n",
      "\n",
      "#lj.optimizers.isotropic_optimum(eptm, 1e-6)"
     ],
     "language": "python",
     "metadata": {},
     "outputs": [],
     "prompt_number": 2
    },
    {
     "cell_type": "code",
     "collapsed": false,
     "input": [
      "#small_cells = [cell for cell in eptm.cells if eptm.cells.areas[cell] < 1e-6]"
     ],
     "language": "python",
     "metadata": {},
     "outputs": [],
     "prompt_number": 14
    },
    {
     "cell_type": "code",
     "collapsed": false,
     "input": [
      "#eptm.graph.save('../saved_graphs/xml/initial_graph.xml')"
     ],
     "language": "python",
     "metadata": {},
     "outputs": [],
     "prompt_number": 4
    },
    {
     "cell_type": "code",
     "collapsed": false,
     "input": [
      "eptm.set_local_mask(None)\n",
      "eptm.set_local_mask(eptm.graph.vertex(200))"
     ],
     "language": "python",
     "metadata": {},
     "outputs": [],
     "prompt_number": 3
    },
    {
     "cell_type": "code",
     "collapsed": false,
     "input": [
      "eptm.graph.set_vertex_filter(eptm.is_local_vert)\n",
      "eptm.graph.set_edge_filter(eptm.is_local_edge)\n"
     ],
     "language": "python",
     "metadata": {},
     "outputs": [],
     "prompt_number": 4
    },
    {
     "cell_type": "code",
     "collapsed": false,
     "input": [
      "\n",
      "edgeline = lj.vv_edges(eptm)"
     ],
     "language": "python",
     "metadata": {},
     "outputs": [
      {
       "ename": "AttributeError",
       "evalue": "App instance has no attribute 'run'",
       "output_type": "pyerr",
       "traceback": [
        "\u001b[1;31m---------------------------------------------------------------------------\u001b[0m\n\u001b[1;31mAttributeError\u001b[0m                            Traceback (most recent call last)",
        "\u001b[1;32m<ipython-input-5-7351146a463a>\u001b[0m in \u001b[0;36m<module>\u001b[1;34m()\u001b[0m\n\u001b[0;32m      1\u001b[0m \u001b[1;33m\u001b[0m\u001b[0m\n\u001b[1;32m----> 2\u001b[1;33m \u001b[0medgeline\u001b[0m \u001b[1;33m=\u001b[0m \u001b[0mlj\u001b[0m\u001b[1;33m.\u001b[0m\u001b[0mvv_edges\u001b[0m\u001b[1;33m(\u001b[0m\u001b[0meptm\u001b[0m\u001b[1;33m)\u001b[0m\u001b[1;33m\u001b[0m\u001b[0m\n\u001b[0m",
        "\u001b[1;32m/home/guillaume/Python/leg_joint/leg_joint/graph_representation.py\u001b[0m in \u001b[0;36mvv_edges\u001b[1;34m(eptm)\u001b[0m\n\u001b[0;32m     41\u001b[0m             \u001b[0medgeline\u001b[0m \u001b[1;33m=\u001b[0m \u001b[0mvv\u001b[0m\u001b[1;33m.\u001b[0m\u001b[0mMesh\u001b[0m\u001b[1;33m(\u001b[0m\u001b[0medgeline\u001b[0m\u001b[1;33m,\u001b[0m \u001b[0mvv\u001b[0m\u001b[1;33m.\u001b[0m\u001b[0msolidLine\u001b[0m\u001b[1;33m(\u001b[0m\u001b[0mps\u001b[0m\u001b[1;33m,\u001b[0m \u001b[0mradius\u001b[0m\u001b[1;33m=\u001b[0m\u001b[1;36m0.05\u001b[0m\u001b[1;33m,\u001b[0m \u001b[0mN\u001b[0m\u001b[1;33m=\u001b[0m\u001b[1;36m4\u001b[0m\u001b[1;33m)\u001b[0m\u001b[1;33m)\u001b[0m\u001b[1;33m\u001b[0m\u001b[0m\n\u001b[0;32m     42\u001b[0m             \u001b[0medgeline\u001b[0m\u001b[1;33m.\u001b[0m\u001b[0mfaceColor\u001b[0m \u001b[1;33m=\u001b[0m \u001b[1;34m'g'\u001b[0m\u001b[1;33m\u001b[0m\u001b[0m\n\u001b[1;32m---> 43\u001b[1;33m     \u001b[0mapp\u001b[0m\u001b[1;33m.\u001b[0m\u001b[0mrun\u001b[0m\u001b[1;33m(\u001b[0m\u001b[1;33m)\u001b[0m\u001b[1;33m\u001b[0m\u001b[0m\n\u001b[0m\u001b[0;32m     44\u001b[0m     \u001b[1;32mreturn\u001b[0m \u001b[0medgeline\u001b[0m\u001b[1;33m\u001b[0m\u001b[0m\n\u001b[0;32m     45\u001b[0m \u001b[1;33m\u001b[0m\u001b[0m\n",
        "\u001b[1;31mAttributeError\u001b[0m: App instance has no attribute 'run'"
       ]
      }
     ],
     "prompt_number": 5
    },
    {
     "cell_type": "code",
     "collapsed": false,
     "input": [
      "vv.meshWrite('test.obj', edgeline, 'edgeline')"
     ],
     "language": "python",
     "metadata": {},
     "outputs": [],
     "prompt_number": 20
    },
    {
     "cell_type": "code",
     "collapsed": false,
     "input": [
      "lj.plot_ortho_proj(eptm, efilt=eptm.is_local_edge, vfilt=eptm.is_local_vert)"
     ],
     "language": "python",
     "metadata": {},
     "outputs": [
      {
       "output_type": "pyout",
       "prompt_number": 13,
       "text": [
        "(<matplotlib.axes.AxesSubplot at 0xc6bad0c>,\n",
        " <matplotlib.axes.Axes at 0xc755f8c>,\n",
        " <matplotlib.axes.Axes at 0xc80418c>)"
       ]
      }
     ],
     "prompt_number": 13
    },
    {
     "cell_type": "code",
     "collapsed": false,
     "input": [
      "def remove_cell(eptm, cell):\n",
      "\n",
      "    eptm.graph.set_vertex_filter(None)\n",
      "    eptm.graph.set_edge_filter(None)\n",
      "    edge_trash = []\n",
      "    vertex_trash = []\n",
      "    new_ctojs = []\n",
      "    new_jes =[]\n",
      "    ctojs = [ctoj for ctoj in cell.out_edges()]\n",
      "    cell_jes = eptm.cells.junctions[cell]\n",
      "    jvs = [jv for jv in cell.out_neighbours()]\n",
      "    edge_trash.extend(ctojs)\n",
      "    edge_trash.extend(cell_jes)\n",
      "    new_jv = eptm.new_vertex(jvs[0])\n",
      "    eptm.is_local_vert[jv] = 1\n",
      "    eptm.ixs[new_jv] = eptm.ixs[cell]\n",
      "    eptm.wys[new_jv] = eptm.wys[cell]\n",
      "    eptm.zeds[new_jv] = eptm.zeds[cell]\n",
      "    adjacent_cells = []\n",
      "    for je in cell_jes:\n",
      "        cell0, cell1 = eptm.junctions.adjacent_cells[je]\n",
      "        adj_cell = cell0 if cell1 == cell else cell1\n",
      "        adjacent_cells.append(adj_cell)\n",
      "        adj_ctojs = [ctoj for ctoj in adj_cell.out_edges()\n",
      "                     if ctoj.target() in jvs]\n",
      "        edge_trash.extend(adj_ctojs)\n",
      "        new_ctojs.append((adj_cell, new_jv))\n",
      "    for jv in jvs:\n",
      "        for je in jv.all_edges():\n",
      "            if eptm.is_ctoj_edge[je]: continue\n",
      "            if je in cell_jes: continue\n",
      "            jv0, jv1 = je\n",
      "            opposite = jv0 if jv1 == jv else jv1\n",
      "            edge_trash.append(je)\n",
      "            new_jes.append((opposite, new_jv))\n",
      "        vertex_trash.append(jv)\n",
      "        \n",
      "    for cell, jv in new_ctojs:\n",
      "        ctoj = eptm.new_ctoj_edge(cell, jv)\n",
      "        eptm.is_ctoj_edge[ctoj] = 1\n",
      "        eptm.is_local_edge[ctoj] = 1\n",
      "    for jv0, jv1 in new_jes:\n",
      "        je = eptm.new_j_edge(jv0, jv1)\n",
      "        eptm.is_junction_edge[je] = 1\n",
      "        eptm.is_local_edge[je] = 1\n",
      "    for e in edge_trash:\n",
      "        try:\n",
      "            eptm.graph.remove_edge(e)\n",
      "        except ValueError:\n",
      "            print('edge already destroyed')\n",
      "    for v in vertex_trash:\n",
      "        eptm.is_alive[v] = 0\n",
      "        eptm.is_cell_vert[v] = 0\n",
      "    eptm.is_alive[cell] = 0\n",
      "    eptm.is_cell_vert[cell] = 0\n",
      "    eptm.reset_topology()\n"
     ],
     "language": "python",
     "metadata": {},
     "outputs": [],
     "prompt_number": 5
    }
   ],
   "metadata": {}
  }
 ]
}