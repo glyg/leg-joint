{
 "metadata": {
  "name": "Tentative 3D rendering"
 },
 "nbformat": 3,
 "nbformat_minor": 0,
 "worksheets": [
  {
   "cells": [
    {
     "cell_type": "code",
     "collapsed": false,
     "input": [
      "import visvis as vv\n",
      "%run nb_init.py"
     ],
     "language": "python",
     "metadata": {},
     "outputs": [],
     "prompt_number": 1
    },
    {
     "cell_type": "code",
     "collapsed": false,
     "input": [
      "\n",
      "eptm = lj.Epithelium(graphXMLfile='../saved_graphs/xml/latest.xml',\n",
      "                     paramfile='../default/params.xml',\n",
      "                     verbose=False)\n",
      "\n",
      "#lj.optimizers.isotropic_optimum(eptm, 1e-6)"
     ],
     "language": "python",
     "metadata": {},
     "outputs": [],
     "prompt_number": 18
    },
    {
     "cell_type": "code",
     "collapsed": false,
     "input": [
      "#eptm.graph.save('../saved_graphs/xml/initial_graph.xml')"
     ],
     "language": "python",
     "metadata": {},
     "outputs": [],
     "prompt_number": 4
    },
    {
     "cell_type": "code",
     "collapsed": false,
     "input": [
      "vv.figure()\n",
      "a = vv.gca()\n"
     ],
     "language": "python",
     "metadata": {},
     "outputs": [],
     "prompt_number": 23
    },
    {
     "cell_type": "code",
     "collapsed": false,
     "input": [
      "#for cell in eptm.cells:\n",
      "#    sphere = vv.solidSphere((eptm.ixs[cell], \n",
      "#                             eptm.wys[cell],\n",
      "#                             eptm.zeds[cell]),\n",
      "#                             scaling=(0.2, 0.2, 0.2), N=4, M=4)\n",
      "#    sphere.faceColor = 'b'\n",
      "for je in eptm.junctions:\n",
      "    ps = vv.Pointset(3)\n",
      "    src = vv.Point(eptm.ixs[je.source()],\n",
      "                   eptm.wys[je.source()],\n",
      "                   eptm.zeds[je.source()])\n",
      "    trgt = vv.Point(eptm.ixs[je.target()],\n",
      "                    eptm.wys[je.target()],\n",
      "                    eptm.zeds[je.target()])\n",
      "    ps.append(src)\n",
      "    ps.append(trgt)\n",
      "    edgeline = vv.solidLine(ps, radius=0.05, N=4)\n",
      "    edgeline.faceColor = 'g'"
     ],
     "language": "python",
     "metadata": {},
     "outputs": [],
     "prompt_number": 24
    },
    {
     "cell_type": "code",
     "collapsed": false,
     "input": [
      "vv.solidSphere?"
     ],
     "language": "python",
     "metadata": {},
     "outputs": [],
     "prompt_number": 22
    },
    {
     "cell_type": "code",
     "collapsed": false,
     "input": [],
     "language": "python",
     "metadata": {},
     "outputs": []
    }
   ],
   "metadata": {}
  }
 ]
}