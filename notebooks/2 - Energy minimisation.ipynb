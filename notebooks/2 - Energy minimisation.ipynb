{
 "metadata": {
  "name": ""
 },
 "nbformat": 3,
 "nbformat_minor": 0,
 "worksheets": [
  {
   "cells": [
    {
     "cell_type": "code",
     "collapsed": false,
     "input": [
      "%load_ext autoreload\n",
      "%autoreload 2\n"
     ],
     "language": "python",
     "metadata": {},
     "outputs": [],
     "prompt_number": 1
    },
    {
     "cell_type": "markdown",
     "metadata": {},
     "source": [
      "\n",
      "# Energetical aspects of the model\n",
      "\n",
      "\n",
      "## Total energy of the epithelium\n",
      "\n",
      "According to the [Farhadifar et\n",
      "al. paper](http://dx.doi.org/10.1016/j.cub.2007.11.049), in the case\n",
      "of a regular hexagonal latice, energy is given by:\n",
      "\n",
      "$$\n",
      "E = N\\frac{K}{2} (A - A_0)^2 + N\\frac{\\Gamma}{2} L^2 +\n",
      "6N\\frac{\\Lambda}{2}\\ell\n",
      "$$\n",
      "\n",
      "In our model, the area dependant term is replaced by a volume\n",
      "term :\n",
      "$$ E = N\\frac{K_v}{2} (V - V_0)^2 + N\\frac{\\Gamma}{2}\n",
      "L^2 + 3N\\Lambda\\ell $$\n",
      "\n",
      "Here the $V = A(\\rho - R_L) = Ah $ where $R_L$ is the lumen radius and $\\rho$ the radius of the apical sheet of the epithelium.\n",
      "As they did, we define the adimentional contractility $\\bar\\Gamma = \\Gamma/K_vA_0h_0^2$ and line tension\n",
      "$\\bar\\Lambda = \\Lambda /K_v (A_0^{3/2}h_0^2)$, where $h_0$ is such that $V_0 = A_0h_0$.\n",
      "\n",
      "\n",
      "As the epithelium is distributed over a cylinder, the radius of the cylinder determines the number of cells forming a ring around it, $ N_\\perp $, so we have: $ \\ell = \\frac{2\\pi}{N_\\perp}\\rho $ if the cells are aligned along the $z$ axis.\n",
      "The perimeter $L$ of a cell is equal to $6\\ell$ and the area $A$\n",
      "equals $(3\\sqrt{3}/2)\\ell^2$. We define the constant $\\mu = 6\\left(2/3\\sqrt{3}\\right)^{1/2}$,\n",
      "then $\\ell = \\frac{\\mu}{6}A^{1/2}$ and $L^2 = \\mu^2 A$. \n",
      "\n",
      "The normalized energy $\\bar E = E/NK_v(A_0h_0)^2$ then reads:\n",
      "$$\n",
      "\\bar E = \\frac{1}{2} \\left(\\frac{V - V_0}{V_0}\\right)^2\n",
      "+ \\frac{\\bar\\Gamma}{2A_0}\\mu^2 A\n",
      "+ \\frac{\\bar\\Lambda}{A_0^{1/2}} \\frac{\\mu}{2} A^{1/2} \n",
      "$$\n",
      "\n",
      "We define the dilatation factor $\\delta$ such that $\\delta = \\rho/\\rho_0 = h/h_0$, $A/A_0 = \\delta^2$ and $V/V_0 = \\delta^3$.\n",
      "The previous equation becomes:\n",
      "\n",
      "$$\n",
      "\\bar E = \\frac{1}{2} \\left(\\delta^3 - 1\\right)^2\n",
      "+ \\frac{\\mu^2\\bar\\Gamma}{2}\\delta^2\n",
      "+ \\frac{\\mu\\bar\\Lambda}{2}\\delta  \n",
      "$$\n",
      "\n",
      "The same calculus in the 2D case gives:\n",
      "$$\n",
      "\\bar E_{2D} = \\frac{1}{2} (\\delta^2 - 1)^2\n",
      "+ \\frac{\\mu^2\\bar\\Gamma}{2}\\delta^2\n",
      "+ \\frac{\\mu\\bar\\Lambda}{2}\\delta  \n",
      "$$\n",
      "\n",
      "We can implement those functions rightaway:"
     ]
    },
    {
     "cell_type": "code",
     "collapsed": false,
     "input": [
      "mu = 6 * np.sqrt(2. / (3 * np.sqrt(3)))\n",
      "\n",
      "def elasticity(delta):\n",
      "    return (delta**3 - 1 )**2 / 2.\n",
      "\n",
      "def contractility(delta, gamma):\n",
      "    return gamma * mu**2 * delta**2 / 2.\n",
      "\n",
      "def tension(delta, lbda):\n",
      "    return lbda * mu * delta / 2.\n",
      "\n",
      "def isotropic_energy(delta, gamma, lbda):\n",
      "    \n",
      "    energy = (elasticity(delta)\n",
      "              + contractility(delta, gamma)\n",
      "              + tension(delta, lbda))\n",
      "    return energy\n",
      "\n",
      "def isotropic_energy_2D(delta, gamma, lbda):\n",
      "    elasticity = (delta**2 - 1)**2 / 2.\n",
      "    contractility = gamma * mu**2 * delta**2 / 2.\n",
      "    tension = lbda * mu * delta / 2.\n",
      "    return elasticity + contractility + tension\n"
     ],
     "language": "python",
     "metadata": {},
     "outputs": [],
     "prompt_number": 2
    },
    {
     "cell_type": "code",
     "collapsed": false,
     "input": [
      "delta = np.linspace(0, 1.2, 200)\n",
      "#aspects = np.logspace(-6, 0, 40, base=2)\n",
      "fig, ax = plt.subplots(figsize=(6, 4))\n",
      "ax.plot(delta, isotropic_energy_2D(delta, 0.04, 0.12), 'b-', lw=2, alpha=0.8, label='2D case')\n",
      "ax.plot(delta, isotropic_energy(delta, 0.04, 0.12), 'k-', lw=2, alpha=0.8, label='3D case')\n",
      "\n",
      "#for aspect in aspects:\n",
      "#    ax.plot(delta, isotropic_energy(delta, aspect, 0.04, 0.12), 'b-',\n",
      "#            label=(r'$R_L/R_0 = %.3e$' % aspect), alpha= aspect * 0.6)\n",
      "ylbl = ax.set_ylabel(r'Normalized energy $\\bar E$')\n",
      "xlblb = ax.set_xlabel('')\n",
      "xlblb = ax.set_xlabel(r'Scaling factor $\\delta$')\n",
      "\n",
      "ax.legend(loc='upper left')\n",
      "\n",
      "fig.savefig('../doc/imgs/isotropic_energy_vs_scaling.svg')"
     ],
     "language": "python",
     "metadata": {},
     "outputs": [
      {
       "metadata": {},
       "output_type": "display_data",
       "png": "[encoded data removed]",
       "text": [
        "<matplotlib.figure.Figure at 0xb0ae064c>"
       ]
      }
     ],
     "prompt_number": 4
    },
    {
     "cell_type": "markdown",
     "metadata": {},
     "source": [
      "## Epithelium ground state and phase diagramm\n",
      "\n",
      "### Gradient expression\n",
      "\n",
      "The ground state of the regular epithelium is attained when enregy is minimal with respect to $\\delta$:\n",
      "\n",
      "$$\n",
      "\\frac{\\partial \\bar E}{\\partial \\delta} = 0\n",
      "$$\n",
      "\n",
      "That is (dropping the top bar notation):\n",
      "\n",
      "$$\n",
      "3 \\delta^2(\\delta^3 - 1)\n",
      "+ \\mu^2\\Gamma\\delta\n",
      "+ \\frac{\\mu\\Lambda}{2} = 0\n",
      "$$\n",
      "\n",
      "\n",
      "In 2D:\n",
      "\n",
      "$$\n",
      "2 \\delta(\\delta^2 - 1)\n",
      "+ \\mu^2\\Gamma\\delta\n",
      "+ \\frac{\\mu\\Lambda}{2} = 0\n",
      "$$\n",
      "\n",
      "\n",
      "Once again let's code this:"
     ]
    },
    {
     "cell_type": "code",
     "collapsed": false,
     "input": [
      "def isotropic_grad_poly(lbda, gamma):\n",
      "    grad_poly = [3, 0, 0,\n",
      "                 -3,\n",
      "                 mu**2 * gamma,\n",
      "                 mu * lbda / 2.]\n",
      "    return grad_poly\n",
      "\n",
      "def isotropic_grad(delta, lbda, gamma):\n",
      "    grad_poly = isotropic_grad_poly(lbda, gamma)\n",
      "    return np.polyval(grad_poly, delta)\n",
      "\n",
      "\n",
      "def isotropic_grad_poly_2D(lbda, gamma):\n",
      "    grad_poly = [2, 0,\n",
      "                 mu**2 * gamma - 2,\n",
      "                 mu * lbda / 2.]\n",
      "    return grad_poly\n",
      "\n",
      "def isotropic_grad_2D(delta, lbda, gamma):\n",
      "    grad_poly = isotropic_grad_poly_2D(lbda, gamma)\n",
      "    return np.polyval(grad_poly, delta)\n",
      "\n",
      "\n",
      "## The (archetypal) case I simulations in the article are for\n",
      "## the following values:\n",
      "gamma_case1 = 0.04\n",
      "lbda_case1 = 0.12\n",
      "# We can plot the above function for a range of values for aspect\n",
      "\n",
      "deltas = np.linspace(0, 1.1, 200)\n",
      "    \n",
      "fig, ax = plt.subplots(1, 1, figsize=(6.,4.))\n",
      "grad = isotropic_grad(deltas, lbda_case1, gamma_case1)\n",
      "line = ax.plot(deltas, grad, 'k-', alpha=0.8, lw=2, label='3D case')\n",
      "\n",
      "grad2D = isotropic_grad_2D(deltas, lbda_case1, gamma_case1)\n",
      "line = ax.plot(deltas, grad2D, 'b-', alpha=0.8, lw=2, label='2D case')\n",
      "\n",
      "\n",
      "zero_x = ax.plot(deltas, np.zeros_like(deltas), 'k-') \n",
      "ylbl = ax.set_ylabel(r'Isotropic gradient amplitude'\n",
      "                      '$\\partial E / \\partial \\delta$')\n",
      "xlblb = ax.set_xlabel(r'Scaling factor $\\delta$')\n",
      "ax.legend(loc='upper left')\n",
      "plt.draw()\n",
      "fig.savefig('../doc/imgs/isotropic_gradient_vs_scaling.svg')"
     ],
     "language": "python",
     "metadata": {},
     "outputs": [
      {
       "metadata": {},
       "output_type": "display_data",
       "png": "[encoded data removed]",
       "text": [
        "<matplotlib.figure.Figure at 0xb09e398c>"
       ]
      }
     ],
     "prompt_number": 5
    },
    {
     "cell_type": "markdown",
     "metadata": {},
     "source": [
      "### Phase diagram\n",
      "\n",
      "In order for the apical junction to find a stable configuration, the energy must have a minimum as a function of\n",
      "$\\delta$. We can look at several cases and deduce the necessary conditions on $\\bar\\Gamma$ and $\\bar\\Lambda$ for this to apply.\n",
      "\n",
      "\n",
      "#### Soft network\n",
      "\n",
      "The tissue will behave as a soft network if the energy minimum for equilibrium volumes equal the initial volume ($\\delta = 1$), and contractility and elasticity can compensate each over. There exist a minimum energy in this case if:\n",
      "$$ \\mu^2 \\Gamma \\delta + \\mu\\Lambda / 2 < 0 $$\n",
      "The boundary between soft and cristal-like network is given by the line $\\Gamma = - 2 \\Lambda / 2\\mu$ in the $(\\Gamma, \\Lambda)$ plane.\n",
      "\n",
      "\n",
      "\n",
      "\n",
      "#### Case $\\Lambda \\geq 0$, $\\Gamma \\geq 0$\n",
      "\n",
      "To fix the correct conditions we have to look in the $(\\Gamma, \\Lambda)$ plane for real values of the gradient roots.\n",
      "\n",
      "We can seek the maximum possible values of $\\Gamma$ for a given $\\Lambda$. We have:\n",
      "$$\n",
      "\\Gamma = - \\frac{\\Lambda}{2\\mu\\delta} + \\frac{3}{\\mu^2}\\delta(1 - \\delta^3)\n",
      "$$\n",
      "\n",
      "$\\Gamma$ is maximal with respect to $\\delta$ if\n",
      "$$\n",
      "\\begin{align*}\n",
      "\\frac{\\partial \\Gamma}{\\partial \\delta} = \\frac{\\Lambda}{2\\mu\\delta^2} + 3\\frac{1 - 4\\delta^3}{\\mu^2} = 0\\\\\n",
      "\\Leftrightarrow -12\\delta^5 + 3\\delta^2 + \\Lambda\\mu / 2 = 0\n",
      "\\end{align*}\n",
      "$$\n",
      "\n",
      "The phase space boundary for valid values of $\\Gamma$ and $\\Lambda$ is given by the values of $\\Gamma$ for the roots of the above polynomial as a function of $\\Lambda$.\n",
      "\n",
      "If $\\Lambda = 0$, this gives $\\delta_m(\\Lambda = 0) = 4^{-1/3}$ and $\\Gamma_m(\\Lambda = 0) \\simeq 0.123$. With a similar reasoning for $\\Lambda$, we have $\\delta_m(\\Gamma = 0) = (2 / 5)^{1/3}$ and $\\Lambda_m(\\Gamma = 0) \\simeq 0.525$\n",
      "\n",
      "We can solve numerically for the other values of $\\Lambda$\n"
     ]
    },
    {
     "cell_type": "code",
     "collapsed": false,
     "input": [
      "\n",
      "### This function does a brute force search for the roots of \n",
      "## the gradient in the lambda, gamma plane\n",
      "def find_grad_roots(lbda, gamma):\n",
      "    p = isotropic_grad_poly(lbda, gamma)\n",
      "    roots = np.roots(p)            \n",
      "    good_roots = np.real([r for r in roots if np.abs(r) == r])\n",
      "    np.sort(good_roots)\n",
      "    if len(good_roots) == 1:\n",
      "        return good_roots\n",
      "    elif len(good_roots) > 1:\n",
      "        return good_roots[0]\n",
      "    else:\n",
      "        return np.nan\n",
      "\n",
      "def find_boundary_roots(lbda):\n",
      "    delta_poly = [-12, 0, 0, 3, 0, lbda * mu / 2]\n",
      "    roots = np.roots(delta_poly)\n",
      "    good_roots = np.real([r for r in roots if (np.abs(r) == r) and (0 < r < 1)])\n",
      "    np.sort(good_roots)\n",
      "    return good_roots[0]\n",
      "\n",
      "def get_boundary_gamma(lbda):\n",
      "    lbda = np.atleast_1d(lbda)\n",
      "    dm = np.array([find_boundary_roots(l) for l in lbda])\n",
      "    gamma = -lbda/(2 * mu * dm) + 3 * dm * (1 - dm**3) / mu**2\n",
      "    return gamma\n",
      "\n"
     ],
     "language": "python",
     "metadata": {},
     "outputs": [],
     "prompt_number": 6
    },
    {
     "cell_type": "code",
     "collapsed": false,
     "input": [
      "### Compute the boundary line\n",
      "\n",
      "lbda_max = 6 * (2 / 5.)**(2/3.) * 0.6 / mu\n",
      "gamma_max = 3 * 4**(-1 / 3.) * 0.75 / mu**2\n",
      "\n",
      "b_lbdas = np.linspace(0, lbda_max, 100)\n",
      "b_gammas = get_boundary_gamma(b_lbdas)\n",
      "print('''Maximum value for Lambda: %.3f \\n'''\n",
      "      '''Maximum value for Gamma: %.3f''' % (lbda_max, gamma_max))"
     ],
     "language": "python",
     "metadata": {},
     "outputs": [
      {
       "output_type": "stream",
       "stream": "stdout",
       "text": [
        "Maximum value for Lambda: 0.525 \n",
        "Maximum value for Gamma: 0.102\n"
       ]
      }
     ],
     "prompt_number": 7
    },
    {
     "cell_type": "code",
     "collapsed": false,
     "input": [
      "### Compute the value of delta over a grid in the (Lambda, Gamma) plane\n",
      "lbdas, gammas = np.meshgrid(np.linspace(0, lbda_max * 1.1, 512), np.linspace(0, gamma_max * 1.5, 512))\n",
      "roots = []\n",
      "for l, g in zip(lbdas.ravel(), gammas.ravel()):\n",
      "    roots.append(find_grad_roots(l, g))\n",
      "roots = np.array(roots).reshape(gammas.shape)\n"
     ],
     "language": "python",
     "metadata": {},
     "outputs": [],
     "prompt_number": 8
    },
    {
     "cell_type": "code",
     "collapsed": false,
     "input": [
      "### 2D case\n",
      "\n",
      "gammas_2D = np.linspace(0, 2/mu**2, 20)\n",
      "lambdas_max_2D = ((4 - 2 * gammas_2D * mu**2) / 3.)**(3./2.) / mu\n"
     ],
     "language": "python",
     "metadata": {},
     "outputs": [],
     "prompt_number": 9
    },
    {
     "cell_type": "code",
     "collapsed": false,
     "input": [
      "### Plot everything\n",
      "\n",
      "fig, ax = plt.subplots()\n",
      "roots[np.isnan(roots)] = 0.5\n",
      "lbdas, gammas = np.meshgrid(np.linspace(0, lbda_max * 1.1, 512), np.linspace(0, gamma_max * 1.5, 512))\n",
      "contour_set = ax.contourf(lbdas, gammas, roots.clip(0.5, 1), 256, cmap='gray')\n",
      "fig.colorbar(contour_set, ticks=[0.5, 0.6, 0.7, 0.8, 0.9, 1.])\n",
      "\n",
      "boundary = ax.plot(b_lbdas, b_gammas, 'g-', lw=3, alpha=0.8, label='3D case')\n",
      "boundary2D = ax.plot(lambdas_max_2D, gammas_2D, 'b-', \n",
      "                     lw=3, alpha=0.8, label='2D case')\n",
      "\n",
      "ax.plot(lbda_case1, gamma_case1, 'ko')\n",
      "\n",
      "ax.set_xlabel(r'Line tension $\\bar\\Lambda$')\n",
      "ax.set_ylabel(r'Contractility $\\bar\\Gamma$')\n",
      "ax.set_title('Values of $\\delta$')\n",
      "\n",
      "ax.legend(loc='upper right')\n",
      "fig.savefig('../doc/imgs/phase_space_boundaries.svg')"
     ],
     "language": "python",
     "metadata": {},
     "outputs": [
      {
       "metadata": {},
       "output_type": "display_data",
       "png": "[encoded data removed]",
       "text": [
        "<matplotlib.figure.Figure at 0xb0ae80ec>"
       ]
      }
     ],
     "prompt_number": 10
    },
    {
     "cell_type": "markdown",
     "metadata": {},
     "source": [
      "We can now get the values of the optimal scaling $\\delta_o$ and of the ground state energy $E_0$\n",
      "with a simple root finding on the `isotropic_grad` function:"
     ]
    },
    {
     "cell_type": "code",
     "collapsed": false,
     "input": [
      "delta_o = find_grad_roots(lbda_case1, gamma_case1)\n",
      "\n",
      "print(\"Optimum scaling factor = %.3f\" % delta_o)\n",
      "ground_energy = isotropic_energy(delta_o, gamma_case1, lbda_case1)\n",
      "print(\"Ground energy = %.3f\" % ground_energy)\n"
     ],
     "language": "python",
     "metadata": {},
     "outputs": [
      {
       "output_type": "stream",
       "stream": "stdout",
       "text": [
        "Optimum scaling factor = 0.887\n",
        "Ground energy = 0.462\n"
       ]
      }
     ],
     "prompt_number": 12
    },
    {
     "cell_type": "markdown",
     "metadata": {},
     "source": [
      "\n",
      "### Computation of the scaling factor\n",
      "\n",
      "Let's note $A_i$ and $\\rho_i$ the initial area and radius, \n",
      "before relaxation, and $A_f, \\rho_f$ the same variables after the isotropic relaxation is applied.\n",
      "We now want to multiply all the distances by a factor $c$ such that $h_fA_f = \\delta_o^3h_0A_0$, with $\\rho_f = c\\rho_i$ \n",
      "and $A_f = c^2A_i$.\n",
      "\n",
      "By noting $\\delta_i = h_i / h_0$, we simply have $c = \\delta_o / \\delta_i$\n"
     ]
    },
    {
     "cell_type": "markdown",
     "metadata": {},
     "source": [
      "We now have the two phase space boundaries given by Faradhifar on figure 1. When we pass to\n",
      "the simulation we'll use all that to ensure that optimisation will converge and that we start the simultations\n",
      "close to the ground state."
     ]
    },
    {
     "cell_type": "markdown",
     "metadata": {},
     "source": [
      "## Gradient computation at junction vertices\n",
      "\n",
      "In order to find the local energy minimum, as shown below, we use a conjugate gradient method\n",
      "(namely the [`fmin_lbfgs`](http://docs.scipy.org/doc/scipy/reference/tutorial/optimize.html#broyden-fletcher-goldfarb-shanno-algorithm-method-bfgs)algorithm from SciPy). So we need to compute said gradient at each junction vertex that concur to the optimization.\n",
      "\n",
      "In order to compute the local minimum of the energy, we calculate its\n",
      "gradient at junction vertex $i$\n",
      "\n",
      "$$\n",
      "\\begin{aligned} \n",
      "   \\mathbf{\\nabla_i} E &= (\\frac{\\partial E}{\\partial x},\n",
      "                     \\frac{\\partial E}{\\partial y},\n",
      "                     \\frac{\\partial E}{\\partial z}) \\\\\n",
      "   \\mathbf{\\nabla_i} E &= \\sum_\\alpha \\left(K (V_\\alpha - V_0) \n",
      "   \\mathbf{\\nabla_i} V_\\alpha  \n",
      "   + \\Gamma L_\\alpha \\mathbf{\\nabla_i} L_\\alpha  \\right)c_{i \\alpha}  \n",
      "   + \\sum_i \\Lambda_{ij} \\mathbf{\\nabla_i} \\ell_{ij}c_{ij}\n",
      "\\end{aligned}\n",
      "$$\n",
      "\n",
      "We have \n",
      "$$\n",
      "\\begin{aligned} \n",
      "   \\mathbf{\\nabla_i}\\ell_{ij} &=  \\frac{\\mathbf{r}_{ij}}{\\ell_{ij}}c_{ij}\\\\\n",
      "   \\mathbf{\\nabla_i}L_\\alpha &= \\sum_{kn} \\mathbf{\\nabla_i} \n",
      "   \\ell_{kn} c_{\\alpha k} c_{\\alpha n}\n",
      "   = \\sum_{j} \\mathbf{\\nabla_i}\\ell_{ij} c_{ij} c_{\\alpha i} c_{\\alpha j}\n",
      "   = \\sum_{j} \\frac{\\mathbf{r_{ij}}}{\\ell_{ij}}c_{ij}c_{\\alpha i} c_{\\alpha j}\\\\\n",
      "   \\mathbf{\\nabla_i}V_{\\alpha} &=  \\sum_{km}\\mathbf{\\nabla_i}V_{\\alpha km}\n",
      "   c_{\\alpha k}c_{\\alpha m}c_{km}\n",
      "   = \\sum_{km} \\mathbf{\\nabla_i}h_\\alpha A_{\\alpha km}\n",
      "   c_{\\alpha k}c_{\\alpha m}c_{km}\n",
      "   = A_\\alpha \\mathbf{\\nabla_i}h_\\alpha + \n",
      "   h_\\alpha \\sum_{km} \\mathbf{\\nabla_i} A_{\\alpha km}c_{\\alpha k}\n",
      "   c_{\\alpha m}c_{km}\\\\\n",
      "   \\mathbf{\\nabla_i}V_{\\alpha} &= \n",
      "   \\frac{h_\\alpha}{2} \\sum_{km}\\mathbf{u}_{\\alpha km} \n",
      "   \\times \\frac{\\mathbf{r}_{km}}{\\nu}c_{\\alpha k}c_{\\alpha m}c_{km}\n",
      "   + \\sum_{j}\\left(A_{\\alpha ij}\\frac{\\mathbf{r_i}}{2\\rho_i} \n",
      "   + \\frac{h_\\alpha}{2}\\mathbf{r}_{\\alpha j} \\times \\mathbf{u}_{\\alpha ij}\\right)\n",
      "     c_{\\alpha j}c_{ij}\\\\\n",
      "\\end{aligned}\n",
      "$$\n",
      "\n"
     ]
    },
    {
     "cell_type": "markdown",
     "metadata": {},
     "source": [
      "# Implementation and scaling\n",
      "\n",
      "## Initial state"
     ]
    },
    {
     "cell_type": "code",
     "collapsed": false,
     "input": [
      "### The script `nb_init` does all the imports\n",
      "%run nb_init.py\n",
      "## Epithelium instantiation\n",
      "eptm = lj.Epithelium(graphXMLfile=\"../saved_graphs/xml/initial_graph.xml\",\n",
      "                     paramfile='../default/params.xml')"
     ],
     "language": "python",
     "metadata": {},
     "outputs": [],
     "prompt_number": 29
    },
    {
     "cell_type": "code",
     "collapsed": false,
     "input": [
      "eptm.isotropic_relax()\n",
      "\n",
      "vfilt = eptm.is_cell_vert.copy()\n",
      "vfilt.a *= eptm.is_alive.a\n",
      "eptm.graph.set_vertex_filter(vfilt)\n",
      "\n",
      "area = eptm.cells.areas.fa.mean()\n",
      "height = eptm.rhos.fa.mean() - eptm.rho_lumen\n",
      "\n",
      "print(np.sqrt(area / eptm.params[\"prefered_area\"]))\n",
      "print(height / eptm.params['prefered_height'])\n",
      "print(eptm.delta_o)\n",
      "eptm.graph.set_vertex_filter(None)"
     ],
     "language": "python",
     "metadata": {},
     "outputs": [
      {
       "output_type": "stream",
       "stream": "stdout",
       "text": [
        "0.886592687387\n",
        "0.886592687387\n",
        "0.886592687387\n"
       ]
      }
     ],
     "prompt_number": 30
    },
    {
     "cell_type": "code",
     "collapsed": false,
     "input": [
      "\n",
      "deltas = np.linspace(0.5, 1.2, 20)\n",
      "fig, ax = plt.subplots()\n",
      "lbda = eptm.paramtree.relative_dic['line_tension']\n",
      "gamma = eptm.paramtree.relative_dic['contractility']\n",
      "ax.plot(deltas, eptm.isotropic_energy(deltas), 'k-', label='Analytical total')\n",
      "ax.plot(eptm.delta_o, eptm.isotropic_energy(eptm.delta_o), 'ro')\n",
      "ax.plot(deltas, elasticity(deltas), 'b-', label='Analytical volume elasticity')\n",
      "ax.plot(deltas, contractility(deltas, gamma), c='orange', ls='-', label='Analytical contractility')\n",
      "ax.plot(deltas, tension(deltas, lbda), 'g-', label='Analytical line tension')\n",
      "\n",
      "ax.set_xlabel(r'Isotropic scaling $\\delta$')\n",
      "ax.set_ylabel(r'Isotropic energie $\\bar E$')\n",
      "\n",
      "\n",
      "energy = eptm.calc_energy()\n",
      "### ????\n",
      "norm = (eptm.params['prefered_area']**2\n",
      "        * eptm.params['prefered_height']**2\n",
      "        * eptm.params['vol_elasticity']\n",
      "        * (eptm.is_cell_vert.a * eptm.is_alive.a).sum())\n",
      "print(eptm.isotropic_energy(eptm.delta_o), energy / norm)\n",
      "\n",
      "cell = eptm.graph.vertex(60)\n",
      "\n",
      "energies = []\n",
      "scales = np.linspace(0.5, 1.2, 20) / eptm.delta_o\n",
      "for scale in scales:\n",
      "    eptm.scale(scale)\n",
      "    eptm.update_geometry()\n",
      "    Ec, Ev = eptm.calc_cells_energy()\n",
      "    El, Er = eptm.calc_junctions_energy()\n",
      "    energies.append([Ev.sum(), El.sum(), Ec.sum()])\n",
      "    eptm.scale(1 / scale)\n",
      "\n",
      "eptm.isotropic_relax()\n",
      "\n",
      "\n",
      "energies = np.array(energies) / norm\n",
      "ax.plot(scales * eptm.delta_o, energies[:, 0], 'bo-', label='Computed volume elasticity')\n",
      "ax.plot(scales * eptm.delta_o, energies[:, 1], 'go-', label='Computed line tension')\n",
      "ax.plot(scales * eptm.delta_o, energies[:, 2], ls='-', marker='o', c='orange', label='Computed contractility')\n",
      "\n",
      "ax.plot(scales * eptm.delta_o, energies.sum(axis=1), 'ko-', label='Computed total')\n",
      "#ax.legend(loc='upper left')\n",
      "print(eptm.delta_o, scales[energies.sum(axis=1).argmin()] * eptm.delta_o)\n"
     ],
     "language": "python",
     "metadata": {},
     "outputs": [
      {
       "output_type": "stream",
       "stream": "stdout",
       "text": [
        "0.461785659711 5.72574931604e-06\n",
        "0.886592687387"
       ]
      },
      {
       "output_type": "stream",
       "stream": "stdout",
       "text": [
        " 0.868421052632\n"
       ]
      },
      {
       "metadata": {},
       "output_type": "display_data",
       "png": "[encoded data removed]",
       "text": [
        "<matplotlib.figure.Figure at 0x9a5c2ecc>"
       ]
      }
     ],
     "prompt_number": 31
    },
    {
     "cell_type": "code",
     "collapsed": false,
     "input": [
      "eptm.graph.save('../saved_graphs/xml/initial_graph.xml')\n"
     ],
     "language": "python",
     "metadata": {},
     "outputs": [],
     "prompt_number": 17
    },
    {
     "cell_type": "markdown",
     "metadata": {},
     "source": [
      "Note that at initialisation time, we alse invoked the `isotropic_relax` method,\n",
      "and we start with an hexagonal lattice, so we should be fairly close to\n",
      "the ground state energy, except from the cells closer to edges along the $z$ axis."
     ]
    },
    {
     "cell_type": "markdown",
     "metadata": {},
     "source": [
      "## Energy minimisation of a cell close to the edge"
     ]
    },
    {
     "cell_type": "markdown",
     "metadata": {},
     "source": [
      "### Local filtering and preconditioning\n",
      "\n",
      "We choose a particular cell."
     ]
    },
    {
     "cell_type": "code",
     "collapsed": false,
     "input": [
      "eptm.set_local_mask(None)\n",
      "eptm.graph.set_vertex_filter(None)\n",
      "eptm.graph.set_edge_filter(None)\n"
     ],
     "language": "python",
     "metadata": {},
     "outputs": [],
     "prompt_number": 27
    },
    {
     "cell_type": "code",
     "collapsed": true,
     "input": [
      "eptm.set_local_mask(None)\n",
      "cell = eptm.graph.vertex(34)\n",
      "eptm.set_local_mask(cell)"
     ],
     "language": "python",
     "metadata": {},
     "outputs": [],
     "prompt_number": 19
    },
    {
     "cell_type": "markdown",
     "metadata": {},
     "source": [
      "## TODO: Fix what's bellow\n",
      "\n",
      "### Sanity checks\n",
      "\n",
      "The `check_phase_space` method of the `Epithelium` class will return `False` if the values \n",
      "for $\\Gamma$ and $\\Lambda$ are not good, together with an error message: "
     ]
    },
    {
     "cell_type": "code",
     "collapsed": false,
     "input": [
      "print(eptm.check_phase_space())\n",
      "\n",
      "# This should be small, though not zeros due to \n",
      "# approximations\n",
      "chk_out = eptm.check_local_grad(pos0)\n",
      "print(chk_out)"
     ],
     "language": "python",
     "metadata": {},
     "outputs": [
      {
       "ename": "AttributeError",
       "evalue": "'Epithelium' object has no attribute 'check_local_grad'",
       "output_type": "pyerr",
       "traceback": [
        "\u001b[1;31m---------------------------------------------------------------------------\u001b[0m\n\u001b[1;31mAttributeError\u001b[0m                            Traceback (most recent call last)",
        "\u001b[1;32m<ipython-input-23-3559d583c18c>\u001b[0m in \u001b[0;36m<module>\u001b[1;34m()\u001b[0m\n\u001b[0;32m      3\u001b[0m \u001b[1;31m# This should be small, though not zeros due to\u001b[0m\u001b[1;33m\u001b[0m\u001b[1;33m\u001b[0m\u001b[0m\n\u001b[0;32m      4\u001b[0m \u001b[1;31m# approximations\u001b[0m\u001b[1;33m\u001b[0m\u001b[1;33m\u001b[0m\u001b[0m\n\u001b[1;32m----> 5\u001b[1;33m \u001b[0mchk_out\u001b[0m \u001b[1;33m=\u001b[0m \u001b[0meptm\u001b[0m\u001b[1;33m.\u001b[0m\u001b[0mcheck_local_grad\u001b[0m\u001b[1;33m(\u001b[0m\u001b[0mpos0\u001b[0m\u001b[1;33m)\u001b[0m\u001b[1;33m\u001b[0m\u001b[0m\n\u001b[0m\u001b[0;32m      6\u001b[0m \u001b[0mprint\u001b[0m\u001b[1;33m(\u001b[0m\u001b[0mchk_out\u001b[0m\u001b[1;33m)\u001b[0m\u001b[1;33m\u001b[0m\u001b[0m\n",
        "\u001b[1;31mAttributeError\u001b[0m: 'Epithelium' object has no attribute 'check_local_grad'"
       ]
      },
      {
       "output_type": "stream",
       "stream": "stdout",
       "text": [
        "(True, 'ok!')\n"
       ]
      }
     ],
     "prompt_number": 23
    },
    {
     "cell_type": "code",
     "collapsed": true,
     "input": [
      "pos0, pos1 = lj.find_energy_min(eptm, method='fmin_bfgs')"
     ],
     "language": "python",
     "metadata": {},
     "outputs": [
      {
       "output_type": "stream",
       "stream": "stdout",
       "text": [
        "Optimization terminated successfully.\n",
        "         Current function value: 0.491647\n",
        "         Iterations: 0\n",
        "         Function evaluations: 1\n",
        "         Gradient evaluations: 1\n"
       ]
      }
     ],
     "prompt_number": 4
    },
    {
     "cell_type": "code",
     "collapsed": false,
     "input": [
      "ax = lj.plot_cells_sz(eptm, ax=None, text=False,\n",
      "                   vfilt=eptm.is_local_vert,\n",
      "                   efilt=eptm.is_local_edge)\n",
      "\n",
      "ax = plot_gradients(eptm, ax, scale=1.)\n",
      "ax = plot_active(eptm, ax)\n",
      "#ax.axis((10, 30, 8, 22))"
     ],
     "language": "python",
     "metadata": {},
     "outputs": [
      {
       "ename": "NameError",
       "evalue": "name 'plot_gradients' is not defined",
       "output_type": "pyerr",
       "traceback": [
        "\u001b[1;31m---------------------------------------------------------------------------\u001b[0m\n\u001b[1;31mNameError\u001b[0m                                 Traceback (most recent call last)",
        "\u001b[1;32m<ipython-input-5-25c5335ab632>\u001b[0m in \u001b[0;36m<module>\u001b[1;34m()\u001b[0m\n\u001b[0;32m      3\u001b[0m                    efilt=eptm.is_local_edge)\n\u001b[0;32m      4\u001b[0m \u001b[1;33m\u001b[0m\u001b[0m\n\u001b[1;32m----> 5\u001b[1;33m \u001b[0max\u001b[0m \u001b[1;33m=\u001b[0m \u001b[0mplot_gradients\u001b[0m\u001b[1;33m(\u001b[0m\u001b[0meptm\u001b[0m\u001b[1;33m,\u001b[0m \u001b[0max\u001b[0m\u001b[1;33m,\u001b[0m \u001b[0mscale\u001b[0m\u001b[1;33m=\u001b[0m\u001b[1;36m1.\u001b[0m\u001b[1;33m)\u001b[0m\u001b[1;33m\u001b[0m\u001b[0m\n\u001b[0m\u001b[0;32m      6\u001b[0m \u001b[0max\u001b[0m \u001b[1;33m=\u001b[0m \u001b[0mplot_active\u001b[0m\u001b[1;33m(\u001b[0m\u001b[0meptm\u001b[0m\u001b[1;33m,\u001b[0m \u001b[0max\u001b[0m\u001b[1;33m)\u001b[0m\u001b[1;33m\u001b[0m\u001b[0m\n\u001b[0;32m      7\u001b[0m \u001b[1;31m#ax.axis((10, 30, 8, 22))\u001b[0m\u001b[1;33m\u001b[0m\u001b[1;33m\u001b[0m\u001b[0m\n",
        "\u001b[1;31mNameError\u001b[0m: name 'plot_gradients' is not defined"
       ]
      },
      {
       "output_type": "stream",
       "stream": "stderr",
       "text": [
        "/usr/local/lib/python2.7/dist-packages/matplotlib/figure.py:1526: UserWarning: This figure includes Axes that are not compatible with tight_layout, so its results might be incorrect.\n",
        "  warnings.warn(\"This figure includes Axes that are not \"\n"
       ]
      },
      {
       "output_type": "display_data",
       "png": "[encoded data removed]",
       "text": [
        "<matplotlib.figure.Figure at 0xb5ecd8c>"
       ]
      }
     ],
     "prompt_number": 5
    },
    {
     "cell_type": "code",
     "collapsed": false,
     "input": [
      "mu = 6 * np.sqrt(2. / (3 * np.sqrt(3)))\n",
      "eptm.graph.set_vertex_filter(eptm.is_cell_vert)\n",
      "print 'prefered area = %.3f' % eptm.cells.prefered_area.fa.mean()\n",
      "print 'average area = %.3f' % eptm.cells.areas.fa.mean()\n",
      "eptm.graph.set_edge_filter(eptm.is_junction_edge)\n",
      "print 'average edge length = %.3f' % eptm.edge_lengths.fa.mean()\n",
      "opt_ell = mu * np.sqrt(eptm.cells.areas.fa.mean()) / 6.\n",
      "print 'optimum length = %.3f' % opt_ell"
     ],
     "language": "python",
     "metadata": {},
     "outputs": [
      {
       "output_type": "stream",
       "stream": "stdout",
       "text": [
        "prefered area = 50.000\n",
        "average area = 24.803\n",
        "average edge length = 3.328\n",
        "optimum length = 3.090\n"
       ]
      }
     ],
     "prompt_number": 12
    },
    {
     "cell_type": "code",
     "collapsed": true,
     "input": [],
     "language": "python",
     "metadata": {},
     "outputs": []
    }
   ],
   "metadata": {}
  }
 ]
}