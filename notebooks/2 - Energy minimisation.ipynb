{
 "metadata": {
  "name": "2 - Energy minimisation"
 },
 "nbformat": 3,
 "nbformat_minor": 0,
 "worksheets": [
  {
   "cells": [
    {
     "cell_type": "code",
     "collapsed": false,
     "input": [
      "%run nb_init.py\n",
      "eptm = lj.Epithelium(graphXMLfile=\"../saved_graphs/few_big_cells.xml\",\n",
      "                     paramfile='../default/few_big_cells.xml')\n",
      "## Fallback to generating a new tissue\n",
      "# eptm = Epithelium(paramfile='../default/few_big_cells.xml')\n",
      "# eptm.graph.save('../saved_graphs/few_big_cells.xml')\n",
      "#print eptm"
     ],
     "language": "python",
     "metadata": {},
     "outputs": [
      {
       "output_type": "stream",
       "stream": "stdout",
       "text": [
        "Initial cells\n",
        "Initial junctions\n",
        "Scaling all the distances by a factor 1.030\n"
       ]
      }
     ],
     "prompt_number": 3
    },
    {
     "cell_type": "code",
     "collapsed": true,
     "input": [
      "%run ../leg_joint/graph_representation.py"
     ],
     "language": "python",
     "metadata": {},
     "outputs": [],
     "prompt_number": 2
    },
    {
     "cell_type": "markdown",
     "metadata": {},
     "source": [
      "\n",
      "\n",
      "# Energetical aspects of the model\n",
      "\n",
      "\n",
      "## Total energy of the epithelium\n",
      "\n",
      "According to the [Farhadifar et al. paper](http://dx.doi.org/10.1016/j.cub.2007.11.049),\n",
      "in the case of a regular hexagonal latice, energy is given by:\n",
      "$$\n",
      "E = N_{\\alpha}\\frac{K}{2} (A - A_0)^2 + N\\frac{\\Gamma}{2} L^2 +  6N\\frac{\\Lambda}{2}\\ell\n",
      "$$\n",
      "\n",
      "As they did, we define the adimentional contractility $\\bar\\Gamma = \\Gamma/KA_0$ and line tension\n",
      "$\\bar\\Lambda = \\Lambda /KA_0^{3/2}$.  \n",
      "The normalized energy $\\bar E = E/NKA_0^2$ then reads:\n",
      "\n",
      "$$\n",
      "\\bar E = \\left(((A/A_0)^2 - 1)^2 + \\frac{\\bar\\Gamma}{2} L^2/A_0 + 6\\frac{\\bar\\Lambda\\ell}{\\sqrt{A_0}}\\right) / 2\n",
      "$$\n",
      "\n",
      "The perimeter $L$ of a cell is equal to $6\\ell$ and the area $A$\n",
      "equals $(3\\sqrt{3}/2)\\ell^2$. We define a dilatation factor $\\delta$ such that $\\delta^2 = A/A_0$. Thus:\n",
      "\n",
      "$$\n",
      "A/A_0 = \\delta^2 = \\frac{3\\sqrt{3}}{2} \\ell^2 A_0\n",
      "$$\n",
      "$$\n",
      "\\Rightarrow  \\ell = \\sqrt{\\frac{2}{3\\sqrt{3}}}\\delta\\sqrt{A_0}$$\n",
      "\n",
      "We define the constant $\\mu = 6\\left(2/3\\sqrt{3}\\right)^{1/2}$, then $\\ell = \\frac{\\mu}{6}\\delta\\sqrt{A_0}$ and $L^2 = \\mu^2 \\delta^2 A_0$  \n",
      "\n",
      "\n",
      "$$\n",
      "\\bar E = ((\\delta^2 -1)^2 + \\bar\\Gamma\\mu^2\\delta^2 + \\bar\\Lambda\\mu\\delta) / 2 =  (\\delta^4 + (\\bar\\Gamma\\mu^2 - 2)\\delta^2 + \\bar\\Lambda\\mu\\delta - 1)/2\n",
      "$$\n",
      "\n",
      "We can implement this function rightaway:"
     ]
    },
    {
     "cell_type": "code",
     "collapsed": false,
     "input": [
      "mu = 6 * np.sqrt(2. / (3 * np.sqrt(3)))\n",
      "print \"mu = \"+str(mu)\n",
      "def isotropic_energy(delta, gamma, lbda):\n",
      "    elasticity = (delta**2 - 1**2)**2 / 2.\n",
      "    contractility = gamma * mu**2 * delta**2 / 2.\n",
      "    tension = lbda * mu * delta / 2.\n",
      "    return elasticity + contractility + tension"
     ],
     "language": "python",
     "metadata": {},
     "outputs": [
      {
       "output_type": "stream",
       "stream": "stdout",
       "text": [
        "mu = 3.72241943641"
       ]
      }
     ],
     "prompt_number": 3
    },
    {
     "cell_type": "markdown",
     "metadata": {},
     "source": [
      "## Epithelium ground state and phase diagramm\n",
      "\n",
      "### Gradient expression\n",
      "\n",
      "The ground state of the regular epithelium is attained when enregy is minimal with respect to $\\delta$:\n",
      "\n",
      "$$\n",
      "\\frac{\\partial \\bar E}{\\partial \\delta} = 0\n",
      "$$\n",
      "\n",
      "That is (dropping the top bar notation):\n",
      "\n",
      "$$\n",
      "4\\delta^3 + (2\\Gamma \\mu^2 - 4)\\delta +\\Lambda\\mu = 0\n",
      "$$\n",
      "\n",
      "Once again let's code this:"
     ]
    },
    {
     "cell_type": "code",
     "collapsed": false,
     "input": [
      "def isotropic_grad(delta, gamma, lbda):\n",
      "    grad = 4 * delta**3 \\\n",
      "        + (2 * gamma * mu**2 - 4) * delta \\\n",
      "        + lbda * mu\n",
      "    return grad\n",
      "\n",
      "## The (archetypal) case I simulations in the article are for\n",
      "## the following values:\n",
      "gamma_case1 = 0.04\n",
      "lbda_case1 = 0.12\n",
      "\n",
      "# We can plot the above function for a range of values for delta\n",
      "deltas = np.linspace(0., 1., 40)\n",
      "grad = isotropic_grad(deltas, gamma_case1, lbda_case1)\n",
      "fig, ax = plt.subplots(1, 1, figsize=(6.,4.))\n",
      "line = ax.plot(deltas, grad, 'b-', lw=2, alpha=0.5)\n",
      "zero_x = ax.plot(deltas, np.zeros_like(deltas), 'k-') \n",
      "ylbl = ax.set_ylabel(r'Isotropic gradient amplitude $\\partial E / \\partial \\delta$')\n",
      "xlblb = ax.set_xlabel(r'Scaling factor $\\delta$')\n",
      "plt.draw()"
     ],
     "language": "python",
     "metadata": {},
     "outputs": [
      {
       "output_type": "display_data",
       "png": "[encoded data removed]"
      }
     ],
     "prompt_number": 5
    },
    {
     "cell_type": "markdown",
     "metadata": {},
     "source": [
      "\n",
      "We can see that the gradient is zero for two values of $\\delta$. Let's plot the energy on the lower graph."
     ]
    },
    {
     "cell_type": "code",
     "collapsed": false,
     "input": [
      "fig, axes = plt.subplots(1, 2, figsize=(12.,4.))\n",
      "\n",
      "line = axes[0].plot(deltas, grad, 'b-', lw=2, alpha=0.5)\n",
      "zero_x = axes[0].plot(deltas, np.zeros_like(deltas), 'k-') \n",
      "ylbl = axes[0].set_ylabel(r'Isotropic gradient amplitude $\\partial E / \\partial \\delta$')\n",
      "xlblb = axes[0].set_xlabel(r'Scaling factor $\\delta$')\n",
      "\n",
      "\n",
      "energy = isotropic_energy(deltas, gamma_case1, lbda_case1)\n",
      "axes[1].plot(deltas, energy, 'g-', lw=2, alpha=0.5)\n",
      "ylbl = axes[1].set_ylabel(r'Normalized energy $\\bar E$')\n",
      "xlblb = axes[0].set_xlabel('')\n",
      "xlblb = axes[1].set_xlabel(r'Scaling factor $\\delta$')\n",
      "plt.draw()"
     ],
     "language": "python",
     "metadata": {},
     "outputs": [
      {
       "output_type": "display_data",
       "png": "[encoded data removed]"
      }
     ],
     "prompt_number": 7
    },
    {
     "cell_type": "markdown",
     "metadata": {},
     "source": [
      "We can now get the values of the optimal scaling $\\delta_o$ and of the ground state energy $E_0$\n",
      "with a simple root finding on the `isotropic_grad` function:"
     ]
    },
    {
     "cell_type": "code",
     "collapsed": false,
     "input": [
      "from scipy import optimize\n",
      "delta0 = 0.9 # That's a first -visual- guess  \n",
      "delta_o,  = optimize.fsolve(isotropic_grad, delta0, args=(gamma_case1, lbda_case1))\n",
      "print \"Optimum scaling factor = %.3f\" % delta_o\n",
      "ground_energy = isotropic_energy(delta_o, gamma_case1, lbda_case1)\n",
      "print \"Ground energy = %.3f\" % ground_energy\n",
      "line = axes[0].plot([delta_o, delta_o], \n",
      "                    [grad.min(), grad.max()],  'k-')\n",
      "line = axes[1].plot(delta_o, ground_energy,\n",
      "                    'ro', ms=5, alpha=0.5)\n",
      "line = axes[1].plot(deltas, np.ones_like(deltas) * ground_energy, 'k-')\n",
      "line = axes[1].plot([delta_o, delta_o], \n",
      "                    [0.4, 0.55], 'k-')\n",
      "nrj_ax = axes[1]\n",
      "nrj_ax.set_xlim(0, 1)\n",
      "nrj_ax.set_ylim(0.4, 0.55)\n",
      "plt.draw()"
     ],
     "language": "python",
     "metadata": {},
     "outputs": [
      {
       "ename": "NameError",
       "evalue": "name 'isotropic_grad' is not defined",
       "output_type": "pyerr",
       "traceback": [
        "\u001b[1;31m---------------------------------------------------------------------------\u001b[0m\n\u001b[1;31mNameError\u001b[0m                                 Traceback (most recent call last)",
        "\u001b[1;32m<ipython-input-2-030460a13234>\u001b[0m in \u001b[0;36m<module>\u001b[1;34m()\u001b[0m\n\u001b[0;32m      1\u001b[0m \u001b[1;32mfrom\u001b[0m \u001b[0mscipy\u001b[0m \u001b[1;32mimport\u001b[0m \u001b[0moptimize\u001b[0m\u001b[1;33m\u001b[0m\u001b[0m\n\u001b[0;32m      2\u001b[0m \u001b[0mdelta0\u001b[0m \u001b[1;33m=\u001b[0m \u001b[1;36m0.9\u001b[0m \u001b[1;31m# That's a first -visual- guess\u001b[0m\u001b[1;33m\u001b[0m\u001b[0m\n\u001b[1;32m----> 3\u001b[1;33m \u001b[0mdelta_o\u001b[0m\u001b[1;33m,\u001b[0m  \u001b[1;33m=\u001b[0m \u001b[0moptimize\u001b[0m\u001b[1;33m.\u001b[0m\u001b[0mfsolve\u001b[0m\u001b[1;33m(\u001b[0m\u001b[0misotropic_grad\u001b[0m\u001b[1;33m,\u001b[0m \u001b[0mdelta0\u001b[0m\u001b[1;33m,\u001b[0m \u001b[0margs\u001b[0m\u001b[1;33m=\u001b[0m\u001b[1;33m(\u001b[0m\u001b[0mgamma_case1\u001b[0m\u001b[1;33m,\u001b[0m \u001b[0mlbda_case1\u001b[0m\u001b[1;33m)\u001b[0m\u001b[1;33m)\u001b[0m\u001b[1;33m\u001b[0m\u001b[0m\n\u001b[0m\u001b[0;32m      4\u001b[0m \u001b[1;32mprint\u001b[0m \u001b[1;34m\"Optimum scaling factor = %.3f\"\u001b[0m \u001b[1;33m%\u001b[0m \u001b[0mdelta_o\u001b[0m\u001b[1;33m\u001b[0m\u001b[0m\n\u001b[0;32m      5\u001b[0m \u001b[0mground_energy\u001b[0m \u001b[1;33m=\u001b[0m \u001b[0misotropic_energy\u001b[0m\u001b[1;33m(\u001b[0m\u001b[0mdelta_o\u001b[0m\u001b[1;33m,\u001b[0m \u001b[0mgamma_case1\u001b[0m\u001b[1;33m,\u001b[0m \u001b[0mlbda_case1\u001b[0m\u001b[1;33m)\u001b[0m\u001b[1;33m\u001b[0m\u001b[0m\n",
        "\u001b[1;31mNameError\u001b[0m: name 'isotropic_grad' is not defined"
       ]
      }
     ],
     "prompt_number": 2
    },
    {
     "cell_type": "markdown",
     "metadata": {},
     "source": [
      "Note that the value found is equal to the one seen on figure 2B of the paper for the ground state energy, so we're cool..."
     ]
    },
    {
     "cell_type": "markdown",
     "metadata": {},
     "source": [
      "### Boundary between the regular hexagonal packing and the soft network\n",
      "\n",
      "If $\\delta = 1$, which means that the cells area is equal to the prefered area, \n",
      "we must have $\\Gamma = -\\Lambda / 2\\mu$. This line in the $(\\Lambda, \\Gamma)$ plane separates\n",
      "the hexagonal and soft network outlined in figure 1 in the original article.\n",
      "\n",
      "We can create this line:"
     ]
    },
    {
     "cell_type": "code",
     "collapsed": false,
     "input": [
      "lbdas = np.linspace(-1.5, 0., 20)\n",
      "gammas_boundary = - lbdas / (2 * mu)"
     ],
     "language": "python",
     "metadata": {},
     "outputs": [],
     "prompt_number": 11
    },
    {
     "cell_type": "markdown",
     "metadata": {},
     "source": [
      "### The $\\Lambda \\leq 0$ cases\n",
      "\n",
      "If $\\Lambda = 0$, for a non vanishing network, we must find $\\delta$ such that:\n",
      "$$\n",
      "4\\delta^2 + (2\\Gamma \\mu^2 - 4) = 0 \n",
      "$$\n",
      "\n",
      "This equation has roots only if $\\Gamma \\mu^2 - 2 > 0$, or $\\Gamma < 2 / \\mu^2$.\n",
      "We can have $\\Gamma > 2 / \\mu^2$ only if $\\Lambda < 0$. This condition defines a vertical line\n",
      "starting at the $\\Lambda = 0, \\Gamma = 2 / \\mu^2$ point. Let's create this line:"
     ]
    },
    {
     "cell_type": "code",
     "collapsed": false,
     "input": [
      "fig, ax_gl = plt.subplots(1,1)\n",
      "line = ax_gl.plot(lbdas, gammas_boundary, 'k-')\n",
      "xlbl = ax_gl.set_xlabel(r'Normalized line tension $\\Lambda$')\n",
      "ylblb = ax_gl.set_ylabel(r'Normalized contractility $\\Gamma$')\n",
      "line2 = ax_gl.plot([0, 0], [2 / mu**2, gammas.max()], 'k-')\n",
      "\n",
      "xl = ax_gl.set_xlim(-1.4, 0.6)\n",
      "yl = ax_gl.set_ylim(0, 0.18)\n",
      "\n",
      "plt.draw()"
     ],
     "language": "python",
     "metadata": {},
     "outputs": [
      {
       "output_type": "display_data",
       "png": "[encoded data removed]"
      }
     ],
     "prompt_number": 10
    },
    {
     "cell_type": "markdown",
     "metadata": {},
     "source": [
      "### The $\\Lambda \\geq 0$ case\n",
      "\n",
      "The gradient will have real valued roots if its minimum is lower than $0$.\n",
      "Let's find the position of this minimum, by finding the roots of the gradient derivate:\n",
      "\n",
      "$$\n",
      "\\frac{\\partial^2 E}{\\partial\\delta^2} = 12\\delta^2 + (2\\Gamma \\mu^2 - 4) = 0 \\Rightarrow \\delta_{\\mathrm{min}} = \\sqrt{\\frac{2 - \\Gamma\\mu^2}{6}}\n",
      "$$\n",
      "\n",
      "The value of the gradient at $\\delta_{\\mathrm{min}}$ must be negative:\n",
      "\n",
      "$$\n",
      "4\\delta_{\\mathrm{min}}^3 + (2\\Gamma\\mu^2 - 4)\\delta_{\\mathrm{min}} + \\Lambda\\mu \\leq 0\n",
      "$$\n",
      "\n",
      "This can be re-written as:\n",
      "$$\n",
      "\\Lambda \\leq \\frac{1}{\\mu}\\left(\\frac{4 - 2\\Gamma\\mu^2}{3}\\right)^{3/2}\n",
      "$$"
     ]
    },
    {
     "cell_type": "code",
     "collapsed": false,
     "input": [
      "gammas = np.linspace(0, 2/mu**2, 20)\n",
      "lambdas_max = ((4 - 2 * gammas * mu**2) / 3.)**(3./2.) / mu\n",
      "\n",
      "fig, ax_gl = plt.subplots(1,1)\n",
      "line = ax_gl.plot(lbdas, gammas_boundary, 'k-')\n",
      "xlbl = ax_gl.set_xlabel(r'Normalized line tension $\\Lambda$')\n",
      "ylblb = ax_gl.set_ylabel(r'Normalized contractility $\\Gamma$')\n",
      "line2 = ax_gl.plot([0, 0], [2 / mu**2, gammas_boundary.max()], 'k-')\n",
      "\n",
      "ax_gl.plot(lambdas_max, gammas, 'k-')\n",
      "xl = ax_gl.set_xlim(-1.4, 0.6)\n",
      "yl = ax_gl.set_ylim(0, 0.18)\n",
      "\n",
      "plt.draw()"
     ],
     "language": "python",
     "metadata": {},
     "outputs": [
      {
       "output_type": "display_data",
       "png": "[encoded data removed]"
      }
     ],
     "prompt_number": 13
    },
    {
     "cell_type": "markdown",
     "metadata": {},
     "source": [
      "We now have the two phase space boundaries given by Faradhifar on figure 1. When we pass to\n",
      "the simulation we'll use all that to ensure that optimisation will converge and that we start the simultations\n",
      "close to the ground state."
     ]
    },
    {
     "cell_type": "markdown",
     "metadata": {},
     "source": [
      "## Gradient computation at junction vertices\n",
      "\n",
      "In order to find the local energy minimum, as shown below, we use a conjugate gradient method\n",
      "(namely the [`fmin_ncg`](http://docs.scipy.org/doc/scipy/reference/tutorial/optimize.html#newton-conjugate-gradient-algorithm-method-newton-cg)\n",
      "algorithm from SciPy). So we need to compute said gradient at each junction vertex that concur to the optimization.\n",
      "\n",
      "The total gradient is the sum of three components, corresponing to the three interactions on the appical surface:\n",
      "\n",
      "* Cell elasticity $\\nabla  E^e = -F^e \\simeq K(A - A_0)$\n",
      "* Contractility: $\\nabla  E^g = -F^g \\simeq \\Gamma L$\n",
      "* Line tension $\\nabla E^t = -F^t \\simeq \\Lambda$\n",
      "\n",
      "For a given cell, the elastic force is assumed to be applied perpendicular to the junction edges, outward, while the contractile force \n",
      "is parrallel to those edges. The line tension is also parrallel to the edges.\n",
      "\n",
      "At a junction vertex with index $i$, the net force is given by:\n",
      "\n",
      "* the sum over each connected edge $j$ of the elastic forces from both adjacent cells \n",
      "(indexed as $ij,0$ and $ij,1$), perpendicular to the edge, \n",
      "with $\\mathbf{e}_{ij,0}$ as a unitary vector perpendicular \n",
      "to the edge $ij$ and pointing out of cell $ij, 0$:\n",
      "$$\n",
      "\\mathbf{F}^e_i = \\sum_j K(A_{ij,0} - A_{ij,1}) \\mathbf{e}_{ij,0}\n",
      "$$\n",
      "\n",
      "* plus the sum over each connected edge of contractile force\n",
      "from both adjacent cells,\n",
      "parrallel to the edge and away from the vertex, with $\\mathbf{e}_{ij}$ \n",
      "for the unitary vector parrallel to the junction edge:\n",
      "$$\n",
      "\\mathbf{F}^g_i = \\sum_j (\\Gamma L_{ij,0} + \\Gamma L_{ij,1}) \\mathbf{e}_{ij}\n",
      "$$\n",
      "* plus the sum of the tensile force exerted by each emanating edge, directed along the edge and away from the vertex.\n",
      "$$\n",
      "\\mathbf{F}^t_i = \\sum_j \\Lambda \\mathbf{e}_{ij}\n",
      "$$"
     ]
    },
    {
     "cell_type": "markdown",
     "metadata": {},
     "source": [
      " Before we jump to the simulation, we need to adress an aspect of the model that is not taken into account\n",
      "in the reference work: the interactions out of the epithelium appical surface.\n",
      "\n",
      "## Three dimensional folding\n",
      "\n",
      "Initally, the epithelium is modeled as a cylindrical surface warped around the $z$ axis.\n",
      "Thus, the curvature along $z$ is null, and the radius of curvature along $\\sigma$ is simply\n",
      "equal to $\\rho_0$, $\\forall z$. A sheet of paper rolled on itself to form a tube, if left alone,\n",
      "comes back spontaneously to a flat configuration, because of its bending rigidity. So is the case of our appical surface\n",
      "(we could imagine an experiment where we cut the epithelium along the $z$ axis, and observe that it unfolds to form a flat surface).\n",
      "\n",
      "The bending ridgidity translates into an energy $E^b = k_b C_0^2 = k_b / \\rho_0^2$ \n",
      "and a force $\\mathbf{F}^b = - \\partial E^b / \\partial \\rho = 2 k_b / \\rho_0^3 \\mathbf{e}_\\rho$, \n",
      "perpendicular to the surface and pointing away from it. The constant $k_b$ is called the bending modulus.\n",
      "\n",
      "At a given vertex junction, this force is compensated by the contractile end tensile forces components\n",
      "that point out of the appical surface - the surface elasticity is by definition not contributing:\n",
      "$$\n",
      "\\mathbf{F}^b . \\mathbf{e}_\\rho = \\mathbf{F}^g_i . \\mathbf{e}_\\rho +  \\mathbf{F}^t_i . \\mathbf{e}_\\rho\n",
      "$$"
     ]
    },
    {
     "cell_type": "markdown",
     "metadata": {},
     "source": [
      "We can feed the above definitions of the forces in this equation:\n",
      "\n",
      "$$\n",
      "\\sum_j (\\Lambda + \\Gamma L_{ij,0} + \\Gamma L_{ij,1}) \\mathbf{e}_{ij} . \\mathbf{e}\\rho = 2 k_c / \\rho _i^3\n",
      "$$\n",
      "\n",
      "As, at least initially, the apical surface is parrallel to $z$, the $\\zeta$ axis is perpendicular to the radius. \n",
      "Only the components of the forces along the $\\sigma$ axis contribute, i.e: \n",
      "$$ \n",
      "\\mathbf{e}_{ij} . \\mathbf{e} _\\rho = \\mathbf{u} _\\sigma . \\mathbf{e}\\rho \\textrm{ with } \\mathbf{e} _{ij} \n",
      "                                   = \\mathbf{u} _\\sigma + \\mathbf{u} _\\zeta + \\mathbf{u} _\\rho\n",
      "$$\n",
      "With $\\mathbf{u} _\\sigma = \\Delta \\sigma / \\ell _{ij} $\n",
      "\n",
      "We have $\\mathbf{u} _\\sigma . \\mathbf{e} _\\rho = u _\\sigma \\sin (\\Delta \\theta _{ij} / 2)$.\n",
      "We can calculate the bending rigidity with the formula:\n",
      "\n",
      "$$\n",
      "k_c = \\frac{\\rho_0^3}{2} \\sum_j \\left[ (\\Lambda + 2\\Gamma L) u _\\sigma \\sin (\\Delta \\theta _{ij} / 2) \\right]\n",
      "$$\n",
      "\n",
      "We can calculate this in our conditions:"
     ]
    },
    {
     "cell_type": "code",
     "collapsed": false,
     "input": [
      "j_vert = eptm.graph.vertex(134)\n",
      "rho = eptm.rhos[j_vert]\n",
      "eptm.graph.set_edge_filter(eptm.is_junction_edge)\n",
      "kc = 0\n",
      "for je in j_vert.all_edges():\n",
      "    lmbda = eptm.junctions.line_tensions[je]\n",
      "    kj = lmbda\n",
      "    \n",
      "    for cell in eptm.adjacent_cells(je):\n",
      "        gamma = eptm.cells.contractilities[cell]\n",
      "        perimeter = eptm.cells.perimeters[cell]\n",
      "        kj += gamma * perimeter\n",
      "    dtheta = eptm.dthetas[je]\n",
      "    kj *= eptm.u_dsigmas[je] * np.sin(dtheta/2)\n",
      "    kc += kj\n",
      "kc *= rho**3 / 2\n",
      "K = eptm.params[\"elasticity\"]\n",
      "A0 = eptm.params[\"prefered_area\"]\n",
      "adim_kc = kc / (K * A0**3)\n",
      "print kc, adim_kc"
     ],
     "language": "python",
     "metadata": {},
     "outputs": [
      {
       "output_type": "stream",
       "stream": "stdout",
       "text": [
        "3289.16529306 0.0263133223445"
       ]
      }
     ],
     "prompt_number": 10
    },
    {
     "cell_type": "markdown",
     "metadata": {},
     "source": [
      "### Curvature relaxation along the radial axis"
     ]
    },
    {
     "cell_type": "markdown",
     "metadata": {},
     "source": [
      "### Curvature relaxation along the $z$ axis\n",
      "\n",
      "Between the proximal region and the fold itself, the radius will vary with respect to the $\\zeta$ curvilinear coordinate,\n",
      "and so curvature along the $z$ axis will not be zero any more. To determined the change of shape along that axis, \n",
      "we rely on a well known propriety of elastic films: the sum of the curvatures along two perpendicular axes is constant:\n",
      "$ C_z + C _\\rho = C_0$. By definition, we have $C_z = \\partial^2 z / \\partial \\zeta^2 $, and $C _\\rho(\\zeta) = 1/\\rho _\\zeta$.\n",
      "\n",
      "We can thus determine $z(\\zeta)$ by simply solving the differential equation:\n",
      "$$\n",
      "\\frac{\\partial^2 z}{\\partial \\zeta^2} = \\frac{1}{\\rho_0} - \\frac{1}{\\rho _\\zeta} \n",
      "\\Rightarrow z(\\zeta) = \\frac{\\rho _\\zeta - \\rho _0}{2\\rho _\\zeta \\rho _0}\\zeta^2 + \\zeta + z_0\n",
      "$$"
     ]
    },
    {
     "cell_type": "markdown",
     "metadata": {},
     "source": [
      "# Implementation and scaling\n",
      "\n",
      "## Initial state"
     ]
    },
    {
     "cell_type": "markdown",
     "metadata": {},
     "source": [
      "Run the cell below to see the whole network"
     ]
    },
    {
     "cell_type": "code",
     "collapsed": false,
     "input": [
      "## FIXME Cairo interface is broken \n",
      "#epithelium_draw(eptm)\n",
      "\n",
      "fig, eptm_ax = plt.subplots(1,1, figsize=(6, 9))\n",
      "eptm_ax.set_xlim(-5,60)\n",
      "eptm_ax = lj.plot_cells_sz(eptm, eptm_ax, efilt=None, text=False)"
     ],
     "language": "python",
     "metadata": {},
     "outputs": [
      {
       "ename": "AttributeError",
       "evalue": "'module' object has no attribute 'plot_cells_sz'",
       "output_type": "pyerr",
       "traceback": [
        "\u001b[1;31m---------------------------------------------------------------------------\u001b[0m\n\u001b[1;31mAttributeError\u001b[0m                            Traceback (most recent call last)",
        "\u001b[1;32m<ipython-input-5-885eab6c4550>\u001b[0m in \u001b[0;36m<module>\u001b[1;34m()\u001b[0m\n\u001b[0;32m      4\u001b[0m \u001b[0mfig\u001b[0m\u001b[1;33m,\u001b[0m \u001b[0meptm_ax\u001b[0m \u001b[1;33m=\u001b[0m \u001b[0mplt\u001b[0m\u001b[1;33m.\u001b[0m\u001b[0msubplots\u001b[0m\u001b[1;33m(\u001b[0m\u001b[1;36m1\u001b[0m\u001b[1;33m,\u001b[0m\u001b[1;36m1\u001b[0m\u001b[1;33m,\u001b[0m \u001b[0mfigsize\u001b[0m\u001b[1;33m=\u001b[0m\u001b[1;33m(\u001b[0m\u001b[1;36m6\u001b[0m\u001b[1;33m,\u001b[0m \u001b[1;36m9\u001b[0m\u001b[1;33m)\u001b[0m\u001b[1;33m)\u001b[0m\u001b[1;33m\u001b[0m\u001b[0m\n\u001b[0;32m      5\u001b[0m \u001b[0meptm_ax\u001b[0m\u001b[1;33m.\u001b[0m\u001b[0mset_xlim\u001b[0m\u001b[1;33m(\u001b[0m\u001b[1;33m-\u001b[0m\u001b[1;36m5\u001b[0m\u001b[1;33m,\u001b[0m\u001b[1;36m60\u001b[0m\u001b[1;33m)\u001b[0m\u001b[1;33m\u001b[0m\u001b[0m\n\u001b[1;32m----> 6\u001b[1;33m \u001b[0meptm_ax\u001b[0m \u001b[1;33m=\u001b[0m \u001b[0mlj\u001b[0m\u001b[1;33m.\u001b[0m\u001b[0mplot_cells_sz\u001b[0m\u001b[1;33m(\u001b[0m\u001b[0meptm\u001b[0m\u001b[1;33m,\u001b[0m \u001b[0meptm_ax\u001b[0m\u001b[1;33m,\u001b[0m \u001b[0mefilt\u001b[0m\u001b[1;33m=\u001b[0m\u001b[0mNone\u001b[0m\u001b[1;33m,\u001b[0m \u001b[0mtext\u001b[0m\u001b[1;33m=\u001b[0m\u001b[0mFalse\u001b[0m\u001b[1;33m)\u001b[0m\u001b[1;33m\u001b[0m\u001b[0m\n\u001b[0m",
        "\u001b[1;31mAttributeError\u001b[0m: 'module' object has no attribute 'plot_cells_sz'"
       ]
      }
     ],
     "prompt_number": 5
    },
    {
     "cell_type": "markdown",
     "metadata": {},
     "source": [
      "We can now apply the definitions above to compute the total energy in the epithelium.\n",
      "\n",
      "At initialisation time, we already computed all the geometrical characteristics\n",
      "we need (via the `update_apical_geometry()` method),\n",
      "so it's only a matter of writting the stuff:"
     ]
    },
    {
     "cell_type": "code",
     "collapsed": false,
     "input": [
      "eptm.set_vertex_state([(eptm.is_cell_vert, False),\n",
      "                       (eptm.is_alive, False)])\n",
      "K = eptm.params['elasticity']\n",
      "A0 = eptm.params['prefered_area']\n",
      "elastic_term = 0.5 * K * (eptm.cells.areas.fa - A0)**2\n",
      "\n",
      "Gamma = eptm.params['contractility']\n",
      "contractile_term = 0.5 * Gamma * eptm.cells.perimeters.fa**2\n",
      "N = (eptm.is_cell_vert.a * eptm.is_alive.a).sum()\n",
      "eptm.set_vertex_state()\n",
      "\n",
      "# Filtering out the cell to junction edges\n",
      "eptm.set_edge_state([(eptm.is_junction_edge, False)])\n",
      "Lambda = eptm.params['line_tension']\n",
      "tension_term = Lambda * eptm.edge_lengths.fa\n",
      "cell_energy = (contractile_term.sum() \n",
      "               + elastic_term.sum()) / (N * K * A0**2)\n",
      "junction_energy = tension_term.sum() / (N * K * A0**2)\n",
      "energy = contractile_term.sum() + tension_term.sum() + elastic_term.sum()\n",
      "energy /= (N * K * A0**2)\n",
      "print \"The normalized energy equals %.3f\" % energy\n",
      "\n",
      "eptm.set_edge_state()\n",
      "# The calc_energy method of eptm does nearly exactly this\n",
      "print \"A small difference: \"+str(energy - eptm.calc_energy())"
     ],
     "language": "python",
     "metadata": {},
     "outputs": [
      {
       "output_type": "stream",
       "stream": "stdout",
       "text": [
        "The normalized energy equals 0.433\n",
        "A small difference: 5.55111512313e-17"
       ]
      }
     ],
     "prompt_number": 15
    },
    {
     "cell_type": "code",
     "collapsed": false,
     "input": [
      "ce, n = eptm.calc_cells_energy()\n",
      "je = eptm.calc_junctions_energy()\n",
      "print n, (N * K * A0**2)\n",
      "print ce/n, cell_energy\n",
      "print je/n, junction_energy"
     ],
     "language": "python",
     "metadata": {},
     "outputs": [
      {
       "output_type": "stream",
       "stream": "stdout",
       "text": [
        "180000.0 180000.0\n",
        "0.254949795103 0.254949795103\n",
        "0.178253964635 0.178253964635"
       ]
      }
     ],
     "prompt_number": 16
    },
    {
     "cell_type": "markdown",
     "metadata": {},
     "source": [
      "Note that at initialisation time, we alse invoked the `isotropic_relax` method,\n",
      "and we start with an hexagonal lattice, so we should be fairly close to\n",
      "the ground state energy, except from the cells closer to edges along the $\\zeta$ axis."
     ]
    },
    {
     "cell_type": "markdown",
     "metadata": {},
     "source": [
      "## Energy minimisation of a cell close to the edge"
     ]
    },
    {
     "cell_type": "markdown",
     "metadata": {},
     "source": [
      "### Local filtering and preconditioning\n",
      "\n",
      "We choose a particular cell."
     ]
    },
    {
     "cell_type": "code",
     "collapsed": true,
     "input": [
      "cell = eptm.graph.vertex(38)\n",
      "eptm.set_local_mask(cell)\n",
      "pos0, bounds = eptm.precondition()\n",
      "eptm.graph.set_vertex_filter(None)"
     ],
     "language": "python",
     "metadata": {},
     "outputs": [],
     "prompt_number": 17
    },
    {
     "cell_type": "markdown",
     "metadata": {},
     "source": [
      "### Sanity checks\n",
      "\n",
      "The `check_phase_space` method of the `Epithelium` class will return `False` if the values \n",
      "for $\\Gamma$ and $\\Lambda$ are not good, together with an error message: "
     ]
    },
    {
     "cell_type": "code",
     "collapsed": false,
     "input": [
      "print eptm.check_phase_space(0.04, 0.12)\n",
      "print eptm.check_phase_space(0.04, 0.30)\n",
      "\n",
      "# This should be small, though not zeros due to \n",
      "# approximations\n",
      "chk_out = eptm.check_local_grad(pos0)\n",
      "print chk_out"
     ],
     "language": "python",
     "metadata": {},
     "outputs": [
      {
       "output_type": "stream",
       "stream": "stdout",
       "text": [
        "(True, 'ok!')\n",
        "(False, 'Invalid value for the line tension: it should be lower than 0.25 for a contractility of 0.04 ')\n",
        "0.831078193075"
       ]
      },
      {
       "output_type": "stream",
       "stream": "stdout",
       "text": []
      }
     ],
     "prompt_number": 18
    },
    {
     "cell_type": "code",
     "collapsed": true,
     "input": [
      "pos0, pos1 = eptm.find_energy_min()"
     ],
     "language": "python",
     "metadata": {},
     "outputs": [],
     "prompt_number": 19
    },
    {
     "cell_type": "code",
     "collapsed": false,
     "input": [
      "ax = plot_cells_sz(eptm, ax=None, text=False,\n",
      "                   vfilt=eptm.is_local_vert,\n",
      "                   efilt=eptm.is_local_edge)\n",
      "\n",
      "ax = plot_gradients(eptm, ax, scale=1.)\n",
      "ax = plot_active(eptm, ax)\n",
      "#ax.axis((10, 30, 8, 22))"
     ],
     "language": "python",
     "metadata": {},
     "outputs": [
      {
       "output_type": "display_data",
       "png": "[encoded data removed]"
      }
     ],
     "prompt_number": 20
    },
    {
     "cell_type": "code",
     "collapsed": false,
     "input": [
      "mu = 6 * np.sqrt(2. / (3 * np.sqrt(3)))\n",
      "eptm.graph.set_vertex_filter(eptm.is_cell_vert)\n",
      "print 'prefered area = %.3f' % eptm.cells.prefered_area.fa.mean()\n",
      "print 'average area = %.3f' % eptm.cells.areas.fa.mean()\n",
      "eptm.graph.set_edge_filter(eptm.is_junction_edge)\n",
      "print 'average edge length = %.3f' % eptm.edge_lengths.fa.mean()\n",
      "opt_ell = mu * np.sqrt(eptm.cells.areas.fa.mean()) / 6.\n",
      "print 'optimum length = %.3f' % opt_ell"
     ],
     "language": "python",
     "metadata": {},
     "outputs": [
      {
       "output_type": "stream",
       "stream": "stdout",
       "text": [
        "prefered area = 50.000\n",
        "average area = 23.401\n",
        "average edge length = 3.233\n",
        "optimum length = 3.001"
       ]
      }
     ],
     "prompt_number": 21
    },
    {
     "cell_type": "code",
     "collapsed": true,
     "input": [],
     "language": "python",
     "metadata": {},
     "outputs": []
    }
   ],
   "metadata": {}
  }
 ]
}