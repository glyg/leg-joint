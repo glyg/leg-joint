{
 "cells": [
  {
   "cell_type": "markdown",
   "metadata": {},
   "source": [
    "# Epithelium\n",
    "\n",
    "### graph / dataframe interface\n",
    "\n",
    "\n",
    "## I/O\n",
    "\n",
    "- hdf_snapshot\n",
    "\n",
    "\n",
    "## topology\n",
    "\n",
    "### graphs\n",
    "\n",
    "- full graph\n",
    "- cells graph\n",
    "- junctions graph\n",
    "\n",
    "### dataframes\n",
    "\n",
    "- vertex df\n",
    "- edge df\n",
    "- triangles\n",
    "\n",
    "### actions\n",
    "\n",
    "- add vertex\n",
    "- add cell\n",
    "- add junction\n",
    "- remove cell\n",
    "- remove junction\n",
    "\n",
    "\n",
    "\n",
    "\n",
    "## geometry\n",
    "\n",
    "- position\n",
    "- height / area / volume\n",
    "\n",
    "\n",
    "## dynamics\n",
    "\n",
    "- energy\n",
    "- gradient\n",
    "- optimisation\n",
    "  + local\n",
    "  + global\n",
    "\n",
    "\n",
    "## filters\n",
    "\n",
    "- cell vertices\n",
    "- junction edges\n",
    "- local\n",
    "- active\n",
    "\n",
    "## events\n",
    "\n",
    "- division\n",
    "- T1\n",
    "- T3\n",
    "- apoptosis\n"
   ]
  },
  {
   "cell_type": "code",
   "execution_count": 1,
   "metadata": {
    "collapsed": false
   },
   "outputs": [
    {
     "name": "stdout",
     "output_type": "stream",
     "text": [
      "Automatic pdb calling has been turned ON\n",
      "Automatic pdb calling has been turned ON\n"
     ]
    }
   ],
   "source": [
    "%pdb"
   ]
  },
  {
   "cell_type": "code",
   "execution_count": 1,
   "metadata": {
    "collapsed": false
   },
   "outputs": [],
   "source": [
    "%load_ext autoreload\n",
    "%autoreload 2\n",
    "\n",
    "import numpy as np\n",
    "\n",
    "import pandas as pd\n",
    "import graph_tool.all as gt\n",
    "\n",
    "from leg_joint.epithelium import Epithelium\n",
    "\n"
   ]
  },
  {
   "cell_type": "code",
   "execution_count": 3,
   "metadata": {
    "collapsed": false
   },
   "outputs": [
    {
     "name": "stderr",
     "output_type": "stream",
     "text": [
      "2015-03-16 11:15:08,075 -leg_joint.epithelium.epithelium -__init__ -- INFO -Instanciating epithelium 0\n",
      "2015-03-16 11:15:08,076 -leg_joint.epithelium.epithelium -__init__ -- INFO -Created new graph\n",
      "2015-03-16 11:15:08,228 -leg_joint.epithelium.epithelium -__init__ -- INFO -Initial cells\n",
      "2015-03-16 11:15:08,228 -leg_joint.epithelium.epithelium -__init__ -- INFO -Initial junctions\n",
      "2015-03-16 11:15:08,273 -leg_joint.epithelium.epithelium -__init__ -- INFO -Isotropic relaxation\n",
      "/home/guillaume/anaconda/envs/python3/lib/python3.4/site-packages/numpy/core/_methods.py:59: RuntimeWarning: Mean of empty slice.\n",
      "  warnings.warn(\"Mean of empty slice.\", RuntimeWarning)\n",
      "2015-03-16 11:15:08,487 -leg_joint.epithelium.epithelium -__init__ -- INFO -Periodic boundary\n",
      "2015-03-16 11:15:08,490 -leg_joint.epithelium.epithelium -__init__ -- INFO -Update geometry\n"
     ]
    }
   ],
   "source": [
    "eptm = Epithelium()"
   ]
  },
  {
   "cell_type": "code",
   "execution_count": null,
   "metadata": {
    "collapsed": true
   },
   "outputs": [],
   "source": []
  }
 ],
 "metadata": {
  "kernelspec": {
   "display_name": "Python 3",
   "language": "python",
   "name": "python3"
  },
  "language_info": {
   "codemirror_mode": {
    "name": "ipython",
    "version": 3
   },
   "file_extension": ".py",
   "mimetype": "text/x-python",
   "name": "python",
   "nbconvert_exporter": "python",
   "pygments_lexer": "ipython3",
   "version": "3.4.3"
  }
 },
 "nbformat": 4,
 "nbformat_minor": 0
}
