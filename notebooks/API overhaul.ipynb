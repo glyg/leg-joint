{
 "cells": [
  {
   "cell_type": "markdown",
   "metadata": {},
   "source": [
    "# Epithelium\n",
    "\n",
    "### graph / dataframe interface\n",
    "\n",
    "\n",
    "## I/O\n",
    "\n",
    "- hdf_snapshot\n",
    "\n",
    "\n",
    "## topology\n",
    "\n",
    "### graphs\n",
    "\n",
    "- full graph\n",
    "- cells graph\n",
    "- junctions graph\n",
    "\n",
    "### dataframes\n",
    "\n",
    "- vertex df\n",
    "- edge df\n",
    "- triangles\n",
    "\n",
    "### actions\n",
    "\n",
    "- add vertex\n",
    "- add cell\n",
    "- add junction\n",
    "- remove cell\n",
    "- remove junction\n",
    "\n",
    "\n",
    "\n",
    "\n",
    "## geometry\n",
    "\n",
    "- position\n",
    "- height / area / volume\n",
    "\n",
    "\n",
    "## dynamics\n",
    "\n",
    "- energy\n",
    "- gradient\n",
    "- optimisation\n",
    "  + local\n",
    "  + global\n",
    "\n",
    "\n",
    "## filters\n",
    "\n",
    "- cell vertices\n",
    "- junction edges\n",
    "- local\n",
    "- active\n",
    "\n",
    "## events\n",
    "\n",
    "- division\n",
    "- T1\n",
    "- T3\n",
    "- apoptosis\n"
   ]
  },
  {
   "cell_type": "code",
   "execution_count": 1,
   "metadata": {
    "collapsed": false
   },
   "outputs": [
    {
     "name": "stdout",
     "output_type": "stream",
     "text": [
      "Automatic pdb calling has been turned ON\n",
      "Automatic pdb calling has been turned ON\n"
     ]
    }
   ],
   "source": [
    "%pdb"
   ]
  },
  {
   "cell_type": "code",
   "execution_count": 1,
   "metadata": {
    "collapsed": false
   },
   "outputs": [],
   "source": [
    "%load_ext autoreload\n",
    "%autoreload 2\n",
    "\n",
    "import numpy as np\n",
    "\n",
    "import pandas as pd\n",
    "import graph_tool.all as gt\n",
    "\n",
    "from leg_joint.epithelium import Epithelium\n",
    "\n"
   ]
  },
  {
   "cell_type": "code",
   "execution_count": 2,
   "metadata": {
    "collapsed": false
   },
   "outputs": [
    {
     "name": "stderr",
     "output_type": "stream",
     "text": [
      "2015-03-16 11:03:58,801 -leg_joint.epithelium.epithelium -__init__ -- INFO -Instanciating epithelium 0\n",
      "2015-03-16 11:03:58,802 -leg_joint.epithelium.epithelium -__init__ -- INFO -Created new graph\n",
      "2015-03-16 11:03:58,955 -leg_joint.epithelium.epithelium -__init__ -- INFO -Initial cells\n",
      "2015-03-16 11:03:58,956 -leg_joint.epithelium.epithelium -__init__ -- INFO -Initial junctions\n",
      "2015-03-16 11:03:58,993 -leg_joint.epithelium.epithelium -__init__ -- INFO -Isotropic relaxation\n",
      "/home/guillaume/anaconda/envs/python3/lib/python3.4/site-packages/numpy/core/_methods.py:59: RuntimeWarning: Mean of empty slice.\n",
      "  warnings.warn(\"Mean of empty slice.\", RuntimeWarning)\n"
     ]
    },
    {
     "ename": "AttributeError",
     "evalue": "'Epithelium' object has no attribute 'rho_lumen'",
     "output_type": "error",
     "traceback": [
      "\u001b[1;31m---------------------------------------------------------------------------\u001b[0m",
      "\u001b[1;31mAttributeError\u001b[0m                            Traceback (most recent call last)",
      "\u001b[1;32m<ipython-input-2-fb2f30ed3c29>\u001b[0m in \u001b[0;36m<module>\u001b[1;34m()\u001b[0m\n\u001b[1;32m----> 1\u001b[1;33m \u001b[0meptm\u001b[0m \u001b[1;33m=\u001b[0m \u001b[0mEpithelium\u001b[0m\u001b[1;33m(\u001b[0m\u001b[1;33m)\u001b[0m\u001b[1;33m\u001b[0m\u001b[0m\n\u001b[0m",
      "\u001b[1;32m/home/guillaume/Python/leg-joint/leg_joint/epithelium/epithelium.py\u001b[0m in \u001b[0;36m__init__\u001b[1;34m(self, identifier, paramtree, paramfile, copy, graph, graphXMLfile, hdfstore, stamp, verbose, save_dir, **params)\u001b[0m\n\u001b[0;32m    184\u001b[0m         \u001b[1;32mif\u001b[0m \u001b[0mself\u001b[0m\u001b[1;33m.\u001b[0m\u001b[0mnew\u001b[0m\u001b[1;33m:\u001b[0m\u001b[1;33m\u001b[0m\u001b[0m\n\u001b[0;32m    185\u001b[0m             \u001b[0mlog\u001b[0m\u001b[1;33m.\u001b[0m\u001b[0minfo\u001b[0m\u001b[1;33m(\u001b[0m\u001b[1;34m'Isotropic relaxation'\u001b[0m\u001b[1;33m)\u001b[0m\u001b[1;33m\u001b[0m\u001b[0m\n\u001b[1;32m--> 186\u001b[1;33m             \u001b[0mself\u001b[0m\u001b[1;33m.\u001b[0m\u001b[0misotropic_relax\u001b[0m\u001b[1;33m(\u001b[0m\u001b[1;33m)\u001b[0m\u001b[1;33m\u001b[0m\u001b[0m\n\u001b[0m\u001b[0;32m    187\u001b[0m             \u001b[0mlog\u001b[0m\u001b[1;33m.\u001b[0m\u001b[0minfo\u001b[0m\u001b[1;33m(\u001b[0m\u001b[1;34m'Periodic boundary'\u001b[0m\u001b[1;33m)\u001b[0m\u001b[1;33m\u001b[0m\u001b[0m\n\u001b[0;32m    188\u001b[0m             \u001b[0mself\u001b[0m\u001b[1;33m.\u001b[0m\u001b[0mperiodic_boundary_condition\u001b[0m\u001b[1;33m(\u001b[0m\u001b[1;33m)\u001b[0m\u001b[1;33m\u001b[0m\u001b[0m\n",
      "\u001b[1;32m/home/guillaume/Python/leg-joint/leg_joint/dynamics/dynamics.py\u001b[0m in \u001b[0;36misotropic_relax\u001b[1;34m(self)\u001b[0m\n\u001b[0;32m     59\u001b[0m         \u001b[1;31m### Set height and area to height0 and area0\u001b[0m\u001b[1;33m\u001b[0m\u001b[1;33m\u001b[0m\u001b[0m\n\u001b[0;32m     60\u001b[0m         \u001b[0mscale\u001b[0m \u001b[1;33m=\u001b[0m \u001b[1;33m(\u001b[0m\u001b[0marea0\u001b[0m \u001b[1;33m/\u001b[0m \u001b[0marea_avg\u001b[0m\u001b[1;33m)\u001b[0m\u001b[1;33m**\u001b[0m\u001b[1;36m0.5\u001b[0m\u001b[1;33m\u001b[0m\u001b[0m\n\u001b[1;32m---> 61\u001b[1;33m         \u001b[0mself\u001b[0m\u001b[1;33m.\u001b[0m\u001b[0mscale\u001b[0m\u001b[1;33m(\u001b[0m\u001b[0mscale\u001b[0m\u001b[1;33m)\u001b[0m\u001b[1;33m\u001b[0m\u001b[0m\n\u001b[0m\u001b[0;32m     62\u001b[0m         \u001b[0mself\u001b[0m\u001b[1;33m.\u001b[0m\u001b[0mrho_lumen\u001b[0m \u001b[1;33m=\u001b[0m \u001b[0mrho_avg\u001b[0m \u001b[1;33m*\u001b[0m \u001b[0mscale\u001b[0m \u001b[1;33m-\u001b[0m \u001b[0mh_0\u001b[0m\u001b[1;33m\u001b[0m\u001b[0m\n\u001b[0;32m     63\u001b[0m         \u001b[0mself\u001b[0m\u001b[1;33m.\u001b[0m\u001b[0mupdate_geometry\u001b[0m\u001b[1;33m(\u001b[0m\u001b[1;33m)\u001b[0m\u001b[1;33m\u001b[0m\u001b[0m\n",
      "\u001b[1;32m/home/guillaume/Python/leg-joint/leg_joint/geometry/geometry.py\u001b[0m in \u001b[0;36mscale\u001b[1;34m(self, scaling_factor)\u001b[0m\n\u001b[0;32m    272\u001b[0m         \u001b[0mself\u001b[0m\u001b[1;33m.\u001b[0m\u001b[0mvertex_df\u001b[0m\u001b[1;33m[\u001b[0m\u001b[0mself\u001b[0m\u001b[1;33m.\u001b[0m\u001b[0mcoords\u001b[0m\u001b[1;33m]\u001b[0m \u001b[1;33m*=\u001b[0m \u001b[0mscaling_factor\u001b[0m\u001b[1;33m\u001b[0m\u001b[0m\n\u001b[0;32m    273\u001b[0m         \u001b[0mself\u001b[0m\u001b[1;33m.\u001b[0m\u001b[0mvertex_df\u001b[0m\u001b[1;33m[\u001b[0m\u001b[1;34m'heights'\u001b[0m\u001b[1;33m]\u001b[0m \u001b[1;33m*=\u001b[0m \u001b[0mscaling_factor\u001b[0m\u001b[1;33m\u001b[0m\u001b[0m\n\u001b[1;32m--> 274\u001b[1;33m         \u001b[0mself\u001b[0m\u001b[1;33m.\u001b[0m\u001b[0mrho_lumen\u001b[0m \u001b[1;33m*=\u001b[0m \u001b[0mscaling_factor\u001b[0m\u001b[1;33m\u001b[0m\u001b[0m\n\u001b[0m\u001b[0;32m    275\u001b[0m         \u001b[0mself\u001b[0m\u001b[1;33m.\u001b[0m\u001b[0mupdate_geometry\u001b[0m\u001b[1;33m(\u001b[0m\u001b[1;33m)\u001b[0m\u001b[1;33m\u001b[0m\u001b[0m\n\u001b[0;32m    276\u001b[0m \u001b[1;33m\u001b[0m\u001b[0m\n",
      "\u001b[1;31mAttributeError\u001b[0m: 'Epithelium' object has no attribute 'rho_lumen'"
     ]
    }
   ],
   "source": [
    "eptm = Epithelium()"
   ]
  },
  {
   "cell_type": "code",
   "execution_count": null,
   "metadata": {
    "collapsed": true
   },
   "outputs": [],
   "source": []
  }
 ],
 "metadata": {
  "kernelspec": {
   "display_name": "Python 3",
   "language": "python",
   "name": "python3"
  },
  "language_info": {
   "codemirror_mode": {
    "name": "ipython",
    "version": 3
   },
   "file_extension": ".py",
   "mimetype": "text/x-python",
   "name": "python",
   "nbconvert_exporter": "python",
   "pygments_lexer": "ipython3",
   "version": "3.4.3"
  }
 },
 "nbformat": 4,
 "nbformat_minor": 0
}
