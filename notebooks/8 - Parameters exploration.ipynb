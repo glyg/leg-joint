{
 "metadata": {
  "name": ""
 },
 "nbformat": 3,
 "nbformat_minor": 0,
 "worksheets": [
  {
   "cells": [
    {
     "cell_type": "code",
     "collapsed": false,
     "input": [
      "%load_ext autoreload\n",
      "%autoreload 2\n",
      "\n",
      "%run nb_init\n"
     ],
     "language": "python",
     "metadata": {},
     "outputs": [
      {
       "output_type": "stream",
       "stream": "stdout",
       "text": [
        "The autoreload extension is already loaded. To reload it, use:\n",
        "  %reload_ext autoreload\n"
       ]
      }
     ],
     "prompt_number": 2
    },
    {
     "cell_type": "code",
     "collapsed": false,
     "input": [
      "import itertools\n",
      "from IPython import parallel\n",
      "rc = parallel.Client(profile='nbserver')\n",
      "engines = rc[:]\n",
      "res = engines.run('nb_init.py')\n",
      "print(rc.ids)"
     ],
     "language": "python",
     "metadata": {},
     "outputs": [
      {
       "output_type": "stream",
       "stream": "stdout",
       "text": [
        "[0, 1, 2, 3]\n"
       ]
      }
     ],
     "prompt_number": 5
    },
    {
     "cell_type": "code",
     "collapsed": false,
     "input": [
      "### Base directories for saving, might as well have them here\n",
      "### Base directories for saving, might as well have them here\n",
      "json_dir = '../saved_graphs/jsons/'\n",
      "\n",
      "grid_kwargs =  {'seq_kwargs': {'num_cells': 30,\n",
      "                               'width_apopto':2.,\n",
      "                               'p0': 1.,\n",
      "                               'amp': 0.3,\n",
      "                               'gamma': 1.0,\n",
      "                               'seed': 1,\n",
      "                               'num_steps': 10,\n",
      "                               'ventral_bias': True,\n",
      "                               'random': True},\n",
      "                'apopto_kwargs': {'vol_reduction':0.7,\n",
      "                                  'contractility': 1.2,\n",
      "                                  'radial_tension': [0., 0.2]},\n",
      "                'post_kwargs': {'max_ci':3.,\n",
      "                                'rate_ci':[1., 1.4],\n",
      "                                'span_ci':2}\n",
      "                }\n",
      "\n",
      "\n",
      "\n",
      "grid_indices = lj.get_grid_indices(grid_kwargs)\n",
      "n_sims = 1\n",
      "for param  in grid_indices.values():\n",
      "    n_sims = len(param)\n",
      "    break\n",
      "print('Total number of simulations: %i' % n_sims)\n",
      "\n"
     ],
     "language": "python",
     "metadata": {},
     "outputs": [
      {
       "output_type": "stream",
       "stream": "stdout",
       "text": [
        "Total number of simulations: 4\n"
       ]
      }
     ],
     "prompt_number": 6
    },
    {
     "cell_type": "code",
     "collapsed": false,
     "input": [
      "def single_simulation(args):\n",
      "   \n",
      "    index, params = args\n",
      "    \n",
      "    kwargs = lj.get_kwargs(index, params)\n",
      "    eptm = lj.Epithelium(graphXMLfile='../saved_graphs/xml/before_apoptosis.xml',\n",
      "                         identifier='%04i' % index)\n",
      "    eptm.dump_json(kwargs)\n",
      "    lj.gradual_apoptosis(eptm, kwargs['seq_kwargs'],\n",
      "                         kwargs['apopto_kwargs'], \n",
      "                         kwargs['post_kwargs'])\n",
      "    \n",
      "    ax = lj.plot_avg_rho(eptm, bin_width=20)\n",
      "    fig = ax.get_figure()\n",
      "    plt.savefig(os.path.join(eptm.paths['svg'],\n",
      "                             'avg_rho_%s.svg'\n",
      "                             % eptm.identifier))\n",
      "    \n",
      "    return index"
     ],
     "language": "python",
     "metadata": {},
     "outputs": [],
     "prompt_number": 7
    },
    {
     "cell_type": "code",
     "collapsed": false,
     "input": [
      "arguments = zip(range(n_sims),\n",
      "                itertools.repeat(grid_kwargs))\n",
      "results = engines.map(single_simulation, arguments)\n",
      "\n",
      "for index in results:\n",
      "    print('Done %s' % index)\n",
      "    #all_eptms[eptm.identifier] = eptm\n"
     ],
     "language": "python",
     "metadata": {},
     "outputs": [],
     "prompt_number": "*"
    },
    {
     "cell_type": "code",
     "collapsed": false,
     "input": [
      "print(rc.ids)"
     ],
     "language": "python",
     "metadata": {},
     "outputs": [
      {
       "output_type": "stream",
       "stream": "stdout",
       "text": [
        "[0, 1, 2, 3]\n"
       ]
      }
     ],
     "prompt_number": 12
    },
    {
     "cell_type": "code",
     "collapsed": false,
     "input": [
      "!ifconfig"
     ],
     "language": "python",
     "metadata": {},
     "outputs": [
      {
       "output_type": "stream",
       "stream": "stdout",
       "text": [
        "eth0      Link encap:Ethernet  HWaddr c8:60:00:68:7f:c7  \r\n",
        "          inet addr:192.168.0.26  Bcast:192.168.0.255  Mask:255.255.255.0\r\n",
        "          inet6 addr: fe80::ca60:ff:fe68:7fc7/64 Scope:Link\r\n",
        "          UP BROADCAST RUNNING MULTICAST  MTU:1500  Metric:1\r\n",
        "          RX packets:28668 errors:0 dropped:0 overruns:0 frame:0\r\n",
        "          TX packets:26380 errors:0 dropped:0 overruns:0 carrier:0\r\n",
        "          collisions:0 txqueuelen:1000 \r\n",
        "          RX bytes:19629504 (19.6 MB)  TX bytes:17691065 (17.6 MB)\r\n",
        "\r\n",
        "lo        Link encap:Local Loopback  \r\n",
        "          inet addr:127.0.0.1  Mask:255.0.0.0\r\n",
        "          inet6 addr: ::1/128 Scope:Host\r\n",
        "          UP LOOPBACK RUNNING  MTU:65536  Metric:1\r\n",
        "          RX packets:501780 errors:0 dropped:0 overruns:0 frame:0\r\n",
        "          TX packets:501780 errors:0 dropped:0 overruns:0 carrier:0\r\n",
        "          collisions:0 txqueuelen:0 \r\n",
        "          RX bytes:38494904 (38.4 MB)  TX bytes:38494904 (38.4 MB)\r\n",
        "\r\n"
       ]
      }
     ],
     "prompt_number": 15
    },
    {
     "cell_type": "code",
     "collapsed": false,
     "input": [
      "!git status"
     ],
     "language": "python",
     "metadata": {},
     "outputs": [
      {
       "output_type": "stream",
       "stream": "stdout",
       "text": [
        "# On branch master\r\n",
        "# Changes not staged for commit:\r\n",
        "#   (use \"git add <file>...\" to update what will be committed)\r\n",
        "#   (use \"git checkout -- <file>...\" to discard changes in working directory)\r\n",
        "#\r\n",
        "#\tmodified:   8 - Parameters exploration.ipynb\r\n",
        "#\tmodified:   latest.ipynb\r\n",
        "#\r\n",
        "# Untracked files:\r\n",
        "#   (use \"git add <file>...\" to include in what will be committed)\r\n",
        "#\r\n",
        "#\t../#joint_var_radial_tension.py#\r\n",
        "#\t../blender_draw/fold_movie.blend1\r\n",
        "#\t../blender_draw/fold_movie.blend2\r\n",
        "#\t../core_num_0.log\r\n",
        "#\t../core_num_1.log\r\n",
        "#\t../core_num_2.log\r\n",
        "#\t../doc/_build/\r\n",
        "#\t../doc/imgs/apopto_repartition_10cells.svg\r\n",
        "#\t../doc/imgs/apopto_repartition_5cells.svg\r\n",
        "#\t../doc/imgs/apopto_repartition_ectopic.svg\r\n",
        "#\t../doc/imgs/apopto_repartition_no_theta_bias.svg\r\n",
        "#\t../doc/imgs/apopto_repartition_random.svg\r\n",
        "#\t../doc/imgs/apoptosis_proba.svg\r\n",
        "#\t../doc/imgs/apoptosis_proba_15c_nobias.svg\r\n",
        "#\t../doc/imgs/apoptosis_proba_5_cells.svg\r\n",
        "#\t../doc/imgs/apoptosis_proba_no_theta_bias.svg\r\n",
        "#\t../doc/imgs/apoptosis_proba_width_1.8_p0_0.7_amp_0.4.svg\r\n",
        "#\t../doc/imgs/fold_depth_vs_ab_forces.svg\r\n",
        "#\t../doc/imgs/fold_depth_vs_ncells.svg\r\n",
        "#\t../doc/imgs/repartition_pie_plot.svg\r\n",
        "#\t../doc/imgs/repartition_pie_plot_in_vivo.svg\r\n",
        "#\t../doc/imgs/repartition_pie_plot_no_theta_bias.svg\r\n",
        "#\t../doc/imgs/repartition_pie_plot_not_thetas_bias.svg\r\n",
        "#\t../doc/imgs/repartitionrandom_05_cells.svg\r\n",
        "#\t../doc/imgs/repartitionrandom_05_cells_apical_tension.svg\r\n",
        "#\t../doc/imgs/repartitionrandom_10_cells.svg\r\n",
        "#\t../doc/imgs/repartitionrandom_10_cells_apical_tension.svg\r\n",
        "#\t../doc/imgs/repartitionrandom_15_cells.svg\r\n",
        "#\t../doc/imgs/repartitionrandom_20_cells.svg\r\n",
        "#\t../doc/imgs/repartitionrandom_20_cells_apical_tension.svg\r\n",
        "#\t../doc/imgs/repartitionrandom_25_cells.svg\r\n",
        "#\t../doc/imgs/repartitionrandom_30_cells.svg\r\n",
        "#\t../doc/imgs/repartitionrandom_30_cells_apical_tension.svg\r\n",
        "#\t../doc/imgs/repartitionregular_10_cells_tension_increase.svg\r\n",
        "#\t../doc/imgs/repartitionregular_10cells_gamma_1.svg\r\n",
        "#\t../doc/imgs/repartitionregular_15cells_gamma_1.svg\r\n",
        "#\t../doc/imgs/repartitionregular_20_cells_tension_increase.svg\r\n",
        "#\t../doc/imgs/repartitionregular_30_cells_tension_increase.svg\r\n",
        "#\t../doc/imgs/repartitionregular_30cells_gamma_1.svg\r\n",
        "#\t../doc/imgs/repartitionregular_5_cells_tension_increase.svg\r\n",
        "#\t../doc/imgs/repartitionregular_5cells_gamma_1.svg\r\n",
        "#\t../doc/tissue_geometry.svg\r\n",
        "#\t../joint_var_radial_tension.py\r\n",
        "#\t.png\r\n",
        "#\tlocal_apoptosis_nt.avi\r\n",
        "#\tlocal_apoptosis_t.avi\r\n",
        "#\t../project\r\n",
        "#\t../saved_graphs/0000_2014-03-01T19_48_45/\r\n",
        "#\t../saved_graphs/0001_2014-03-01T19_48_45/\r\n",
        "#\t../saved_graphs/0002_2014-03-01T19_48_45/\r\n",
        "#\t../saved_graphs/0003_2014-03-01T19_48_45/\r\n",
        "#\t../saved_graphs/avi/\r\n",
        "#\t../saved_graphs/pdf/\r\n",
        "#\t../saved_graphs/png/\r\n",
        "#\t../saved_graphs/svg/\r\n",
        "#\t../saved_graphs/xml/list_done.txt\r\n",
        "#\t../simulations.log\r\n",
        "#\t../tissue_3d.pdf\r\n",
        "#\t../tissue_sz.pdf\r\n",
        "#\t../var_tension.sh\r\n",
        "#\t../wiki/\r\n",
        "no changes added to commit (use \"git add\" and/or \"git commit -a\")\r\n"
       ]
      }
     ],
     "prompt_number": 26
    },
    {
     "cell_type": "code",
     "collapsed": false,
     "input": [
      "!git push github-remote\n",
      "\n"
     ],
     "language": "python",
     "metadata": {},
     "outputs": [
      {
       "output_type": "stream",
       "stream": "stdout",
       "text": [
        "Enter passphrase for key '/home/guillaume/.ssh/id_rsa': "
       ]
      },
      {
       "output_type": "stream",
       "stream": "stdout",
       "text": [
        "\r\n",
        "\r\n"
       ]
      }
     ],
     "prompt_number": 28
    },
    {
     "cell_type": "code",
     "collapsed": false,
     "input": [
      "!rm -Rf ../saved_graphs/xml/reg*"
     ],
     "language": "python",
     "metadata": {},
     "outputs": [],
     "prompt_number": 19
    },
    {
     "cell_type": "code",
     "collapsed": false,
     "input": [
      "!rm tiss*.pdf"
     ],
     "language": "python",
     "metadata": {},
     "outputs": [],
     "prompt_number": 20
    },
    {
     "cell_type": "code",
     "collapsed": false,
     "input": [],
     "language": "python",
     "metadata": {},
     "outputs": []
    }
   ],
   "metadata": {}
  }
 ]
}