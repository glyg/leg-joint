{
 "metadata": {
  "name": ""
 },
 "nbformat": 3,
 "nbformat_minor": 0,
 "worksheets": [
  {
   "cells": [
    {
     "cell_type": "code",
     "collapsed": false,
     "input": [
      "%load_ext autoreload\n",
      "%autoreload 2\n",
      "\n",
      "%run nb_init\n"
     ],
     "language": "python",
     "metadata": {},
     "outputs": [],
     "prompt_number": 2
    },
    {
     "cell_type": "code",
     "collapsed": false,
     "input": [
      "import itertools\n",
      "from IPython import parallel\n",
      "rc = parallel.Client()\n",
      "engines = rc[:]\n",
      "res = engines.run('nb_init.py')\n",
      "print(rc.ids)"
     ],
     "language": "python",
     "metadata": {},
     "outputs": [
      {
       "output_type": "stream",
       "stream": "stdout",
       "text": [
        "[0, 1, 2, 3, 4, 5]\n"
       ]
      }
     ],
     "prompt_number": 3
    },
    {
     "cell_type": "code",
     "collapsed": false,
     "input": [
      "### Base directories for saving, might as well have them here\n",
      "### Base directories for saving, might as well have them here\n",
      "json_dir = '../saved_graphs/jsons/'\n",
      "\n",
      "grid_kwargs =  {'seq_kwargs': {'num_cells': 1,\n",
      "                               'width_apopto':2.,\n",
      "                               'p0': 1.,\n",
      "                               'amp': 0.3,\n",
      "                               'gamma': 1.0,\n",
      "                               'seed': 1,\n",
      "                               'num_steps': 10,\n",
      "                               'ventral_bias': True,\n",
      "                               'random': True},\n",
      "                'apopto_kwargs': {'vol_reduction':0.7,\n",
      "                                  'contractility': 1.2,\n",
      "                                  'radial_tension': [0., 0.2]},\n",
      "                'post_kwargs': {'max_ci':3.,\n",
      "                                'rate_ci':[1., 1.4],\n",
      "                                'span_ci':2}\n",
      "                }\n",
      "\n",
      "\n",
      "\n",
      "grid_indices = lj.get_grid_indices(grid_kwargs)\n",
      "n_sims = 1\n",
      "for param  in grid_indices.values():\n",
      "    n_sims = len(param)\n",
      "    break\n",
      "print('Total number of simulations: %i' % n_sims)\n",
      "\n"
     ],
     "language": "python",
     "metadata": {},
     "outputs": [
      {
       "output_type": "stream",
       "stream": "stdout",
       "text": [
        "Total number of simulations: 4\n"
       ]
      }
     ],
     "prompt_number": 4
    },
    {
     "cell_type": "code",
     "collapsed": false,
     "input": [
      "def single_simulation(args):\n",
      "   \n",
      "    index, params = args\n",
      "    \n",
      "    kwargs = lj.get_kwargs(index, params)\n",
      "    eptm = lj.Epithelium(graphXMLfile='../saved_graphs/xml/before_apoptosis.xml',\n",
      "                         identifier='%04i' % index)\n",
      "    eptm.dump_json(kwargs)\n",
      "    lj.gradual_apoptosis(eptm, kwargs['seq_kwargs'],\n",
      "                         kwargs['apopto_kwargs'], \n",
      "                         kwargs['post_kwargs'])\n",
      "    \n",
      "    return index"
     ],
     "language": "python",
     "metadata": {},
     "outputs": [],
     "prompt_number": 11
    },
    {
     "cell_type": "code",
     "collapsed": false,
     "input": [
      "arguments = zip(range(n_sims),\n",
      "                itertools.repeat(grid_kwargs))\n",
      "results = engines.map(single_simulation, arguments)\n",
      "\n",
      "all_eptms = {}\n",
      "for index in results:\n",
      "    print('Done %s' % index)\n",
      "    #all_eptms[eptm.identifier] = eptm\n"
     ],
     "language": "python",
     "metadata": {},
     "outputs": [
      {
       "output_type": "stream",
       "stream": "stdout",
       "text": [
        "Done 0\n",
        "Done 1\n",
        "Done 2\n",
        "Done 3\n"
       ]
      }
     ],
     "prompt_number": 12
    },
    {
     "cell_type": "code",
     "collapsed": false,
     "input": [],
     "language": "python",
     "metadata": {},
     "outputs": []
    }
   ],
   "metadata": {}
  }
 ]
}