{
 "metadata": {
  "name": ""
 },
 "nbformat": 3,
 "nbformat_minor": 0,
 "worksheets": [
  {
   "cells": [
    {
     "cell_type": "code",
     "collapsed": false,
     "input": [
      "%load_ext autoreload\n",
      "%autoreload 2\n",
      "\n",
      "%run nb_init\n"
     ],
     "language": "python",
     "metadata": {},
     "outputs": [
      {
       "output_type": "stream",
       "stream": "stdout",
       "text": [
        "The autoreload extension is already loaded. To reload it, use:\n",
        "  %reload_ext autoreload\n"
       ]
      }
     ],
     "prompt_number": 3
    },
    {
     "cell_type": "code",
     "collapsed": false,
     "input": [
      "from IPython import parallel\n",
      "rc = parallel.Client()\n",
      "engines = rc[:]\n",
      "res = engines.run('nb_init.py')\n",
      "print(rc.ids)"
     ],
     "language": "python",
     "metadata": {},
     "outputs": [
      {
       "output_type": "stream",
       "stream": "stdout",
       "text": [
        "[0, 1, 2, 3, 4, 5, 6]\n"
       ]
      }
     ],
     "prompt_number": 4
    },
    {
     "cell_type": "code",
     "collapsed": false,
     "input": [
      "apopto_seq_keys = ['width_apopto', 'amp', 'distribution', 'ventral_bias', 'n_cells', 'gamma']\n",
      "apopto_keys = ['num_steps', 'fold_width', 'vol_reduction', 'contractility']\n",
      "post_apopto_keys = ['residual_ab_tension', 'tension_increase', 'contractility_increase']\n",
      "\n",
      " \n",
      "### Those will be the same across all simulations ran\n",
      "fixed_params =  {'width_apopto':1.8,\n",
      "                 'fold_width':4.,\n",
      "                 'residual_tension': 0.,\n",
      "                 'p0': 0.1,\n",
      "                 'amp': 0.4,\n",
      "                 'num_steps': 10.,\n",
      "                 'vol_reduction':0.8,\n",
      "                 'contractility': 1.0,\n",
      "                 'gamma': 1.0}\n",
      "\n",
      "### Those will change \n",
      "grid_params = {'n_cells': [1, 5, 10, 20, 30],\n",
      "              'radial_tension': [None, 0.1, 0.2],\n",
      "              'ventral_bias':[True, False],\n",
      "              'distribution':['regular', 'random'],\n",
      "              'residual_ab_tension': [None],\n",
      "              'tension_increase': [None, 1.4, 2., 2.8],\n",
      "              'contractility_increase': [None, 1.4, 2., 2.8]\n",
      "              }\n",
      "### We are going to reduce the size of the parameter space later on\n",
      "\n",
      "def get_param(key, fixed_params, grid_params, index, mode='fixed'):\n",
      "    '''\n",
      "    Returns the corresponding paramter value in either `fixed_params` \n",
      "    or `grid_params` dictionaries. If it's from the grid parameters,\n",
      "    the value  at position `index` is returned\n",
      "    \n",
      "    If mode is set to 'fixed', `fixed_params` will be\n",
      "    searched first (the default), it it'set to grid, the opposite will happen.\n",
      "    \n",
      "    Parameters:\n",
      "    ===========\n",
      "    \n",
      "    key: a dictionary key (usually a string)\n",
      "    fixed_params: a dictionnary containing a single value per key\n",
      "    grid_params: a dictionnary containing sequences of values per key\n",
      "    mode: {'fixed' | 'grid'} default 'fixed', dictionnary to search first\n",
      "    \n",
      "    '''\n",
      "    if mode == 'fixed':\n",
      "        if fixed_params.get(key) is None:\n",
      "            values = grid_params.get(key)\n",
      "            if values is not None:\n",
      "                return values[index]\n",
      "        return fixed_params.get(key)\n",
      "    elif mode == 'grid':\n",
      "        values = grid_params.get(key)\n",
      "        if values is None:\n",
      "            return fixes_params.get(key)\n",
      "        else:\n",
      "            return values[index]\n",
      "    \n",
      "grid_size = 1 \n",
      "for param in grid_params.values():\n",
      "    grid_size *= len(param)\n",
      "\n",
      "    \n",
      "total_apoptoses = grid_size * np.sum(grid_params['n_cells'])\n",
      "total_steps = total_apoptoses * fixed_params['num_steps']\n",
      "\n",
      "print('Total number of simulations: %i' % grid_size)\n",
      "print('Total number of apoptoses: %i' % total_apoptoses)\n",
      "print('Total number of steps: %i' % total_steps)\n"
     ],
     "language": "python",
     "metadata": {},
     "outputs": [
      {
       "output_type": "stream",
       "stream": "stdout",
       "text": [
        "Total number of simulations: 960\n",
        "Total number of apoptoses: 63360\n",
        "Total number of steps: 633600\n"
       ]
      }
     ],
     "prompt_number": 23
    },
    {
     "cell_type": "code",
     "collapsed": false,
     "input": [
      "%pdb"
     ],
     "language": "python",
     "metadata": {},
     "outputs": [
      {
       "output_type": "stream",
       "stream": "stdout",
       "text": [
        "Automatic pdb calling has been turned ON\n"
       ]
      }
     ],
     "prompt_number": 6
    },
    {
     "cell_type": "code",
     "collapsed": false,
     "input": [
      "def get_grid_indices(grid_params):\n",
      "    grid_indices = np.meshgrid(*(np.arange(len(values))\n",
      "                                 for values in grid_params.values()),\n",
      "                               indexing='ij') ## Avoids the two first axes to be swaped\n",
      "    grid_indices = {key: indices.ravel() \n",
      "                    for key, indices\n",
      "                    in zip(grid_params.keys(), grid_indices)}\n",
      "    return grid_indices\n",
      "\n",
      "def get_all_kwds(fixed_params, grid_params, grid_indices, index):\n",
      "    apopto_seq_kwds = {}\n",
      "    apopto_kwds = {}\n",
      "    post_apopto_kwds = {}\n",
      "    for key in apopto_seq_keys:\n",
      "        try:\n",
      "            param_index = grid_indices[key][index]\n",
      "        except KeyError:\n",
      "            param_index = 0\n",
      "        apopto_seq_kwds[key] = get_param(key,\n",
      "                                         fixed_params,\n",
      "                                         grid_params,\n",
      "                                         index=param_index, mode='fixed')\n",
      "    for key in apopto_keys:\n",
      "        try:\n",
      "            param_index = grid_indices[key][index]\n",
      "        except KeyError:\n",
      "            param_index = 0\n",
      "        apopto_kwds[key] = get_param(key,\n",
      "                                     fixed_params,\n",
      "                                     grid_params,\n",
      "                                     index=param_index, \n",
      "                                     mode='fixed')\n",
      "    for key in post_apopto_keys:\n",
      "        try:\n",
      "            param_index = grid_indices[key][index]\n",
      "        except KeyError:\n",
      "            param_index = 0\n",
      "        post_apopto_kwds[key] = get_param(key,\n",
      "                                          fixed_params,\n",
      "                                          grid_params,\n",
      "                                          index=param_index,\n",
      "                                          mode='fixed')\n",
      "\n",
      "    return apopto_seq_kwds, apopto_kwds, post_apopto_kwds\n",
      "\n"
     ],
     "language": "python",
     "metadata": {},
     "outputs": [],
     "prompt_number": 16
    },
    {
     "cell_type": "code",
     "collapsed": false,
     "input": [
      "def dump_json(all_kwds, index, save_dir):\n",
      "    \n",
      "    now = datetime.datetime.isoformat(\n",
      "        datetime.datetime.utcnow())\n",
      "    time_tag = '_'.join(now.split(':'))\n",
      "    identifier = '%05i_%s' % (index, time_tag)\n",
      "    json_name = os.path.join(save_dir,\n",
      "                             'params_%s.json'\n",
      "                              % identifier)\n",
      "    with open(json_name, 'w+') as json_file:\n",
      "        json.dump(all_kwds, json_file, sort_keys=True)\n",
      "        print('Wrote %s' % os.path.abspath(json_name))\n",
      "    return identifier\n",
      "\n",
      "def single_simulation(index, fixed_params, grid_params, grid_indices):\n",
      "    save_dir = '../saved_graphs/jsons/'\n",
      "    apopto_seq_kwds, apopto_kwds, post_apopto_kwds =\\\n",
      "        get_all_kwds(fixed_params, grid_params, grid_indices, index)\n",
      "    all_kwds = {'apopto_seq_kwds': apopto_seq_kwds,\n",
      "                'apopto_kwds': apopto_kwds,\n",
      "                'post_apopto_kwds': post_apopto_kwds}\n",
      "    identifier = dump_json(all_kwds, index, save_dir)\n",
      "    eptm = lj.Epithelium(\n",
      "        graphXMLfile='../saved_graphs/xml/before_apoptosis.xml',\n",
      "        paramfile='../default/params.xml')\n",
      "    print('Starting apoptosis sequence')\n",
      "    lj.gradual_apoptosis(eptm, apopto_seq_kwds,\n",
      "                         apopto_kwds, \n",
      "                         post_apopto_kwds,\n",
      "                         basepath=identifier)\n",
      "    out_xml = os.path.join(xml_dir, 'apopto_%s.xml' % identifier)\n",
      "    eptm.graph.save(out_xml)\n"
     ],
     "language": "python",
     "metadata": {},
     "outputs": [],
     "prompt_number": 18
    },
    {
     "cell_type": "code",
     "collapsed": false,
     "input": [
      "grid_indices = get_grid_indices(grid_params)\n",
      "single_simulation(0, fixed_params, grid_params, grid_indices)"
     ],
     "language": "python",
     "metadata": {},
     "outputs": [
      {
       "output_type": "stream",
       "stream": "stdout",
       "text": [
        "Wrote /home/guillaume/Python/leg-joint/saved_graphs/jsons/params_00000_2014-02-11T19_00_08.505715.json\n",
        "Starting apoptosis sequence"
       ]
      },
      {
       "ename": "TypeError",
       "evalue": "apoptosis_step() got an unexpected keyword argument 'fold_width'",
       "output_type": "pyerr",
       "traceback": [
        "\u001b[1;31m---------------------------------------------------------------------------\u001b[0m\n\u001b[1;31mTypeError\u001b[0m                                 Traceback (most recent call last)",
        "\u001b[1;32m<ipython-input-25-d91c8187ae1a>\u001b[0m in \u001b[0;36m<module>\u001b[1;34m()\u001b[0m\n\u001b[0;32m      1\u001b[0m \u001b[0mgrid_indices\u001b[0m \u001b[1;33m=\u001b[0m \u001b[0mget_grid_indices\u001b[0m\u001b[1;33m(\u001b[0m\u001b[0mgrid_params\u001b[0m\u001b[1;33m)\u001b[0m\u001b[1;33m\u001b[0m\u001b[0m\n\u001b[1;32m----> 2\u001b[1;33m \u001b[0msingle_simulation\u001b[0m\u001b[1;33m(\u001b[0m\u001b[1;36m0\u001b[0m\u001b[1;33m,\u001b[0m \u001b[0mfixed_params\u001b[0m\u001b[1;33m,\u001b[0m \u001b[0mgrid_params\u001b[0m\u001b[1;33m,\u001b[0m \u001b[0mgrid_indices\u001b[0m\u001b[1;33m)\u001b[0m\u001b[1;33m\u001b[0m\u001b[0m\n\u001b[0m",
        "\u001b[1;32m<ipython-input-18-af212dbabbda>\u001b[0m in \u001b[0;36msingle_simulation\u001b[1;34m(index, fixed_params, grid_params, grid_indices)\u001b[0m\n\u001b[0;32m     27\u001b[0m                          \u001b[0mapopto_kwds\u001b[0m\u001b[1;33m,\u001b[0m\u001b[1;33m\u001b[0m\u001b[0m\n\u001b[0;32m     28\u001b[0m                          \u001b[0mpost_apopto_kwds\u001b[0m\u001b[1;33m,\u001b[0m\u001b[1;33m\u001b[0m\u001b[0m\n\u001b[1;32m---> 29\u001b[1;33m                          basepath=identifier)\n\u001b[0m\u001b[0;32m     30\u001b[0m     \u001b[0mout_xml\u001b[0m \u001b[1;33m=\u001b[0m \u001b[0mos\u001b[0m\u001b[1;33m.\u001b[0m\u001b[0mpath\u001b[0m\u001b[1;33m.\u001b[0m\u001b[0mjoin\u001b[0m\u001b[1;33m(\u001b[0m\u001b[0mxml_dir\u001b[0m\u001b[1;33m,\u001b[0m \u001b[1;34m'apopto_%s.xml'\u001b[0m \u001b[1;33m%\u001b[0m \u001b[0midentifier\u001b[0m\u001b[1;33m)\u001b[0m\u001b[1;33m\u001b[0m\u001b[0m\n\u001b[0;32m     31\u001b[0m     \u001b[0meptm\u001b[0m\u001b[1;33m.\u001b[0m\u001b[0mgraph\u001b[0m\u001b[1;33m.\u001b[0m\u001b[0msave\u001b[0m\u001b[1;33m(\u001b[0m\u001b[0mout_xml\u001b[0m\u001b[1;33m)\u001b[0m\u001b[1;33m\u001b[0m\u001b[0m\n",
        "\u001b[1;32m/home/guillaume/Python/leg-joint/leg_joint/apoptosis.py\u001b[0m in \u001b[0;36mgradual_apoptosis\u001b[1;34m(eptm, seq_kwargs, apopto_kwargs, post_kwargs, basepath, save_pngs)\u001b[0m\n\u001b[0;32m    257\u001b[0m         \u001b[1;32mfor\u001b[0m \u001b[0ma_cell\u001b[0m \u001b[1;32min\u001b[0m \u001b[0msub_sequence\u001b[0m\u001b[1;33m:\u001b[0m\u001b[1;33m\u001b[0m\u001b[0m\n\u001b[0;32m    258\u001b[0m             \u001b[0mi\u001b[0m \u001b[1;33m+=\u001b[0m \u001b[1;36m1\u001b[0m\u001b[1;33m\u001b[0m\u001b[0m\n\u001b[1;32m--> 259\u001b[1;33m             \u001b[0mapoptosis_step\u001b[0m\u001b[1;33m(\u001b[0m\u001b[0meptm\u001b[0m\u001b[1;33m,\u001b[0m \u001b[0ma_cell\u001b[0m\u001b[1;33m,\u001b[0m \u001b[1;33m**\u001b[0m\u001b[0mapopto_kwargs\u001b[0m\u001b[1;33m)\u001b[0m\u001b[1;33m\u001b[0m\u001b[0m\n\u001b[0m\u001b[0;32m    260\u001b[0m             \u001b[1;32mif\u001b[0m \u001b[0msave_pngs\u001b[0m\u001b[1;33m:\u001b[0m\u001b[1;33m\u001b[0m\u001b[0m\n\u001b[0;32m    261\u001b[0m                 \u001b[0mto_png\u001b[0m\u001b[1;33m(\u001b[0m\u001b[0mi\u001b[0m\u001b[1;33m)\u001b[0m\u001b[1;33m\u001b[0m\u001b[0m\n",
        "\u001b[1;31mTypeError\u001b[0m: apoptosis_step() got an unexpected keyword argument 'fold_width'"
       ]
      },
      {
       "output_type": "stream",
       "stream": "stdout",
       "text": [
        "\n",
        "> \u001b[1;32m/home/guillaume/Python/leg-joint/leg_joint/apoptosis.py\u001b[0m(259)\u001b[0;36mgradual_apoptosis\u001b[1;34m()\u001b[0m\n",
        "\u001b[1;32m    258 \u001b[1;33m            \u001b[0mi\u001b[0m \u001b[1;33m+=\u001b[0m \u001b[1;36m1\u001b[0m\u001b[1;33m\u001b[0m\u001b[0m\n",
        "\u001b[0m\u001b[1;32m--> 259 \u001b[1;33m            \u001b[0mapoptosis_step\u001b[0m\u001b[1;33m(\u001b[0m\u001b[0meptm\u001b[0m\u001b[1;33m,\u001b[0m \u001b[0ma_cell\u001b[0m\u001b[1;33m,\u001b[0m \u001b[1;33m**\u001b[0m\u001b[0mapopto_kwargs\u001b[0m\u001b[1;33m)\u001b[0m\u001b[1;33m\u001b[0m\u001b[0m\n",
        "\u001b[0m\u001b[1;32m    260 \u001b[1;33m            \u001b[1;32mif\u001b[0m \u001b[0msave_pngs\u001b[0m\u001b[1;33m:\u001b[0m\u001b[1;33m\u001b[0m\u001b[0m\n",
        "\u001b[0m"
       ]
      },
      {
       "output_type": "stream",
       "stream": "stdout",
       "text": [
        "\n"
       ]
      },
      {
       "name": "stdout",
       "output_type": "stream",
       "stream": "stdout",
       "text": [
        "ipdb> c\n"
       ]
      }
     ],
     "prompt_number": 25
    },
    {
     "cell_type": "code",
     "collapsed": false,
     "input": [],
     "language": "python",
     "metadata": {},
     "outputs": []
    },
    {
     "cell_type": "code",
     "collapsed": false,
     "input": [
      "## Making chunks\n",
      "\n",
      "n_cores = len(rc.ids)\n",
      "core_num = 0\n",
      "chunk_size = grid_size // n_cores\n",
      "start = 0#core_num * chunk_size\n",
      "stop = 1(core_num + 1) * chunk_size - 1\n",
      "import json\n",
      "import time, datetime\n",
      "\n",
      "save_dir = '../saved_data/'\n",
      "xml_dir = '../saved_data/xml'\n",
      "\n",
      "for index in range(start:stop):\n",
      "    single_simulation(index, fixed_params, grid_params, grid_indices)\n",
      "    "
     ],
     "language": "python",
     "metadata": {},
     "outputs": [],
     "prompt_number": 65
    },
    {
     "cell_type": "code",
     "collapsed": false,
     "input": [
      "os.path.join('/home/guillaume/', '', 'Python')"
     ],
     "language": "python",
     "metadata": {},
     "outputs": [
      {
       "metadata": {},
       "output_type": "pyout",
       "prompt_number": 82,
       "text": [
        "'/home/guillaume/Python'"
       ]
      }
     ],
     "prompt_number": 82
    },
    {
     "cell_type": "code",
     "collapsed": false,
     "input": [],
     "language": "python",
     "metadata": {},
     "outputs": []
    }
   ],
   "metadata": {}
  }
 ]
}