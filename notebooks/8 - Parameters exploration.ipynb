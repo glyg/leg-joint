{
 "metadata": {
  "name": "8 - Parameters exploration"
 },
 "nbformat": 3,
 "nbformat_minor": 0,
 "worksheets": [
  {
   "cells": [
    {
     "cell_type": "code",
     "collapsed": false,
     "input": [
      "%load_ext autoreload\n",
      "%autoreload 2\n",
      "\n",
      "%run nb_init\n"
     ],
     "language": "python",
     "metadata": {},
     "outputs": [
      {
       "output_type": "stream",
       "stream": "stderr",
       "text": [
        "2014-05-24 10:51:12,347 -leg_joint -INFO -successfully imported leg_joint\n"
       ]
      }
     ],
     "prompt_number": 1
    },
    {
     "cell_type": "code",
     "collapsed": false,
     "input": [
      "import itertools\n",
      "from IPython import parallel\n",
      "rc = parallel.Client(profile='nbserver')\n",
      "engines = rc[:]\n",
      "res = engines.run('nb_init.py')\n",
      "print(rc.ids)"
     ],
     "language": "python",
     "metadata": {},
     "outputs": [
      {
       "output_type": "stream",
       "stream": "stdout",
       "text": [
        "[0, 1, 2, 3, 4, 5, 6, 7, 8, 9]\n"
       ]
      }
     ],
     "prompt_number": 10
    },
    {
     "cell_type": "code",
     "collapsed": false,
     "input": [
      "### Base directories for saving, might as well have them here\n",
      "### Base directories for saving, might as well have them here\n",
      "json_dir = '../saved_graphs/jsons/'\n",
      "\n",
      "grid_kwargs =  {'seq_kwargs': {'num_cells': [5, 10, 20, 30],\n",
      "                               'width_apopto':2.,\n",
      "                               'p0': 1.,\n",
      "                               'amp': 0.3,\n",
      "                               'gamma': 1.0,\n",
      "                               'seed': 1,\n",
      "                               'num_steps': 10,\n",
      "                               'ventral_bias': 0,\n",
      "                               'random': False},\n",
      "                'apopto_kwargs': {'vol_reduction': 0.7,\n",
      "                                  'contractility': 1.2,\n",
      "                                  'radial_tension': 0.1},\n",
      "                'post_kwargs': {'max_ci': [2.,],\n",
      "                                'rate_ci': 1.4,\n",
      "                                'span_ci': 2}\n",
      "                }\n",
      "\n",
      "\n",
      "\n",
      "grid_indices = lj.get_grid_indices(grid_kwargs)\n",
      "n_sims = 1\n",
      "for param  in grid_indices.values():\n",
      "    n_sims = len(param)\n",
      "    break\n",
      "print('Total number of simulations: %i' % n_sims)\n",
      "\n"
     ],
     "language": "python",
     "metadata": {},
     "outputs": [
      {
       "output_type": "stream",
       "stream": "stdout",
       "text": [
        "Total number of simulations: 4\n"
       ]
      }
     ],
     "prompt_number": 3
    },
    {
     "cell_type": "code",
     "collapsed": false,
     "input": [
      "list_kwargs = {'apopto_kwargs': {'contractility': 1.2,\n",
      "                                 'radial_tension': [0.1, 0.1, 0.1, 0.1, 0., 0.05, 0.2, 0.1, 0.1, 0.1],\n",
      "                                 'vol_reduction': 0.7},\n",
      "               'post_kwargs': {'max_ci': [2.0, 2.0, 2.0, 2.0, 2.0, 2.0, 2.0, 0., 1.0, 2.0],\n",
      "                               'rate_ci': 1.4, 'span_ci': 2},\n",
      "               'seq_kwargs': {'amp': 0.3,\n",
      "                              'gamma': 1.0,\n",
      "                              'num_cells': [5, 10, 20, 30, 30, 30, 30, 30, 30, 30],\n",
      "                              'num_steps': 10,\n",
      "                              'p0': 1.0,\n",
      "                              'random': True,\n",
      "                              'seed': 10,\n",
      "                              'ventral_bias': 0,\n",
      "                              'width_apopto': [2.0, 2.0, 2.0, 2.0, 2.0, 2.0, 2.0, 2.0, 2.0, 30.0]}\n",
      "                }\n",
      "for sub_kwarg in list_kwargs.values():\n",
      "    for key, arg in sub_kwarg.items():\n",
      "        if isinstance(arg, list):\n",
      "            print(key+' : '+str(len(arg)))"
     ],
     "language": "python",
     "metadata": {},
     "outputs": [
      {
       "output_type": "stream",
       "stream": "stdout",
       "text": [
        "radial_tension : 10\n",
        "max_ci : 10\n",
        "num_cells : 10\n",
        "width_apopto : 10\n"
       ]
      }
     ],
     "prompt_number": 17
    },
    {
     "cell_type": "code",
     "collapsed": false,
     "input": [
      "list_kwargs = {'apopto_kwargs': {'contractility': 1.2,\n",
      "                                 'radial_tension': 0.1, #[0.1, 0.1, 0.1, 0.1, 0., 0.05, 0.2, 0.1, 0.1, 0.1],\n",
      "                                 'vol_reduction': 0.7},\n",
      "               'post_kwargs': {'max_ci': [1.0, 1.5, 3.0], #, 2.0, 2.0, 2.0, 2.0, 0., 1.0, 2.0],\n",
      "                               'rate_ci': 1.4, 'span_ci': 2},\n",
      "               'seq_kwargs': {'amp': 0.3,\n",
      "                              'gamma': 1.0,\n",
      "                              'num_cells': 30,#[5, 10, 20, 30, 30, 30, 30, 30, 30, 30],\n",
      "                              'num_steps': 10,\n",
      "                              'p0': 1.0,\n",
      "                              'random': True,\n",
      "                              'seed': 10,\n",
      "                              'ventral_bias': 0,\n",
      "                              'width_apopto': 2.0}#[2.0, 2.0, 2.0, 2.0, 2.0, 2.0, 2.0, 2.0, 2.0, 30.0]}\n",
      "                }\n",
      "for sub_kwarg in list_kwargs.values():\n",
      "    for key, arg in sub_kwarg.items():\n",
      "        if isinstance(arg, list):\n",
      "            print(key+' : '+str(len(arg)))"
     ],
     "language": "python",
     "metadata": {},
     "outputs": [
      {
       "output_type": "stream",
       "stream": "stdout",
       "text": [
        "max_ci : 3\n"
       ]
      }
     ],
     "prompt_number": 6
    },
    {
     "cell_type": "code",
     "collapsed": false,
     "input": [
      "lj.get_list_kwargs(0, list_kwargs)"
     ],
     "language": "python",
     "metadata": {},
     "outputs": [
      {
       "output_type": "pyout",
       "prompt_number": 7,
       "text": [
        "{'apopto_kwargs': {'contractility': 1.2,\n",
        "  'radial_tension': 0.1,\n",
        "  'vol_reduction': 0.7},\n",
        " 'post_kwargs': {'max_ci': 1.0, 'rate_ci': 1.4, 'span_ci': 2},\n",
        " 'seq_kwargs': {'amp': 0.3,\n",
        "  'gamma': 1.0,\n",
        "  'num_cells': 30,\n",
        "  'num_steps': 10,\n",
        "  'p0': 1.0,\n",
        "  'random': True,\n",
        "  'seed': 10,\n",
        "  'ventral_bias': 0,\n",
        "  'width_apopto': 2.0}}"
       ]
      }
     ],
     "prompt_number": 7
    },
    {
     "cell_type": "code",
     "collapsed": false,
     "input": [
      "def single_simulation(args):\n",
      "   \n",
      "    index, params = args\n",
      "    \n",
      "    \n",
      "    kwargs = lj.get_list_kwargs(index, params)\n",
      "    eptm = lj.Epithelium(graphXMLfile='../saved_graphs/xml/before_apoptosis.xml',\n",
      "                         identifier='1%03i' % index)\n",
      "    eptm.isotropic_relax()\n",
      "    eptm.dump_json(kwargs)\n",
      "\n",
      "    apopto_cells, fold_cells, apopto_sequence = lj.get_apoptotic_cells(eptm, **kwargs['seq_kwargs'])\n",
      "   \n",
      "    lj.plot_repartition(eptm, apopto_cells, kwargs['seq_kwargs'])\n",
      "\n",
      "    plt.close()\n",
      "    \n",
      "    \n",
      "    lj.gradual_apoptosis(eptm, kwargs['seq_kwargs'],\n",
      "                         kwargs['apopto_kwargs'], \n",
      "                         kwargs['post_kwargs'])\n",
      "    \n",
      "    ax = lj.plot_avg_rho(eptm, bin_width=20)\n",
      "    fig = ax.get_figure()\n",
      "    plt.savefig(os.path.join(eptm.paths['svg'],\n",
      "                             'avg_rho_%s.svg'\n",
      "                             % eptm.identifier))\n",
      "    \n",
      "    return index"
     ],
     "language": "python",
     "metadata": {},
     "outputs": [],
     "prompt_number": 8
    },
    {
     "cell_type": "code",
     "collapsed": false,
     "input": [
      "arguments = [arg for arg in  \n",
      "             zip(range(3),\n",
      "             itertools.repeat(list_kwargs))]\n",
      "results = engines.map(single_simulation, arguments)\n",
      "\n",
      "for index in results:\n",
      "    print('Done %s' % index)\n",
      "    #all_eptms[eptm.identifier] = eptm"
     ],
     "language": "python",
     "metadata": {},
     "outputs": [],
     "prompt_number": "*"
    },
    {
     "cell_type": "code",
     "collapsed": false,
     "input": [],
     "language": "python",
     "metadata": {},
     "outputs": []
    }
   ],
   "metadata": {}
  }
 ]
}