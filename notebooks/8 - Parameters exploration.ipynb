{
 "metadata": {
  "name": ""
 },
 "nbformat": 3,
 "nbformat_minor": 0,
 "worksheets": [
  {
   "cells": [
    {
     "cell_type": "code",
     "collapsed": false,
     "input": [
      "%load_ext autoreload\n",
      "%autoreload 2\n",
      "\n",
      "%run nb_init\n"
     ],
     "language": "python",
     "metadata": {},
     "outputs": [
      {
       "output_type": "stream",
       "stream": "stdout",
       "text": [
        "The autoreload extension is already loaded. To reload it, use:\n",
        "  %reload_ext autoreload\n"
       ]
      }
     ],
     "prompt_number": 2
    },
    {
     "cell_type": "code",
     "collapsed": false,
     "input": [
      "from IPython import parallel\n",
      "rc = parallel.Client()\n",
      "engines = rc[:]\n",
      "res = engines.run('nb_init.py')\n",
      "print(rc.ids)"
     ],
     "language": "python",
     "metadata": {},
     "outputs": [
      {
       "output_type": "stream",
       "stream": "stdout",
       "text": [
        "[0, 1, 2, 3, 4, 5, 6]\n"
       ]
      }
     ],
     "prompt_number": 3
    },
    {
     "cell_type": "code",
     "collapsed": false,
     "input": [
      "seq_keys = ['width_apopto', 'amp', 'distribution', 'ventral_bias', 'num_cells', 'num_steps', 'gamma', 'seed']\n",
      "apopto_keys = ['vol_reduction', 'contractility', 'radial_tension']\n",
      "post_keys = ['residual_ab_tension', 'tension_increase', 'contractility_increase']\n",
      "\n",
      " \n",
      "### Those will be the same across all simulations ran\n",
      "fixed_params =  {'width_apopto':1.8,\n",
      "                 'fold_width':4.,\n",
      "                 'residual_tension': 0.,\n",
      "                 'p0': 0.1,\n",
      "                 'amp': 0.4,\n",
      "                 'num_steps': 10,\n",
      "                 'vol_reduction':0.6,\n",
      "                 'contractility': 1.0,\n",
      "                 'gamma': 1.0,\n",
      "                 'seed': 0}\n",
      "\n",
      "### Those will change \n",
      "grid_params = {'num_cells': [1, 5, 10, 20, 30],\n",
      "              'radial_tension': [0, 0.1, 0.2],\n",
      "              'ventral_bias':[True, False],\n",
      "              'distribution':['regular', 'random'],\n",
      "              'residual_ab_tension': [None],\n",
      "              'tension_increase': [None, 1.4, 2., 2.8],\n",
      "              'contractility_increase': [None, 1.4, 2., 2.8]\n",
      "              }\n",
      "### We are going to reduce the size of the parameter space later on\n",
      "    \n",
      "grid_size = 1 \n",
      "for param in grid_params.values():\n",
      "    grid_size *= len(param)\n",
      "\n",
      "    \n",
      "total_apoptoses = grid_size * np.sum(grid_params['num_cells'])\n",
      "total_steps = total_apoptoses * fixed_params['num_steps']\n",
      "\n",
      "print('Total number of simulations: %i' % grid_size)\n",
      "print('Total number of apoptoses: %i' % total_apoptoses)\n",
      "print('Total number of steps: %i' % total_steps)\n"
     ],
     "language": "python",
     "metadata": {},
     "outputs": [
      {
       "output_type": "stream",
       "stream": "stdout",
       "text": [
        "Total number of simulations: 960\n",
        "Total number of apoptoses: 63360\n",
        "Total number of steps: 633600\n"
       ]
      }
     ],
     "prompt_number": 46
    },
    {
     "cell_type": "code",
     "collapsed": false,
     "input": [
      "\n",
      "\n",
      "def single_simulation(index, fixed_params,\n",
      "                      grid_params, grid_indices,\n",
      "                      seq_keys, apopto_keys, post_keys):\n",
      "    \n",
      "    json_dir = '../saved_graphs/jsons/'\n",
      "    xml_dir = '../saved_graphs/xml/'\n",
      "    apopto_seq_kwds, apopto_kwds, post_apopto_kwds =\\\n",
      "        lj.get_all_kwds(index, fixed_params,\n",
      "                        grid_params, grid_indices,\n",
      "                        seq_keys, apopto_keys, post_keys)\n",
      "        \n",
      "    all_kwds = {'apopto_seq_kwds': apopto_seq_kwds,\n",
      "                'apopto_kwds': apopto_kwds,\n",
      "                'post_apopto_kwds': post_apopto_kwds}\n",
      "    identifier = lj.dump_json(all_kwds, index, json_dir)\n",
      "    eptm = lj.Epithelium(\n",
      "        graphXMLfile='../saved_graphs/xml/before_apoptosis.xml',\n",
      "        paramfile='../default/params.xml')\n",
      "    print('Starting apoptosis sequence')\n",
      "    lj.gradual_apoptosis(eptm, apopto_seq_kwds,\n",
      "                         apopto_kwds, \n",
      "                         post_apopto_kwds,\n",
      "                         basepath=identifier)\n",
      "    out_xml = os.path.join(xml_dir, 'apopto_%s.xml' % identifier)\n",
      "    eptm.graph.save(out_xml)\n"
     ],
     "language": "python",
     "metadata": {},
     "outputs": [],
     "prompt_number": 39
    },
    {
     "cell_type": "code",
     "collapsed": false,
     "input": [
      "lj.get_all_kwds(0, fixed_params,\n",
      "                grid_params, grid_indices,\n",
      "                seq_keys, apopto_keys, post_keys)"
     ],
     "language": "python",
     "metadata": {},
     "outputs": [
      {
       "metadata": {},
       "output_type": "pyout",
       "prompt_number": 40,
       "text": [
        "({'amp': 0.4,\n",
        "  'distribution': 'regular',\n",
        "  'gamma': 1.0,\n",
        "  'num_cells': None,\n",
        "  'num_steps': 10.0,\n",
        "  'ventral_bias': True,\n",
        "  'width_apopto': 1.8},\n",
        " {'contractility': 1.0, 'radial_tension': 0, 'vol_reduction': 0.8},\n",
        " {'contractility_increase': None,\n",
        "  'residual_ab_tension': None,\n",
        "  'tension_increase': None})"
       ]
      }
     ],
     "prompt_number": 40
    },
    {
     "cell_type": "code",
     "collapsed": false,
     "input": [
      "%pdb"
     ],
     "language": "python",
     "metadata": {},
     "outputs": [
      {
       "output_type": "stream",
       "stream": "stdout",
       "text": [
        "Automatic pdb calling has been turned ON\n"
       ]
      }
     ],
     "prompt_number": 19
    },
    {
     "cell_type": "code",
     "collapsed": false,
     "input": [
      "grid_indices = lj.get_grid_indices(grid_params)\n",
      "single_simulation(0, fixed_params, grid_params, grid_indices,\n",
      "                  seq_keys, apopto_keys, post_keys)"
     ],
     "language": "python",
     "metadata": {},
     "outputs": [
      {
       "output_type": "stream",
       "stream": "stdout",
       "text": [
        "Wrote /home/guillaume/Python/leg-joint/saved_graphs/jsons/params_00000_2014-02-12T12_25_15.751799.json\n",
        "Starting apoptosis sequence"
       ]
      },
      {
       "output_type": "stream",
       "stream": "stdout",
       "text": [
        "\n",
        "1"
       ]
      },
      {
       "output_type": "stream",
       "stream": "stdout",
       "text": [
        " 10\n",
        "new vertex 5123"
       ]
      },
      {
       "output_type": "stream",
       "stream": "stdout",
       "text": [
        "\n",
        "solving 1 rosettes"
       ]
      },
      {
       "output_type": "stream",
       "stream": "stdout",
       "text": [
        "\n"
       ]
      }
     ],
     "prompt_number": 48
    },
    {
     "cell_type": "code",
     "collapsed": false,
     "input": [],
     "language": "python",
     "metadata": {},
     "outputs": []
    },
    {
     "cell_type": "code",
     "collapsed": false,
     "input": [
      "## Making chunks\n",
      "\n",
      "n_cores = len(rc.ids)\n",
      "core_num = 0\n",
      "chunk_size = grid_size // n_cores\n",
      "start = 0#core_num * chunk_size\n",
      "stop = 1(core_num + 1) * chunk_size - 1\n",
      "import json\n",
      "import time, datetime\n",
      "\n",
      "save_dir = '../saved_data/'\n",
      "xml_dir = '../saved_data/xml'\n",
      "\n",
      "for index in range(start:stop):\n",
      "    single_simulation(index, fixed_params, grid_params, grid_indices)\n",
      "    "
     ],
     "language": "python",
     "metadata": {},
     "outputs": [],
     "prompt_number": 65
    },
    {
     "cell_type": "code",
     "collapsed": false,
     "input": [
      "os.path.join('/home/guillaume/', '', 'Python')"
     ],
     "language": "python",
     "metadata": {},
     "outputs": [
      {
       "metadata": {},
       "output_type": "pyout",
       "prompt_number": 82,
       "text": [
        "'/home/guillaume/Python'"
       ]
      }
     ],
     "prompt_number": 82
    },
    {
     "cell_type": "code",
     "collapsed": false,
     "input": [],
     "language": "python",
     "metadata": {},
     "outputs": []
    }
   ],
   "metadata": {}
  }
 ]
}