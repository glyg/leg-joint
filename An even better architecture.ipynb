{
 "metadata": {
  "name": "An even better architecture"
 }, 
 "nbformat": 2, 
 "worksheets": [
  {
   "cells": [
    {
     "cell_type": "code", 
     "collapsed": false, 
     "input": [
      "from dynamics import Epithelium", 
      "eptm = Epithelium(paramfile='default/few_big_cells.xml')", 
      "eptm.graph.list_properties()"
     ], 
     "language": "python", 
     "outputs": [], 
     "prompt_number": 2
    }, 
    {
     "cell_type": "code", 
     "collapsed": true, 
     "input": [
      "%run graph_representation.py"
     ], 
     "language": "python", 
     "outputs": [], 
     "prompt_number": 1
    }, 
    {
     "cell_type": "code", 
     "collapsed": true, 
     "input": [
      "plot_cells_sz(eptm, vfilt=None)"
     ], 
     "language": "python", 
     "outputs": [], 
     "prompt_number": 3
    }, 
    {
     "cell_type": "code", 
     "collapsed": false, 
     "input": [
      "cell = eptm.graph.vertex(53)", 
      "for neigh in eptm.ordered_neighbours(cell):", 
      "    sz_pos = eptm.sz_pos()", 
      "    if eptm.is_cell_vert[neigh]:", 
      "        print 'cell %s @ (%.2f, %.2f)' % (neigh,", 
      "                                          sz_pos[neigh][0],", 
      "                                          sz_pos[neigh][1])    ", 
      "    else: ", 
      "        eptm.graph.set_edge_filter(None)", 
      "        print 'junction %s @ (%.2f, %.2f)' %(neigh,", 
      "                                             sz_pos[neigh][0],", 
      "                                             sz_pos[neigh][1])"
     ], 
     "language": "python", 
     "outputs": [], 
     "prompt_number": 4
    }, 
    {
     "cell_type": "code", 
     "collapsed": true, 
     "input": [
      "eptm.set_local_mask(cell)", 
      "plot_cells_sz(eptm, vfilt=eptm.is_local_vert)"
     ], 
     "language": "python", 
     "outputs": [], 
     "prompt_number": 5
    }, 
    {
     "cell_type": "code", 
     "collapsed": true, 
     "input": [
      "je_filter = eptm.is_cell_vert.copy()", 
      "je_filter.a = (1 - eptm.is_cell_vert.a) * eptm.is_local_vert.a", 
      "eptm.graph.set_vertex_filter(je_filter)", 
      "lines = plot(eptm.sigmas.fa, eptm.zeds.fa, 'ro')"
     ], 
     "language": "python", 
     "outputs": []
    }
   ]
  }
 ]
}