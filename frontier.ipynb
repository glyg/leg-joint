{
 "metadata": {
  "name": "frontier"
 }, 
 "nbformat": 2, 
 "worksheets": [
  {
   "cells": [
    {
     "cell_type": "code", 
     "collapsed": false, 
     "input": [
      "from dynamics import Epithelium", 
      "eptm = Epithelium(paramfile='default/few_big_cells.xml')", 
      "import graph_tool.all as gt", 
      "graph = gt.load_graph('generation.xml')", 
      "eptm.graph = graph.copy()", 
      "", 
      "import matplotlib.pyplot as plt", 
      "", 
      "eptm.periodic_boundary_condition()", 
      "eptm.update_deltas()"
     ], 
     "language": "python", 
     "outputs": [
      {
       "output_type": "stream", 
       "stream": "stdout", 
       "text": [
        "2 triangles were dropped", 
        "2 junction edges were dropped"
       ]
      }, 
      {
       "output_type": "stream", 
       "stream": "stdout", 
       "text": [
        "", 
        "Scaling all the distances by a factor 0.777"
       ]
      }, 
      {
       "output_type": "stream", 
       "stream": "stdout", 
       "text": [
        ""
       ]
      }
     ], 
     "prompt_number": 31
    }, 
    {
     "cell_type": "code", 
     "collapsed": true, 
     "input": [
      "%run graph_representation.py"
     ], 
     "language": "python", 
     "outputs": [], 
     "prompt_number": 34
    }, 
    {
     "cell_type": "code", 
     "collapsed": false, 
     "input": [
      "eptm.graph.set_edge_filter(None)", 
      "edge_zeds = eptm.graph.new_edge_property('float')", 
      "edge_sigmas = eptm.graph.new_edge_property('float')", 
      "raw_dsigmas = eptm.graph.new_edge_property('float')", 
      "for edge in eptm.graph.edges():", 
      "    src, trgt = edge.source(), edge.target()", 
      "    edge_zeds[edge] = np.min((eptm.zeds[src], ", 
      "                              eptm.zeds[trgt])) ", 
      "    edge_sigmas[edge] = np.min((eptm.sigmas[src], ", 
      "                                eptm.sigmas[trgt]))", 
      "    raw_dsigmas[edge] = eptm.sigmas[src]- eptm.sigmas[trgt]"
     ], 
     "language": "python", 
     "outputs": [], 
     "prompt_number": 98
    }, 
    {
     "cell_type": "code", 
     "collapsed": false, 
     "input": [
      "figure()", 
      "plot(edge_zeds.a, raw_dsigmas.a, 'o', alpha = 0.2)", 
      "efilt = eptm.is_junction_edge.copy()", 
      "efilt.a *= eptm.at_boundary.a", 
      "eptm.graph.set_edge_filter(efilt)", 
      "plot(edge_zeds.fa, raw_dsigmas.fa, 'k+', alpha = 0.8)", 
      "", 
      "eptm.graph.set_edge_filter(None)"
     ], 
     "language": "python", 
     "outputs": [], 
     "prompt_number": 103
    }, 
    {
     "cell_type": "code", 
     "collapsed": false, 
     "input": [
      "dsigmadz_hist, zedbins, sigmabins = histogram2d(edge_zeds.a,", 
      "                                                raw_dsigmas.a,", 
      "                                                bins=128)", 
      "", 
      "first_period = dsigmadz_hist[:,32:96]", 
      "second_period = dsigmadz_hist[:,:32] + dsigmadz_hist[:,96:] ", 
      "n1 = first_period.sum()", 
      "n2 = second_period.sum()", 
      "print n1, n2", 
      "figure()", 
      "plot(first_period.sum(axis=0))) # / n1)", 
      "plot(second_period.sum(axis=0)) #/ n2) ", 
      "", 
      "#dsigmadz_hist[:64,:] *= n1 / n2"
     ], 
     "language": "python", 
     "outputs": [
      {
       "output_type": "stream", 
       "stream": "stdout", 
       "text": [
        "0.0 1836.0"
       ]
      }, 
      {
       "output_type": "stream", 
       "stream": "stderr", 
       "text": [
        "-c:11: RuntimeWarning: invalid value encountered in divide"
       ]
      }, 
      {
       "output_type": "pyout", 
       "prompt_number": 173, 
       "text": [
        "[<matplotlib.lines.Line2D at 0x13a96f8c>]"
       ]
      }
     ], 
     "prompt_number": 173
    }, 
    {
     "cell_type": "code", 
     "collapsed": false, 
     "input": [
      "fig, axes = plt.subplots(1,2, sharey=True)", 
      "hist_axis = axes[0]", 
      "hist_axis.imshow(dsigmadz_hist.T, extent=[zedbins[0], zedbins[-1],", 
      "                                          sigmabins[0], sigmabins[-1]],", 
      "                 origin='lower',", 
      "                 zorder=0)", 
      "hist_axis.plot(edge_zeds.a, raw_dsigmas.a, 'k+', alpha = 0.1)", 
      "efilt = eptm.is_junction_edge.copy()", 
      "efilt.a *= eptm.at_boundary.a", 
      "eptm.graph.set_edge_filter(efilt)", 
      "hist_axis.plot(edge_zeds.fa, raw_dsigmas.fa, 'r+', alpha = 0.8)", 
      "hist_axis.set_ylabel(r'Raw edge displacement along coordiante $\\sigma$ $\\Delta\\sigma$')", 
      "hist_axis.set_xlabel(r'Postion of the edge origin along the $z$ axis')", 
      "eptm.graph.set_edge_filter(None)", 
      "proj_axis = axes[1]", 
      "zed_proj_hist = dsigmadz_hist.sum(axis=0)", 
      "proj_axis.plot(zed_proj_hist, sigmabins[:-1],  'k-', lw=3, alpha=0.8)", 
      "proj_axis.set_xlabel(r'Bin count')"
     ], 
     "language": "python", 
     "outputs": [
      {
       "output_type": "pyout", 
       "prompt_number": 164, 
       "text": [
        "<matplotlib.text.Text at 0x13c1104c>"
       ]
      }
     ], 
     "prompt_number": 164
    }, 
    {
     "cell_type": "code", 
     "collapsed": true, 
     "input": [], 
     "language": "python", 
     "outputs": [], 
     "prompt_number": 134
    }, 
    {
     "cell_type": "code", 
     "collapsed": false, 
     "input": [
      "print dsigmadz_hist[0].shape", 
      "print dsigmadz_hist[2].shape"
     ], 
     "language": "python", 
     "outputs": [
      {
       "output_type": "stream", 
       "stream": "stdout", 
       "text": [
        "(50, 50)", 
        "(51,)"
       ]
      }
     ], 
     "prompt_number": 110
    }, 
    {
     "cell_type": "code", 
     "collapsed": false, 
     "input": [
      "fig, axes = plt.subplots(2,1, figsize=)", 
      "plot((dsigmadz_hist[2][:-1]", 
      "      +dsigmadz_hist[2][1:]) / 2, dsigmadz_hist[0].sum(axis=0), 'o')", 
      "eptm.graph.set_edge_filter(eptm.at_boundary)", 
      "dsigmadz_hist = histogram2d(edge_zeds.fa,", 
      "                            raw_dsigmas.fa,", 
      "                            bins=10)", 
      "plot((dsigmadz_hist[2][:-1]", 
      "      +dsigmadz_hist[2][1:]) / 2, dsigmadz_hist[0].sum(axis=0), 'o')", 
      ""
     ], 
     "language": "python", 
     "outputs": [
      {
       "output_type": "pyout", 
       "prompt_number": 115, 
       "text": [
        "[<matplotlib.lines.Line2D at 0x117aafec>]"
       ]
      }
     ], 
     "prompt_number": 115
    }, 
    {
     "cell_type": "code", 
     "collapsed": false, 
     "input": [
      "fig, ax = plt.subplots(1,1)", 
      "plot_cells_sz(eptm, ax, text=False)"
     ], 
     "language": "python", 
     "outputs": [
      {
       "output_type": "pyout", 
       "prompt_number": 38, 
       "text": [
        "<matplotlib.axes.AxesSubplot at 0xfc1df8c>"
       ]
      }
     ], 
     "prompt_number": 38
    }, 
    {
     "cell_type": "code", 
     "collapsed": false, 
     "input": [
      "eptm.graph.set_vertex_filter(eptm.is_cell_vert, ", 
      "                             inverted=True)", 
      "mid_z = (eptm.zeds.fa.min() +  eptm.zeds.fa.max())/2.", 
      "index = np.abs(eptm.zeds.fa - mid_z).argmin()", 
      "closer_z = eptm.zeds.fa[index]", 
      "on_frontier = eptm.graph.new_edge_property(\"bool\")", 
      "on_frontier.fa = 0", 
      "eptm.graph.set_edge_filter(eptm.is_junction_edge)", 
      "on_frontier_vert = eptm.graph.new_vertex_property(\"bool\")", 
      "on_frontier_vert.fa = 0", 
      "for edge in eptm.junctions:", 
      "    z_src = eptm.zeds[edge.source()]", 
      "    z_trgt = eptm.zeds[edge.target()]", 
      "    s_src = eptm.sigmas[edge.source()]", 
      "    s_trgt = eptm.sigmas[edge.target()]", 
      "    if abs(z_src - closer_z) < 1e-2:", 
      "        on_frontier[edge] = 1 if np.abs(s_src-s_trgt) > 1e-6 else 0", 
      "    elif abs(z_trgt - closer_z) < 1e-2:", 
      "        on_frontier[edge] = 1 if np.abs(s_src-s_trgt) > 1e-6 else 0", 
      "        ", 
      "print on_frontier.fa.sum()", 
      "eptm.graph.set_vertex_filter(None)", 
      "eptm.graph.set_edge_filter(None)"
     ], 
     "language": "python", 
     "outputs": [
      {
       "output_type": "stream", 
       "stream": "stdout", 
       "text": [
        "18"
       ]
      }
     ], 
     "prompt_number": 20
    }, 
    {
     "cell_type": "code", 
     "collapsed": true, 
     "input": [
      "for edge in eptm.graph.edges():", 
      "    if on_frontier[edge]:", 
      "        for cell in eptm.adjacent_cells(edge):", 
      "            on_frontier_vert[cell] = 1", 
      "        on_frontier_vert[edge.source()] = 1", 
      "        on_frontier_vert[edge.target()] = 1"
     ], 
     "language": "python", 
     "outputs": [], 
     "prompt_number": 21
    }, 
    {
     "cell_type": "code", 
     "collapsed": true, 
     "input": [
      "plot(edge_zed_pos.a, dsigmas_raw, 'o') "
     ], 
     "language": "python", 
     "outputs": []
    }, 
    {
     "cell_type": "code", 
     "collapsed": true, 
     "input": [
      "ax = plot_cells_sz(eptm, ax=None, vfilt=on_frontier_vert, ", 
      "                   efilt=on_frontier)"
     ], 
     "language": "python", 
     "outputs": [], 
     "prompt_number": 22
    }, 
    {
     "cell_type": "code", 
     "collapsed": true, 
     "input": [
      "eptm.graph.set_edge_filter(on_frontier)", 
      "eptm.junctions.line_tensions.fa *= 4.", 
      "eptm.graph.set_edge_filter(None)"
     ], 
     "language": "python", 
     "outputs": [], 
     "prompt_number": 23
    }, 
    {
     "cell_type": "code", 
     "collapsed": true, 
     "input": [
      "eptm.graph.set_vertex_filter(on_frontier_vert)", 
      "for v in eptm.graph.vertices():", 
      "    if eptm.is_cell_vert[v]:", 
      "        eptm.set_local_mask(v)"
     ], 
     "language": "python", 
     "outputs": [], 
     "prompt_number": 24
    }, 
    {
     "cell_type": "code", 
     "collapsed": false, 
     "input": [
      "ax = plot_cells_sz(eptm, ax=None,", 
      "                   vfilt=eptm.is_local_vert,", 
      "                   efilt=eptm.is_local_edge)", 
      "eptm.update_gradient()", 
      "plot_gradients(eptm, ax)"
     ], 
     "language": "python", 
     "outputs": [
      {
       "output_type": "pyout", 
       "prompt_number": 32, 
       "text": [
        "<matplotlib.axes.AxesSubplot at 0xcba410c>"
       ]
      }
     ], 
     "prompt_number": 32
    }, 
    {
     "cell_type": "code", 
     "collapsed": false, 
     "input": [
      "pos0, pos1 = eptm.find_energy_min(tol=1e-8)", 
      "plot_cells_sz(eptm, ax, vfilt=eptm.is_local_vert, ", 
      "              efilt=eptm.is_local_edge)"
     ], 
     "language": "python", 
     "outputs": [
      {
       "output_type": "stream", 
       "stream": "stdout", 
       "text": [
        "(54, 2)"
       ]
      }, 
      {
       "output_type": "pyout", 
       "prompt_number": 27, 
       "text": [
        "<matplotlib.axes.AxesSubplot at 0xbf2eb0c>"
       ]
      }
     ], 
     "prompt_number": 27
    }, 
    {
     "cell_type": "code", 
     "collapsed": true, 
     "input": [
      "#eptm.update_gradient()", 
      "fig, ax = plt.subplots(1,1)", 
      "eptm_ax = plot_cells_sz(eptm, ax, efilt=None)", 
      "from matplotlib.patches import Ellipse", 
      "eptm.graph.set_vertex_filter(eptm.is_cell_vert, inverted=True)", 
      "", 
      "max_rad = eptm.radial_grad.fa.max()", 
      "for s,z,rad in zip(eptm.sigmas.fa, eptm.zeds.fa, eptm.radial_grad.fa):", 
      "    size = rad / max_rad ", 
      "    rect = Ellipse([s - size / 2, z - size / 2], ", 
      "                   size, size,", 
      "                   facecolor='b', edgecolor='None', alpha = 0.8)", 
      "    ax.add_patch(rect)", 
      "ax.autoscale_view()"
     ], 
     "language": "python", 
     "outputs": [], 
     "prompt_number": 26
    }, 
    {
     "cell_type": "code", 
     "collapsed": false, 
     "input": [
      "eptm.graph.set_vertex_filter(eptm.is_cell_vert, inverted=True)", 
      "plot(eptm.zeds.fa, eptm.radial_grad.fa, 'o')"
     ], 
     "language": "python", 
     "outputs": [
      {
       "output_type": "pyout", 
       "prompt_number": 30, 
       "text": [
        "[<matplotlib.lines.Line2D at 0xcb1f3cc>]"
       ]
      }
     ], 
     "prompt_number": 30
    }, 
    {
     "cell_type": "code", 
     "collapsed": false, 
     "input": [
      "epithelium_draw(eptm)"
     ], 
     "language": "python", 
     "outputs": [
      {
       "output_type": "stream", 
       "stream": "stdout", 
       "text": [
        "162", 
        "162", 
        "234", 
        "486"
       ]
      }
     ], 
     "prompt_number": 31
    }, 
    {
     "cell_type": "code", 
     "collapsed": true, 
     "input": [
      "from scipy.interpolate import splrep, splev"
     ], 
     "language": "python", 
     "outputs": [], 
     "prompt_number": 33
    }, 
    {
     "cell_type": "code", 
     "collapsed": false, 
     "input": [
      "grad_tck = splrep(eptm.zeds.fa, eptm.radial_grad.fa, k=3)"
     ], 
     "language": "python", 
     "outputs": [
      {
       "ename": "ValueError", 
       "evalue": "    Error on input data", 
       "output_type": "pyerr", 
       "traceback": [
        "\u001b[0;31m---------------------------------------------------------------------------\u001b[0m\n\u001b[0;31mValueError\u001b[0m                                Traceback (most recent call last)", 
        "\u001b[0;32m/home/guillaume/Python/Drosophila/leg_joint/<ipython-input-34-4d4be4bb38f6>\u001b[0m in \u001b[0;36m<module>\u001b[0;34m()\u001b[0m\n\u001b[0;32m----> 1\u001b[0;31m \u001b[0mgrad_tck\u001b[0m \u001b[0;34m=\u001b[0m \u001b[0msplrep\u001b[0m\u001b[0;34m(\u001b[0m\u001b[0meptm\u001b[0m\u001b[0;34m.\u001b[0m\u001b[0mzeds\u001b[0m\u001b[0;34m.\u001b[0m\u001b[0mfa\u001b[0m\u001b[0;34m,\u001b[0m \u001b[0meptm\u001b[0m\u001b[0;34m.\u001b[0m\u001b[0mradial_grad\u001b[0m\u001b[0;34m.\u001b[0m\u001b[0mfa\u001b[0m\u001b[0;34m,\u001b[0m \u001b[0mk\u001b[0m\u001b[0;34m=\u001b[0m\u001b[0;36m3\u001b[0m\u001b[0;34m)\u001b[0m\u001b[0;34m\u001b[0m\u001b[0m\n\u001b[0m", 
        "\u001b[0;32m/usr/lib/python2.7/dist-packages/scipy/interpolate/fitpack.pyc\u001b[0m in \u001b[0;36msplrep\u001b[0;34m(x, y, w, xb, xe, k, task, s, t, full_output, per, quiet)\u001b[0m\n\u001b[1;32m    463\u001b[0m         \u001b[0;32melse\u001b[0m\u001b[0;34m:\u001b[0m\u001b[0;34m\u001b[0m\u001b[0m\n\u001b[1;32m    464\u001b[0m             \u001b[0;32mtry\u001b[0m\u001b[0;34m:\u001b[0m\u001b[0;34m\u001b[0m\u001b[0m\n\u001b[0;32m--> 465\u001b[0;31m                 \u001b[0;32mraise\u001b[0m \u001b[0m_iermess\u001b[0m\u001b[0;34m[\u001b[0m\u001b[0mier\u001b[0m\u001b[0;34m]\u001b[0m\u001b[0;34m[\u001b[0m\u001b[0;36m1\u001b[0m\u001b[0;34m]\u001b[0m\u001b[0;34m(\u001b[0m\u001b[0m_iermess\u001b[0m\u001b[0;34m[\u001b[0m\u001b[0mier\u001b[0m\u001b[0;34m]\u001b[0m\u001b[0;34m[\u001b[0m\u001b[0;36m0\u001b[0m\u001b[0;34m]\u001b[0m\u001b[0;34m)\u001b[0m\u001b[0;34m\u001b[0m\u001b[0m\n\u001b[0m\u001b[1;32m    466\u001b[0m             \u001b[0;32mexcept\u001b[0m \u001b[0mKeyError\u001b[0m\u001b[0;34m:\u001b[0m\u001b[0;34m\u001b[0m\u001b[0m\n\u001b[1;32m    467\u001b[0m                 \u001b[0;32mraise\u001b[0m \u001b[0m_iermess\u001b[0m\u001b[0;34m[\u001b[0m\u001b[0;34m'unknown'\u001b[0m\u001b[0;34m]\u001b[0m\u001b[0;34m[\u001b[0m\u001b[0;36m1\u001b[0m\u001b[0;34m]\u001b[0m\u001b[0;34m(\u001b[0m\u001b[0m_iermess\u001b[0m\u001b[0;34m[\u001b[0m\u001b[0;34m'unknown'\u001b[0m\u001b[0;34m]\u001b[0m\u001b[0;34m[\u001b[0m\u001b[0;36m0\u001b[0m\u001b[0;34m]\u001b[0m\u001b[0;34m)\u001b[0m\u001b[0;34m\u001b[0m\u001b[0m\n", 
        "\u001b[0;31mValueError\u001b[0m:     Error on input data"
       ]
      }
     ], 
     "prompt_number": 34
    }, 
    {
     "cell_type": "code", 
     "collapsed": true, 
     "input": [
      "eptm.graph.set_vertex_filter(eptm.is_cell_vert, inverted=True)", 
      "z_index = np.argsort(eptm.zeds.fa)", 
      "zeds = eptm.zeds.fa.take(z_index)", 
      "r_grd = eptm.radial_grad.fa.take(z_index)"
     ], 
     "language": "python", 
     "outputs": [], 
     "prompt_number": 37
    }, 
    {
     "cell_type": "code", 
     "collapsed": false, 
     "input": [
      "plot(zeds, r_grd, '-')"
     ], 
     "language": "python", 
     "outputs": [
      {
       "output_type": "pyout", 
       "prompt_number": 38, 
       "text": [
        "[<matplotlib.lines.Line2D at 0xd0aef6c>]"
       ]
      }
     ], 
     "prompt_number": 38
    }, 
    {
     "cell_type": "code", 
     "collapsed": true, 
     "input": [
      "grad_tck = splrep( zeds, r_grd, k=3, s=1)"
     ], 
     "language": "python", 
     "outputs": [], 
     "prompt_number": 51
    }, 
    {
     "cell_type": "code", 
     "collapsed": false, 
     "input": [
      "zeds_smth= linspace(-20,20,50)", 
      "figure(3)", 
      "plot(zeds_smth, splev(zeds_smth, grad_tck))"
     ], 
     "language": "python", 
     "outputs": [
      {
       "output_type": "pyout", 
       "prompt_number": 53, 
       "text": [
        "[<matplotlib.lines.Line2D at 0xd1d54cc>]"
       ]
      }
     ], 
     "prompt_number": 53
    }, 
    {
     "cell_type": "code", 
     "collapsed": true, 
     "input": [
      "from scipy.interpolate import UnivariateSpline"
     ], 
     "language": "python", 
     "outputs": [], 
     "prompt_number": 48
    }
   ]
  }
 ]
}