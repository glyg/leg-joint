{
 "metadata": {
  "name": "frontier"
 }, 
 "nbformat": 2, 
 "worksheets": [
  {
   "cells": [
    {
     "cell_type": "code", 
     "collapsed": false, 
     "input": [
      "from dynamics import Epithelium", 
      "eptm = Epithelium(paramfile='default/few_big_cells.xml')"
     ], 
     "language": "python", 
     "outputs": [
      {
       "output_type": "stream", 
       "stream": "stdout", 
       "text": [
        "2 triangles were dropped", 
        "2 junction edges were dropped"
       ]
      }, 
      {
       "output_type": "stream", 
       "stream": "stdout", 
       "text": [
        ""
       ]
      }
     ], 
     "prompt_number": 1
    }, 
    {
     "cell_type": "code", 
     "collapsed": true, 
     "input": [
      "%run graph_representation.py"
     ], 
     "language": "python", 
     "outputs": [], 
     "prompt_number": 2
    }, 
    {
     "cell_type": "code", 
     "collapsed": true, 
     "input": [
      "#fig, ax = plt.subplots(1,1)", 
      "#plot_cells_sz(eptm, ax, efilt=None)"
     ], 
     "language": "python", 
     "outputs": [], 
     "prompt_number": 3
    }, 
    {
     "cell_type": "code", 
     "collapsed": false, 
     "input": [
      "eptm.graph.set_vertex_filter(eptm.is_cell_vert, ", 
      "                             inverted=True)", 
      "mid_z = (eptm.zeds.fa.min() +  eptm.zeds.fa.max())/2.", 
      "index = np.abs(eptm.zeds.fa - mid_z).argmin()", 
      "closer_z = eptm.zeds.fa[index]", 
      "on_frontier = eptm.graph.new_edge_property(\"bool\")", 
      "on_frontier.fa = 0", 
      "eptm.graph.set_edge_filter(eptm.is_junction_edge)", 
      "for edge in eptm.junctions:", 
      "    z_src = eptm.zeds[edge.source()]", 
      "    z_trgt = eptm.zeds[edge.target()]", 
      "    s_src = eptm.sigmas[edge.source()]", 
      "    s_trgt = eptm.sigmas[edge.target()]", 
      "    if abs(z_src - closer_z) < 1e-2:", 
      "        on_frontier[edge] = 1 if s_src != s_trgt else 0", 
      "    elif abs(z_trgt - closer_z) < 1e-2:", 
      "        on_frontier[edge] = 1 if s_src != s_trgt else 0", 
      "print on_frontier.fa.sum()", 
      "eptm.graph.set_vertex_filter(None)"
     ], 
     "language": "python", 
     "outputs": [
      {
       "output_type": "stream", 
       "stream": "stdout", 
       "text": [
        "18"
       ]
      }
     ], 
     "prompt_number": 9
    }, 
    {
     "cell_type": "code", 
     "collapsed": false, 
     "input": [
      "plot_cells_sz(eptm, ax=None, efilt=on_frontier)"
     ], 
     "language": "python", 
     "outputs": [
      {
       "output_type": "pyout", 
       "prompt_number": 5, 
       "text": [
        "<matplotlib.axes.AxesSubplot at 0xab2ffcc>"
       ]
      }
     ], 
     "prompt_number": 5
    }, 
    {
     "cell_type": "code", 
     "collapsed": true, 
     "input": [
      "#eptm.graph.set_edge_filter(on_frontier)", 
      "#eptm.junctions.line_tensions.fa *= 1.2"
     ], 
     "language": "python", 
     "outputs": [], 
     "prompt_number": 6
    }, 
    {
     "cell_type": "code", 
     "collapsed": false, 
     "input": [
      "eptm.graph.set_edge_filter(None)", 
      "cell = eptm.graph.vertex(17)", 
      "eptm.update_gradient()", 
      "eptm.set_local_mask(cell)", 
      "plot_gradients(eptm, ax=None, scale=10.)"
     ], 
     "language": "python", 
     "outputs": [
      {
       "output_type": "pyout", 
       "prompt_number": 7, 
       "text": [
        "<matplotlib.axes.AxesSubplot at 0xadf05ac>"
       ]
      }
     ], 
     "prompt_number": 7
    }, 
    {
     "cell_type": "code", 
     "collapsed": true, 
     "input": [
      "plot(eptm.u_dzeds.a, 'o')"
     ], 
     "language": "python", 
     "outputs": [], 
     "prompt_number": 18
    }, 
    {
     "cell_type": "code", 
     "collapsed": true, 
     "input": [], 
     "language": "python", 
     "outputs": []
    }
   ]
  }
 ]
}