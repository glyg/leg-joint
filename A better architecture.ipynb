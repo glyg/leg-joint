{
 "metadata": {
  "name": "A better architecture"
 }, 
 "nbformat": 2, 
 "worksheets": [
  {
   "cells": [
    {
     "cell_type": "markdown", 
     "source": [
      "", 
      "# The donut shaped leg", 
      "## Further down the road"
     ]
    }, 
    {
     "cell_type": "code", 
     "collapsed": false, 
     "input": [
      "from objects import Epithelium", 
      "eptm = Epithelium()", 
      "#dmap = eptm.cell_network.draw()     ", 
      "cells = eptm.cell_network", 
      "print cells.graph", 
      "", 
      "cell = cells.graph.vertex(100)"
     ], 
     "language": "python", 
     "outputs": [
      {
       "output_type": "stream", 
       "stream": "stdout", 
       "text": [
        "<Graph object, undirected, with 620 vertices and 1820 edges at 0xad5e50c>"
       ]
      }
     ], 
     "prompt_number": 1
    }, 
    {
     "cell_type": "code", 
     "collapsed": false, 
     "input": [
      "cells.rtz_pos[cell].a"
     ], 
     "language": "python", 
     "outputs": [
      {
       "output_type": "pyout", 
       "prompt_number": 2, 
       "text": [
        "array([ 30.       ,   1.4023439, -42.       ])"
       ]
      }
     ], 
     "prompt_number": 2
    }, 
    {
     "cell_type": "code", 
     "collapsed": false, 
     "input": [
      "cells.compute_voronoi()"
     ], 
     "language": "python", 
     "outputs": [], 
     "prompt_number": 3
    }, 
    {
     "cell_type": "code", 
     "collapsed": true, 
     "input": [
      "run graph_representation.py"
     ], 
     "language": "python", 
     "outputs": [], 
     "prompt_number": 4
    }, 
    {
     "cell_type": "code", 
     "collapsed": false, 
     "input": [], 
     "language": "python", 
     "outputs": [], 
     "prompt_number": 4
    }
   ]
  }
 ]
}