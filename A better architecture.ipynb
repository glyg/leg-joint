{
 "metadata": {
  "name": "A better architecture"
 }, 
 "nbformat": 2, 
 "worksheets": [
  {
   "cells": [
    {
     "cell_type": "markdown", 
     "source": [
      "", 
      "# The donut shaped leg", 
      "## Further down the road"
     ]
    }, 
    {
     "cell_type": "code", 
     "collapsed": false, 
     "input": [
      "from objects import Epithelium", 
      "eptm = Epithelium()", 
      "#dmap = eptm.cell_network.draw()     ", 
      "cells = eptm.cells", 
      "print cells.graph", 
      "", 
      "cell = cells.graph.vertex(100)"
     ], 
     "language": "python", 
     "outputs": [
      {
       "output_type": "stream", 
       "stream": "stdout", 
       "text": [
        "<Graph object, undirected, with 620 vertices and 9000 edges at 0xa3139ec>"
       ]
      }
     ], 
     "prompt_number": 1
    }, 
    {
     "cell_type": "code", 
     "collapsed": false, 
     "input": [
      "cells.compute_voronoi()"
     ], 
     "language": "python", 
     "outputs": [], 
     "prompt_number": 2
    }, 
    {
     "cell_type": "code", 
     "collapsed": true, 
     "input": [
      "run graph_representation.py"
     ], 
     "language": "python", 
     "outputs": [], 
     "prompt_number": 3
    }, 
    {
     "cell_type": "code", 
     "collapsed": true, 
     "input": [], 
     "language": "python", 
     "outputs": []
    }
   ]
  }
 ]
}