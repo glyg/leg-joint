{
 "metadata": {
  "name": "type 1 transition"
 }, 
 "nbformat": 2, 
 "worksheets": [
  {
   "cells": [
    {
     "cell_type": "code", 
     "collapsed": false, 
     "input": [
      "from dynamics import Epithelium", 
      "eptm = Epithelium(paramfile='default/few_big_cells.xml')"
     ], 
     "language": "python", 
     "outputs": [], 
     "prompt_number": 1
    }, 
    {
     "cell_type": "code", 
     "collapsed": true, 
     "input": [
      "%run graph_representation.py", 
      "# plot_cells_sz(eptm, vfilt=None)"
     ], 
     "language": "python", 
     "outputs": [], 
     "prompt_number": 2
    }, 
    {
     "cell_type": "code", 
     "collapsed": true, 
     "input": [
      "cell1, cell3 = eptm.graph.vertex(43), eptm.graph.vertex(44)", 
      "eptm.set_local_mask(cell1)", 
      "eptm.set_local_mask(cell3)"
     ], 
     "language": "python", 
     "outputs": [], 
     "prompt_number": 3
    }, 
    {
     "cell_type": "code", 
     "collapsed": false, 
     "input": [
      "fig, axes = plt.subplots(1, 2)", 
      "plot_cells_sz(eptm, ax=axes[0], vfilt=eptm.is_local_vert, efilt=eptm.is_local_edge)"
     ], 
     "language": "python", 
     "outputs": [], 
     "prompt_number": 4
    }, 
    {
     "cell_type": "code", 
     "collapsed": false, 
     "input": [
      "modified_cells, modified_jverts = eptm.type1_transition((cell1, cell3))", 
      "plot_cells_sz(eptm, ax=axes[1], vfilt=eptm.is_local_vert, efilt=eptm.is_local_edge)"
     ], 
     "language": "python", 
     "outputs": [], 
     "prompt_number": 5
    }, 
    {
     "cell_type": "code", 
     "collapsed": false, 
     "input": [
      "eptm.update_gradient()", 
      "plot_gradients(eptm, axes[1], scale=0.01)", 
      "#pos0, pos1 = eptm.find_energy_min(vfilt=eptm.is_local_vert)"
     ], 
     "language": "python", 
     "outputs": [], 
     "prompt_number": 6
    }, 
    {
     "cell_type": "code", 
     "collapsed": true, 
     "input": [
      "eptm.remove_local_mask(cell1)", 
      "eptm.remove_local_mask(cell3)"
     ], 
     "language": "python", 
     "outputs": [], 
     "prompt_number": 14
    }
   ]
  }
 ]
}