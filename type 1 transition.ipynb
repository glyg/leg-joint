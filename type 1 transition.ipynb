{
 "metadata": {
  "name": "type 1 transition"
 }, 
 "nbformat": 2, 
 "worksheets": [
  {
   "cells": [
    {
     "cell_type": "code", 
     "collapsed": false, 
     "input": [
      "from dynamics import Epithelium", 
      "eptm = Epithelium(paramfile='default/few_big_cells.xml')"
     ], 
     "language": "python", 
     "outputs": [
      {
       "output_type": "stream", 
       "stream": "stdout", 
       "text": [
        "2 triangles were dropped", 
        "2 junction edges were dropped"
       ]
      }, 
      {
       "output_type": "stream", 
       "stream": "stdout", 
       "text": [
        "", 
        "Scaling all the distances by a factor 0.777"
       ]
      }, 
      {
       "output_type": "stream", 
       "stream": "stdout", 
       "text": [
        ""
       ]
      }
     ], 
     "prompt_number": 1
    }, 
    {
     "cell_type": "code", 
     "collapsed": true, 
     "input": [
      "%run graph_representation.py", 
      "# plot_cells_sz(eptm, vfilt=None)"
     ], 
     "language": "python", 
     "outputs": [], 
     "prompt_number": 2
    }, 
    {
     "cell_type": "code", 
     "collapsed": true, 
     "input": [
      "cell1, cell3 = eptm.graph.vertex(43), eptm.graph.vertex(44)", 
      "eptm.set_local_mask(cell1)", 
      "eptm.set_local_mask(cell3)"
     ], 
     "language": "python", 
     "outputs": [], 
     "prompt_number": 3
    }, 
    {
     "cell_type": "code", 
     "collapsed": false, 
     "input": [
      "fig, axes = plt.subplots(1, 2)", 
      "plot_cells_sz(eptm, ax=axes[0], vfilt=eptm.is_local_vert, efilt=eptm.is_local_edge)"
     ], 
     "language": "python", 
     "outputs": [
      {
       "output_type": "pyout", 
       "prompt_number": 4, 
       "text": [
        "<matplotlib.axes.AxesSubplot at 0xa8dab6c>"
       ]
      }
     ], 
     "prompt_number": 4
    }, 
    {
     "cell_type": "code", 
     "collapsed": false, 
     "input": [
      "modified_cells, modified_jverts = eptm.type1_transition((cell1, cell3))", 
      "plot_cells_sz(eptm, ax=axes[1], vfilt=eptm.is_local_vert, efilt=eptm.is_local_edge)"
     ], 
     "language": "python", 
     "outputs": [
      {
       "output_type": "stream", 
       "stream": "stdout", 
       "text": [
        "adjacent cells edge be : 44, 53", 
        "cell 1: 43", 
        "cell 2: 53", 
        "cell 3: 44", 
        "cell 4: 34", 
        "junction vertice a: 171", 
        "junction vertice b: 186", 
        "junction vertice c: 168", 
        "junction vertice d: 183", 
        "junction vertice e: 189", 
        "junction vertice f: 170"
       ]
      }, 
      {
       "output_type": "pyout", 
       "prompt_number": 5, 
       "text": [
        "<matplotlib.axes.AxesSubplot at 0xa9b6a8c>"
       ]
      }
     ], 
     "prompt_number": 5
    }, 
    {
     "cell_type": "code", 
     "collapsed": false, 
     "input": [
      "eptm.update_gradient()", 
      "plot_gradients(eptm, axes[1], scale=1.)", 
      "#pos0, pos1 = eptm.find_energy_min(vfilt=eptm.is_local_vert)"
     ], 
     "language": "python", 
     "outputs": [
      {
       "output_type": "pyout", 
       "prompt_number": 6, 
       "text": [
        "<matplotlib.axes.AxesSubplot at 0xa9b6a8c>"
       ]
      }
     ], 
     "prompt_number": 6
    }, 
    {
     "cell_type": "code", 
     "collapsed": true, 
     "input": [
      "eptm.remove_local_mask(cell1)", 
      "eptm.remove_local_mask(cell3)"
     ], 
     "language": "python", 
     "outputs": [], 
     "prompt_number": 14
    }
   ]
  }
 ]
}