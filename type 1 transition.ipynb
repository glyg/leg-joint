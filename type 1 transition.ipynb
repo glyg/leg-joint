{
 "metadata": {
  "name": "type 1 transition"
 }, 
 "nbformat": 2, 
 "worksheets": [
  {
   "cells": [
    {
     "cell_type": "code", 
     "collapsed": false, 
     "input": [
      "from dynamics import Epithelium", 
      "eptm = Epithelium(paramfile='default/few_big_cells.xml')"
     ], 
     "language": "python", 
     "outputs": [
      {
       "output_type": "stream", 
       "stream": "stdout", 
       "text": [
        "2 triangles were dropped", 
        "2 junction edges were dropped"
       ]
      }, 
      {
       "output_type": "stream", 
       "stream": "stdout", 
       "text": [
        ""
       ]
      }
     ], 
     "prompt_number": 1
    }, 
    {
     "cell_type": "code", 
     "collapsed": true, 
     "input": [
      "%run graph_representation.py", 
      "# plot_cells_sz(eptm, vfilt=None)"
     ], 
     "language": "python", 
     "outputs": [], 
     "prompt_number": 2
    }, 
    {
     "cell_type": "code", 
     "collapsed": true, 
     "input": [
      "cell1, cell3 = eptm.graph.vertex(43), eptm.graph.vertex(44)", 
      "eptm.set_local_mask(cell1)", 
      "eptm.set_local_mask(cell3)"
     ], 
     "language": "python", 
     "outputs": [], 
     "prompt_number": 3
    }, 
    {
     "cell_type": "code", 
     "collapsed": true, 
     "input": [
      "fig, ax = plt.subplots(1,1)", 
      "plot_cells_sz(eptm, ax=ax, vfilt=eptm.is_local_vert)"
     ], 
     "language": "python", 
     "outputs": [], 
     "prompt_number": 4
    }, 
    {
     "cell_type": "code", 
     "collapsed": false, 
     "input": [
      "modified_cells, modified_jverts = eptm.type1_transition((cell1, cell3))", 
      "plot_cells_sz(eptm, ax=ax, vfilt=eptm.is_local_vert)"
     ], 
     "language": "python", 
     "outputs": [
      {
       "output_type": "stream", 
       "stream": "stdout", 
       "text": [
        "adjacent cells edge be : 44, 51", 
        "cell 1: 43", 
        "cell 2: 51", 
        "cell 3: 44", 
        "cell 4: 36", 
        "junction vertice a: 167", 
        "junction vertice b: 178", 
        "junction vertice c: 164", 
        "junction vertice d: 175", 
        "junction vertice e: 181", 
        "junction vertice f: 166"
       ]
      }
     ], 
     "prompt_number": 6
    }, 
    {
     "cell_type": "code", 
     "collapsed": false, 
     "input": [
      "#plot_gradients(eptm)", 
      "#pos0, pos1 = eptm.find_energy_min(vfilt=eptm.is_local_vert)"
     ], 
     "language": "python", 
     "outputs": [], 
     "prompt_number": 8
    }, 
    {
     "cell_type": "code", 
     "collapsed": true, 
     "input": [], 
     "language": "python", 
     "outputs": []
    }
   ]
  }
 ]
}